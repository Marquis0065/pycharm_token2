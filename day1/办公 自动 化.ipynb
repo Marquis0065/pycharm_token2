{
 "cells": [
  {
   "cell_type": "code",
   "execution_count": 2,
   "metadata": {
    "collapsed": true
   },
   "outputs": [],
   "source": [
    "from IPython.core.interactiveshell import InteractiveShell\n",
    "InteractiveShell.ast_node_interactivity = \"all\""
   ]
  },
  {
   "cell_type": "code",
   "execution_count": 1,
   "outputs": [],
   "source": [
    "import matplotlib.pyplot as plt\n",
    "import numpy as np\n",
    "import pandas as pd"
   ],
   "metadata": {
    "collapsed": false
   }
  },
  {
   "cell_type": "code",
   "execution_count": 3,
   "outputs": [
    {
     "name": "stderr",
     "output_type": "stream",
     "text": [
      "C:\\Users\\fzh00\\AppData\\Local\\Temp\\ipykernel_4480\\381268240.py:2: MatplotlibDeprecationWarning: The seaborn styles shipped by Matplotlib are deprecated since 3.6, as they no longer correspond to the styles shipped by seaborn. However, they will remain available as 'seaborn-v0_8-<style>'. Alternatively, directly use the seaborn API instead.\n",
      "  plt.style.use('seaborn')\n"
     ]
    }
   ],
   "source": [
    "#设置绘图风格\n",
    "plt.style.use('seaborn')\n",
    "#设置字体为黑色\n",
    "plt.rcParams['font.family']='SimHei'\n",
    "#显示符号\n",
    "plt.rcParams['axes.unicode_minus']= False"
   ],
   "metadata": {
    "collapsed": false
   }
  },
  {
   "cell_type": "code",
   "execution_count": 4,
   "outputs": [],
   "source": [
    "data1 = pd.read_excel(r\"C:\\Data\\Jupyter_file\\Python数据清洗基础\\办公自动化\\1、从多个表中提取指定数据到新表\\办公用品采购表_2020年.xlsx\")"
   ],
   "metadata": {
    "collapsed": false
   }
  },
  {
   "cell_type": "code",
   "execution_count": 5,
   "outputs": [
    {
     "data": {
      "text/plain": "           日期 物品名称  数量   单价   采购金额\n0  2020-01-01  便签纸  14  9.9  138.6",
      "text/html": "<div>\n<style scoped>\n    .dataframe tbody tr th:only-of-type {\n        vertical-align: middle;\n    }\n\n    .dataframe tbody tr th {\n        vertical-align: top;\n    }\n\n    .dataframe thead th {\n        text-align: right;\n    }\n</style>\n<table border=\"1\" class=\"dataframe\">\n  <thead>\n    <tr style=\"text-align: right;\">\n      <th></th>\n      <th>日期</th>\n      <th>物品名称</th>\n      <th>数量</th>\n      <th>单价</th>\n      <th>采购金额</th>\n    </tr>\n  </thead>\n  <tbody>\n    <tr>\n      <th>0</th>\n      <td>2020-01-01</td>\n      <td>便签纸</td>\n      <td>14</td>\n      <td>9.9</td>\n      <td>138.6</td>\n    </tr>\n  </tbody>\n</table>\n</div>"
     },
     "execution_count": 5,
     "metadata": {},
     "output_type": "execute_result"
    }
   ],
   "source": [
    "data1.head(1)"
   ],
   "metadata": {
    "collapsed": false
   }
  },
  {
   "cell_type": "code",
   "execution_count": 6,
   "outputs": [
    {
     "name": "stdout",
     "output_type": "stream",
     "text": [
      "<class 'pandas.core.frame.DataFrame'>\n",
      "RangeIndex: 19 entries, 0 to 18\n",
      "Data columns (total 5 columns):\n",
      " #   Column  Non-Null Count  Dtype  \n",
      "---  ------  --------------  -----  \n",
      " 0   日期      19 non-null     object \n",
      " 1   物品名称    19 non-null     object \n",
      " 2   数量      19 non-null     int64  \n",
      " 3   单价      19 non-null     float64\n",
      " 4   采购金额    19 non-null     float64\n",
      "dtypes: float64(2), int64(1), object(2)\n",
      "memory usage: 888.0+ bytes\n"
     ]
    }
   ],
   "source": [
    "data1.info()"
   ],
   "metadata": {
    "collapsed": false
   }
  },
  {
   "cell_type": "code",
   "execution_count": 8,
   "outputs": [
    {
     "data": {
      "text/plain": "              数量          单价          采购金额\ncount  19.000000   19.000000     19.000000\nmean   22.105263   80.452632   2200.336842\nstd    13.731127  120.347822   4075.311722\nmin     3.000000    5.900000     39.600000\n25%    14.000000   10.200000    155.850000\n50%    20.000000   33.900000    475.200000\n75%    31.500000  110.500000   2305.000000\nmax    48.000000  529.000000  17457.000000",
      "text/html": "<div>\n<style scoped>\n    .dataframe tbody tr th:only-of-type {\n        vertical-align: middle;\n    }\n\n    .dataframe tbody tr th {\n        vertical-align: top;\n    }\n\n    .dataframe thead th {\n        text-align: right;\n    }\n</style>\n<table border=\"1\" class=\"dataframe\">\n  <thead>\n    <tr style=\"text-align: right;\">\n      <th></th>\n      <th>数量</th>\n      <th>单价</th>\n      <th>采购金额</th>\n    </tr>\n  </thead>\n  <tbody>\n    <tr>\n      <th>count</th>\n      <td>19.000000</td>\n      <td>19.000000</td>\n      <td>19.000000</td>\n    </tr>\n    <tr>\n      <th>mean</th>\n      <td>22.105263</td>\n      <td>80.452632</td>\n      <td>2200.336842</td>\n    </tr>\n    <tr>\n      <th>std</th>\n      <td>13.731127</td>\n      <td>120.347822</td>\n      <td>4075.311722</td>\n    </tr>\n    <tr>\n      <th>min</th>\n      <td>3.000000</td>\n      <td>5.900000</td>\n      <td>39.600000</td>\n    </tr>\n    <tr>\n      <th>25%</th>\n      <td>14.000000</td>\n      <td>10.200000</td>\n      <td>155.850000</td>\n    </tr>\n    <tr>\n      <th>50%</th>\n      <td>20.000000</td>\n      <td>33.900000</td>\n      <td>475.200000</td>\n    </tr>\n    <tr>\n      <th>75%</th>\n      <td>31.500000</td>\n      <td>110.500000</td>\n      <td>2305.000000</td>\n    </tr>\n    <tr>\n      <th>max</th>\n      <td>48.000000</td>\n      <td>529.000000</td>\n      <td>17457.000000</td>\n    </tr>\n  </tbody>\n</table>\n</div>"
     },
     "execution_count": 8,
     "metadata": {},
     "output_type": "execute_result"
    }
   ],
   "source": [
    "data1.describe()"
   ],
   "metadata": {
    "collapsed": false
   }
  },
  {
   "cell_type": "code",
   "execution_count": 9,
   "outputs": [
    {
     "data": {
      "text/plain": "'C:\\\\Users\\\\fzh00\\\\PycharmProjects\\\\pythonProject1\\\\day1'"
     },
     "execution_count": 9,
     "metadata": {},
     "output_type": "execute_result"
    }
   ],
   "source": [
    "%pwd"
   ],
   "metadata": {
    "collapsed": false
   }
  },
  {
   "cell_type": "code",
   "execution_count": 15,
   "outputs": [
    {
     "data": {
      "text/plain": "           日期 物品名称  数量     单价     采购金额\n3  2020-02-05  饮水机  37  359.0  13283.0\n1  2020-03-02  饮水机  12  359.0   4308.0\n8  2020-06-11  饮水机  34  359.0  12206.0\n5  2020-10-12  饮水机  23  359.0   8257.0",
      "text/html": "<div>\n<style scoped>\n    .dataframe tbody tr th:only-of-type {\n        vertical-align: middle;\n    }\n\n    .dataframe tbody tr th {\n        vertical-align: top;\n    }\n\n    .dataframe thead th {\n        text-align: right;\n    }\n</style>\n<table border=\"1\" class=\"dataframe\">\n  <thead>\n    <tr style=\"text-align: right;\">\n      <th></th>\n      <th>日期</th>\n      <th>物品名称</th>\n      <th>数量</th>\n      <th>单价</th>\n      <th>采购金额</th>\n    </tr>\n  </thead>\n  <tbody>\n    <tr>\n      <th>3</th>\n      <td>2020-02-05</td>\n      <td>饮水机</td>\n      <td>37</td>\n      <td>359.0</td>\n      <td>13283.0</td>\n    </tr>\n    <tr>\n      <th>1</th>\n      <td>2020-03-02</td>\n      <td>饮水机</td>\n      <td>12</td>\n      <td>359.0</td>\n      <td>4308.0</td>\n    </tr>\n    <tr>\n      <th>8</th>\n      <td>2020-06-11</td>\n      <td>饮水机</td>\n      <td>34</td>\n      <td>359.0</td>\n      <td>12206.0</td>\n    </tr>\n    <tr>\n      <th>5</th>\n      <td>2020-10-12</td>\n      <td>饮水机</td>\n      <td>23</td>\n      <td>359.0</td>\n      <td>8257.0</td>\n    </tr>\n  </tbody>\n</table>\n</div>"
     },
     "execution_count": 15,
     "metadata": {},
     "output_type": "execute_result"
    }
   ],
   "source": [
    "df = pd.DataFrame()\n",
    "for i in range(12):\n",
    "    data = pd.read_excel(r\"C:\\Data\\Jupyter_file\\Python数据清洗基础\\办公自动化\\1、从多个表中提取指定数据到新表\\办公用品采购表_2020年.xlsx\",i)\n",
    "    temp = data[data['物品名称']=='饮水机']\n",
    "    df = pd.concat([df,temp])\n",
    "df.head()"
   ],
   "metadata": {
    "collapsed": false
   }
  },
  {
   "cell_type": "code",
   "execution_count": 16,
   "outputs": [
    {
     "data": {
      "text/plain": "Sheets([<Sheet [办公用品采购表_2020年.xlsx]1月>, <Sheet [办公用品采购表_2020年.xlsx]2月>, <Sheet [办公用品采购表_2020年.xlsx]3月>, ...])"
     },
     "execution_count": 16,
     "metadata": {},
     "output_type": "execute_result"
    }
   ],
   "source": [
    "import xlwings as xw\n",
    "#建议连接\n",
    "app = xw.App(visible=False,add_book=False)\n",
    "book = app.books.open(r\"C:\\Data\\Jupyter_file\\Python数据清洗基础\\办公自动化\\1、从多个表中提取指定数据到新表\\办公用品采购表_2020年.xlsx\")\n",
    "sheets = book.sheets #获取所有工作表的名字\n",
    "sheets"
   ],
   "metadata": {
    "collapsed": false
   }
  },
  {
   "cell_type": "code",
   "execution_count": 17,
   "outputs": [
    {
     "data": {
      "text/plain": "           日期 物品名称  数量    单价   采购金额\n1  2020-01-02  拉链袋  24  12.5  300.0\n4  2020-03-11  拉链袋  10  12.5  125.0\n4  2020-05-20  拉链袋  36  12.5  450.0\n4  2020-08-18  拉链袋  23  12.5  287.5\n5  2020-09-13  拉链袋  43  12.5  537.5\n7  2020-11-21  拉链袋  17  12.5  212.5",
      "text/html": "<div>\n<style scoped>\n    .dataframe tbody tr th:only-of-type {\n        vertical-align: middle;\n    }\n\n    .dataframe tbody tr th {\n        vertical-align: top;\n    }\n\n    .dataframe thead th {\n        text-align: right;\n    }\n</style>\n<table border=\"1\" class=\"dataframe\">\n  <thead>\n    <tr style=\"text-align: right;\">\n      <th></th>\n      <th>日期</th>\n      <th>物品名称</th>\n      <th>数量</th>\n      <th>单价</th>\n      <th>采购金额</th>\n    </tr>\n  </thead>\n  <tbody>\n    <tr>\n      <th>1</th>\n      <td>2020-01-02</td>\n      <td>拉链袋</td>\n      <td>24</td>\n      <td>12.5</td>\n      <td>300.0</td>\n    </tr>\n    <tr>\n      <th>4</th>\n      <td>2020-03-11</td>\n      <td>拉链袋</td>\n      <td>10</td>\n      <td>12.5</td>\n      <td>125.0</td>\n    </tr>\n    <tr>\n      <th>4</th>\n      <td>2020-05-20</td>\n      <td>拉链袋</td>\n      <td>36</td>\n      <td>12.5</td>\n      <td>450.0</td>\n    </tr>\n    <tr>\n      <th>4</th>\n      <td>2020-08-18</td>\n      <td>拉链袋</td>\n      <td>23</td>\n      <td>12.5</td>\n      <td>287.5</td>\n    </tr>\n    <tr>\n      <th>5</th>\n      <td>2020-09-13</td>\n      <td>拉链袋</td>\n      <td>43</td>\n      <td>12.5</td>\n      <td>537.5</td>\n    </tr>\n    <tr>\n      <th>7</th>\n      <td>2020-11-21</td>\n      <td>拉链袋</td>\n      <td>17</td>\n      <td>12.5</td>\n      <td>212.5</td>\n    </tr>\n  </tbody>\n</table>\n</div>"
     },
     "execution_count": 17,
     "metadata": {},
     "output_type": "execute_result"
    }
   ],
   "source": [
    "df = pd.DataFrame()\n",
    "for i in range(len(sheets)):\n",
    "    data = pd.read_excel(r\"C:\\Data\\Jupyter_file\\Python数据清洗基础\\办公自动化\\1、从多个表中提取指定数据到新表\\办公用品采购表_2020年.xlsx\",i)\n",
    "    df1 = data[data.物品名称 == '拉链袋']\n",
    "    df= pd.concat([df,df1])\n",
    "df\n",
    "book.close() #关闭工作簿\n",
    "app.quit() #断开连接"
   ],
   "metadata": {
    "collapsed": false
   }
  },
  {
   "cell_type": "code",
   "execution_count": 18,
   "outputs": [],
   "source": [
    "#封闭函数\n",
    "def auto_(io_from,name,io_to):\n",
    "    '''\n",
    "    提取指定工作簿中多个工作表的数据\n",
    "    输出值：一个工作表\n",
    "    参数：io_from 目标工作簿的地址名称,name：需要查看的名称\n",
    "          io_to:导出的文件地址\n",
    "    '''\n",
    "    import xlwings as xw\n",
    "    import pandas as pd\n",
    "    #建议连接\n",
    "    app = xw.App(visible=False,add_book=False)\n",
    "    book = app.books.open(r\"{}\".format(io_from))\n",
    "    sheets = book.sheets #获取所有工作表的名字\n",
    "\n",
    "\n",
    "    df = pd.DataFrame()\n",
    "    for i in range(len(sheets)):\n",
    "        data = pd.read_excel(io_from,i)\n",
    "        df1 = data[data.物品名称 == name]\n",
    "        df= pd.concat([df,df1])\n",
    "    df.to_excel(io_to,index=False)\n",
    "    book.close() #关闭工作簿\n",
    "    app.quit() #断开连接"
   ],
   "metadata": {
    "collapsed": false
   }
  },
  {
   "cell_type": "code",
   "execution_count": 19,
   "outputs": [],
   "source": [
    "auto_(r\"C:\\Data\\Jupyter_file\\Python数据清洗基础\\办公自动化\\1、从多个表中提取指定数据到新表\\办公用品采购表_2020年.xlsx\",\n",
    "     '拉链袋','auto自动导出_拉链袋2.xlsx')"
   ],
   "metadata": {
    "collapsed": false
   }
  },
  {
   "cell_type": "code",
   "execution_count": 21,
   "outputs": [
    {
     "data": {
      "text/plain": "           日期 物品名称  数量    单价   采购金额\n1  2020-01-02  拉链袋  24  12.5  300.0\n4  2020-03-11  拉链袋  10  12.5  125.0\n4  2020-05-20  拉链袋  36  12.5  450.0\n4  2020-08-18  拉链袋  23  12.5  287.5\n5  2020-09-13  拉链袋  43  12.5  537.5",
      "text/html": "<div>\n<style scoped>\n    .dataframe tbody tr th:only-of-type {\n        vertical-align: middle;\n    }\n\n    .dataframe tbody tr th {\n        vertical-align: top;\n    }\n\n    .dataframe thead th {\n        text-align: right;\n    }\n</style>\n<table border=\"1\" class=\"dataframe\">\n  <thead>\n    <tr style=\"text-align: right;\">\n      <th></th>\n      <th>日期</th>\n      <th>物品名称</th>\n      <th>数量</th>\n      <th>单价</th>\n      <th>采购金额</th>\n    </tr>\n  </thead>\n  <tbody>\n    <tr>\n      <th>1</th>\n      <td>2020-01-02</td>\n      <td>拉链袋</td>\n      <td>24</td>\n      <td>12.5</td>\n      <td>300.0</td>\n    </tr>\n    <tr>\n      <th>4</th>\n      <td>2020-03-11</td>\n      <td>拉链袋</td>\n      <td>10</td>\n      <td>12.5</td>\n      <td>125.0</td>\n    </tr>\n    <tr>\n      <th>4</th>\n      <td>2020-05-20</td>\n      <td>拉链袋</td>\n      <td>36</td>\n      <td>12.5</td>\n      <td>450.0</td>\n    </tr>\n    <tr>\n      <th>4</th>\n      <td>2020-08-18</td>\n      <td>拉链袋</td>\n      <td>23</td>\n      <td>12.5</td>\n      <td>287.5</td>\n    </tr>\n    <tr>\n      <th>5</th>\n      <td>2020-09-13</td>\n      <td>拉链袋</td>\n      <td>43</td>\n      <td>12.5</td>\n      <td>537.5</td>\n    </tr>\n  </tbody>\n</table>\n</div>"
     },
     "execution_count": 21,
     "metadata": {},
     "output_type": "execute_result"
    }
   ],
   "source": [
    "df.head()"
   ],
   "metadata": {
    "collapsed": false
   }
  },
  {
   "cell_type": "code",
   "execution_count": 25,
   "outputs": [
    {
     "data": {
      "text/plain": "           日期 物品名称  数量     单价     采购金额\n0  2020-12-01  档案柜  45  529.0  23805.0\n1  2020-12-05  插线板  26   99.0   2574.0\n2  2020-12-06   墨盒  45  139.0   6255.0\n3  2020-12-07  活页本  36    9.8    352.8\n4  2020-12-07  便签纸  42    9.9    415.8",
      "text/html": "<div>\n<style scoped>\n    .dataframe tbody tr th:only-of-type {\n        vertical-align: middle;\n    }\n\n    .dataframe tbody tr th {\n        vertical-align: top;\n    }\n\n    .dataframe thead th {\n        text-align: right;\n    }\n</style>\n<table border=\"1\" class=\"dataframe\">\n  <thead>\n    <tr style=\"text-align: right;\">\n      <th></th>\n      <th>日期</th>\n      <th>物品名称</th>\n      <th>数量</th>\n      <th>单价</th>\n      <th>采购金额</th>\n    </tr>\n  </thead>\n  <tbody>\n    <tr>\n      <th>0</th>\n      <td>2020-12-01</td>\n      <td>档案柜</td>\n      <td>45</td>\n      <td>529.0</td>\n      <td>23805.0</td>\n    </tr>\n    <tr>\n      <th>1</th>\n      <td>2020-12-05</td>\n      <td>插线板</td>\n      <td>26</td>\n      <td>99.0</td>\n      <td>2574.0</td>\n    </tr>\n    <tr>\n      <th>2</th>\n      <td>2020-12-06</td>\n      <td>墨盒</td>\n      <td>45</td>\n      <td>139.0</td>\n      <td>6255.0</td>\n    </tr>\n    <tr>\n      <th>3</th>\n      <td>2020-12-07</td>\n      <td>活页本</td>\n      <td>36</td>\n      <td>9.8</td>\n      <td>352.8</td>\n    </tr>\n    <tr>\n      <th>4</th>\n      <td>2020-12-07</td>\n      <td>便签纸</td>\n      <td>42</td>\n      <td>9.9</td>\n      <td>415.8</td>\n    </tr>\n  </tbody>\n</table>\n</div>"
     },
     "execution_count": 25,
     "metadata": {},
     "output_type": "execute_result"
    }
   ],
   "source": [
    "data.head()"
   ],
   "metadata": {
    "collapsed": false
   }
  },
  {
   "cell_type": "code",
   "execution_count": 29,
   "outputs": [
    {
     "data": {
      "text/plain": "           日期 物品名称  数量    单价   采购金额\n0  2020-01-01  便签纸  14   9.9  138.6\n1  2020-01-02  拉链袋  24  12.5  300.0\n2  2020-01-05  计算器  14  10.5  147.0\n3  2020-01-06  活页本  18   9.8  176.4\n4  2020-01-08  白板笔   6  10.9   65.4",
      "text/html": "<div>\n<style scoped>\n    .dataframe tbody tr th:only-of-type {\n        vertical-align: middle;\n    }\n\n    .dataframe tbody tr th {\n        vertical-align: top;\n    }\n\n    .dataframe thead th {\n        text-align: right;\n    }\n</style>\n<table border=\"1\" class=\"dataframe\">\n  <thead>\n    <tr style=\"text-align: right;\">\n      <th></th>\n      <th>日期</th>\n      <th>物品名称</th>\n      <th>数量</th>\n      <th>单价</th>\n      <th>采购金额</th>\n    </tr>\n  </thead>\n  <tbody>\n    <tr>\n      <th>0</th>\n      <td>2020-01-01</td>\n      <td>便签纸</td>\n      <td>14</td>\n      <td>9.9</td>\n      <td>138.6</td>\n    </tr>\n    <tr>\n      <th>1</th>\n      <td>2020-01-02</td>\n      <td>拉链袋</td>\n      <td>24</td>\n      <td>12.5</td>\n      <td>300.0</td>\n    </tr>\n    <tr>\n      <th>2</th>\n      <td>2020-01-05</td>\n      <td>计算器</td>\n      <td>14</td>\n      <td>10.5</td>\n      <td>147.0</td>\n    </tr>\n    <tr>\n      <th>3</th>\n      <td>2020-01-06</td>\n      <td>活页本</td>\n      <td>18</td>\n      <td>9.8</td>\n      <td>176.4</td>\n    </tr>\n    <tr>\n      <th>4</th>\n      <td>2020-01-08</td>\n      <td>白板笔</td>\n      <td>6</td>\n      <td>10.9</td>\n      <td>65.4</td>\n    </tr>\n  </tbody>\n</table>\n</div>"
     },
     "execution_count": 29,
     "metadata": {},
     "output_type": "execute_result"
    }
   ],
   "source": [
    "data1.head()"
   ],
   "metadata": {
    "collapsed": false
   }
  },
  {
   "cell_type": "code",
   "execution_count": 30,
   "outputs": [
    {
     "data": {
      "text/plain": "物品名称\nU盘      3\n中性笔    48\n便签纸    14\n切纸刀    30\n墨盒     16\n复印纸    20\n拉链袋    24\n插线板     7\n文件篮    36\n档案柜    33\n活页本    18\n白板笔     6\n硒鼓     41\n票据夹    14\n网线      4\n计算器    14\n订书机    27\n键盘     45\n鼠标     20\nName: 数量, dtype: int64"
     },
     "execution_count": 30,
     "metadata": {},
     "output_type": "execute_result"
    }
   ],
   "source": [
    "data1.groupby('物品名称').数量.sum()"
   ],
   "metadata": {
    "collapsed": false
   }
  },
  {
   "cell_type": "code",
   "execution_count": 31,
   "outputs": [
    {
     "data": {
      "text/plain": "<pandas.core.groupby.generic.DataFrameGroupBy object at 0x0000021E0729EA40>"
     },
     "execution_count": 31,
     "metadata": {},
     "output_type": "execute_result"
    }
   ],
   "source": [
    "data1.groupby('物品名称')"
   ],
   "metadata": {
    "collapsed": false
   }
  },
  {
   "cell_type": "code",
   "execution_count": 33,
   "outputs": [
    {
     "data": {
      "text/plain": "           日期 物品名称  数量    单价   采购金额\n2  2020-01-05  计算器  14  10.5  147.0",
      "text/html": "<div>\n<style scoped>\n    .dataframe tbody tr th:only-of-type {\n        vertical-align: middle;\n    }\n\n    .dataframe tbody tr th {\n        vertical-align: top;\n    }\n\n    .dataframe thead th {\n        text-align: right;\n    }\n</style>\n<table border=\"1\" class=\"dataframe\">\n  <thead>\n    <tr style=\"text-align: right;\">\n      <th></th>\n      <th>日期</th>\n      <th>物品名称</th>\n      <th>数量</th>\n      <th>单价</th>\n      <th>采购金额</th>\n    </tr>\n  </thead>\n  <tbody>\n    <tr>\n      <th>2</th>\n      <td>2020-01-05</td>\n      <td>计算器</td>\n      <td>14</td>\n      <td>10.5</td>\n      <td>147.0</td>\n    </tr>\n  </tbody>\n</table>\n</div>"
     },
     "execution_count": 33,
     "metadata": {},
     "output_type": "execute_result"
    }
   ],
   "source": [
    "data1.groupby('物品名称').get_group('计算器')"
   ],
   "metadata": {
    "collapsed": false
   }
  },
  {
   "cell_type": "code",
   "execution_count": 36,
   "outputs": [
    {
     "data": {
      "text/plain": "['1月.xlsx', '2月.xlsx', '3月.xlsx', '4月.xlsx', '5月.xlsx', '6月.xlsx', '~$1月.xlsx']"
     },
     "execution_count": 36,
     "metadata": {},
     "output_type": "execute_result"
    }
   ],
   "source": [
    "import os\n",
    "os.listdir(r\"C:\\Data\\Jupyter_file\\Python数据清洗基础\\办公自动化\\汇总多个工作簿数据\\销售统计\")"
   ],
   "metadata": {
    "collapsed": false
   }
  },
  {
   "cell_type": "code",
   "execution_count": 39,
   "outputs": [
    {
     "data": {
      "text/plain": "        1月   2月   3月   4月   5月   6月\n产品名称                               \n单肩包    699  233  323  377  413  481\n手提包    648  216  296  344  376  406\n背包    1029  343  473  551  603  659\n行李箱   1110  370  490  562  610  733\n钱包     735  245  325  373  405  483",
      "text/html": "<div>\n<style scoped>\n    .dataframe tbody tr th:only-of-type {\n        vertical-align: middle;\n    }\n\n    .dataframe tbody tr th {\n        vertical-align: top;\n    }\n\n    .dataframe thead th {\n        text-align: right;\n    }\n</style>\n<table border=\"1\" class=\"dataframe\">\n  <thead>\n    <tr style=\"text-align: right;\">\n      <th></th>\n      <th>1月</th>\n      <th>2月</th>\n      <th>3月</th>\n      <th>4月</th>\n      <th>5月</th>\n      <th>6月</th>\n    </tr>\n    <tr>\n      <th>产品名称</th>\n      <th></th>\n      <th></th>\n      <th></th>\n      <th></th>\n      <th></th>\n      <th></th>\n    </tr>\n  </thead>\n  <tbody>\n    <tr>\n      <th>单肩包</th>\n      <td>699</td>\n      <td>233</td>\n      <td>323</td>\n      <td>377</td>\n      <td>413</td>\n      <td>481</td>\n    </tr>\n    <tr>\n      <th>手提包</th>\n      <td>648</td>\n      <td>216</td>\n      <td>296</td>\n      <td>344</td>\n      <td>376</td>\n      <td>406</td>\n    </tr>\n    <tr>\n      <th>背包</th>\n      <td>1029</td>\n      <td>343</td>\n      <td>473</td>\n      <td>551</td>\n      <td>603</td>\n      <td>659</td>\n    </tr>\n    <tr>\n      <th>行李箱</th>\n      <td>1110</td>\n      <td>370</td>\n      <td>490</td>\n      <td>562</td>\n      <td>610</td>\n      <td>733</td>\n    </tr>\n    <tr>\n      <th>钱包</th>\n      <td>735</td>\n      <td>245</td>\n      <td>325</td>\n      <td>373</td>\n      <td>405</td>\n      <td>483</td>\n    </tr>\n  </tbody>\n</table>\n</div>"
     },
     "execution_count": 39,
     "metadata": {},
     "output_type": "execute_result"
    }
   ],
   "source": [
    "df = pd.DataFrame()\n",
    "for i in os.listdir(r\"C:\\Data\\Jupyter_file\\Python数据清洗基础\\办公自动化\\汇总多个工作簿数据\\销售统计\"):\n",
    "    if i.startswith('~$'):\n",
    "            continue\n",
    "    data = pd.read_excel(r\"C:\\Data\\Jupyter_file\\Python数据清洗基础\\办公自动化\\汇总多个工作簿数据\\销售统计\\{}\".format(i))\n",
    "    df1 = data.groupby('产品名称').agg({'销售数量（个）':sum})\n",
    "    df1.columns = [i.split('.')[0]]\n",
    "    df = pd.concat([df,df1],axis=1)\n",
    "df"
   ],
   "metadata": {
    "collapsed": false
   }
  },
  {
   "cell_type": "code",
   "execution_count": null,
   "outputs": [],
   "source": [],
   "metadata": {
    "collapsed": false
   }
  }
 ],
 "metadata": {
  "kernelspec": {
   "name": "cda_python",
   "language": "python",
   "display_name": "cda_python"
  },
  "language_info": {
   "codemirror_mode": {
    "name": "ipython",
    "version": 2
   },
   "file_extension": ".py",
   "mimetype": "text/x-python",
   "name": "python",
   "nbconvert_exporter": "python",
   "pygments_lexer": "ipython2",
   "version": "2.7.6"
  }
 },
 "nbformat": 4,
 "nbformat_minor": 0
}
