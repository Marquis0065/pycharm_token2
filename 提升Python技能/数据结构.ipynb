{
 "cells": [
  {
   "cell_type": "code",
   "execution_count": null,
   "outputs": [
    {
     "name": "stdout",
     "output_type": "stream",
     "text": [
      "result:\n"
     ]
    }
   ],
   "source": [
    "# 4个进程\n",
    "import time\n",
    "import random\n",
    "from multiprocessing import Process,Queue,current_process\n",
    "def worker(input:Queue,output:Queue):\n",
    "    for func,args in iter(input.get,'QUIT'):\n",
    "        result = calculate(func,args)\n",
    "        output.put(result)\n",
    "\n",
    "def calculate(func,args):\n",
    "    result = func(*args)\n",
    "    return f'{current_process()}:{func.__name__}{args}={result}'\n",
    "\n",
    "def mul(a,b):\n",
    "    time.sleep(0.5*random.random())\n",
    "    return a*b\n",
    "def plus(a,b):\n",
    "    time.sleep(0.5*random.random())\n",
    "    return a+b\n",
    "def main():\n",
    "    NUMBER_OF_PROCESS=4\n",
    "    COUNT_OF_TASK1=20\n",
    "    COUNT_OF_TASK2=10\n",
    "    TASK1=[(mul,(i,10))for i in range(COUNT_OF_TASK1)]\n",
    "    TASK2=[(plus,(i,20))for i in range(COUNT_OF_TASK2)]\n",
    "\n",
    "    task_queqe = Queue()\n",
    "    done_queue = Queue()\n",
    "    for task in TASK1:\n",
    "        task_queqe.put(task)\n",
    "    for i in range(NUMBER_OF_PROCESS):\n",
    "        Process(target=worker,args=(task_queqe,done_queue)).start()\n",
    "    print('result:')\n",
    "    for i in range(len(TASK1)):\n",
    "        print('\\t',done_queue.get())\n",
    "    for task in TASK2:\n",
    "        task_queqe.put(task)\n",
    "    for i in range(len(TASK2)):\n",
    "        print('\\t',done_queue.get())\n",
    "\n",
    "    # 发出来个停止信号\n",
    "    for i in range(NUMBER_OF_PROCESS):\n",
    "        task_queqe.put('QUIT')\n",
    "main()"
   ],
   "metadata": {
    "collapsed": false,
    "pycharm": {
     "is_executing": true
    }
   }
  },
  {
   "cell_type": "code",
   "execution_count": 25,
   "outputs": [
    {
     "name": "stdout",
     "output_type": "stream",
     "text": [
      "working on 9\n",
      "Finished 9\n",
      "working on 9\n",
      "Finished 9\n",
      "working on 9\n",
      "Finished 9\n",
      "working on 9\n",
      "Finished 9\n",
      "working on 9\n",
      "Finished 9\n",
      "working on 9\n",
      "Finished 9\n",
      "working on 9\n",
      "Finished 9\n",
      "working on 9\n",
      "Finished 9\n",
      "working on 9\n",
      "Finished 9\n",
      "working on 9\n",
      "Finished 9\n",
      "All work done\n"
     ]
    }
   ],
   "source": [
    "# 线程例子\n",
    "import threading\n",
    "import queue\n",
    "# 消费者\n",
    "def worker(q):\n",
    "    while  1:\n",
    "        itme = q.get()\n",
    "        print(f'working on {item}')\n",
    "        print(f'Finished {item}')\n",
    "        q.task_done()\n",
    "q = queue.Queue()\n",
    "threading.Thread(target=worker,args=(q,),daemon=True).start()\n",
    "for item in range(10):\n",
    "    q.put(item)\n",
    "q.join()\n",
    "print('All work done')"
   ],
   "metadata": {
    "collapsed": false
   }
  },
  {
   "cell_type": "code",
   "execution_count": 24,
   "outputs": [],
   "source": [
    "# 双端队列deque\n",
    "from collections import deque\n",
    "stack = deque()\n",
    "stack.append('cat')\n",
    "stack.append('dog')\n",
    "stack.append('tiger')"
   ],
   "metadata": {
    "collapsed": false
   }
  },
  {
   "cell_type": "code",
   "execution_count": 21,
   "outputs": [
    {
     "data": {
      "text/plain": "Custom_SimpleNamespace(a:1,b:2,c:3)"
     },
     "execution_count": 21,
     "metadata": {},
     "output_type": "execute_result"
    }
   ],
   "source": [
    "class Custom_SimpleNamespace(SimpleNamespace):\n",
    "    def __repr__(self):\n",
    "        keys = sorted(self.__dict__)\n",
    "        items = (f'{k}:{self.__dict__[k]}' for k in keys)\n",
    "        return f'{type(self).__name__}({\",\".join(items)})'\n",
    "custom_data = Custom_SimpleNamespace(a=1,b=2,c=3)\n",
    "custom_data"
   ],
   "metadata": {
    "collapsed": false
   }
  },
  {
   "cell_type": "code",
   "execution_count": 20,
   "outputs": [
    {
     "data": {
      "text/plain": "True"
     },
     "execution_count": 20,
     "metadata": {},
     "output_type": "execute_result"
    }
   ],
   "source": [
    "other_data = SimpleNamespace(c=[1,2,3],b='b',a=1)\n",
    "data==other_data  #根据值 进行比较，不是根据id"
   ],
   "metadata": {
    "collapsed": false
   }
  },
  {
   "cell_type": "code",
   "execution_count": 19,
   "outputs": [
    {
     "data": {
      "text/plain": "namespace(a=1, b='b', c=[1, 2, 3])"
     },
     "execution_count": 19,
     "metadata": {},
     "output_type": "execute_result"
    },
    {
     "data": {
      "text/plain": "types.SimpleNamespace"
     },
     "execution_count": 19,
     "metadata": {},
     "output_type": "execute_result"
    },
    {
     "data": {
      "text/plain": "(1, 'b', [1, 2, 3])"
     },
     "execution_count": 19,
     "metadata": {},
     "output_type": "execute_result"
    }
   ],
   "source": [
    "#数据结构 SimpleNamespace的属性默认值 ,也是一个类\n",
    "from types import SimpleNamespace\n",
    "data = SimpleNamespace(a=1,b='b',c=[1,2,3])\n",
    "data\n",
    "type(data)\n",
    "(data.a,data.b,data.c)"
   ],
   "metadata": {
    "collapsed": false
   }
  },
  {
   "cell_type": "code",
   "execution_count": null,
   "outputs": [],
   "source": [
    "arr = [i for i in range(10)]\n",
    "a,b,*c=arr"
   ],
   "metadata": {
    "collapsed": false
   }
  },
  {
   "cell_type": "code",
   "execution_count": null,
   "outputs": [],
   "source": [
    "%%sql\n",
    "create table employee(\n",
    "    name varchar(),\n",
    "    age int,\n",
    "    title,var(),\n",
    "    department var()\n",
    "    )\n",
    "import sqlite3"
   ],
   "metadata": {
    "collapsed": false
   }
  },
  {
   "cell_type": "code",
   "execution_count": null,
   "outputs": [],
   "source": [
    "!pip install ipython-sql\n",
    "%load_ext sql\n",
    "%sql sqlie:////tmp/employee.sql"
   ],
   "metadata": {
    "collapsed": false
   }
  },
  {
   "cell_type": "code",
   "execution_count": null,
   "outputs": [],
   "source": [
    "%%bash\n",
    "cat <<EOF>/tmp/employee.csv\n",
    "name,age,title,department\n",
    "stella,22,保险,广东\n",
    "sunny,25,理赔,宜春\n",
    "fairy,21,HR,钦州\n",
    "EOF"
   ],
   "metadata": {
    "collapsed": false
   }
  },
  {
   "cell_type": "code",
   "execution_count": 17,
   "outputs": [
    {
     "name": "stdout",
     "output_type": "stream",
     "text": [
      "prod_name category_id cost_price\n",
      "牛皮纸笔记本 1 2.3\n",
      "树叶日记本 2 9.7\n",
      "手工相册小 3 6.5\n",
      "韩国斯塔油漆笔 4 18\n",
      "复古信纸套装 5 1.2\n",
      "信封 6 2\n"
     ]
    }
   ],
   "source": [
    "import csv\n",
    "Employee = namedtuple(\n",
    "    'Employee',\n",
    "    'prod_id,prod_name,category_id,cost_price'\n",
    ")\n",
    "for employe in map(Employee._make,\n",
    "                   csv.reader(open(r\"C:\\Users\\fzh00\\Desktop\\文件\\excel\\3.7 prod_detail.csv\",'r'))):\n",
    "    print(employe.prod_name,employe.category_id,employe.cost_price)"
   ],
   "metadata": {
    "collapsed": false
   }
  },
  {
   "cell_type": "code",
   "execution_count": 16,
   "outputs": [
    {
     "data": {
      "text/plain": "'hondor'"
     },
     "execution_count": 16,
     "metadata": {},
     "output_type": "execute_result"
    },
    {
     "data": {
      "text/plain": "'32000'"
     },
     "execution_count": 16,
     "metadata": {},
     "output_type": "execute_result"
    }
   ],
   "source": [
    "# 命名元组\n",
    "from collections import namedtuple\n",
    "Car = namedtuple('Car','color mileage')\n",
    "car = Car('hondor','32000')\n",
    "car.color\n",
    "car.mileage"
   ],
   "metadata": {
    "collapsed": false
   }
  },
  {
   "cell_type": "code",
   "execution_count": 15,
   "outputs": [
    {
     "data": {
      "text/plain": "<__main__.Person at 0x2d87ac52ad0>"
     },
     "execution_count": 15,
     "metadata": {},
     "output_type": "execute_result"
    }
   ],
   "source": [
    "from dataclasses import dataclass\n",
    "from dis import dis\n",
    "# 全是False 相当于没有封装\n",
    "@dataclass(init=False,repr=False,eq=False) # 这种情况只能使用无参构造\n",
    "class Person:\n",
    "    name:str\n",
    "    aga:int\n",
    "# person = Person('steven',22) # 会报错\n",
    "person = Person()\n",
    "person\n",
    "dis(Person)"
   ],
   "metadata": {
    "collapsed": false
   }
  },
  {
   "cell_type": "code",
   "execution_count": 12,
   "outputs": [
    {
     "data": {
      "text/plain": "False"
     },
     "execution_count": 12,
     "metadata": {},
     "output_type": "execute_result"
    },
    {
     "name": "stdout",
     "output_type": "stream",
     "text": [
      "Disassembly of __delattr__:\n",
      "  3           0 LOAD_GLOBAL              0 (type)\n",
      "              2 LOAD_FAST                0 (self)\n",
      "              4 CALL_FUNCTION            1\n",
      "              6 LOAD_DEREF               1 (cls)\n",
      "              8 IS_OP                    0\n",
      "             10 POP_JUMP_IF_TRUE        10 (to 20)\n",
      "             12 LOAD_FAST                1 (name)\n",
      "             14 LOAD_CONST               1 (('name', 'age', 'j'))\n",
      "             16 CONTAINS_OP              0\n",
      "             18 POP_JUMP_IF_FALSE       17 (to 34)\n",
      "\n",
      "  4     >>   20 LOAD_DEREF               0 (FrozenInstanceError)\n",
      "             22 LOAD_CONST               2 ('cannot delete field ')\n",
      "             24 LOAD_FAST                1 (name)\n",
      "             26 FORMAT_VALUE             2 (repr)\n",
      "             28 BUILD_STRING             2\n",
      "             30 CALL_FUNCTION            1\n",
      "             32 RAISE_VARARGS            1\n",
      "\n",
      "  5     >>   34 LOAD_GLOBAL              1 (super)\n",
      "             36 LOAD_DEREF               1 (cls)\n",
      "             38 LOAD_FAST                0 (self)\n",
      "             40 CALL_FUNCTION            2\n",
      "             42 LOAD_METHOD              2 (__delattr__)\n",
      "             44 LOAD_FAST                1 (name)\n",
      "             46 CALL_METHOD              1\n",
      "             48 POP_TOP\n",
      "             50 LOAD_CONST               0 (None)\n",
      "             52 RETURN_VALUE\n",
      "\n",
      "Disassembly of __eq__:\n",
      "  3           0 LOAD_FAST                1 (other)\n",
      "              2 LOAD_ATTR                0 (__class__)\n",
      "              4 LOAD_FAST                0 (self)\n",
      "              6 LOAD_ATTR                0 (__class__)\n",
      "              8 IS_OP                    0\n",
      "             10 POP_JUMP_IF_FALSE       18 (to 36)\n",
      "\n",
      "  4          12 LOAD_FAST                0 (self)\n",
      "             14 LOAD_ATTR                1 (age)\n",
      "             16 LOAD_FAST                0 (self)\n",
      "             18 LOAD_ATTR                2 (j)\n",
      "             20 BUILD_TUPLE              2\n",
      "             22 LOAD_FAST                1 (other)\n",
      "             24 LOAD_ATTR                1 (age)\n",
      "             26 LOAD_FAST                1 (other)\n",
      "             28 LOAD_ATTR                2 (j)\n",
      "             30 BUILD_TUPLE              2\n",
      "             32 COMPARE_OP               2 (==)\n",
      "             34 RETURN_VALUE\n",
      "\n",
      "  5     >>   36 LOAD_GLOBAL              3 (NotImplemented)\n",
      "             38 RETURN_VALUE\n",
      "\n",
      "Disassembly of __ge__:\n",
      "  3           0 LOAD_FAST                1 (other)\n",
      "              2 LOAD_ATTR                0 (__class__)\n",
      "              4 LOAD_FAST                0 (self)\n",
      "              6 LOAD_ATTR                0 (__class__)\n",
      "              8 IS_OP                    0\n",
      "             10 POP_JUMP_IF_FALSE       18 (to 36)\n",
      "\n",
      "  4          12 LOAD_FAST                0 (self)\n",
      "             14 LOAD_ATTR                1 (age)\n",
      "             16 LOAD_FAST                0 (self)\n",
      "             18 LOAD_ATTR                2 (j)\n",
      "             20 BUILD_TUPLE              2\n",
      "             22 LOAD_FAST                1 (other)\n",
      "             24 LOAD_ATTR                1 (age)\n",
      "             26 LOAD_FAST                1 (other)\n",
      "             28 LOAD_ATTR                2 (j)\n",
      "             30 BUILD_TUPLE              2\n",
      "             32 COMPARE_OP               5 (>=)\n",
      "             34 RETURN_VALUE\n",
      "\n",
      "  5     >>   36 LOAD_GLOBAL              3 (NotImplemented)\n",
      "             38 RETURN_VALUE\n",
      "\n",
      "Disassembly of __gt__:\n",
      "  3           0 LOAD_FAST                1 (other)\n",
      "              2 LOAD_ATTR                0 (__class__)\n",
      "              4 LOAD_FAST                0 (self)\n",
      "              6 LOAD_ATTR                0 (__class__)\n",
      "              8 IS_OP                    0\n",
      "             10 POP_JUMP_IF_FALSE       18 (to 36)\n",
      "\n",
      "  4          12 LOAD_FAST                0 (self)\n",
      "             14 LOAD_ATTR                1 (age)\n",
      "             16 LOAD_FAST                0 (self)\n",
      "             18 LOAD_ATTR                2 (j)\n",
      "             20 BUILD_TUPLE              2\n",
      "             22 LOAD_FAST                1 (other)\n",
      "             24 LOAD_ATTR                1 (age)\n",
      "             26 LOAD_FAST                1 (other)\n",
      "             28 LOAD_ATTR                2 (j)\n",
      "             30 BUILD_TUPLE              2\n",
      "             32 COMPARE_OP               4 (>)\n",
      "             34 RETURN_VALUE\n",
      "\n",
      "  5     >>   36 LOAD_GLOBAL              3 (NotImplemented)\n",
      "             38 RETURN_VALUE\n",
      "\n",
      "Disassembly of __hash__:\n",
      "  3           0 LOAD_GLOBAL              0 (hash)\n",
      "              2 LOAD_FAST                0 (self)\n",
      "              4 LOAD_ATTR                1 (age)\n",
      "              6 LOAD_FAST                0 (self)\n",
      "              8 LOAD_ATTR                2 (j)\n",
      "             10 BUILD_TUPLE              2\n",
      "             12 CALL_FUNCTION            1\n",
      "             14 RETURN_VALUE\n",
      "\n",
      "Disassembly of __init__:\n",
      "  3           0 LOAD_DEREF               0 (BUILTINS)\n",
      "              2 LOAD_ATTR                0 (object)\n",
      "              4 LOAD_METHOD              1 (__setattr__)\n",
      "              6 LOAD_FAST                0 (self)\n",
      "              8 LOAD_CONST               1 ('name')\n",
      "             10 LOAD_FAST                1 (name)\n",
      "             12 CALL_METHOD              3\n",
      "             14 POP_TOP\n",
      "\n",
      "  4          16 LOAD_DEREF               0 (BUILTINS)\n",
      "             18 LOAD_ATTR                0 (object)\n",
      "             20 LOAD_METHOD              1 (__setattr__)\n",
      "             22 LOAD_FAST                0 (self)\n",
      "             24 LOAD_CONST               2 ('age')\n",
      "             26 LOAD_FAST                2 (age)\n",
      "             28 CALL_METHOD              3\n",
      "             30 POP_TOP\n",
      "\n",
      "  5          32 LOAD_DEREF               0 (BUILTINS)\n",
      "             34 LOAD_ATTR                0 (object)\n",
      "             36 LOAD_METHOD              1 (__setattr__)\n",
      "             38 LOAD_FAST                0 (self)\n",
      "             40 LOAD_CONST               3 ('j')\n",
      "             42 LOAD_FAST                3 (j)\n",
      "             44 CALL_METHOD              3\n",
      "             46 POP_TOP\n",
      "             48 LOAD_CONST               0 (None)\n",
      "             50 RETURN_VALUE\n",
      "\n",
      "Disassembly of __le__:\n",
      "  3           0 LOAD_FAST                1 (other)\n",
      "              2 LOAD_ATTR                0 (__class__)\n",
      "              4 LOAD_FAST                0 (self)\n",
      "              6 LOAD_ATTR                0 (__class__)\n",
      "              8 IS_OP                    0\n",
      "             10 POP_JUMP_IF_FALSE       18 (to 36)\n",
      "\n",
      "  4          12 LOAD_FAST                0 (self)\n",
      "             14 LOAD_ATTR                1 (age)\n",
      "             16 LOAD_FAST                0 (self)\n",
      "             18 LOAD_ATTR                2 (j)\n",
      "             20 BUILD_TUPLE              2\n",
      "             22 LOAD_FAST                1 (other)\n",
      "             24 LOAD_ATTR                1 (age)\n",
      "             26 LOAD_FAST                1 (other)\n",
      "             28 LOAD_ATTR                2 (j)\n",
      "             30 BUILD_TUPLE              2\n",
      "             32 COMPARE_OP               1 (<=)\n",
      "             34 RETURN_VALUE\n",
      "\n",
      "  5     >>   36 LOAD_GLOBAL              3 (NotImplemented)\n",
      "             38 RETURN_VALUE\n",
      "\n",
      "Disassembly of __lt__:\n",
      "  3           0 LOAD_FAST                1 (other)\n",
      "              2 LOAD_ATTR                0 (__class__)\n",
      "              4 LOAD_FAST                0 (self)\n",
      "              6 LOAD_ATTR                0 (__class__)\n",
      "              8 IS_OP                    0\n",
      "             10 POP_JUMP_IF_FALSE       18 (to 36)\n",
      "\n",
      "  4          12 LOAD_FAST                0 (self)\n",
      "             14 LOAD_ATTR                1 (age)\n",
      "             16 LOAD_FAST                0 (self)\n",
      "             18 LOAD_ATTR                2 (j)\n",
      "             20 BUILD_TUPLE              2\n",
      "             22 LOAD_FAST                1 (other)\n",
      "             24 LOAD_ATTR                1 (age)\n",
      "             26 LOAD_FAST                1 (other)\n",
      "             28 LOAD_ATTR                2 (j)\n",
      "             30 BUILD_TUPLE              2\n",
      "             32 COMPARE_OP               0 (<)\n",
      "             34 RETURN_VALUE\n",
      "\n",
      "  5     >>   36 LOAD_GLOBAL              3 (NotImplemented)\n",
      "             38 RETURN_VALUE\n",
      "\n",
      "Disassembly of __repr__:\n",
      "400           0 LOAD_GLOBAL              0 (id)\n",
      "              2 LOAD_FAST                0 (self)\n",
      "              4 CALL_FUNCTION            1\n",
      "              6 LOAD_GLOBAL              1 (_thread)\n",
      "              8 LOAD_METHOD              2 (get_ident)\n",
      "             10 CALL_METHOD              0\n",
      "             12 BUILD_TUPLE              2\n",
      "             14 STORE_FAST               1 (key)\n",
      "\n",
      "401          16 LOAD_FAST                1 (key)\n",
      "             18 LOAD_DEREF               0 (repr_running)\n",
      "             20 CONTAINS_OP              0\n",
      "             22 POP_JUMP_IF_FALSE       14 (to 28)\n",
      "\n",
      "402          24 LOAD_CONST               1 ('...')\n",
      "             26 RETURN_VALUE\n",
      "\n",
      "403     >>   28 LOAD_DEREF               0 (repr_running)\n",
      "             30 LOAD_METHOD              3 (add)\n",
      "             32 LOAD_FAST                1 (key)\n",
      "             34 CALL_METHOD              1\n",
      "             36 POP_TOP\n",
      "\n",
      "404          38 SETUP_FINALLY           12 (to 64)\n",
      "\n",
      "405          40 LOAD_DEREF               1 (user_function)\n",
      "             42 LOAD_FAST                0 (self)\n",
      "             44 CALL_FUNCTION            1\n",
      "             46 STORE_FAST               2 (result)\n",
      "             48 POP_BLOCK\n",
      "\n",
      "407          50 LOAD_DEREF               0 (repr_running)\n",
      "             52 LOAD_METHOD              4 (discard)\n",
      "             54 LOAD_FAST                1 (key)\n",
      "             56 CALL_METHOD              1\n",
      "             58 POP_TOP\n",
      "\n",
      "408          60 LOAD_FAST                2 (result)\n",
      "             62 RETURN_VALUE\n",
      "\n",
      "407     >>   64 LOAD_DEREF               0 (repr_running)\n",
      "             66 LOAD_METHOD              4 (discard)\n",
      "             68 LOAD_FAST                1 (key)\n",
      "             70 CALL_METHOD              1\n",
      "             72 POP_TOP\n",
      "             74 RERAISE                  0\n",
      "\n",
      "Disassembly of __setattr__:\n",
      "  3           0 LOAD_GLOBAL              0 (type)\n",
      "              2 LOAD_FAST                0 (self)\n",
      "              4 CALL_FUNCTION            1\n",
      "              6 LOAD_DEREF               1 (cls)\n",
      "              8 IS_OP                    0\n",
      "             10 POP_JUMP_IF_TRUE        10 (to 20)\n",
      "             12 LOAD_FAST                1 (name)\n",
      "             14 LOAD_CONST               1 (('name', 'age', 'j'))\n",
      "             16 CONTAINS_OP              0\n",
      "             18 POP_JUMP_IF_FALSE       17 (to 34)\n",
      "\n",
      "  4     >>   20 LOAD_DEREF               0 (FrozenInstanceError)\n",
      "             22 LOAD_CONST               2 ('cannot assign to field ')\n",
      "             24 LOAD_FAST                1 (name)\n",
      "             26 FORMAT_VALUE             2 (repr)\n",
      "             28 BUILD_STRING             2\n",
      "             30 CALL_FUNCTION            1\n",
      "             32 RAISE_VARARGS            1\n",
      "\n",
      "  5     >>   34 LOAD_GLOBAL              1 (super)\n",
      "             36 LOAD_DEREF               1 (cls)\n",
      "             38 LOAD_FAST                0 (self)\n",
      "             40 CALL_FUNCTION            2\n",
      "             42 LOAD_METHOD              2 (__setattr__)\n",
      "             44 LOAD_FAST                1 (name)\n",
      "             46 LOAD_FAST                2 (value)\n",
      "             48 CALL_METHOD              2\n",
      "             50 POP_TOP\n",
      "             52 LOAD_CONST               0 (None)\n",
      "             54 RETURN_VALUE\n",
      "\n"
     ]
    }
   ],
   "source": [
    "from dis import dis\n",
    "from dataclasses import dataclass,field\n",
    "# frozen 不可变的类\n",
    "@dataclass(order=True,frozen=True)\n",
    "class Team:\n",
    "    name: str = field(compare=False) # 名字就不比较了\n",
    "    age:int\n",
    "    j:int=None\n",
    "team1 = Team('中国队',22)\n",
    "team2 = Team('美国',23)\n",
    "team2==team1\n",
    "dis(Team)"
   ],
   "metadata": {
    "collapsed": false
   }
  },
  {
   "cell_type": "code",
   "execution_count": 11,
   "outputs": [
    {
     "data": {
      "text/plain": "<function Counter.values>"
     },
     "execution_count": 11,
     "metadata": {},
     "output_type": "execute_result"
    },
    {
     "data": {
      "text/plain": "'a'"
     },
     "execution_count": 11,
     "metadata": {},
     "output_type": "execute_result"
    },
    {
     "data": {
      "text/plain": "97"
     },
     "execution_count": 11,
     "metadata": {},
     "output_type": "execute_result"
    }
   ],
   "source": [
    "c.values\n",
    "chr(97)\n",
    "ord('a')"
   ],
   "metadata": {
    "collapsed": false
   }
  },
  {
   "cell_type": "code",
   "execution_count": 10,
   "outputs": [
    {
     "data": {
      "text/plain": "Counter({'如': 2,\n         '果': 2,\n         '我': 1,\n         '们': 1,\n         '想': 3,\n         '保': 1,\n         '持': 1,\n         '集': 4,\n         '合': 4,\n         '实': 4,\n         '体': 1,\n         '的': 5,\n         '唯': 1,\n         '一': 1,\n         '性': 2,\n         '，': 4,\n         '但': 1,\n         '同': 1,\n         '时': 1,\n         '又': 1,\n         '处': 1,\n         '理': 1,\n         '中': 3,\n         '任': 1,\n         '何': 1,\n         '元': 2,\n         '素': 2,\n         '多': 2,\n         '个': 1,\n         '例': 1,\n         '该': 2,\n         '怎': 1,\n         '么': 1,\n         '办': 1,\n         '？': 1,\n         '这': 1,\n         '可': 1,\n         '以': 2,\n         '通': 1,\n         '过': 1,\n         '标': 1,\n         '准': 1,\n         '库': 1,\n         ' ': 2,\n         'c': 2,\n         'o': 4,\n         'l': 3,\n         'e': 4,\n         't': 5,\n         'i': 2,\n         'n': 3,\n         's': 3,\n         '.': 1,\n         'C': 2,\n         'u': 3,\n         'r': 2,\n         '类': 2,\n         '现': 3,\n         '称': 1,\n         '为': 1,\n         'm': 1,\n         '或': 1,\n         'b': 1,\n         'a': 1,\n         'g': 1,\n         '数': 1,\n         '据': 1,\n         '结': 1,\n         '构': 1,\n         '。': 2,\n         '您': 1,\n         '要': 1,\n         '跟': 1,\n         '踪': 1,\n         '出': 1,\n         '少': 1,\n         '次': 1,\n         '及': 1,\n         '它': 1,\n         '在': 2,\n         '存': 1,\n         '就': 1,\n         '很': 1,\n         '有': 1,\n         '用': 1})"
     },
     "execution_count": 10,
     "metadata": {},
     "output_type": "execute_result"
    }
   ],
   "source": [
    "from collections import Counter\n",
    "# Counter类，这是字典的一个引申类\n",
    "c =Counter('如果我们想保持集合实体的唯一性，但同时又想处理集合中任何元素的多个实例，该怎么办？这可以通过标准库的 collections.Counter 类实现，该类实现称为多multiset或bags的数据结构。如果您想要跟踪集合中元素出现少次以及它在集合中的存在性，Counter就很有用。')\n",
    "c"
   ],
   "metadata": {
    "collapsed": false
   }
  },
  {
   "cell_type": "code",
   "execution_count": 9,
   "outputs": [
    {
     "data": {
      "text/plain": "bytearray(b'\\x01\\xff\\x02')"
     },
     "execution_count": 9,
     "metadata": {},
     "output_type": "execute_result"
    }
   ],
   "source": [
    "my_bytearray= bytearray([1,2,2])\n",
    "my_bytearray[1]=255\n",
    "my_bytearray"
   ],
   "metadata": {
    "collapsed": false
   }
  },
  {
   "cell_type": "code",
   "execution_count": 8,
   "outputs": [],
   "source": [
    "# bytearray单字节可变字符序列\n",
    "mybytes = bytes([1,2,2]) # 不可变"
   ],
   "metadata": {
    "collapsed": false
   }
  },
  {
   "cell_type": "code",
   "execution_count": 7,
   "outputs": [
    {
     "data": {
      "text/plain": "array('f', [12.0, 1.0, 3.0, 3.0, 3.0, 4.0, 3.440000057220459])"
     },
     "execution_count": 7,
     "metadata": {},
     "output_type": "execute_result"
    }
   ],
   "source": [
    "import array\n",
    "arr = array.array('f',(12.0,1,3,3,3,4,3.44))\n",
    "arr"
   ],
   "metadata": {
    "collapsed": false
   }
  },
  {
   "cell_type": "code",
   "execution_count": 6,
   "outputs": [
    {
     "data": {
      "text/plain": "Person(name=b'\\xe9\\x9b\\xaa\\xe6\\xa2\\x85', desc=b'Hellon', age=28, upgrade=False, score=99.5)"
     },
     "execution_count": 6,
     "metadata": {},
     "output_type": "execute_result"
    },
    {
     "data": {
      "text/plain": "'雪梅'"
     },
     "execution_count": 6,
     "metadata": {},
     "output_type": "execute_result"
    },
    {
     "data": {
      "text/plain": "'Hellon'"
     },
     "execution_count": 6,
     "metadata": {},
     "output_type": "execute_result"
    },
    {
     "data": {
      "text/plain": "28"
     },
     "execution_count": 6,
     "metadata": {},
     "output_type": "execute_result"
    },
    {
     "data": {
      "text/plain": "99.5"
     },
     "execution_count": 6,
     "metadata": {},
     "output_type": "execute_result"
    }
   ],
   "source": [
    "# 解包\n",
    "unpack_data = my_struct.unpack(data)\n",
    "person = Person._make(unpack_data)\n",
    "person\n",
    "str(person.name,encoding='utf8')\n",
    "str(person.desc,encoding='utf8')\n",
    "person.age\n",
    "person.score"
   ],
   "metadata": {
    "collapsed": false
   }
  },
  {
   "cell_type": "code",
   "execution_count": 5,
   "outputs": [
    {
     "data": {
      "text/plain": "b'\\xe9\\x9b\\xaa\\xe6\\xa2\\x85Hellon\\x1c\\x00\\x00\\x00\\x00\\x00\\x00\\x00\\x00\\x00\\xc7B'"
     },
     "execution_count": 5,
     "metadata": {},
     "output_type": "execute_result"
    }
   ],
   "source": [
    "my_struct = Struct(f'{len(person.name)}s{len(person.desc)}si?f')\n",
    "data = my_struct.pack(*person) # 需要解包\n",
    "data  #二进制流"
   ],
   "metadata": {
    "collapsed": false
   }
  },
  {
   "cell_type": "code",
   "execution_count": 4,
   "outputs": [
    {
     "data": {
      "text/plain": "Person(name=b'\\xe9\\x9b\\xaa\\xe6\\xa2\\x85', desc=b'Hellon', age=28, upgrade=False, score=99.5)"
     },
     "execution_count": 4,
     "metadata": {},
     "output_type": "execute_result"
    }
   ],
   "source": [
    "from collections import namedtuple\n",
    "Person  =namedtuple('Person','name,desc,age,upgrade,score')\n",
    "person = Person(\n",
    "    bytes('雪梅',encoding='utf-8'), # C无字符串的概念\n",
    "    bytes('Hellon',encoding='utf-8'),\n",
    "    28,\n",
    "    False,99.5\n",
    ")\n",
    "person"
   ],
   "metadata": {
    "collapsed": false
   }
  },
  {
   "cell_type": "code",
   "execution_count": 3,
   "outputs": [
    {
     "data": {
      "text/plain": "(102, False, 15.199999809265137)"
     },
     "execution_count": 3,
     "metadata": {},
     "output_type": "execute_result"
    }
   ],
   "source": [
    "#解包\n",
    "unpack_data = my_struct.unpack(data)\n",
    "unpack_data"
   ],
   "metadata": {
    "collapsed": false
   }
  },
  {
   "cell_type": "code",
   "execution_count": 2,
   "outputs": [
    {
     "data": {
      "text/plain": "b'f\\x00\\x00\\x00\\x00\\x00\\x00\\x0033sA'"
     },
     "execution_count": 2,
     "metadata": {},
     "output_type": "execute_result"
    }
   ],
   "source": [
    "# 使用Struct序列化C结构体\n",
    "from struct import Struct\n",
    "my_struct = Struct('i?f')\n",
    "data = my_struct.pack(102,False,15.2)\n",
    "data"
   ],
   "metadata": {
    "collapsed": false
   }
  },
  {
   "cell_type": "code",
   "execution_count": null,
   "outputs": [],
   "source": [
    "from IPython.core.interactiveshell import InteractiveShell\n",
    "InteractiveShell.ast_node_interactivity = \"all\""
   ],
   "metadata": {
    "collapsed": false,
    "pycharm": {
     "is_executing": true
    }
   }
  }
 ],
 "metadata": {
  "kernelspec": {
   "name": "pythonproject1",
   "language": "python",
   "display_name": "pythonProject1"
  },
  "language_info": {
   "codemirror_mode": {
    "name": "ipython",
    "version": 2
   },
   "file_extension": ".py",
   "mimetype": "text/x-python",
   "name": "python",
   "nbconvert_exporter": "python",
   "pygments_lexer": "ipython2",
   "version": "2.7.6"
  }
 },
 "nbformat": 4,
 "nbformat_minor": 0
}
