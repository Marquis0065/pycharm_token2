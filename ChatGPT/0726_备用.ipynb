{
 "cells": [
  {
   "cell_type": "code",
   "execution_count": null,
   "metadata": {
    "collapsed": true
   },
   "outputs": [],
   "source": [
    "exclusive_group_id = '-1234567890'"
   ]
  },
  {
   "cell_type": "code",
   "execution_count": null,
   "outputs": [],
   "source": [
    "# 获取用户ID\n",
    "user_id = update.effective_message.from_user.id"
   ],
   "metadata": {
    "collapsed": false
   }
  },
  {
   "cell_type": "code",
   "execution_count": null,
   "outputs": [],
   "source": [
    "# 获取与机器人交互的用户的状态\n",
    "member_user = context.bot.getChatmember(exclusive_group_id, user_id)\n",
    "print(member_user.status)"
   ],
   "metadata": {
    "collapsed": false
   }
  },
  {
   "cell_type": "code",
   "execution_count": null,
   "outputs": [],
   "source": [
    "# 直接在浏览器查看用户状态\n",
    "https://api.telegram.org/botTOKEN/getChatMember?chat_id=CHATID&user_id=USERID/"
   ],
   "metadata": {
    "collapsed": false
   }
  },
  {
   "cell_type": "code",
   "execution_count": null,
   "outputs": [],
   "source": [
    "# 判断是否成员后，发送消息\n",
    "exlusive_group_id = '-123456789'\n",
    "user_id = update.effective_message.from_user.id\n",
    "member_user = context.bot.getChatmember(eclusive_group_id, user_id)\n",
    "def start(update, context):\n",
    "if member_user.status == 'creator' or member_user.status == 'administrator' or member_user.status == 'member':\n",
    "update.message.reply_text('Hello!!, welcome.')\n",
    "else:\n",
    "update.message.reply_text(\"You're not authorized to use this bot.\")"
   ],
   "metadata": {
    "collapsed": false
   }
  }
 ],
 "metadata": {
  "kernelspec": {
   "display_name": "Python 3",
   "language": "python",
   "name": "python3"
  },
  "language_info": {
   "codemirror_mode": {
    "name": "ipython",
    "version": 2
   },
   "file_extension": ".py",
   "mimetype": "text/x-python",
   "name": "python",
   "nbconvert_exporter": "python",
   "pygments_lexer": "ipython2",
   "version": "2.7.6"
  }
 },
 "nbformat": 4,
 "nbformat_minor": 0
}
