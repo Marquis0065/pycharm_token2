{
 "cells": [
  {
   "cell_type": "code",
   "execution_count": 7,
   "outputs": [],
   "source": [
    "token2 = '6321364690:AAFvTiujKew0Fqi6OfL6awyM5Nx2LscJbVs'\n",
    "url = f'https://api.telegram.org/bot{token2}' + '/sendDocument'\n",
    "fPath = r\"C:\\Users\\fzh00\\Desktop\\采集设置.docx\"\n",
    "\n",
    "params = {\n",
    "    'chat_id': -677235937,\n",
    "        }\n",
    "\n",
    "files = {\n",
    "     'document': open(fPath, 'rb'),\n",
    "        }\n",
    "\n",
    "resp = requests.post(url, params=params, files=files)"
   ],
   "metadata": {
    "collapsed": false
   }
  },
  {
   "cell_type": "code",
   "execution_count": 4,
   "outputs": [
    {
     "name": "stdout",
     "output_type": "stream",
     "text": [
      "-677235937\n",
      "{'ok': True, 'result': {'message_id': 1787, 'from': {'id': 6377312623, 'is_bot': True, 'first_name': 'DA-Marqis', 'username': 'marqis_bot'}, 'chat': {'id': -677235937, 'title': 'Two_group', 'type': 'group', 'all_members_are_administrators': True}, 'date': 1691327681, 'text': 'This is a post message from python!'}}\n"
     ]
    }
   ],
   "source": [
    "import os\n",
    "from dotenv import load_dotenv, find_dotenv\n",
    "import requests\n",
    "\n",
    "# load_dotenv(find_dotenv())\n",
    "# TELEGRAM_API = os.environ.get(\"TELEGRAM_API\")\n",
    "# CHAT_ID = os.environ.get(\"CHAT_ID_Rapid1898Bot\")\n",
    "# CHAT_ID = os.environ.get(\"CHAT_ID_Rapid1898\")\n",
    "TELEGRAM_API = '6377312623:AAGz3ZSMVswWq0QVlihRPklw8b7skSBP16Y'\n",
    "CHAT_ID = -677235937\n",
    "print(CHAT_ID)\n",
    "\n",
    "botMessage = \"This is a post message from python!\"\n",
    "sendText = f\"https://api.telegram.org/bot{TELEGRAM_API}/sendMessage?chat_id={CHAT_ID}&parse_mode=Markdown&text={botMessage}\"\n",
    "# response = requests.get(sendText)\n",
    "response = requests.post(sendText)\n",
    "print(response.json())"
   ],
   "metadata": {
    "collapsed": false
   }
  },
  {
   "cell_type": "code",
   "execution_count": 1,
   "outputs": [
    {
     "data": {
      "text/plain": "'C:\\\\ProgramData\\\\Anaconda3\\\\envs\\\\pythonProject_anaconda\\\\lib\\\\os.py'"
     },
     "execution_count": 1,
     "metadata": {},
     "output_type": "execute_result"
    }
   ],
   "source": [
    "import os\n",
    "os.__file__"
   ],
   "metadata": {
    "collapsed": false
   }
  }
 ],
 "metadata": {
  "kernelspec": {
   "display_name": "Python 3",
   "language": "python",
   "name": "python3"
  },
  "language_info": {
   "codemirror_mode": {
    "name": "ipython",
    "version": 2
   },
   "file_extension": ".py",
   "mimetype": "text/x-python",
   "name": "python",
   "nbconvert_exporter": "python",
   "pygments_lexer": "ipython2",
   "version": "2.7.6"
  }
 },
 "nbformat": 4,
 "nbformat_minor": 0
}
