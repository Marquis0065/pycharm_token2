{
 "cells": [
  {
   "cell_type": "code",
   "execution_count": 1,
   "metadata": {
    "collapsed": true
   },
   "outputs": [
    {
     "data": {
      "text/plain": "<Response [200]>"
     },
     "execution_count": 1,
     "metadata": {},
     "output_type": "execute_result"
    }
   ],
   "source": [
    "import requests\n",
    "requests.post(f'https://api.telegram.org/bot{\"6377312623:AAGz3ZSMVswWq0QVlihRPklw8b7skSBP16Y\"}/sendMessage', json={\"chat_id\": -677235937, \"text\": 'requests，我是机器 人 '})"
   ]
  },
  {
   "cell_type": "code",
   "execution_count": 2,
   "outputs": [],
   "source": [
    "import requests\n",
    "token='6377312623:AAGz3ZSMVswWq0QVlihRPklw8b7skSBP16Y'\n",
    "url = f'https://api.telegram.org/bot{token}' + '/sendDocument'\n",
    "fPath = r\"C:\\Data\\r_file\\R-project-1212\\lipei1222.xlsx\"\n",
    "\n",
    "params = {\n",
    "    'chat_id': -677235937,\n",
    "        }\n",
    "files = {\n",
    "     'document': open(fPath, 'rb'),\n",
    "        }\n",
    "resp = requests.post(url, params=params, files=files)"
   ],
   "metadata": {
    "collapsed": false
   }
  },
  {
   "cell_type": "code",
   "execution_count": 8,
   "outputs": [
    {
     "data": {
      "text/plain": "<Response [200]>"
     },
     "execution_count": 8,
     "metadata": {},
     "output_type": "execute_result"
    }
   ],
   "source": [
    "import requests\n",
    "token='6377312623:AAGz3ZSMVswWq0QVlihRPklw8b7skSBP16Y'\n",
    "url = f'https://api.telegram.org/bot{token}' + '/sendDocument'\n",
    "fPath = r\"C:\\Users\\fzh00\\Desktop\\photo_.jpg\"\n",
    "with open(fPath,'rb') as f:\n",
    "    data_photo=f.read()\n",
    "file={\n",
    "    'document':data_photo\n",
    "}\n",
    "params = {\n",
    "    'chat_id': -677235937,\n",
    "        }\n",
    "requests.post(url,params=params,files=file)"
   ],
   "metadata": {
    "collapsed": false
   }
  },
  {
   "cell_type": "code",
   "execution_count": 14,
   "outputs": [
    {
     "name": "stdout",
     "output_type": "stream",
     "text": [
      "{'ok': True, 'result': {'message_id': 112, 'from': {'id': 6377312623, 'is_bot': True, 'first_name': 'DA-Marqis', 'username': 'marqis_bot'}, 'chat': {'id': -677235937, 'title': 'Two_group', 'type': 'group', 'all_members_are_administrators': True}, 'date': 1689761118, 'photo': [{'file_id': 'AgACAgUAAxkDAANwZLe1XorE4VhTbG1xfo8cZQuQhRUAApy2MRuuYsFVpuPMbMnlIi0BAAMCAANzAAMvBA', 'file_unique_id': 'AQADnLYxG65iwVV4', 'file_size': 867, 'width': 35, 'height': 90}, {'file_id': 'AgACAgUAAxkDAANwZLe1XorE4VhTbG1xfo8cZQuQhRUAApy2MRuuYsFVpuPMbMnlIi0BAAMCAANtAAMvBA', 'file_unique_id': 'AQADnLYxG65iwVVy', 'file_size': 8371, 'width': 126, 'height': 320}, {'file_id': 'AgACAgUAAxkDAANwZLe1XorE4VhTbG1xfo8cZQuQhRUAApy2MRuuYsFVpuPMbMnlIi0BAAMCAAN4AAMvBA', 'file_unique_id': 'AQADnLYxG65iwVV9', 'file_size': 32896, 'width': 314, 'height': 800}, {'file_id': 'AgACAgUAAxkDAANwZLe1XorE4VhTbG1xfo8cZQuQhRUAApy2MRuuYsFVpuPMbMnlIi0BAAMCAAN5AAMvBA', 'file_unique_id': 'AQADnLYxG65iwVV-', 'file_size': 68566, 'width': 503, 'height': 1280}]}}\n"
     ]
    }
   ],
   "source": [
    "# coding=utf-8\n",
    "# 导入requests包\n",
    "import requests\n",
    "#  上传文件的接口地址\n",
    "token='6377312623:AAGz3ZSMVswWq0QVlihRPklw8b7skSBP16Y'\n",
    "url = f'https://api.telegram.org/bot{token}' + '/sendPhoto'\n",
    "# header = {\"Content-Type\"：\"\", \"Cookie\":\"\" }\t#  请求头部信息，大部分上传照片不要\"Content-Type\"值\n",
    "data= {}\t# data传参（部分接口需要data传参）\n",
    "params = {\n",
    "    'chat_id': -677235937,\n",
    "        }\n",
    "file_path = \"\"  # 图片或文件的绝对路径\n",
    "with open(r\"C:\\Users\\fzh00\\Desktop\\photo_.jpg\", 'rb')as f:    # 使用with打开图片后自动关闭，直接用open后面会报未关闭图片错误\n",
    "\tfile = {\"photo\": f.read()}  # \"image/jpeg\"照片格式\n",
    "\t#file = {\"multipartFile\": (\"产品导入.zip\", f.read(), \"application/zip\")}\t# \"application/zip\"zip格式\n",
    "r = requests.post(url, params=params, files=file)\n",
    "print(r.json())\t# 打印接口返回数据\n",
    "#success"
   ],
   "metadata": {
    "collapsed": false
   }
  },
  {
   "cell_type": "code",
   "execution_count": 15,
   "outputs": [
    {
     "data": {
      "text/plain": "<Response [200]>"
     },
     "execution_count": 15,
     "metadata": {},
     "output_type": "execute_result"
    }
   ],
   "source": [
    "# coding=utf-8\n",
    "# 导入requests包\n",
    "import requests\n",
    "#  上传文件的接口地址\n",
    "token='6377312623:AAGz3ZSMVswWq0QVlihRPklw8b7skSBP16Y'\n",
    "url = f'https://api.telegram.org/bot{token}' + '/sendPhoto'\n",
    "# header = {\"Content-Type\"：\"\", \"Cookie\":\"\" }\t#  请求头部信息，大部分上传照片不要\"Content-Type\"值\n",
    "# data传参（部分接口需要data传参）\n",
    "params = {\n",
    "    'chat_id': -677235937,\n",
    "        }\n",
    "# 使用with打开图片后自动关闭，直接用open后面会报未关闭图片错误\n",
    "path_file = r\"C:\\Users\\fzh00\\Desktop\\文件\\日本签证材\\身份证（反）.jpg\"\n",
    "fp=open(path_file,'rb')\n",
    "file = {'photo':fp.read()}\n",
    "fp.close()\n",
    "# \"image/jpeg\"照片格式\n",
    "\t#file = {\"multipartFile\": (\"产品导入.zip\", f.read(), \"application/zip\")}\t# \"application/zip\"zip格式\n",
    "requests.post(url, params=params, files=file)\n",
    "# print(r.json())\t# 打印接口返回数据"
   ],
   "metadata": {
    "collapsed": false
   }
  },
  {
   "cell_type": "code",
   "execution_count": 1,
   "outputs": [
    {
     "data": {
      "text/plain": "<Response [200]>"
     },
     "execution_count": 1,
     "metadata": {},
     "output_type": "execute_result"
    }
   ],
   "source": [
    "#上传视频\n",
    "import requests\n",
    "#  上传文件的接口地址\n",
    "token='6377312623:AAGz3ZSMVswWq0QVlihRPklw8b7skSBP16Y'\n",
    "url = f'https://api.telegram.org/bot{token}' + '/sendVideo'\n",
    "# header = {\"Content-Type\"：\"\", \"Cookie\":\"\" }\t#  请求头部信息，大部分上传照片不要\"Content-Type\"值\n",
    "# data传参（部分接口需要data传参）\n",
    "params = {\n",
    "    'chat_id': -677235937,\n",
    "        }\n",
    "# 使用with打开图片后自动关闭，直接用open后面会报未关闭图片错误\n",
    "path_file = r\"C:\\Users\\fzh00\\Desktop\\roof.mp4\"\n",
    "fp=open(path_file,'rb')\n",
    "file = {'video':fp.read()}\n",
    "fp.close()\n",
    "# \"image/jpeg\"照片格式\n",
    "\t#file = {\"multipartFile\": (\"产品导入.zip\", f.read(), \"application/zip\")}\t# \"application/zip\"zip格式\n",
    "requests.post(url, params=params, files=file,timeout=1000)\n",
    "# print(r.json())\t# 打印接口返回数据"
   ],
   "metadata": {
    "collapsed": false
   }
  }
 ],
 "metadata": {
  "kernelspec": {
   "name": "auto_report",
   "language": "python",
   "display_name": "auto_report"
  },
  "language_info": {
   "codemirror_mode": {
    "name": "ipython",
    "version": 2
   },
   "file_extension": ".py",
   "mimetype": "text/x-python",
   "name": "python",
   "nbconvert_exporter": "python",
   "pygments_lexer": "ipython2",
   "version": "2.7.6"
  }
 },
 "nbformat": 4,
 "nbformat_minor": 0
}
