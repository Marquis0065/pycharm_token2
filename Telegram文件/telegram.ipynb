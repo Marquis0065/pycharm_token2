{
 "cells": [
  {
   "cell_type": "code",
   "execution_count": 1,
   "metadata": {
    "collapsed": true
   },
   "outputs": [
    {
     "data": {
      "text/plain": "<telegram.message.Message at 0x21d5559fd68>"
     },
     "execution_count": 1,
     "metadata": {},
     "output_type": "execute_result"
    }
   ],
   "source": [
    "import telegram\n",
    "\n",
    "# 用你的bot token创建一个bot实例\n",
    "bot = telegram.Bot(token='6377312623:AAGz3ZSMVswWq0QVlihRPklw8b7skSBP16Y')\n",
    "# 用你想要发送的文件路径创建一个文件对象\n",
    "file_path = r\"C:\\Users\\fzh00\\Desktop\\文件\\Mysql\\data\\products.csv\"\n",
    "with open(file_path, 'rb') as f:\n",
    "    file = f.read()\n",
    "# 发送文件\n",
    "bot.send_message(-677235937,'发了一个产品表，请查收')\n",
    "bot.send_document(chat_id=-677235937, document=file)"
   ]
  },
  {
   "cell_type": "code",
   "execution_count": 2,
   "outputs": [
    {
     "data": {
      "text/plain": "<telegram.message.Message at 0x21d56e40038>"
     },
     "execution_count": 2,
     "metadata": {},
     "output_type": "execute_result"
    }
   ],
   "source": [
    "bot.send_document(-677235937, open(r\"C:\\Users\\fzh00\\Desktop\\文件\\Mysql\\data\\products.csv\",'rb'))"
   ],
   "metadata": {
    "collapsed": false
   }
  },
  {
   "cell_type": "code",
   "execution_count": 4,
   "outputs": [
    {
     "data": {
      "text/plain": "<telegram.message.Message at 0x21d56e3fde8>"
     },
     "execution_count": 4,
     "metadata": {},
     "output_type": "execute_result"
    }
   ],
   "source": [
    "bot.send_photo(-677235937, open(r\"C:\\Users\\fzh00\\Desktop\\美女.jpg\",'rb'))"
   ],
   "metadata": {
    "collapsed": false
   }
  }
 ],
 "metadata": {
  "kernelspec": {
   "name": "py36",
   "language": "python",
   "display_name": "py36"
  },
  "language_info": {
   "codemirror_mode": {
    "name": "ipython",
    "version": 2
   },
   "file_extension": ".py",
   "mimetype": "text/x-python",
   "name": "python",
   "nbconvert_exporter": "python",
   "pygments_lexer": "ipython2",
   "version": "2.7.6"
  }
 },
 "nbformat": 4,
 "nbformat_minor": 0
}
