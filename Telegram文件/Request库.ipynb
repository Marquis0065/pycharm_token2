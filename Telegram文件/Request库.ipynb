{
 "cells": [
  {
   "cell_type": "code",
   "execution_count": 1,
   "metadata": {
    "collapsed": true
   },
   "outputs": [
    {
     "data": {
      "text/plain": "'{\"ok\":true,\"result\":{\"message_id\":82,\"from\":{\"id\":6377312623,\"is_bot\":true,\"first_name\":\"DA-Marqis\",\"username\":\"marqis_bot\"},\"chat\":{\"id\":-677235937,\"title\":\"Two_group\",\"type\":\"group\",\"all_members_are_administrators\":true},\"date\":1689494908,\"text\":\"it\\'s rains everyday\"}}'"
     },
     "execution_count": 1,
     "metadata": {},
     "output_type": "execute_result"
    }
   ],
   "source": [
    "import requests\n",
    "token='6377312623:AAGz3ZSMVswWq0QVlihRPklw8b7skSBP16Y'\n",
    "r = requests.post(f'https://api.telegram.org/bot{token}/sendMessage', json={\"chat_id\": -677235937, \"text\": \"it\\'s rains everyday\"})\n",
    "r.text"
   ]
  },
  {
   "cell_type": "code",
   "execution_count": 1,
   "outputs": [],
   "source": [
    "import requests\n",
    "token='6377312623:AAGz3ZSMVswWq0QVlihRPklw8b7skSBP16Y'\n",
    "url = f'https://api.telegram.org/bot{token}' + '/sendDocument'\n",
    "fPath = r\"C:\\Users\\fzh00\\Desktop\\采集设置.docx\"\n",
    "\n",
    "params = {\n",
    "    'chat_id': -677235937,\n",
    "        }\n",
    "\n",
    "files = {\n",
    "     'document': open(fPath, 'rb'),\n",
    "        }\n",
    "\n",
    "resp = requests.post(url, params=params, files=files)\n"
   ],
   "metadata": {
    "collapsed": false
   }
  }
 ],
 "metadata": {
  "kernelspec": {
   "display_name": "Python 3",
   "language": "python",
   "name": "python3"
  },
  "language_info": {
   "codemirror_mode": {
    "name": "ipython",
    "version": 2
   },
   "file_extension": ".py",
   "mimetype": "text/x-python",
   "name": "python",
   "nbconvert_exporter": "python",
   "pygments_lexer": "ipython2",
   "version": "2.7.6"
  }
 },
 "nbformat": 4,
 "nbformat_minor": 0
}
