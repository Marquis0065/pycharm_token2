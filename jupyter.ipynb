{
 "cells": [
  {
   "cell_type": "code",
   "execution_count": 23,
   "outputs": [
    {
     "data": {
      "text/plain": "(<re.Match object; span=(0, 13), match='some cats are'>,\n <re.Match object; span=(0, 35), match='some cats are smarter than dogs are'>)"
     },
     "execution_count": 23,
     "metadata": {},
     "output_type": "execute_result"
    }
   ],
   "source": [
    "import re\n",
    "\n",
    "line = \"some cats are smarter than dogs are true\"\n",
    "mat1 = re.match(r\".* are\", line)\n",
    "mat2 = re.match(r\".*? are\", line)\n",
    "mat2,mat1"
   ],
   "metadata": {
    "collapsed": false
   }
  },
  {
   "cell_type": "code",
   "execution_count": 19,
   "outputs": [
    {
     "name": "stdout",
     "output_type": "stream",
     "text": [
      "11 <class 'str'>\n"
     ]
    }
   ],
   "source": [
    "age = input()\n",
    "print(age,type(age))"
   ],
   "metadata": {
    "collapsed": false
   }
  },
  {
   "cell_type": "code",
   "execution_count": 18,
   "outputs": [
    {
     "name": "stdout",
     "output_type": "stream",
     "text": [
      "24\n"
     ]
    }
   ],
   "source": [
    "from functools import partial\n",
    "def fun_3(a,b,c,d,e):\n",
    "    return a+b+c+d+e\n",
    "partial_fun = partial(fun_3,b=3,c=4,d=3,e=4)\n",
    "result = partial_fun(10)\n",
    "print(result)"
   ],
   "metadata": {
    "collapsed": false
   }
  },
  {
   "cell_type": "code",
   "execution_count": 17,
   "outputs": [
    {
     "name": "stdout",
     "output_type": "stream",
     "text": [
      "消耗时间：5\n"
     ]
    }
   ],
   "source": [
    "import time\n",
    "import datetime\n",
    "count = 5\n",
    "def loop():\n",
    "    time_1 = datetime.datetime.now()\n",
    "    for i in range(5):\n",
    "        time.sleep(1)\n",
    "    time_2 = datetime.datetime.now()\n",
    "    print('消耗时间：%d'%(time_2-time_1).seconds)\n",
    "loop()"
   ],
   "metadata": {
    "collapsed": false
   }
  },
  {
   "cell_type": "code",
   "execution_count": 12,
   "outputs": [
    {
     "data": {
      "text/plain": "15050"
     },
     "execution_count": 12,
     "metadata": {},
     "output_type": "execute_result"
    },
    {
     "data": {
      "text/plain": "<filter at 0x1f3f68f5e10>"
     },
     "execution_count": 12,
     "metadata": {},
     "output_type": "execute_result"
    },
    {
     "data": {
      "text/plain": "[1, 3, 5, 7, 9, 11, 13, 15, 17, 19]"
     },
     "execution_count": 12,
     "metadata": {},
     "output_type": "execute_result"
    }
   ],
   "source": [
    "from functools import reduce\n",
    "def fun_1(a,b):\n",
    "    return a+b\n",
    "reduce(fun_1,[i for i in range(1,101)],10000)\n",
    "filter(lambda x:x%2,[i for i in range(20)])\n",
    "list(filter(lambda x:x%2,[i for i in range(20)]))"
   ],
   "metadata": {
    "collapsed": false
   }
  },
  {
   "cell_type": "code",
   "execution_count": 8,
   "outputs": [],
   "source": [
    "from IPython.core.interactiveshell import InteractiveShell\n",
    "InteractiveShell.ast_node_interactivity = \"all\""
   ],
   "metadata": {
    "collapsed": false
   }
  },
  {
   "cell_type": "code",
   "execution_count": 56,
   "outputs": [
    {
     "data": {
      "text/plain": "{'a', 'b'}"
     },
     "execution_count": 56,
     "metadata": {},
     "output_type": "execute_result"
    },
    {
     "data": {
      "text/plain": "{'a': 1, 'b': 2}"
     },
     "execution_count": 56,
     "metadata": {},
     "output_type": "execute_result"
    },
    {
     "data": {
      "text/plain": "dict_items([('a', 1), ('b', 2)])"
     },
     "execution_count": 56,
     "metadata": {},
     "output_type": "execute_result"
    },
    {
     "data": {
      "text/plain": "dict_items([('a', 1), ('b', 2)])"
     },
     "execution_count": 56,
     "metadata": {},
     "output_type": "execute_result"
    },
    {
     "data": {
      "text/plain": "{'a': 1, 'b': 2}"
     },
     "execution_count": 56,
     "metadata": {},
     "output_type": "execute_result"
    },
    {
     "data": {
      "text/plain": "{1: 'a', 2: 'b'}"
     },
     "execution_count": 56,
     "metadata": {},
     "output_type": "execute_result"
    }
   ],
   "source": [
    "dic = {'a':1,'b':2}\n",
    "{ i for i in dic}\n",
    "{key:dic[key] for key in dic}\n",
    "dict.items(dic)\n",
    "dic.items()\n",
    "{i:j for i,j in dic.items()}\n",
    "{j:i for i ,j in dic.items()}\n"
   ],
   "metadata": {
    "collapsed": false
   }
  },
  {
   "cell_type": "code",
   "execution_count": 48,
   "outputs": [
    {
     "data": {
      "text/plain": "[0, 1, 2, 3, 4, 5, 6, 7, 8, 9]"
     },
     "execution_count": 48,
     "metadata": {},
     "output_type": "execute_result"
    },
    {
     "data": {
      "text/plain": "[0, 1, 2, 3, 4, 5, 6, 7, 8, 9]"
     },
     "execution_count": 48,
     "metadata": {},
     "output_type": "execute_result"
    },
    {
     "data": {
      "text/plain": "(2890856966144, 2890857256768, 2890856966144)"
     },
     "execution_count": 48,
     "metadata": {},
     "output_type": "execute_result"
    }
   ],
   "source": [
    "li = [i for i in range(10)]\n",
    "li2= li[:]\n",
    "li\n",
    "li2\n",
    "li3 = li\n",
    "id(li),id(li2),id(li3)"
   ],
   "metadata": {
    "collapsed": false
   }
  },
  {
   "cell_type": "code",
   "execution_count": 46,
   "outputs": [
    {
     "name": "stdout",
     "output_type": "stream",
     "text": [
      "1 2 3\n"
     ]
    }
   ],
   "source": [
    "a,b,c = input('请输入3个数字：').split()\n",
    "a ,b,c = int(a),int(b),int(c)\n",
    "if a > b:\n",
    "    a,b = b,a\n",
    "if b > c:\n",
    "    b ,c = c,b\n",
    "if a>c:\n",
    "    a,c = c,a\n",
    "if a >b:\n",
    "    a,b= b,a\n",
    "print(a,b,c)\n"
   ],
   "metadata": {
    "collapsed": false
   }
  },
  {
   "cell_type": "code",
   "execution_count": 34,
   "outputs": [
    {
     "name": "stdout",
     "output_type": "stream",
     "text": [
      "1 1 1\n",
      "1 1 2\n",
      "1 1 3\n",
      "1 1 4\n",
      "1 2 1\n",
      "1 2 2\n",
      "1 2 3\n",
      "1 2 4\n",
      "1 3 1\n",
      "1 3 2\n",
      "1 3 3\n",
      "1 3 4\n",
      "1 4 1\n",
      "1 4 2\n",
      "1 4 3\n",
      "1 4 4\n",
      "2 1 1\n",
      "2 1 2\n",
      "2 1 3\n",
      "2 1 4\n",
      "2 2 1\n",
      "2 2 2\n",
      "2 2 3\n",
      "2 2 4\n",
      "2 3 1\n",
      "2 3 2\n",
      "2 3 3\n",
      "2 3 4\n",
      "2 4 1\n",
      "2 4 2\n",
      "2 4 3\n",
      "2 4 4\n",
      "3 1 1\n",
      "3 1 2\n",
      "3 1 3\n",
      "3 1 4\n",
      "3 2 1\n",
      "3 2 2\n",
      "3 2 3\n",
      "3 2 4\n",
      "3 3 1\n",
      "3 3 2\n",
      "3 3 3\n",
      "3 3 4\n",
      "3 4 1\n",
      "3 4 2\n",
      "3 4 3\n",
      "3 4 4\n",
      "4 1 1\n",
      "4 1 2\n",
      "4 1 3\n",
      "4 1 4\n",
      "4 2 1\n",
      "4 2 2\n",
      "4 2 3\n",
      "4 2 4\n",
      "4 3 1\n",
      "4 3 2\n",
      "4 3 3\n",
      "4 3 4\n",
      "4 4 1\n",
      "4 4 2\n",
      "4 4 3\n",
      "4 4 4\n"
     ]
    }
   ],
   "source": [
    "for i in range(1,5):\n",
    "    for j in range(1,5):\n",
    "        for k in range(1,5):\n",
    "            print(i,j,k)"
   ],
   "metadata": {
    "collapsed": false
   }
  },
  {
   "cell_type": "code",
   "execution_count": 33,
   "outputs": [
    {
     "data": {
      "text/plain": "'C:\\\\Users\\\\fzh00\\\\PycharmProjects\\\\pythonProject1'"
     },
     "execution_count": 33,
     "metadata": {},
     "output_type": "execute_result"
    },
    {
     "ename": "AttributeError",
     "evalue": "module 'os' has no attribute '_file_'",
     "output_type": "error",
     "traceback": [
      "\u001B[1;31m---------------------------------------------------------------------------\u001B[0m",
      "\u001B[1;31mAttributeError\u001B[0m                            Traceback (most recent call last)",
      "Cell \u001B[1;32mIn[33], line 3\u001B[0m\n\u001B[0;32m      1\u001B[0m \u001B[38;5;28;01mimport\u001B[39;00m \u001B[38;5;21;01mos\u001B[39;00m\n\u001B[0;32m      2\u001B[0m os\u001B[38;5;241m.\u001B[39mgetcwd()\n\u001B[1;32m----> 3\u001B[0m \u001B[43mos\u001B[49m\u001B[38;5;241;43m.\u001B[39;49m\u001B[43m_file_\u001B[49m\n",
      "\u001B[1;31mAttributeError\u001B[0m: module 'os' has no attribute '_file_'"
     ]
    }
   ],
   "source": [
    "import os\n",
    "os.getcwd()\n",
    "os._file_"
   ],
   "metadata": {
    "collapsed": false
   }
  },
  {
   "cell_type": "code",
   "execution_count": 32,
   "outputs": [
    {
     "data": {
      "text/plain": "'Wed Jan 25 21:59:54 2023'"
     },
     "execution_count": 32,
     "metadata": {},
     "output_type": "execute_result"
    },
    {
     "data": {
      "text/plain": "time.struct_time(tm_year=2023, tm_mon=1, tm_mday=25, tm_hour=21, tm_min=59, tm_sec=54, tm_wday=2, tm_yday=25, tm_isdst=0)"
     },
     "execution_count": 32,
     "metadata": {},
     "output_type": "execute_result"
    },
    {
     "data": {
      "text/plain": "1674655194230394900"
     },
     "execution_count": 32,
     "metadata": {},
     "output_type": "execute_result"
    },
    {
     "data": {
      "text/plain": "1674655194.2303948"
     },
     "execution_count": 32,
     "metadata": {},
     "output_type": "execute_result"
    }
   ],
   "source": [
    "import time\n",
    "time.asctime(time.localtime(time.time()))\n",
    "localtime = time.localtime(time.time())\n",
    "localtime\n",
    "time.time_ns()\n",
    "time.time()"
   ],
   "metadata": {
    "collapsed": false
   }
  },
  {
   "cell_type": "code",
   "execution_count": 27,
   "outputs": [
    {
     "data": {
      "text/plain": "array([0, 1, 2, 3, 4, 5, 6, 7, 8, 9])"
     },
     "execution_count": 27,
     "metadata": {},
     "output_type": "execute_result"
    },
    {
     "data": {
      "text/plain": "range(0, 10)"
     },
     "execution_count": 27,
     "metadata": {},
     "output_type": "execute_result"
    },
    {
     "data": {
      "text/plain": "range"
     },
     "execution_count": 27,
     "metadata": {},
     "output_type": "execute_result"
    }
   ],
   "source": [
    "import numpy as np\n",
    "np.arange(10)\n",
    "range(10)\n",
    "type(range(10))\n"
   ],
   "metadata": {
    "collapsed": false
   }
  },
  {
   "cell_type": "code",
   "execution_count": 23,
   "outputs": [
    {
     "name": "stdout",
     "output_type": "stream",
     "text": [
      "<class 'list'>\n"
     ]
    }
   ],
   "source": [
    "import json\n",
    "with open('test25.txt','r')as fp:\n",
    "    print(type(json.load(fp)))"
   ],
   "metadata": {
    "collapsed": false
   }
  },
  {
   "cell_type": "code",
   "execution_count": 22,
   "outputs": [
    {
     "name": "stdout",
     "output_type": "stream",
     "text": [
      "<class 'list'>\n"
     ]
    }
   ],
   "source": [
    "#反序列化，将json字符串变成一个python对象\n",
    "import json\n",
    "with open('test25.txt','r')as fp:\n",
    "    reslut=json.loads(fp.read())\n",
    "    print(type(reslut))\n",
    "\n",
    "\n"
   ],
   "metadata": {
    "collapsed": false
   }
  },
  {
   "cell_type": "code",
   "execution_count": 12,
   "outputs": [],
   "source": [
    "import json\n",
    "#使用scrapy框架时返回一个对象，使用dumps将对象变成一个json字符串\n",
    "#dump,将对象转换为字符串的同时，指定一个文件的对象，然后把转换后的字符串写入这个文件\n",
    "\n",
    "with open('test25.txt','a') as fp:\n",
    "    json.dump([i for i in range(100)],fp)\n",
    "\n"
   ],
   "metadata": {
    "collapsed": false
   }
  },
  {
   "cell_type": "code",
   "execution_count": 24,
   "outputs": [
    {
     "data": {
      "text/plain": "(1, 2, 3, 11, 22, 44)"
     },
     "execution_count": 24,
     "metadata": {},
     "output_type": "execute_result"
    }
   ],
   "source": [
    "(1,2,3)+(11,22,44)"
   ],
   "metadata": {
    "collapsed": false
   }
  },
  {
   "cell_type": "code",
   "execution_count": 10,
   "outputs": [
    {
     "data": {
      "text/plain": "390"
     },
     "execution_count": 10,
     "metadata": {},
     "output_type": "execute_result"
    }
   ],
   "source": [
    "#序列化的两种方式，dumps,dump\n",
    "#导入json模块到该文件中\n",
    "import json\n",
    "fp = open('test25.txt','a')\n",
    "name_list = [i for i in range(100)]\n",
    "names = json.dumps(name_list) #将python对象变为json字符序列\n",
    "fp.write(names)\n",
    "fp.close()"
   ],
   "metadata": {
    "collapsed": false
   }
  },
  {
   "cell_type": "code",
   "execution_count": 8,
   "outputs": [
    {
     "ename": "TypeError",
     "evalue": "write() argument must be str, not list",
     "output_type": "error",
     "traceback": [
      "\u001B[1;31m---------------------------------------------------------------------------\u001B[0m",
      "\u001B[1;31mTypeError\u001B[0m                                 Traceback (most recent call last)",
      "Cell \u001B[1;32mIn[8], line 3\u001B[0m\n\u001B[0;32m      1\u001B[0m \u001B[38;5;28;01mimport\u001B[39;00m \u001B[38;5;21;01mjson\u001B[39;00m\n\u001B[0;32m      2\u001B[0m fp \u001B[38;5;241m=\u001B[39m \u001B[38;5;28mopen\u001B[39m(\u001B[38;5;124m'\u001B[39m\u001B[38;5;124mtest25.txt\u001B[39m\u001B[38;5;124m'\u001B[39m,\u001B[38;5;124m'\u001B[39m\u001B[38;5;124ma\u001B[39m\u001B[38;5;124m'\u001B[39m)\n\u001B[1;32m----> 3\u001B[0m \u001B[43mfp\u001B[49m\u001B[38;5;241;43m.\u001B[39;49m\u001B[43mwrite\u001B[49m\u001B[43m(\u001B[49m\u001B[43m[\u001B[49m\u001B[43mi\u001B[49m\u001B[43m \u001B[49m\u001B[38;5;28;43;01mfor\u001B[39;49;00m\u001B[43m \u001B[49m\u001B[43mi\u001B[49m\u001B[43m \u001B[49m\u001B[38;5;129;43;01min\u001B[39;49;00m\u001B[43m \u001B[49m\u001B[38;5;28;43mrange\u001B[39;49m\u001B[43m(\u001B[49m\u001B[38;5;241;43m20\u001B[39;49m\u001B[43m)\u001B[49m\u001B[43m]\u001B[49m\u001B[43m)\u001B[49m\n\u001B[0;32m      4\u001B[0m fp\u001B[38;5;241m.\u001B[39mclose()\n",
      "\u001B[1;31mTypeError\u001B[0m: write() argument must be str, not list"
     ]
    }
   ],
   "source": [
    "import json\n",
    "fp = open('test25.txt','a')\n",
    "fp.write([i for i in range(20)])\n",
    "fp.close()"
   ],
   "metadata": {
    "collapsed": false
   }
  },
  {
   "cell_type": "code",
   "execution_count": 15,
   "outputs": [],
   "source": [
    "from IPython.core.interactiveshell import InteractiveShell\n",
    "InteractiveShell.ast_node_interactivity = \"all\""
   ],
   "metadata": {
    "collapsed": false
   }
  },
  {
   "cell_type": "code",
   "execution_count": 5,
   "outputs": [
    {
     "name": "stdout",
     "output_type": "stream",
     "text": [
      "1*1=1 \n",
      "1*2=2 2*2=4 \n",
      "1*3=3 2*3=6 3*3=9 \n",
      "1*4=4 2*4=8 3*4=12 4*4=16 \n",
      "1*5=5 2*5=10 3*5=15 4*5=20 5*5=25 \n",
      "1*6=6 2*6=12 3*6=18 4*6=24 5*6=30 6*6=36 \n",
      "1*7=7 2*7=14 3*7=21 4*7=28 5*7=35 6*7=42 7*7=49 \n",
      "1*8=8 2*8=16 3*8=24 4*8=32 5*8=40 6*8=48 7*8=56 8*8=64 \n",
      "1*9=9 2*9=18 3*9=27 4*9=36 5*9=45 6*9=54 7*9=63 8*9=72 9*9=81 \n"
     ]
    }
   ],
   "source": [
    "for i in range(1,10):\n",
    "    for j in range(1,i+1):\n",
    "        print('%d*%d=%d '%(j,i,i*j),end='')\n",
    "    print()"
   ],
   "metadata": {
    "collapsed": false
   }
  },
  {
   "cell_type": "code",
   "execution_count": 4,
   "outputs": [
    {
     "name": "stdout",
     "output_type": "stream",
     "text": [
      "hi, Hello World\n"
     ]
    }
   ],
   "source": [
    "print(\"{1}, {0} {world}\".format(\"Hello\",\"hi\", world=\"World\"))"
   ],
   "metadata": {
    "collapsed": false
   }
  },
  {
   "cell_type": "code",
   "execution_count": 24,
   "outputs": [
    {
     "data": {
      "text/plain": "['1*1=1',\n '2*1=2',\n '2*2=4',\n '3*1=3',\n '3*2=6',\n '3*3=9',\n '4*1=4',\n '4*2=8',\n '4*3=12',\n '4*4=16',\n '5*1=5',\n '5*2=10',\n '5*3=15',\n '5*4=20',\n '5*5=25',\n '6*1=6',\n '6*2=12',\n '6*3=18',\n '6*4=24',\n '6*5=30',\n '6*6=36',\n '7*1=7',\n '7*2=14',\n '7*3=21',\n '7*4=28',\n '7*5=35',\n '7*6=42',\n '7*7=49',\n '8*1=8',\n '8*2=16',\n '8*3=24',\n '8*4=32',\n '8*5=40',\n '8*6=48',\n '8*7=56',\n '8*8=64',\n '9*1=9',\n '9*2=18',\n '9*3=27',\n '9*4=36',\n '9*5=45',\n '9*6=54',\n '9*7=63',\n '9*8=72',\n '9*9=81']"
     },
     "execution_count": 24,
     "metadata": {},
     "output_type": "execute_result"
    }
   ],
   "source": [
    "['{}*{}={}'.format(i,j,i*j) for i in range(1,10) for j in range(1,i+1)]"
   ],
   "metadata": {
    "collapsed": false
   }
  },
  {
   "cell_type": "code",
   "execution_count": null,
   "outputs": [],
   "source": [],
   "metadata": {
    "collapsed": false
   }
  },
  {
   "cell_type": "code",
   "execution_count": 23,
   "outputs": [
    {
     "data": {
      "text/plain": "11"
     },
     "execution_count": 23,
     "metadata": {},
     "output_type": "execute_result"
    },
    {
     "data": {
      "text/plain": "22"
     },
     "execution_count": 23,
     "metadata": {},
     "output_type": "execute_result"
    },
    {
     "data": {
      "text/plain": "(1, 2, 3)"
     },
     "execution_count": 23,
     "metadata": {},
     "output_type": "execute_result"
    },
    {
     "data": {
      "text/plain": "(11, 22, (1, 2, 3))"
     },
     "execution_count": 23,
     "metadata": {},
     "output_type": "execute_result"
    }
   ],
   "source": [
    "a,b,c = 11,22,(1,2,3)\n",
    "a\n",
    "b\n",
    "c\n",
    "a,b,c"
   ],
   "metadata": {
    "collapsed": false
   }
  },
  {
   "cell_type": "code",
   "execution_count": 17,
   "outputs": [
    {
     "data": {
      "text/plain": "('a', 'b', 'c')"
     },
     "execution_count": 17,
     "metadata": {},
     "output_type": "execute_result"
    }
   ],
   "source": [
    "x,y,z = dict(a=1,b=2,c=3)\n",
    "x,y,z"
   ],
   "metadata": {
    "collapsed": false
   }
  },
  {
   "cell_type": "code",
   "execution_count": 12,
   "outputs": [
    {
     "ename": "SyntaxError",
     "evalue": "invalid syntax (3835430441.py, line 4)",
     "output_type": "error",
     "traceback": [
      "\u001B[1;36m  Cell \u001B[1;32mIn[12], line 4\u001B[1;36m\u001B[0m\n\u001B[1;33m    {i for i in lambda **x:x}\u001B[0m\n\u001B[1;37m                ^\u001B[0m\n\u001B[1;31mSyntaxError\u001B[0m\u001B[1;31m:\u001B[0m invalid syntax\n"
     ]
    }
   ],
   "source": [
    "g = lambda **x:x\n",
    "g(a=1,b=2,c=3,b2=22)\n",
    "g(x = 11)\n"
   ],
   "metadata": {
    "collapsed": false
   }
  },
  {
   "cell_type": "code",
   "execution_count": 14,
   "outputs": [
    {
     "data": {
      "text/plain": "{'x': 1, 'y': 2, 'z': 3}"
     },
     "execution_count": 14,
     "metadata": {},
     "output_type": "execute_result"
    }
   ],
   "source": [
    "def fun(**b):\n",
    "    return b\n",
    "fun(x=1,y=2,z=3)"
   ],
   "metadata": {
    "collapsed": false
   }
  },
  {
   "cell_type": "code",
   "execution_count": 15,
   "outputs": [
    {
     "data": {
      "text/plain": "{'a': 1, 'b': 2, 'c': 3}"
     },
     "execution_count": 15,
     "metadata": {},
     "output_type": "execute_result"
    }
   ],
   "source": [
    "fun(a=1,b=2,c=3)"
   ],
   "metadata": {
    "collapsed": false
   }
  },
  {
   "cell_type": "code",
   "execution_count": 1,
   "outputs": [
    {
     "data": {
      "text/plain": "'https://sz.lianjia.com/zufang/luofuqu/rt200600000001l1/'"
     },
     "execution_count": 1,
     "metadata": {},
     "output_type": "execute_result"
    }
   ],
   "source": [
    "url = 'https://sz.lianjia.com/zufang/luofuqu/rt200600000001l1/'\n",
    "from requests_html import HTMLSession\n",
    "session = HTMLSession()\n",
    "r = session.get(url)\n",
    "r.html.url\n"
   ],
   "metadata": {
    "collapsed": false
   }
  },
  {
   "cell_type": "code",
   "execution_count": 11,
   "outputs": [
    {
     "data": {
      "text/plain": "[6300,\n 9000,\n 5600,\n 9000,\n 4000,\n 4150,\n 7000,\n 9800,\n 8600,\n 1100,\n 6400,\n 4980,\n 5500,\n 3580,\n 7300,\n 6500,\n 6800,\n 1200,\n 8000,\n 5600,\n 7400,\n 6300,\n 8500,\n 6500,\n 1000,\n 4580,\n 6000,\n 4080,\n 5000,\n 1200]"
     },
     "execution_count": 11,
     "metadata": {},
     "output_type": "execute_result"
    }
   ],
   "source": [
    "[int(i.text[:4]) for i in r.html.find('em')[:-1]]"
   ],
   "metadata": {
    "collapsed": false
   }
  },
  {
   "cell_type": "code",
   "execution_count": 10,
   "outputs": [
    {
     "data": {
      "text/plain": "['6300',\n '9000',\n '5600',\n '9000',\n '4000',\n '4150',\n '7000',\n '9800',\n '8600',\n '11000-12500',\n '6400',\n '4980',\n '5500',\n '3580',\n '7300',\n '6500',\n '6800',\n '12000',\n '8000',\n '5600',\n '7400',\n '6300',\n '8500',\n '6500',\n '10000',\n '4580',\n '6000',\n '4080',\n '5000',\n '12000',\n '链家微信小程序']"
     },
     "execution_count": 10,
     "metadata": {},
     "output_type": "execute_result"
    }
   ],
   "source": [
    "r.html.xpath('//em/text()')"
   ],
   "metadata": {
    "collapsed": false
   }
  },
  {
   "cell_type": "code",
   "execution_count": 42,
   "outputs": [
    {
     "data": {
      "text/plain": "(3, 1)"
     },
     "execution_count": 42,
     "metadata": {},
     "output_type": "execute_result"
    }
   ],
   "source": [
    "divmod(10,3)\n"
   ],
   "metadata": {
    "collapsed": false
   }
  },
  {
   "cell_type": "code",
   "execution_count": 20,
   "outputs": [
    {
     "data": {
      "text/plain": "'0b11110'"
     },
     "execution_count": 20,
     "metadata": {},
     "output_type": "execute_result"
    },
    {
     "data": {
      "text/plain": "'0b11110'"
     },
     "execution_count": 20,
     "metadata": {},
     "output_type": "execute_result"
    },
    {
     "data": {
      "text/plain": "'0b11110'"
     },
     "execution_count": 20,
     "metadata": {},
     "output_type": "execute_result"
    },
    {
     "data": {
      "text/plain": "'0b1111'"
     },
     "execution_count": 20,
     "metadata": {},
     "output_type": "execute_result"
    },
    {
     "data": {
      "text/plain": "'0b111100'"
     },
     "execution_count": 20,
     "metadata": {},
     "output_type": "execute_result"
    }
   ],
   "source": [
    "bin(30)\n",
    "bin(30&30)\n",
    "bin(30|30)\n",
    "bin(30>>1)\n",
    "bin(30<<1)"
   ],
   "metadata": {
    "collapsed": false
   }
  },
  {
   "cell_type": "code",
   "execution_count": 16,
   "outputs": [],
   "source": [
    "from IPython.core.interactiveshell import InteractiveShell\n",
    "InteractiveShell.ast_node_interactivity = \"all\""
   ],
   "metadata": {
    "collapsed": false
   }
  },
  {
   "cell_type": "code",
   "execution_count": 23,
   "outputs": [
    {
     "data": {
      "text/plain": "0"
     },
     "execution_count": 23,
     "metadata": {},
     "output_type": "execute_result"
    }
   ],
   "source": [
    "2&20"
   ],
   "metadata": {
    "collapsed": false
   }
  },
  {
   "cell_type": "code",
   "execution_count": 28,
   "outputs": [
    {
     "data": {
      "text/plain": "'0b11110'"
     },
     "execution_count": 28,
     "metadata": {},
     "output_type": "execute_result"
    },
    {
     "ename": "TypeError",
     "evalue": "bad operand type for unary ~: 'str'",
     "output_type": "error",
     "traceback": [
      "\u001B[1;31m---------------------------------------------------------------------------\u001B[0m",
      "\u001B[1;31mTypeError\u001B[0m                                 Traceback (most recent call last)",
      "Cell \u001B[1;32mIn[28], line 3\u001B[0m\n\u001B[0;32m      1\u001B[0m \u001B[38;5;28mbin\u001B[39m(\u001B[38;5;241m30\u001B[39m)\n\u001B[1;32m----> 3\u001B[0m \u001B[38;5;241;43m~\u001B[39;49m\u001B[38;5;28;43mbin\u001B[39;49m\u001B[43m(\u001B[49m\u001B[38;5;241;43m-\u001B[39;49m\u001B[38;5;241;43m30\u001B[39;49m\u001B[43m)\u001B[49m\n",
      "\u001B[1;31mTypeError\u001B[0m: bad operand type for unary ~: 'str'"
     ]
    }
   ],
   "source": [
    "bin(30)\n",
    "\n",
    "bin(-30)"
   ],
   "metadata": {
    "collapsed": false
   }
  },
  {
   "cell_type": "code",
   "execution_count": 32,
   "outputs": [
    {
     "ename": "TypeError",
     "evalue": "'NoneType' object is not iterable",
     "output_type": "error",
     "traceback": [
      "\u001B[1;31m---------------------------------------------------------------------------\u001B[0m",
      "\u001B[1;31mTypeError\u001B[0m                                 Traceback (most recent call last)",
      "Cell \u001B[1;32mIn[32], line 3\u001B[0m\n\u001B[0;32m      1\u001B[0m \u001B[38;5;28;01mdef\u001B[39;00m \u001B[38;5;21margs\u001B[39m(\u001B[38;5;241m*\u001B[39mx):\n\u001B[0;32m      2\u001B[0m     \u001B[38;5;28;01mpass\u001B[39;00m\n\u001B[1;32m----> 3\u001B[0m \u001B[38;5;28;01mfor\u001B[39;00m i \u001B[38;5;129;01min\u001B[39;00m args(\u001B[38;5;241m1\u001B[39m,\u001B[38;5;241m3\u001B[39m,\u001B[38;5;241m3\u001B[39m):\n\u001B[0;32m      4\u001B[0m     \u001B[38;5;28mprint\u001B[39m((i,))\n",
      "\u001B[1;31mTypeError\u001B[0m: 'NoneType' object is not iterable"
     ]
    }
   ],
   "source": [
    "def args(*x):\n",
    "    pass\n",
    "for i in args(1,3,3):\n",
    "    print((i,))\n"
   ],
   "metadata": {
    "collapsed": false
   }
  },
  {
   "cell_type": "code",
   "execution_count": 41,
   "outputs": [
    {
     "name": "stdout",
     "output_type": "stream",
     "text": [
      "8\n",
      "[(1, '财务部', '加州'), (10, 'accounting', 'new york'), (20, 'research', 'dallas'), (30, '产品部', '上海'), (33, '内控', '武汉'), (40, '核保', '深圳'), (50, '理赔部', '北京'), (54, '综合部', '成都')]\n"
     ]
    },
    {
     "data": {
      "text/plain": "16"
     },
     "execution_count": 41,
     "metadata": {},
     "output_type": "execute_result"
    },
    {
     "name": "stdout",
     "output_type": "stream",
     "text": [
      "(1001, 'a', '佳佳', 7369, datetime.date(2021, 2, 1), Decimal('8000'), Decimal('600'), 40)\n",
      "(1003, 'd', 'acountant', None, None, Decimal('0'), None, 40)\n",
      "(7369, 'smith', 'clerk', 7902, datetime.date(1980, 12, 17), Decimal('800'), None, 20)\n",
      "(7499, 'allen', 'salesman', 7698, datetime.date(1981, 2, 20), Decimal('1600'), Decimal('300'), 30)\n",
      "(7521, 'ward', 'salesman', 7698, datetime.date(1981, 2, 22), Decimal('1250'), Decimal('500'), 30)\n",
      "(7566, 'jones', 'manager', 7839, datetime.date(1981, 4, 2), Decimal('2975'), None, 20)\n",
      "(7654, 'martin', 'salesman', 7698, datetime.date(1981, 9, 28), Decimal('1250'), Decimal('1400'), 30)\n",
      "(7698, 'blake', 'manager', 7839, datetime.date(1981, 5, 1), Decimal('2850'), None, 30)\n",
      "(7782, 'clark', 'manager', 7839, datetime.date(1981, 6, 9), Decimal('2450'), None, 10)\n",
      "(7788, 'scott', 'analyst', 7566, datetime.date(1987, 4, 19), Decimal('3000'), None, 20)\n",
      "(7839, 'king', 'persident', None, datetime.date(1981, 11, 17), Decimal('5000'), None, 10)\n",
      "(7844, 'turner', 'salesman', 7698, datetime.date(1981, 9, 8), Decimal('1500'), Decimal('0'), 30)\n",
      "(7876, 'adams', 'clerk', 7788, datetime.date(1987, 5, 23), Decimal('1100'), None, 20)\n",
      "(7900, 'james', 'clerk', 7698, datetime.date(1981, 12, 3), Decimal('950'), None, 30)\n",
      "(7902, 'ford', 'analyst', 7566, datetime.date(1981, 12, 3), Decimal('3000'), None, 20)\n",
      "(7934, 'miller', 'clerk', 7782, datetime.date(1982, 1, 23), Decimal('1300'), None, 10)\n"
     ]
    }
   ],
   "source": [
    "import pymysql\n",
    "\n",
    "con = pymysql.connect(host='127.0.0.1',user='root',password='1qaz@WSX',database='cda')\n",
    "cur = con.cursor()\n",
    "sql = 'select * from dept'\n",
    "result = cur.execute(sql)\n",
    "print(result)\n",
    "# print(cur.fetchall())\n",
    "print([i for i in cur.fetchall()])\n",
    "sql2 = 'select * from emp'\n",
    "cur.execute(sql2)\n",
    "for i in cur.fetchall():\n",
    "    print(i)\n",
    "con.close()"
   ],
   "metadata": {
    "collapsed": false
   }
  },
  {
   "cell_type": "code",
   "execution_count": 7,
   "outputs": [],
   "source": [
    "from IPython.core.interactiveshell import InteractiveShell\n",
    "InteractiveShell.ast_node_interactivity = \"all\""
   ],
   "metadata": {
    "collapsed": false
   }
  },
  {
   "cell_type": "code",
   "execution_count": null,
   "outputs": [],
   "source": [],
   "metadata": {
    "collapsed": false
   }
  }
 ],
 "metadata": {
  "kernelspec": {
   "display_name": "Python 3",
   "language": "python",
   "name": "python3"
  },
  "language_info": {
   "codemirror_mode": {
    "name": "ipython",
    "version": 2
   },
   "file_extension": ".py",
   "mimetype": "text/x-python",
   "name": "python",
   "nbconvert_exporter": "python",
   "pygments_lexer": "ipython2",
   "version": "2.7.6"
  }
 },
 "nbformat": 4,
 "nbformat_minor": 0
}
