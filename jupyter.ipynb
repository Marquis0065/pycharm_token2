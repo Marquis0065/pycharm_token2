{
 "cells": [
  {
   "cell_type": "code",
   "execution_count": 110,
   "outputs": [],
   "source": [
    "result.to_excel('result2.xlsx')"
   ],
   "metadata": {
    "collapsed": false
   }
  },
  {
   "cell_type": "code",
   "execution_count": 111,
   "outputs": [],
   "source": [
    "import xlwings as xw\n",
    "fig = plt.figure(figsize=(10,5))\n",
    "for i in result.index[1:-1]:\n",
    "    plt.plot(result.columns[1:],result.loc[i,'mod_1':])\n",
    "plt.title('逾期趋势图')\n",
    "plt.xlabel('账龄')\n",
    "plt.ylabel('逾期率')\n",
    "plt.legend(result.index[1:-1])\n",
    "result.head(1);\n",
    "#插入表格\n",
    "app = xw.App(visible=False,add_book=False)\n",
    "book = app.books.open('result2.xlsx')\n",
    "#新建一个工作表\n",
    "book.sheets.add('折线图',after='Sheet1')\n",
    "sheet = book.sheets[1]\n",
    "sheet.pictures.add(fig,top=0,left=0)\n",
    "book.save('result2.xlsx')\n",
    "book.close()\n",
    "app.quit();"
   ],
   "metadata": {
    "collapsed": false
   }
  },
  {
   "cell_type": "code",
   "execution_count": 107,
   "outputs": [],
   "source": [
    "#修改列名\n",
    "result.columns= ['mod_'+str(i) for i in result.columns]\n",
    "result.insert(0,'放款总金额',cus_gp['合同金额'])\n",
    "result.index.name='账龄'\n",
    "result.to_excel('result.xlsx')"
   ],
   "metadata": {
    "collapsed": false
   }
  },
  {
   "cell_type": "code",
   "execution_count": 106,
   "outputs": [],
   "source": [
    "#方法三、把gp表扩展成与pivot一样的表\n",
    "tmp = pd.DataFrame([cus_gp.iloc[1:12].values.flatten().tolist()]*11,\n",
    "             index=pivot_delay.columns,columns= pivot_delay.index).T\n",
    "result = pivot_delay/tmp\n"
   ],
   "metadata": {
    "collapsed": false
   }
  },
  {
   "cell_type": "code",
   "execution_count": 78,
   "outputs": [
    {
     "data": {
      "text/plain": "账龄             1         2         3         4         5         6         7   \\\n放款月                                                                             \n2017-11       NaN       NaN  0.028058  0.018728  0.014543  0.052960  0.056562   \n2017-12       NaN  0.002326  0.015150  0.006475  0.007913  0.014737  0.014737   \n2018-01  0.009382  0.016048  0.010493  0.019916  0.032377  0.050160  0.047362   \n2018-02       NaN       NaN  0.004870  0.004870  0.004870  0.030557  0.028308   \n2018-03       NaN       NaN  0.020465  0.020465  0.033693  0.130218  0.100767   \n2018-04       NaN       NaN  0.052397  0.049662  0.055968  0.109815       NaN   \n2018-05  0.017769  0.017170  0.034873  0.023759  0.027219       NaN       NaN   \n2018-06  0.004840  0.035502  0.046521  0.042557       NaN       NaN       NaN   \n2018-07  0.008959  0.024246  0.042782       NaN       NaN       NaN       NaN   \n2018-08  0.006531  0.006700       NaN       NaN       NaN       NaN       NaN   \n2018-09  0.012067       NaN       NaN       NaN       NaN       NaN       NaN   \n\n账龄             8         9         10        11  \n放款月                                              \n2017-11  0.052960  0.053646  0.053475  0.053475  \n2017-12  0.016481  0.016481  0.016998       NaN  \n2018-01  0.048683  0.047952       NaN       NaN  \n2018-02  0.028308       NaN       NaN       NaN  \n2018-03       NaN       NaN       NaN       NaN  \n2018-04       NaN       NaN       NaN       NaN  \n2018-05       NaN       NaN       NaN       NaN  \n2018-06       NaN       NaN       NaN       NaN  \n2018-07       NaN       NaN       NaN       NaN  \n2018-08       NaN       NaN       NaN       NaN  \n2018-09       NaN       NaN       NaN       NaN  ",
      "text/html": "<div>\n<style scoped>\n    .dataframe tbody tr th:only-of-type {\n        vertical-align: middle;\n    }\n\n    .dataframe tbody tr th {\n        vertical-align: top;\n    }\n\n    .dataframe thead th {\n        text-align: right;\n    }\n</style>\n<table border=\"1\" class=\"dataframe\">\n  <thead>\n    <tr style=\"text-align: right;\">\n      <th>账龄</th>\n      <th>1</th>\n      <th>2</th>\n      <th>3</th>\n      <th>4</th>\n      <th>5</th>\n      <th>6</th>\n      <th>7</th>\n      <th>8</th>\n      <th>9</th>\n      <th>10</th>\n      <th>11</th>\n    </tr>\n    <tr>\n      <th>放款月</th>\n      <th></th>\n      <th></th>\n      <th></th>\n      <th></th>\n      <th></th>\n      <th></th>\n      <th></th>\n      <th></th>\n      <th></th>\n      <th></th>\n      <th></th>\n    </tr>\n  </thead>\n  <tbody>\n    <tr>\n      <th>2017-11</th>\n      <td>NaN</td>\n      <td>NaN</td>\n      <td>0.028058</td>\n      <td>0.018728</td>\n      <td>0.014543</td>\n      <td>0.052960</td>\n      <td>0.056562</td>\n      <td>0.052960</td>\n      <td>0.053646</td>\n      <td>0.053475</td>\n      <td>0.053475</td>\n    </tr>\n    <tr>\n      <th>2017-12</th>\n      <td>NaN</td>\n      <td>0.002326</td>\n      <td>0.015150</td>\n      <td>0.006475</td>\n      <td>0.007913</td>\n      <td>0.014737</td>\n      <td>0.014737</td>\n      <td>0.016481</td>\n      <td>0.016481</td>\n      <td>0.016998</td>\n      <td>NaN</td>\n    </tr>\n    <tr>\n      <th>2018-01</th>\n      <td>0.009382</td>\n      <td>0.016048</td>\n      <td>0.010493</td>\n      <td>0.019916</td>\n      <td>0.032377</td>\n      <td>0.050160</td>\n      <td>0.047362</td>\n      <td>0.048683</td>\n      <td>0.047952</td>\n      <td>NaN</td>\n      <td>NaN</td>\n    </tr>\n    <tr>\n      <th>2018-02</th>\n      <td>NaN</td>\n      <td>NaN</td>\n      <td>0.004870</td>\n      <td>0.004870</td>\n      <td>0.004870</td>\n      <td>0.030557</td>\n      <td>0.028308</td>\n      <td>0.028308</td>\n      <td>NaN</td>\n      <td>NaN</td>\n      <td>NaN</td>\n    </tr>\n    <tr>\n      <th>2018-03</th>\n      <td>NaN</td>\n      <td>NaN</td>\n      <td>0.020465</td>\n      <td>0.020465</td>\n      <td>0.033693</td>\n      <td>0.130218</td>\n      <td>0.100767</td>\n      <td>NaN</td>\n      <td>NaN</td>\n      <td>NaN</td>\n      <td>NaN</td>\n    </tr>\n    <tr>\n      <th>2018-04</th>\n      <td>NaN</td>\n      <td>NaN</td>\n      <td>0.052397</td>\n      <td>0.049662</td>\n      <td>0.055968</td>\n      <td>0.109815</td>\n      <td>NaN</td>\n      <td>NaN</td>\n      <td>NaN</td>\n      <td>NaN</td>\n      <td>NaN</td>\n    </tr>\n    <tr>\n      <th>2018-05</th>\n      <td>0.017769</td>\n      <td>0.017170</td>\n      <td>0.034873</td>\n      <td>0.023759</td>\n      <td>0.027219</td>\n      <td>NaN</td>\n      <td>NaN</td>\n      <td>NaN</td>\n      <td>NaN</td>\n      <td>NaN</td>\n      <td>NaN</td>\n    </tr>\n    <tr>\n      <th>2018-06</th>\n      <td>0.004840</td>\n      <td>0.035502</td>\n      <td>0.046521</td>\n      <td>0.042557</td>\n      <td>NaN</td>\n      <td>NaN</td>\n      <td>NaN</td>\n      <td>NaN</td>\n      <td>NaN</td>\n      <td>NaN</td>\n      <td>NaN</td>\n    </tr>\n    <tr>\n      <th>2018-07</th>\n      <td>0.008959</td>\n      <td>0.024246</td>\n      <td>0.042782</td>\n      <td>NaN</td>\n      <td>NaN</td>\n      <td>NaN</td>\n      <td>NaN</td>\n      <td>NaN</td>\n      <td>NaN</td>\n      <td>NaN</td>\n      <td>NaN</td>\n    </tr>\n    <tr>\n      <th>2018-08</th>\n      <td>0.006531</td>\n      <td>0.006700</td>\n      <td>NaN</td>\n      <td>NaN</td>\n      <td>NaN</td>\n      <td>NaN</td>\n      <td>NaN</td>\n      <td>NaN</td>\n      <td>NaN</td>\n      <td>NaN</td>\n      <td>NaN</td>\n    </tr>\n    <tr>\n      <th>2018-09</th>\n      <td>0.012067</td>\n      <td>NaN</td>\n      <td>NaN</td>\n      <td>NaN</td>\n      <td>NaN</td>\n      <td>NaN</td>\n      <td>NaN</td>\n      <td>NaN</td>\n      <td>NaN</td>\n      <td>NaN</td>\n      <td>NaN</td>\n    </tr>\n  </tbody>\n</table>\n</div>"
     },
     "execution_count": 78,
     "metadata": {},
     "output_type": "execute_result"
    },
    {
     "data": {
      "text/plain": "               合同金额\n年月                 \n2017-10    600000.0\n2017-11  14577000.0\n2017-12  19345000.0\n2018-01  24302000.0\n2018-02   9856000.0\n2018-03  16027000.0\n2018-04  17921000.0\n2018-05  15026000.0\n2018-06  30782000.0\n2018-07  66970000.0\n2018-08  27713000.0\n2018-09  26519000.0\n2018-10   2986000.0",
      "text/html": "<div>\n<style scoped>\n    .dataframe tbody tr th:only-of-type {\n        vertical-align: middle;\n    }\n\n    .dataframe tbody tr th {\n        vertical-align: top;\n    }\n\n    .dataframe thead th {\n        text-align: right;\n    }\n</style>\n<table border=\"1\" class=\"dataframe\">\n  <thead>\n    <tr style=\"text-align: right;\">\n      <th></th>\n      <th>合同金额</th>\n    </tr>\n    <tr>\n      <th>年月</th>\n      <th></th>\n    </tr>\n  </thead>\n  <tbody>\n    <tr>\n      <th>2017-10</th>\n      <td>600000.0</td>\n    </tr>\n    <tr>\n      <th>2017-11</th>\n      <td>14577000.0</td>\n    </tr>\n    <tr>\n      <th>2017-12</th>\n      <td>19345000.0</td>\n    </tr>\n    <tr>\n      <th>2018-01</th>\n      <td>24302000.0</td>\n    </tr>\n    <tr>\n      <th>2018-02</th>\n      <td>9856000.0</td>\n    </tr>\n    <tr>\n      <th>2018-03</th>\n      <td>16027000.0</td>\n    </tr>\n    <tr>\n      <th>2018-04</th>\n      <td>17921000.0</td>\n    </tr>\n    <tr>\n      <th>2018-05</th>\n      <td>15026000.0</td>\n    </tr>\n    <tr>\n      <th>2018-06</th>\n      <td>30782000.0</td>\n    </tr>\n    <tr>\n      <th>2018-07</th>\n      <td>66970000.0</td>\n    </tr>\n    <tr>\n      <th>2018-08</th>\n      <td>27713000.0</td>\n    </tr>\n    <tr>\n      <th>2018-09</th>\n      <td>26519000.0</td>\n    </tr>\n    <tr>\n      <th>2018-10</th>\n      <td>2986000.0</td>\n    </tr>\n  </tbody>\n</table>\n</div>"
     },
     "execution_count": 78,
     "metadata": {},
     "output_type": "execute_result"
    },
    {
     "data": {
      "text/plain": "账龄             1           2           3           4           5           6   \\\n放款月                                                                             \n2017-11       NaN         NaN   409000.00   273000.00   212000.00   772000.00   \n2017-12       NaN    45000.00   293083.33   125249.99   153083.33   285083.33   \n2018-01  228000.0   390000.00   255000.00   484000.00   786833.35  1219000.00   \n2018-02       NaN         NaN    48000.00    48000.00    48000.00   301166.65   \n2018-03       NaN         NaN   328000.00   328000.00   540000.00  2087000.00   \n2018-04       NaN         NaN   939000.00   890000.00  1003000.00  1968000.00   \n2018-05  267000.0   258000.00   524000.00   357000.00   409000.00         NaN   \n2018-06  149000.0  1092833.33  1432000.00  1310000.00         NaN         NaN   \n2018-07  600000.0  1623777.77  2865111.11         NaN         NaN         NaN   \n2018-08  181000.0   185666.66         NaN         NaN         NaN         NaN   \n2018-09  320000.0         NaN         NaN         NaN         NaN         NaN   \n\n账龄               7           8           9          10        11  \n放款月                                                               \n2017-11   824499.98   772000.00   782000.00  779500.00  779500.0  \n2017-12   285083.33   318833.33   318833.33  328833.36       NaN  \n2018-01  1151000.00  1183083.31  1165333.36        NaN       NaN  \n2018-02   279000.00   279000.00         NaN        NaN       NaN  \n2018-03  1615000.00         NaN         NaN        NaN       NaN  \n2018-04         NaN         NaN         NaN        NaN       NaN  \n2018-05         NaN         NaN         NaN        NaN       NaN  \n2018-06         NaN         NaN         NaN        NaN       NaN  \n2018-07         NaN         NaN         NaN        NaN       NaN  \n2018-08         NaN         NaN         NaN        NaN       NaN  \n2018-09         NaN         NaN         NaN        NaN       NaN  ",
      "text/html": "<div>\n<style scoped>\n    .dataframe tbody tr th:only-of-type {\n        vertical-align: middle;\n    }\n\n    .dataframe tbody tr th {\n        vertical-align: top;\n    }\n\n    .dataframe thead th {\n        text-align: right;\n    }\n</style>\n<table border=\"1\" class=\"dataframe\">\n  <thead>\n    <tr style=\"text-align: right;\">\n      <th>账龄</th>\n      <th>1</th>\n      <th>2</th>\n      <th>3</th>\n      <th>4</th>\n      <th>5</th>\n      <th>6</th>\n      <th>7</th>\n      <th>8</th>\n      <th>9</th>\n      <th>10</th>\n      <th>11</th>\n    </tr>\n    <tr>\n      <th>放款月</th>\n      <th></th>\n      <th></th>\n      <th></th>\n      <th></th>\n      <th></th>\n      <th></th>\n      <th></th>\n      <th></th>\n      <th></th>\n      <th></th>\n      <th></th>\n    </tr>\n  </thead>\n  <tbody>\n    <tr>\n      <th>2017-11</th>\n      <td>NaN</td>\n      <td>NaN</td>\n      <td>409000.00</td>\n      <td>273000.00</td>\n      <td>212000.00</td>\n      <td>772000.00</td>\n      <td>824499.98</td>\n      <td>772000.00</td>\n      <td>782000.00</td>\n      <td>779500.00</td>\n      <td>779500.0</td>\n    </tr>\n    <tr>\n      <th>2017-12</th>\n      <td>NaN</td>\n      <td>45000.00</td>\n      <td>293083.33</td>\n      <td>125249.99</td>\n      <td>153083.33</td>\n      <td>285083.33</td>\n      <td>285083.33</td>\n      <td>318833.33</td>\n      <td>318833.33</td>\n      <td>328833.36</td>\n      <td>NaN</td>\n    </tr>\n    <tr>\n      <th>2018-01</th>\n      <td>228000.0</td>\n      <td>390000.00</td>\n      <td>255000.00</td>\n      <td>484000.00</td>\n      <td>786833.35</td>\n      <td>1219000.00</td>\n      <td>1151000.00</td>\n      <td>1183083.31</td>\n      <td>1165333.36</td>\n      <td>NaN</td>\n      <td>NaN</td>\n    </tr>\n    <tr>\n      <th>2018-02</th>\n      <td>NaN</td>\n      <td>NaN</td>\n      <td>48000.00</td>\n      <td>48000.00</td>\n      <td>48000.00</td>\n      <td>301166.65</td>\n      <td>279000.00</td>\n      <td>279000.00</td>\n      <td>NaN</td>\n      <td>NaN</td>\n      <td>NaN</td>\n    </tr>\n    <tr>\n      <th>2018-03</th>\n      <td>NaN</td>\n      <td>NaN</td>\n      <td>328000.00</td>\n      <td>328000.00</td>\n      <td>540000.00</td>\n      <td>2087000.00</td>\n      <td>1615000.00</td>\n      <td>NaN</td>\n      <td>NaN</td>\n      <td>NaN</td>\n      <td>NaN</td>\n    </tr>\n    <tr>\n      <th>2018-04</th>\n      <td>NaN</td>\n      <td>NaN</td>\n      <td>939000.00</td>\n      <td>890000.00</td>\n      <td>1003000.00</td>\n      <td>1968000.00</td>\n      <td>NaN</td>\n      <td>NaN</td>\n      <td>NaN</td>\n      <td>NaN</td>\n      <td>NaN</td>\n    </tr>\n    <tr>\n      <th>2018-05</th>\n      <td>267000.0</td>\n      <td>258000.00</td>\n      <td>524000.00</td>\n      <td>357000.00</td>\n      <td>409000.00</td>\n      <td>NaN</td>\n      <td>NaN</td>\n      <td>NaN</td>\n      <td>NaN</td>\n      <td>NaN</td>\n      <td>NaN</td>\n    </tr>\n    <tr>\n      <th>2018-06</th>\n      <td>149000.0</td>\n      <td>1092833.33</td>\n      <td>1432000.00</td>\n      <td>1310000.00</td>\n      <td>NaN</td>\n      <td>NaN</td>\n      <td>NaN</td>\n      <td>NaN</td>\n      <td>NaN</td>\n      <td>NaN</td>\n      <td>NaN</td>\n    </tr>\n    <tr>\n      <th>2018-07</th>\n      <td>600000.0</td>\n      <td>1623777.77</td>\n      <td>2865111.11</td>\n      <td>NaN</td>\n      <td>NaN</td>\n      <td>NaN</td>\n      <td>NaN</td>\n      <td>NaN</td>\n      <td>NaN</td>\n      <td>NaN</td>\n      <td>NaN</td>\n    </tr>\n    <tr>\n      <th>2018-08</th>\n      <td>181000.0</td>\n      <td>185666.66</td>\n      <td>NaN</td>\n      <td>NaN</td>\n      <td>NaN</td>\n      <td>NaN</td>\n      <td>NaN</td>\n      <td>NaN</td>\n      <td>NaN</td>\n      <td>NaN</td>\n      <td>NaN</td>\n    </tr>\n    <tr>\n      <th>2018-09</th>\n      <td>320000.0</td>\n      <td>NaN</td>\n      <td>NaN</td>\n      <td>NaN</td>\n      <td>NaN</td>\n      <td>NaN</td>\n      <td>NaN</td>\n      <td>NaN</td>\n      <td>NaN</td>\n      <td>NaN</td>\n      <td>NaN</td>\n    </tr>\n  </tbody>\n</table>\n</div>"
     },
     "execution_count": 78,
     "metadata": {},
     "output_type": "execute_result"
    },
    {
     "data": {
      "text/plain": "array([[7, 2, 5],\n       [5, 9, 5],\n       [7, 4, 6]])"
     },
     "execution_count": 78,
     "metadata": {},
     "output_type": "execute_result"
    },
    {
     "data": {
      "text/plain": "array([[6, 1, 4],\n       [4, 8, 4],\n       [6, 3, 5]])"
     },
     "execution_count": 78,
     "metadata": {},
     "output_type": "execute_result"
    },
    {
     "data": {
      "text/plain": "array([1, 1, 1])"
     },
     "execution_count": 78,
     "metadata": {},
     "output_type": "execute_result"
    }
   ],
   "source": [
    "#计算每月逾期金额概念；方法二，利用广播机制\n",
    "import numpy as np\n",
    "pd.DataFrame(pivot_delay.values/cus_gp.iloc[1:12].values,index=pivot_delay.index,columns=pivot_delay.columns)adsd\n",
    "cus_gp\n",
    "pivot_delay\n",
    "np.random.seed(0)\n",
    "arr1 = np.random.randint(1,10,(3,3))\n",
    "arr2 = np.array([1,1,1])\n",
    "arr2+arr1\n",
    "arr1\n",
    "arr2"
   ],
   "metadata": {
    "collapsed": false
   }
  },
  {
   "cell_type": "code",
   "execution_count": 58,
   "outputs": [
    {
     "data": {
      "text/plain": "pandas.core.frame.DataFrame"
     },
     "execution_count": 58,
     "metadata": {},
     "output_type": "execute_result"
    },
    {
     "data": {
      "text/plain": "账龄             1         2         3         4         5         6         7   \\\n2017-10       NaN       NaN       NaN       NaN       NaN       NaN       NaN   \n2017-11       NaN       NaN  0.028058  0.018728  0.014543  0.052960  0.056562   \n2017-12       NaN  0.002326  0.015150  0.006475  0.007913  0.014737  0.014737   \n2018-01  0.009382  0.016048  0.010493  0.019916  0.032377  0.050160  0.047362   \n2018-02       NaN       NaN  0.004870  0.004870  0.004870  0.030557  0.028308   \n2018-03       NaN       NaN  0.020465  0.020465  0.033693  0.130218  0.100767   \n2018-04       NaN       NaN  0.052397  0.049662  0.055968  0.109815       NaN   \n2018-05  0.017769  0.017170  0.034873  0.023759  0.027219       NaN       NaN   \n2018-06  0.004840  0.035502  0.046521  0.042557       NaN       NaN       NaN   \n2018-07  0.008959  0.024246  0.042782       NaN       NaN       NaN       NaN   \n2018-08  0.006531  0.006700       NaN       NaN       NaN       NaN       NaN   \n2018-09  0.012067       NaN       NaN       NaN       NaN       NaN       NaN   \n2018-10       NaN       NaN       NaN       NaN       NaN       NaN       NaN   \n\n账龄             8         9         10        11  \n2017-10       NaN       NaN       NaN       NaN  \n2017-11  0.052960  0.053646  0.053475  0.053475  \n2017-12  0.016481  0.016481  0.016998       NaN  \n2018-01  0.048683  0.047952       NaN       NaN  \n2018-02  0.028308       NaN       NaN       NaN  \n2018-03       NaN       NaN       NaN       NaN  \n2018-04       NaN       NaN       NaN       NaN  \n2018-05       NaN       NaN       NaN       NaN  \n2018-06       NaN       NaN       NaN       NaN  \n2018-07       NaN       NaN       NaN       NaN  \n2018-08       NaN       NaN       NaN       NaN  \n2018-09       NaN       NaN       NaN       NaN  \n2018-10       NaN       NaN       NaN       NaN  ",
      "text/html": "<div>\n<style scoped>\n    .dataframe tbody tr th:only-of-type {\n        vertical-align: middle;\n    }\n\n    .dataframe tbody tr th {\n        vertical-align: top;\n    }\n\n    .dataframe thead th {\n        text-align: right;\n    }\n</style>\n<table border=\"1\" class=\"dataframe\">\n  <thead>\n    <tr style=\"text-align: right;\">\n      <th>账龄</th>\n      <th>1</th>\n      <th>2</th>\n      <th>3</th>\n      <th>4</th>\n      <th>5</th>\n      <th>6</th>\n      <th>7</th>\n      <th>8</th>\n      <th>9</th>\n      <th>10</th>\n      <th>11</th>\n    </tr>\n  </thead>\n  <tbody>\n    <tr>\n      <th>2017-10</th>\n      <td>NaN</td>\n      <td>NaN</td>\n      <td>NaN</td>\n      <td>NaN</td>\n      <td>NaN</td>\n      <td>NaN</td>\n      <td>NaN</td>\n      <td>NaN</td>\n      <td>NaN</td>\n      <td>NaN</td>\n      <td>NaN</td>\n    </tr>\n    <tr>\n      <th>2017-11</th>\n      <td>NaN</td>\n      <td>NaN</td>\n      <td>0.028058</td>\n      <td>0.018728</td>\n      <td>0.014543</td>\n      <td>0.052960</td>\n      <td>0.056562</td>\n      <td>0.052960</td>\n      <td>0.053646</td>\n      <td>0.053475</td>\n      <td>0.053475</td>\n    </tr>\n    <tr>\n      <th>2017-12</th>\n      <td>NaN</td>\n      <td>0.002326</td>\n      <td>0.015150</td>\n      <td>0.006475</td>\n      <td>0.007913</td>\n      <td>0.014737</td>\n      <td>0.014737</td>\n      <td>0.016481</td>\n      <td>0.016481</td>\n      <td>0.016998</td>\n      <td>NaN</td>\n    </tr>\n    <tr>\n      <th>2018-01</th>\n      <td>0.009382</td>\n      <td>0.016048</td>\n      <td>0.010493</td>\n      <td>0.019916</td>\n      <td>0.032377</td>\n      <td>0.050160</td>\n      <td>0.047362</td>\n      <td>0.048683</td>\n      <td>0.047952</td>\n      <td>NaN</td>\n      <td>NaN</td>\n    </tr>\n    <tr>\n      <th>2018-02</th>\n      <td>NaN</td>\n      <td>NaN</td>\n      <td>0.004870</td>\n      <td>0.004870</td>\n      <td>0.004870</td>\n      <td>0.030557</td>\n      <td>0.028308</td>\n      <td>0.028308</td>\n      <td>NaN</td>\n      <td>NaN</td>\n      <td>NaN</td>\n    </tr>\n    <tr>\n      <th>2018-03</th>\n      <td>NaN</td>\n      <td>NaN</td>\n      <td>0.020465</td>\n      <td>0.020465</td>\n      <td>0.033693</td>\n      <td>0.130218</td>\n      <td>0.100767</td>\n      <td>NaN</td>\n      <td>NaN</td>\n      <td>NaN</td>\n      <td>NaN</td>\n    </tr>\n    <tr>\n      <th>2018-04</th>\n      <td>NaN</td>\n      <td>NaN</td>\n      <td>0.052397</td>\n      <td>0.049662</td>\n      <td>0.055968</td>\n      <td>0.109815</td>\n      <td>NaN</td>\n      <td>NaN</td>\n      <td>NaN</td>\n      <td>NaN</td>\n      <td>NaN</td>\n    </tr>\n    <tr>\n      <th>2018-05</th>\n      <td>0.017769</td>\n      <td>0.017170</td>\n      <td>0.034873</td>\n      <td>0.023759</td>\n      <td>0.027219</td>\n      <td>NaN</td>\n      <td>NaN</td>\n      <td>NaN</td>\n      <td>NaN</td>\n      <td>NaN</td>\n      <td>NaN</td>\n    </tr>\n    <tr>\n      <th>2018-06</th>\n      <td>0.004840</td>\n      <td>0.035502</td>\n      <td>0.046521</td>\n      <td>0.042557</td>\n      <td>NaN</td>\n      <td>NaN</td>\n      <td>NaN</td>\n      <td>NaN</td>\n      <td>NaN</td>\n      <td>NaN</td>\n      <td>NaN</td>\n    </tr>\n    <tr>\n      <th>2018-07</th>\n      <td>0.008959</td>\n      <td>0.024246</td>\n      <td>0.042782</td>\n      <td>NaN</td>\n      <td>NaN</td>\n      <td>NaN</td>\n      <td>NaN</td>\n      <td>NaN</td>\n      <td>NaN</td>\n      <td>NaN</td>\n      <td>NaN</td>\n    </tr>\n    <tr>\n      <th>2018-08</th>\n      <td>0.006531</td>\n      <td>0.006700</td>\n      <td>NaN</td>\n      <td>NaN</td>\n      <td>NaN</td>\n      <td>NaN</td>\n      <td>NaN</td>\n      <td>NaN</td>\n      <td>NaN</td>\n      <td>NaN</td>\n      <td>NaN</td>\n    </tr>\n    <tr>\n      <th>2018-09</th>\n      <td>0.012067</td>\n      <td>NaN</td>\n      <td>NaN</td>\n      <td>NaN</td>\n      <td>NaN</td>\n      <td>NaN</td>\n      <td>NaN</td>\n      <td>NaN</td>\n      <td>NaN</td>\n      <td>NaN</td>\n      <td>NaN</td>\n    </tr>\n    <tr>\n      <th>2018-10</th>\n      <td>NaN</td>\n      <td>NaN</td>\n      <td>NaN</td>\n      <td>NaN</td>\n      <td>NaN</td>\n      <td>NaN</td>\n      <td>NaN</td>\n      <td>NaN</td>\n      <td>NaN</td>\n      <td>NaN</td>\n      <td>NaN</td>\n    </tr>\n  </tbody>\n</table>\n</div>"
     },
     "execution_count": 58,
     "metadata": {},
     "output_type": "execute_result"
    },
    {
     "data": {
      "text/plain": "           合同金额\n放款月            \n1    24302000.0\n2     9856000.0\n3    16027000.0\n4    17921000.0\n5    15026000.0\n6    30782000.0\n7    66970000.0\n8    27713000.0\n9    26519000.0\n10    3586000.0\n11   14577000.0\n12   19345000.0",
      "text/html": "<div>\n<style scoped>\n    .dataframe tbody tr th:only-of-type {\n        vertical-align: middle;\n    }\n\n    .dataframe tbody tr th {\n        vertical-align: top;\n    }\n\n    .dataframe thead th {\n        text-align: right;\n    }\n</style>\n<table border=\"1\" class=\"dataframe\">\n  <thead>\n    <tr style=\"text-align: right;\">\n      <th></th>\n      <th>合同金额</th>\n    </tr>\n    <tr>\n      <th>放款月</th>\n      <th></th>\n    </tr>\n  </thead>\n  <tbody>\n    <tr>\n      <th>1</th>\n      <td>24302000.0</td>\n    </tr>\n    <tr>\n      <th>2</th>\n      <td>9856000.0</td>\n    </tr>\n    <tr>\n      <th>3</th>\n      <td>16027000.0</td>\n    </tr>\n    <tr>\n      <th>4</th>\n      <td>17921000.0</td>\n    </tr>\n    <tr>\n      <th>5</th>\n      <td>15026000.0</td>\n    </tr>\n    <tr>\n      <th>6</th>\n      <td>30782000.0</td>\n    </tr>\n    <tr>\n      <th>7</th>\n      <td>66970000.0</td>\n    </tr>\n    <tr>\n      <th>8</th>\n      <td>27713000.0</td>\n    </tr>\n    <tr>\n      <th>9</th>\n      <td>26519000.0</td>\n    </tr>\n    <tr>\n      <th>10</th>\n      <td>3586000.0</td>\n    </tr>\n    <tr>\n      <th>11</th>\n      <td>14577000.0</td>\n    </tr>\n    <tr>\n      <th>12</th>\n      <td>19345000.0</td>\n    </tr>\n  </tbody>\n</table>\n</div>"
     },
     "execution_count": 58,
     "metadata": {},
     "output_type": "execute_result"
    },
    {
     "data": {
      "text/plain": "                               合同ID        客户编号 客户名称  合同期限        放款日期  \\\n0  0005f28cc32945ecbf10cbdda50396b5  1808067960   王倩  18.0  2018-08-08   \n\n         到期时间     合同金额 性别  年龄 婚姻状况  放款月       年月  \n0  2020-02-16  80000.0  女  33   已婚    8  2018-08  ",
      "text/html": "<div>\n<style scoped>\n    .dataframe tbody tr th:only-of-type {\n        vertical-align: middle;\n    }\n\n    .dataframe tbody tr th {\n        vertical-align: top;\n    }\n\n    .dataframe thead th {\n        text-align: right;\n    }\n</style>\n<table border=\"1\" class=\"dataframe\">\n  <thead>\n    <tr style=\"text-align: right;\">\n      <th></th>\n      <th>合同ID</th>\n      <th>客户编号</th>\n      <th>客户名称</th>\n      <th>合同期限</th>\n      <th>放款日期</th>\n      <th>到期时间</th>\n      <th>合同金额</th>\n      <th>性别</th>\n      <th>年龄</th>\n      <th>婚姻状况</th>\n      <th>放款月</th>\n      <th>年月</th>\n    </tr>\n  </thead>\n  <tbody>\n    <tr>\n      <th>0</th>\n      <td>0005f28cc32945ecbf10cbdda50396b5</td>\n      <td>1808067960</td>\n      <td>王倩</td>\n      <td>18.0</td>\n      <td>2018-08-08</td>\n      <td>2020-02-16</td>\n      <td>80000.0</td>\n      <td>女</td>\n      <td>33</td>\n      <td>已婚</td>\n      <td>8</td>\n      <td>2018-08</td>\n    </tr>\n  </tbody>\n</table>\n</div>"
     },
     "execution_count": 58,
     "metadata": {},
     "output_type": "execute_result"
    },
    {
     "data": {
      "text/plain": "                                  合同ID      放款月      观测月  分期数        放款日期  \\\n1171  25b42377e09e4badac090d8411b22d47  2017-12  2018-02  3.0  2017-12-25   \n1242  45048554370844749e3d9d155439d358  2017-11  2018-02  3.0  2017-11-15   \n\n      当前是否逾期  当前最大逾期天数  当期是否逾期  当期最大逾期天数  历史最大逾期天数  最早逾期期数     应还金额  剩余期数  \\\n1171       1         1       1         1         1     2.0  45000.0   2.0   \n1242       1        13       1        13        13     3.0  61000.0   1.0   \n\n         剩余本金  逾期期数     逾期本金        当前日期  账龄  \n1171  45000.0   1.0      0.0  2018-02-28   2  \n1242  61000.0   1.0  61000.0  2018-02-28   3  ",
      "text/html": "<div>\n<style scoped>\n    .dataframe tbody tr th:only-of-type {\n        vertical-align: middle;\n    }\n\n    .dataframe tbody tr th {\n        vertical-align: top;\n    }\n\n    .dataframe thead th {\n        text-align: right;\n    }\n</style>\n<table border=\"1\" class=\"dataframe\">\n  <thead>\n    <tr style=\"text-align: right;\">\n      <th></th>\n      <th>合同ID</th>\n      <th>放款月</th>\n      <th>观测月</th>\n      <th>分期数</th>\n      <th>放款日期</th>\n      <th>当前是否逾期</th>\n      <th>当前最大逾期天数</th>\n      <th>当期是否逾期</th>\n      <th>当期最大逾期天数</th>\n      <th>历史最大逾期天数</th>\n      <th>最早逾期期数</th>\n      <th>应还金额</th>\n      <th>剩余期数</th>\n      <th>剩余本金</th>\n      <th>逾期期数</th>\n      <th>逾期本金</th>\n      <th>当前日期</th>\n      <th>账龄</th>\n    </tr>\n  </thead>\n  <tbody>\n    <tr>\n      <th>1171</th>\n      <td>25b42377e09e4badac090d8411b22d47</td>\n      <td>2017-12</td>\n      <td>2018-02</td>\n      <td>3.0</td>\n      <td>2017-12-25</td>\n      <td>1</td>\n      <td>1</td>\n      <td>1</td>\n      <td>1</td>\n      <td>1</td>\n      <td>2.0</td>\n      <td>45000.0</td>\n      <td>2.0</td>\n      <td>45000.0</td>\n      <td>1.0</td>\n      <td>0.0</td>\n      <td>2018-02-28</td>\n      <td>2</td>\n    </tr>\n    <tr>\n      <th>1242</th>\n      <td>45048554370844749e3d9d155439d358</td>\n      <td>2017-11</td>\n      <td>2018-02</td>\n      <td>3.0</td>\n      <td>2017-11-15</td>\n      <td>1</td>\n      <td>13</td>\n      <td>1</td>\n      <td>13</td>\n      <td>13</td>\n      <td>3.0</td>\n      <td>61000.0</td>\n      <td>1.0</td>\n      <td>61000.0</td>\n      <td>1.0</td>\n      <td>61000.0</td>\n      <td>2018-02-28</td>\n      <td>3</td>\n    </tr>\n  </tbody>\n</table>\n</div>"
     },
     "execution_count": 58,
     "metadata": {},
     "output_type": "execute_result"
    },
    {
     "data": {
      "text/plain": "                               合同ID        客户编号 客户名称  合同期限        放款日期  \\\n0  0005f28cc32945ecbf10cbdda50396b5  1808067960   王倩  18.0  2018-08-08   \n1  000d5719bfee496c87b0680d224fc136  1711231404  景金凤   6.0  2017-11-23   \n2  002837ccb279426fa0f8b48c370e4fef  1809259131  王理传  12.0  2018-09-26   \n\n         到期时间     合同金额 性别  年龄 婚姻状况  放款月       年月  \n0  2020-02-16  80000.0  女  33   已婚    8  2018-08  \n1  2018-05-23  36000.0  女  42   已婚   11  2017-11  \n2  2019-09-28  68000.0  男  43   已婚    9  2018-09  ",
      "text/html": "<div>\n<style scoped>\n    .dataframe tbody tr th:only-of-type {\n        vertical-align: middle;\n    }\n\n    .dataframe tbody tr th {\n        vertical-align: top;\n    }\n\n    .dataframe thead th {\n        text-align: right;\n    }\n</style>\n<table border=\"1\" class=\"dataframe\">\n  <thead>\n    <tr style=\"text-align: right;\">\n      <th></th>\n      <th>合同ID</th>\n      <th>客户编号</th>\n      <th>客户名称</th>\n      <th>合同期限</th>\n      <th>放款日期</th>\n      <th>到期时间</th>\n      <th>合同金额</th>\n      <th>性别</th>\n      <th>年龄</th>\n      <th>婚姻状况</th>\n      <th>放款月</th>\n      <th>年月</th>\n    </tr>\n  </thead>\n  <tbody>\n    <tr>\n      <th>0</th>\n      <td>0005f28cc32945ecbf10cbdda50396b5</td>\n      <td>1808067960</td>\n      <td>王倩</td>\n      <td>18.0</td>\n      <td>2018-08-08</td>\n      <td>2020-02-16</td>\n      <td>80000.0</td>\n      <td>女</td>\n      <td>33</td>\n      <td>已婚</td>\n      <td>8</td>\n      <td>2018-08</td>\n    </tr>\n    <tr>\n      <th>1</th>\n      <td>000d5719bfee496c87b0680d224fc136</td>\n      <td>1711231404</td>\n      <td>景金凤</td>\n      <td>6.0</td>\n      <td>2017-11-23</td>\n      <td>2018-05-23</td>\n      <td>36000.0</td>\n      <td>女</td>\n      <td>42</td>\n      <td>已婚</td>\n      <td>11</td>\n      <td>2017-11</td>\n    </tr>\n    <tr>\n      <th>2</th>\n      <td>002837ccb279426fa0f8b48c370e4fef</td>\n      <td>1809259131</td>\n      <td>王理传</td>\n      <td>12.0</td>\n      <td>2018-09-26</td>\n      <td>2019-09-28</td>\n      <td>68000.0</td>\n      <td>男</td>\n      <td>43</td>\n      <td>已婚</td>\n      <td>9</td>\n      <td>2018-09</td>\n    </tr>\n  </tbody>\n</table>\n</div>"
     },
     "execution_count": 58,
     "metadata": {},
     "output_type": "execute_result"
    },
    {
     "data": {
      "text/plain": "                               合同ID      放款月      观测月  分期数        放款日期  \\\n0  000d5719bfee496c87b0680d224fc136  2017-11  2017-11  6.0  2017-11-23   \n1  038acade4bc14b66a2506b8fa0ab3a09  2017-11  2017-11  6.0  2017-11-08   \n\n   当前是否逾期  当前最大逾期天数  当期是否逾期  当期最大逾期天数  历史最大逾期天数  最早逾期期数     应还金额  剩余期数  \\\n0       0         0       0         0         0  9999.0  36000.0   6.0   \n1       0         0       0         0         0  9999.0  50000.0   6.0   \n\n      剩余本金  逾期期数  逾期本金        当前日期  \n0  36000.0   0.0   0.0  2017-11-30  \n1  50000.0   0.0   0.0  2017-11-30  ",
      "text/html": "<div>\n<style scoped>\n    .dataframe tbody tr th:only-of-type {\n        vertical-align: middle;\n    }\n\n    .dataframe tbody tr th {\n        vertical-align: top;\n    }\n\n    .dataframe thead th {\n        text-align: right;\n    }\n</style>\n<table border=\"1\" class=\"dataframe\">\n  <thead>\n    <tr style=\"text-align: right;\">\n      <th></th>\n      <th>合同ID</th>\n      <th>放款月</th>\n      <th>观测月</th>\n      <th>分期数</th>\n      <th>放款日期</th>\n      <th>当前是否逾期</th>\n      <th>当前最大逾期天数</th>\n      <th>当期是否逾期</th>\n      <th>当期最大逾期天数</th>\n      <th>历史最大逾期天数</th>\n      <th>最早逾期期数</th>\n      <th>应还金额</th>\n      <th>剩余期数</th>\n      <th>剩余本金</th>\n      <th>逾期期数</th>\n      <th>逾期本金</th>\n      <th>当前日期</th>\n    </tr>\n  </thead>\n  <tbody>\n    <tr>\n      <th>0</th>\n      <td>000d5719bfee496c87b0680d224fc136</td>\n      <td>2017-11</td>\n      <td>2017-11</td>\n      <td>6.0</td>\n      <td>2017-11-23</td>\n      <td>0</td>\n      <td>0</td>\n      <td>0</td>\n      <td>0</td>\n      <td>0</td>\n      <td>9999.0</td>\n      <td>36000.0</td>\n      <td>6.0</td>\n      <td>36000.0</td>\n      <td>0.0</td>\n      <td>0.0</td>\n      <td>2017-11-30</td>\n    </tr>\n    <tr>\n      <th>1</th>\n      <td>038acade4bc14b66a2506b8fa0ab3a09</td>\n      <td>2017-11</td>\n      <td>2017-11</td>\n      <td>6.0</td>\n      <td>2017-11-08</td>\n      <td>0</td>\n      <td>0</td>\n      <td>0</td>\n      <td>0</td>\n      <td>0</td>\n      <td>9999.0</td>\n      <td>50000.0</td>\n      <td>6.0</td>\n      <td>50000.0</td>\n      <td>0.0</td>\n      <td>0.0</td>\n      <td>2017-11-30</td>\n    </tr>\n  </tbody>\n</table>\n</div>"
     },
     "execution_count": 58,
     "metadata": {},
     "output_type": "execute_result"
    }
   ],
   "source": [
    "#计算每月的放款总金额；方法一，函数映射\n",
    "customer['放款月'] = pd.to_datetime(customer['放款日期']).dt.month\n",
    "customer['年月'] =customer['放款日期'].astype(str).str[:7]\n",
    "cus_gp = customer.groupby('年月').agg({'合同金额':sum})\n",
    "\n",
    "pivot_delay.apply(lambda x:x/cus_gp['合同金额'])\n",
    "\n",
    "customer.groupby('放款月').agg({'合同金额':sum})\n",
    "customer.head(1)\n",
    "delay.head(2)\n",
    "customer.head(3)\n",
    "repay.head(2)"
   ],
   "metadata": {
    "collapsed": false
   }
  },
  {
   "cell_type": "code",
   "execution_count": 50,
   "outputs": [
    {
     "data": {
      "text/plain": "账龄             1           2           3           4           5           6   \\\n放款月                                                                             \n2017-11       NaN         NaN   409000.00   273000.00   212000.00   772000.00   \n2017-12       NaN    45000.00   293083.33   125249.99   153083.33   285083.33   \n2018-01  228000.0   390000.00   255000.00   484000.00   786833.35  1219000.00   \n2018-02       NaN         NaN    48000.00    48000.00    48000.00   301166.65   \n2018-03       NaN         NaN   328000.00   328000.00   540000.00  2087000.00   \n2018-04       NaN         NaN   939000.00   890000.00  1003000.00  1968000.00   \n2018-05  267000.0   258000.00   524000.00   357000.00   409000.00         NaN   \n2018-06  149000.0  1092833.33  1432000.00  1310000.00         NaN         NaN   \n2018-07  600000.0  1623777.77  2865111.11         NaN         NaN         NaN   \n2018-08  181000.0   185666.66         NaN         NaN         NaN         NaN   \n2018-09  320000.0         NaN         NaN         NaN         NaN         NaN   \n\n账龄               7           8           9          10        11  \n放款月                                                               \n2017-11   824499.98   772000.00   782000.00  779500.00  779500.0  \n2017-12   285083.33   318833.33   318833.33  328833.36       NaN  \n2018-01  1151000.00  1183083.31  1165333.36        NaN       NaN  \n2018-02   279000.00   279000.00         NaN        NaN       NaN  \n2018-03  1615000.00         NaN         NaN        NaN       NaN  \n2018-04         NaN         NaN         NaN        NaN       NaN  \n2018-05         NaN         NaN         NaN        NaN       NaN  \n2018-06         NaN         NaN         NaN        NaN       NaN  \n2018-07         NaN         NaN         NaN        NaN       NaN  \n2018-08         NaN         NaN         NaN        NaN       NaN  \n2018-09         NaN         NaN         NaN        NaN       NaN  ",
      "text/html": "<div>\n<style scoped>\n    .dataframe tbody tr th:only-of-type {\n        vertical-align: middle;\n    }\n\n    .dataframe tbody tr th {\n        vertical-align: top;\n    }\n\n    .dataframe thead th {\n        text-align: right;\n    }\n</style>\n<table border=\"1\" class=\"dataframe\">\n  <thead>\n    <tr style=\"text-align: right;\">\n      <th>账龄</th>\n      <th>1</th>\n      <th>2</th>\n      <th>3</th>\n      <th>4</th>\n      <th>5</th>\n      <th>6</th>\n      <th>7</th>\n      <th>8</th>\n      <th>9</th>\n      <th>10</th>\n      <th>11</th>\n    </tr>\n    <tr>\n      <th>放款月</th>\n      <th></th>\n      <th></th>\n      <th></th>\n      <th></th>\n      <th></th>\n      <th></th>\n      <th></th>\n      <th></th>\n      <th></th>\n      <th></th>\n      <th></th>\n    </tr>\n  </thead>\n  <tbody>\n    <tr>\n      <th>2017-11</th>\n      <td>NaN</td>\n      <td>NaN</td>\n      <td>409000.00</td>\n      <td>273000.00</td>\n      <td>212000.00</td>\n      <td>772000.00</td>\n      <td>824499.98</td>\n      <td>772000.00</td>\n      <td>782000.00</td>\n      <td>779500.00</td>\n      <td>779500.0</td>\n    </tr>\n    <tr>\n      <th>2017-12</th>\n      <td>NaN</td>\n      <td>45000.00</td>\n      <td>293083.33</td>\n      <td>125249.99</td>\n      <td>153083.33</td>\n      <td>285083.33</td>\n      <td>285083.33</td>\n      <td>318833.33</td>\n      <td>318833.33</td>\n      <td>328833.36</td>\n      <td>NaN</td>\n    </tr>\n    <tr>\n      <th>2018-01</th>\n      <td>228000.0</td>\n      <td>390000.00</td>\n      <td>255000.00</td>\n      <td>484000.00</td>\n      <td>786833.35</td>\n      <td>1219000.00</td>\n      <td>1151000.00</td>\n      <td>1183083.31</td>\n      <td>1165333.36</td>\n      <td>NaN</td>\n      <td>NaN</td>\n    </tr>\n    <tr>\n      <th>2018-02</th>\n      <td>NaN</td>\n      <td>NaN</td>\n      <td>48000.00</td>\n      <td>48000.00</td>\n      <td>48000.00</td>\n      <td>301166.65</td>\n      <td>279000.00</td>\n      <td>279000.00</td>\n      <td>NaN</td>\n      <td>NaN</td>\n      <td>NaN</td>\n    </tr>\n    <tr>\n      <th>2018-03</th>\n      <td>NaN</td>\n      <td>NaN</td>\n      <td>328000.00</td>\n      <td>328000.00</td>\n      <td>540000.00</td>\n      <td>2087000.00</td>\n      <td>1615000.00</td>\n      <td>NaN</td>\n      <td>NaN</td>\n      <td>NaN</td>\n      <td>NaN</td>\n    </tr>\n    <tr>\n      <th>2018-04</th>\n      <td>NaN</td>\n      <td>NaN</td>\n      <td>939000.00</td>\n      <td>890000.00</td>\n      <td>1003000.00</td>\n      <td>1968000.00</td>\n      <td>NaN</td>\n      <td>NaN</td>\n      <td>NaN</td>\n      <td>NaN</td>\n      <td>NaN</td>\n    </tr>\n    <tr>\n      <th>2018-05</th>\n      <td>267000.0</td>\n      <td>258000.00</td>\n      <td>524000.00</td>\n      <td>357000.00</td>\n      <td>409000.00</td>\n      <td>NaN</td>\n      <td>NaN</td>\n      <td>NaN</td>\n      <td>NaN</td>\n      <td>NaN</td>\n      <td>NaN</td>\n    </tr>\n    <tr>\n      <th>2018-06</th>\n      <td>149000.0</td>\n      <td>1092833.33</td>\n      <td>1432000.00</td>\n      <td>1310000.00</td>\n      <td>NaN</td>\n      <td>NaN</td>\n      <td>NaN</td>\n      <td>NaN</td>\n      <td>NaN</td>\n      <td>NaN</td>\n      <td>NaN</td>\n    </tr>\n    <tr>\n      <th>2018-07</th>\n      <td>600000.0</td>\n      <td>1623777.77</td>\n      <td>2865111.11</td>\n      <td>NaN</td>\n      <td>NaN</td>\n      <td>NaN</td>\n      <td>NaN</td>\n      <td>NaN</td>\n      <td>NaN</td>\n      <td>NaN</td>\n      <td>NaN</td>\n    </tr>\n    <tr>\n      <th>2018-08</th>\n      <td>181000.0</td>\n      <td>185666.66</td>\n      <td>NaN</td>\n      <td>NaN</td>\n      <td>NaN</td>\n      <td>NaN</td>\n      <td>NaN</td>\n      <td>NaN</td>\n      <td>NaN</td>\n      <td>NaN</td>\n      <td>NaN</td>\n    </tr>\n    <tr>\n      <th>2018-09</th>\n      <td>320000.0</td>\n      <td>NaN</td>\n      <td>NaN</td>\n      <td>NaN</td>\n      <td>NaN</td>\n      <td>NaN</td>\n      <td>NaN</td>\n      <td>NaN</td>\n      <td>NaN</td>\n      <td>NaN</td>\n      <td>NaN</td>\n    </tr>\n  </tbody>\n</table>\n</div>"
     },
     "execution_count": 50,
     "metadata": {},
     "output_type": "execute_result"
    },
    {
     "data": {
      "text/plain": "       放款月  账龄       剩余本金\n0  2017-11   3  409000.00\n1  2017-11   4  273000.00\n2  2017-11   5  212000.00\n3  2017-11   6  772000.00\n4  2017-11   7  824499.98",
      "text/html": "<div>\n<style scoped>\n    .dataframe tbody tr th:only-of-type {\n        vertical-align: middle;\n    }\n\n    .dataframe tbody tr th {\n        vertical-align: top;\n    }\n\n    .dataframe thead th {\n        text-align: right;\n    }\n</style>\n<table border=\"1\" class=\"dataframe\">\n  <thead>\n    <tr style=\"text-align: right;\">\n      <th></th>\n      <th>放款月</th>\n      <th>账龄</th>\n      <th>剩余本金</th>\n    </tr>\n  </thead>\n  <tbody>\n    <tr>\n      <th>0</th>\n      <td>2017-11</td>\n      <td>3</td>\n      <td>409000.00</td>\n    </tr>\n    <tr>\n      <th>1</th>\n      <td>2017-11</td>\n      <td>4</td>\n      <td>273000.00</td>\n    </tr>\n    <tr>\n      <th>2</th>\n      <td>2017-11</td>\n      <td>5</td>\n      <td>212000.00</td>\n    </tr>\n    <tr>\n      <th>3</th>\n      <td>2017-11</td>\n      <td>6</td>\n      <td>772000.00</td>\n    </tr>\n    <tr>\n      <th>4</th>\n      <td>2017-11</td>\n      <td>7</td>\n      <td>824499.98</td>\n    </tr>\n  </tbody>\n</table>\n</div>"
     },
     "execution_count": 50,
     "metadata": {},
     "output_type": "execute_result"
    },
    {
     "data": {
      "text/plain": "                                  合同ID      放款月      观测月  分期数        放款日期  \\\n1171  25b42377e09e4badac090d8411b22d47  2017-12  2018-02  3.0  2017-12-25   \n1242  45048554370844749e3d9d155439d358  2017-11  2018-02  3.0  2017-11-15   \n\n      当前是否逾期  当前最大逾期天数  当期是否逾期  当期最大逾期天数  历史最大逾期天数  最早逾期期数     应还金额  剩余期数  \\\n1171       1         1       1         1         1     2.0  45000.0   2.0   \n1242       1        13       1        13        13     3.0  61000.0   1.0   \n\n         剩余本金  逾期期数     逾期本金        当前日期  账龄  \n1171  45000.0   1.0      0.0  2018-02-28   2  \n1242  61000.0   1.0  61000.0  2018-02-28   3  ",
      "text/html": "<div>\n<style scoped>\n    .dataframe tbody tr th:only-of-type {\n        vertical-align: middle;\n    }\n\n    .dataframe tbody tr th {\n        vertical-align: top;\n    }\n\n    .dataframe thead th {\n        text-align: right;\n    }\n</style>\n<table border=\"1\" class=\"dataframe\">\n  <thead>\n    <tr style=\"text-align: right;\">\n      <th></th>\n      <th>合同ID</th>\n      <th>放款月</th>\n      <th>观测月</th>\n      <th>分期数</th>\n      <th>放款日期</th>\n      <th>当前是否逾期</th>\n      <th>当前最大逾期天数</th>\n      <th>当期是否逾期</th>\n      <th>当期最大逾期天数</th>\n      <th>历史最大逾期天数</th>\n      <th>最早逾期期数</th>\n      <th>应还金额</th>\n      <th>剩余期数</th>\n      <th>剩余本金</th>\n      <th>逾期期数</th>\n      <th>逾期本金</th>\n      <th>当前日期</th>\n      <th>账龄</th>\n    </tr>\n  </thead>\n  <tbody>\n    <tr>\n      <th>1171</th>\n      <td>25b42377e09e4badac090d8411b22d47</td>\n      <td>2017-12</td>\n      <td>2018-02</td>\n      <td>3.0</td>\n      <td>2017-12-25</td>\n      <td>1</td>\n      <td>1</td>\n      <td>1</td>\n      <td>1</td>\n      <td>1</td>\n      <td>2.0</td>\n      <td>45000.0</td>\n      <td>2.0</td>\n      <td>45000.0</td>\n      <td>1.0</td>\n      <td>0.0</td>\n      <td>2018-02-28</td>\n      <td>2</td>\n    </tr>\n    <tr>\n      <th>1242</th>\n      <td>45048554370844749e3d9d155439d358</td>\n      <td>2017-11</td>\n      <td>2018-02</td>\n      <td>3.0</td>\n      <td>2017-11-15</td>\n      <td>1</td>\n      <td>13</td>\n      <td>1</td>\n      <td>13</td>\n      <td>13</td>\n      <td>3.0</td>\n      <td>61000.0</td>\n      <td>1.0</td>\n      <td>61000.0</td>\n      <td>1.0</td>\n      <td>61000.0</td>\n      <td>2018-02-28</td>\n      <td>3</td>\n    </tr>\n  </tbody>\n</table>\n</div>"
     },
     "execution_count": 50,
     "metadata": {},
     "output_type": "execute_result"
    },
    {
     "data": {
      "text/plain": "                               合同ID        客户编号 客户名称  合同期限        放款日期  \\\n0  0005f28cc32945ecbf10cbdda50396b5  1808067960   王倩  18.0  2018-08-08   \n1  000d5719bfee496c87b0680d224fc136  1711231404  景金凤   6.0  2017-11-23   \n2  002837ccb279426fa0f8b48c370e4fef  1809259131  王理传  12.0  2018-09-26   \n\n         到期时间     合同金额 性别  年龄 婚姻状况  放款月  \n0  2020-02-16  80000.0  女  33   已婚    8  \n1  2018-05-23  36000.0  女  42   已婚   11  \n2  2019-09-28  68000.0  男  43   已婚    9  ",
      "text/html": "<div>\n<style scoped>\n    .dataframe tbody tr th:only-of-type {\n        vertical-align: middle;\n    }\n\n    .dataframe tbody tr th {\n        vertical-align: top;\n    }\n\n    .dataframe thead th {\n        text-align: right;\n    }\n</style>\n<table border=\"1\" class=\"dataframe\">\n  <thead>\n    <tr style=\"text-align: right;\">\n      <th></th>\n      <th>合同ID</th>\n      <th>客户编号</th>\n      <th>客户名称</th>\n      <th>合同期限</th>\n      <th>放款日期</th>\n      <th>到期时间</th>\n      <th>合同金额</th>\n      <th>性别</th>\n      <th>年龄</th>\n      <th>婚姻状况</th>\n      <th>放款月</th>\n    </tr>\n  </thead>\n  <tbody>\n    <tr>\n      <th>0</th>\n      <td>0005f28cc32945ecbf10cbdda50396b5</td>\n      <td>1808067960</td>\n      <td>王倩</td>\n      <td>18.0</td>\n      <td>2018-08-08</td>\n      <td>2020-02-16</td>\n      <td>80000.0</td>\n      <td>女</td>\n      <td>33</td>\n      <td>已婚</td>\n      <td>8</td>\n    </tr>\n    <tr>\n      <th>1</th>\n      <td>000d5719bfee496c87b0680d224fc136</td>\n      <td>1711231404</td>\n      <td>景金凤</td>\n      <td>6.0</td>\n      <td>2017-11-23</td>\n      <td>2018-05-23</td>\n      <td>36000.0</td>\n      <td>女</td>\n      <td>42</td>\n      <td>已婚</td>\n      <td>11</td>\n    </tr>\n    <tr>\n      <th>2</th>\n      <td>002837ccb279426fa0f8b48c370e4fef</td>\n      <td>1809259131</td>\n      <td>王理传</td>\n      <td>12.0</td>\n      <td>2018-09-26</td>\n      <td>2019-09-28</td>\n      <td>68000.0</td>\n      <td>男</td>\n      <td>43</td>\n      <td>已婚</td>\n      <td>9</td>\n    </tr>\n  </tbody>\n</table>\n</div>"
     },
     "execution_count": 50,
     "metadata": {},
     "output_type": "execute_result"
    },
    {
     "data": {
      "text/plain": "                               合同ID      放款月      观测月  分期数        放款日期  \\\n0  000d5719bfee496c87b0680d224fc136  2017-11  2017-11  6.0  2017-11-23   \n1  038acade4bc14b66a2506b8fa0ab3a09  2017-11  2017-11  6.0  2017-11-08   \n\n   当前是否逾期  当前最大逾期天数  当期是否逾期  当期最大逾期天数  历史最大逾期天数  最早逾期期数     应还金额  剩余期数  \\\n0       0         0       0         0         0  9999.0  36000.0   6.0   \n1       0         0       0         0         0  9999.0  50000.0   6.0   \n\n      剩余本金  逾期期数  逾期本金        当前日期  \n0  36000.0   0.0   0.0  2017-11-30  \n1  50000.0   0.0   0.0  2017-11-30  ",
      "text/html": "<div>\n<style scoped>\n    .dataframe tbody tr th:only-of-type {\n        vertical-align: middle;\n    }\n\n    .dataframe tbody tr th {\n        vertical-align: top;\n    }\n\n    .dataframe thead th {\n        text-align: right;\n    }\n</style>\n<table border=\"1\" class=\"dataframe\">\n  <thead>\n    <tr style=\"text-align: right;\">\n      <th></th>\n      <th>合同ID</th>\n      <th>放款月</th>\n      <th>观测月</th>\n      <th>分期数</th>\n      <th>放款日期</th>\n      <th>当前是否逾期</th>\n      <th>当前最大逾期天数</th>\n      <th>当期是否逾期</th>\n      <th>当期最大逾期天数</th>\n      <th>历史最大逾期天数</th>\n      <th>最早逾期期数</th>\n      <th>应还金额</th>\n      <th>剩余期数</th>\n      <th>剩余本金</th>\n      <th>逾期期数</th>\n      <th>逾期本金</th>\n      <th>当前日期</th>\n    </tr>\n  </thead>\n  <tbody>\n    <tr>\n      <th>0</th>\n      <td>000d5719bfee496c87b0680d224fc136</td>\n      <td>2017-11</td>\n      <td>2017-11</td>\n      <td>6.0</td>\n      <td>2017-11-23</td>\n      <td>0</td>\n      <td>0</td>\n      <td>0</td>\n      <td>0</td>\n      <td>0</td>\n      <td>9999.0</td>\n      <td>36000.0</td>\n      <td>6.0</td>\n      <td>36000.0</td>\n      <td>0.0</td>\n      <td>0.0</td>\n      <td>2017-11-30</td>\n    </tr>\n    <tr>\n      <th>1</th>\n      <td>038acade4bc14b66a2506b8fa0ab3a09</td>\n      <td>2017-11</td>\n      <td>2017-11</td>\n      <td>6.0</td>\n      <td>2017-11-08</td>\n      <td>0</td>\n      <td>0</td>\n      <td>0</td>\n      <td>0</td>\n      <td>0</td>\n      <td>9999.0</td>\n      <td>50000.0</td>\n      <td>6.0</td>\n      <td>50000.0</td>\n      <td>0.0</td>\n      <td>0.0</td>\n      <td>2017-11-30</td>\n    </tr>\n  </tbody>\n</table>\n</div>"
     },
     "execution_count": 50,
     "metadata": {},
     "output_type": "execute_result"
    }
   ],
   "source": [
    "#每个放款月在每个账龄的违约总金额\n",
    "data = delay.groupby(['放款月','账龄'],as_index=False).agg({'剩余本金':sum})\n",
    "pivot_delay = pd.pivot_table(delay,index='放款月',columns='账龄',values='剩余本金',aggfunc='sum')\n",
    "pd.pivot(data,index='放款月',columns='账龄',values='剩余本金')\n",
    "data.head()\n",
    "delay.head(2)\n",
    "customer.head(3)\n",
    "repay.head(2)"
   ],
   "metadata": {
    "collapsed": false
   }
  },
  {
   "cell_type": "code",
   "execution_count": 41,
   "outputs": [
    {
     "data": {
      "text/plain": "1171    2\n1242    3\n1274    1\n1294    1\n1477    3\ndtype: int64"
     },
     "execution_count": 41,
     "metadata": {},
     "output_type": "execute_result"
    }
   ],
   "source": [
    "import pandas as pd\n",
    "zl2 = (pd.to_datetime(delay['当前日期']).dt.year-pd.to_datetime(delay['放款月']).dt.year)*12+\\\n",
    "(pd.to_datetime(delay['当前日期']).dt.month-pd.to_datetime(delay['放款月']).dt.month)\n",
    "zl2.head()"
   ],
   "metadata": {
    "collapsed": false
   }
  },
  {
   "cell_type": "code",
   "execution_count": 34,
   "outputs": [
    {
     "data": {
      "text/plain": "1171    2\n1242    3\n1274    1\n1294    1\n1477    3\ndtype: int32"
     },
     "execution_count": 34,
     "metadata": {},
     "output_type": "execute_result"
    },
    {
     "name": "stderr",
     "output_type": "stream",
     "text": [
      "C:\\Users\\fzh00\\AppData\\Local\\Temp\\ipykernel_9728\\1629851801.py:4: SettingWithCopyWarning: \n",
      "A value is trying to be set on a copy of a slice from a DataFrame.\n",
      "Try using .loc[row_indexer,col_indexer] = value instead\n",
      "\n",
      "See the caveats in the documentation: https://pandas.pydata.org/pandas-docs/stable/user_guide/indexing.html#returning-a-view-versus-a-copy\n",
      "  delay['账龄'] = zl\n"
     ]
    },
    {
     "data": {
      "text/plain": "                                  合同ID      放款月      观测月  分期数        放款日期  \\\n1171  25b42377e09e4badac090d8411b22d47  2017-12  2018-02  3.0  2017-12-25   \n1242  45048554370844749e3d9d155439d358  2017-11  2018-02  3.0  2017-11-15   \n1274  5054895b73094ef7af22946251ca28b4  2018-01  2018-02  6.0  2018-01-26   \n1294  55ea34d2276041f792f943e62f98a343  2018-01  2018-02  3.0  2018-01-26   \n1477  95eee1cc98bb4ce295e31f5c2b257ead  2017-11  2018-02  3.0  2017-11-16   \n\n      当前是否逾期  当前最大逾期天数  当期是否逾期  当期最大逾期天数  历史最大逾期天数  最早逾期期数      应还金额  剩余期数  \\\n1171       1         1       1         1         1     2.0   45000.0   2.0   \n1242       1        13       1        13        13     3.0   61000.0   1.0   \n1274       1         2       1         2         2     1.0  135000.0   6.0   \n1294       1         2       1         2         2     1.0   93000.0   3.0   \n1477       1        12       1        12        12     3.0  108000.0   1.0   \n\n          剩余本金  逾期期数      逾期本金        当前日期  账龄  \n1171   45000.0   1.0       0.0  2018-02-28   2  \n1242   61000.0   1.0   61000.0  2018-02-28   3  \n1274  135000.0   1.0       0.0  2018-02-28   1  \n1294   93000.0   1.0       0.0  2018-02-28   1  \n1477  108000.0   1.0  108000.0  2018-02-28   3  ",
      "text/html": "<div>\n<style scoped>\n    .dataframe tbody tr th:only-of-type {\n        vertical-align: middle;\n    }\n\n    .dataframe tbody tr th {\n        vertical-align: top;\n    }\n\n    .dataframe thead th {\n        text-align: right;\n    }\n</style>\n<table border=\"1\" class=\"dataframe\">\n  <thead>\n    <tr style=\"text-align: right;\">\n      <th></th>\n      <th>合同ID</th>\n      <th>放款月</th>\n      <th>观测月</th>\n      <th>分期数</th>\n      <th>放款日期</th>\n      <th>当前是否逾期</th>\n      <th>当前最大逾期天数</th>\n      <th>当期是否逾期</th>\n      <th>当期最大逾期天数</th>\n      <th>历史最大逾期天数</th>\n      <th>最早逾期期数</th>\n      <th>应还金额</th>\n      <th>剩余期数</th>\n      <th>剩余本金</th>\n      <th>逾期期数</th>\n      <th>逾期本金</th>\n      <th>当前日期</th>\n      <th>账龄</th>\n    </tr>\n  </thead>\n  <tbody>\n    <tr>\n      <th>1171</th>\n      <td>25b42377e09e4badac090d8411b22d47</td>\n      <td>2017-12</td>\n      <td>2018-02</td>\n      <td>3.0</td>\n      <td>2017-12-25</td>\n      <td>1</td>\n      <td>1</td>\n      <td>1</td>\n      <td>1</td>\n      <td>1</td>\n      <td>2.0</td>\n      <td>45000.0</td>\n      <td>2.0</td>\n      <td>45000.0</td>\n      <td>1.0</td>\n      <td>0.0</td>\n      <td>2018-02-28</td>\n      <td>2</td>\n    </tr>\n    <tr>\n      <th>1242</th>\n      <td>45048554370844749e3d9d155439d358</td>\n      <td>2017-11</td>\n      <td>2018-02</td>\n      <td>3.0</td>\n      <td>2017-11-15</td>\n      <td>1</td>\n      <td>13</td>\n      <td>1</td>\n      <td>13</td>\n      <td>13</td>\n      <td>3.0</td>\n      <td>61000.0</td>\n      <td>1.0</td>\n      <td>61000.0</td>\n      <td>1.0</td>\n      <td>61000.0</td>\n      <td>2018-02-28</td>\n      <td>3</td>\n    </tr>\n    <tr>\n      <th>1274</th>\n      <td>5054895b73094ef7af22946251ca28b4</td>\n      <td>2018-01</td>\n      <td>2018-02</td>\n      <td>6.0</td>\n      <td>2018-01-26</td>\n      <td>1</td>\n      <td>2</td>\n      <td>1</td>\n      <td>2</td>\n      <td>2</td>\n      <td>1.0</td>\n      <td>135000.0</td>\n      <td>6.0</td>\n      <td>135000.0</td>\n      <td>1.0</td>\n      <td>0.0</td>\n      <td>2018-02-28</td>\n      <td>1</td>\n    </tr>\n    <tr>\n      <th>1294</th>\n      <td>55ea34d2276041f792f943e62f98a343</td>\n      <td>2018-01</td>\n      <td>2018-02</td>\n      <td>3.0</td>\n      <td>2018-01-26</td>\n      <td>1</td>\n      <td>2</td>\n      <td>1</td>\n      <td>2</td>\n      <td>2</td>\n      <td>1.0</td>\n      <td>93000.0</td>\n      <td>3.0</td>\n      <td>93000.0</td>\n      <td>1.0</td>\n      <td>0.0</td>\n      <td>2018-02-28</td>\n      <td>1</td>\n    </tr>\n    <tr>\n      <th>1477</th>\n      <td>95eee1cc98bb4ce295e31f5c2b257ead</td>\n      <td>2017-11</td>\n      <td>2018-02</td>\n      <td>3.0</td>\n      <td>2017-11-16</td>\n      <td>1</td>\n      <td>12</td>\n      <td>1</td>\n      <td>12</td>\n      <td>12</td>\n      <td>3.0</td>\n      <td>108000.0</td>\n      <td>1.0</td>\n      <td>108000.0</td>\n      <td>1.0</td>\n      <td>108000.0</td>\n      <td>2018-02-28</td>\n      <td>3</td>\n    </tr>\n  </tbody>\n</table>\n</div>"
     },
     "execution_count": 34,
     "metadata": {},
     "output_type": "execute_result"
    }
   ],
   "source": [
    "#账龄= 观察日期-放款日期\n",
    "zl = (delay['观测月'].astype(str).str[:4].astype(int)-delay['放款月'].astype(str).str[:4].astype(int))*12+(delay['观测月'].astype(str).str[5:].astype(int)-delay['放款月'].astype(str).str[5:].astype(int))\n",
    "zl.head()\n",
    "delay['账龄'] = zl\n",
    "delay.head()"
   ],
   "metadata": {
    "collapsed": false
   }
  },
  {
   "cell_type": "code",
   "execution_count": 28,
   "outputs": [
    {
     "data": {
      "text/plain": "                               合同ID        客户编号 客户名称  合同期限        放款日期  \\\n0  0005f28cc32945ecbf10cbdda50396b5  1808067960   王倩  18.0  2018-08-08   \n1  000d5719bfee496c87b0680d224fc136  1711231404  景金凤   6.0  2017-11-23   \n2  002837ccb279426fa0f8b48c370e4fef  1809259131  王理传  12.0  2018-09-26   \n\n         到期时间     合同金额 性别  年龄 婚姻状况  \n0  2020-02-16  80000.0  女  33   已婚  \n1  2018-05-23  36000.0  女  42   已婚  \n2  2019-09-28  68000.0  男  43   已婚  ",
      "text/html": "<div>\n<style scoped>\n    .dataframe tbody tr th:only-of-type {\n        vertical-align: middle;\n    }\n\n    .dataframe tbody tr th {\n        vertical-align: top;\n    }\n\n    .dataframe thead th {\n        text-align: right;\n    }\n</style>\n<table border=\"1\" class=\"dataframe\">\n  <thead>\n    <tr style=\"text-align: right;\">\n      <th></th>\n      <th>合同ID</th>\n      <th>客户编号</th>\n      <th>客户名称</th>\n      <th>合同期限</th>\n      <th>放款日期</th>\n      <th>到期时间</th>\n      <th>合同金额</th>\n      <th>性别</th>\n      <th>年龄</th>\n      <th>婚姻状况</th>\n    </tr>\n  </thead>\n  <tbody>\n    <tr>\n      <th>0</th>\n      <td>0005f28cc32945ecbf10cbdda50396b5</td>\n      <td>1808067960</td>\n      <td>王倩</td>\n      <td>18.0</td>\n      <td>2018-08-08</td>\n      <td>2020-02-16</td>\n      <td>80000.0</td>\n      <td>女</td>\n      <td>33</td>\n      <td>已婚</td>\n    </tr>\n    <tr>\n      <th>1</th>\n      <td>000d5719bfee496c87b0680d224fc136</td>\n      <td>1711231404</td>\n      <td>景金凤</td>\n      <td>6.0</td>\n      <td>2017-11-23</td>\n      <td>2018-05-23</td>\n      <td>36000.0</td>\n      <td>女</td>\n      <td>42</td>\n      <td>已婚</td>\n    </tr>\n    <tr>\n      <th>2</th>\n      <td>002837ccb279426fa0f8b48c370e4fef</td>\n      <td>1809259131</td>\n      <td>王理传</td>\n      <td>12.0</td>\n      <td>2018-09-26</td>\n      <td>2019-09-28</td>\n      <td>68000.0</td>\n      <td>男</td>\n      <td>43</td>\n      <td>已婚</td>\n    </tr>\n  </tbody>\n</table>\n</div>"
     },
     "execution_count": 28,
     "metadata": {},
     "output_type": "execute_result"
    },
    {
     "data": {
      "text/plain": "                               合同ID      放款月      观测月  分期数        放款日期  \\\n0  000d5719bfee496c87b0680d224fc136  2017-11  2017-11  6.0  2017-11-23   \n1  038acade4bc14b66a2506b8fa0ab3a09  2017-11  2017-11  6.0  2017-11-08   \n\n   当前是否逾期  当前最大逾期天数  当期是否逾期  当期最大逾期天数  历史最大逾期天数  最早逾期期数     应还金额  剩余期数  \\\n0       0         0       0         0         0  9999.0  36000.0   6.0   \n1       0         0       0         0         0  9999.0  50000.0   6.0   \n\n      剩余本金  逾期期数  逾期本金        当前日期  \n0  36000.0   0.0   0.0  2017-11-30  \n1  50000.0   0.0   0.0  2017-11-30  ",
      "text/html": "<div>\n<style scoped>\n    .dataframe tbody tr th:only-of-type {\n        vertical-align: middle;\n    }\n\n    .dataframe tbody tr th {\n        vertical-align: top;\n    }\n\n    .dataframe thead th {\n        text-align: right;\n    }\n</style>\n<table border=\"1\" class=\"dataframe\">\n  <thead>\n    <tr style=\"text-align: right;\">\n      <th></th>\n      <th>合同ID</th>\n      <th>放款月</th>\n      <th>观测月</th>\n      <th>分期数</th>\n      <th>放款日期</th>\n      <th>当前是否逾期</th>\n      <th>当前最大逾期天数</th>\n      <th>当期是否逾期</th>\n      <th>当期最大逾期天数</th>\n      <th>历史最大逾期天数</th>\n      <th>最早逾期期数</th>\n      <th>应还金额</th>\n      <th>剩余期数</th>\n      <th>剩余本金</th>\n      <th>逾期期数</th>\n      <th>逾期本金</th>\n      <th>当前日期</th>\n    </tr>\n  </thead>\n  <tbody>\n    <tr>\n      <th>0</th>\n      <td>000d5719bfee496c87b0680d224fc136</td>\n      <td>2017-11</td>\n      <td>2017-11</td>\n      <td>6.0</td>\n      <td>2017-11-23</td>\n      <td>0</td>\n      <td>0</td>\n      <td>0</td>\n      <td>0</td>\n      <td>0</td>\n      <td>9999.0</td>\n      <td>36000.0</td>\n      <td>6.0</td>\n      <td>36000.0</td>\n      <td>0.0</td>\n      <td>0.0</td>\n      <td>2017-11-30</td>\n    </tr>\n    <tr>\n      <th>1</th>\n      <td>038acade4bc14b66a2506b8fa0ab3a09</td>\n      <td>2017-11</td>\n      <td>2017-11</td>\n      <td>6.0</td>\n      <td>2017-11-08</td>\n      <td>0</td>\n      <td>0</td>\n      <td>0</td>\n      <td>0</td>\n      <td>0</td>\n      <td>9999.0</td>\n      <td>50000.0</td>\n      <td>6.0</td>\n      <td>50000.0</td>\n      <td>0.0</td>\n      <td>0.0</td>\n      <td>2017-11-30</td>\n    </tr>\n  </tbody>\n</table>\n</div>"
     },
     "execution_count": 28,
     "metadata": {},
     "output_type": "execute_result"
    }
   ],
   "source": [
    "#计算账龄\n",
    "\n",
    "customer.head(3)\n",
    "repay.head(2)"
   ],
   "metadata": {
    "collapsed": false
   }
  },
  {
   "cell_type": "code",
   "execution_count": 25,
   "outputs": [
    {
     "data": {
      "text/plain": "(344, 17)"
     },
     "execution_count": 25,
     "metadata": {},
     "output_type": "execute_result"
    }
   ],
   "source": [
    "#找出逾期天数\n",
    "delay = repay[repay['当前最大逾期天数']>0]\n",
    "delay.shape"
   ],
   "metadata": {
    "collapsed": false
   }
  },
  {
   "cell_type": "code",
   "execution_count": null,
   "outputs": [],
   "source": [],
   "metadata": {
    "collapsed": false
   }
  },
  {
   "cell_type": "code",
   "execution_count": 22,
   "outputs": [
    {
     "data": {
      "text/plain": "                               合同ID        客户编号 客户名称  合同期限        放款日期  \\\n0  0005f28cc32945ecbf10cbdda50396b5  1808067960   王倩  18.0  2018-08-08   \n1  000d5719bfee496c87b0680d224fc136  1711231404  景金凤   6.0  2017-11-23   \n2  002837ccb279426fa0f8b48c370e4fef  1809259131  王理传  12.0  2018-09-26   \n\n         到期时间     合同金额 性别  年龄 婚姻状况  \n0  2020-02-16  80000.0  女  33   已婚  \n1  2018-05-23  36000.0  女  42   已婚  \n2  2019-09-28  68000.0  男  43   已婚  ",
      "text/html": "<div>\n<style scoped>\n    .dataframe tbody tr th:only-of-type {\n        vertical-align: middle;\n    }\n\n    .dataframe tbody tr th {\n        vertical-align: top;\n    }\n\n    .dataframe thead th {\n        text-align: right;\n    }\n</style>\n<table border=\"1\" class=\"dataframe\">\n  <thead>\n    <tr style=\"text-align: right;\">\n      <th></th>\n      <th>合同ID</th>\n      <th>客户编号</th>\n      <th>客户名称</th>\n      <th>合同期限</th>\n      <th>放款日期</th>\n      <th>到期时间</th>\n      <th>合同金额</th>\n      <th>性别</th>\n      <th>年龄</th>\n      <th>婚姻状况</th>\n    </tr>\n  </thead>\n  <tbody>\n    <tr>\n      <th>0</th>\n      <td>0005f28cc32945ecbf10cbdda50396b5</td>\n      <td>1808067960</td>\n      <td>王倩</td>\n      <td>18.0</td>\n      <td>2018-08-08</td>\n      <td>2020-02-16</td>\n      <td>80000.0</td>\n      <td>女</td>\n      <td>33</td>\n      <td>已婚</td>\n    </tr>\n    <tr>\n      <th>1</th>\n      <td>000d5719bfee496c87b0680d224fc136</td>\n      <td>1711231404</td>\n      <td>景金凤</td>\n      <td>6.0</td>\n      <td>2017-11-23</td>\n      <td>2018-05-23</td>\n      <td>36000.0</td>\n      <td>女</td>\n      <td>42</td>\n      <td>已婚</td>\n    </tr>\n    <tr>\n      <th>2</th>\n      <td>002837ccb279426fa0f8b48c370e4fef</td>\n      <td>1809259131</td>\n      <td>王理传</td>\n      <td>12.0</td>\n      <td>2018-09-26</td>\n      <td>2019-09-28</td>\n      <td>68000.0</td>\n      <td>男</td>\n      <td>43</td>\n      <td>已婚</td>\n    </tr>\n  </tbody>\n</table>\n</div>"
     },
     "execution_count": 22,
     "metadata": {},
     "output_type": "execute_result"
    },
    {
     "data": {
      "text/plain": "                               合同ID      放款月      观测月  分期数        放款日期  \\\n0  000d5719bfee496c87b0680d224fc136  2017-11  2017-11  6.0  2017-11-23   \n1  038acade4bc14b66a2506b8fa0ab3a09  2017-11  2017-11  6.0  2017-11-08   \n\n   当前是否逾期  当前最大逾期天数  当期是否逾期  当期最大逾期天数  历史最大逾期天数  最早逾期期数     应还金额  剩余期数  \\\n0       0         0       0         0         0  9999.0  36000.0   6.0   \n1       0         0       0         0         0  9999.0  50000.0   6.0   \n\n      剩余本金  逾期期数  逾期本金        当前日期  \n0  36000.0   0.0   0.0  2017-11-30  \n1  50000.0   0.0   0.0  2017-11-30  ",
      "text/html": "<div>\n<style scoped>\n    .dataframe tbody tr th:only-of-type {\n        vertical-align: middle;\n    }\n\n    .dataframe tbody tr th {\n        vertical-align: top;\n    }\n\n    .dataframe thead th {\n        text-align: right;\n    }\n</style>\n<table border=\"1\" class=\"dataframe\">\n  <thead>\n    <tr style=\"text-align: right;\">\n      <th></th>\n      <th>合同ID</th>\n      <th>放款月</th>\n      <th>观测月</th>\n      <th>分期数</th>\n      <th>放款日期</th>\n      <th>当前是否逾期</th>\n      <th>当前最大逾期天数</th>\n      <th>当期是否逾期</th>\n      <th>当期最大逾期天数</th>\n      <th>历史最大逾期天数</th>\n      <th>最早逾期期数</th>\n      <th>应还金额</th>\n      <th>剩余期数</th>\n      <th>剩余本金</th>\n      <th>逾期期数</th>\n      <th>逾期本金</th>\n      <th>当前日期</th>\n    </tr>\n  </thead>\n  <tbody>\n    <tr>\n      <th>0</th>\n      <td>000d5719bfee496c87b0680d224fc136</td>\n      <td>2017-11</td>\n      <td>2017-11</td>\n      <td>6.0</td>\n      <td>2017-11-23</td>\n      <td>0</td>\n      <td>0</td>\n      <td>0</td>\n      <td>0</td>\n      <td>0</td>\n      <td>9999.0</td>\n      <td>36000.0</td>\n      <td>6.0</td>\n      <td>36000.0</td>\n      <td>0.0</td>\n      <td>0.0</td>\n      <td>2017-11-30</td>\n    </tr>\n    <tr>\n      <th>1</th>\n      <td>038acade4bc14b66a2506b8fa0ab3a09</td>\n      <td>2017-11</td>\n      <td>2017-11</td>\n      <td>6.0</td>\n      <td>2017-11-08</td>\n      <td>0</td>\n      <td>0</td>\n      <td>0</td>\n      <td>0</td>\n      <td>0</td>\n      <td>9999.0</td>\n      <td>50000.0</td>\n      <td>6.0</td>\n      <td>50000.0</td>\n      <td>0.0</td>\n      <td>0.0</td>\n      <td>2017-11-30</td>\n    </tr>\n  </tbody>\n</table>\n</div>"
     },
     "execution_count": 22,
     "metadata": {},
     "output_type": "execute_result"
    }
   ],
   "source": [
    "customer.head(3)\n",
    "repay.head(2)"
   ],
   "metadata": {
    "collapsed": false
   }
  },
  {
   "cell_type": "code",
   "execution_count": 15,
   "outputs": [
    {
     "name": "stderr",
     "output_type": "stream",
     "text": [
      "C:\\Users\\fzh00\\AppData\\Local\\Temp\\ipykernel_9728\\1574555202.py:8: UserWarning: pandas only supports SQLAlchemy connectable (engine/connection) or database string URI or sqlite3 DBAPI2 connection. Other DBAPI2 objects are not tested. Please consider using SQLAlchemy.\n",
      "  customer = pd.read_sql(sql_cus,conn)\n",
      "C:\\Users\\fzh00\\AppData\\Local\\Temp\\ipykernel_9728\\1574555202.py:9: UserWarning: pandas only supports SQLAlchemy connectable (engine/connection) or database string URI or sqlite3 DBAPI2 connection. Other DBAPI2 objects are not tested. Please consider using SQLAlchemy.\n",
      "  repay = pd.read_sql(sql_rep,conn)\n"
     ]
    },
    {
     "data": {
      "text/plain": "(15841, 17)"
     },
     "execution_count": 15,
     "metadata": {},
     "output_type": "execute_result"
    }
   ],
   "source": [
    "import pandas as pd\n",
    "import pymysql\n",
    "conn = pymysql.connect(host='localhost',port=3306,user='root',passwd='1qaz@WSX',\n",
    "                      database='cda3')\n",
    "cur = conn.cursor()\n",
    "sql_cus = 'select * from customer_detail'\n",
    "sql_rep = 'select * from repayment_sum_month'\n",
    "customer = pd.read_sql(sql_cus,conn)\n",
    "repay = pd.read_sql(sql_rep,conn)\n",
    "customer.shape\n",
    "repay.shape"
   ],
   "metadata": {
    "collapsed": false
   }
  },
  {
   "cell_type": "code",
   "execution_count": 14,
   "outputs": [
    {
     "ename": "TimeoutError",
     "evalue": "[WinError 10060] 由于连接方在一段时间后没有正确答复或连接的主机没有反应，连接尝试失败。",
     "output_type": "error",
     "traceback": [
      "\u001B[1;31m---------------------------------------------------------------------------\u001B[0m",
      "\u001B[1;31mTimeoutError\u001B[0m                              Traceback (most recent call last)",
      "Cell \u001B[1;32mIn[14], line 21\u001B[0m\n\u001B[0;32m     19\u001B[0m message[\u001B[38;5;124m'\u001B[39m\u001B[38;5;124mTo\u001B[39m\u001B[38;5;124m'\u001B[39m] \u001B[38;5;241m=\u001B[39m \u001B[38;5;124m'\u001B[39m\u001B[38;5;124m;\u001B[39m\u001B[38;5;124m'\u001B[39m\u001B[38;5;241m.\u001B[39mjoin(receiver)\n\u001B[0;32m     20\u001B[0m \u001B[38;5;66;03m#发送邮件\u001B[39;00m\n\u001B[1;32m---> 21\u001B[0m smtp \u001B[38;5;241m=\u001B[39m \u001B[43msmtplib\u001B[49m\u001B[38;5;241;43m.\u001B[39;49m\u001B[43mSMTP_SSL\u001B[49m\u001B[43m(\u001B[49m\u001B[43mhost\u001B[49m\u001B[43m)\u001B[49m\n\u001B[0;32m     22\u001B[0m smtp\u001B[38;5;241m.\u001B[39mconnect(host,port)\n\u001B[0;32m     24\u001B[0m smtp\u001B[38;5;241m.\u001B[39mlogin(user,password)\n",
      "File \u001B[1;32mC:\\ProgramData\\Anaconda3\\envs\\pythonProject_anaconda\\lib\\smtplib.py:1050\u001B[0m, in \u001B[0;36mSMTP_SSL.__init__\u001B[1;34m(self, host, port, local_hostname, keyfile, certfile, timeout, source_address, context)\u001B[0m\n\u001B[0;32m   1047\u001B[0m     context \u001B[38;5;241m=\u001B[39m ssl\u001B[38;5;241m.\u001B[39m_create_stdlib_context(certfile\u001B[38;5;241m=\u001B[39mcertfile,\n\u001B[0;32m   1048\u001B[0m                                          keyfile\u001B[38;5;241m=\u001B[39mkeyfile)\n\u001B[0;32m   1049\u001B[0m \u001B[38;5;28mself\u001B[39m\u001B[38;5;241m.\u001B[39mcontext \u001B[38;5;241m=\u001B[39m context\n\u001B[1;32m-> 1050\u001B[0m \u001B[43mSMTP\u001B[49m\u001B[38;5;241;43m.\u001B[39;49m\u001B[38;5;21;43m__init__\u001B[39;49m\u001B[43m(\u001B[49m\u001B[38;5;28;43mself\u001B[39;49m\u001B[43m,\u001B[49m\u001B[43m \u001B[49m\u001B[43mhost\u001B[49m\u001B[43m,\u001B[49m\u001B[43m \u001B[49m\u001B[43mport\u001B[49m\u001B[43m,\u001B[49m\u001B[43m \u001B[49m\u001B[43mlocal_hostname\u001B[49m\u001B[43m,\u001B[49m\u001B[43m \u001B[49m\u001B[43mtimeout\u001B[49m\u001B[43m,\u001B[49m\n\u001B[0;32m   1051\u001B[0m \u001B[43m              \u001B[49m\u001B[43msource_address\u001B[49m\u001B[43m)\u001B[49m\n",
      "File \u001B[1;32mC:\\ProgramData\\Anaconda3\\envs\\pythonProject_anaconda\\lib\\smtplib.py:255\u001B[0m, in \u001B[0;36mSMTP.__init__\u001B[1;34m(self, host, port, local_hostname, timeout, source_address)\u001B[0m\n\u001B[0;32m    252\u001B[0m \u001B[38;5;28mself\u001B[39m\u001B[38;5;241m.\u001B[39m_auth_challenge_count \u001B[38;5;241m=\u001B[39m \u001B[38;5;241m0\u001B[39m\n\u001B[0;32m    254\u001B[0m \u001B[38;5;28;01mif\u001B[39;00m host:\n\u001B[1;32m--> 255\u001B[0m     (code, msg) \u001B[38;5;241m=\u001B[39m \u001B[38;5;28;43mself\u001B[39;49m\u001B[38;5;241;43m.\u001B[39;49m\u001B[43mconnect\u001B[49m\u001B[43m(\u001B[49m\u001B[43mhost\u001B[49m\u001B[43m,\u001B[49m\u001B[43m \u001B[49m\u001B[43mport\u001B[49m\u001B[43m)\u001B[49m\n\u001B[0;32m    256\u001B[0m     \u001B[38;5;28;01mif\u001B[39;00m code \u001B[38;5;241m!=\u001B[39m \u001B[38;5;241m220\u001B[39m:\n\u001B[0;32m    257\u001B[0m         \u001B[38;5;28mself\u001B[39m\u001B[38;5;241m.\u001B[39mclose()\n",
      "File \u001B[1;32mC:\\ProgramData\\Anaconda3\\envs\\pythonProject_anaconda\\lib\\smtplib.py:341\u001B[0m, in \u001B[0;36mSMTP.connect\u001B[1;34m(self, host, port, source_address)\u001B[0m\n\u001B[0;32m    339\u001B[0m     port \u001B[38;5;241m=\u001B[39m \u001B[38;5;28mself\u001B[39m\u001B[38;5;241m.\u001B[39mdefault_port\n\u001B[0;32m    340\u001B[0m sys\u001B[38;5;241m.\u001B[39maudit(\u001B[38;5;124m\"\u001B[39m\u001B[38;5;124msmtplib.connect\u001B[39m\u001B[38;5;124m\"\u001B[39m, \u001B[38;5;28mself\u001B[39m, host, port)\n\u001B[1;32m--> 341\u001B[0m \u001B[38;5;28mself\u001B[39m\u001B[38;5;241m.\u001B[39msock \u001B[38;5;241m=\u001B[39m \u001B[38;5;28;43mself\u001B[39;49m\u001B[38;5;241;43m.\u001B[39;49m\u001B[43m_get_socket\u001B[49m\u001B[43m(\u001B[49m\u001B[43mhost\u001B[49m\u001B[43m,\u001B[49m\u001B[43m \u001B[49m\u001B[43mport\u001B[49m\u001B[43m,\u001B[49m\u001B[43m \u001B[49m\u001B[38;5;28;43mself\u001B[39;49m\u001B[38;5;241;43m.\u001B[39;49m\u001B[43mtimeout\u001B[49m\u001B[43m)\u001B[49m\n\u001B[0;32m    342\u001B[0m \u001B[38;5;28mself\u001B[39m\u001B[38;5;241m.\u001B[39mfile \u001B[38;5;241m=\u001B[39m \u001B[38;5;28;01mNone\u001B[39;00m\n\u001B[0;32m    343\u001B[0m (code, msg) \u001B[38;5;241m=\u001B[39m \u001B[38;5;28mself\u001B[39m\u001B[38;5;241m.\u001B[39mgetreply()\n",
      "File \u001B[1;32mC:\\ProgramData\\Anaconda3\\envs\\pythonProject_anaconda\\lib\\smtplib.py:1056\u001B[0m, in \u001B[0;36mSMTP_SSL._get_socket\u001B[1;34m(self, host, port, timeout)\u001B[0m\n\u001B[0;32m   1054\u001B[0m \u001B[38;5;28;01mif\u001B[39;00m \u001B[38;5;28mself\u001B[39m\u001B[38;5;241m.\u001B[39mdebuglevel \u001B[38;5;241m>\u001B[39m \u001B[38;5;241m0\u001B[39m:\n\u001B[0;32m   1055\u001B[0m     \u001B[38;5;28mself\u001B[39m\u001B[38;5;241m.\u001B[39m_print_debug(\u001B[38;5;124m'\u001B[39m\u001B[38;5;124mconnect:\u001B[39m\u001B[38;5;124m'\u001B[39m, (host, port))\n\u001B[1;32m-> 1056\u001B[0m new_socket \u001B[38;5;241m=\u001B[39m \u001B[38;5;28;43msuper\u001B[39;49m\u001B[43m(\u001B[49m\u001B[43m)\u001B[49m\u001B[38;5;241;43m.\u001B[39;49m\u001B[43m_get_socket\u001B[49m\u001B[43m(\u001B[49m\u001B[43mhost\u001B[49m\u001B[43m,\u001B[49m\u001B[43m \u001B[49m\u001B[43mport\u001B[49m\u001B[43m,\u001B[49m\u001B[43m \u001B[49m\u001B[43mtimeout\u001B[49m\u001B[43m)\u001B[49m\n\u001B[0;32m   1057\u001B[0m new_socket \u001B[38;5;241m=\u001B[39m \u001B[38;5;28mself\u001B[39m\u001B[38;5;241m.\u001B[39mcontext\u001B[38;5;241m.\u001B[39mwrap_socket(new_socket,\n\u001B[0;32m   1058\u001B[0m                                       server_hostname\u001B[38;5;241m=\u001B[39m\u001B[38;5;28mself\u001B[39m\u001B[38;5;241m.\u001B[39m_host)\n\u001B[0;32m   1059\u001B[0m \u001B[38;5;28;01mreturn\u001B[39;00m new_socket\n",
      "File \u001B[1;32mC:\\ProgramData\\Anaconda3\\envs\\pythonProject_anaconda\\lib\\smtplib.py:312\u001B[0m, in \u001B[0;36mSMTP._get_socket\u001B[1;34m(self, host, port, timeout)\u001B[0m\n\u001B[0;32m    310\u001B[0m \u001B[38;5;28;01mif\u001B[39;00m \u001B[38;5;28mself\u001B[39m\u001B[38;5;241m.\u001B[39mdebuglevel \u001B[38;5;241m>\u001B[39m \u001B[38;5;241m0\u001B[39m:\n\u001B[0;32m    311\u001B[0m     \u001B[38;5;28mself\u001B[39m\u001B[38;5;241m.\u001B[39m_print_debug(\u001B[38;5;124m'\u001B[39m\u001B[38;5;124mconnect: to\u001B[39m\u001B[38;5;124m'\u001B[39m, (host, port), \u001B[38;5;28mself\u001B[39m\u001B[38;5;241m.\u001B[39msource_address)\n\u001B[1;32m--> 312\u001B[0m \u001B[38;5;28;01mreturn\u001B[39;00m \u001B[43msocket\u001B[49m\u001B[38;5;241;43m.\u001B[39;49m\u001B[43mcreate_connection\u001B[49m\u001B[43m(\u001B[49m\u001B[43m(\u001B[49m\u001B[43mhost\u001B[49m\u001B[43m,\u001B[49m\u001B[43m \u001B[49m\u001B[43mport\u001B[49m\u001B[43m)\u001B[49m\u001B[43m,\u001B[49m\u001B[43m \u001B[49m\u001B[43mtimeout\u001B[49m\u001B[43m,\u001B[49m\n\u001B[0;32m    313\u001B[0m \u001B[43m                                \u001B[49m\u001B[38;5;28;43mself\u001B[39;49m\u001B[38;5;241;43m.\u001B[39;49m\u001B[43msource_address\u001B[49m\u001B[43m)\u001B[49m\n",
      "File \u001B[1;32mC:\\ProgramData\\Anaconda3\\envs\\pythonProject_anaconda\\lib\\socket.py:845\u001B[0m, in \u001B[0;36mcreate_connection\u001B[1;34m(address, timeout, source_address)\u001B[0m\n\u001B[0;32m    843\u001B[0m \u001B[38;5;28;01mif\u001B[39;00m err \u001B[38;5;129;01mis\u001B[39;00m \u001B[38;5;129;01mnot\u001B[39;00m \u001B[38;5;28;01mNone\u001B[39;00m:\n\u001B[0;32m    844\u001B[0m     \u001B[38;5;28;01mtry\u001B[39;00m:\n\u001B[1;32m--> 845\u001B[0m         \u001B[38;5;28;01mraise\u001B[39;00m err\n\u001B[0;32m    846\u001B[0m     \u001B[38;5;28;01mfinally\u001B[39;00m:\n\u001B[0;32m    847\u001B[0m         \u001B[38;5;66;03m# Break explicitly a reference cycle\u001B[39;00m\n\u001B[0;32m    848\u001B[0m         err \u001B[38;5;241m=\u001B[39m \u001B[38;5;28;01mNone\u001B[39;00m\n",
      "File \u001B[1;32mC:\\ProgramData\\Anaconda3\\envs\\pythonProject_anaconda\\lib\\socket.py:833\u001B[0m, in \u001B[0;36mcreate_connection\u001B[1;34m(address, timeout, source_address)\u001B[0m\n\u001B[0;32m    831\u001B[0m \u001B[38;5;28;01mif\u001B[39;00m source_address:\n\u001B[0;32m    832\u001B[0m     sock\u001B[38;5;241m.\u001B[39mbind(source_address)\n\u001B[1;32m--> 833\u001B[0m \u001B[43msock\u001B[49m\u001B[38;5;241;43m.\u001B[39;49m\u001B[43mconnect\u001B[49m\u001B[43m(\u001B[49m\u001B[43msa\u001B[49m\u001B[43m)\u001B[49m\n\u001B[0;32m    834\u001B[0m \u001B[38;5;66;03m# Break explicitly a reference cycle\u001B[39;00m\n\u001B[0;32m    835\u001B[0m err \u001B[38;5;241m=\u001B[39m \u001B[38;5;28;01mNone\u001B[39;00m\n",
      "\u001B[1;31mTimeoutError\u001B[0m: [WinError 10060] 由于连接方在一段时间后没有正确答复或连接的主机没有反应，连接尝试失败。"
     ]
    }
   ],
   "source": [
    "from email.header import Header\n",
    "from email.mime.text import MIMEText\n",
    "import smtplib #SMTP协议客户端\n",
    "import poplib\n",
    "\n",
    "# 1定义邮箱服务器地址、端口、发件人账号、密码、收件人账号和邮件标题及邮件内容\n",
    "host = 'smtp-mail.outlook.com'\n",
    "port = 25\n",
    "user = 'fzh006591@hotmail.com'\n",
    "password = 'fzh18610009954'\n",
    "receiver = ['fzh006591@sohu.com','1071255432@qq.com']\n",
    "title = 'hotmail邮件测式995'\n",
    "text = 'python自动化发送，无需回复'\n",
    "# 2发送邮件，需要指定邮件正文，通过MIMEtext函数\n",
    "message = MIMEText(text,'plain','utf-8')\n",
    "#加入标题，及收件人\n",
    "message['Subject'] = Header(title,'utf-8')\n",
    "message['From'] = user\n",
    "message['To'] = ';'.join(receiver)\n",
    "#发送邮件\n",
    "smtp = smtplib.SMTP_SSL(host)\n",
    "smtp.connect(host,port)\n",
    "\n",
    "smtp.login(user,password)\n",
    "#发送，指定发件人账号，收件人账号，内容\n",
    "smtp.sendmail(user,receiver,message.as_string())\n",
    "smtp.quit()"
   ],
   "metadata": {
    "collapsed": false
   }
  },
  {
   "cell_type": "code",
   "execution_count": 2,
   "outputs": [],
   "source": [
    "import teste\n",
    "teste.auto_picture(\"C:\\Data\\Jupyter_file\\Python数据清洗基础\\办公自动化\\汇总多个工作簿数据\\销售统计\",\n",
    "            '产品名称','收入表_','销售收入（元）')"
   ],
   "metadata": {
    "collapsed": false
   }
  },
  {
   "cell_type": "code",
   "execution_count": null,
   "outputs": [],
   "source": [
    "#封闭函数\n",
    "def auto_picture(io_from,name,io_to,col):\n",
    "    '''\n",
    "    函数功能：汇总多个工作簿，并绘制拆线图\n",
    "    输出：含有拆线图的工作簿\n",
    "    io_from ：目标文件夹的地址\n",
    "    name:表中的列名，按哪个分组操作\n",
    "    io_to:导出工作薄的名称\n",
    "    col:\n",
    "\n",
    "\n",
    "    '''\n",
    "    import pandas as pd\n",
    "    import os\n",
    "    import matplotlib.pyplot as plt\n",
    "    import xlwings as xw\n",
    "\n",
    "    df = pd.DataFrame()\n",
    "    for i in os.listdir(r'{}'.format(io_from)):\n",
    "\n",
    "        if i.startswith('~$'):\n",
    "            continue\n",
    "        data = pd.read_excel(r\"{}\\{}\".format(io_from,i))\n",
    "#         df1 = data.groupby('产品名称').agg({name:sum})\n",
    "        df1 = data.groupby(name).agg({col:sum})\n",
    "        df1.columns = [i.split('.')[0]]\n",
    "        df = pd.concat([df,df1],axis=1)\n",
    "    df.to_excel(\"半年{}.xlsx\".format(io_to))\n",
    "    fig = plt.figure(figsize=(8,5))\n",
    "    for i in df.index:\n",
    "        plt.plot(df.columns,df.loc[i],marker = 'v')\n",
    "    plt.title('产品半年统计表_{}'.format(io_to))\n",
    "    plt.xlabel('月份')\n",
    "    plt.ylabel(col)\n",
    "    plt.legend(df.index)\n",
    "\n",
    "    #把图形插入到表格中\n",
    "    import xlwings as xw\n",
    "    app = xw.App(visible=False,add_book= False)\n",
    "    book = app.books.open(\"半年{}.xlsx\".format(io_to))\n",
    "    sheet = book.sheets[0]\n",
    "    #插入图片，需要指定位置，left ,top\n",
    "    sheet.pictures.add(fig,left=0,top=89)\n",
    "    book.save()\n",
    "    book.close()\n",
    "    app.quit()"
   ],
   "metadata": {
    "collapsed": false
   }
  },
  {
   "cell_type": "code",
   "execution_count": 1,
   "outputs": [
    {
     "name": "stderr",
     "output_type": "stream",
     "text": [
      "C:\\ProgramData\\Anaconda3\\envs\\pythonProject_anaconda\\lib\\fun230206_auto.py:52: FutureWarning: save is not part of the public API, usage can give unexpected results and will be removed in a future version\n",
      "  excelWrite.save()\n",
      "C:\\ProgramData\\Anaconda3\\Lib\\site-packages\\xlsxwriter\\workbook.py:338: UserWarning: Calling close() on already closed file.\n",
      "  warn(\"Calling close() on already closed file.\")\n"
     ]
    }
   ],
   "source": [
    "\n",
    "import fun230206_auto as fun\n",
    "fun.auto_change_230206(r\"C:\\Data\\Jupyter_file\\Python数据清洗基础\\办公自动化\\1、从多个表中提取指定数据到新表\\办公用品采购表_2020年.xlsx\",'物品名称','物品分类显示.xlsx')"
   ],
   "metadata": {
    "collapsed": false
   }
  },
  {
   "cell_type": "code",
   "execution_count": 7,
   "outputs": [],
   "source": [
    "import fun230206_auto as fu\n",
    "fu.auto_(r\"C:\\Data\\Jupyter_file\\Python数据清洗基础\\办公自动化\\1、从多个表中提取指定数据到新表\\办公用品采购表_2020年.xlsx\",'键盘','auto_键盘.xlsx')"
   ],
   "metadata": {
    "collapsed": false
   }
  },
  {
   "cell_type": "code",
   "execution_count": 6,
   "outputs": [
    {
     "data": {
      "text/plain": "'C:\\\\ProgramData\\\\Anaconda3\\\\envs\\\\pythonProject_anaconda\\\\lib\\\\os.py'"
     },
     "execution_count": 6,
     "metadata": {},
     "output_type": "execute_result"
    },
    {
     "data": {
      "text/plain": "'C:\\\\Users\\\\fzh00\\\\PycharmProjects\\\\pythonProject1'"
     },
     "execution_count": 6,
     "metadata": {},
     "output_type": "execute_result"
    }
   ],
   "source": [
    "import  os\n",
    "os.__file__\n",
    "%pwd"
   ],
   "metadata": {
    "collapsed": false
   }
  },
  {
   "cell_type": "code",
   "execution_count": 41,
   "outputs": [
    {
     "data": {
      "text/plain": "<AxesSubplot: ylabel='Frequency'>"
     },
     "execution_count": 41,
     "metadata": {},
     "output_type": "execute_result"
    },
    {
     "data": {
      "text/plain": "<Figure size 800x550 with 1 Axes>",
      "image/png": "[encoded data removed]"
     },
     "metadata": {},
     "output_type": "display_data"
    }
   ],
   "source": [
    "df_price2.plot.hist(bins=[500,2000,3000,5000,7000,10000])\n"
   ],
   "metadata": {
    "collapsed": false
   }
  },
  {
   "cell_type": "code",
   "execution_count": 39,
   "outputs": [
    {
     "name": "stdout",
     "output_type": "stream",
     "text": [
      "551\n",
      "<bound method Series.info of 0       9000.0\n",
      "1       3999.0\n",
      "2       4500.0\n",
      "3       3880.0\n",
      "4       5600.0\n",
      "        ...   \n",
      "546     5500.0\n",
      "547     3400.0\n",
      "548     6500.0\n",
      "549    10000.0\n",
      "550     3800.0\n",
      "Name: 房租, Length: 551, dtype: float64>\n"
     ]
    }
   ],
   "source": [
    "from  requests_html import HTMLSession\n",
    "import pandas as pd\n",
    "import numpy as np\n",
    "s = HTMLSession()\n",
    "# url = 'https://sz.lianjia.com/zufang/futianqu/pg1rt200600000001l1/#contentList'\n",
    "price = []\n",
    "for i in range(1,20):\n",
    "    url = 'https://sz.lianjia.com/zufang/luofuqu/pg'+str(i)+'rt200600000001l1/#contentList'\n",
    "    r = s.get(url)\n",
    "    price += r.html.xpath('//em/text()')[:-2]\n",
    "print(len(price))\n",
    "df_price = pd.DataFrame(price)\n",
    "df_price.columns = ['房租']\n",
    "df_price2 = pd.to_numeric(df_price.房租,errors = 'coerce')\n",
    "print(df_price2.info)"
   ],
   "metadata": {
    "collapsed": false
   }
  },
  {
   "cell_type": "code",
   "execution_count": 28,
   "outputs": [
    {
     "name": "stdout",
     "output_type": "stream",
     "text": [
      "<class 'pandas.core.series.Series'>\n",
      "RangeIndex: 29 entries, 0 to 28\n",
      "Series name: 房租\n",
      "Non-Null Count  Dtype  \n",
      "--------------  -----  \n",
      "27 non-null     float64\n",
      "dtypes: float64(1)\n",
      "memory usage: 360.0 bytes\n"
     ]
    },
    {
     "data": {
      "text/plain": "0      9000.0\n1     12800.0\n2      5600.0\n3      7800.0\n4      8300.0\n5      8500.0\n6      6200.0\n7         NaN\n8      6000.0\n9      8600.0\n10     6000.0\n11     4580.0\n12     7500.0\n13    11000.0\n14     5800.0\n15     8800.0\n16     7000.0\n17     8600.0\n18     5500.0\n19     6500.0\n20     6000.0\n21        NaN\n22     5800.0\n23    12500.0\n24     7000.0\n25     8800.0\n26     6800.0\n27     4480.0\n28     4900.0\nName: 房租, dtype: float64"
     },
     "execution_count": 28,
     "metadata": {},
     "output_type": "execute_result"
    }
   ],
   "source": [
    "data = np.array(price)\n",
    "s_price = pd.Series(data)\n",
    "df_price = pd.DataFrame(price)\n",
    "df_price.columns = ['房租']\n",
    "df_price2 = pd.to_numeric(df_price.房租,errors = 'coerce')\n",
    "df_price2.info()\n",
    "df_price2"
   ],
   "metadata": {
    "collapsed": false
   }
  },
  {
   "cell_type": "code",
   "execution_count": 7,
   "outputs": [
    {
     "name": "stdout",
     "output_type": "stream",
     "text": [
      "200\n",
      "['9000', '12800', '5600', '7800', '8300', '8500', '6200', '6735-7485', '6000', '8600', '6000', '4580', '7500', '11000', '5800', '8800', '7000', '8600', '5500', '6500', '6000', '11000-12500', '5800', '12500', '7000', '8800', '6800', '4480', '4900']\n"
     ]
    },
    {
     "data": {
      "text/plain": "array(['9000', '12800', '5600', '7800', '8300', '8500', '6200',\n       '6735-7485', '6000', '8600', '6000', '4580', '7500', '11000',\n       '5800', '8800', '7000', '8600', '5500', '6500', '6000',\n       '11000-12500', '5800', '12500', '7000', '8800', '6800', '4480',\n       '4900'], dtype='<U11')"
     },
     "execution_count": 7,
     "metadata": {},
     "output_type": "execute_result"
    }
   ],
   "source": [
    "from  requests_html import HTMLSession\n",
    "import pandas as pd\n",
    "import numpy as np\n",
    "s = HTMLSession()\n",
    "url = 'https://sz.lianjia.com/zufang/futianqu/pg1rt200600000001l1/#contentList'\n",
    "\n",
    "response = s.get(url)\n",
    "print(response.status_code)\n",
    "price = response.html.xpath('//em/text()')[:-2]\n",
    "print(price)\n",
    "data = np.array(price)"
   ],
   "metadata": {
    "collapsed": false
   }
  },
  {
   "cell_type": "code",
   "execution_count": 2,
   "outputs": [
    {
     "data": {
      "text/plain": "'C:\\\\Users\\\\fzh00\\\\PycharmProjects\\\\pythonProject1\\\\bar2.html'"
     },
     "execution_count": 2,
     "metadata": {},
     "output_type": "execute_result"
    }
   ],
   "source": [
    "from pyecharts.charts import Bar\n",
    "\n",
    "bar = Bar()\n",
    "bar.add_xaxis([\"衬衫\", \"羊毛衫\", \"雪纺衫\", \"裤子\", \"高跟鞋\", \"袜子\"])\n",
    "bar.add_yaxis(\"商家A\", [5, 20, 36, 10, 75, 90])\n",
    "bar.add_yaxis(\"商家B\", [7, 10, 46, 20, 65, 95])\n",
    "# bar.render_notebook()\n",
    "bar.render('bar2.html')"
   ],
   "metadata": {
    "collapsed": false
   }
  },
  {
   "cell_type": "code",
   "execution_count": 3,
   "outputs": [
    {
     "name": "stderr",
     "output_type": "stream",
     "text": [
      "C:\\ProgramData\\Anaconda3\\Lib\\site-packages\\scipy\\__init__.py:146: UserWarning: A NumPy version >=1.16.5 and <1.23.0 is required for this version of SciPy (detected version 1.23.5\n",
      "  warnings.warn(f\"A NumPy version >={np_minversion} and <{np_maxversion}\"\n"
     ]
    },
    {
     "ename": "ImportError",
     "evalue": "cannot import name '_ccallback_c' from 'scipy._lib' (C:\\ProgramData\\Anaconda3\\Lib\\site-packages\\scipy\\_lib\\__init__.py)",
     "output_type": "error",
     "traceback": [
      "\u001B[1;31m---------------------------------------------------------------------------\u001B[0m",
      "\u001B[1;31mImportError\u001B[0m                               Traceback (most recent call last)",
      "Cell \u001B[1;32mIn[3], line 1\u001B[0m\n\u001B[1;32m----> 1\u001B[0m \u001B[38;5;28;01mimport\u001B[39;00m \u001B[38;5;21;01mseaborn\u001B[39;00m \u001B[38;5;28;01mas\u001B[39;00m \u001B[38;5;21;01msns\u001B[39;00m\n\u001B[0;32m      2\u001B[0m sns\u001B[38;5;241m.\u001B[39mset_theme(style\u001B[38;5;241m=\u001B[39m\u001B[38;5;124m\"\u001B[39m\u001B[38;5;124mdarkgrid\u001B[39m\u001B[38;5;124m\"\u001B[39m)\n\u001B[0;32m      4\u001B[0m \u001B[38;5;66;03m# Load an example dataset with long-form data\u001B[39;00m\n",
      "File \u001B[1;32mC:\\ProgramData\\Anaconda3\\Lib\\site-packages\\seaborn\\__init__.py:2\u001B[0m\n\u001B[0;32m      1\u001B[0m \u001B[38;5;66;03m# Import seaborn objects\u001B[39;00m\n\u001B[1;32m----> 2\u001B[0m \u001B[38;5;28;01mfrom\u001B[39;00m \u001B[38;5;21;01m.\u001B[39;00m\u001B[38;5;21;01mrcmod\u001B[39;00m \u001B[38;5;28;01mimport\u001B[39;00m \u001B[38;5;241m*\u001B[39m  \u001B[38;5;66;03m# noqa: F401,F403\u001B[39;00m\n\u001B[0;32m      3\u001B[0m \u001B[38;5;28;01mfrom\u001B[39;00m \u001B[38;5;21;01m.\u001B[39;00m\u001B[38;5;21;01mutils\u001B[39;00m \u001B[38;5;28;01mimport\u001B[39;00m \u001B[38;5;241m*\u001B[39m  \u001B[38;5;66;03m# noqa: F401,F403\u001B[39;00m\n\u001B[0;32m      4\u001B[0m \u001B[38;5;28;01mfrom\u001B[39;00m \u001B[38;5;21;01m.\u001B[39;00m\u001B[38;5;21;01mpalettes\u001B[39;00m \u001B[38;5;28;01mimport\u001B[39;00m \u001B[38;5;241m*\u001B[39m  \u001B[38;5;66;03m# noqa: F401,F403\u001B[39;00m\n",
      "File \u001B[1;32mC:\\ProgramData\\Anaconda3\\Lib\\site-packages\\seaborn\\rcmod.py:7\u001B[0m\n\u001B[0;32m      5\u001B[0m \u001B[38;5;28;01mimport\u001B[39;00m \u001B[38;5;21;01mmatplotlib\u001B[39;00m \u001B[38;5;28;01mas\u001B[39;00m \u001B[38;5;21;01mmpl\u001B[39;00m\n\u001B[0;32m      6\u001B[0m \u001B[38;5;28;01mfrom\u001B[39;00m \u001B[38;5;21;01mcycler\u001B[39;00m \u001B[38;5;28;01mimport\u001B[39;00m cycler\n\u001B[1;32m----> 7\u001B[0m \u001B[38;5;28;01mfrom\u001B[39;00m \u001B[38;5;21;01m.\u001B[39;00m \u001B[38;5;28;01mimport\u001B[39;00m palettes\n\u001B[0;32m     10\u001B[0m __all__ \u001B[38;5;241m=\u001B[39m [\u001B[38;5;124m\"\u001B[39m\u001B[38;5;124mset_theme\u001B[39m\u001B[38;5;124m\"\u001B[39m, \u001B[38;5;124m\"\u001B[39m\u001B[38;5;124mset\u001B[39m\u001B[38;5;124m\"\u001B[39m, \u001B[38;5;124m\"\u001B[39m\u001B[38;5;124mreset_defaults\u001B[39m\u001B[38;5;124m\"\u001B[39m, \u001B[38;5;124m\"\u001B[39m\u001B[38;5;124mreset_orig\u001B[39m\u001B[38;5;124m\"\u001B[39m,\n\u001B[0;32m     11\u001B[0m            \u001B[38;5;124m\"\u001B[39m\u001B[38;5;124maxes_style\u001B[39m\u001B[38;5;124m\"\u001B[39m, \u001B[38;5;124m\"\u001B[39m\u001B[38;5;124mset_style\u001B[39m\u001B[38;5;124m\"\u001B[39m, \u001B[38;5;124m\"\u001B[39m\u001B[38;5;124mplotting_context\u001B[39m\u001B[38;5;124m\"\u001B[39m, \u001B[38;5;124m\"\u001B[39m\u001B[38;5;124mset_context\u001B[39m\u001B[38;5;124m\"\u001B[39m,\n\u001B[0;32m     12\u001B[0m            \u001B[38;5;124m\"\u001B[39m\u001B[38;5;124mset_palette\u001B[39m\u001B[38;5;124m\"\u001B[39m]\n\u001B[0;32m     15\u001B[0m _style_keys \u001B[38;5;241m=\u001B[39m [\n\u001B[0;32m     16\u001B[0m \n\u001B[0;32m     17\u001B[0m     \u001B[38;5;124m\"\u001B[39m\u001B[38;5;124maxes.facecolor\u001B[39m\u001B[38;5;124m\"\u001B[39m,\n\u001B[1;32m   (...)\u001B[0m\n\u001B[0;32m     52\u001B[0m \n\u001B[0;32m     53\u001B[0m ]\n",
      "File \u001B[1;32mC:\\ProgramData\\Anaconda3\\Lib\\site-packages\\seaborn\\palettes.py:9\u001B[0m\n\u001B[0;32m      5\u001B[0m \u001B[38;5;28;01mimport\u001B[39;00m \u001B[38;5;21;01mmatplotlib\u001B[39;00m \u001B[38;5;28;01mas\u001B[39;00m \u001B[38;5;21;01mmpl\u001B[39;00m\n\u001B[0;32m      7\u001B[0m \u001B[38;5;28;01mfrom\u001B[39;00m \u001B[38;5;21;01m.\u001B[39;00m\u001B[38;5;21;01mexternal\u001B[39;00m \u001B[38;5;28;01mimport\u001B[39;00m husl\n\u001B[1;32m----> 9\u001B[0m \u001B[38;5;28;01mfrom\u001B[39;00m \u001B[38;5;21;01m.\u001B[39;00m\u001B[38;5;21;01mutils\u001B[39;00m \u001B[38;5;28;01mimport\u001B[39;00m desaturate, get_color_cycle\n\u001B[0;32m     10\u001B[0m \u001B[38;5;28;01mfrom\u001B[39;00m \u001B[38;5;21;01m.\u001B[39;00m\u001B[38;5;21;01mcolors\u001B[39;00m \u001B[38;5;28;01mimport\u001B[39;00m xkcd_rgb, crayons\n\u001B[0;32m     13\u001B[0m __all__ \u001B[38;5;241m=\u001B[39m [\u001B[38;5;124m\"\u001B[39m\u001B[38;5;124mcolor_palette\u001B[39m\u001B[38;5;124m\"\u001B[39m, \u001B[38;5;124m\"\u001B[39m\u001B[38;5;124mhls_palette\u001B[39m\u001B[38;5;124m\"\u001B[39m, \u001B[38;5;124m\"\u001B[39m\u001B[38;5;124mhusl_palette\u001B[39m\u001B[38;5;124m\"\u001B[39m, \u001B[38;5;124m\"\u001B[39m\u001B[38;5;124mmpl_palette\u001B[39m\u001B[38;5;124m\"\u001B[39m,\n\u001B[0;32m     14\u001B[0m            \u001B[38;5;124m\"\u001B[39m\u001B[38;5;124mdark_palette\u001B[39m\u001B[38;5;124m\"\u001B[39m, \u001B[38;5;124m\"\u001B[39m\u001B[38;5;124mlight_palette\u001B[39m\u001B[38;5;124m\"\u001B[39m, \u001B[38;5;124m\"\u001B[39m\u001B[38;5;124mdiverging_palette\u001B[39m\u001B[38;5;124m\"\u001B[39m,\n\u001B[0;32m     15\u001B[0m            \u001B[38;5;124m\"\u001B[39m\u001B[38;5;124mblend_palette\u001B[39m\u001B[38;5;124m\"\u001B[39m, \u001B[38;5;124m\"\u001B[39m\u001B[38;5;124mxkcd_palette\u001B[39m\u001B[38;5;124m\"\u001B[39m, \u001B[38;5;124m\"\u001B[39m\u001B[38;5;124mcrayon_palette\u001B[39m\u001B[38;5;124m\"\u001B[39m,\n\u001B[0;32m     16\u001B[0m            \u001B[38;5;124m\"\u001B[39m\u001B[38;5;124mcubehelix_palette\u001B[39m\u001B[38;5;124m\"\u001B[39m, \u001B[38;5;124m\"\u001B[39m\u001B[38;5;124mset_color_codes\u001B[39m\u001B[38;5;124m\"\u001B[39m]\n",
      "File \u001B[1;32mC:\\ProgramData\\Anaconda3\\Lib\\site-packages\\seaborn\\utils.py:10\u001B[0m\n\u001B[0;32m      7\u001B[0m \u001B[38;5;28;01mfrom\u001B[39;00m \u001B[38;5;21;01murllib\u001B[39;00m\u001B[38;5;21;01m.\u001B[39;00m\u001B[38;5;21;01mrequest\u001B[39;00m \u001B[38;5;28;01mimport\u001B[39;00m urlopen, urlretrieve\n\u001B[0;32m      9\u001B[0m \u001B[38;5;28;01mimport\u001B[39;00m \u001B[38;5;21;01mnumpy\u001B[39;00m \u001B[38;5;28;01mas\u001B[39;00m \u001B[38;5;21;01mnp\u001B[39;00m\n\u001B[1;32m---> 10\u001B[0m \u001B[38;5;28;01mfrom\u001B[39;00m \u001B[38;5;21;01mscipy\u001B[39;00m \u001B[38;5;28;01mimport\u001B[39;00m stats\n\u001B[0;32m     11\u001B[0m \u001B[38;5;28;01mimport\u001B[39;00m \u001B[38;5;21;01mpandas\u001B[39;00m \u001B[38;5;28;01mas\u001B[39;00m \u001B[38;5;21;01mpd\u001B[39;00m\n\u001B[0;32m     12\u001B[0m \u001B[38;5;28;01mimport\u001B[39;00m \u001B[38;5;21;01mmatplotlib\u001B[39;00m \u001B[38;5;28;01mas\u001B[39;00m \u001B[38;5;21;01mmpl\u001B[39;00m\n",
      "File \u001B[1;32mC:\\ProgramData\\Anaconda3\\Lib\\site-packages\\scipy\\__init__.py:153\u001B[0m\n\u001B[0;32m    146\u001B[0m     warnings\u001B[38;5;241m.\u001B[39mwarn(\u001B[38;5;124mf\u001B[39m\u001B[38;5;124m\"\u001B[39m\u001B[38;5;124mA NumPy version >=\u001B[39m\u001B[38;5;132;01m{\u001B[39;00mnp_minversion\u001B[38;5;132;01m}\u001B[39;00m\u001B[38;5;124m and <\u001B[39m\u001B[38;5;132;01m{\u001B[39;00mnp_maxversion\u001B[38;5;132;01m}\u001B[39;00m\u001B[38;5;124m\"\u001B[39m\n\u001B[0;32m    147\u001B[0m                   \u001B[38;5;124mf\u001B[39m\u001B[38;5;124m\"\u001B[39m\u001B[38;5;124m is required for this version of SciPy (detected \u001B[39m\u001B[38;5;124m\"\u001B[39m\n\u001B[0;32m    148\u001B[0m                   \u001B[38;5;124mf\u001B[39m\u001B[38;5;124m\"\u001B[39m\u001B[38;5;124mversion \u001B[39m\u001B[38;5;132;01m{\u001B[39;00m__numpy_version__\u001B[38;5;132;01m}\u001B[39;00m\u001B[38;5;124m\"\u001B[39m,\n\u001B[0;32m    149\u001B[0m                   \u001B[38;5;167;01mUserWarning\u001B[39;00m)\n\u001B[0;32m    151\u001B[0m \u001B[38;5;28;01mdel\u001B[39;00m _pep440\n\u001B[1;32m--> 153\u001B[0m \u001B[38;5;28;01mfrom\u001B[39;00m \u001B[38;5;21;01mscipy\u001B[39;00m\u001B[38;5;21;01m.\u001B[39;00m\u001B[38;5;21;01m_lib\u001B[39;00m\u001B[38;5;21;01m.\u001B[39;00m\u001B[38;5;21;01m_ccallback\u001B[39;00m \u001B[38;5;28;01mimport\u001B[39;00m LowLevelCallable\n\u001B[0;32m    155\u001B[0m \u001B[38;5;28;01mfrom\u001B[39;00m \u001B[38;5;21;01mscipy\u001B[39;00m\u001B[38;5;21;01m.\u001B[39;00m\u001B[38;5;21;01m_lib\u001B[39;00m\u001B[38;5;21;01m.\u001B[39;00m\u001B[38;5;21;01m_testutils\u001B[39;00m \u001B[38;5;28;01mimport\u001B[39;00m PytestTester\n\u001B[0;32m    156\u001B[0m test \u001B[38;5;241m=\u001B[39m PytestTester(\u001B[38;5;18m__name__\u001B[39m)\n",
      "File \u001B[1;32mC:\\ProgramData\\Anaconda3\\Lib\\site-packages\\scipy\\_lib\\_ccallback.py:1\u001B[0m\n\u001B[1;32m----> 1\u001B[0m \u001B[38;5;28;01mfrom\u001B[39;00m \u001B[38;5;21;01m.\u001B[39;00m \u001B[38;5;28;01mimport\u001B[39;00m _ccallback_c\n\u001B[0;32m      3\u001B[0m \u001B[38;5;28;01mimport\u001B[39;00m \u001B[38;5;21;01mctypes\u001B[39;00m\n\u001B[0;32m      5\u001B[0m PyCFuncPtr \u001B[38;5;241m=\u001B[39m ctypes\u001B[38;5;241m.\u001B[39mCFUNCTYPE(ctypes\u001B[38;5;241m.\u001B[39mc_void_p)\u001B[38;5;241m.\u001B[39m\u001B[38;5;18m__bases__\u001B[39m[\u001B[38;5;241m0\u001B[39m]\n",
      "\u001B[1;31mImportError\u001B[0m: cannot import name '_ccallback_c' from 'scipy._lib' (C:\\ProgramData\\Anaconda3\\Lib\\site-packages\\scipy\\_lib\\__init__.py)"
     ]
    }
   ],
   "source": [
    "import seaborn as sns\n",
    "sns.set_theme(style=\"darkgrid\")\n",
    "\n",
    "# Load an example dataset with long-form data\n",
    "fmri = sns.load_dataset(\"fmri\")\n",
    "\n",
    "# Plot the responses for different events and regions\n",
    "sns.lineplot(x=\"timepoint\", y=\"signal\",\n",
    "             hue=\"region\", style=\"event\",\n",
    "             data=fmri)"
   ],
   "metadata": {
    "collapsed": false
   }
  },
  {
   "cell_type": "code",
   "execution_count": 8,
   "outputs": [
    {
     "data": {
      "text/plain": "<Figure size 800x550 with 0 Axes>"
     },
     "execution_count": 8,
     "metadata": {},
     "output_type": "execute_result"
    },
    {
     "ename": "NameError",
     "evalue": "name 'data1' is not defined",
     "output_type": "error",
     "traceback": [
      "\u001B[1;31m---------------------------------------------------------------------------\u001B[0m",
      "\u001B[1;31mNameError\u001B[0m                                 Traceback (most recent call last)",
      "Cell \u001B[1;32mIn[8], line 2\u001B[0m\n\u001B[0;32m      1\u001B[0m plt\u001B[38;5;241m.\u001B[39mfigure()\n\u001B[1;32m----> 2\u001B[0m plt\u001B[38;5;241m.\u001B[39mplot(\u001B[43mdata1\u001B[49m[\u001B[38;5;124m'\u001B[39m\u001B[38;5;124mx\u001B[39m\u001B[38;5;124m'\u001B[39m],data1[\u001B[38;5;124m'\u001B[39m\u001B[38;5;124my\u001B[39m\u001B[38;5;124m'\u001B[39m])\n",
      "\u001B[1;31mNameError\u001B[0m: name 'data1' is not defined"
     ]
    },
    {
     "data": {
      "text/plain": "<Figure size 800x550 with 0 Axes>"
     },
     "metadata": {},
     "output_type": "display_data"
    }
   ],
   "source": [
    "plt.figure()\n",
    "plt.plot(data1['x'],data1['y'])"
   ],
   "metadata": {
    "collapsed": false
   }
  },
  {
   "cell_type": "code",
   "execution_count": null,
   "outputs": [],
   "source": [],
   "metadata": {
    "collapsed": false
   }
  },
  {
   "cell_type": "code",
   "execution_count": 9,
   "outputs": [
    {
     "data": {
      "text/plain": "[<matplotlib.lines.Line2D at 0x275a5e92770>]"
     },
     "execution_count": 9,
     "metadata": {},
     "output_type": "execute_result"
    },
    {
     "data": {
      "text/plain": "<Figure size 800x550 with 1 Axes>",
      "image/png": "[encoded data removed]"
     },
     "metadata": {},
     "output_type": "display_data"
    }
   ],
   "source": [
    "import numpy as np\n",
    "np.random.seed(1)\n",
    "data1 = {\"x\":[\"201{}\".format(i) for i in range(10)],\n",
    "        \"y\":np.random.randint(2000,5000,10)}\n",
    "np.random.seed(2)\n",
    "data2 = {\"x\":[\"201{}\".format(i) for i in range(10)],\n",
    "        \"y\":np.random.randint(2000,5000,10)}\n",
    "plt.plot(data1['x'],data1['y'])"
   ],
   "metadata": {
    "collapsed": false
   }
  },
  {
   "cell_type": "code",
   "execution_count": 50,
   "outputs": [
    {
     "data": {
      "text/plain": "       name  position        team                                    player  \\\n0    Sergio   Forward  Manchester   Sergio Agüero Forward — Manchester City   \n1      Eden  Midfield     Chelsea            Eden Hazard Midfield — Chelsea   \n2    Alexis   Forward     Arsenal          Alexis Sánchez Forward — Arsenal   \n3      Yaya  Midfield  Manchester     Yaya Touré Midfield — Manchester City   \n4     Angel  Midfield  Manchester  Angel María Midfield — Manchester United   \n5  Santiago  Midfield     Arsenal       Santiago Cazorla Midfield — Arsenal   \n6     David  Midfield  Manchester    David Silva Midfield — Manchester City   \n7      Cesc  Midfield     Chelsea          Cesc Fàbregas Midfield — Chelsea   \n8     Saido   Forward        West        Saido Berahino Forward — West Brom   \n9    Steven  Midfield   Liverpool       Steven Gerrard Midfield — Liverpool   \n\n                 salary    gp   g     a  sot    ppg       p  \n0  19.200000762939453百万  16.0  14   3.0   34  13.12  209.98  \n1  18.899999618530273百万  21.0   8   4.0   17  13.05  274.04  \n2  17.600000381469727百万   NaN  12   7.0   29  11.19  223.86  \n3  16.600000381469727百万  18.0   7   1.0   19  10.99  197.91  \n4                15.0百万  13.0   3   NaN   13  10.17  132.23  \n5  14.800000190734863百万  20.0   4   NaN   20   9.97     NaN  \n6  14.300000190734863百万  15.0   6   2.0   11  10.35  155.26  \n7                14.0百万  20.0   2  14.0   10  10.47  209.49  \n8  13.800000190734863百万  21.0   9   0.0   20   7.02  147.43  \n9  13.800000190734863百万  20.0   5   1.0   11   7.50  150.01  ",
      "text/html": "<div>\n<style scoped>\n    .dataframe tbody tr th:only-of-type {\n        vertical-align: middle;\n    }\n\n    .dataframe tbody tr th {\n        vertical-align: top;\n    }\n\n    .dataframe thead th {\n        text-align: right;\n    }\n</style>\n<table border=\"1\" class=\"dataframe\">\n  <thead>\n    <tr style=\"text-align: right;\">\n      <th></th>\n      <th>name</th>\n      <th>position</th>\n      <th>team</th>\n      <th>player</th>\n      <th>salary</th>\n      <th>gp</th>\n      <th>g</th>\n      <th>a</th>\n      <th>sot</th>\n      <th>ppg</th>\n      <th>p</th>\n    </tr>\n  </thead>\n  <tbody>\n    <tr>\n      <th>0</th>\n      <td>Sergio</td>\n      <td>Forward</td>\n      <td>Manchester</td>\n      <td>Sergio Agüero Forward — Manchester City</td>\n      <td>19.200000762939453百万</td>\n      <td>16.0</td>\n      <td>14</td>\n      <td>3.0</td>\n      <td>34</td>\n      <td>13.12</td>\n      <td>209.98</td>\n    </tr>\n    <tr>\n      <th>1</th>\n      <td>Eden</td>\n      <td>Midfield</td>\n      <td>Chelsea</td>\n      <td>Eden Hazard Midfield — Chelsea</td>\n      <td>18.899999618530273百万</td>\n      <td>21.0</td>\n      <td>8</td>\n      <td>4.0</td>\n      <td>17</td>\n      <td>13.05</td>\n      <td>274.04</td>\n    </tr>\n    <tr>\n      <th>2</th>\n      <td>Alexis</td>\n      <td>Forward</td>\n      <td>Arsenal</td>\n      <td>Alexis Sánchez Forward — Arsenal</td>\n      <td>17.600000381469727百万</td>\n      <td>NaN</td>\n      <td>12</td>\n      <td>7.0</td>\n      <td>29</td>\n      <td>11.19</td>\n      <td>223.86</td>\n    </tr>\n    <tr>\n      <th>3</th>\n      <td>Yaya</td>\n      <td>Midfield</td>\n      <td>Manchester</td>\n      <td>Yaya Touré Midfield — Manchester City</td>\n      <td>16.600000381469727百万</td>\n      <td>18.0</td>\n      <td>7</td>\n      <td>1.0</td>\n      <td>19</td>\n      <td>10.99</td>\n      <td>197.91</td>\n    </tr>\n    <tr>\n      <th>4</th>\n      <td>Angel</td>\n      <td>Midfield</td>\n      <td>Manchester</td>\n      <td>Angel María Midfield — Manchester United</td>\n      <td>15.0百万</td>\n      <td>13.0</td>\n      <td>3</td>\n      <td>NaN</td>\n      <td>13</td>\n      <td>10.17</td>\n      <td>132.23</td>\n    </tr>\n    <tr>\n      <th>5</th>\n      <td>Santiago</td>\n      <td>Midfield</td>\n      <td>Arsenal</td>\n      <td>Santiago Cazorla Midfield — Arsenal</td>\n      <td>14.800000190734863百万</td>\n      <td>20.0</td>\n      <td>4</td>\n      <td>NaN</td>\n      <td>20</td>\n      <td>9.97</td>\n      <td>NaN</td>\n    </tr>\n    <tr>\n      <th>6</th>\n      <td>David</td>\n      <td>Midfield</td>\n      <td>Manchester</td>\n      <td>David Silva Midfield — Manchester City</td>\n      <td>14.300000190734863百万</td>\n      <td>15.0</td>\n      <td>6</td>\n      <td>2.0</td>\n      <td>11</td>\n      <td>10.35</td>\n      <td>155.26</td>\n    </tr>\n    <tr>\n      <th>7</th>\n      <td>Cesc</td>\n      <td>Midfield</td>\n      <td>Chelsea</td>\n      <td>Cesc Fàbregas Midfield — Chelsea</td>\n      <td>14.0百万</td>\n      <td>20.0</td>\n      <td>2</td>\n      <td>14.0</td>\n      <td>10</td>\n      <td>10.47</td>\n      <td>209.49</td>\n    </tr>\n    <tr>\n      <th>8</th>\n      <td>Saido</td>\n      <td>Forward</td>\n      <td>West</td>\n      <td>Saido Berahino Forward — West Brom</td>\n      <td>13.800000190734863百万</td>\n      <td>21.0</td>\n      <td>9</td>\n      <td>0.0</td>\n      <td>20</td>\n      <td>7.02</td>\n      <td>147.43</td>\n    </tr>\n    <tr>\n      <th>9</th>\n      <td>Steven</td>\n      <td>Midfield</td>\n      <td>Liverpool</td>\n      <td>Steven Gerrard Midfield — Liverpool</td>\n      <td>13.800000190734863百万</td>\n      <td>20.0</td>\n      <td>5</td>\n      <td>1.0</td>\n      <td>11</td>\n      <td>7.50</td>\n      <td>150.01</td>\n    </tr>\n  </tbody>\n</table>\n</div>"
     },
     "execution_count": 50,
     "metadata": {},
     "output_type": "execute_result"
    }
   ],
   "source": [
    "football_new = football_add.join(football)\n",
    "football_new"
   ],
   "metadata": {
    "collapsed": false
   }
  },
  {
   "cell_type": "code",
   "execution_count": 47,
   "outputs": [
    {
     "ename": "MergeError",
     "evalue": "No common columns to perform merge on. Merge options: left_on=None, right_on=None, left_index=False, right_index=False",
     "output_type": "error",
     "traceback": [
      "\u001B[1;31m---------------------------------------------------------------------------\u001B[0m",
      "\u001B[1;31mMergeError\u001B[0m                                Traceback (most recent call last)",
      "Cell \u001B[1;32mIn[47], line 3\u001B[0m\n\u001B[0;32m      1\u001B[0m football_add \u001B[38;5;241m=\u001B[39m football\u001B[38;5;241m.\u001B[39mplayer\u001B[38;5;241m.\u001B[39mstr\u001B[38;5;241m.\u001B[39msplit(\u001B[38;5;124m'\u001B[39m\u001B[38;5;124m[ -]\u001B[39m\u001B[38;5;124m'\u001B[39m,expand\u001B[38;5;241m=\u001B[39m\u001B[38;5;28;01mTrue\u001B[39;00m)\u001B[38;5;241m.\u001B[39mloc[:,[\u001B[38;5;241m0\u001B[39m,\u001B[38;5;241m2\u001B[39m,\u001B[38;5;241m4\u001B[39m]]\n\u001B[0;32m      2\u001B[0m football_add\u001B[38;5;241m.\u001B[39mcolumns \u001B[38;5;241m=\u001B[39m [\u001B[38;5;124m'\u001B[39m\u001B[38;5;124mname\u001B[39m\u001B[38;5;124m'\u001B[39m,\u001B[38;5;124m'\u001B[39m\u001B[38;5;124mposition\u001B[39m\u001B[38;5;124m'\u001B[39m,\u001B[38;5;124m'\u001B[39m\u001B[38;5;124mteam\u001B[39m\u001B[38;5;124m'\u001B[39m]\n\u001B[1;32m----> 3\u001B[0m \u001B[43mfootball_add\u001B[49m\u001B[38;5;241;43m.\u001B[39;49m\u001B[43mmerge\u001B[49m\u001B[43m(\u001B[49m\u001B[43mfootball\u001B[49m\u001B[43m)\u001B[49m\n",
      "File \u001B[1;32mC:\\ProgramData\\Anaconda3\\envs\\pythonProject_anaconda\\lib\\site-packages\\pandas\\core\\frame.py:10090\u001B[0m, in \u001B[0;36mDataFrame.merge\u001B[1;34m(self, right, how, on, left_on, right_on, left_index, right_index, sort, suffixes, copy, indicator, validate)\u001B[0m\n\u001B[0;32m  10071\u001B[0m \u001B[38;5;129m@Substitution\u001B[39m(\u001B[38;5;124m\"\u001B[39m\u001B[38;5;124m\"\u001B[39m)\n\u001B[0;32m  10072\u001B[0m \u001B[38;5;129m@Appender\u001B[39m(_merge_doc, indents\u001B[38;5;241m=\u001B[39m\u001B[38;5;241m2\u001B[39m)\n\u001B[0;32m  10073\u001B[0m \u001B[38;5;28;01mdef\u001B[39;00m \u001B[38;5;21mmerge\u001B[39m(\n\u001B[1;32m   (...)\u001B[0m\n\u001B[0;32m  10086\u001B[0m     validate: \u001B[38;5;28mstr\u001B[39m \u001B[38;5;241m|\u001B[39m \u001B[38;5;28;01mNone\u001B[39;00m \u001B[38;5;241m=\u001B[39m \u001B[38;5;28;01mNone\u001B[39;00m,\n\u001B[0;32m  10087\u001B[0m ) \u001B[38;5;241m-\u001B[39m\u001B[38;5;241m>\u001B[39m DataFrame:\n\u001B[0;32m  10088\u001B[0m     \u001B[38;5;28;01mfrom\u001B[39;00m \u001B[38;5;21;01mpandas\u001B[39;00m\u001B[38;5;21;01m.\u001B[39;00m\u001B[38;5;21;01mcore\u001B[39;00m\u001B[38;5;21;01m.\u001B[39;00m\u001B[38;5;21;01mreshape\u001B[39;00m\u001B[38;5;21;01m.\u001B[39;00m\u001B[38;5;21;01mmerge\u001B[39;00m \u001B[38;5;28;01mimport\u001B[39;00m merge\n\u001B[1;32m> 10090\u001B[0m     \u001B[38;5;28;01mreturn\u001B[39;00m \u001B[43mmerge\u001B[49m\u001B[43m(\u001B[49m\n\u001B[0;32m  10091\u001B[0m \u001B[43m        \u001B[49m\u001B[38;5;28;43mself\u001B[39;49m\u001B[43m,\u001B[49m\n\u001B[0;32m  10092\u001B[0m \u001B[43m        \u001B[49m\u001B[43mright\u001B[49m\u001B[43m,\u001B[49m\n\u001B[0;32m  10093\u001B[0m \u001B[43m        \u001B[49m\u001B[43mhow\u001B[49m\u001B[38;5;241;43m=\u001B[39;49m\u001B[43mhow\u001B[49m\u001B[43m,\u001B[49m\n\u001B[0;32m  10094\u001B[0m \u001B[43m        \u001B[49m\u001B[43mon\u001B[49m\u001B[38;5;241;43m=\u001B[39;49m\u001B[43mon\u001B[49m\u001B[43m,\u001B[49m\n\u001B[0;32m  10095\u001B[0m \u001B[43m        \u001B[49m\u001B[43mleft_on\u001B[49m\u001B[38;5;241;43m=\u001B[39;49m\u001B[43mleft_on\u001B[49m\u001B[43m,\u001B[49m\n\u001B[0;32m  10096\u001B[0m \u001B[43m        \u001B[49m\u001B[43mright_on\u001B[49m\u001B[38;5;241;43m=\u001B[39;49m\u001B[43mright_on\u001B[49m\u001B[43m,\u001B[49m\n\u001B[0;32m  10097\u001B[0m \u001B[43m        \u001B[49m\u001B[43mleft_index\u001B[49m\u001B[38;5;241;43m=\u001B[39;49m\u001B[43mleft_index\u001B[49m\u001B[43m,\u001B[49m\n\u001B[0;32m  10098\u001B[0m \u001B[43m        \u001B[49m\u001B[43mright_index\u001B[49m\u001B[38;5;241;43m=\u001B[39;49m\u001B[43mright_index\u001B[49m\u001B[43m,\u001B[49m\n\u001B[0;32m  10099\u001B[0m \u001B[43m        \u001B[49m\u001B[43msort\u001B[49m\u001B[38;5;241;43m=\u001B[39;49m\u001B[43msort\u001B[49m\u001B[43m,\u001B[49m\n\u001B[0;32m  10100\u001B[0m \u001B[43m        \u001B[49m\u001B[43msuffixes\u001B[49m\u001B[38;5;241;43m=\u001B[39;49m\u001B[43msuffixes\u001B[49m\u001B[43m,\u001B[49m\n\u001B[0;32m  10101\u001B[0m \u001B[43m        \u001B[49m\u001B[43mcopy\u001B[49m\u001B[38;5;241;43m=\u001B[39;49m\u001B[43mcopy\u001B[49m\u001B[43m,\u001B[49m\n\u001B[0;32m  10102\u001B[0m \u001B[43m        \u001B[49m\u001B[43mindicator\u001B[49m\u001B[38;5;241;43m=\u001B[39;49m\u001B[43mindicator\u001B[49m\u001B[43m,\u001B[49m\n\u001B[0;32m  10103\u001B[0m \u001B[43m        \u001B[49m\u001B[43mvalidate\u001B[49m\u001B[38;5;241;43m=\u001B[39;49m\u001B[43mvalidate\u001B[49m\u001B[43m,\u001B[49m\n\u001B[0;32m  10104\u001B[0m \u001B[43m    \u001B[49m\u001B[43m)\u001B[49m\n",
      "File \u001B[1;32mC:\\ProgramData\\Anaconda3\\envs\\pythonProject_anaconda\\lib\\site-packages\\pandas\\core\\reshape\\merge.py:110\u001B[0m, in \u001B[0;36mmerge\u001B[1;34m(left, right, how, on, left_on, right_on, left_index, right_index, sort, suffixes, copy, indicator, validate)\u001B[0m\n\u001B[0;32m     93\u001B[0m \u001B[38;5;129m@Substitution\u001B[39m(\u001B[38;5;124m\"\u001B[39m\u001B[38;5;130;01m\\n\u001B[39;00m\u001B[38;5;124mleft : DataFrame or named Series\u001B[39m\u001B[38;5;124m\"\u001B[39m)\n\u001B[0;32m     94\u001B[0m \u001B[38;5;129m@Appender\u001B[39m(_merge_doc, indents\u001B[38;5;241m=\u001B[39m\u001B[38;5;241m0\u001B[39m)\n\u001B[0;32m     95\u001B[0m \u001B[38;5;28;01mdef\u001B[39;00m \u001B[38;5;21mmerge\u001B[39m(\n\u001B[1;32m   (...)\u001B[0m\n\u001B[0;32m    108\u001B[0m     validate: \u001B[38;5;28mstr\u001B[39m \u001B[38;5;241m|\u001B[39m \u001B[38;5;28;01mNone\u001B[39;00m \u001B[38;5;241m=\u001B[39m \u001B[38;5;28;01mNone\u001B[39;00m,\n\u001B[0;32m    109\u001B[0m ) \u001B[38;5;241m-\u001B[39m\u001B[38;5;241m>\u001B[39m DataFrame:\n\u001B[1;32m--> 110\u001B[0m     op \u001B[38;5;241m=\u001B[39m \u001B[43m_MergeOperation\u001B[49m\u001B[43m(\u001B[49m\n\u001B[0;32m    111\u001B[0m \u001B[43m        \u001B[49m\u001B[43mleft\u001B[49m\u001B[43m,\u001B[49m\n\u001B[0;32m    112\u001B[0m \u001B[43m        \u001B[49m\u001B[43mright\u001B[49m\u001B[43m,\u001B[49m\n\u001B[0;32m    113\u001B[0m \u001B[43m        \u001B[49m\u001B[43mhow\u001B[49m\u001B[38;5;241;43m=\u001B[39;49m\u001B[43mhow\u001B[49m\u001B[43m,\u001B[49m\n\u001B[0;32m    114\u001B[0m \u001B[43m        \u001B[49m\u001B[43mon\u001B[49m\u001B[38;5;241;43m=\u001B[39;49m\u001B[43mon\u001B[49m\u001B[43m,\u001B[49m\n\u001B[0;32m    115\u001B[0m \u001B[43m        \u001B[49m\u001B[43mleft_on\u001B[49m\u001B[38;5;241;43m=\u001B[39;49m\u001B[43mleft_on\u001B[49m\u001B[43m,\u001B[49m\n\u001B[0;32m    116\u001B[0m \u001B[43m        \u001B[49m\u001B[43mright_on\u001B[49m\u001B[38;5;241;43m=\u001B[39;49m\u001B[43mright_on\u001B[49m\u001B[43m,\u001B[49m\n\u001B[0;32m    117\u001B[0m \u001B[43m        \u001B[49m\u001B[43mleft_index\u001B[49m\u001B[38;5;241;43m=\u001B[39;49m\u001B[43mleft_index\u001B[49m\u001B[43m,\u001B[49m\n\u001B[0;32m    118\u001B[0m \u001B[43m        \u001B[49m\u001B[43mright_index\u001B[49m\u001B[38;5;241;43m=\u001B[39;49m\u001B[43mright_index\u001B[49m\u001B[43m,\u001B[49m\n\u001B[0;32m    119\u001B[0m \u001B[43m        \u001B[49m\u001B[43msort\u001B[49m\u001B[38;5;241;43m=\u001B[39;49m\u001B[43msort\u001B[49m\u001B[43m,\u001B[49m\n\u001B[0;32m    120\u001B[0m \u001B[43m        \u001B[49m\u001B[43msuffixes\u001B[49m\u001B[38;5;241;43m=\u001B[39;49m\u001B[43msuffixes\u001B[49m\u001B[43m,\u001B[49m\n\u001B[0;32m    121\u001B[0m \u001B[43m        \u001B[49m\u001B[43mindicator\u001B[49m\u001B[38;5;241;43m=\u001B[39;49m\u001B[43mindicator\u001B[49m\u001B[43m,\u001B[49m\n\u001B[0;32m    122\u001B[0m \u001B[43m        \u001B[49m\u001B[43mvalidate\u001B[49m\u001B[38;5;241;43m=\u001B[39;49m\u001B[43mvalidate\u001B[49m\u001B[43m,\u001B[49m\n\u001B[0;32m    123\u001B[0m \u001B[43m    \u001B[49m\u001B[43m)\u001B[49m\n\u001B[0;32m    124\u001B[0m     \u001B[38;5;28;01mreturn\u001B[39;00m op\u001B[38;5;241m.\u001B[39mget_result(copy\u001B[38;5;241m=\u001B[39mcopy)\n",
      "File \u001B[1;32mC:\\ProgramData\\Anaconda3\\envs\\pythonProject_anaconda\\lib\\site-packages\\pandas\\core\\reshape\\merge.py:685\u001B[0m, in \u001B[0;36m_MergeOperation.__init__\u001B[1;34m(self, left, right, how, on, left_on, right_on, axis, left_index, right_index, sort, suffixes, indicator, validate)\u001B[0m\n\u001B[0;32m    681\u001B[0m     \u001B[38;5;66;03m# stacklevel chosen to be correct when this is reached via pd.merge\u001B[39;00m\n\u001B[0;32m    682\u001B[0m     \u001B[38;5;66;03m# (and not DataFrame.join)\u001B[39;00m\n\u001B[0;32m    683\u001B[0m     warnings\u001B[38;5;241m.\u001B[39mwarn(msg, \u001B[38;5;167;01mFutureWarning\u001B[39;00m, stacklevel\u001B[38;5;241m=\u001B[39mfind_stack_level())\n\u001B[1;32m--> 685\u001B[0m \u001B[38;5;28mself\u001B[39m\u001B[38;5;241m.\u001B[39mleft_on, \u001B[38;5;28mself\u001B[39m\u001B[38;5;241m.\u001B[39mright_on \u001B[38;5;241m=\u001B[39m \u001B[38;5;28;43mself\u001B[39;49m\u001B[38;5;241;43m.\u001B[39;49m\u001B[43m_validate_left_right_on\u001B[49m\u001B[43m(\u001B[49m\u001B[43mleft_on\u001B[49m\u001B[43m,\u001B[49m\u001B[43m \u001B[49m\u001B[43mright_on\u001B[49m\u001B[43m)\u001B[49m\n\u001B[0;32m    687\u001B[0m cross_col \u001B[38;5;241m=\u001B[39m \u001B[38;5;28;01mNone\u001B[39;00m\n\u001B[0;32m    688\u001B[0m \u001B[38;5;28;01mif\u001B[39;00m \u001B[38;5;28mself\u001B[39m\u001B[38;5;241m.\u001B[39mhow \u001B[38;5;241m==\u001B[39m \u001B[38;5;124m\"\u001B[39m\u001B[38;5;124mcross\u001B[39m\u001B[38;5;124m\"\u001B[39m:\n",
      "File \u001B[1;32mC:\\ProgramData\\Anaconda3\\envs\\pythonProject_anaconda\\lib\\site-packages\\pandas\\core\\reshape\\merge.py:1434\u001B[0m, in \u001B[0;36m_MergeOperation._validate_left_right_on\u001B[1;34m(self, left_on, right_on)\u001B[0m\n\u001B[0;32m   1432\u001B[0m common_cols \u001B[38;5;241m=\u001B[39m left_cols\u001B[38;5;241m.\u001B[39mintersection(right_cols)\n\u001B[0;32m   1433\u001B[0m \u001B[38;5;28;01mif\u001B[39;00m \u001B[38;5;28mlen\u001B[39m(common_cols) \u001B[38;5;241m==\u001B[39m \u001B[38;5;241m0\u001B[39m:\n\u001B[1;32m-> 1434\u001B[0m     \u001B[38;5;28;01mraise\u001B[39;00m MergeError(\n\u001B[0;32m   1435\u001B[0m         \u001B[38;5;124m\"\u001B[39m\u001B[38;5;124mNo common columns to perform merge on. \u001B[39m\u001B[38;5;124m\"\u001B[39m\n\u001B[0;32m   1436\u001B[0m         \u001B[38;5;124mf\u001B[39m\u001B[38;5;124m\"\u001B[39m\u001B[38;5;124mMerge options: left_on=\u001B[39m\u001B[38;5;132;01m{\u001B[39;00mleft_on\u001B[38;5;132;01m}\u001B[39;00m\u001B[38;5;124m, \u001B[39m\u001B[38;5;124m\"\u001B[39m\n\u001B[0;32m   1437\u001B[0m         \u001B[38;5;124mf\u001B[39m\u001B[38;5;124m\"\u001B[39m\u001B[38;5;124mright_on=\u001B[39m\u001B[38;5;132;01m{\u001B[39;00mright_on\u001B[38;5;132;01m}\u001B[39;00m\u001B[38;5;124m, \u001B[39m\u001B[38;5;124m\"\u001B[39m\n\u001B[0;32m   1438\u001B[0m         \u001B[38;5;124mf\u001B[39m\u001B[38;5;124m\"\u001B[39m\u001B[38;5;124mleft_index=\u001B[39m\u001B[38;5;132;01m{\u001B[39;00m\u001B[38;5;28mself\u001B[39m\u001B[38;5;241m.\u001B[39mleft_index\u001B[38;5;132;01m}\u001B[39;00m\u001B[38;5;124m, \u001B[39m\u001B[38;5;124m\"\u001B[39m\n\u001B[0;32m   1439\u001B[0m         \u001B[38;5;124mf\u001B[39m\u001B[38;5;124m\"\u001B[39m\u001B[38;5;124mright_index=\u001B[39m\u001B[38;5;132;01m{\u001B[39;00m\u001B[38;5;28mself\u001B[39m\u001B[38;5;241m.\u001B[39mright_index\u001B[38;5;132;01m}\u001B[39;00m\u001B[38;5;124m\"\u001B[39m\n\u001B[0;32m   1440\u001B[0m     )\n\u001B[0;32m   1441\u001B[0m \u001B[38;5;28;01mif\u001B[39;00m (\n\u001B[0;32m   1442\u001B[0m     \u001B[38;5;129;01mnot\u001B[39;00m left_cols\u001B[38;5;241m.\u001B[39mjoin(common_cols, how\u001B[38;5;241m=\u001B[39m\u001B[38;5;124m\"\u001B[39m\u001B[38;5;124minner\u001B[39m\u001B[38;5;124m\"\u001B[39m)\u001B[38;5;241m.\u001B[39mis_unique\n\u001B[0;32m   1443\u001B[0m     \u001B[38;5;129;01mor\u001B[39;00m \u001B[38;5;129;01mnot\u001B[39;00m right_cols\u001B[38;5;241m.\u001B[39mjoin(common_cols, how\u001B[38;5;241m=\u001B[39m\u001B[38;5;124m\"\u001B[39m\u001B[38;5;124minner\u001B[39m\u001B[38;5;124m\"\u001B[39m)\u001B[38;5;241m.\u001B[39mis_unique\n\u001B[0;32m   1444\u001B[0m ):\n\u001B[0;32m   1445\u001B[0m     \u001B[38;5;28;01mraise\u001B[39;00m MergeError(\u001B[38;5;124mf\u001B[39m\u001B[38;5;124m\"\u001B[39m\u001B[38;5;124mData columns not unique: \u001B[39m\u001B[38;5;132;01m{\u001B[39;00m\u001B[38;5;28mrepr\u001B[39m(common_cols)\u001B[38;5;132;01m}\u001B[39;00m\u001B[38;5;124m\"\u001B[39m)\n",
      "\u001B[1;31mMergeError\u001B[0m: No common columns to perform merge on. Merge options: left_on=None, right_on=None, left_index=False, right_index=False"
     ]
    }
   ],
   "source": [
    "football_add = football.player.str.split('[ -]',expand=True).loc[:,[0,2,4]]\n",
    "football_add.columns = ['name','position','team']\n"
   ],
   "metadata": {
    "collapsed": false
   }
  },
  {
   "cell_type": "code",
   "execution_count": 35,
   "outputs": [
    {
     "name": "stdout",
     "output_type": "stream",
     "text": [
      "<class 'pandas.core.frame.DataFrame'>\n",
      "RangeIndex: 10 entries, 0 to 9\n",
      "Data columns (total 8 columns):\n",
      " #   Column  Non-Null Count  Dtype  \n",
      "---  ------  --------------  -----  \n",
      " 0   player  10 non-null     object \n",
      " 1   salary  10 non-null     object \n",
      " 2   gp      9 non-null      float64\n",
      " 3   g       10 non-null     int64  \n",
      " 4   a       8 non-null      float64\n",
      " 5   sot     10 non-null     int64  \n",
      " 6   ppg     10 non-null     float64\n",
      " 7   p       9 non-null      float64\n",
      "dtypes: float64(4), int64(2), object(2)\n",
      "memory usage: 768.0+ bytes\n"
     ]
    }
   ],
   "source": [
    "football.salary = football.salary.map(lambda x:'{}百万'.format(x))\n",
    "football.info()"
   ],
   "metadata": {
    "collapsed": false
   }
  },
  {
   "cell_type": "code",
   "execution_count": 32,
   "outputs": [
    {
     "name": "stdout",
     "output_type": "stream",
     "text": [
      "<class 'pandas.core.frame.DataFrame'>\n",
      "RangeIndex: 10 entries, 0 to 9\n",
      "Data columns (total 8 columns):\n",
      " #   Column  Non-Null Count  Dtype  \n",
      "---  ------  --------------  -----  \n",
      " 0   player  10 non-null     object \n",
      " 1   salary  10 non-null     float32\n",
      " 2   gp      9 non-null      float64\n",
      " 3   g       10 non-null     int64  \n",
      " 4   a       8 non-null      float64\n",
      " 5   sot     10 non-null     int64  \n",
      " 6   ppg     10 non-null     float64\n",
      " 7   p       9 non-null      float64\n",
      "dtypes: float32(1), float64(4), int64(2), object(1)\n",
      "memory usage: 728.0+ bytes\n"
     ]
    }
   ],
   "source": [
    "football.salary = football.salary.str.strip('百万').astype('f4')\n",
    "football.info()"
   ],
   "metadata": {
    "collapsed": false
   }
  },
  {
   "cell_type": "code",
   "execution_count": 23,
   "outputs": [
    {
     "data": {
      "text/plain": "                                     player  salary    gp   g    a  sot  \\\n0   Sergio Agüero Forward — Manchester City  19.2百万  16.0  14  3.0   34   \n1            Eden Hazard Midfield — Chelsea  18.9百万  21.0   8  4.0   17   \n2          Alexis Sánchez Forward — Arsenal  17.6百万   NaN  12  7.0   29   \n3     Yaya Touré Midfield — Manchester City  16.6百万  18.0   7  1.0   19   \n4  Angel María Midfield — Manchester United  15.0百万  13.0   3  NaN   13   \n\n     ppg       p  \n0  13.12  209.98  \n1  13.05  274.04  \n2  11.19  223.86  \n3  10.99  197.91  \n4  10.17  132.23  ",
      "text/html": "<div>\n<style scoped>\n    .dataframe tbody tr th:only-of-type {\n        vertical-align: middle;\n    }\n\n    .dataframe tbody tr th {\n        vertical-align: top;\n    }\n\n    .dataframe thead th {\n        text-align: right;\n    }\n</style>\n<table border=\"1\" class=\"dataframe\">\n  <thead>\n    <tr style=\"text-align: right;\">\n      <th></th>\n      <th>player</th>\n      <th>salary</th>\n      <th>gp</th>\n      <th>g</th>\n      <th>a</th>\n      <th>sot</th>\n      <th>ppg</th>\n      <th>p</th>\n    </tr>\n  </thead>\n  <tbody>\n    <tr>\n      <th>0</th>\n      <td>Sergio Agüero Forward — Manchester City</td>\n      <td>19.2百万</td>\n      <td>16.0</td>\n      <td>14</td>\n      <td>3.0</td>\n      <td>34</td>\n      <td>13.12</td>\n      <td>209.98</td>\n    </tr>\n    <tr>\n      <th>1</th>\n      <td>Eden Hazard Midfield — Chelsea</td>\n      <td>18.9百万</td>\n      <td>21.0</td>\n      <td>8</td>\n      <td>4.0</td>\n      <td>17</td>\n      <td>13.05</td>\n      <td>274.04</td>\n    </tr>\n    <tr>\n      <th>2</th>\n      <td>Alexis Sánchez Forward — Arsenal</td>\n      <td>17.6百万</td>\n      <td>NaN</td>\n      <td>12</td>\n      <td>7.0</td>\n      <td>29</td>\n      <td>11.19</td>\n      <td>223.86</td>\n    </tr>\n    <tr>\n      <th>3</th>\n      <td>Yaya Touré Midfield — Manchester City</td>\n      <td>16.6百万</td>\n      <td>18.0</td>\n      <td>7</td>\n      <td>1.0</td>\n      <td>19</td>\n      <td>10.99</td>\n      <td>197.91</td>\n    </tr>\n    <tr>\n      <th>4</th>\n      <td>Angel María Midfield — Manchester United</td>\n      <td>15.0百万</td>\n      <td>13.0</td>\n      <td>3</td>\n      <td>NaN</td>\n      <td>13</td>\n      <td>10.17</td>\n      <td>132.23</td>\n    </tr>\n  </tbody>\n</table>\n</div>"
     },
     "execution_count": 23,
     "metadata": {},
     "output_type": "execute_result"
    }
   ],
   "source": [
    "football.salary = football.salary.str.strip('$').str.replace('m','百万')\n",
    "football.head()"
   ],
   "metadata": {
    "collapsed": false
   }
  },
  {
   "cell_type": "code",
   "execution_count": 22,
   "outputs": [
    {
     "name": "stdout",
     "output_type": "stream",
     "text": [
      "<class 'pandas.core.frame.DataFrame'>\n",
      "RangeIndex: 10 entries, 0 to 9\n",
      "Data columns (total 8 columns):\n",
      " #   Column  Non-Null Count  Dtype  \n",
      "---  ------  --------------  -----  \n",
      " 0   player  10 non-null     object \n",
      " 1   salary  10 non-null     object \n",
      " 2   gp      9 non-null      float64\n",
      " 3   g       10 non-null     int64  \n",
      " 4   a       8 non-null      float64\n",
      " 5   sot     10 non-null     int64  \n",
      " 6   ppg     10 non-null     float64\n",
      " 7   p       9 non-null      float64\n",
      "dtypes: float64(4), int64(2), object(2)\n",
      "memory usage: 768.0+ bytes\n"
     ]
    },
    {
     "data": {
      "text/plain": "                                     player  salary    gp   g    a  sot  \\\n0   Sergio Agüero Forward — Manchester City  $19.2m  16.0  14  3.0   34   \n1            Eden Hazard Midfield — Chelsea  $18.9m  21.0   8  4.0   17   \n2          Alexis Sánchez Forward — Arsenal  $17.6m   NaN  12  7.0   29   \n3     Yaya Touré Midfield — Manchester City  $16.6m  18.0   7  1.0   19   \n4  Angel María Midfield — Manchester United  $15.0m  13.0   3  NaN   13   \n\n     ppg       p  \n0  13.12  209.98  \n1  13.05  274.04  \n2  11.19  223.86  \n3  10.99  197.91  \n4  10.17  132.23  ",
      "text/html": "<div>\n<style scoped>\n    .dataframe tbody tr th:only-of-type {\n        vertical-align: middle;\n    }\n\n    .dataframe tbody tr th {\n        vertical-align: top;\n    }\n\n    .dataframe thead th {\n        text-align: right;\n    }\n</style>\n<table border=\"1\" class=\"dataframe\">\n  <thead>\n    <tr style=\"text-align: right;\">\n      <th></th>\n      <th>player</th>\n      <th>salary</th>\n      <th>gp</th>\n      <th>g</th>\n      <th>a</th>\n      <th>sot</th>\n      <th>ppg</th>\n      <th>p</th>\n    </tr>\n  </thead>\n  <tbody>\n    <tr>\n      <th>0</th>\n      <td>Sergio Agüero Forward — Manchester City</td>\n      <td>$19.2m</td>\n      <td>16.0</td>\n      <td>14</td>\n      <td>3.0</td>\n      <td>34</td>\n      <td>13.12</td>\n      <td>209.98</td>\n    </tr>\n    <tr>\n      <th>1</th>\n      <td>Eden Hazard Midfield — Chelsea</td>\n      <td>$18.9m</td>\n      <td>21.0</td>\n      <td>8</td>\n      <td>4.0</td>\n      <td>17</td>\n      <td>13.05</td>\n      <td>274.04</td>\n    </tr>\n    <tr>\n      <th>2</th>\n      <td>Alexis Sánchez Forward — Arsenal</td>\n      <td>$17.6m</td>\n      <td>NaN</td>\n      <td>12</td>\n      <td>7.0</td>\n      <td>29</td>\n      <td>11.19</td>\n      <td>223.86</td>\n    </tr>\n    <tr>\n      <th>3</th>\n      <td>Yaya Touré Midfield — Manchester City</td>\n      <td>$16.6m</td>\n      <td>18.0</td>\n      <td>7</td>\n      <td>1.0</td>\n      <td>19</td>\n      <td>10.99</td>\n      <td>197.91</td>\n    </tr>\n    <tr>\n      <th>4</th>\n      <td>Angel María Midfield — Manchester United</td>\n      <td>$15.0m</td>\n      <td>13.0</td>\n      <td>3</td>\n      <td>NaN</td>\n      <td>13</td>\n      <td>10.17</td>\n      <td>132.23</td>\n    </tr>\n  </tbody>\n</table>\n</div>"
     },
     "execution_count": 22,
     "metadata": {},
     "output_type": "execute_result"
    }
   ],
   "source": [
    "football.info()\n",
    "football.columns = football.columns.map(lambda x:x.lower())\n",
    "football.head()\n"
   ],
   "metadata": {
    "collapsed": false
   }
  },
  {
   "cell_type": "code",
   "execution_count": 5,
   "outputs": [
    {
     "data": {
      "text/plain": "                                     PLAYER  SALARY    GP   G    A  SOT  \\\n0   Sergio Agüero Forward — Manchester City  $19.2m  16.0  14  3.0   34   \n1            Eden Hazard Midfield — Chelsea  $18.9m  21.0   8  4.0   17   \n2          Alexis Sánchez Forward — Arsenal  $17.6m   NaN  12  7.0   29   \n3     Yaya Touré Midfield — Manchester City  $16.6m  18.0   7  1.0   19   \n4  Angel María Midfield — Manchester United  $15.0m  13.0   3  NaN   13   \n\n     PPG       P  \n0  13.12  209.98  \n1  13.05  274.04  \n2  11.19  223.86  \n3  10.99  197.91  \n4  10.17  132.23  ",
      "text/html": "<div>\n<style scoped>\n    .dataframe tbody tr th:only-of-type {\n        vertical-align: middle;\n    }\n\n    .dataframe tbody tr th {\n        vertical-align: top;\n    }\n\n    .dataframe thead th {\n        text-align: right;\n    }\n</style>\n<table border=\"1\" class=\"dataframe\">\n  <thead>\n    <tr style=\"text-align: right;\">\n      <th></th>\n      <th>PLAYER</th>\n      <th>SALARY</th>\n      <th>GP</th>\n      <th>G</th>\n      <th>A</th>\n      <th>SOT</th>\n      <th>PPG</th>\n      <th>P</th>\n    </tr>\n  </thead>\n  <tbody>\n    <tr>\n      <th>0</th>\n      <td>Sergio Agüero Forward — Manchester City</td>\n      <td>$19.2m</td>\n      <td>16.0</td>\n      <td>14</td>\n      <td>3.0</td>\n      <td>34</td>\n      <td>13.12</td>\n      <td>209.98</td>\n    </tr>\n    <tr>\n      <th>1</th>\n      <td>Eden Hazard Midfield — Chelsea</td>\n      <td>$18.9m</td>\n      <td>21.0</td>\n      <td>8</td>\n      <td>4.0</td>\n      <td>17</td>\n      <td>13.05</td>\n      <td>274.04</td>\n    </tr>\n    <tr>\n      <th>2</th>\n      <td>Alexis Sánchez Forward — Arsenal</td>\n      <td>$17.6m</td>\n      <td>NaN</td>\n      <td>12</td>\n      <td>7.0</td>\n      <td>29</td>\n      <td>11.19</td>\n      <td>223.86</td>\n    </tr>\n    <tr>\n      <th>3</th>\n      <td>Yaya Touré Midfield — Manchester City</td>\n      <td>$16.6m</td>\n      <td>18.0</td>\n      <td>7</td>\n      <td>1.0</td>\n      <td>19</td>\n      <td>10.99</td>\n      <td>197.91</td>\n    </tr>\n    <tr>\n      <th>4</th>\n      <td>Angel María Midfield — Manchester United</td>\n      <td>$15.0m</td>\n      <td>13.0</td>\n      <td>3</td>\n      <td>NaN</td>\n      <td>13</td>\n      <td>10.17</td>\n      <td>132.23</td>\n    </tr>\n  </tbody>\n</table>\n</div>"
     },
     "execution_count": 5,
     "metadata": {},
     "output_type": "execute_result"
    }
   ],
   "source": [
    "import pandas as pd\n",
    "football = pd.read_csv(r\"C:\\Users\\fzh00\\Desktop\\文件\\Python数据清洗基础\\data补充\\some_soccer_data.csv\")\n",
    "football.head()\n",
    "football.join()"
   ],
   "metadata": {
    "collapsed": false
   }
  },
  {
   "cell_type": "code",
   "execution_count": 1,
   "outputs": [],
   "source": [
    "import matplotlib.pyplot as plt"
   ],
   "metadata": {
    "collapsed": false
   }
  },
  {
   "cell_type": "code",
   "execution_count": 3,
   "outputs": [],
   "source": [
    "import matplotlib.pyplot as plt\n",
    "import numpy as np\n",
    "import pandas as pd"
   ],
   "metadata": {
    "collapsed": false
   }
  },
  {
   "cell_type": "code",
   "execution_count": 31,
   "outputs": [
    {
     "data": {
      "text/plain": "DatetimeIndex(['2023-02-02', '2023-02-05', '2023-02-08', '2023-02-11',\n               '2023-02-14', '2023-02-17', '2023-02-20', '2023-02-23',\n               '2023-02-26', '2023-03-01'],\n              dtype='datetime64[ns]', freq='3D')"
     },
     "execution_count": 31,
     "metadata": {},
     "output_type": "execute_result"
    }
   ],
   "source": [
    "pd.date_range('20230202',freq='3D',periods=10)"
   ],
   "metadata": {
    "collapsed": false
   }
  },
  {
   "cell_type": "code",
   "execution_count": 29,
   "outputs": [
    {
     "ename": "ValueError",
     "evalue": "time data '100224' does not match format '%d%m%Y' (match)",
     "output_type": "error",
     "traceback": [
      "\u001B[1;31m---------------------------------------------------------------------------\u001B[0m",
      "\u001B[1;31mValueError\u001B[0m                                Traceback (most recent call last)",
      "Cell \u001B[1;32mIn[29], line 1\u001B[0m\n\u001B[1;32m----> 1\u001B[0m \u001B[43mpd\u001B[49m\u001B[38;5;241;43m.\u001B[39;49m\u001B[43mto_datetime\u001B[49m\u001B[43m(\u001B[49m\u001B[38;5;124;43m'\u001B[39;49m\u001B[38;5;124;43m100224\u001B[39;49m\u001B[38;5;124;43m'\u001B[39;49m\u001B[43m,\u001B[49m\u001B[38;5;28;43mformat\u001B[39;49m\u001B[38;5;241;43m=\u001B[39;49m\u001B[38;5;124;43m'\u001B[39;49m\u001B[38;5;132;43;01m%d\u001B[39;49;00m\u001B[38;5;124;43m%\u001B[39;49m\u001B[38;5;124;43mm\u001B[39;49m\u001B[38;5;124;43m%\u001B[39;49m\u001B[38;5;124;43mY\u001B[39;49m\u001B[38;5;124;43m'\u001B[39;49m\u001B[43m)\u001B[49m\n",
      "File \u001B[1;32mC:\\ProgramData\\Anaconda3\\envs\\pythonProject_anaconda\\lib\\site-packages\\pandas\\core\\tools\\datetimes.py:1102\u001B[0m, in \u001B[0;36mto_datetime\u001B[1;34m(arg, errors, dayfirst, yearfirst, utc, format, exact, unit, infer_datetime_format, origin, cache)\u001B[0m\n\u001B[0;32m   1100\u001B[0m         result \u001B[38;5;241m=\u001B[39m convert_listlike(argc, \u001B[38;5;28mformat\u001B[39m)\n\u001B[0;32m   1101\u001B[0m \u001B[38;5;28;01melse\u001B[39;00m:\n\u001B[1;32m-> 1102\u001B[0m     result \u001B[38;5;241m=\u001B[39m \u001B[43mconvert_listlike\u001B[49m\u001B[43m(\u001B[49m\u001B[43mnp\u001B[49m\u001B[38;5;241;43m.\u001B[39;49m\u001B[43marray\u001B[49m\u001B[43m(\u001B[49m\u001B[43m[\u001B[49m\u001B[43marg\u001B[49m\u001B[43m]\u001B[49m\u001B[43m)\u001B[49m\u001B[43m,\u001B[49m\u001B[43m \u001B[49m\u001B[38;5;28;43mformat\u001B[39;49m\u001B[43m)\u001B[49m[\u001B[38;5;241m0\u001B[39m]\n\u001B[0;32m   1103\u001B[0m     \u001B[38;5;28;01mif\u001B[39;00m \u001B[38;5;28misinstance\u001B[39m(arg, \u001B[38;5;28mbool\u001B[39m) \u001B[38;5;129;01mand\u001B[39;00m \u001B[38;5;28misinstance\u001B[39m(result, np\u001B[38;5;241m.\u001B[39mbool_):\n\u001B[0;32m   1104\u001B[0m         result \u001B[38;5;241m=\u001B[39m \u001B[38;5;28mbool\u001B[39m(result)  \u001B[38;5;66;03m# TODO: avoid this kludge.\u001B[39;00m\n",
      "File \u001B[1;32mC:\\ProgramData\\Anaconda3\\envs\\pythonProject_anaconda\\lib\\site-packages\\pandas\\core\\tools\\datetimes.py:430\u001B[0m, in \u001B[0;36m_convert_listlike_datetimes\u001B[1;34m(arg, format, name, tz, unit, errors, infer_datetime_format, dayfirst, yearfirst, exact)\u001B[0m\n\u001B[0;32m    427\u001B[0m         \u001B[38;5;28mformat\u001B[39m \u001B[38;5;241m=\u001B[39m \u001B[38;5;28;01mNone\u001B[39;00m\n\u001B[0;32m    429\u001B[0m \u001B[38;5;28;01mif\u001B[39;00m \u001B[38;5;28mformat\u001B[39m \u001B[38;5;129;01mis\u001B[39;00m \u001B[38;5;129;01mnot\u001B[39;00m \u001B[38;5;28;01mNone\u001B[39;00m:\n\u001B[1;32m--> 430\u001B[0m     res \u001B[38;5;241m=\u001B[39m \u001B[43m_to_datetime_with_format\u001B[49m\u001B[43m(\u001B[49m\n\u001B[0;32m    431\u001B[0m \u001B[43m        \u001B[49m\u001B[43marg\u001B[49m\u001B[43m,\u001B[49m\u001B[43m \u001B[49m\u001B[43morig_arg\u001B[49m\u001B[43m,\u001B[49m\u001B[43m \u001B[49m\u001B[43mname\u001B[49m\u001B[43m,\u001B[49m\u001B[43m \u001B[49m\u001B[43mtz\u001B[49m\u001B[43m,\u001B[49m\u001B[43m \u001B[49m\u001B[38;5;28;43mformat\u001B[39;49m\u001B[43m,\u001B[49m\u001B[43m \u001B[49m\u001B[43mexact\u001B[49m\u001B[43m,\u001B[49m\u001B[43m \u001B[49m\u001B[43merrors\u001B[49m\u001B[43m,\u001B[49m\u001B[43m \u001B[49m\u001B[43minfer_datetime_format\u001B[49m\n\u001B[0;32m    432\u001B[0m \u001B[43m    \u001B[49m\u001B[43m)\u001B[49m\n\u001B[0;32m    433\u001B[0m     \u001B[38;5;28;01mif\u001B[39;00m res \u001B[38;5;129;01mis\u001B[39;00m \u001B[38;5;129;01mnot\u001B[39;00m \u001B[38;5;28;01mNone\u001B[39;00m:\n\u001B[0;32m    434\u001B[0m         \u001B[38;5;28;01mreturn\u001B[39;00m res\n",
      "File \u001B[1;32mC:\\ProgramData\\Anaconda3\\envs\\pythonProject_anaconda\\lib\\site-packages\\pandas\\core\\tools\\datetimes.py:538\u001B[0m, in \u001B[0;36m_to_datetime_with_format\u001B[1;34m(arg, orig_arg, name, tz, fmt, exact, errors, infer_datetime_format)\u001B[0m\n\u001B[0;32m    535\u001B[0m         \u001B[38;5;28;01mreturn\u001B[39;00m _box_as_indexlike(result, utc\u001B[38;5;241m=\u001B[39mutc, name\u001B[38;5;241m=\u001B[39mname)\n\u001B[0;32m    537\u001B[0m \u001B[38;5;66;03m# fallback\u001B[39;00m\n\u001B[1;32m--> 538\u001B[0m res \u001B[38;5;241m=\u001B[39m \u001B[43m_array_strptime_with_fallback\u001B[49m\u001B[43m(\u001B[49m\n\u001B[0;32m    539\u001B[0m \u001B[43m    \u001B[49m\u001B[43marg\u001B[49m\u001B[43m,\u001B[49m\u001B[43m \u001B[49m\u001B[43mname\u001B[49m\u001B[43m,\u001B[49m\u001B[43m \u001B[49m\u001B[43mtz\u001B[49m\u001B[43m,\u001B[49m\u001B[43m \u001B[49m\u001B[43mfmt\u001B[49m\u001B[43m,\u001B[49m\u001B[43m \u001B[49m\u001B[43mexact\u001B[49m\u001B[43m,\u001B[49m\u001B[43m \u001B[49m\u001B[43merrors\u001B[49m\u001B[43m,\u001B[49m\u001B[43m \u001B[49m\u001B[43minfer_datetime_format\u001B[49m\n\u001B[0;32m    540\u001B[0m \u001B[43m\u001B[49m\u001B[43m)\u001B[49m\n\u001B[0;32m    541\u001B[0m \u001B[38;5;28;01mreturn\u001B[39;00m res\n",
      "File \u001B[1;32mC:\\ProgramData\\Anaconda3\\envs\\pythonProject_anaconda\\lib\\site-packages\\pandas\\core\\tools\\datetimes.py:473\u001B[0m, in \u001B[0;36m_array_strptime_with_fallback\u001B[1;34m(arg, name, tz, fmt, exact, errors, infer_datetime_format)\u001B[0m\n\u001B[0;32m    470\u001B[0m utc \u001B[38;5;241m=\u001B[39m tz \u001B[38;5;241m==\u001B[39m \u001B[38;5;124m\"\u001B[39m\u001B[38;5;124mutc\u001B[39m\u001B[38;5;124m\"\u001B[39m\n\u001B[0;32m    472\u001B[0m \u001B[38;5;28;01mtry\u001B[39;00m:\n\u001B[1;32m--> 473\u001B[0m     result, timezones \u001B[38;5;241m=\u001B[39m \u001B[43marray_strptime\u001B[49m\u001B[43m(\u001B[49m\u001B[43marg\u001B[49m\u001B[43m,\u001B[49m\u001B[43m \u001B[49m\u001B[43mfmt\u001B[49m\u001B[43m,\u001B[49m\u001B[43m \u001B[49m\u001B[43mexact\u001B[49m\u001B[38;5;241;43m=\u001B[39;49m\u001B[43mexact\u001B[49m\u001B[43m,\u001B[49m\u001B[43m \u001B[49m\u001B[43merrors\u001B[49m\u001B[38;5;241;43m=\u001B[39;49m\u001B[43merrors\u001B[49m\u001B[43m)\u001B[49m\n\u001B[0;32m    474\u001B[0m \u001B[38;5;28;01mexcept\u001B[39;00m OutOfBoundsDatetime:\n\u001B[0;32m    475\u001B[0m     \u001B[38;5;28;01mif\u001B[39;00m errors \u001B[38;5;241m==\u001B[39m \u001B[38;5;124m\"\u001B[39m\u001B[38;5;124mraise\u001B[39m\u001B[38;5;124m\"\u001B[39m:\n",
      "File \u001B[1;32mC:\\ProgramData\\Anaconda3\\envs\\pythonProject_anaconda\\lib\\site-packages\\pandas\\_libs\\tslibs\\strptime.pyx:150\u001B[0m, in \u001B[0;36mpandas._libs.tslibs.strptime.array_strptime\u001B[1;34m()\u001B[0m\n",
      "\u001B[1;31mValueError\u001B[0m: time data '100224' does not match format '%d%m%Y' (match)"
     ]
    }
   ],
   "source": [
    "pd.to_datetime('100224',format='%d%m%Y')"
   ],
   "metadata": {
    "collapsed": false
   }
  },
  {
   "cell_type": "code",
   "execution_count": 25,
   "outputs": [
    {
     "data": {
      "text/plain": "Timestamp('2008-09-25 08:43:41')"
     },
     "execution_count": 25,
     "metadata": {},
     "output_type": "execute_result"
    }
   ],
   "source": [
    "#unit默认为‘ns'，可设置为秒\n",
    "pd.to_datetime(1222332221,unit='s')"
   ],
   "metadata": {
    "collapsed": false
   }
  },
  {
   "cell_type": "code",
   "execution_count": 24,
   "outputs": [
    {
     "data": {
      "text/plain": "0      2018-02-27\n1      2018-02-27\n2      2018-02-27\n3      2018-02-27\n4      2018-02-27\n          ...    \n8136   2017-05-24\n8137   2017-05-24\n8138   2017-05-24\n8139   2017-05-24\n8140   2017-05-24\nName: 日期, Length: 8141, dtype: datetime64[ns]"
     },
     "execution_count": 24,
     "metadata": {},
     "output_type": "execute_result"
    },
    {
     "name": "stdout",
     "output_type": "stream",
     "text": [
      "<class 'pandas.core.frame.DataFrame'>\n",
      "RangeIndex: 8141 entries, 0 to 8140\n",
      "Data columns (total 9 columns):\n",
      " #   Column     Non-Null Count  Dtype  \n",
      "---  ------     --------------  -----  \n",
      " 0   商品名称       8141 non-null   object \n",
      " 1   价格（元）      8139 non-null   float64\n",
      " 2   近30天销量（件）  8141 non-null   int64  \n",
      " 3   广告词        4726 non-null   object \n",
      " 4   促销活动       4150 non-null   object \n",
      " 5   评论数        7081 non-null   float64\n",
      " 6   商品链接       8141 non-null   object \n",
      " 7   日期         8141 non-null   object \n",
      " 8   品牌         8141 non-null   object \n",
      "dtypes: float64(2), int64(1), object(6)\n",
      "memory usage: 572.5+ KB\n"
     ]
    }
   ],
   "source": [
    "pd.to_datetime(date.日期)\n",
    "date.info()"
   ],
   "metadata": {
    "collapsed": false
   }
  },
  {
   "cell_type": "code",
   "execution_count": 22,
   "outputs": [
    {
     "data": {
      "text/plain": "                            商品名称  价格（元）  近30天销量（件）               广告词 促销活动  \\\n0        江小白品鉴酒更多优惠请见详情页非卖品请勿下单！   29.0        121  单纯高粱酿造 精制包装 特色语录  NaN   \n1  牛栏山 46度二锅头500mL*12整箱（绿瓶）装 清香型   78.0       8027       正宗牛栏山 地道北京味  NaN   \n2    泸州老窖 泸州原浆柔和 52度 500mL 白酒浓香型   20.0       3116               NaN  NaN   \n\n       评论数                                               商品链接          日期  \\\n0  67514.0  https://chaoshi.detail.tmall.com/item.htm?id=5...  2018-02-27   \n1  26144.0  https://chaoshi.detail.tmall.com/item.htm?id=5...  2018-02-27   \n2  25921.0  https://chaoshi.detail.tmall.com/item.htm?id=5...  2018-02-27   \n\n     品牌  \n0   江小白  \n1   牛栏山  \n2  泸州老窖  ",
      "text/html": "<div>\n<style scoped>\n    .dataframe tbody tr th:only-of-type {\n        vertical-align: middle;\n    }\n\n    .dataframe tbody tr th {\n        vertical-align: top;\n    }\n\n    .dataframe thead th {\n        text-align: right;\n    }\n</style>\n<table border=\"1\" class=\"dataframe\">\n  <thead>\n    <tr style=\"text-align: right;\">\n      <th></th>\n      <th>商品名称</th>\n      <th>价格（元）</th>\n      <th>近30天销量（件）</th>\n      <th>广告词</th>\n      <th>促销活动</th>\n      <th>评论数</th>\n      <th>商品链接</th>\n      <th>日期</th>\n      <th>品牌</th>\n    </tr>\n  </thead>\n  <tbody>\n    <tr>\n      <th>0</th>\n      <td>江小白品鉴酒更多优惠请见详情页非卖品请勿下单！</td>\n      <td>29.0</td>\n      <td>121</td>\n      <td>单纯高粱酿造 精制包装 特色语录</td>\n      <td>NaN</td>\n      <td>67514.0</td>\n      <td>https://chaoshi.detail.tmall.com/item.htm?id=5...</td>\n      <td>2018-02-27</td>\n      <td>江小白</td>\n    </tr>\n    <tr>\n      <th>1</th>\n      <td>牛栏山 46度二锅头500mL*12整箱（绿瓶）装 清香型</td>\n      <td>78.0</td>\n      <td>8027</td>\n      <td>正宗牛栏山 地道北京味</td>\n      <td>NaN</td>\n      <td>26144.0</td>\n      <td>https://chaoshi.detail.tmall.com/item.htm?id=5...</td>\n      <td>2018-02-27</td>\n      <td>牛栏山</td>\n    </tr>\n    <tr>\n      <th>2</th>\n      <td>泸州老窖 泸州原浆柔和 52度 500mL 白酒浓香型</td>\n      <td>20.0</td>\n      <td>3116</td>\n      <td>NaN</td>\n      <td>NaN</td>\n      <td>25921.0</td>\n      <td>https://chaoshi.detail.tmall.com/item.htm?id=5...</td>\n      <td>2018-02-27</td>\n      <td>泸州老窖</td>\n    </tr>\n  </tbody>\n</table>\n</div>"
     },
     "execution_count": 22,
     "metadata": {},
     "output_type": "execute_result"
    }
   ],
   "source": [
    "\n",
    "date = pd.read_csv(r\"C:\\Users\\fzh00\\Desktop\\文件\\Python数据清洗基础\\data补充\\天猫白酒销售数据.csv\")\n",
    "date[:3]"
   ],
   "metadata": {
    "collapsed": false
   }
  },
  {
   "cell_type": "code",
   "execution_count": 20,
   "outputs": [
    {
     "data": {
      "text/plain": "   姓名  爱好\n0  张三   0\n1  张三   1\n2  张三   2\n3  李四   3\n4  李四   4\n5  李四   5",
      "text/html": "<div>\n<style scoped>\n    .dataframe tbody tr th:only-of-type {\n        vertical-align: middle;\n    }\n\n    .dataframe tbody tr th {\n        vertical-align: top;\n    }\n\n    .dataframe thead th {\n        text-align: right;\n    }\n</style>\n<table border=\"1\" class=\"dataframe\">\n  <thead>\n    <tr style=\"text-align: right;\">\n      <th></th>\n      <th>姓名</th>\n      <th>爱好</th>\n    </tr>\n  </thead>\n  <tbody>\n    <tr>\n      <th>0</th>\n      <td>张三</td>\n      <td>0</td>\n    </tr>\n    <tr>\n      <th>1</th>\n      <td>张三</td>\n      <td>1</td>\n    </tr>\n    <tr>\n      <th>2</th>\n      <td>张三</td>\n      <td>2</td>\n    </tr>\n    <tr>\n      <th>3</th>\n      <td>李四</td>\n      <td>3</td>\n    </tr>\n    <tr>\n      <th>4</th>\n      <td>李四</td>\n      <td>4</td>\n    </tr>\n    <tr>\n      <th>5</th>\n      <td>李四</td>\n      <td>5</td>\n    </tr>\n  </tbody>\n</table>\n</div>"
     },
     "execution_count": 20,
     "metadata": {},
     "output_type": "execute_result"
    }
   ],
   "source": [
    "peop = pd.DataFrame({'姓名':['张三']*3+['李四']*3,\n",
    "                      '爱好':[i for i in range(6)]})\n",
    "peop"
   ],
   "metadata": {
    "collapsed": false
   }
  },
  {
   "cell_type": "code",
   "execution_count": 19,
   "outputs": [
    {
     "data": {
      "text/plain": "(8141, 10)"
     },
     "execution_count": 19,
     "metadata": {},
     "output_type": "execute_result"
    },
    {
     "data": {
      "text/plain": "             ID                               商品名称  价格（元）  近30天销量（件）  \\\n0  537013830676            江小白品鉴酒更多优惠请见详情页非卖品请勿下单！   29.0        121   \n1  525501233363      牛栏山 46度二锅头500mL*12整箱（绿瓶）装 清香型   78.0       8027   \n2  540011154689        泸州老窖 泸州原浆柔和 52度 500mL 白酒浓香型   20.0       3116   \n3   43211682074       红星二锅头酒大二绿瓶56度 500ml清香型白酒酒厂直供   13.0       8703   \n4  521710025064  52度洋河海之蓝 480mlx2瓶 绵柔型白酒 猫超配送 酒厂直供  326.0       7165   \n\n                广告词      促销活动      评论数  \\\n0  单纯高粱酿造 精制包装 特色语录       NaN  67514.0   \n1       正宗牛栏山 地道北京味       NaN  26144.0   \n2               NaN       NaN  25921.0   \n3      整箱原厂包装 见详情链接  满99元减10元  22575.0   \n4    不参与天猫超市任何优惠券活动       NaN  21535.0   \n\n                                                商品链接         日期    品牌  \n0  https://chaoshi.detail.tmall.com/item.htm?id=5... 2018-02-27   江小白  \n1  https://chaoshi.detail.tmall.com/item.htm?id=5... 2018-02-27   牛栏山  \n2  https://chaoshi.detail.tmall.com/item.htm?id=5... 2018-02-27  泸州老窖  \n3  https://chaoshi.detail.tmall.com/item.htm?id=4... 2018-02-27    红星  \n4  https://chaoshi.detail.tmall.com/item.htm?id=5... 2018-02-27    洋河  ",
      "text/html": "<div>\n<style scoped>\n    .dataframe tbody tr th:only-of-type {\n        vertical-align: middle;\n    }\n\n    .dataframe tbody tr th {\n        vertical-align: top;\n    }\n\n    .dataframe thead th {\n        text-align: right;\n    }\n</style>\n<table border=\"1\" class=\"dataframe\">\n  <thead>\n    <tr style=\"text-align: right;\">\n      <th></th>\n      <th>ID</th>\n      <th>商品名称</th>\n      <th>价格（元）</th>\n      <th>近30天销量（件）</th>\n      <th>广告词</th>\n      <th>促销活动</th>\n      <th>评论数</th>\n      <th>商品链接</th>\n      <th>日期</th>\n      <th>品牌</th>\n    </tr>\n  </thead>\n  <tbody>\n    <tr>\n      <th>0</th>\n      <td>537013830676</td>\n      <td>江小白品鉴酒更多优惠请见详情页非卖品请勿下单！</td>\n      <td>29.0</td>\n      <td>121</td>\n      <td>单纯高粱酿造 精制包装 特色语录</td>\n      <td>NaN</td>\n      <td>67514.0</td>\n      <td>https://chaoshi.detail.tmall.com/item.htm?id=5...</td>\n      <td>2018-02-27</td>\n      <td>江小白</td>\n    </tr>\n    <tr>\n      <th>1</th>\n      <td>525501233363</td>\n      <td>牛栏山 46度二锅头500mL*12整箱（绿瓶）装 清香型</td>\n      <td>78.0</td>\n      <td>8027</td>\n      <td>正宗牛栏山 地道北京味</td>\n      <td>NaN</td>\n      <td>26144.0</td>\n      <td>https://chaoshi.detail.tmall.com/item.htm?id=5...</td>\n      <td>2018-02-27</td>\n      <td>牛栏山</td>\n    </tr>\n    <tr>\n      <th>2</th>\n      <td>540011154689</td>\n      <td>泸州老窖 泸州原浆柔和 52度 500mL 白酒浓香型</td>\n      <td>20.0</td>\n      <td>3116</td>\n      <td>NaN</td>\n      <td>NaN</td>\n      <td>25921.0</td>\n      <td>https://chaoshi.detail.tmall.com/item.htm?id=5...</td>\n      <td>2018-02-27</td>\n      <td>泸州老窖</td>\n    </tr>\n    <tr>\n      <th>3</th>\n      <td>43211682074</td>\n      <td>红星二锅头酒大二绿瓶56度 500ml清香型白酒酒厂直供</td>\n      <td>13.0</td>\n      <td>8703</td>\n      <td>整箱原厂包装 见详情链接</td>\n      <td>满99元减10元</td>\n      <td>22575.0</td>\n      <td>https://chaoshi.detail.tmall.com/item.htm?id=4...</td>\n      <td>2018-02-27</td>\n      <td>红星</td>\n    </tr>\n    <tr>\n      <th>4</th>\n      <td>521710025064</td>\n      <td>52度洋河海之蓝 480mlx2瓶 绵柔型白酒 猫超配送 酒厂直供</td>\n      <td>326.0</td>\n      <td>7165</td>\n      <td>不参与天猫超市任何优惠券活动</td>\n      <td>NaN</td>\n      <td>21535.0</td>\n      <td>https://chaoshi.detail.tmall.com/item.htm?id=5...</td>\n      <td>2018-02-27</td>\n      <td>洋河</td>\n    </tr>\n  </tbody>\n</table>\n</div>"
     },
     "execution_count": 19,
     "metadata": {},
     "output_type": "execute_result"
    }
   ],
   "source": [
    "wine.shape\n",
    "wine.head()"
   ],
   "metadata": {
    "collapsed": false
   }
  },
  {
   "cell_type": "code",
   "execution_count": 17,
   "outputs": [],
   "source": [
    "wine = pd.read_excel(r\"C:\\Users\\fzh00\\Desktop\\文件\\Python数据清洗基础\\data补充\\酒类销售数据.xlsx\")"
   ],
   "metadata": {
    "collapsed": false
   }
  },
  {
   "cell_type": "code",
   "execution_count": 14,
   "outputs": [],
   "source": [
    "data = pd.read_excel(r\"C:\\Users\\fzh00\\Desktop\\文件\\Python数据清洗基础\\data补充\\酒类销售数据.xlsx\")"
   ],
   "metadata": {
    "collapsed": false
   }
  },
  {
   "cell_type": "code",
   "execution_count": 13,
   "outputs": [
    {
     "data": {
      "text/plain": "0        True\n1       False\n2        True\n3       False\n4        True\n        ...  \n1637      NaN\n1638      NaN\n1639      NaN\n1640      NaN\n1641      NaN\nName: 供应商, Length: 1642, dtype: object"
     },
     "execution_count": 13,
     "metadata": {},
     "output_type": "execute_result"
    }
   ],
   "source": [
    "#正则\n",
    "lipei2.供应商.str.contains('[a-zA-Z0-9_]+') #‘+’号表示至少再现一次字母"
   ],
   "metadata": {
    "collapsed": false
   }
  },
  {
   "cell_type": "code",
   "execution_count": 12,
   "outputs": [
    {
     "data": {
      "text/plain": "0        True\n1       False\n2        True\n3       False\n4        True\n        ...  \n1637      NaN\n1638      NaN\n1639      NaN\n1640      NaN\n1641      NaN\nName: 供应商, Length: 1642, dtype: object"
     },
     "execution_count": 12,
     "metadata": {},
     "output_type": "execute_result"
    },
    {
     "data": {
      "text/plain": "    供应商  赔付金额  理赔时效\n0   i云保   NaN   NaN\n1  凤栖云服   NaN   NaN\n2   i云保  1000   7.0\n3   小雨伞   NaN   NaN\n4   i云保   NaN   NaN",
      "text/html": "<div>\n<style scoped>\n    .dataframe tbody tr th:only-of-type {\n        vertical-align: middle;\n    }\n\n    .dataframe tbody tr th {\n        vertical-align: top;\n    }\n\n    .dataframe thead th {\n        text-align: right;\n    }\n</style>\n<table border=\"1\" class=\"dataframe\">\n  <thead>\n    <tr style=\"text-align: right;\">\n      <th></th>\n      <th>供应商</th>\n      <th>赔付金额</th>\n      <th>理赔时效</th>\n    </tr>\n  </thead>\n  <tbody>\n    <tr>\n      <th>0</th>\n      <td>i云保</td>\n      <td>NaN</td>\n      <td>NaN</td>\n    </tr>\n    <tr>\n      <th>1</th>\n      <td>凤栖云服</td>\n      <td>NaN</td>\n      <td>NaN</td>\n    </tr>\n    <tr>\n      <th>2</th>\n      <td>i云保</td>\n      <td>1000</td>\n      <td>7.0</td>\n    </tr>\n    <tr>\n      <th>3</th>\n      <td>小雨伞</td>\n      <td>NaN</td>\n      <td>NaN</td>\n    </tr>\n    <tr>\n      <th>4</th>\n      <td>i云保</td>\n      <td>NaN</td>\n      <td>NaN</td>\n    </tr>\n  </tbody>\n</table>\n</div>"
     },
     "execution_count": 12,
     "metadata": {},
     "output_type": "execute_result"
    }
   ],
   "source": [
    "lipei2 = lipei[['供应商','赔付金额','理赔时效']]\n",
    "lipei2.供应商.str.contains('^i') #正则以xx开头\n",
    "lipei2.head()"
   ],
   "metadata": {
    "collapsed": false
   }
  },
  {
   "cell_type": "code",
   "execution_count": 7,
   "outputs": [
    {
     "data": {
      "text/plain": "pandas.core.series.Series"
     },
     "execution_count": 7,
     "metadata": {},
     "output_type": "execute_result"
    },
    {
     "data": {
      "text/plain": "pandas.core.series.Series"
     },
     "execution_count": 7,
     "metadata": {},
     "output_type": "execute_result"
    }
   ],
   "source": [
    "type(s1[:2])\n",
    "type(s1.str[:2])"
   ],
   "metadata": {
    "collapsed": false
   }
  },
  {
   "cell_type": "code",
   "execution_count": 6,
   "outputs": [
    {
     "data": {
      "text/plain": "0     hello\n1    hunter\ndtype: object"
     },
     "execution_count": 6,
     "metadata": {},
     "output_type": "execute_result"
    },
    {
     "data": {
      "text/plain": "0    he\n1    hu\n2    wo\n3    To\n4    Li\ndtype: object"
     },
     "execution_count": 6,
     "metadata": {},
     "output_type": "execute_result"
    }
   ],
   "source": [
    "s1[:2]\n",
    "s1.str[:2]"
   ],
   "metadata": {
    "collapsed": false
   }
  },
  {
   "cell_type": "code",
   "execution_count": 5,
   "outputs": [
    {
     "data": {
      "text/plain": "0     hello\n1    hunter\n2     world\n3       Tom\n4      Lily\ndtype: object"
     },
     "execution_count": 5,
     "metadata": {},
     "output_type": "execute_result"
    }
   ],
   "source": [
    "s1 = pd.Series([\"hello\",\"hunter\",\"world\",\"Tom\",\"Lily\"])\n",
    "s1"
   ],
   "metadata": {
    "collapsed": false
   }
  },
  {
   "cell_type": "code",
   "execution_count": 3,
   "outputs": [
    {
     "data": {
      "text/plain": "   序号    工单编号  工单类型  工单来源 工单创建人 工单创建人组别 当前处理人 当前处理人组别               工单创建时间  \\\n0   1  345292  协助理赔  手动创建    肖楠   业务支持组    肖楠   业务支持组  2021-06-27 11:00:11   \n\n                工单完结时间  ... 提交资料时间  提交资料方式 案件状态 赔付金额 结案时间 理赔时效 是否超时 超时原因  \\\n0  2021-06-27 11:01:05  ...    NaN     NaN  NaN  NaN  NaN  NaN   --  NaN   \n\n               最新一次案件跟进进度                                               跟进日志  \n0  2021-06-25结案，金额:192.48  [{\"code\":\"follow_log\",\"content\":\"报案号：192021321...  \n\n[1 rows x 53 columns]",
      "text/html": "<div>\n<style scoped>\n    .dataframe tbody tr th:only-of-type {\n        vertical-align: middle;\n    }\n\n    .dataframe tbody tr th {\n        vertical-align: top;\n    }\n\n    .dataframe thead th {\n        text-align: right;\n    }\n</style>\n<table border=\"1\" class=\"dataframe\">\n  <thead>\n    <tr style=\"text-align: right;\">\n      <th></th>\n      <th>序号</th>\n      <th>工单编号</th>\n      <th>工单类型</th>\n      <th>工单来源</th>\n      <th>工单创建人</th>\n      <th>工单创建人组别</th>\n      <th>当前处理人</th>\n      <th>当前处理人组别</th>\n      <th>工单创建时间</th>\n      <th>工单完结时间</th>\n      <th>...</th>\n      <th>提交资料时间</th>\n      <th>提交资料方式</th>\n      <th>案件状态</th>\n      <th>赔付金额</th>\n      <th>结案时间</th>\n      <th>理赔时效</th>\n      <th>是否超时</th>\n      <th>超时原因</th>\n      <th>最新一次案件跟进进度</th>\n      <th>跟进日志</th>\n    </tr>\n  </thead>\n  <tbody>\n    <tr>\n      <th>0</th>\n      <td>1</td>\n      <td>345292</td>\n      <td>协助理赔</td>\n      <td>手动创建</td>\n      <td>肖楠</td>\n      <td>业务支持组</td>\n      <td>肖楠</td>\n      <td>业务支持组</td>\n      <td>2021-06-27 11:00:11</td>\n      <td>2021-06-27 11:01:05</td>\n      <td>...</td>\n      <td>NaN</td>\n      <td>NaN</td>\n      <td>NaN</td>\n      <td>NaN</td>\n      <td>NaN</td>\n      <td>NaN</td>\n      <td>--</td>\n      <td>NaN</td>\n      <td>2021-06-25结案，金额:192.48</td>\n      <td>[{\"code\":\"follow_log\",\"content\":\"报案号：192021321...</td>\n    </tr>\n  </tbody>\n</table>\n<p>1 rows × 53 columns</p>\n</div>"
     },
     "execution_count": 3,
     "metadata": {},
     "output_type": "execute_result"
    }
   ],
   "source": [
    "import numpy as np\n",
    "import pandas as pd\n",
    "\n",
    "lipei = pd.read_excel(r\"C:\\Users\\fzh00\\Desktop\\文件\\Python数据清洗基础\\理赔清单2.xlsx\")\n",
    "lipei.head(1)"
   ],
   "metadata": {
    "collapsed": false
   }
  },
  {
   "cell_type": "code",
   "execution_count": 84,
   "outputs": [
    {
     "name": "stdout",
     "output_type": "stream",
     "text": [
      "DataFrame\t InteractiveShell\t MultiIndex\t column\t esf\t esf2\t esf3\t np\t pd\t \n",
      "pydev_jupyter_vars\t remove_imported_pydev_package\t sys\t \n"
     ]
    }
   ],
   "source": [
    "who"
   ],
   "metadata": {
    "collapsed": false
   }
  },
  {
   "cell_type": "code",
   "execution_count": 81,
   "outputs": [
    {
     "data": {
      "text/plain": "bedrooms\n0    49803.500000\n1    62255.029369\n2    60569.654435\n3    61038.545009\n4    63210.411367\n5    64449.805195\n6    71400.596154\n7    76401.769231\n8    67774.000000\n9    78881.750000\nName: price, dtype: float64"
     },
     "execution_count": 81,
     "metadata": {},
     "output_type": "execute_result"
    }
   ],
   "source": [
    "esf3.groupby('bedrooms',as_index=True)['price'].agg('mean')"
   ],
   "metadata": {
    "collapsed": false
   }
  },
  {
   "cell_type": "code",
   "execution_count": 65,
   "outputs": [
    {
     "data": {
      "text/plain": "(16795, 12)"
     },
     "execution_count": 65,
     "metadata": {},
     "output_type": "execute_result"
    },
    {
     "data": {
      "text/plain": "(16736, 13)"
     },
     "execution_count": 65,
     "metadata": {},
     "output_type": "execute_result"
    },
    {
     "data": {
      "text/plain": "(16702, 13)"
     },
     "execution_count": 65,
     "metadata": {},
     "output_type": "execute_result"
    }
   ],
   "source": [
    "esf.shape\n",
    "esf2.shape\n",
    "esf3.shape"
   ],
   "metadata": {
    "collapsed": false
   }
  },
  {
   "cell_type": "code",
   "execution_count": 64,
   "outputs": [],
   "source": [
    "esf3 = esf2[esf2.分类 == '正常值']"
   ],
   "metadata": {
    "collapsed": false
   }
  },
  {
   "cell_type": "code",
   "execution_count": 63,
   "outputs": [
    {
     "data": {
      "text/plain": "(34, 13)"
     },
     "execution_count": 63,
     "metadata": {},
     "output_type": "execute_result"
    }
   ],
   "source": [
    "\n",
    "esf2[esf2.分类!='正常值'].shape"
   ],
   "metadata": {
    "collapsed": false
   }
  },
  {
   "cell_type": "code",
   "execution_count": 59,
   "outputs": [
    {
     "data": {
      "text/plain": "(16736, 13)"
     },
     "execution_count": 59,
     "metadata": {},
     "output_type": "execute_result"
    },
    {
     "data": {
      "text/plain": "0.0010157743785850861"
     },
     "execution_count": 59,
     "metadata": {},
     "output_type": "execute_result"
    },
    {
     "data": {
      "text/plain": "0.0010157743785850861"
     },
     "execution_count": 59,
     "metadata": {},
     "output_type": "execute_result"
    },
    {
     "data": {
      "text/plain": "count     16736\nunique        3\ntop         正常值\nfreq      16702\nName: 分类, dtype: object"
     },
     "execution_count": 59,
     "metadata": {},
     "output_type": "execute_result"
    },
    {
     "data": {
      "text/plain": "      CATE  bedrooms  halls   AREA  floor  subway  school  price   LONG  \\\n分类                                                                        \n小值      17        17     17     17     17      17      17     17     17   \n正常值  16702     16702  16702  16702  16702   16702   16702  16702  16702   \n大值      17        17     17     17     17      17      17     17     17   \n\n       LAT   NAME  DISTRICT  \n分类                           \n小值      17     17        17  \n正常值  16702  16702     16702  \n大值      17     17        17  ",
      "text/html": "<div>\n<style scoped>\n    .dataframe tbody tr th:only-of-type {\n        vertical-align: middle;\n    }\n\n    .dataframe tbody tr th {\n        vertical-align: top;\n    }\n\n    .dataframe thead th {\n        text-align: right;\n    }\n</style>\n<table border=\"1\" class=\"dataframe\">\n  <thead>\n    <tr style=\"text-align: right;\">\n      <th></th>\n      <th>CATE</th>\n      <th>bedrooms</th>\n      <th>halls</th>\n      <th>AREA</th>\n      <th>floor</th>\n      <th>subway</th>\n      <th>school</th>\n      <th>price</th>\n      <th>LONG</th>\n      <th>LAT</th>\n      <th>NAME</th>\n      <th>DISTRICT</th>\n    </tr>\n    <tr>\n      <th>分类</th>\n      <th></th>\n      <th></th>\n      <th></th>\n      <th></th>\n      <th></th>\n      <th></th>\n      <th></th>\n      <th></th>\n      <th></th>\n      <th></th>\n      <th></th>\n      <th></th>\n    </tr>\n  </thead>\n  <tbody>\n    <tr>\n      <th>小值</th>\n      <td>17</td>\n      <td>17</td>\n      <td>17</td>\n      <td>17</td>\n      <td>17</td>\n      <td>17</td>\n      <td>17</td>\n      <td>17</td>\n      <td>17</td>\n      <td>17</td>\n      <td>17</td>\n      <td>17</td>\n    </tr>\n    <tr>\n      <th>正常值</th>\n      <td>16702</td>\n      <td>16702</td>\n      <td>16702</td>\n      <td>16702</td>\n      <td>16702</td>\n      <td>16702</td>\n      <td>16702</td>\n      <td>16702</td>\n      <td>16702</td>\n      <td>16702</td>\n      <td>16702</td>\n      <td>16702</td>\n    </tr>\n    <tr>\n      <th>大值</th>\n      <td>17</td>\n      <td>17</td>\n      <td>17</td>\n      <td>17</td>\n      <td>17</td>\n      <td>17</td>\n      <td>17</td>\n      <td>17</td>\n      <td>17</td>\n      <td>17</td>\n      <td>17</td>\n      <td>17</td>\n    </tr>\n  </tbody>\n</table>\n</div>"
     },
     "execution_count": 59,
     "metadata": {},
     "output_type": "execute_result"
    }
   ],
   "source": [
    "esf2.shape\n",
    "17/16736\n",
    "17/16736\n",
    "esf2.分类.describe()\n",
    "esf2.groupby(esf2['分类']).count()\n"
   ],
   "metadata": {
    "collapsed": false
   }
  },
  {
   "cell_type": "code",
   "execution_count": 57,
   "outputs": [
    {
     "name": "stderr",
     "output_type": "stream",
     "text": [
      "C:\\Users\\fzh00\\AppData\\Local\\Temp\\ipykernel_9248\\2635633024.py:1: SettingWithCopyWarning: \n",
      "A value is trying to be set on a copy of a slice from a DataFrame.\n",
      "Try using .loc[row_indexer,col_indexer] = value instead\n",
      "\n",
      "See the caveats in the documentation: https://pandas.pydata.org/pandas-docs/stable/user_guide/indexing.html#returning-a-view-versus-a-copy\n",
      "  esf2['分类']=pd.qcut(esf2.price,[0,0.001,0.999,1],labels=['小值','正常值','大值'])\n"
     ]
    }
   ],
   "source": [
    "esf2['分类']=pd.qcut(esf2.price,[0,0.001,0.999,1],labels=['小值','正常值','大值'])"
   ],
   "metadata": {
    "collapsed": false
   }
  },
  {
   "cell_type": "code",
   "execution_count": 37,
   "outputs": [
    {
     "data": {
      "text/plain": "(16736, 12)"
     },
     "execution_count": 37,
     "metadata": {},
     "output_type": "execute_result"
    }
   ],
   "source": [
    "esf2.shape"
   ],
   "metadata": {
    "collapsed": false
   }
  },
  {
   "cell_type": "code",
   "execution_count": 28,
   "outputs": [
    {
     "data": {
      "text/plain": "           bedrooms         halls          AREA        subway        school  \\\ncount  16736.000000  16736.000000  16736.000000  16736.000000  16736.000000   \nmean       2.188337      1.220901     95.865114      0.828573      0.301685   \nstd        0.884902      0.557446    157.813065      0.376893      0.459003   \nmin        0.000000      0.000000      7.800000      0.000000      0.000000   \n25%        2.000000      1.000000     60.000000      1.000000      0.000000   \n50%        2.000000      1.000000     78.770000      1.000000      0.000000   \n75%        3.000000      2.000000    112.205000      1.000000      1.000000   \nmax        9.000000      9.000000  18779.500000      1.000000      1.000000   \n\n               price          LONG           LAT  \ncount   16736.000000  16736.000000  16736.000000  \nmean    61288.117412    116.377699     39.927242  \nstd     22829.883725      0.088714      0.057811  \nmin      5496.000000    115.981794     39.662469  \n25%     42705.000000    116.326141     39.891277  \n50%     57543.000000    116.383332     39.921377  \n75%     76389.000000    116.438193     39.959604  \nmax    206667.000000    117.118160     40.479249  ",
      "text/html": "<div>\n<style scoped>\n    .dataframe tbody tr th:only-of-type {\n        vertical-align: middle;\n    }\n\n    .dataframe tbody tr th {\n        vertical-align: top;\n    }\n\n    .dataframe thead th {\n        text-align: right;\n    }\n</style>\n<table border=\"1\" class=\"dataframe\">\n  <thead>\n    <tr style=\"text-align: right;\">\n      <th></th>\n      <th>bedrooms</th>\n      <th>halls</th>\n      <th>AREA</th>\n      <th>subway</th>\n      <th>school</th>\n      <th>price</th>\n      <th>LONG</th>\n      <th>LAT</th>\n    </tr>\n  </thead>\n  <tbody>\n    <tr>\n      <th>count</th>\n      <td>16736.000000</td>\n      <td>16736.000000</td>\n      <td>16736.000000</td>\n      <td>16736.000000</td>\n      <td>16736.000000</td>\n      <td>16736.000000</td>\n      <td>16736.000000</td>\n      <td>16736.000000</td>\n    </tr>\n    <tr>\n      <th>mean</th>\n      <td>2.188337</td>\n      <td>1.220901</td>\n      <td>95.865114</td>\n      <td>0.828573</td>\n      <td>0.301685</td>\n      <td>61288.117412</td>\n      <td>116.377699</td>\n      <td>39.927242</td>\n    </tr>\n    <tr>\n      <th>std</th>\n      <td>0.884902</td>\n      <td>0.557446</td>\n      <td>157.813065</td>\n      <td>0.376893</td>\n      <td>0.459003</td>\n      <td>22829.883725</td>\n      <td>0.088714</td>\n      <td>0.057811</td>\n    </tr>\n    <tr>\n      <th>min</th>\n      <td>0.000000</td>\n      <td>0.000000</td>\n      <td>7.800000</td>\n      <td>0.000000</td>\n      <td>0.000000</td>\n      <td>5496.000000</td>\n      <td>115.981794</td>\n      <td>39.662469</td>\n    </tr>\n    <tr>\n      <th>25%</th>\n      <td>2.000000</td>\n      <td>1.000000</td>\n      <td>60.000000</td>\n      <td>1.000000</td>\n      <td>0.000000</td>\n      <td>42705.000000</td>\n      <td>116.326141</td>\n      <td>39.891277</td>\n    </tr>\n    <tr>\n      <th>50%</th>\n      <td>2.000000</td>\n      <td>1.000000</td>\n      <td>78.770000</td>\n      <td>1.000000</td>\n      <td>0.000000</td>\n      <td>57543.000000</td>\n      <td>116.383332</td>\n      <td>39.921377</td>\n    </tr>\n    <tr>\n      <th>75%</th>\n      <td>3.000000</td>\n      <td>2.000000</td>\n      <td>112.205000</td>\n      <td>1.000000</td>\n      <td>1.000000</td>\n      <td>76389.000000</td>\n      <td>116.438193</td>\n      <td>39.959604</td>\n    </tr>\n    <tr>\n      <th>max</th>\n      <td>9.000000</td>\n      <td>9.000000</td>\n      <td>18779.500000</td>\n      <td>1.000000</td>\n      <td>1.000000</td>\n      <td>206667.000000</td>\n      <td>117.118160</td>\n      <td>40.479249</td>\n    </tr>\n  </tbody>\n</table>\n</div>"
     },
     "execution_count": 28,
     "metadata": {},
     "output_type": "execute_result"
    }
   ],
   "source": [
    "esf2.describe()"
   ],
   "metadata": {
    "collapsed": false
   }
  },
  {
   "cell_type": "code",
   "execution_count": 26,
   "outputs": [
    {
     "data": {
      "text/plain": "(16736, 12)"
     },
     "execution_count": 26,
     "metadata": {},
     "output_type": "execute_result"
    }
   ],
   "source": [
    "esf2 = esf[((esf.LONG>=115.5) & (esf.LONG<=117.5))|((esf.LAT>=39.5)&(esf.LAT<=41))]\n",
    "esf2.shape"
   ],
   "metadata": {
    "collapsed": false
   }
  },
  {
   "cell_type": "code",
   "execution_count": 11,
   "outputs": [
    {
     "ename": "InvalidIndexError",
     "evalue": "(0        True\n1        True\n2        True\n3        True\n4        True\n         ... \n16790    True\n16791    True\n16792    True\n16793    True\n16794    True\nName: LONG, Length: 16795, dtype: bool,)",
     "output_type": "error",
     "traceback": [
      "\u001B[1;31m---------------------------------------------------------------------------\u001B[0m",
      "\u001B[1;31mTypeError\u001B[0m                                 Traceback (most recent call last)",
      "File \u001B[1;32mC:\\ProgramData\\Anaconda3\\envs\\pythonProject_anaconda\\lib\\site-packages\\pandas\\core\\indexes\\base.py:3803\u001B[0m, in \u001B[0;36mIndex.get_loc\u001B[1;34m(self, key, method, tolerance)\u001B[0m\n\u001B[0;32m   3802\u001B[0m \u001B[38;5;28;01mtry\u001B[39;00m:\n\u001B[1;32m-> 3803\u001B[0m     \u001B[38;5;28;01mreturn\u001B[39;00m \u001B[38;5;28;43mself\u001B[39;49m\u001B[38;5;241;43m.\u001B[39;49m\u001B[43m_engine\u001B[49m\u001B[38;5;241;43m.\u001B[39;49m\u001B[43mget_loc\u001B[49m\u001B[43m(\u001B[49m\u001B[43mcasted_key\u001B[49m\u001B[43m)\u001B[49m\n\u001B[0;32m   3804\u001B[0m \u001B[38;5;28;01mexcept\u001B[39;00m \u001B[38;5;167;01mKeyError\u001B[39;00m \u001B[38;5;28;01mas\u001B[39;00m err:\n",
      "File \u001B[1;32mC:\\ProgramData\\Anaconda3\\envs\\pythonProject_anaconda\\lib\\site-packages\\pandas\\_libs\\index.pyx:138\u001B[0m, in \u001B[0;36mpandas._libs.index.IndexEngine.get_loc\u001B[1;34m()\u001B[0m\n",
      "File \u001B[1;32mC:\\ProgramData\\Anaconda3\\envs\\pythonProject_anaconda\\lib\\site-packages\\pandas\\_libs\\index.pyx:144\u001B[0m, in \u001B[0;36mpandas._libs.index.IndexEngine.get_loc\u001B[1;34m()\u001B[0m\n",
      "\u001B[1;31mTypeError\u001B[0m: '(0        True\n1        True\n2        True\n3        True\n4        True\n         ... \n16790    True\n16791    True\n16792    True\n16793    True\n16794    True\nName: LONG, Length: 16795, dtype: bool,)' is an invalid key",
      "\nDuring handling of the above exception, another exception occurred:\n",
      "\u001B[1;31mInvalidIndexError\u001B[0m                         Traceback (most recent call last)",
      "Cell \u001B[1;32mIn[11], line 1\u001B[0m\n\u001B[1;32m----> 1\u001B[0m \u001B[43mesf\u001B[49m\u001B[43m[\u001B[49m\u001B[43mesf\u001B[49m\u001B[38;5;241;43m.\u001B[39;49m\u001B[43mLONG\u001B[49m\u001B[38;5;241;43m>\u001B[39;49m\u001B[38;5;241;43m115.5\u001B[39;49m\u001B[43m,\u001B[49m\u001B[43m]\u001B[49m\u001B[38;5;241m.\u001B[39mhead(\u001B[38;5;241m2\u001B[39m)\n",
      "File \u001B[1;32mC:\\ProgramData\\Anaconda3\\envs\\pythonProject_anaconda\\lib\\site-packages\\pandas\\core\\frame.py:3805\u001B[0m, in \u001B[0;36mDataFrame.__getitem__\u001B[1;34m(self, key)\u001B[0m\n\u001B[0;32m   3803\u001B[0m \u001B[38;5;28;01mif\u001B[39;00m \u001B[38;5;28mself\u001B[39m\u001B[38;5;241m.\u001B[39mcolumns\u001B[38;5;241m.\u001B[39mnlevels \u001B[38;5;241m>\u001B[39m \u001B[38;5;241m1\u001B[39m:\n\u001B[0;32m   3804\u001B[0m     \u001B[38;5;28;01mreturn\u001B[39;00m \u001B[38;5;28mself\u001B[39m\u001B[38;5;241m.\u001B[39m_getitem_multilevel(key)\n\u001B[1;32m-> 3805\u001B[0m indexer \u001B[38;5;241m=\u001B[39m \u001B[38;5;28;43mself\u001B[39;49m\u001B[38;5;241;43m.\u001B[39;49m\u001B[43mcolumns\u001B[49m\u001B[38;5;241;43m.\u001B[39;49m\u001B[43mget_loc\u001B[49m\u001B[43m(\u001B[49m\u001B[43mkey\u001B[49m\u001B[43m)\u001B[49m\n\u001B[0;32m   3806\u001B[0m \u001B[38;5;28;01mif\u001B[39;00m is_integer(indexer):\n\u001B[0;32m   3807\u001B[0m     indexer \u001B[38;5;241m=\u001B[39m [indexer]\n",
      "File \u001B[1;32mC:\\ProgramData\\Anaconda3\\envs\\pythonProject_anaconda\\lib\\site-packages\\pandas\\core\\indexes\\base.py:3810\u001B[0m, in \u001B[0;36mIndex.get_loc\u001B[1;34m(self, key, method, tolerance)\u001B[0m\n\u001B[0;32m   3805\u001B[0m         \u001B[38;5;28;01mraise\u001B[39;00m \u001B[38;5;167;01mKeyError\u001B[39;00m(key) \u001B[38;5;28;01mfrom\u001B[39;00m \u001B[38;5;21;01merr\u001B[39;00m\n\u001B[0;32m   3806\u001B[0m     \u001B[38;5;28;01mexcept\u001B[39;00m \u001B[38;5;167;01mTypeError\u001B[39;00m:\n\u001B[0;32m   3807\u001B[0m         \u001B[38;5;66;03m# If we have a listlike key, _check_indexing_error will raise\u001B[39;00m\n\u001B[0;32m   3808\u001B[0m         \u001B[38;5;66;03m#  InvalidIndexError. Otherwise we fall through and re-raise\u001B[39;00m\n\u001B[0;32m   3809\u001B[0m         \u001B[38;5;66;03m#  the TypeError.\u001B[39;00m\n\u001B[1;32m-> 3810\u001B[0m         \u001B[38;5;28;43mself\u001B[39;49m\u001B[38;5;241;43m.\u001B[39;49m\u001B[43m_check_indexing_error\u001B[49m\u001B[43m(\u001B[49m\u001B[43mkey\u001B[49m\u001B[43m)\u001B[49m\n\u001B[0;32m   3811\u001B[0m         \u001B[38;5;28;01mraise\u001B[39;00m\n\u001B[0;32m   3813\u001B[0m \u001B[38;5;66;03m# GH#42269\u001B[39;00m\n",
      "File \u001B[1;32mC:\\ProgramData\\Anaconda3\\envs\\pythonProject_anaconda\\lib\\site-packages\\pandas\\core\\indexes\\base.py:5968\u001B[0m, in \u001B[0;36mIndex._check_indexing_error\u001B[1;34m(self, key)\u001B[0m\n\u001B[0;32m   5964\u001B[0m \u001B[38;5;28;01mdef\u001B[39;00m \u001B[38;5;21m_check_indexing_error\u001B[39m(\u001B[38;5;28mself\u001B[39m, key):\n\u001B[0;32m   5965\u001B[0m     \u001B[38;5;28;01mif\u001B[39;00m \u001B[38;5;129;01mnot\u001B[39;00m is_scalar(key):\n\u001B[0;32m   5966\u001B[0m         \u001B[38;5;66;03m# if key is not a scalar, directly raise an error (the code below\u001B[39;00m\n\u001B[0;32m   5967\u001B[0m         \u001B[38;5;66;03m# would convert to numpy arrays and raise later any way) - GH29926\u001B[39;00m\n\u001B[1;32m-> 5968\u001B[0m         \u001B[38;5;28;01mraise\u001B[39;00m InvalidIndexError(key)\n",
      "\u001B[1;31mInvalidIndexError\u001B[0m: (0        True\n1        True\n2        True\n3        True\n4        True\n         ... \n16790    True\n16791    True\n16792    True\n16793    True\n16794    True\nName: LONG, Length: 16795, dtype: bool,)"
     ]
    }
   ],
   "source": [
    "esf[esf.LONG>115.5,].head(2)"
   ],
   "metadata": {
    "collapsed": false
   }
  },
  {
   "cell_type": "code",
   "execution_count": 14,
   "outputs": [
    {
     "ename": "TypeError",
     "evalue": "Cannot perform 'rand_' with a dtyped [float64] array and scalar of type [bool]",
     "output_type": "error",
     "traceback": [
      "\u001B[1;31m---------------------------------------------------------------------------\u001B[0m",
      "\u001B[1;31mTypeError\u001B[0m                                 Traceback (most recent call last)",
      "File \u001B[1;32mC:\\ProgramData\\Anaconda3\\envs\\pythonProject_anaconda\\lib\\site-packages\\pandas\\core\\ops\\array_ops.py:305\u001B[0m, in \u001B[0;36mna_logical_op\u001B[1;34m(x, y, op)\u001B[0m\n\u001B[0;32m    296\u001B[0m \u001B[38;5;28;01mtry\u001B[39;00m:\n\u001B[0;32m    297\u001B[0m     \u001B[38;5;66;03m# For exposition, write:\u001B[39;00m\n\u001B[0;32m    298\u001B[0m     \u001B[38;5;66;03m#  yarr = isinstance(y, np.ndarray)\u001B[39;00m\n\u001B[1;32m   (...)\u001B[0m\n\u001B[0;32m    303\u001B[0m     \u001B[38;5;66;03m# Then Cases where this goes through without raising include:\u001B[39;00m\n\u001B[0;32m    304\u001B[0m     \u001B[38;5;66;03m#  (xint or xbool) and (yint or bool)\u001B[39;00m\n\u001B[1;32m--> 305\u001B[0m     result \u001B[38;5;241m=\u001B[39m \u001B[43mop\u001B[49m\u001B[43m(\u001B[49m\u001B[43mx\u001B[49m\u001B[43m,\u001B[49m\u001B[43m \u001B[49m\u001B[43my\u001B[49m\u001B[43m)\u001B[49m\n\u001B[0;32m    306\u001B[0m \u001B[38;5;28;01mexcept\u001B[39;00m \u001B[38;5;167;01mTypeError\u001B[39;00m:\n",
      "File \u001B[1;32mC:\\ProgramData\\Anaconda3\\envs\\pythonProject_anaconda\\lib\\site-packages\\pandas\\core\\roperator.py:54\u001B[0m, in \u001B[0;36mrand_\u001B[1;34m(left, right)\u001B[0m\n\u001B[0;32m     53\u001B[0m \u001B[38;5;28;01mdef\u001B[39;00m \u001B[38;5;21mrand_\u001B[39m(left, right):\n\u001B[1;32m---> 54\u001B[0m     \u001B[38;5;28;01mreturn\u001B[39;00m \u001B[43moperator\u001B[49m\u001B[38;5;241;43m.\u001B[39;49m\u001B[43mand_\u001B[49m\u001B[43m(\u001B[49m\u001B[43mright\u001B[49m\u001B[43m,\u001B[49m\u001B[43m \u001B[49m\u001B[43mleft\u001B[49m\u001B[43m)\u001B[49m\n",
      "\u001B[1;31mTypeError\u001B[0m: ufunc 'bitwise_and' not supported for the input types, and the inputs could not be safely coerced to any supported types according to the casting rule ''safe''",
      "\nDuring handling of the above exception, another exception occurred:\n",
      "\u001B[1;31mValueError\u001B[0m                                Traceback (most recent call last)",
      "File \u001B[1;32mC:\\ProgramData\\Anaconda3\\envs\\pythonProject_anaconda\\lib\\site-packages\\pandas\\core\\ops\\array_ops.py:319\u001B[0m, in \u001B[0;36mna_logical_op\u001B[1;34m(x, y, op)\u001B[0m\n\u001B[0;32m    318\u001B[0m \u001B[38;5;28;01mtry\u001B[39;00m:\n\u001B[1;32m--> 319\u001B[0m     result \u001B[38;5;241m=\u001B[39m \u001B[43mlibops\u001B[49m\u001B[38;5;241;43m.\u001B[39;49m\u001B[43mscalar_binop\u001B[49m\u001B[43m(\u001B[49m\u001B[43mx\u001B[49m\u001B[43m,\u001B[49m\u001B[43m \u001B[49m\u001B[43my\u001B[49m\u001B[43m,\u001B[49m\u001B[43m \u001B[49m\u001B[43mop\u001B[49m\u001B[43m)\u001B[49m\n\u001B[0;32m    320\u001B[0m \u001B[38;5;28;01mexcept\u001B[39;00m (\n\u001B[0;32m    321\u001B[0m     \u001B[38;5;167;01mTypeError\u001B[39;00m,\n\u001B[0;32m    322\u001B[0m     \u001B[38;5;167;01mValueError\u001B[39;00m,\n\u001B[1;32m   (...)\u001B[0m\n\u001B[0;32m    325\u001B[0m     \u001B[38;5;167;01mNotImplementedError\u001B[39;00m,\n\u001B[0;32m    326\u001B[0m ) \u001B[38;5;28;01mas\u001B[39;00m err:\n",
      "File \u001B[1;32mC:\\ProgramData\\Anaconda3\\envs\\pythonProject_anaconda\\lib\\site-packages\\pandas\\_libs\\ops.pyx:180\u001B[0m, in \u001B[0;36mpandas._libs.ops.scalar_binop\u001B[1;34m()\u001B[0m\n",
      "\u001B[1;31mValueError\u001B[0m: Buffer dtype mismatch, expected 'Python object' but got 'double'",
      "\nThe above exception was the direct cause of the following exception:\n",
      "\u001B[1;31mTypeError\u001B[0m                                 Traceback (most recent call last)",
      "Cell \u001B[1;32mIn[14], line 1\u001B[0m\n\u001B[1;32m----> 1\u001B[0m esf[(esf\u001B[38;5;241m.\u001B[39mLONG\u001B[38;5;241m>\u001B[39m\u001B[38;5;241m=\u001B[39m\u001B[38;5;241;43m115.5\u001B[39;49m\u001B[43m \u001B[49m\u001B[38;5;241;43m&\u001B[39;49m\u001B[43m \u001B[49m\u001B[43mesf\u001B[49m\u001B[38;5;241;43m.\u001B[39;49m\u001B[43mLONG\u001B[49m\u001B[38;5;241m<\u001B[39m\u001B[38;5;241m=\u001B[39m\u001B[38;5;241m117.5\u001B[39m)\u001B[38;5;241m|\u001B[39m(esf\u001B[38;5;241m.\u001B[39mLAT\u001B[38;5;241m>\u001B[39m\u001B[38;5;241m=\u001B[39m\u001B[38;5;241m39.5\u001B[39m\u001B[38;5;241m&\u001B[39mesf\u001B[38;5;241m.\u001B[39mLAT\u001B[38;5;241m<\u001B[39m\u001B[38;5;241m=\u001B[39m\u001B[38;5;241m41\u001B[39m)]\n",
      "File \u001B[1;32mC:\\ProgramData\\Anaconda3\\envs\\pythonProject_anaconda\\lib\\site-packages\\pandas\\core\\ops\\common.py:72\u001B[0m, in \u001B[0;36m_unpack_zerodim_and_defer.<locals>.new_method\u001B[1;34m(self, other)\u001B[0m\n\u001B[0;32m     68\u001B[0m             \u001B[38;5;28;01mreturn\u001B[39;00m \u001B[38;5;28mNotImplemented\u001B[39m\n\u001B[0;32m     70\u001B[0m other \u001B[38;5;241m=\u001B[39m item_from_zerodim(other)\n\u001B[1;32m---> 72\u001B[0m \u001B[38;5;28;01mreturn\u001B[39;00m \u001B[43mmethod\u001B[49m\u001B[43m(\u001B[49m\u001B[38;5;28;43mself\u001B[39;49m\u001B[43m,\u001B[49m\u001B[43m \u001B[49m\u001B[43mother\u001B[49m\u001B[43m)\u001B[49m\n",
      "File \u001B[1;32mC:\\ProgramData\\Anaconda3\\envs\\pythonProject_anaconda\\lib\\site-packages\\pandas\\core\\arraylike.py:76\u001B[0m, in \u001B[0;36mOpsMixin.__rand__\u001B[1;34m(self, other)\u001B[0m\n\u001B[0;32m     74\u001B[0m \u001B[38;5;129m@unpack_zerodim_and_defer\u001B[39m(\u001B[38;5;124m\"\u001B[39m\u001B[38;5;124m__rand__\u001B[39m\u001B[38;5;124m\"\u001B[39m)\n\u001B[0;32m     75\u001B[0m \u001B[38;5;28;01mdef\u001B[39;00m \u001B[38;5;21m__rand__\u001B[39m(\u001B[38;5;28mself\u001B[39m, other):\n\u001B[1;32m---> 76\u001B[0m     \u001B[38;5;28;01mreturn\u001B[39;00m \u001B[38;5;28;43mself\u001B[39;49m\u001B[38;5;241;43m.\u001B[39;49m\u001B[43m_logical_method\u001B[49m\u001B[43m(\u001B[49m\u001B[43mother\u001B[49m\u001B[43m,\u001B[49m\u001B[43m \u001B[49m\u001B[43mroperator\u001B[49m\u001B[38;5;241;43m.\u001B[39;49m\u001B[43mrand_\u001B[49m\u001B[43m)\u001B[49m\n",
      "File \u001B[1;32mC:\\ProgramData\\Anaconda3\\envs\\pythonProject_anaconda\\lib\\site-packages\\pandas\\core\\series.py:6254\u001B[0m, in \u001B[0;36mSeries._logical_method\u001B[1;34m(self, other, op)\u001B[0m\n\u001B[0;32m   6251\u001B[0m lvalues \u001B[38;5;241m=\u001B[39m \u001B[38;5;28mself\u001B[39m\u001B[38;5;241m.\u001B[39m_values\n\u001B[0;32m   6252\u001B[0m rvalues \u001B[38;5;241m=\u001B[39m extract_array(other, extract_numpy\u001B[38;5;241m=\u001B[39m\u001B[38;5;28;01mTrue\u001B[39;00m, extract_range\u001B[38;5;241m=\u001B[39m\u001B[38;5;28;01mTrue\u001B[39;00m)\n\u001B[1;32m-> 6254\u001B[0m res_values \u001B[38;5;241m=\u001B[39m \u001B[43mops\u001B[49m\u001B[38;5;241;43m.\u001B[39;49m\u001B[43mlogical_op\u001B[49m\u001B[43m(\u001B[49m\u001B[43mlvalues\u001B[49m\u001B[43m,\u001B[49m\u001B[43m \u001B[49m\u001B[43mrvalues\u001B[49m\u001B[43m,\u001B[49m\u001B[43m \u001B[49m\u001B[43mop\u001B[49m\u001B[43m)\u001B[49m\n\u001B[0;32m   6255\u001B[0m \u001B[38;5;28;01mreturn\u001B[39;00m \u001B[38;5;28mself\u001B[39m\u001B[38;5;241m.\u001B[39m_construct_result(res_values, name\u001B[38;5;241m=\u001B[39mres_name)\n",
      "File \u001B[1;32mC:\\ProgramData\\Anaconda3\\envs\\pythonProject_anaconda\\lib\\site-packages\\pandas\\core\\ops\\array_ops.py:395\u001B[0m, in \u001B[0;36mlogical_op\u001B[1;34m(left, right, op)\u001B[0m\n\u001B[0;32m    391\u001B[0m \u001B[38;5;66;03m# For int vs int `^`, `|`, `&` are bitwise operators and return\u001B[39;00m\n\u001B[0;32m    392\u001B[0m \u001B[38;5;66;03m#   integer dtypes.  Otherwise these are boolean ops\u001B[39;00m\n\u001B[0;32m    393\u001B[0m filler \u001B[38;5;241m=\u001B[39m fill_int \u001B[38;5;28;01mif\u001B[39;00m is_self_int_dtype \u001B[38;5;129;01mand\u001B[39;00m is_other_int_dtype \u001B[38;5;28;01melse\u001B[39;00m fill_bool\n\u001B[1;32m--> 395\u001B[0m res_values \u001B[38;5;241m=\u001B[39m \u001B[43mna_logical_op\u001B[49m\u001B[43m(\u001B[49m\u001B[43mlvalues\u001B[49m\u001B[43m,\u001B[49m\u001B[43m \u001B[49m\u001B[43mrvalues\u001B[49m\u001B[43m,\u001B[49m\u001B[43m \u001B[49m\u001B[43mop\u001B[49m\u001B[43m)\u001B[49m\n\u001B[0;32m    396\u001B[0m \u001B[38;5;66;03m# error: Cannot call function of unknown type\u001B[39;00m\n\u001B[0;32m    397\u001B[0m res_values \u001B[38;5;241m=\u001B[39m filler(res_values)  \u001B[38;5;66;03m# type: ignore[operator]\u001B[39;00m\n",
      "File \u001B[1;32mC:\\ProgramData\\Anaconda3\\envs\\pythonProject_anaconda\\lib\\site-packages\\pandas\\core\\ops\\array_ops.py:328\u001B[0m, in \u001B[0;36mna_logical_op\u001B[1;34m(x, y, op)\u001B[0m\n\u001B[0;32m    320\u001B[0m         \u001B[38;5;28;01mexcept\u001B[39;00m (\n\u001B[0;32m    321\u001B[0m             \u001B[38;5;167;01mTypeError\u001B[39;00m,\n\u001B[0;32m    322\u001B[0m             \u001B[38;5;167;01mValueError\u001B[39;00m,\n\u001B[1;32m   (...)\u001B[0m\n\u001B[0;32m    325\u001B[0m             \u001B[38;5;167;01mNotImplementedError\u001B[39;00m,\n\u001B[0;32m    326\u001B[0m         ) \u001B[38;5;28;01mas\u001B[39;00m err:\n\u001B[0;32m    327\u001B[0m             typ \u001B[38;5;241m=\u001B[39m \u001B[38;5;28mtype\u001B[39m(y)\u001B[38;5;241m.\u001B[39m\u001B[38;5;18m__name__\u001B[39m\n\u001B[1;32m--> 328\u001B[0m             \u001B[38;5;28;01mraise\u001B[39;00m \u001B[38;5;167;01mTypeError\u001B[39;00m(\n\u001B[0;32m    329\u001B[0m                 \u001B[38;5;124mf\u001B[39m\u001B[38;5;124m\"\u001B[39m\u001B[38;5;124mCannot perform \u001B[39m\u001B[38;5;124m'\u001B[39m\u001B[38;5;132;01m{\u001B[39;00mop\u001B[38;5;241m.\u001B[39m\u001B[38;5;18m__name__\u001B[39m\u001B[38;5;132;01m}\u001B[39;00m\u001B[38;5;124m'\u001B[39m\u001B[38;5;124m with a dtyped [\u001B[39m\u001B[38;5;132;01m{\u001B[39;00mx\u001B[38;5;241m.\u001B[39mdtype\u001B[38;5;132;01m}\u001B[39;00m\u001B[38;5;124m] array \u001B[39m\u001B[38;5;124m\"\u001B[39m\n\u001B[0;32m    330\u001B[0m                 \u001B[38;5;124mf\u001B[39m\u001B[38;5;124m\"\u001B[39m\u001B[38;5;124mand scalar of type [\u001B[39m\u001B[38;5;132;01m{\u001B[39;00mtyp\u001B[38;5;132;01m}\u001B[39;00m\u001B[38;5;124m]\u001B[39m\u001B[38;5;124m\"\u001B[39m\n\u001B[0;32m    331\u001B[0m             ) \u001B[38;5;28;01mfrom\u001B[39;00m \u001B[38;5;21;01merr\u001B[39;00m\n\u001B[0;32m    333\u001B[0m \u001B[38;5;28;01mreturn\u001B[39;00m result\u001B[38;5;241m.\u001B[39mreshape(x\u001B[38;5;241m.\u001B[39mshape)\n",
      "\u001B[1;31mTypeError\u001B[0m: Cannot perform 'rand_' with a dtyped [float64] array and scalar of type [bool]"
     ]
    }
   ],
   "source": [
    "esf[(esf.LONG>=115.5 & esf.LONG<=117.5)|(esf.LAT>=39.5&esf.LAT<=41)]"
   ],
   "metadata": {
    "collapsed": false
   }
  },
  {
   "cell_type": "code",
   "execution_count": 7,
   "outputs": [
    {
     "name": "stdout",
     "output_type": "stream",
     "text": [
      "<class 'pandas.core.frame.DataFrame'>\n",
      "RangeIndex: 16795 entries, 0 to 16794\n",
      "Data columns (total 12 columns):\n",
      " #   Column    Non-Null Count  Dtype  \n",
      "---  ------    --------------  -----  \n",
      " 0   CATE      16795 non-null  object \n",
      " 1   bedrooms  16795 non-null  int64  \n",
      " 2   halls     16795 non-null  int64  \n",
      " 3   AREA      16795 non-null  float64\n",
      " 4   floor     16795 non-null  object \n",
      " 5   subway    16795 non-null  int64  \n",
      " 6   school    16795 non-null  int64  \n",
      " 7   price     16795 non-null  int64  \n",
      " 8   LONG      16795 non-null  float64\n",
      " 9   LAT       16795 non-null  float64\n",
      " 10  NAME      16795 non-null  object \n",
      " 11  DISTRICT  16795 non-null  object \n",
      "dtypes: float64(3), int64(5), object(4)\n",
      "memory usage: 1.5+ MB\n"
     ]
    }
   ],
   "source": [
    "esf.info()"
   ],
   "metadata": {
    "collapsed": false
   }
  },
  {
   "cell_type": "code",
   "execution_count": 3,
   "outputs": [
    {
     "data": {
      "text/plain": "       CATE  bedrooms  halls    AREA   floor  subway  school  price  \\\n0  chaoyang         1      0   46.06  middle       1       0  48850   \n1  chaoyang         1      1   59.09  middle       1       0  46540   \n2   haidian         5      2  278.95    high       1       1  71662   \n3   haidian         3      2  207.00    high       1       1  57972   \n4   fengtai         2      1   53.32     low       1       1  71268   \n\n         LONG        LAT     NAME DISTRICT  \n0  116.459653  39.928347  10AM新坐标       方庄  \n1  116.459653  39.928347  10AM新坐标       方庄  \n2  116.303556  39.954807    10号名邸      紫竹桥  \n3  116.303556  39.954807    10号名邸      紫竹桥  \n4  116.418826  39.943813    17号旁门      蒲黄榆  ",
      "text/html": "<div>\n<style scoped>\n    .dataframe tbody tr th:only-of-type {\n        vertical-align: middle;\n    }\n\n    .dataframe tbody tr th {\n        vertical-align: top;\n    }\n\n    .dataframe thead th {\n        text-align: right;\n    }\n</style>\n<table border=\"1\" class=\"dataframe\">\n  <thead>\n    <tr style=\"text-align: right;\">\n      <th></th>\n      <th>CATE</th>\n      <th>bedrooms</th>\n      <th>halls</th>\n      <th>AREA</th>\n      <th>floor</th>\n      <th>subway</th>\n      <th>school</th>\n      <th>price</th>\n      <th>LONG</th>\n      <th>LAT</th>\n      <th>NAME</th>\n      <th>DISTRICT</th>\n    </tr>\n  </thead>\n  <tbody>\n    <tr>\n      <th>0</th>\n      <td>chaoyang</td>\n      <td>1</td>\n      <td>0</td>\n      <td>46.06</td>\n      <td>middle</td>\n      <td>1</td>\n      <td>0</td>\n      <td>48850</td>\n      <td>116.459653</td>\n      <td>39.928347</td>\n      <td>10AM新坐标</td>\n      <td>方庄</td>\n    </tr>\n    <tr>\n      <th>1</th>\n      <td>chaoyang</td>\n      <td>1</td>\n      <td>1</td>\n      <td>59.09</td>\n      <td>middle</td>\n      <td>1</td>\n      <td>0</td>\n      <td>46540</td>\n      <td>116.459653</td>\n      <td>39.928347</td>\n      <td>10AM新坐标</td>\n      <td>方庄</td>\n    </tr>\n    <tr>\n      <th>2</th>\n      <td>haidian</td>\n      <td>5</td>\n      <td>2</td>\n      <td>278.95</td>\n      <td>high</td>\n      <td>1</td>\n      <td>1</td>\n      <td>71662</td>\n      <td>116.303556</td>\n      <td>39.954807</td>\n      <td>10号名邸</td>\n      <td>紫竹桥</td>\n    </tr>\n    <tr>\n      <th>3</th>\n      <td>haidian</td>\n      <td>3</td>\n      <td>2</td>\n      <td>207.00</td>\n      <td>high</td>\n      <td>1</td>\n      <td>1</td>\n      <td>57972</td>\n      <td>116.303556</td>\n      <td>39.954807</td>\n      <td>10号名邸</td>\n      <td>紫竹桥</td>\n    </tr>\n    <tr>\n      <th>4</th>\n      <td>fengtai</td>\n      <td>2</td>\n      <td>1</td>\n      <td>53.32</td>\n      <td>low</td>\n      <td>1</td>\n      <td>1</td>\n      <td>71268</td>\n      <td>116.418826</td>\n      <td>39.943813</td>\n      <td>17号旁门</td>\n      <td>蒲黄榆</td>\n    </tr>\n  </tbody>\n</table>\n</div>"
     },
     "execution_count": 3,
     "metadata": {},
     "output_type": "execute_result"
    }
   ],
   "source": [
    "import numpy as np\n",
    "import pandas as pd\n",
    "esf = pd.read_csv(r\"C:\\Users\\fzh00\\Desktop\\文件\\Python数据清洗基础\\data\\ershoufang.csv\",encoding='gbk')\n",
    "esf.head()"
   ],
   "metadata": {
    "collapsed": false
   }
  },
  {
   "cell_type": "code",
   "execution_count": null,
   "outputs": [],
   "source": [
    "from IPython.core.interactiveshell import InteractiveShell\n",
    "InteractiveShell.ast_node_interactivity = \"all\""
   ],
   "metadata": {
    "collapsed": false
   }
  },
  {
   "cell_type": "code",
   "execution_count": 32,
   "outputs": [
    {
     "data": {
      "text/plain": "  lkey  value\n0  foo      1\n1  bar      2\n2  baz      3\n3  foo      4",
      "text/html": "<div>\n<style scoped>\n    .dataframe tbody tr th:only-of-type {\n        vertical-align: middle;\n    }\n\n    .dataframe tbody tr th {\n        vertical-align: top;\n    }\n\n    .dataframe thead th {\n        text-align: right;\n    }\n</style>\n<table border=\"1\" class=\"dataframe\">\n  <thead>\n    <tr style=\"text-align: right;\">\n      <th></th>\n      <th>lkey</th>\n      <th>value</th>\n    </tr>\n  </thead>\n  <tbody>\n    <tr>\n      <th>0</th>\n      <td>foo</td>\n      <td>1</td>\n    </tr>\n    <tr>\n      <th>1</th>\n      <td>bar</td>\n      <td>2</td>\n    </tr>\n    <tr>\n      <th>2</th>\n      <td>baz</td>\n      <td>3</td>\n    </tr>\n    <tr>\n      <th>3</th>\n      <td>foo</td>\n      <td>4</td>\n    </tr>\n  </tbody>\n</table>\n</div>"
     },
     "execution_count": 32,
     "metadata": {},
     "output_type": "execute_result"
    },
    {
     "data": {
      "text/plain": "  rkey  value\n0  foo      5\n1  bar      6\n2  qux      7\n3  bar      8",
      "text/html": "<div>\n<style scoped>\n    .dataframe tbody tr th:only-of-type {\n        vertical-align: middle;\n    }\n\n    .dataframe tbody tr th {\n        vertical-align: top;\n    }\n\n    .dataframe thead th {\n        text-align: right;\n    }\n</style>\n<table border=\"1\" class=\"dataframe\">\n  <thead>\n    <tr style=\"text-align: right;\">\n      <th></th>\n      <th>rkey</th>\n      <th>value</th>\n    </tr>\n  </thead>\n  <tbody>\n    <tr>\n      <th>0</th>\n      <td>foo</td>\n      <td>5</td>\n    </tr>\n    <tr>\n      <th>1</th>\n      <td>bar</td>\n      <td>6</td>\n    </tr>\n    <tr>\n      <th>2</th>\n      <td>qux</td>\n      <td>7</td>\n    </tr>\n    <tr>\n      <th>3</th>\n      <td>bar</td>\n      <td>8</td>\n    </tr>\n  </tbody>\n</table>\n</div>"
     },
     "execution_count": 32,
     "metadata": {},
     "output_type": "execute_result"
    },
    {
     "data": {
      "text/plain": "  lkey  value_x rkey  value_y\n0  foo        1  foo      5.0\n1  bar        2  bar      6.0\n2  bar        2  bar      8.0\n3  baz        3  NaN      NaN\n4  foo        4  foo      5.0",
      "text/html": "<div>\n<style scoped>\n    .dataframe tbody tr th:only-of-type {\n        vertical-align: middle;\n    }\n\n    .dataframe tbody tr th {\n        vertical-align: top;\n    }\n\n    .dataframe thead th {\n        text-align: right;\n    }\n</style>\n<table border=\"1\" class=\"dataframe\">\n  <thead>\n    <tr style=\"text-align: right;\">\n      <th></th>\n      <th>lkey</th>\n      <th>value_x</th>\n      <th>rkey</th>\n      <th>value_y</th>\n    </tr>\n  </thead>\n  <tbody>\n    <tr>\n      <th>0</th>\n      <td>foo</td>\n      <td>1</td>\n      <td>foo</td>\n      <td>5.0</td>\n    </tr>\n    <tr>\n      <th>1</th>\n      <td>bar</td>\n      <td>2</td>\n      <td>bar</td>\n      <td>6.0</td>\n    </tr>\n    <tr>\n      <th>2</th>\n      <td>bar</td>\n      <td>2</td>\n      <td>bar</td>\n      <td>8.0</td>\n    </tr>\n    <tr>\n      <th>3</th>\n      <td>baz</td>\n      <td>3</td>\n      <td>NaN</td>\n      <td>NaN</td>\n    </tr>\n    <tr>\n      <th>4</th>\n      <td>foo</td>\n      <td>4</td>\n      <td>foo</td>\n      <td>5.0</td>\n    </tr>\n  </tbody>\n</table>\n</div>"
     },
     "execution_count": 32,
     "metadata": {},
     "output_type": "execute_result"
    }
   ],
   "source": [
    "dataDf1=pd.DataFrame({'lkey':['foo','bar','baz','foo'],\n",
    "      'value':[1,2,3,4]})\n",
    "dataDf2=pd.DataFrame({'rkey':['foo','bar','qux','bar'],\n",
    "      'value':[5,6,7,8]})\n",
    "dataDf1\n",
    "dataDf2\n",
    "dataDf1.merge(dataDf2,left_on='lkey',right_on='rkey',how = 'left')"
   ],
   "metadata": {
    "collapsed": false
   }
  },
  {
   "cell_type": "code",
   "execution_count": 13,
   "outputs": [
    {
     "data": {
      "text/plain": "   total_bill   tip sex smoker day    time  size\n0       16.99  1.01   女     No  周日  Dinner     2\n1       10.34  1.66   男     No  周日  Dinner     3\n2       21.01  3.50   男     No  周日  Dinner     3\n3       23.68  3.31   男     No  周日  Dinner     2\n4       24.59  3.61   女     No  周日  Dinner     4",
      "text/html": "<div>\n<style scoped>\n    .dataframe tbody tr th:only-of-type {\n        vertical-align: middle;\n    }\n\n    .dataframe tbody tr th {\n        vertical-align: top;\n    }\n\n    .dataframe thead th {\n        text-align: right;\n    }\n</style>\n<table border=\"1\" class=\"dataframe\">\n  <thead>\n    <tr style=\"text-align: right;\">\n      <th></th>\n      <th>total_bill</th>\n      <th>tip</th>\n      <th>sex</th>\n      <th>smoker</th>\n      <th>day</th>\n      <th>time</th>\n      <th>size</th>\n    </tr>\n  </thead>\n  <tbody>\n    <tr>\n      <th>0</th>\n      <td>16.99</td>\n      <td>1.01</td>\n      <td>女</td>\n      <td>No</td>\n      <td>周日</td>\n      <td>Dinner</td>\n      <td>2</td>\n    </tr>\n    <tr>\n      <th>1</th>\n      <td>10.34</td>\n      <td>1.66</td>\n      <td>男</td>\n      <td>No</td>\n      <td>周日</td>\n      <td>Dinner</td>\n      <td>3</td>\n    </tr>\n    <tr>\n      <th>2</th>\n      <td>21.01</td>\n      <td>3.50</td>\n      <td>男</td>\n      <td>No</td>\n      <td>周日</td>\n      <td>Dinner</td>\n      <td>3</td>\n    </tr>\n    <tr>\n      <th>3</th>\n      <td>23.68</td>\n      <td>3.31</td>\n      <td>男</td>\n      <td>No</td>\n      <td>周日</td>\n      <td>Dinner</td>\n      <td>2</td>\n    </tr>\n    <tr>\n      <th>4</th>\n      <td>24.59</td>\n      <td>3.61</td>\n      <td>女</td>\n      <td>No</td>\n      <td>周日</td>\n      <td>Dinner</td>\n      <td>4</td>\n    </tr>\n  </tbody>\n</table>\n</div>"
     },
     "execution_count": 13,
     "metadata": {},
     "output_type": "execute_result"
    }
   ],
   "source": [
    "import pandas as pd\n",
    "tip = pd.read_csv(r\"C:\\Data\\Jupyter_file\\1、Python数据清洗基础\\data\\tips.csv\")\n",
    "tip.head()"
   ],
   "metadata": {
    "collapsed": false
   }
  },
  {
   "cell_type": "code",
   "execution_count": null,
   "outputs": [],
   "source": [],
   "metadata": {
    "collapsed": false
   }
  },
  {
   "cell_type": "code",
   "execution_count": 9,
   "outputs": [
    {
     "ename": "NameError",
     "evalue": "name 'who' is not defined",
     "output_type": "error",
     "traceback": [
      "\u001B[1;31m---------------------------------------------------------------------------\u001B[0m",
      "\u001B[1;31mNameError\u001B[0m                                 Traceback (most recent call last)",
      "Cell \u001B[1;32mIn[9], line 2\u001B[0m\n\u001B[0;32m      1\u001B[0m t \u001B[38;5;241m=\u001B[39m [i \u001B[38;5;28;01mfor\u001B[39;00m i \u001B[38;5;129;01min\u001B[39;00m \u001B[38;5;28mrange\u001B[39m(\u001B[38;5;241m100\u001B[39m)]\n\u001B[1;32m----> 2\u001B[0m \u001B[43mwho\u001B[49m\n",
      "\u001B[1;31mNameError\u001B[0m: name 'who' is not defined"
     ]
    }
   ],
   "source": [
    "t = [i for i in range(100)]\n",
    "who"
   ],
   "metadata": {
    "collapsed": false
   }
  },
  {
   "cell_type": "code",
   "execution_count": 6,
   "outputs": [
    {
     "name": "stdout",
     "output_type": "stream",
     "text": [
      "DataFrame\t MultiIndex\t pydev_jupyter_vars\t remove_imported_pydev_package\t sys\t \n"
     ]
    }
   ],
   "source": [
    "%who"
   ],
   "metadata": {
    "collapsed": false
   }
  },
  {
   "cell_type": "code",
   "execution_count": null,
   "outputs": [],
   "source": [
    "lipei2.dropna(thresh=6).shape"
   ],
   "metadata": {
    "collapsed": false
   }
  },
  {
   "cell_type": "code",
   "execution_count": 41,
   "outputs": [
    {
     "ename": "NameError",
     "evalue": "name 'df3' is not defined",
     "output_type": "error",
     "traceback": [
      "\u001B[1;31m---------------------------------------------------------------------------\u001B[0m",
      "\u001B[1;31mNameError\u001B[0m                                 Traceback (most recent call last)",
      "Cell \u001B[1;32mIn[41], line 1\u001B[0m\n\u001B[1;32m----> 1\u001B[0m df33 \u001B[38;5;241m=\u001B[39m \u001B[43mdf3\u001B[49m\u001B[38;5;241m.\u001B[39mdropna(subset\u001B[38;5;241m=\u001B[39m[\u001B[38;5;124m'\u001B[39m\u001B[38;5;124m年龄\u001B[39m\u001B[38;5;124m'\u001B[39m,\u001B[38;5;124m'\u001B[39m\u001B[38;5;124m公司名称\u001B[39m\u001B[38;5;124m'\u001B[39m],how\u001B[38;5;241m=\u001B[39m\u001B[38;5;124m'\u001B[39m\u001B[38;5;124mall\u001B[39m\u001B[38;5;124m'\u001B[39m)\n\u001B[0;32m      2\u001B[0m df33\n",
      "\u001B[1;31mNameError\u001B[0m: name 'df3' is not defined"
     ]
    }
   ],
   "source": [
    "df33 = df3.dropna(subset=['年龄','公司名称'],how='all')\n",
    "df33"
   ],
   "metadata": {
    "collapsed": false
   }
  },
  {
   "cell_type": "code",
   "execution_count": null,
   "outputs": [],
   "source": [],
   "metadata": {
    "collapsed": false
   }
  },
  {
   "cell_type": "code",
   "execution_count": 40,
   "outputs": [
    {
     "data": {
      "text/plain": "(253, 7)"
     },
     "execution_count": 40,
     "metadata": {},
     "output_type": "execute_result"
    },
    {
     "data": {
      "text/plain": "(246, 7)"
     },
     "execution_count": 40,
     "metadata": {},
     "output_type": "execute_result"
    }
   ],
   "source": [
    "tip.shape\n",
    "tip2 = tip.dropna()#thresh 设置非空数据数值，如果某行的非空数据小于某个值则删除\n",
    "tip2.shape"
   ],
   "metadata": {
    "collapsed": false
   }
  },
  {
   "cell_type": "code",
   "execution_count": 39,
   "outputs": [
    {
     "data": {
      "text/plain": "   total_bill   tip sex smoker day    time  size\n0       16.99  1.01   女    NaN  周日  Dinner   2.0",
      "text/html": "<div>\n<style scoped>\n    .dataframe tbody tr th:only-of-type {\n        vertical-align: middle;\n    }\n\n    .dataframe tbody tr th {\n        vertical-align: top;\n    }\n\n    .dataframe thead th {\n        text-align: right;\n    }\n</style>\n<table border=\"1\" class=\"dataframe\">\n  <thead>\n    <tr style=\"text-align: right;\">\n      <th></th>\n      <th>total_bill</th>\n      <th>tip</th>\n      <th>sex</th>\n      <th>smoker</th>\n      <th>day</th>\n      <th>time</th>\n      <th>size</th>\n    </tr>\n  </thead>\n  <tbody>\n    <tr>\n      <th>0</th>\n      <td>16.99</td>\n      <td>1.01</td>\n      <td>女</td>\n      <td>NaN</td>\n      <td>周日</td>\n      <td>Dinner</td>\n      <td>2.0</td>\n    </tr>\n  </tbody>\n</table>\n</div>"
     },
     "execution_count": 39,
     "metadata": {},
     "output_type": "execute_result"
    }
   ],
   "source": [
    "tip = pd.read_csv(r\"C:\\Users\\fzh00\\Desktop\\文件\\Python数据清洗基础\\data\\tips_na.csv\")\n",
    "tip.head(1)"
   ],
   "metadata": {
    "collapsed": false
   }
  },
  {
   "cell_type": "code",
   "execution_count": 37,
   "outputs": [
    {
     "data": {
      "text/plain": "0    50\n1    52\n2    44\n3    67\ndtype: int64"
     },
     "execution_count": 37,
     "metadata": {},
     "output_type": "execute_result"
    }
   ],
   "source": [
    "df.sum(axis=1) #按列计算"
   ],
   "metadata": {
    "collapsed": false
   }
  },
  {
   "cell_type": "code",
   "execution_count": 36,
   "outputs": [
    {
     "data": {
      "text/plain": "    A   B   C   D   E\n0   6  12  13   9  10\n1  12   6  16   1  17\n2   2  13   8  14   7\n3  19   6  19  12  11",
      "text/html": "<div>\n<style scoped>\n    .dataframe tbody tr th:only-of-type {\n        vertical-align: middle;\n    }\n\n    .dataframe tbody tr th {\n        vertical-align: top;\n    }\n\n    .dataframe thead th {\n        text-align: right;\n    }\n</style>\n<table border=\"1\" class=\"dataframe\">\n  <thead>\n    <tr style=\"text-align: right;\">\n      <th></th>\n      <th>A</th>\n      <th>B</th>\n      <th>C</th>\n      <th>D</th>\n      <th>E</th>\n    </tr>\n  </thead>\n  <tbody>\n    <tr>\n      <th>0</th>\n      <td>6</td>\n      <td>12</td>\n      <td>13</td>\n      <td>9</td>\n      <td>10</td>\n    </tr>\n    <tr>\n      <th>1</th>\n      <td>12</td>\n      <td>6</td>\n      <td>16</td>\n      <td>1</td>\n      <td>17</td>\n    </tr>\n    <tr>\n      <th>2</th>\n      <td>2</td>\n      <td>13</td>\n      <td>8</td>\n      <td>14</td>\n      <td>7</td>\n    </tr>\n    <tr>\n      <th>3</th>\n      <td>19</td>\n      <td>6</td>\n      <td>19</td>\n      <td>12</td>\n      <td>11</td>\n    </tr>\n  </tbody>\n</table>\n</div>"
     },
     "execution_count": 36,
     "metadata": {},
     "output_type": "execute_result"
    }
   ],
   "source": [
    "import numpy as np\n",
    "np.random.seed(1)\n",
    "df = pd.DataFrame(np.random.randint(1,20,20).reshape(4,5),\n",
    "                 columns=list('ABCDE'))\n",
    "df"
   ],
   "metadata": {
    "collapsed": false
   }
  },
  {
   "cell_type": "code",
   "execution_count": 35,
   "outputs": [
    {
     "data": {
      "text/plain": "'C:\\\\ProgramData\\\\Anaconda3\\\\envs\\\\pythonProject_anaconda\\\\lib\\\\os.py'"
     },
     "execution_count": 35,
     "metadata": {},
     "output_type": "execute_result"
    }
   ],
   "source": [
    "os.__file__"
   ],
   "metadata": {
    "collapsed": false
   }
  },
  {
   "cell_type": "code",
   "execution_count": 34,
   "outputs": [
    {
     "data": {
      "text/plain": "'C:\\\\Users\\\\fzh00\\\\PycharmProjects\\\\pythonProject1'"
     },
     "execution_count": 34,
     "metadata": {},
     "output_type": "execute_result"
    }
   ],
   "source": [
    "pwd"
   ],
   "metadata": {
    "collapsed": false
   }
  },
  {
   "cell_type": "code",
   "execution_count": 33,
   "outputs": [
    {
     "data": {
      "text/plain": "序号                           0.000000\n工单编号                         0.000000\n工单类型                         0.000000\n工单来源                         0.000000\n工单创建人                        0.000000\n工单创建人组别                      0.021924\n当前处理人                        0.000609\n当前处理人组别                      0.000000\n工单创建时间                       0.000000\n工单完结时间                       0.000000\n工单内容                         0.000000\n关联订单号                        1.000000\n业务线                          0.444580\n供应商                          0.442753\n投保来源                         0.517052\n所属分组                         0.562728\n所属规划师                        0.562728\n承保公司                         0.443971\n险种                           0.442753\n产品名称                         0.442753\n出险类型                         0.442753\n保单号                          0.433618\n保单生效时间                       0.442753\n投保人姓名                        0.442753\n报案人姓名                        0.656516\n报案人手机                        0.658952\n报案人微信                        0.998173\n报案时间                         0.660171\n报案号                          0.802680\n出险人姓名                        0.289890\n出险人性别                        0.451279\n出险人年龄                        0.714373\n出险时间                         0.582217\n出险地点                         0.582217\n出险原因                         0.595006\n事故经过                         0.582217\n治疗进度                         0.582217\n就医医院名称                       0.582217\n是否已通过医保报销                    0.582217\n医保报销金额                       0.812424\n事故是否经公安、交警、劳动、卫生部门或其他部门处理    0.839220\n能否提供上述相关证明                   0.841048\n花费金额                         0.858709\n提交资料时间                       0.593788\n提交资料方式                       0.593179\n案件状态                         0.582217\n赔付金额                         0.595006\n结案时间                         0.582217\n理赔时效                         0.593788\n是否超时                         0.000000\n超时原因                         0.988429\n最新一次案件跟进进度                   0.000000\n跟进日志                         0.000000\ndtype: float64"
     },
     "execution_count": 33,
     "metadata": {},
     "output_type": "execute_result"
    }
   ],
   "source": [
    "#计算缺失值比率\n",
    "lipei.isna().mean()"
   ],
   "metadata": {
    "collapsed": false
   }
  },
  {
   "cell_type": "code",
   "execution_count": 32,
   "outputs": [
    {
     "data": {
      "text/plain": "False    915\nTrue     727\nName: 供应商, dtype: int64"
     },
     "execution_count": 32,
     "metadata": {},
     "output_type": "execute_result"
    }
   ],
   "source": [
    "lipei.供应商.isna().value_counts()"
   ],
   "metadata": {
    "collapsed": false
   }
  },
  {
   "cell_type": "code",
   "execution_count": 28,
   "outputs": [
    {
     "data": {
      "text/plain": "pandas.core.series.Series"
     },
     "execution_count": 28,
     "metadata": {},
     "output_type": "execute_result"
    },
    {
     "data": {
      "text/plain": "序号                              0\n工单编号                            0\n工单类型                            0\n工单来源                            0\n工单创建人                           0\n工单创建人组别                        36\n当前处理人                           1\n当前处理人组别                         0\n工单创建时间                          0\n工单完结时间                          0\n工单内容                            0\n关联订单号                        1642\n业务线                           730\n供应商                           727\n投保来源                          849\n所属分组                          924\n所属规划师                         924\n承保公司                          729\n险种                            727\n产品名称                          727\n出险类型                          727\n保单号                           712\n保单生效时间                        727\n投保人姓名                         727\n报案人姓名                        1078\n报案人手机                        1082\n报案人微信                        1639\n报案时间                         1084\n报案号                          1318\n出险人姓名                         476\n出险人性别                         741\n出险人年龄                        1173\n出险时间                          956\n出险地点                          956\n出险原因                          977\n事故经过                          956\n治疗进度                          956\n就医医院名称                        956\n是否已通过医保报销                     956\n医保报销金额                       1334\n事故是否经公安、交警、劳动、卫生部门或其他部门处理    1378\n能否提供上述相关证明                   1381\n花费金额                         1410\n提交资料时间                        975\n提交资料方式                        974\n案件状态                          956\n赔付金额                          977\n结案时间                          956\n理赔时效                          975\n是否超时                            0\n超时原因                         1623\n最新一次案件跟进进度                      0\n跟进日志                            0\ndtype: int64"
     },
     "execution_count": 28,
     "metadata": {},
     "output_type": "execute_result"
    }
   ],
   "source": [
    "#缺失值处理\n",
    "type(lipei.isna().sum())\n",
    "lipei.isna().sum()"
   ],
   "metadata": {
    "collapsed": false
   }
  },
  {
   "cell_type": "code",
   "execution_count": 26,
   "outputs": [
    {
     "data": {
      "text/plain": "           bedrooms         halls          AREA        subway        school  \\\ncount  16795.000000  16795.000000  16795.000000  16795.000000  16795.000000   \nmean       2.187020      1.220542     95.806617      0.828759      0.301042   \nstd        0.884532      0.557470    157.560024      0.376731      0.458725   \nmin        0.000000      0.000000      7.800000      0.000000      0.000000   \n25%        2.000000      1.000000     59.935000      1.000000      0.000000   \n50%        2.000000      1.000000     78.700000      1.000000      0.000000   \n75%        3.000000      2.000000    112.085000      1.000000      1.000000   \nmax        9.000000      9.000000  18779.500000      1.000000      1.000000   \n\n               price          LONG           LAT  \ncount   16795.000000  16795.000000  16795.000000  \nmean    61265.607800    116.378637     39.886839  \nstd     22811.203558      0.254347      0.766734  \nmin      5496.000000    106.028271     22.341579  \n25%     42700.500000    116.326049     39.890630  \n50%     57523.000000    116.383332     39.921088  \n75%     76336.000000    116.438325     39.959553  \nmax    206667.000000    123.863660     41.839533  ",
      "text/html": "<div>\n<style scoped>\n    .dataframe tbody tr th:only-of-type {\n        vertical-align: middle;\n    }\n\n    .dataframe tbody tr th {\n        vertical-align: top;\n    }\n\n    .dataframe thead th {\n        text-align: right;\n    }\n</style>\n<table border=\"1\" class=\"dataframe\">\n  <thead>\n    <tr style=\"text-align: right;\">\n      <th></th>\n      <th>bedrooms</th>\n      <th>halls</th>\n      <th>AREA</th>\n      <th>subway</th>\n      <th>school</th>\n      <th>price</th>\n      <th>LONG</th>\n      <th>LAT</th>\n    </tr>\n  </thead>\n  <tbody>\n    <tr>\n      <th>count</th>\n      <td>16795.000000</td>\n      <td>16795.000000</td>\n      <td>16795.000000</td>\n      <td>16795.000000</td>\n      <td>16795.000000</td>\n      <td>16795.000000</td>\n      <td>16795.000000</td>\n      <td>16795.000000</td>\n    </tr>\n    <tr>\n      <th>mean</th>\n      <td>2.187020</td>\n      <td>1.220542</td>\n      <td>95.806617</td>\n      <td>0.828759</td>\n      <td>0.301042</td>\n      <td>61265.607800</td>\n      <td>116.378637</td>\n      <td>39.886839</td>\n    </tr>\n    <tr>\n      <th>std</th>\n      <td>0.884532</td>\n      <td>0.557470</td>\n      <td>157.560024</td>\n      <td>0.376731</td>\n      <td>0.458725</td>\n      <td>22811.203558</td>\n      <td>0.254347</td>\n      <td>0.766734</td>\n    </tr>\n    <tr>\n      <th>min</th>\n      <td>0.000000</td>\n      <td>0.000000</td>\n      <td>7.800000</td>\n      <td>0.000000</td>\n      <td>0.000000</td>\n      <td>5496.000000</td>\n      <td>106.028271</td>\n      <td>22.341579</td>\n    </tr>\n    <tr>\n      <th>25%</th>\n      <td>2.000000</td>\n      <td>1.000000</td>\n      <td>59.935000</td>\n      <td>1.000000</td>\n      <td>0.000000</td>\n      <td>42700.500000</td>\n      <td>116.326049</td>\n      <td>39.890630</td>\n    </tr>\n    <tr>\n      <th>50%</th>\n      <td>2.000000</td>\n      <td>1.000000</td>\n      <td>78.700000</td>\n      <td>1.000000</td>\n      <td>0.000000</td>\n      <td>57523.000000</td>\n      <td>116.383332</td>\n      <td>39.921088</td>\n    </tr>\n    <tr>\n      <th>75%</th>\n      <td>3.000000</td>\n      <td>2.000000</td>\n      <td>112.085000</td>\n      <td>1.000000</td>\n      <td>1.000000</td>\n      <td>76336.000000</td>\n      <td>116.438325</td>\n      <td>39.959553</td>\n    </tr>\n    <tr>\n      <th>max</th>\n      <td>9.000000</td>\n      <td>9.000000</td>\n      <td>18779.500000</td>\n      <td>1.000000</td>\n      <td>1.000000</td>\n      <td>206667.000000</td>\n      <td>123.863660</td>\n      <td>41.839533</td>\n    </tr>\n  </tbody>\n</table>\n</div>"
     },
     "execution_count": 26,
     "metadata": {},
     "output_type": "execute_result"
    }
   ],
   "source": [
    "esf.describe()"
   ],
   "metadata": {
    "collapsed": false
   }
  },
  {
   "cell_type": "code",
   "execution_count": 25,
   "outputs": [
    {
     "data": {
      "text/plain": "array(['i云保', '凤栖云服', '小雨伞', '齐欣', '易升云服', '小米', '立安保险中介', '360保险', '力码',\n       '乐橙', nan], dtype=object)"
     },
     "execution_count": 25,
     "metadata": {},
     "output_type": "execute_result"
    }
   ],
   "source": [
    "lipei2.供应商.unique()"
   ],
   "metadata": {
    "collapsed": false
   }
  },
  {
   "cell_type": "code",
   "execution_count": 22,
   "outputs": [
    {
     "data": {
      "text/plain": "array(['i云保', '凤栖云服', '小雨伞', '齐欣', '易升云服', '小米', '立安保险中介', '360保险', '力码',\n       '乐橙', nan], dtype=object)"
     },
     "execution_count": 22,
     "metadata": {},
     "output_type": "execute_result"
    },
    {
     "data": {
      "text/plain": "i云保       299\n小雨伞       288\n齐欣        128\n小米        119\n立安保险中介     21\n易升云服       18\n凤栖云服       15\n360保险      14\n力码          9\n乐橙          4\nName: 供应商, dtype: int64"
     },
     "execution_count": 22,
     "metadata": {},
     "output_type": "execute_result"
    }
   ],
   "source": [
    "#获取标签的种类\n",
    "lipei2.供应商.unique()\n",
    "lipei2.供应商.value_counts()"
   ],
   "metadata": {
    "collapsed": false
   }
  },
  {
   "cell_type": "code",
   "execution_count": 20,
   "outputs": [
    {
     "data": {
      "text/plain": "中华联合            121\n平安财险             88\n大地保险             84\n永诚保险             79\n众惠               55\n               ... \n安心保险              1\n国任财险              1\n国华人寿保险股份有限公司      1\n中国人保              1\n京东安联              1\nName: 承保公司, Length: 61, dtype: int64"
     },
     "execution_count": 20,
     "metadata": {},
     "output_type": "execute_result"
    }
   ],
   "source": [
    "#聚合统计分类变量中的数量\n",
    "lipei2.承保公司.value_counts()\n"
   ],
   "metadata": {
    "collapsed": false
   }
  },
  {
   "cell_type": "code",
   "execution_count": 17,
   "outputs": [
    {
     "data": {
      "text/plain": "        工单编号  供应商          承保公司   险种          产品名称   赔付金额  理赔时效\n1180  342131  NaN           NaN  NaN           NaN    NaN   NaN\n558   419533  小雨伞  长安责任保险股份有限公司  意外险  长安大护甲意外险（A款）  374.4  14.0",
      "text/html": "<div>\n<style scoped>\n    .dataframe tbody tr th:only-of-type {\n        vertical-align: middle;\n    }\n\n    .dataframe tbody tr th {\n        vertical-align: top;\n    }\n\n    .dataframe thead th {\n        text-align: right;\n    }\n</style>\n<table border=\"1\" class=\"dataframe\">\n  <thead>\n    <tr style=\"text-align: right;\">\n      <th></th>\n      <th>工单编号</th>\n      <th>供应商</th>\n      <th>承保公司</th>\n      <th>险种</th>\n      <th>产品名称</th>\n      <th>赔付金额</th>\n      <th>理赔时效</th>\n    </tr>\n  </thead>\n  <tbody>\n    <tr>\n      <th>1180</th>\n      <td>342131</td>\n      <td>NaN</td>\n      <td>NaN</td>\n      <td>NaN</td>\n      <td>NaN</td>\n      <td>NaN</td>\n      <td>NaN</td>\n    </tr>\n    <tr>\n      <th>558</th>\n      <td>419533</td>\n      <td>小雨伞</td>\n      <td>长安责任保险股份有限公司</td>\n      <td>意外险</td>\n      <td>长安大护甲意外险（A款）</td>\n      <td>374.4</td>\n      <td>14.0</td>\n    </tr>\n  </tbody>\n</table>\n</div>"
     },
     "execution_count": 17,
     "metadata": {},
     "output_type": "execute_result"
    }
   ],
   "source": [
    "lipei2.sample(2)"
   ],
   "metadata": {
    "collapsed": false
   }
  },
  {
   "cell_type": "code",
   "execution_count": 15,
   "outputs": [
    {
     "name": "stdout",
     "output_type": "stream",
     "text": [
      "<class 'pandas.core.frame.DataFrame'>\n",
      "RangeIndex: 1642 entries, 0 to 1641\n",
      "Data columns (total 53 columns):\n",
      " #   Column                     Non-Null Count  Dtype  \n",
      "---  ------                     --------------  -----  \n",
      " 0   序号                         1642 non-null   int64  \n",
      " 1   工单编号                       1642 non-null   int64  \n",
      " 2   工单类型                       1642 non-null   object \n",
      " 3   工单来源                       1642 non-null   object \n",
      " 4   工单创建人                      1642 non-null   object \n",
      " 5   工单创建人组别                    1606 non-null   object \n",
      " 6   当前处理人                      1641 non-null   object \n",
      " 7   当前处理人组别                    1642 non-null   object \n",
      " 8   工单创建时间                     1642 non-null   object \n",
      " 9   工单完结时间                     1642 non-null   object \n",
      " 10  工单内容                       1642 non-null   object \n",
      " 11  关联订单号                      0 non-null      float64\n",
      " 12  业务线                        912 non-null    object \n",
      " 13  供应商                        915 non-null    object \n",
      " 14  投保来源                       793 non-null    object \n",
      " 15  所属分组                       718 non-null    object \n",
      " 16  所属规划师                      718 non-null    object \n",
      " 17  承保公司                       913 non-null    object \n",
      " 18  险种                         915 non-null    object \n",
      " 19  产品名称                       915 non-null    object \n",
      " 20  出险类型                       915 non-null    object \n",
      " 21  保单号                        930 non-null    object \n",
      " 22  保单生效时间                     915 non-null    object \n",
      " 23  投保人姓名                      915 non-null    object \n",
      " 24  报案人姓名                      564 non-null    object \n",
      " 25  报案人手机                      560 non-null    object \n",
      " 26  报案人微信                      3 non-null      object \n",
      " 27  报案时间                       558 non-null    object \n",
      " 28  报案号                        324 non-null    object \n",
      " 29  出险人姓名                      1166 non-null   object \n",
      " 30  出险人性别                      901 non-null    object \n",
      " 31  出险人年龄                      469 non-null    float64\n",
      " 32  出险时间                       686 non-null    object \n",
      " 33  出险地点                       686 non-null    object \n",
      " 34  出险原因                       665 non-null    object \n",
      " 35  事故经过                       686 non-null    object \n",
      " 36  治疗进度                       686 non-null    object \n",
      " 37  就医医院名称                     686 non-null    object \n",
      " 38  是否已通过医保报销                  686 non-null    object \n",
      " 39  医保报销金额                     308 non-null    object \n",
      " 40  事故是否经公安、交警、劳动、卫生部门或其他部门处理  264 non-null    object \n",
      " 41  能否提供上述相关证明                 261 non-null    object \n",
      " 42  花费金额                       232 non-null    float64\n",
      " 43  提交资料时间                     667 non-null    object \n",
      " 44  提交资料方式                     668 non-null    object \n",
      " 45  案件状态                       686 non-null    object \n",
      " 46  赔付金额                       665 non-null    object \n",
      " 47  结案时间                       686 non-null    object \n",
      " 48  理赔时效                       667 non-null    float64\n",
      " 49  是否超时                       1642 non-null   object \n",
      " 50  超时原因                       19 non-null     object \n",
      " 51  最新一次案件跟进进度                 1642 non-null   object \n",
      " 52  跟进日志                       1642 non-null   object \n",
      "dtypes: float64(4), int64(2), object(47)\n",
      "memory usage: 680.0+ KB\n"
     ]
    }
   ],
   "source": [
    "lipei.info()"
   ],
   "metadata": {
    "collapsed": false
   }
  },
  {
   "cell_type": "code",
   "execution_count": 14,
   "outputs": [
    {
     "data": {
      "text/plain": "       CATE  bedrooms  halls   AREA   floor  subway  school  price  \\\n0  chaoyang         1      0  46.06  middle       1       0  48850   \n\n         LONG        LAT     NAME DISTRICT  \n0  116.459653  39.928347  10AM新坐标       方庄  ",
      "text/html": "<div>\n<style scoped>\n    .dataframe tbody tr th:only-of-type {\n        vertical-align: middle;\n    }\n\n    .dataframe tbody tr th {\n        vertical-align: top;\n    }\n\n    .dataframe thead th {\n        text-align: right;\n    }\n</style>\n<table border=\"1\" class=\"dataframe\">\n  <thead>\n    <tr style=\"text-align: right;\">\n      <th></th>\n      <th>CATE</th>\n      <th>bedrooms</th>\n      <th>halls</th>\n      <th>AREA</th>\n      <th>floor</th>\n      <th>subway</th>\n      <th>school</th>\n      <th>price</th>\n      <th>LONG</th>\n      <th>LAT</th>\n      <th>NAME</th>\n      <th>DISTRICT</th>\n    </tr>\n  </thead>\n  <tbody>\n    <tr>\n      <th>0</th>\n      <td>chaoyang</td>\n      <td>1</td>\n      <td>0</td>\n      <td>46.06</td>\n      <td>middle</td>\n      <td>1</td>\n      <td>0</td>\n      <td>48850</td>\n      <td>116.459653</td>\n      <td>39.928347</td>\n      <td>10AM新坐标</td>\n      <td>方庄</td>\n    </tr>\n  </tbody>\n</table>\n</div>"
     },
     "execution_count": 14,
     "metadata": {},
     "output_type": "execute_result"
    },
    {
     "data": {
      "text/plain": "           CATE  bedrooms  halls   AREA   floor  subway  school  price  \\\n16793  chaoyang         1      1  42.89    high       1       0  52693   \n16794   fengtai         2      1  89.90  middle       1       0  46719   \n\n             LONG        LAT   NAME DISTRICT  \n16793  116.453057  39.961273  左家庄东里       国展  \n16794  116.459653  39.928347    左右坊      马家堡  ",
      "text/html": "<div>\n<style scoped>\n    .dataframe tbody tr th:only-of-type {\n        vertical-align: middle;\n    }\n\n    .dataframe tbody tr th {\n        vertical-align: top;\n    }\n\n    .dataframe thead th {\n        text-align: right;\n    }\n</style>\n<table border=\"1\" class=\"dataframe\">\n  <thead>\n    <tr style=\"text-align: right;\">\n      <th></th>\n      <th>CATE</th>\n      <th>bedrooms</th>\n      <th>halls</th>\n      <th>AREA</th>\n      <th>floor</th>\n      <th>subway</th>\n      <th>school</th>\n      <th>price</th>\n      <th>LONG</th>\n      <th>LAT</th>\n      <th>NAME</th>\n      <th>DISTRICT</th>\n    </tr>\n  </thead>\n  <tbody>\n    <tr>\n      <th>16793</th>\n      <td>chaoyang</td>\n      <td>1</td>\n      <td>1</td>\n      <td>42.89</td>\n      <td>high</td>\n      <td>1</td>\n      <td>0</td>\n      <td>52693</td>\n      <td>116.453057</td>\n      <td>39.961273</td>\n      <td>左家庄东里</td>\n      <td>国展</td>\n    </tr>\n    <tr>\n      <th>16794</th>\n      <td>fengtai</td>\n      <td>2</td>\n      <td>1</td>\n      <td>89.90</td>\n      <td>middle</td>\n      <td>1</td>\n      <td>0</td>\n      <td>46719</td>\n      <td>116.459653</td>\n      <td>39.928347</td>\n      <td>左右坊</td>\n      <td>马家堡</td>\n    </tr>\n  </tbody>\n</table>\n</div>"
     },
     "execution_count": 14,
     "metadata": {},
     "output_type": "execute_result"
    },
    {
     "data": {
      "text/plain": "     工单编号  供应商  承保公司   险种          产品名称 赔付金额  理赔时效\n0  345292  i云保  中华联合  医疗险  中华小当家少儿门急诊保险  NaN   NaN",
      "text/html": "<div>\n<style scoped>\n    .dataframe tbody tr th:only-of-type {\n        vertical-align: middle;\n    }\n\n    .dataframe tbody tr th {\n        vertical-align: top;\n    }\n\n    .dataframe thead th {\n        text-align: right;\n    }\n</style>\n<table border=\"1\" class=\"dataframe\">\n  <thead>\n    <tr style=\"text-align: right;\">\n      <th></th>\n      <th>工单编号</th>\n      <th>供应商</th>\n      <th>承保公司</th>\n      <th>险种</th>\n      <th>产品名称</th>\n      <th>赔付金额</th>\n      <th>理赔时效</th>\n    </tr>\n  </thead>\n  <tbody>\n    <tr>\n      <th>0</th>\n      <td>345292</td>\n      <td>i云保</td>\n      <td>中华联合</td>\n      <td>医疗险</td>\n      <td>中华小当家少儿门急诊保险</td>\n      <td>NaN</td>\n      <td>NaN</td>\n    </tr>\n  </tbody>\n</table>\n</div>"
     },
     "execution_count": 14,
     "metadata": {},
     "output_type": "execute_result"
    }
   ],
   "source": [
    "esf.head(1)\n",
    "esf.tail(2)\n",
    "lipei2.head(1)\n"
   ],
   "metadata": {
    "collapsed": false
   }
  },
  {
   "cell_type": "code",
   "execution_count": 11,
   "outputs": [
    {
     "data": {
      "text/plain": "(16795, 12)"
     },
     "execution_count": 11,
     "metadata": {},
     "output_type": "execute_result"
    },
    {
     "data": {
      "text/plain": "       CATE  bedrooms  halls    AREA   floor  subway  school  price  \\\n0  chaoyang         1      0   46.06  middle       1       0  48850   \n1  chaoyang         1      1   59.09  middle       1       0  46540   \n2   haidian         5      2  278.95    high       1       1  71662   \n3   haidian         3      2  207.00    high       1       1  57972   \n4   fengtai         2      1   53.32     low       1       1  71268   \n\n         LONG        LAT     NAME DISTRICT  \n0  116.459653  39.928347  10AM新坐标       方庄  \n1  116.459653  39.928347  10AM新坐标       方庄  \n2  116.303556  39.954807    10号名邸      紫竹桥  \n3  116.303556  39.954807    10号名邸      紫竹桥  \n4  116.418826  39.943813    17号旁门      蒲黄榆  ",
      "text/html": "<div>\n<style scoped>\n    .dataframe tbody tr th:only-of-type {\n        vertical-align: middle;\n    }\n\n    .dataframe tbody tr th {\n        vertical-align: top;\n    }\n\n    .dataframe thead th {\n        text-align: right;\n    }\n</style>\n<table border=\"1\" class=\"dataframe\">\n  <thead>\n    <tr style=\"text-align: right;\">\n      <th></th>\n      <th>CATE</th>\n      <th>bedrooms</th>\n      <th>halls</th>\n      <th>AREA</th>\n      <th>floor</th>\n      <th>subway</th>\n      <th>school</th>\n      <th>price</th>\n      <th>LONG</th>\n      <th>LAT</th>\n      <th>NAME</th>\n      <th>DISTRICT</th>\n    </tr>\n  </thead>\n  <tbody>\n    <tr>\n      <th>0</th>\n      <td>chaoyang</td>\n      <td>1</td>\n      <td>0</td>\n      <td>46.06</td>\n      <td>middle</td>\n      <td>1</td>\n      <td>0</td>\n      <td>48850</td>\n      <td>116.459653</td>\n      <td>39.928347</td>\n      <td>10AM新坐标</td>\n      <td>方庄</td>\n    </tr>\n    <tr>\n      <th>1</th>\n      <td>chaoyang</td>\n      <td>1</td>\n      <td>1</td>\n      <td>59.09</td>\n      <td>middle</td>\n      <td>1</td>\n      <td>0</td>\n      <td>46540</td>\n      <td>116.459653</td>\n      <td>39.928347</td>\n      <td>10AM新坐标</td>\n      <td>方庄</td>\n    </tr>\n    <tr>\n      <th>2</th>\n      <td>haidian</td>\n      <td>5</td>\n      <td>2</td>\n      <td>278.95</td>\n      <td>high</td>\n      <td>1</td>\n      <td>1</td>\n      <td>71662</td>\n      <td>116.303556</td>\n      <td>39.954807</td>\n      <td>10号名邸</td>\n      <td>紫竹桥</td>\n    </tr>\n    <tr>\n      <th>3</th>\n      <td>haidian</td>\n      <td>3</td>\n      <td>2</td>\n      <td>207.00</td>\n      <td>high</td>\n      <td>1</td>\n      <td>1</td>\n      <td>57972</td>\n      <td>116.303556</td>\n      <td>39.954807</td>\n      <td>10号名邸</td>\n      <td>紫竹桥</td>\n    </tr>\n    <tr>\n      <th>4</th>\n      <td>fengtai</td>\n      <td>2</td>\n      <td>1</td>\n      <td>53.32</td>\n      <td>low</td>\n      <td>1</td>\n      <td>1</td>\n      <td>71268</td>\n      <td>116.418826</td>\n      <td>39.943813</td>\n      <td>17号旁门</td>\n      <td>蒲黄榆</td>\n    </tr>\n  </tbody>\n</table>\n</div>"
     },
     "execution_count": 11,
     "metadata": {},
     "output_type": "execute_result"
    }
   ],
   "source": [
    "#读取二手房数据\n",
    "esf = pd.read_csv(r\"C:\\Users\\fzh00\\Desktop\\文件\\1、Python数据清洗基础\\data\\ershoufang.csv\",\n",
    "                 encoding='ANSI')\n",
    "esf.shape\n",
    "esf.head()"
   ],
   "metadata": {
    "collapsed": false
   }
  },
  {
   "cell_type": "code",
   "execution_count": 10,
   "outputs": [
    {
     "data": {
      "text/plain": "     工单编号   供应商          承保公司   险种  赔付金额  理赔时效\n0  345292   i云保          中华联合  医疗险   NaN   NaN\n1  345448  凤栖云服          横琴人寿  重疾险   NaN   NaN\n2  345449   i云保         太平洋保险  意外险  1000   7.0\n3  345522   小雨伞  长安责任保险股份有限公司  意外险   NaN   NaN\n4  346702   i云保          中华联合  医疗险   NaN   NaN",
      "text/html": "<div>\n<style scoped>\n    .dataframe tbody tr th:only-of-type {\n        vertical-align: middle;\n    }\n\n    .dataframe tbody tr th {\n        vertical-align: top;\n    }\n\n    .dataframe thead th {\n        text-align: right;\n    }\n</style>\n<table border=\"1\" class=\"dataframe\">\n  <thead>\n    <tr style=\"text-align: right;\">\n      <th></th>\n      <th>工单编号</th>\n      <th>供应商</th>\n      <th>承保公司</th>\n      <th>险种</th>\n      <th>赔付金额</th>\n      <th>理赔时效</th>\n    </tr>\n  </thead>\n  <tbody>\n    <tr>\n      <th>0</th>\n      <td>345292</td>\n      <td>i云保</td>\n      <td>中华联合</td>\n      <td>医疗险</td>\n      <td>NaN</td>\n      <td>NaN</td>\n    </tr>\n    <tr>\n      <th>1</th>\n      <td>345448</td>\n      <td>凤栖云服</td>\n      <td>横琴人寿</td>\n      <td>重疾险</td>\n      <td>NaN</td>\n      <td>NaN</td>\n    </tr>\n    <tr>\n      <th>2</th>\n      <td>345449</td>\n      <td>i云保</td>\n      <td>太平洋保险</td>\n      <td>意外险</td>\n      <td>1000</td>\n      <td>7.0</td>\n    </tr>\n    <tr>\n      <th>3</th>\n      <td>345522</td>\n      <td>小雨伞</td>\n      <td>长安责任保险股份有限公司</td>\n      <td>意外险</td>\n      <td>NaN</td>\n      <td>NaN</td>\n    </tr>\n    <tr>\n      <th>4</th>\n      <td>346702</td>\n      <td>i云保</td>\n      <td>中华联合</td>\n      <td>医疗险</td>\n      <td>NaN</td>\n      <td>NaN</td>\n    </tr>\n  </tbody>\n</table>\n</div>"
     },
     "execution_count": 10,
     "metadata": {},
     "output_type": "execute_result"
    }
   ],
   "source": [
    "lipei11 = pd.read_excel(r\"C:\\Users\\fzh00\\Desktop\\文件\\1、Python数据清洗基础\\理赔清单2.xlsx\",usecols=['工单编号','供应商','承保公司','险种','赔付金额','理赔时效'])\n",
    "lipei11.head()"
   ],
   "metadata": {
    "collapsed": false
   }
  },
  {
   "cell_type": "code",
   "execution_count": 6,
   "outputs": [
    {
     "data": {
      "text/plain": "     工单编号   供应商          承保公司   险种              产品名称  赔付金额  理赔时效\n0  345292   i云保          中华联合  医疗险      中华小当家少儿门急诊保险   NaN   NaN\n1  345448  凤栖云服          横琴人寿  重疾险  横琴无忧人生2020重大疾病保险   NaN   NaN\n2  345449   i云保         太平洋保险  意外险       太平洋“任我学”学平险  1000   7.0\n3  345522   小雨伞  长安责任保险股份有限公司  意外险      长安大护甲意外险（A款）   NaN   NaN\n4  346702   i云保          中华联合  医疗险      中华小当家少儿门急诊保险   NaN   NaN",
      "text/html": "<div>\n<style scoped>\n    .dataframe tbody tr th:only-of-type {\n        vertical-align: middle;\n    }\n\n    .dataframe tbody tr th {\n        vertical-align: top;\n    }\n\n    .dataframe thead th {\n        text-align: right;\n    }\n</style>\n<table border=\"1\" class=\"dataframe\">\n  <thead>\n    <tr style=\"text-align: right;\">\n      <th></th>\n      <th>工单编号</th>\n      <th>供应商</th>\n      <th>承保公司</th>\n      <th>险种</th>\n      <th>产品名称</th>\n      <th>赔付金额</th>\n      <th>理赔时效</th>\n    </tr>\n  </thead>\n  <tbody>\n    <tr>\n      <th>0</th>\n      <td>345292</td>\n      <td>i云保</td>\n      <td>中华联合</td>\n      <td>医疗险</td>\n      <td>中华小当家少儿门急诊保险</td>\n      <td>NaN</td>\n      <td>NaN</td>\n    </tr>\n    <tr>\n      <th>1</th>\n      <td>345448</td>\n      <td>凤栖云服</td>\n      <td>横琴人寿</td>\n      <td>重疾险</td>\n      <td>横琴无忧人生2020重大疾病保险</td>\n      <td>NaN</td>\n      <td>NaN</td>\n    </tr>\n    <tr>\n      <th>2</th>\n      <td>345449</td>\n      <td>i云保</td>\n      <td>太平洋保险</td>\n      <td>意外险</td>\n      <td>太平洋“任我学”学平险</td>\n      <td>1000</td>\n      <td>7.0</td>\n    </tr>\n    <tr>\n      <th>3</th>\n      <td>345522</td>\n      <td>小雨伞</td>\n      <td>长安责任保险股份有限公司</td>\n      <td>意外险</td>\n      <td>长安大护甲意外险（A款）</td>\n      <td>NaN</td>\n      <td>NaN</td>\n    </tr>\n    <tr>\n      <th>4</th>\n      <td>346702</td>\n      <td>i云保</td>\n      <td>中华联合</td>\n      <td>医疗险</td>\n      <td>中华小当家少儿门急诊保险</td>\n      <td>NaN</td>\n      <td>NaN</td>\n    </tr>\n  </tbody>\n</table>\n</div>"
     },
     "execution_count": 6,
     "metadata": {},
     "output_type": "execute_result"
    }
   ],
   "source": [
    "lipei2 = lipei[['工单编号','供应商','承保公司','险种','产品名称','赔付金额','理赔时效']]\n",
    "lipei2.head()"
   ],
   "metadata": {
    "collapsed": false
   }
  },
  {
   "cell_type": "code",
   "execution_count": 5,
   "outputs": [
    {
     "data": {
      "text/plain": "   序号    工单编号  工单类型  工单来源 工单创建人 工单创建人组别 当前处理人 当前处理人组别               工单创建时间  \\\n0   1  345292  协助理赔  手动创建    肖楠   业务支持组    肖楠   业务支持组  2021-06-27 11:00:11   \n1   2  345448  协助理赔  手动创建    肖楠   业务支持组   黎露明     理赔组  2021-06-27 15:06:50   \n2   3  345449  协助理赔  手动创建    肖楠   业务支持组   梁广裕   业务支持组  2021-06-27 15:10:16   \n3   4  345522  协助理赔  手动创建   黄嘉丽   客户运营组   王晓倩   业务支持组  2021-06-27 16:22:16   \n4   5  346702  协助理赔  手动创建   韩玲玲   客户关系组   王晓倩   业务支持组  2021-06-28 14:25:23   \n\n                工单完结时间  ...      提交资料时间           提交资料方式 案件状态  赔付金额  \\\n0  2021-06-27 11:01:05  ...         NaN              NaN  NaN   NaN   \n1  2021-07-09 11:41:29  ...         NaN              NaN  NaN   NaN   \n2  2021-10-25 20:29:03  ...  2021-06-28  在线上传（微信公众号自助上传）  已赔付  1000   \n3  2021-07-09 18:14:29  ...         NaN              NaN  NaN   NaN   \n4  2021-07-05 17:58:31  ...         NaN              NaN  NaN   NaN   \n\n                  结案时间 理赔时效 是否超时 超时原因  \\\n0                  NaN  NaN   --  NaN   \n1                  NaN  NaN   --  NaN   \n2  2021-07-05 08:00:00  7.0    否  NaN   \n3                  NaN  NaN   --  NaN   \n4                  NaN  NaN   --  NaN   \n\n                                          最新一次案件跟进进度  \\\n0                             2021-06-25结案，金额:192.48   \n1  根据客户提供的出院记录资料，诊断为：1、致密性骨炎；2、骶骼关节炎，没有达到重疾险的申请标准...   \n2    我们只是帮客户处理了上传资料的问题，具体的案件情况不清楚，赔付的时间和金额客户只告知了大致情况   \n3                                   客户觉得没什么问题，不需要理赔了   \n4                        理赔计算书已上传附件，已经跟客户解释，本次理赔并无差错   \n\n                                                跟进日志  \n0  [{\"code\":\"follow_log\",\"content\":\"报案号：192021321...  \n1  [{\"code\":\"follow_log\",\"content\":\"横琴人寿——无忧人生202...  \n2  [{\"code\":\"follow_log\",\"content\":\"客户自己联系保司报案，通过...  \n3  [{\"code\":\"follow_log\",\"content\":\"工单类型为协助理赔，发起流...  \n4  [{\"code\":\"follow_log\",\"content\":\"工单类型为协助理赔，发起流...  \n\n[5 rows x 53 columns]",
      "text/html": "<div>\n<style scoped>\n    .dataframe tbody tr th:only-of-type {\n        vertical-align: middle;\n    }\n\n    .dataframe tbody tr th {\n        vertical-align: top;\n    }\n\n    .dataframe thead th {\n        text-align: right;\n    }\n</style>\n<table border=\"1\" class=\"dataframe\">\n  <thead>\n    <tr style=\"text-align: right;\">\n      <th></th>\n      <th>序号</th>\n      <th>工单编号</th>\n      <th>工单类型</th>\n      <th>工单来源</th>\n      <th>工单创建人</th>\n      <th>工单创建人组别</th>\n      <th>当前处理人</th>\n      <th>当前处理人组别</th>\n      <th>工单创建时间</th>\n      <th>工单完结时间</th>\n      <th>...</th>\n      <th>提交资料时间</th>\n      <th>提交资料方式</th>\n      <th>案件状态</th>\n      <th>赔付金额</th>\n      <th>结案时间</th>\n      <th>理赔时效</th>\n      <th>是否超时</th>\n      <th>超时原因</th>\n      <th>最新一次案件跟进进度</th>\n      <th>跟进日志</th>\n    </tr>\n  </thead>\n  <tbody>\n    <tr>\n      <th>0</th>\n      <td>1</td>\n      <td>345292</td>\n      <td>协助理赔</td>\n      <td>手动创建</td>\n      <td>肖楠</td>\n      <td>业务支持组</td>\n      <td>肖楠</td>\n      <td>业务支持组</td>\n      <td>2021-06-27 11:00:11</td>\n      <td>2021-06-27 11:01:05</td>\n      <td>...</td>\n      <td>NaN</td>\n      <td>NaN</td>\n      <td>NaN</td>\n      <td>NaN</td>\n      <td>NaN</td>\n      <td>NaN</td>\n      <td>--</td>\n      <td>NaN</td>\n      <td>2021-06-25结案，金额:192.48</td>\n      <td>[{\"code\":\"follow_log\",\"content\":\"报案号：192021321...</td>\n    </tr>\n    <tr>\n      <th>1</th>\n      <td>2</td>\n      <td>345448</td>\n      <td>协助理赔</td>\n      <td>手动创建</td>\n      <td>肖楠</td>\n      <td>业务支持组</td>\n      <td>黎露明</td>\n      <td>理赔组</td>\n      <td>2021-06-27 15:06:50</td>\n      <td>2021-07-09 11:41:29</td>\n      <td>...</td>\n      <td>NaN</td>\n      <td>NaN</td>\n      <td>NaN</td>\n      <td>NaN</td>\n      <td>NaN</td>\n      <td>NaN</td>\n      <td>--</td>\n      <td>NaN</td>\n      <td>根据客户提供的出院记录资料，诊断为：1、致密性骨炎；2、骶骼关节炎，没有达到重疾险的申请标准...</td>\n      <td>[{\"code\":\"follow_log\",\"content\":\"横琴人寿——无忧人生202...</td>\n    </tr>\n    <tr>\n      <th>2</th>\n      <td>3</td>\n      <td>345449</td>\n      <td>协助理赔</td>\n      <td>手动创建</td>\n      <td>肖楠</td>\n      <td>业务支持组</td>\n      <td>梁广裕</td>\n      <td>业务支持组</td>\n      <td>2021-06-27 15:10:16</td>\n      <td>2021-10-25 20:29:03</td>\n      <td>...</td>\n      <td>2021-06-28</td>\n      <td>在线上传（微信公众号自助上传）</td>\n      <td>已赔付</td>\n      <td>1000</td>\n      <td>2021-07-05 08:00:00</td>\n      <td>7.0</td>\n      <td>否</td>\n      <td>NaN</td>\n      <td>我们只是帮客户处理了上传资料的问题，具体的案件情况不清楚，赔付的时间和金额客户只告知了大致情况</td>\n      <td>[{\"code\":\"follow_log\",\"content\":\"客户自己联系保司报案，通过...</td>\n    </tr>\n    <tr>\n      <th>3</th>\n      <td>4</td>\n      <td>345522</td>\n      <td>协助理赔</td>\n      <td>手动创建</td>\n      <td>黄嘉丽</td>\n      <td>客户运营组</td>\n      <td>王晓倩</td>\n      <td>业务支持组</td>\n      <td>2021-06-27 16:22:16</td>\n      <td>2021-07-09 18:14:29</td>\n      <td>...</td>\n      <td>NaN</td>\n      <td>NaN</td>\n      <td>NaN</td>\n      <td>NaN</td>\n      <td>NaN</td>\n      <td>NaN</td>\n      <td>--</td>\n      <td>NaN</td>\n      <td>客户觉得没什么问题，不需要理赔了</td>\n      <td>[{\"code\":\"follow_log\",\"content\":\"工单类型为协助理赔，发起流...</td>\n    </tr>\n    <tr>\n      <th>4</th>\n      <td>5</td>\n      <td>346702</td>\n      <td>协助理赔</td>\n      <td>手动创建</td>\n      <td>韩玲玲</td>\n      <td>客户关系组</td>\n      <td>王晓倩</td>\n      <td>业务支持组</td>\n      <td>2021-06-28 14:25:23</td>\n      <td>2021-07-05 17:58:31</td>\n      <td>...</td>\n      <td>NaN</td>\n      <td>NaN</td>\n      <td>NaN</td>\n      <td>NaN</td>\n      <td>NaN</td>\n      <td>NaN</td>\n      <td>--</td>\n      <td>NaN</td>\n      <td>理赔计算书已上传附件，已经跟客户解释，本次理赔并无差错</td>\n      <td>[{\"code\":\"follow_log\",\"content\":\"工单类型为协助理赔，发起流...</td>\n    </tr>\n  </tbody>\n</table>\n<p>5 rows × 53 columns</p>\n</div>"
     },
     "execution_count": 5,
     "metadata": {},
     "output_type": "execute_result"
    }
   ],
   "source": [
    "lipei = pd.read_excel(r\"C:\\Users\\fzh00\\Desktop\\文件\\1、Python数据清洗基础\\理赔工单.xlsx\",0)\n",
    "lipei.head()"
   ],
   "metadata": {
    "collapsed": false
   }
  },
  {
   "cell_type": "code",
   "execution_count": 3,
   "outputs": [
    {
     "data": {
      "text/plain": "'C:\\\\Users\\\\fzh00\\\\PycharmProjects\\\\pythonProject1'"
     },
     "execution_count": 3,
     "metadata": {},
     "output_type": "execute_result"
    }
   ],
   "source": [
    "pwd"
   ],
   "metadata": {
    "collapsed": false
   }
  },
  {
   "cell_type": "code",
   "execution_count": 4,
   "outputs": [
    {
     "data": {
      "text/plain": "'C:\\\\ProgramData\\\\Anaconda3\\\\envs\\\\pythonProject_anaconda\\\\lib\\\\os.py'"
     },
     "execution_count": 4,
     "metadata": {},
     "output_type": "execute_result"
    }
   ],
   "source": [
    "import os\n",
    "os.__file__"
   ],
   "metadata": {
    "collapsed": false
   }
  },
  {
   "cell_type": "code",
   "execution_count": 57,
   "outputs": [
    {
     "data": {
      "text/plain": "       CATE  bedrooms  halls    AREA   floor  subway  school  price  \\\n0  chaoyang         1      0   46.06  middle       1       0  48850   \n1  chaoyang         1      1   59.09  middle       1       0  46540   \n2   haidian         5      2  278.95    high       1       1  71662   \n3   haidian         3      2  207.00    high       1       1  57972   \n4   fengtai         2      1   53.32     low       1       1  71268   \n\n         LONG        LAT     NAME DISTRICT  \n0  116.459653  39.928347  10AM新坐标       方庄  \n1  116.459653  39.928347  10AM新坐标       方庄  \n2  116.303556  39.954807    10号名邸      紫竹桥  \n3  116.303556  39.954807    10号名邸      紫竹桥  \n4  116.418826  39.943813    17号旁门      蒲黄榆  ",
      "text/html": "<div>\n<style scoped>\n    .dataframe tbody tr th:only-of-type {\n        vertical-align: middle;\n    }\n\n    .dataframe tbody tr th {\n        vertical-align: top;\n    }\n\n    .dataframe thead th {\n        text-align: right;\n    }\n</style>\n<table border=\"1\" class=\"dataframe\">\n  <thead>\n    <tr style=\"text-align: right;\">\n      <th></th>\n      <th>CATE</th>\n      <th>bedrooms</th>\n      <th>halls</th>\n      <th>AREA</th>\n      <th>floor</th>\n      <th>subway</th>\n      <th>school</th>\n      <th>price</th>\n      <th>LONG</th>\n      <th>LAT</th>\n      <th>NAME</th>\n      <th>DISTRICT</th>\n    </tr>\n  </thead>\n  <tbody>\n    <tr>\n      <th>0</th>\n      <td>chaoyang</td>\n      <td>1</td>\n      <td>0</td>\n      <td>46.06</td>\n      <td>middle</td>\n      <td>1</td>\n      <td>0</td>\n      <td>48850</td>\n      <td>116.459653</td>\n      <td>39.928347</td>\n      <td>10AM新坐标</td>\n      <td>方庄</td>\n    </tr>\n    <tr>\n      <th>1</th>\n      <td>chaoyang</td>\n      <td>1</td>\n      <td>1</td>\n      <td>59.09</td>\n      <td>middle</td>\n      <td>1</td>\n      <td>0</td>\n      <td>46540</td>\n      <td>116.459653</td>\n      <td>39.928347</td>\n      <td>10AM新坐标</td>\n      <td>方庄</td>\n    </tr>\n    <tr>\n      <th>2</th>\n      <td>haidian</td>\n      <td>5</td>\n      <td>2</td>\n      <td>278.95</td>\n      <td>high</td>\n      <td>1</td>\n      <td>1</td>\n      <td>71662</td>\n      <td>116.303556</td>\n      <td>39.954807</td>\n      <td>10号名邸</td>\n      <td>紫竹桥</td>\n    </tr>\n    <tr>\n      <th>3</th>\n      <td>haidian</td>\n      <td>3</td>\n      <td>2</td>\n      <td>207.00</td>\n      <td>high</td>\n      <td>1</td>\n      <td>1</td>\n      <td>57972</td>\n      <td>116.303556</td>\n      <td>39.954807</td>\n      <td>10号名邸</td>\n      <td>紫竹桥</td>\n    </tr>\n    <tr>\n      <th>4</th>\n      <td>fengtai</td>\n      <td>2</td>\n      <td>1</td>\n      <td>53.32</td>\n      <td>low</td>\n      <td>1</td>\n      <td>1</td>\n      <td>71268</td>\n      <td>116.418826</td>\n      <td>39.943813</td>\n      <td>17号旁门</td>\n      <td>蒲黄榆</td>\n    </tr>\n  </tbody>\n</table>\n</div>"
     },
     "execution_count": 57,
     "metadata": {},
     "output_type": "execute_result"
    }
   ],
   "source": [
    "data = pd.read_csv(r\"C:\\Users\\fzh00\\Desktop\\文件\\1、Python数据清洗基础\\data\\ershoufang.csv\",encoding='ANSI')\n",
    "data.head()"
   ],
   "metadata": {
    "collapsed": false
   }
  },
  {
   "cell_type": "code",
   "execution_count": 54,
   "outputs": [
    {
     "data": {
      "text/plain": "    员工姓名     销售业绩   国籍     提成收入    工资  加班工资   加薪    过节费   生日礼金       收益 公司名称  \\\n001   赵一  30000.0  NaN   6000.0  9000  None  300    NaN    NaN  20700.0  深蓝保   \n002   钱明  20000.0   中国   4000.0  9000  None  300  500.0  500.0  10700.0  深蓝保   \n003   周元  50000.0   美国  10000.0  9000  None  300  500.0  500.0  40700.0  深蓝保   \n004   李雷      NaN  NaN      NaN  9000  None  300  500.0  500.0      NaN  深蓝保   \n\n      性别  \n001  NaN  \n002  NaN  \n003    女  \n004    男  ",
      "text/html": "<div>\n<style scoped>\n    .dataframe tbody tr th:only-of-type {\n        vertical-align: middle;\n    }\n\n    .dataframe tbody tr th {\n        vertical-align: top;\n    }\n\n    .dataframe thead th {\n        text-align: right;\n    }\n</style>\n<table border=\"1\" class=\"dataframe\">\n  <thead>\n    <tr style=\"text-align: right;\">\n      <th></th>\n      <th>员工姓名</th>\n      <th>销售业绩</th>\n      <th>国籍</th>\n      <th>提成收入</th>\n      <th>工资</th>\n      <th>加班工资</th>\n      <th>加薪</th>\n      <th>过节费</th>\n      <th>生日礼金</th>\n      <th>收益</th>\n      <th>公司名称</th>\n      <th>性别</th>\n    </tr>\n  </thead>\n  <tbody>\n    <tr>\n      <th>001</th>\n      <td>赵一</td>\n      <td>30000.0</td>\n      <td>NaN</td>\n      <td>6000.0</td>\n      <td>9000</td>\n      <td>None</td>\n      <td>300</td>\n      <td>NaN</td>\n      <td>NaN</td>\n      <td>20700.0</td>\n      <td>深蓝保</td>\n      <td>NaN</td>\n    </tr>\n    <tr>\n      <th>002</th>\n      <td>钱明</td>\n      <td>20000.0</td>\n      <td>中国</td>\n      <td>4000.0</td>\n      <td>9000</td>\n      <td>None</td>\n      <td>300</td>\n      <td>500.0</td>\n      <td>500.0</td>\n      <td>10700.0</td>\n      <td>深蓝保</td>\n      <td>NaN</td>\n    </tr>\n    <tr>\n      <th>003</th>\n      <td>周元</td>\n      <td>50000.0</td>\n      <td>美国</td>\n      <td>10000.0</td>\n      <td>9000</td>\n      <td>None</td>\n      <td>300</td>\n      <td>500.0</td>\n      <td>500.0</td>\n      <td>40700.0</td>\n      <td>深蓝保</td>\n      <td>女</td>\n    </tr>\n    <tr>\n      <th>004</th>\n      <td>李雷</td>\n      <td>NaN</td>\n      <td>NaN</td>\n      <td>NaN</td>\n      <td>9000</td>\n      <td>None</td>\n      <td>300</td>\n      <td>500.0</td>\n      <td>500.0</td>\n      <td>NaN</td>\n      <td>深蓝保</td>\n      <td>男</td>\n    </tr>\n  </tbody>\n</table>\n</div>"
     },
     "execution_count": 54,
     "metadata": {},
     "output_type": "execute_result"
    }
   ],
   "source": [
    "#pd.read_csv()结构化文本均可读取\n",
    "import pandas as pd\n",
    "data = pd.read_csv()\n",
    "pd.read_excel()"
   ],
   "metadata": {
    "collapsed": false
   }
  },
  {
   "cell_type": "code",
   "execution_count": 55,
   "outputs": [
    {
     "data": {
      "text/plain": "        销售业绩     提成收入\n001  30000.0   6000.0\n002  20000.0   4000.0\n003  50000.0  10000.0\n004      NaN      NaN",
      "text/html": "<div>\n<style scoped>\n    .dataframe tbody tr th:only-of-type {\n        vertical-align: middle;\n    }\n\n    .dataframe tbody tr th {\n        vertical-align: top;\n    }\n\n    .dataframe thead th {\n        text-align: right;\n    }\n</style>\n<table border=\"1\" class=\"dataframe\">\n  <thead>\n    <tr style=\"text-align: right;\">\n      <th></th>\n      <th>销售业绩</th>\n      <th>提成收入</th>\n    </tr>\n  </thead>\n  <tbody>\n    <tr>\n      <th>001</th>\n      <td>30000.0</td>\n      <td>6000.0</td>\n    </tr>\n    <tr>\n      <th>002</th>\n      <td>20000.0</td>\n      <td>4000.0</td>\n    </tr>\n    <tr>\n      <th>003</th>\n      <td>50000.0</td>\n      <td>10000.0</td>\n    </tr>\n    <tr>\n      <th>004</th>\n      <td>NaN</td>\n      <td>NaN</td>\n    </tr>\n  </tbody>\n</table>\n</div>"
     },
     "execution_count": 55,
     "metadata": {},
     "output_type": "execute_result"
    },
    {
     "data": {
      "text/plain": "     销售业绩  提成收入\n004   NaN   NaN",
      "text/html": "<div>\n<style scoped>\n    .dataframe tbody tr th:only-of-type {\n        vertical-align: middle;\n    }\n\n    .dataframe tbody tr th {\n        vertical-align: top;\n    }\n\n    .dataframe thead th {\n        text-align: right;\n    }\n</style>\n<table border=\"1\" class=\"dataframe\">\n  <thead>\n    <tr style=\"text-align: right;\">\n      <th></th>\n      <th>销售业绩</th>\n      <th>提成收入</th>\n    </tr>\n  </thead>\n  <tbody>\n    <tr>\n      <th>004</th>\n      <td>NaN</td>\n      <td>NaN</td>\n    </tr>\n  </tbody>\n</table>\n</div>"
     },
     "execution_count": 55,
     "metadata": {},
     "output_type": "execute_result"
    },
    {
     "data": {
      "text/plain": "     销售业绩  提成收入\n001   NaN   NaN\n002   NaN   NaN\n003   NaN   NaN\n004   NaN   NaN",
      "text/html": "<div>\n<style scoped>\n    .dataframe tbody tr th:only-of-type {\n        vertical-align: middle;\n    }\n\n    .dataframe tbody tr th {\n        vertical-align: top;\n    }\n\n    .dataframe thead th {\n        text-align: right;\n    }\n</style>\n<table border=\"1\" class=\"dataframe\">\n  <thead>\n    <tr style=\"text-align: right;\">\n      <th></th>\n      <th>销售业绩</th>\n      <th>提成收入</th>\n    </tr>\n  </thead>\n  <tbody>\n    <tr>\n      <th>001</th>\n      <td>NaN</td>\n      <td>NaN</td>\n    </tr>\n    <tr>\n      <th>002</th>\n      <td>NaN</td>\n      <td>NaN</td>\n    </tr>\n    <tr>\n      <th>003</th>\n      <td>NaN</td>\n      <td>NaN</td>\n    </tr>\n    <tr>\n      <th>004</th>\n      <td>NaN</td>\n      <td>NaN</td>\n    </tr>\n  </tbody>\n</table>\n</div>"
     },
     "execution_count": 55,
     "metadata": {},
     "output_type": "execute_result"
    },
    {
     "data": {
      "text/plain": "        销售业绩     提成收入\n001  30000.0   6000.0\n002  20000.0   4000.0\n003  50000.0  10000.0\n004      NaN      NaN",
      "text/html": "<div>\n<style scoped>\n    .dataframe tbody tr th:only-of-type {\n        vertical-align: middle;\n    }\n\n    .dataframe tbody tr th {\n        vertical-align: top;\n    }\n\n    .dataframe thead th {\n        text-align: right;\n    }\n</style>\n<table border=\"1\" class=\"dataframe\">\n  <thead>\n    <tr style=\"text-align: right;\">\n      <th></th>\n      <th>销售业绩</th>\n      <th>提成收入</th>\n    </tr>\n  </thead>\n  <tbody>\n    <tr>\n      <th>001</th>\n      <td>30000.0</td>\n      <td>6000.0</td>\n    </tr>\n    <tr>\n      <th>002</th>\n      <td>20000.0</td>\n      <td>4000.0</td>\n    </tr>\n    <tr>\n      <th>003</th>\n      <td>50000.0</td>\n      <td>10000.0</td>\n    </tr>\n    <tr>\n      <th>004</th>\n      <td>NaN</td>\n      <td>NaN</td>\n    </tr>\n  </tbody>\n</table>\n</div>"
     },
     "execution_count": 55,
     "metadata": {},
     "output_type": "execute_result"
    }
   ],
   "source": [
    "df3_1= df3.iloc[:5].loc[:,['销售业绩','提成收入']]\n",
    "df3_1\n",
    "df3_2 = df3.loc['004':,['销售业绩','提成收入']]\n",
    "df3_2\n",
    "df3_1+df3_2\n",
    "df3_1.add(df3_2,fill_value=0)"
   ],
   "metadata": {
    "collapsed": false
   }
  },
  {
   "cell_type": "code",
   "execution_count": 50,
   "outputs": [
    {
     "name": "stderr",
     "output_type": "stream",
     "text": [
      "C:\\Users\\fzh00\\AppData\\Local\\Temp\\ipykernel_17340\\2085962954.py:1: FutureWarning: In a future version of pandas all arguments of DataFrame.drop except for the argument 'labels' will be keyword-only.\n",
      "  lipei3 = lipei2.drop('工单编号',1)\n"
     ]
    },
    {
     "data": {
      "text/plain": "    供应商          承保公司   险种              产品名称  赔付金额  理赔时效\n0   i云保          中华联合  医疗险      中华小当家少儿门急诊保险   NaN   NaN\n1  凤栖云服          横琴人寿  重疾险  横琴无忧人生2020重大疾病保险   NaN   NaN\n2   i云保         太平洋保险  意外险       太平洋“任我学”学平险  1000   7.0\n3   小雨伞  长安责任保险股份有限公司  意外险      长安大护甲意外险（A款）   NaN   NaN\n4   i云保          中华联合  医疗险      中华小当家少儿门急诊保险   NaN   NaN",
      "text/html": "<div>\n<style scoped>\n    .dataframe tbody tr th:only-of-type {\n        vertical-align: middle;\n    }\n\n    .dataframe tbody tr th {\n        vertical-align: top;\n    }\n\n    .dataframe thead th {\n        text-align: right;\n    }\n</style>\n<table border=\"1\" class=\"dataframe\">\n  <thead>\n    <tr style=\"text-align: right;\">\n      <th></th>\n      <th>供应商</th>\n      <th>承保公司</th>\n      <th>险种</th>\n      <th>产品名称</th>\n      <th>赔付金额</th>\n      <th>理赔时效</th>\n    </tr>\n  </thead>\n  <tbody>\n    <tr>\n      <th>0</th>\n      <td>i云保</td>\n      <td>中华联合</td>\n      <td>医疗险</td>\n      <td>中华小当家少儿门急诊保险</td>\n      <td>NaN</td>\n      <td>NaN</td>\n    </tr>\n    <tr>\n      <th>1</th>\n      <td>凤栖云服</td>\n      <td>横琴人寿</td>\n      <td>重疾险</td>\n      <td>横琴无忧人生2020重大疾病保险</td>\n      <td>NaN</td>\n      <td>NaN</td>\n    </tr>\n    <tr>\n      <th>2</th>\n      <td>i云保</td>\n      <td>太平洋保险</td>\n      <td>意外险</td>\n      <td>太平洋“任我学”学平险</td>\n      <td>1000</td>\n      <td>7.0</td>\n    </tr>\n    <tr>\n      <th>3</th>\n      <td>小雨伞</td>\n      <td>长安责任保险股份有限公司</td>\n      <td>意外险</td>\n      <td>长安大护甲意外险（A款）</td>\n      <td>NaN</td>\n      <td>NaN</td>\n    </tr>\n    <tr>\n      <th>4</th>\n      <td>i云保</td>\n      <td>中华联合</td>\n      <td>医疗险</td>\n      <td>中华小当家少儿门急诊保险</td>\n      <td>NaN</td>\n      <td>NaN</td>\n    </tr>\n  </tbody>\n</table>\n</div>"
     },
     "execution_count": 50,
     "metadata": {},
     "output_type": "execute_result"
    }
   ],
   "source": [
    "lipei3 = lipei2.drop('工单编号',1)\n",
    "lipei3.head()"
   ],
   "metadata": {
    "collapsed": false
   }
  },
  {
   "cell_type": "code",
   "execution_count": 47,
   "outputs": [
    {
     "data": {
      "text/plain": "     工单编号   供应商          承保公司   险种              产品名称  赔付金额  理赔时效\n0  345292   i云保          中华联合  医疗险      中华小当家少儿门急诊保险   NaN   NaN\n1  345448  凤栖云服          横琴人寿  重疾险  横琴无忧人生2020重大疾病保险   NaN   NaN\n2  345449   i云保         太平洋保险  意外险       太平洋“任我学”学平险  1000   7.0\n3  345522   小雨伞  长安责任保险股份有限公司  意外险      长安大护甲意外险（A款）   NaN   NaN\n4  346702   i云保          中华联合  医疗险      中华小当家少儿门急诊保险   NaN   NaN",
      "text/html": "<div>\n<style scoped>\n    .dataframe tbody tr th:only-of-type {\n        vertical-align: middle;\n    }\n\n    .dataframe tbody tr th {\n        vertical-align: top;\n    }\n\n    .dataframe thead th {\n        text-align: right;\n    }\n</style>\n<table border=\"1\" class=\"dataframe\">\n  <thead>\n    <tr style=\"text-align: right;\">\n      <th></th>\n      <th>工单编号</th>\n      <th>供应商</th>\n      <th>承保公司</th>\n      <th>险种</th>\n      <th>产品名称</th>\n      <th>赔付金额</th>\n      <th>理赔时效</th>\n    </tr>\n  </thead>\n  <tbody>\n    <tr>\n      <th>0</th>\n      <td>345292</td>\n      <td>i云保</td>\n      <td>中华联合</td>\n      <td>医疗险</td>\n      <td>中华小当家少儿门急诊保险</td>\n      <td>NaN</td>\n      <td>NaN</td>\n    </tr>\n    <tr>\n      <th>1</th>\n      <td>345448</td>\n      <td>凤栖云服</td>\n      <td>横琴人寿</td>\n      <td>重疾险</td>\n      <td>横琴无忧人生2020重大疾病保险</td>\n      <td>NaN</td>\n      <td>NaN</td>\n    </tr>\n    <tr>\n      <th>2</th>\n      <td>345449</td>\n      <td>i云保</td>\n      <td>太平洋保险</td>\n      <td>意外险</td>\n      <td>太平洋“任我学”学平险</td>\n      <td>1000</td>\n      <td>7.0</td>\n    </tr>\n    <tr>\n      <th>3</th>\n      <td>345522</td>\n      <td>小雨伞</td>\n      <td>长安责任保险股份有限公司</td>\n      <td>意外险</td>\n      <td>长安大护甲意外险（A款）</td>\n      <td>NaN</td>\n      <td>NaN</td>\n    </tr>\n    <tr>\n      <th>4</th>\n      <td>346702</td>\n      <td>i云保</td>\n      <td>中华联合</td>\n      <td>医疗险</td>\n      <td>中华小当家少儿门急诊保险</td>\n      <td>NaN</td>\n      <td>NaN</td>\n    </tr>\n  </tbody>\n</table>\n</div>"
     },
     "execution_count": 47,
     "metadata": {},
     "output_type": "execute_result"
    }
   ],
   "source": [
    "lipei2 = lipei[['工单编号','供应商','承保公司','险种','产品名称','赔付金额','理赔时效']]\n",
    "lipei2.head()\n"
   ],
   "metadata": {
    "collapsed": false
   }
  },
  {
   "cell_type": "code",
   "execution_count": 36,
   "outputs": [
    {
     "data": {
      "text/plain": "    员工姓名     销售业绩   国籍     提成收入    工资  加班工资   加薪    过节费   生日礼金       收益 公司名称  \\\n001   赵一  30000.0  NaN   6000.0  9000  None  300    NaN    NaN  20700.0  深蓝保   \n002   钱明  20000.0   中国   4000.0  9000  None  300  500.0  500.0  10700.0  深蓝保   \n003   周元  50000.0   美国  10000.0  9000  None  300  500.0  500.0  40700.0  深蓝保   \n004   李雷      NaN  NaN      NaN  9000  None  300  500.0  500.0      NaN  深蓝保   \n\n      性别  \n001  NaN  \n002  NaN  \n003    女  \n004    男  ",
      "text/html": "<div>\n<style scoped>\n    .dataframe tbody tr th:only-of-type {\n        vertical-align: middle;\n    }\n\n    .dataframe tbody tr th {\n        vertical-align: top;\n    }\n\n    .dataframe thead th {\n        text-align: right;\n    }\n</style>\n<table border=\"1\" class=\"dataframe\">\n  <thead>\n    <tr style=\"text-align: right;\">\n      <th></th>\n      <th>员工姓名</th>\n      <th>销售业绩</th>\n      <th>国籍</th>\n      <th>提成收入</th>\n      <th>工资</th>\n      <th>加班工资</th>\n      <th>加薪</th>\n      <th>过节费</th>\n      <th>生日礼金</th>\n      <th>收益</th>\n      <th>公司名称</th>\n      <th>性别</th>\n    </tr>\n  </thead>\n  <tbody>\n    <tr>\n      <th>001</th>\n      <td>赵一</td>\n      <td>30000.0</td>\n      <td>NaN</td>\n      <td>6000.0</td>\n      <td>9000</td>\n      <td>None</td>\n      <td>300</td>\n      <td>NaN</td>\n      <td>NaN</td>\n      <td>20700.0</td>\n      <td>深蓝保</td>\n      <td>NaN</td>\n    </tr>\n    <tr>\n      <th>002</th>\n      <td>钱明</td>\n      <td>20000.0</td>\n      <td>中国</td>\n      <td>4000.0</td>\n      <td>9000</td>\n      <td>None</td>\n      <td>300</td>\n      <td>500.0</td>\n      <td>500.0</td>\n      <td>10700.0</td>\n      <td>深蓝保</td>\n      <td>NaN</td>\n    </tr>\n    <tr>\n      <th>003</th>\n      <td>周元</td>\n      <td>50000.0</td>\n      <td>美国</td>\n      <td>10000.0</td>\n      <td>9000</td>\n      <td>None</td>\n      <td>300</td>\n      <td>500.0</td>\n      <td>500.0</td>\n      <td>40700.0</td>\n      <td>深蓝保</td>\n      <td>女</td>\n    </tr>\n    <tr>\n      <th>004</th>\n      <td>李雷</td>\n      <td>NaN</td>\n      <td>NaN</td>\n      <td>NaN</td>\n      <td>9000</td>\n      <td>None</td>\n      <td>300</td>\n      <td>500.0</td>\n      <td>500.0</td>\n      <td>NaN</td>\n      <td>深蓝保</td>\n      <td>男</td>\n    </tr>\n  </tbody>\n</table>\n</div>"
     },
     "execution_count": 36,
     "metadata": {},
     "output_type": "execute_result"
    }
   ],
   "source": [
    "df3.insert(2,'国籍',pd.Series(['中国','美国'],index=['002','003']))\n",
    "df3"
   ],
   "metadata": {
    "collapsed": false
   }
  },
  {
   "cell_type": "code",
   "execution_count": 31,
   "outputs": [
    {
     "data": {
      "text/plain": "    员工姓名     销售业绩     提成收入    工资  加班工资   加薪    过节费   生日礼金       收益 公司名称   性别\n001   赵一  30000.0   6000.0  9000  2900  300    NaN    NaN  20700.0  深蓝保  NaN\n002   钱明  20000.0   4000.0  9000  2900  300  500.0  500.0  10700.0  深蓝保  NaN\n003   周元  50000.0  10000.0  9000  2900  300  500.0  500.0  40700.0  深蓝保    女\n004   李雷      NaN      NaN  9000  2900  300  500.0  500.0      NaN  深蓝保    男",
      "text/html": "<div>\n<style scoped>\n    .dataframe tbody tr th:only-of-type {\n        vertical-align: middle;\n    }\n\n    .dataframe tbody tr th {\n        vertical-align: top;\n    }\n\n    .dataframe thead th {\n        text-align: right;\n    }\n</style>\n<table border=\"1\" class=\"dataframe\">\n  <thead>\n    <tr style=\"text-align: right;\">\n      <th></th>\n      <th>员工姓名</th>\n      <th>销售业绩</th>\n      <th>提成收入</th>\n      <th>工资</th>\n      <th>加班工资</th>\n      <th>加薪</th>\n      <th>过节费</th>\n      <th>生日礼金</th>\n      <th>收益</th>\n      <th>公司名称</th>\n      <th>性别</th>\n    </tr>\n  </thead>\n  <tbody>\n    <tr>\n      <th>001</th>\n      <td>赵一</td>\n      <td>30000.0</td>\n      <td>6000.0</td>\n      <td>9000</td>\n      <td>2900</td>\n      <td>300</td>\n      <td>NaN</td>\n      <td>NaN</td>\n      <td>20700.0</td>\n      <td>深蓝保</td>\n      <td>NaN</td>\n    </tr>\n    <tr>\n      <th>002</th>\n      <td>钱明</td>\n      <td>20000.0</td>\n      <td>4000.0</td>\n      <td>9000</td>\n      <td>2900</td>\n      <td>300</td>\n      <td>500.0</td>\n      <td>500.0</td>\n      <td>10700.0</td>\n      <td>深蓝保</td>\n      <td>NaN</td>\n    </tr>\n    <tr>\n      <th>003</th>\n      <td>周元</td>\n      <td>50000.0</td>\n      <td>10000.0</td>\n      <td>9000</td>\n      <td>2900</td>\n      <td>300</td>\n      <td>500.0</td>\n      <td>500.0</td>\n      <td>40700.0</td>\n      <td>深蓝保</td>\n      <td>女</td>\n    </tr>\n    <tr>\n      <th>004</th>\n      <td>李雷</td>\n      <td>NaN</td>\n      <td>NaN</td>\n      <td>9000</td>\n      <td>2900</td>\n      <td>300</td>\n      <td>500.0</td>\n      <td>500.0</td>\n      <td>NaN</td>\n      <td>深蓝保</td>\n      <td>男</td>\n    </tr>\n  </tbody>\n</table>\n</div>"
     },
     "execution_count": 31,
     "metadata": {},
     "output_type": "execute_result"
    }
   ],
   "source": [
    "df3['性别'] = pd.Series(['女','男'],index=['003','004'])\n"
   ],
   "metadata": {
    "collapsed": false
   }
  },
  {
   "cell_type": "code",
   "execution_count": 29,
   "outputs": [
    {
     "data": {
      "text/plain": "   序号    工单编号  工单类型  工单来源 工单创建人 工单创建人组别 当前处理人 当前处理人组别               工单创建时间  \\\n0   1  345292  协助理赔  手动创建    肖楠   业务支持组    肖楠   业务支持组  2021-06-27 11:00:11   \n1   2  345448  协助理赔  手动创建    肖楠   业务支持组   黎露明     理赔组  2021-06-27 15:06:50   \n2   3  345449  协助理赔  手动创建    肖楠   业务支持组   梁广裕   业务支持组  2021-06-27 15:10:16   \n3   4  345522  协助理赔  手动创建   黄嘉丽   客户运营组   王晓倩   业务支持组  2021-06-27 16:22:16   \n4   5  346702  协助理赔  手动创建   韩玲玲   客户关系组   王晓倩   业务支持组  2021-06-28 14:25:23   \n\n                工单完结时间  ...      提交资料时间           提交资料方式 案件状态  赔付金额  \\\n0  2021-06-27 11:01:05  ...         NaN              NaN  NaN   NaN   \n1  2021-07-09 11:41:29  ...         NaN              NaN  NaN   NaN   \n2  2021-10-25 20:29:03  ...  2021-06-28  在线上传（微信公众号自助上传）  已赔付  1000   \n3  2021-07-09 18:14:29  ...         NaN              NaN  NaN   NaN   \n4  2021-07-05 17:58:31  ...         NaN              NaN  NaN   NaN   \n\n                  结案时间 理赔时效 是否超时 超时原因  \\\n0                  NaN  NaN   --  NaN   \n1                  NaN  NaN   --  NaN   \n2  2021-07-05 08:00:00  7.0    否  NaN   \n3                  NaN  NaN   --  NaN   \n4                  NaN  NaN   --  NaN   \n\n                                          最新一次案件跟进进度  \\\n0                             2021-06-25结案，金额:192.48   \n1  根据客户提供的出院记录资料，诊断为：1、致密性骨炎；2、骶骼关节炎，没有达到重疾险的申请标准...   \n2    我们只是帮客户处理了上传资料的问题，具体的案件情况不清楚，赔付的时间和金额客户只告知了大致情况   \n3                                   客户觉得没什么问题，不需要理赔了   \n4                        理赔计算书已上传附件，已经跟客户解释，本次理赔并无差错   \n\n                                                跟进日志  \n0  [{\"code\":\"follow_log\",\"content\":\"报案号：192021321...  \n1  [{\"code\":\"follow_log\",\"content\":\"横琴人寿——无忧人生202...  \n2  [{\"code\":\"follow_log\",\"content\":\"客户自己联系保司报案，通过...  \n3  [{\"code\":\"follow_log\",\"content\":\"工单类型为协助理赔，发起流...  \n4  [{\"code\":\"follow_log\",\"content\":\"工单类型为协助理赔，发起流...  \n\n[5 rows x 53 columns]",
      "text/html": "<div>\n<style scoped>\n    .dataframe tbody tr th:only-of-type {\n        vertical-align: middle;\n    }\n\n    .dataframe tbody tr th {\n        vertical-align: top;\n    }\n\n    .dataframe thead th {\n        text-align: right;\n    }\n</style>\n<table border=\"1\" class=\"dataframe\">\n  <thead>\n    <tr style=\"text-align: right;\">\n      <th></th>\n      <th>序号</th>\n      <th>工单编号</th>\n      <th>工单类型</th>\n      <th>工单来源</th>\n      <th>工单创建人</th>\n      <th>工单创建人组别</th>\n      <th>当前处理人</th>\n      <th>当前处理人组别</th>\n      <th>工单创建时间</th>\n      <th>工单完结时间</th>\n      <th>...</th>\n      <th>提交资料时间</th>\n      <th>提交资料方式</th>\n      <th>案件状态</th>\n      <th>赔付金额</th>\n      <th>结案时间</th>\n      <th>理赔时效</th>\n      <th>是否超时</th>\n      <th>超时原因</th>\n      <th>最新一次案件跟进进度</th>\n      <th>跟进日志</th>\n    </tr>\n  </thead>\n  <tbody>\n    <tr>\n      <th>0</th>\n      <td>1</td>\n      <td>345292</td>\n      <td>协助理赔</td>\n      <td>手动创建</td>\n      <td>肖楠</td>\n      <td>业务支持组</td>\n      <td>肖楠</td>\n      <td>业务支持组</td>\n      <td>2021-06-27 11:00:11</td>\n      <td>2021-06-27 11:01:05</td>\n      <td>...</td>\n      <td>NaN</td>\n      <td>NaN</td>\n      <td>NaN</td>\n      <td>NaN</td>\n      <td>NaN</td>\n      <td>NaN</td>\n      <td>--</td>\n      <td>NaN</td>\n      <td>2021-06-25结案，金额:192.48</td>\n      <td>[{\"code\":\"follow_log\",\"content\":\"报案号：192021321...</td>\n    </tr>\n    <tr>\n      <th>1</th>\n      <td>2</td>\n      <td>345448</td>\n      <td>协助理赔</td>\n      <td>手动创建</td>\n      <td>肖楠</td>\n      <td>业务支持组</td>\n      <td>黎露明</td>\n      <td>理赔组</td>\n      <td>2021-06-27 15:06:50</td>\n      <td>2021-07-09 11:41:29</td>\n      <td>...</td>\n      <td>NaN</td>\n      <td>NaN</td>\n      <td>NaN</td>\n      <td>NaN</td>\n      <td>NaN</td>\n      <td>NaN</td>\n      <td>--</td>\n      <td>NaN</td>\n      <td>根据客户提供的出院记录资料，诊断为：1、致密性骨炎；2、骶骼关节炎，没有达到重疾险的申请标准...</td>\n      <td>[{\"code\":\"follow_log\",\"content\":\"横琴人寿——无忧人生202...</td>\n    </tr>\n    <tr>\n      <th>2</th>\n      <td>3</td>\n      <td>345449</td>\n      <td>协助理赔</td>\n      <td>手动创建</td>\n      <td>肖楠</td>\n      <td>业务支持组</td>\n      <td>梁广裕</td>\n      <td>业务支持组</td>\n      <td>2021-06-27 15:10:16</td>\n      <td>2021-10-25 20:29:03</td>\n      <td>...</td>\n      <td>2021-06-28</td>\n      <td>在线上传（微信公众号自助上传）</td>\n      <td>已赔付</td>\n      <td>1000</td>\n      <td>2021-07-05 08:00:00</td>\n      <td>7.0</td>\n      <td>否</td>\n      <td>NaN</td>\n      <td>我们只是帮客户处理了上传资料的问题，具体的案件情况不清楚，赔付的时间和金额客户只告知了大致情况</td>\n      <td>[{\"code\":\"follow_log\",\"content\":\"客户自己联系保司报案，通过...</td>\n    </tr>\n    <tr>\n      <th>3</th>\n      <td>4</td>\n      <td>345522</td>\n      <td>协助理赔</td>\n      <td>手动创建</td>\n      <td>黄嘉丽</td>\n      <td>客户运营组</td>\n      <td>王晓倩</td>\n      <td>业务支持组</td>\n      <td>2021-06-27 16:22:16</td>\n      <td>2021-07-09 18:14:29</td>\n      <td>...</td>\n      <td>NaN</td>\n      <td>NaN</td>\n      <td>NaN</td>\n      <td>NaN</td>\n      <td>NaN</td>\n      <td>NaN</td>\n      <td>--</td>\n      <td>NaN</td>\n      <td>客户觉得没什么问题，不需要理赔了</td>\n      <td>[{\"code\":\"follow_log\",\"content\":\"工单类型为协助理赔，发起流...</td>\n    </tr>\n    <tr>\n      <th>4</th>\n      <td>5</td>\n      <td>346702</td>\n      <td>协助理赔</td>\n      <td>手动创建</td>\n      <td>韩玲玲</td>\n      <td>客户关系组</td>\n      <td>王晓倩</td>\n      <td>业务支持组</td>\n      <td>2021-06-28 14:25:23</td>\n      <td>2021-07-05 17:58:31</td>\n      <td>...</td>\n      <td>NaN</td>\n      <td>NaN</td>\n      <td>NaN</td>\n      <td>NaN</td>\n      <td>NaN</td>\n      <td>NaN</td>\n      <td>--</td>\n      <td>NaN</td>\n      <td>理赔计算书已上传附件，已经跟客户解释，本次理赔并无差错</td>\n      <td>[{\"code\":\"follow_log\",\"content\":\"工单类型为协助理赔，发起流...</td>\n    </tr>\n  </tbody>\n</table>\n<p>5 rows × 53 columns</p>\n</div>"
     },
     "execution_count": 29,
     "metadata": {},
     "output_type": "execute_result"
    }
   ],
   "source": [
    "lipei = pd.read_excel(r\"C:\\Users\\fzh00\\Desktop\\文件\\1、Python数据清洗基础\\理赔工单.xlsx\",'协助理赔-保单号')\n"
   ],
   "metadata": {
    "collapsed": false
   }
  },
  {
   "cell_type": "code",
   "execution_count": 30,
   "outputs": [
    {
     "data": {
      "text/plain": "(1642, 53)"
     },
     "execution_count": 30,
     "metadata": {},
     "output_type": "execute_result"
    }
   ],
   "source": [
    "lipei.shape"
   ],
   "metadata": {
    "collapsed": false
   }
  },
  {
   "cell_type": "code",
   "execution_count": 28,
   "outputs": [
    {
     "data": {
      "text/plain": "    员工姓名     销售业绩     提成收入    工资  加班工资   加薪    过节费   生日礼金       收益 公司名称\n001   赵一  30000.0   6000.0  9000  2900  300    NaN    NaN  20700.0  深蓝保\n002   钱明  20000.0   4000.0  9000  2900  300  500.0  500.0  10700.0  深蓝保\n003   周元  50000.0  10000.0  9000  2900  300  500.0  500.0  40700.0  深蓝保\n004   李雷      NaN      NaN  9000  2900  300  500.0  500.0      NaN  深蓝保",
      "text/html": "<div>\n<style scoped>\n    .dataframe tbody tr th:only-of-type {\n        vertical-align: middle;\n    }\n\n    .dataframe tbody tr th {\n        vertical-align: top;\n    }\n\n    .dataframe thead th {\n        text-align: right;\n    }\n</style>\n<table border=\"1\" class=\"dataframe\">\n  <thead>\n    <tr style=\"text-align: right;\">\n      <th></th>\n      <th>员工姓名</th>\n      <th>销售业绩</th>\n      <th>提成收入</th>\n      <th>工资</th>\n      <th>加班工资</th>\n      <th>加薪</th>\n      <th>过节费</th>\n      <th>生日礼金</th>\n      <th>收益</th>\n      <th>公司名称</th>\n    </tr>\n  </thead>\n  <tbody>\n    <tr>\n      <th>001</th>\n      <td>赵一</td>\n      <td>30000.0</td>\n      <td>6000.0</td>\n      <td>9000</td>\n      <td>2900</td>\n      <td>300</td>\n      <td>NaN</td>\n      <td>NaN</td>\n      <td>20700.0</td>\n      <td>深蓝保</td>\n    </tr>\n    <tr>\n      <th>002</th>\n      <td>钱明</td>\n      <td>20000.0</td>\n      <td>4000.0</td>\n      <td>9000</td>\n      <td>2900</td>\n      <td>300</td>\n      <td>500.0</td>\n      <td>500.0</td>\n      <td>10700.0</td>\n      <td>深蓝保</td>\n    </tr>\n    <tr>\n      <th>003</th>\n      <td>周元</td>\n      <td>50000.0</td>\n      <td>10000.0</td>\n      <td>9000</td>\n      <td>2900</td>\n      <td>300</td>\n      <td>500.0</td>\n      <td>500.0</td>\n      <td>40700.0</td>\n      <td>深蓝保</td>\n    </tr>\n    <tr>\n      <th>004</th>\n      <td>李雷</td>\n      <td>NaN</td>\n      <td>NaN</td>\n      <td>9000</td>\n      <td>2900</td>\n      <td>300</td>\n      <td>500.0</td>\n      <td>500.0</td>\n      <td>NaN</td>\n      <td>深蓝保</td>\n    </tr>\n  </tbody>\n</table>\n</div>"
     },
     "execution_count": 28,
     "metadata": {},
     "output_type": "execute_result"
    }
   ],
   "source": [
    "df3.index = ['{:>03}'.format(i) for i in range(1,5)]#右对齐，用0填充\n",
    "df3"
   ],
   "metadata": {
    "collapsed": false
   }
  },
  {
   "cell_type": "code",
   "execution_count": 27,
   "outputs": [
    {
     "data": {
      "text/plain": "  员工姓名     销售业绩     提成收入    工资  加班工资   加薪    过节费   生日礼金       收益 公司名称\n0   赵一  30000.0   6000.0  9000  2900  300    NaN    NaN  20700.0  深蓝保\n1   钱明  20000.0   4000.0  9000  2900  300  500.0  500.0  10700.0  深蓝保\n2   周元  50000.0  10000.0  9000  2900  300  500.0  500.0  40700.0  深蓝保\n3   李雷      NaN      NaN  9000  2900  300  500.0  500.0      NaN  深蓝保",
      "text/html": "<div>\n<style scoped>\n    .dataframe tbody tr th:only-of-type {\n        vertical-align: middle;\n    }\n\n    .dataframe tbody tr th {\n        vertical-align: top;\n    }\n\n    .dataframe thead th {\n        text-align: right;\n    }\n</style>\n<table border=\"1\" class=\"dataframe\">\n  <thead>\n    <tr style=\"text-align: right;\">\n      <th></th>\n      <th>员工姓名</th>\n      <th>销售业绩</th>\n      <th>提成收入</th>\n      <th>工资</th>\n      <th>加班工资</th>\n      <th>加薪</th>\n      <th>过节费</th>\n      <th>生日礼金</th>\n      <th>收益</th>\n      <th>公司名称</th>\n    </tr>\n  </thead>\n  <tbody>\n    <tr>\n      <th>0</th>\n      <td>赵一</td>\n      <td>30000.0</td>\n      <td>6000.0</td>\n      <td>9000</td>\n      <td>2900</td>\n      <td>300</td>\n      <td>NaN</td>\n      <td>NaN</td>\n      <td>20700.0</td>\n      <td>深蓝保</td>\n    </tr>\n    <tr>\n      <th>1</th>\n      <td>钱明</td>\n      <td>20000.0</td>\n      <td>4000.0</td>\n      <td>9000</td>\n      <td>2900</td>\n      <td>300</td>\n      <td>500.0</td>\n      <td>500.0</td>\n      <td>10700.0</td>\n      <td>深蓝保</td>\n    </tr>\n    <tr>\n      <th>2</th>\n      <td>周元</td>\n      <td>50000.0</td>\n      <td>10000.0</td>\n      <td>9000</td>\n      <td>2900</td>\n      <td>300</td>\n      <td>500.0</td>\n      <td>500.0</td>\n      <td>40700.0</td>\n      <td>深蓝保</td>\n    </tr>\n    <tr>\n      <th>3</th>\n      <td>李雷</td>\n      <td>NaN</td>\n      <td>NaN</td>\n      <td>9000</td>\n      <td>2900</td>\n      <td>300</td>\n      <td>500.0</td>\n      <td>500.0</td>\n      <td>NaN</td>\n      <td>深蓝保</td>\n    </tr>\n  </tbody>\n</table>\n</div>"
     },
     "execution_count": 27,
     "metadata": {},
     "output_type": "execute_result"
    }
   ],
   "source": [
    "df3['公司名称'] = '深蓝保'\n",
    "df3"
   ],
   "metadata": {
    "collapsed": false
   }
  },
  {
   "cell_type": "code",
   "execution_count": 25,
   "outputs": [
    {
     "data": {
      "text/plain": "  员工姓名     销售业绩     提成收入    工资  加班工资   加薪    过节费   生日礼金       收益\n0   赵一  30000.0   6000.0  9000  2900  300    NaN    NaN  20700.0\n1   钱明  20000.0   4000.0  9000  2900  300  500.0  500.0  10700.0\n2   周元  50000.0  10000.0  9000  2900  300  500.0  500.0  40700.0\n3   李雷      NaN      NaN  9000  2900  300  500.0  500.0      NaN",
      "text/html": "<div>\n<style scoped>\n    .dataframe tbody tr th:only-of-type {\n        vertical-align: middle;\n    }\n\n    .dataframe tbody tr th {\n        vertical-align: top;\n    }\n\n    .dataframe thead th {\n        text-align: right;\n    }\n</style>\n<table border=\"1\" class=\"dataframe\">\n  <thead>\n    <tr style=\"text-align: right;\">\n      <th></th>\n      <th>员工姓名</th>\n      <th>销售业绩</th>\n      <th>提成收入</th>\n      <th>工资</th>\n      <th>加班工资</th>\n      <th>加薪</th>\n      <th>过节费</th>\n      <th>生日礼金</th>\n      <th>收益</th>\n    </tr>\n  </thead>\n  <tbody>\n    <tr>\n      <th>0</th>\n      <td>赵一</td>\n      <td>30000.0</td>\n      <td>6000.0</td>\n      <td>9000</td>\n      <td>2900</td>\n      <td>300</td>\n      <td>NaN</td>\n      <td>NaN</td>\n      <td>20700.0</td>\n    </tr>\n    <tr>\n      <th>1</th>\n      <td>钱明</td>\n      <td>20000.0</td>\n      <td>4000.0</td>\n      <td>9000</td>\n      <td>2900</td>\n      <td>300</td>\n      <td>500.0</td>\n      <td>500.0</td>\n      <td>10700.0</td>\n    </tr>\n    <tr>\n      <th>2</th>\n      <td>周元</td>\n      <td>50000.0</td>\n      <td>10000.0</td>\n      <td>9000</td>\n      <td>2900</td>\n      <td>300</td>\n      <td>500.0</td>\n      <td>500.0</td>\n      <td>40700.0</td>\n    </tr>\n    <tr>\n      <th>3</th>\n      <td>李雷</td>\n      <td>NaN</td>\n      <td>NaN</td>\n      <td>9000</td>\n      <td>2900</td>\n      <td>300</td>\n      <td>500.0</td>\n      <td>500.0</td>\n      <td>NaN</td>\n    </tr>\n  </tbody>\n</table>\n</div>"
     },
     "execution_count": 25,
     "metadata": {},
     "output_type": "execute_result"
    }
   ],
   "source": [
    "df3['收益'] = df3.销售业绩-df3.工资-df3.加薪\n",
    "df3"
   ],
   "metadata": {
    "collapsed": false
   }
  },
  {
   "cell_type": "code",
   "execution_count": 24,
   "outputs": [
    {
     "data": {
      "text/plain": "  员工姓名     销售业绩     提成收入    工资  加班工资   加薪    过节费   生日礼金\n0   赵一  30000.0   6000.0  9000  2900  300    NaN    NaN\n1   钱明  20000.0   4000.0  9000  2900  300  500.0  500.0\n2   周元  50000.0  10000.0  9000  2900  300  500.0  500.0\n3   李雷      NaN      NaN  9000  2900  300  500.0  500.0",
      "text/html": "<div>\n<style scoped>\n    .dataframe tbody tr th:only-of-type {\n        vertical-align: middle;\n    }\n\n    .dataframe tbody tr th {\n        vertical-align: top;\n    }\n\n    .dataframe thead th {\n        text-align: right;\n    }\n</style>\n<table border=\"1\" class=\"dataframe\">\n  <thead>\n    <tr style=\"text-align: right;\">\n      <th></th>\n      <th>员工姓名</th>\n      <th>销售业绩</th>\n      <th>提成收入</th>\n      <th>工资</th>\n      <th>加班工资</th>\n      <th>加薪</th>\n      <th>过节费</th>\n      <th>生日礼金</th>\n    </tr>\n  </thead>\n  <tbody>\n    <tr>\n      <th>0</th>\n      <td>赵一</td>\n      <td>30000.0</td>\n      <td>6000.0</td>\n      <td>9000</td>\n      <td>2900</td>\n      <td>300</td>\n      <td>NaN</td>\n      <td>NaN</td>\n    </tr>\n    <tr>\n      <th>1</th>\n      <td>钱明</td>\n      <td>20000.0</td>\n      <td>4000.0</td>\n      <td>9000</td>\n      <td>2900</td>\n      <td>300</td>\n      <td>500.0</td>\n      <td>500.0</td>\n    </tr>\n    <tr>\n      <th>2</th>\n      <td>周元</td>\n      <td>50000.0</td>\n      <td>10000.0</td>\n      <td>9000</td>\n      <td>2900</td>\n      <td>300</td>\n      <td>500.0</td>\n      <td>500.0</td>\n    </tr>\n    <tr>\n      <th>3</th>\n      <td>李雷</td>\n      <td>NaN</td>\n      <td>NaN</td>\n      <td>9000</td>\n      <td>2900</td>\n      <td>300</td>\n      <td>500.0</td>\n      <td>500.0</td>\n    </tr>\n  </tbody>\n</table>\n</div>"
     },
     "execution_count": 24,
     "metadata": {},
     "output_type": "execute_result"
    }
   ],
   "source": [
    "df3['生日礼金']=pd.Series(500,index=[1,2,3,5])\n",
    "df3"
   ],
   "metadata": {
    "collapsed": false
   }
  },
  {
   "cell_type": "code",
   "execution_count": 20,
   "outputs": [
    {
     "data": {
      "text/plain": "  员工姓名     销售业绩     提成收入    工资  加班工资   加薪\n0   赵一  30000.0   6000.0  9000  2900  300\n1   钱明  20000.0   4000.0  9000  2900  300\n2   周元  50000.0  10000.0  9000  2900  300\n3   李雷      NaN      NaN  9000  2900  300",
      "text/html": "<div>\n<style scoped>\n    .dataframe tbody tr th:only-of-type {\n        vertical-align: middle;\n    }\n\n    .dataframe tbody tr th {\n        vertical-align: top;\n    }\n\n    .dataframe thead th {\n        text-align: right;\n    }\n</style>\n<table border=\"1\" class=\"dataframe\">\n  <thead>\n    <tr style=\"text-align: right;\">\n      <th></th>\n      <th>员工姓名</th>\n      <th>销售业绩</th>\n      <th>提成收入</th>\n      <th>工资</th>\n      <th>加班工资</th>\n      <th>加薪</th>\n    </tr>\n  </thead>\n  <tbody>\n    <tr>\n      <th>0</th>\n      <td>赵一</td>\n      <td>30000.0</td>\n      <td>6000.0</td>\n      <td>9000</td>\n      <td>2900</td>\n      <td>300</td>\n    </tr>\n    <tr>\n      <th>1</th>\n      <td>钱明</td>\n      <td>20000.0</td>\n      <td>4000.0</td>\n      <td>9000</td>\n      <td>2900</td>\n      <td>300</td>\n    </tr>\n    <tr>\n      <th>2</th>\n      <td>周元</td>\n      <td>50000.0</td>\n      <td>10000.0</td>\n      <td>9000</td>\n      <td>2900</td>\n      <td>300</td>\n    </tr>\n    <tr>\n      <th>3</th>\n      <td>李雷</td>\n      <td>NaN</td>\n      <td>NaN</td>\n      <td>9000</td>\n      <td>2900</td>\n      <td>300</td>\n    </tr>\n  </tbody>\n</table>\n</div>"
     },
     "execution_count": 20,
     "metadata": {},
     "output_type": "execute_result"
    }
   ],
   "source": [
    "df3['加薪']=300 #添加新列"
   ],
   "metadata": {
    "collapsed": false
   }
  },
  {
   "cell_type": "code",
   "execution_count": 19,
   "outputs": [
    {
     "data": {
      "text/plain": "  员工姓名     销售业绩     提成收入    工资  加班工资\n0   赵一  30000.0   6000.0  9000  2900\n1   钱明  20000.0   4000.0  9000  2900\n2   周元  50000.0  10000.0  9000  2900\n3   李雷      NaN      NaN  9000  2900",
      "text/html": "<div>\n<style scoped>\n    .dataframe tbody tr th:only-of-type {\n        vertical-align: middle;\n    }\n\n    .dataframe tbody tr th {\n        vertical-align: top;\n    }\n\n    .dataframe thead th {\n        text-align: right;\n    }\n</style>\n<table border=\"1\" class=\"dataframe\">\n  <thead>\n    <tr style=\"text-align: right;\">\n      <th></th>\n      <th>员工姓名</th>\n      <th>销售业绩</th>\n      <th>提成收入</th>\n      <th>工资</th>\n      <th>加班工资</th>\n    </tr>\n  </thead>\n  <tbody>\n    <tr>\n      <th>0</th>\n      <td>赵一</td>\n      <td>30000.0</td>\n      <td>6000.0</td>\n      <td>9000</td>\n      <td>2900</td>\n    </tr>\n    <tr>\n      <th>1</th>\n      <td>钱明</td>\n      <td>20000.0</td>\n      <td>4000.0</td>\n      <td>9000</td>\n      <td>2900</td>\n    </tr>\n    <tr>\n      <th>2</th>\n      <td>周元</td>\n      <td>50000.0</td>\n      <td>10000.0</td>\n      <td>9000</td>\n      <td>2900</td>\n    </tr>\n    <tr>\n      <th>3</th>\n      <td>李雷</td>\n      <td>NaN</td>\n      <td>NaN</td>\n      <td>9000</td>\n      <td>2900</td>\n    </tr>\n  </tbody>\n</table>\n</div>"
     },
     "execution_count": 19,
     "metadata": {},
     "output_type": "execute_result"
    }
   ],
   "source": [
    "df3['加班工资']=[2900 for i in range(4)]\n",
    "df3"
   ],
   "metadata": {
    "collapsed": false
   }
  },
  {
   "cell_type": "code",
   "execution_count": 18,
   "outputs": [
    {
     "data": {
      "text/plain": "  员工姓名     销售业绩     提成收入    工资\n0   赵一  30000.0   6000.0  9000\n1   钱明  20000.0   4000.0  9000\n2   周元  50000.0  10000.0  9000\n3   李雷      NaN      NaN  9000",
      "text/html": "<div>\n<style scoped>\n    .dataframe tbody tr th:only-of-type {\n        vertical-align: middle;\n    }\n\n    .dataframe tbody tr th {\n        vertical-align: top;\n    }\n\n    .dataframe thead th {\n        text-align: right;\n    }\n</style>\n<table border=\"1\" class=\"dataframe\">\n  <thead>\n    <tr style=\"text-align: right;\">\n      <th></th>\n      <th>员工姓名</th>\n      <th>销售业绩</th>\n      <th>提成收入</th>\n      <th>工资</th>\n    </tr>\n  </thead>\n  <tbody>\n    <tr>\n      <th>0</th>\n      <td>赵一</td>\n      <td>30000.0</td>\n      <td>6000.0</td>\n      <td>9000</td>\n    </tr>\n    <tr>\n      <th>1</th>\n      <td>钱明</td>\n      <td>20000.0</td>\n      <td>4000.0</td>\n      <td>9000</td>\n    </tr>\n    <tr>\n      <th>2</th>\n      <td>周元</td>\n      <td>50000.0</td>\n      <td>10000.0</td>\n      <td>9000</td>\n    </tr>\n    <tr>\n      <th>3</th>\n      <td>李雷</td>\n      <td>NaN</td>\n      <td>NaN</td>\n      <td>9000</td>\n    </tr>\n  </tbody>\n</table>\n</div>"
     },
     "execution_count": 18,
     "metadata": {},
     "output_type": "execute_result"
    }
   ],
   "source": [
    "import numpy as np\n",
    "import pandas as pd\n",
    "df3['工资']=[9000 for i in range(4)]\n",
    "df3"
   ],
   "metadata": {
    "collapsed": false
   }
  },
  {
   "cell_type": "code",
   "execution_count": null,
   "outputs": [],
   "source": [],
   "metadata": {
    "collapsed": false
   }
  },
  {
   "cell_type": "code",
   "execution_count": 13,
   "outputs": [
    {
     "data": {
      "text/plain": "  员工姓名     销售业绩     提成收入\n0   赵一  30000.0   6000.0\n1   钱明  20000.0   4000.0\n2   周元  50000.0  10000.0\n3   李雷      NaN      NaN",
      "text/html": "<div>\n<style scoped>\n    .dataframe tbody tr th:only-of-type {\n        vertical-align: middle;\n    }\n\n    .dataframe tbody tr th {\n        vertical-align: top;\n    }\n\n    .dataframe thead th {\n        text-align: right;\n    }\n</style>\n<table border=\"1\" class=\"dataframe\">\n  <thead>\n    <tr style=\"text-align: right;\">\n      <th></th>\n      <th>员工姓名</th>\n      <th>销售业绩</th>\n      <th>提成收入</th>\n    </tr>\n  </thead>\n  <tbody>\n    <tr>\n      <th>0</th>\n      <td>赵一</td>\n      <td>30000.0</td>\n      <td>6000.0</td>\n    </tr>\n    <tr>\n      <th>1</th>\n      <td>钱明</td>\n      <td>20000.0</td>\n      <td>4000.0</td>\n    </tr>\n    <tr>\n      <th>2</th>\n      <td>周元</td>\n      <td>50000.0</td>\n      <td>10000.0</td>\n    </tr>\n    <tr>\n      <th>3</th>\n      <td>李雷</td>\n      <td>NaN</td>\n      <td>NaN</td>\n    </tr>\n  </tbody>\n</table>\n</div>"
     },
     "execution_count": 13,
     "metadata": {},
     "output_type": "execute_result"
    }
   ],
   "source": [
    "import numpy as np\n",
    "import pandas as pd\n",
    "df3 = pd.DataFrame({\"员工姓名\":pd.Series([\"赵一\",\"钱明\",\"周元\",\"李雷\"])\n",
    "         ,\"销售业绩\":pd.Series([30000,20000,50000])\n",
    "         ,\"提成收入\":pd.Series([6000,4000,10000])})\n",
    "df3.head()"
   ],
   "metadata": {
    "collapsed": false
   }
  },
  {
   "cell_type": "code",
   "execution_count": 10,
   "outputs": [
    {
     "data": {
      "text/plain": "    员工姓名     销售业绩     提成收入  基本工资   社保金额     创造收益  工龄    年龄    公司名称 性别   状态\n005   王七  60000.0  12000.0  2500  125.0      NaN   3   NaN   大忽悠公司  男   在职\n006   赵三  60000.0  12000.0  2500  125.0  45375.0   3  34.0  脑洞有限公司  男  NaN",
      "text/html": "<div>\n<style scoped>\n    .dataframe tbody tr th:only-of-type {\n        vertical-align: middle;\n    }\n\n    .dataframe tbody tr th {\n        vertical-align: top;\n    }\n\n    .dataframe thead th {\n        text-align: right;\n    }\n</style>\n<table border=\"1\" class=\"dataframe\">\n  <thead>\n    <tr style=\"text-align: right;\">\n      <th></th>\n      <th>员工姓名</th>\n      <th>销售业绩</th>\n      <th>提成收入</th>\n      <th>基本工资</th>\n      <th>社保金额</th>\n      <th>创造收益</th>\n      <th>工龄</th>\n      <th>年龄</th>\n      <th>公司名称</th>\n      <th>性别</th>\n      <th>状态</th>\n    </tr>\n  </thead>\n  <tbody>\n    <tr>\n      <th>005</th>\n      <td>王七</td>\n      <td>60000.0</td>\n      <td>12000.0</td>\n      <td>2500</td>\n      <td>125.0</td>\n      <td>NaN</td>\n      <td>3</td>\n      <td>NaN</td>\n      <td>大忽悠公司</td>\n      <td>男</td>\n      <td>在职</td>\n    </tr>\n    <tr>\n      <th>006</th>\n      <td>赵三</td>\n      <td>60000.0</td>\n      <td>12000.0</td>\n      <td>2500</td>\n      <td>125.0</td>\n      <td>45375.0</td>\n      <td>3</td>\n      <td>34.0</td>\n      <td>脑洞有限公司</td>\n      <td>男</td>\n      <td>NaN</td>\n    </tr>\n  </tbody>\n</table>\n</div>"
     },
     "execution_count": 10,
     "metadata": {},
     "output_type": "execute_result"
    }
   ],
   "source": [
    "df3.loc[df3.销售业绩==df3.销售业绩.max(),]"
   ],
   "metadata": {
    "collapsed": false
   }
  },
  {
   "cell_type": "code",
   "execution_count": 8,
   "outputs": [
    {
     "data": {
      "text/plain": "    员工姓名     销售业绩     提成收入  基本工资   社保金额     创造收益  工龄    年龄    公司名称   性别   状态\n001   赵一  30000.0   6000.0  2500   75.0  21500.0   1  27.0   大忽悠公司    男   在职\n002   钱明  20000.0   4000.0  2500   75.0  13500.0   2  30.0   大忽悠公司  NaN  不在职\n003   周元  50000.0  10000.0  2500   75.0  37500.0   5   NaN   大忽悠公司    女  不在职\n004   李雷      NaN      NaN  2500   75.0      NaN   3  36.0   大忽悠公司  NaN   在职\n005   王七  60000.0  12000.0  2500  125.0      NaN   3   NaN   大忽悠公司    男   在职\n006   赵三  60000.0  12000.0  2500  125.0  45375.0   3  34.0  脑洞有限公司    男  NaN\n007   赵六  50000.0  10000.0  2500  125.0  37500.0   2  24.0     NaN    女   在职",
      "text/html": "<div>\n<style scoped>\n    .dataframe tbody tr th:only-of-type {\n        vertical-align: middle;\n    }\n\n    .dataframe tbody tr th {\n        vertical-align: top;\n    }\n\n    .dataframe thead th {\n        text-align: right;\n    }\n</style>\n<table border=\"1\" class=\"dataframe\">\n  <thead>\n    <tr style=\"text-align: right;\">\n      <th></th>\n      <th>员工姓名</th>\n      <th>销售业绩</th>\n      <th>提成收入</th>\n      <th>基本工资</th>\n      <th>社保金额</th>\n      <th>创造收益</th>\n      <th>工龄</th>\n      <th>年龄</th>\n      <th>公司名称</th>\n      <th>性别</th>\n      <th>状态</th>\n    </tr>\n  </thead>\n  <tbody>\n    <tr>\n      <th>001</th>\n      <td>赵一</td>\n      <td>30000.0</td>\n      <td>6000.0</td>\n      <td>2500</td>\n      <td>75.0</td>\n      <td>21500.0</td>\n      <td>1</td>\n      <td>27.0</td>\n      <td>大忽悠公司</td>\n      <td>男</td>\n      <td>在职</td>\n    </tr>\n    <tr>\n      <th>002</th>\n      <td>钱明</td>\n      <td>20000.0</td>\n      <td>4000.0</td>\n      <td>2500</td>\n      <td>75.0</td>\n      <td>13500.0</td>\n      <td>2</td>\n      <td>30.0</td>\n      <td>大忽悠公司</td>\n      <td>NaN</td>\n      <td>不在职</td>\n    </tr>\n    <tr>\n      <th>003</th>\n      <td>周元</td>\n      <td>50000.0</td>\n      <td>10000.0</td>\n      <td>2500</td>\n      <td>75.0</td>\n      <td>37500.0</td>\n      <td>5</td>\n      <td>NaN</td>\n      <td>大忽悠公司</td>\n      <td>女</td>\n      <td>不在职</td>\n    </tr>\n    <tr>\n      <th>004</th>\n      <td>李雷</td>\n      <td>NaN</td>\n      <td>NaN</td>\n      <td>2500</td>\n      <td>75.0</td>\n      <td>NaN</td>\n      <td>3</td>\n      <td>36.0</td>\n      <td>大忽悠公司</td>\n      <td>NaN</td>\n      <td>在职</td>\n    </tr>\n    <tr>\n      <th>005</th>\n      <td>王七</td>\n      <td>60000.0</td>\n      <td>12000.0</td>\n      <td>2500</td>\n      <td>125.0</td>\n      <td>NaN</td>\n      <td>3</td>\n      <td>NaN</td>\n      <td>大忽悠公司</td>\n      <td>男</td>\n      <td>在职</td>\n    </tr>\n    <tr>\n      <th>006</th>\n      <td>赵三</td>\n      <td>60000.0</td>\n      <td>12000.0</td>\n      <td>2500</td>\n      <td>125.0</td>\n      <td>45375.0</td>\n      <td>3</td>\n      <td>34.0</td>\n      <td>脑洞有限公司</td>\n      <td>男</td>\n      <td>NaN</td>\n    </tr>\n    <tr>\n      <th>007</th>\n      <td>赵六</td>\n      <td>50000.0</td>\n      <td>10000.0</td>\n      <td>2500</td>\n      <td>125.0</td>\n      <td>37500.0</td>\n      <td>2</td>\n      <td>24.0</td>\n      <td>NaN</td>\n      <td>女</td>\n      <td>在职</td>\n    </tr>\n  </tbody>\n</table>\n</div>"
     },
     "execution_count": 8,
     "metadata": {},
     "output_type": "execute_result"
    }
   ],
   "source": [
    "import numpy as np\n",
    "import pandas as pd\n",
    "\n",
    "dict3 = {'员工姓名': ['赵一', '钱明', '周元', '李雷', '王七', '赵三', '赵六'],\n",
    "         '销售业绩': [30000.0, 20000.0, 50000.0, np.NaN, 60000.0, 60000.0, 50000.0],\n",
    "         '提成收入': [6000.0, 4000.0, 10000.0, np.NaN, 12000.0, 12000.0, 10000.0],\n",
    "         '基本工资': [2500, 2500, 2500, 2500, 2500, 2500, 2500],\n",
    "         '社保金额': [75.0, 75.0, 75.0, 75.0, 125.0, 125.0, 125.0],\n",
    "         '创造收益': [21500.0, 13500.0, 37500.0, np.NaN, np.NaN, 45375.0, 37500.0],\n",
    "         '工龄': [1, 2, 5, 3, 3, 3, 2],\n",
    "         '年龄': [27.0, 30.0, np.NaN, 36.0, np.NaN, 34.0, 24.0],\n",
    "         '公司名称': ['大忽悠公司', '大忽悠公司', '大忽悠公司', '大忽悠公司', '大忽悠公司', '脑洞有限公司', np.NaN],\n",
    "         '性别': ['男', np.NaN, '女', np.NaN, '男', '男', '女'],\n",
    "         '状态': ['在职', '不在职', '不在职', '在职', '在职', np.NaN, '在职']\n",
    "         }\n",
    "\n",
    "df3 = pd.DataFrame(dict3, index=[\"{:>03}\".format(i) for i in range(1, 8)])\n",
    "df3"
   ],
   "metadata": {
    "collapsed": false
   }
  },
  {
   "cell_type": "code",
   "execution_count": 3,
   "outputs": [],
   "source": [
    "from IPython.core.interactiveshell import InteractiveShell\n",
    "InteractiveShell.ast_node_interactivity = \"all\""
   ],
   "metadata": {
    "collapsed": false
   }
  },
  {
   "cell_type": "code",
   "execution_count": 1,
   "outputs": [],
   "source": [
    "import numpy as np\n",
    "import pandas as pd\n",
    "dict3 = {'员工姓名': ['赵一','钱明','周元','李雷','王七','赵三','赵六'],\n",
    "         '销售业绩': [30000.0,20000.0,50000.0,np.NaN,60000.0,60000.0,50000.0],\n",
    "         '提成收入': [6000.0,4000.0,10000.0,np.NaN,12000.0,12000.0,10000.0],\n",
    "         '基本工资':  [2500,2500,2500,2500,2500,2500,2500],\n",
    "         '社保金额': [75.0,75.0,75.0,75.0,125.0,125.0,125.0],\n",
    "         '创造收益': [21500.0,13500.0,37500.0,np.NaN,np.NaN,45375.0,37500.0],\n",
    "         '工龄': [1,  2,  5,  3, 3, 3,  2],\n",
    "         '年龄': [27.0,30.0,np.NaN,36.0,np.NaN,34.0,24.0],\n",
    "         '公司名称':['大忽悠公司','大忽悠公司','大忽悠公司','大忽悠公司','大忽悠公司','脑洞有限公司',np.NaN],\n",
    "         '性别': ['男',np.NaN,'女',np.NaN,'男','男','女'],\n",
    "         '状态': ['在职','不在职','不在职','在职','在职',np.NaN,'在职']\n",
    "    }\n",
    "\n",
    "df3 = pd.DataFrame(dict3,index=[\"{:>03}\".format(i) for i in range(1,8)])"
   ],
   "metadata": {
    "collapsed": false
   }
  },
  {
   "cell_type": "code",
   "execution_count": 43,
   "outputs": [
    {
     "ename": "InvalidIndexError",
     "evalue": "(slice(None, None, None), ['承保公司'])",
     "output_type": "error",
     "traceback": [
      "\u001B[1;31m---------------------------------------------------------------------------\u001B[0m",
      "\u001B[1;31mTypeError\u001B[0m                                 Traceback (most recent call last)",
      "File \u001B[1;32mC:\\ProgramData\\Anaconda3\\envs\\pythonProject_anaconda\\lib\\site-packages\\pandas\\core\\indexes\\base.py:3803\u001B[0m, in \u001B[0;36mIndex.get_loc\u001B[1;34m(self, key, method, tolerance)\u001B[0m\n\u001B[0;32m   3802\u001B[0m \u001B[38;5;28;01mtry\u001B[39;00m:\n\u001B[1;32m-> 3803\u001B[0m     \u001B[38;5;28;01mreturn\u001B[39;00m \u001B[38;5;28;43mself\u001B[39;49m\u001B[38;5;241;43m.\u001B[39;49m\u001B[43m_engine\u001B[49m\u001B[38;5;241;43m.\u001B[39;49m\u001B[43mget_loc\u001B[49m\u001B[43m(\u001B[49m\u001B[43mcasted_key\u001B[49m\u001B[43m)\u001B[49m\n\u001B[0;32m   3804\u001B[0m \u001B[38;5;28;01mexcept\u001B[39;00m \u001B[38;5;167;01mKeyError\u001B[39;00m \u001B[38;5;28;01mas\u001B[39;00m err:\n",
      "File \u001B[1;32mC:\\ProgramData\\Anaconda3\\envs\\pythonProject_anaconda\\lib\\site-packages\\pandas\\_libs\\index.pyx:138\u001B[0m, in \u001B[0;36mpandas._libs.index.IndexEngine.get_loc\u001B[1;34m()\u001B[0m\n",
      "File \u001B[1;32mC:\\ProgramData\\Anaconda3\\envs\\pythonProject_anaconda\\lib\\site-packages\\pandas\\_libs\\index.pyx:144\u001B[0m, in \u001B[0;36mpandas._libs.index.IndexEngine.get_loc\u001B[1;34m()\u001B[0m\n",
      "\u001B[1;31mTypeError\u001B[0m: '(slice(None, None, None), ['承保公司'])' is an invalid key",
      "\nDuring handling of the above exception, another exception occurred:\n",
      "\u001B[1;31mInvalidIndexError\u001B[0m                         Traceback (most recent call last)",
      "Cell \u001B[1;32mIn[43], line 6\u001B[0m\n\u001B[0;32m      4\u001B[0m df4 \u001B[38;5;241m=\u001B[39m pd\u001B[38;5;241m.\u001B[39mread_excel(\u001B[38;5;124mr\u001B[39m\u001B[38;5;124m\"\u001B[39m\u001B[38;5;124mC:\u001B[39m\u001B[38;5;124m\\\u001B[39m\u001B[38;5;124mUsers\u001B[39m\u001B[38;5;124m\\\u001B[39m\u001B[38;5;124mfzh00\u001B[39m\u001B[38;5;124m\\\u001B[39m\u001B[38;5;124mDesktop\u001B[39m\u001B[38;5;124m\\\u001B[39m\u001B[38;5;124m文件\u001B[39m\u001B[38;5;124m\\\u001B[39m\u001B[38;5;124m1、Python数据清洗基础\u001B[39m\u001B[38;5;124m\\\u001B[39m\u001B[38;5;124m理赔工单.xlsx\u001B[39m\u001B[38;5;124m\"\u001B[39m, sheet_name\u001B[38;5;241m=\u001B[39m\u001B[38;5;124m'\u001B[39m\u001B[38;5;124m协助理赔-保单号\u001B[39m\u001B[38;5;124m'\u001B[39m)\n\u001B[0;32m      5\u001B[0m df5 \u001B[38;5;241m=\u001B[39m df4[[\u001B[38;5;124m'\u001B[39m\u001B[38;5;124m工单编号\u001B[39m\u001B[38;5;124m'\u001B[39m, \u001B[38;5;124m'\u001B[39m\u001B[38;5;124m供应商\u001B[39m\u001B[38;5;124m'\u001B[39m, \u001B[38;5;124m'\u001B[39m\u001B[38;5;124m承保公司\u001B[39m\u001B[38;5;124m'\u001B[39m, \u001B[38;5;124m'\u001B[39m\u001B[38;5;124m险种\u001B[39m\u001B[38;5;124m'\u001B[39m, \u001B[38;5;124m'\u001B[39m\u001B[38;5;124m产品名称\u001B[39m\u001B[38;5;124m'\u001B[39m, \u001B[38;5;124m'\u001B[39m\u001B[38;5;124m赔付金额\u001B[39m\u001B[38;5;124m'\u001B[39m, \u001B[38;5;124m'\u001B[39m\u001B[38;5;124m理赔时效\u001B[39m\u001B[38;5;124m'\u001B[39m]]\n\u001B[1;32m----> 6\u001B[0m \u001B[43mdf5\u001B[49m\u001B[43m[\u001B[49m\u001B[43m:\u001B[49m\u001B[43m,\u001B[49m\u001B[43m[\u001B[49m\u001B[38;5;124;43m'\u001B[39;49m\u001B[38;5;124;43m承保公司\u001B[39;49m\u001B[38;5;124;43m'\u001B[39;49m\u001B[43m]\u001B[49m\u001B[43m]\u001B[49m\n\u001B[0;32m      7\u001B[0m df5\u001B[38;5;241m.\u001B[39mshape\n\u001B[0;32m      8\u001B[0m df5\u001B[38;5;241m.\u001B[39mhead()\n",
      "File \u001B[1;32mC:\\ProgramData\\Anaconda3\\envs\\pythonProject_anaconda\\lib\\site-packages\\pandas\\core\\frame.py:3805\u001B[0m, in \u001B[0;36mDataFrame.__getitem__\u001B[1;34m(self, key)\u001B[0m\n\u001B[0;32m   3803\u001B[0m \u001B[38;5;28;01mif\u001B[39;00m \u001B[38;5;28mself\u001B[39m\u001B[38;5;241m.\u001B[39mcolumns\u001B[38;5;241m.\u001B[39mnlevels \u001B[38;5;241m>\u001B[39m \u001B[38;5;241m1\u001B[39m:\n\u001B[0;32m   3804\u001B[0m     \u001B[38;5;28;01mreturn\u001B[39;00m \u001B[38;5;28mself\u001B[39m\u001B[38;5;241m.\u001B[39m_getitem_multilevel(key)\n\u001B[1;32m-> 3805\u001B[0m indexer \u001B[38;5;241m=\u001B[39m \u001B[38;5;28;43mself\u001B[39;49m\u001B[38;5;241;43m.\u001B[39;49m\u001B[43mcolumns\u001B[49m\u001B[38;5;241;43m.\u001B[39;49m\u001B[43mget_loc\u001B[49m\u001B[43m(\u001B[49m\u001B[43mkey\u001B[49m\u001B[43m)\u001B[49m\n\u001B[0;32m   3806\u001B[0m \u001B[38;5;28;01mif\u001B[39;00m is_integer(indexer):\n\u001B[0;32m   3807\u001B[0m     indexer \u001B[38;5;241m=\u001B[39m [indexer]\n",
      "File \u001B[1;32mC:\\ProgramData\\Anaconda3\\envs\\pythonProject_anaconda\\lib\\site-packages\\pandas\\core\\indexes\\base.py:3810\u001B[0m, in \u001B[0;36mIndex.get_loc\u001B[1;34m(self, key, method, tolerance)\u001B[0m\n\u001B[0;32m   3805\u001B[0m         \u001B[38;5;28;01mraise\u001B[39;00m \u001B[38;5;167;01mKeyError\u001B[39;00m(key) \u001B[38;5;28;01mfrom\u001B[39;00m \u001B[38;5;21;01merr\u001B[39;00m\n\u001B[0;32m   3806\u001B[0m     \u001B[38;5;28;01mexcept\u001B[39;00m \u001B[38;5;167;01mTypeError\u001B[39;00m:\n\u001B[0;32m   3807\u001B[0m         \u001B[38;5;66;03m# If we have a listlike key, _check_indexing_error will raise\u001B[39;00m\n\u001B[0;32m   3808\u001B[0m         \u001B[38;5;66;03m#  InvalidIndexError. Otherwise we fall through and re-raise\u001B[39;00m\n\u001B[0;32m   3809\u001B[0m         \u001B[38;5;66;03m#  the TypeError.\u001B[39;00m\n\u001B[1;32m-> 3810\u001B[0m         \u001B[38;5;28;43mself\u001B[39;49m\u001B[38;5;241;43m.\u001B[39;49m\u001B[43m_check_indexing_error\u001B[49m\u001B[43m(\u001B[49m\u001B[43mkey\u001B[49m\u001B[43m)\u001B[49m\n\u001B[0;32m   3811\u001B[0m         \u001B[38;5;28;01mraise\u001B[39;00m\n\u001B[0;32m   3813\u001B[0m \u001B[38;5;66;03m# GH#42269\u001B[39;00m\n",
      "File \u001B[1;32mC:\\ProgramData\\Anaconda3\\envs\\pythonProject_anaconda\\lib\\site-packages\\pandas\\core\\indexes\\base.py:5968\u001B[0m, in \u001B[0;36mIndex._check_indexing_error\u001B[1;34m(self, key)\u001B[0m\n\u001B[0;32m   5964\u001B[0m \u001B[38;5;28;01mdef\u001B[39;00m \u001B[38;5;21m_check_indexing_error\u001B[39m(\u001B[38;5;28mself\u001B[39m, key):\n\u001B[0;32m   5965\u001B[0m     \u001B[38;5;28;01mif\u001B[39;00m \u001B[38;5;129;01mnot\u001B[39;00m is_scalar(key):\n\u001B[0;32m   5966\u001B[0m         \u001B[38;5;66;03m# if key is not a scalar, directly raise an error (the code below\u001B[39;00m\n\u001B[0;32m   5967\u001B[0m         \u001B[38;5;66;03m# would convert to numpy arrays and raise later any way) - GH29926\u001B[39;00m\n\u001B[1;32m-> 5968\u001B[0m         \u001B[38;5;28;01mraise\u001B[39;00m InvalidIndexError(key)\n",
      "\u001B[1;31mInvalidIndexError\u001B[0m: (slice(None, None, None), ['承保公司'])"
     ]
    }
   ],
   "source": [
    "import numpy as np\n",
    "import pandas as pd\n",
    "\n",
    "df4 = pd.read_excel(r\"C:\\Users\\fzh00\\Desktop\\文件\\1、Python数据清洗基础\\理赔工单.xlsx\", sheet_name='协助理赔-保单号')\n",
    "df5 = df4[['工单编号', '供应商', '承保公司', '险种', '产品名称', '赔付金额', '理赔时效']]\n",
    "df5.shape\n",
    "df5.head()\n",
    "type(df5)"
   ],
   "metadata": {
    "collapsed": false
   }
  },
  {
   "cell_type": "code",
   "execution_count": 26,
   "outputs": [
    {
     "data": {
      "text/plain": "'C:\\\\ProgramData\\\\Anaconda3\\\\envs\\\\pythonProject_anaconda\\\\lib\\\\os.py'"
     },
     "execution_count": 26,
     "metadata": {},
     "output_type": "execute_result"
    }
   ],
   "source": [
    "import os\n",
    "os.__file__"
   ],
   "metadata": {
    "collapsed": false
   }
  },
  {
   "cell_type": "code",
   "execution_count": 28,
   "outputs": [
    {
     "data": {
      "text/plain": "(1642, 7)"
     },
     "execution_count": 28,
     "metadata": {},
     "output_type": "execute_result"
    },
    {
     "data": {
      "text/plain": "pandas.core.frame.DataFrame"
     },
     "execution_count": 28,
     "metadata": {},
     "output_type": "execute_result"
    },
    {
     "data": {
      "text/plain": "   序号    工单编号  工单类型  工单来源 工单创建人 工单创建人组别 当前处理人 当前处理人组别               工单创建时间  \\\n0   1  345292  协助理赔  手动创建    肖楠   业务支持组    肖楠   业务支持组  2021-06-27 11:00:11   \n1   2  345448  协助理赔  手动创建    肖楠   业务支持组   黎露明     理赔组  2021-06-27 15:06:50   \n2   3  345449  协助理赔  手动创建    肖楠   业务支持组   梁广裕   业务支持组  2021-06-27 15:10:16   \n3   4  345522  协助理赔  手动创建   黄嘉丽   客户运营组   王晓倩   业务支持组  2021-06-27 16:22:16   \n4   5  346702  协助理赔  手动创建   韩玲玲   客户关系组   王晓倩   业务支持组  2021-06-28 14:25:23   \n\n                工单完结时间  ...      提交资料时间           提交资料方式 案件状态  赔付金额  \\\n0  2021-06-27 11:01:05  ...         NaN              NaN  NaN   NaN   \n1  2021-07-09 11:41:29  ...         NaN              NaN  NaN   NaN   \n2  2021-10-25 20:29:03  ...  2021-06-28  在线上传（微信公众号自助上传）  已赔付  1000   \n3  2021-07-09 18:14:29  ...         NaN              NaN  NaN   NaN   \n4  2021-07-05 17:58:31  ...         NaN              NaN  NaN   NaN   \n\n                  结案时间 理赔时效 是否超时 超时原因  \\\n0                  NaN  NaN   --  NaN   \n1                  NaN  NaN   --  NaN   \n2  2021-07-05 08:00:00  7.0    否  NaN   \n3                  NaN  NaN   --  NaN   \n4                  NaN  NaN   --  NaN   \n\n                                          最新一次案件跟进进度  \\\n0                             2021-06-25结案，金额:192.48   \n1  根据客户提供的出院记录资料，诊断为：1、致密性骨炎；2、骶骼关节炎，没有达到重疾险的申请标准...   \n2    我们只是帮客户处理了上传资料的问题，具体的案件情况不清楚，赔付的时间和金额客户只告知了大致情况   \n3                                   客户觉得没什么问题，不需要理赔了   \n4                        理赔计算书已上传附件，已经跟客户解释，本次理赔并无差错   \n\n                                                跟进日志  \n0  [{\"code\":\"follow_log\",\"content\":\"报案号：192021321...  \n1  [{\"code\":\"follow_log\",\"content\":\"横琴人寿——无忧人生202...  \n2  [{\"code\":\"follow_log\",\"content\":\"客户自己联系保司报案，通过...  \n3  [{\"code\":\"follow_log\",\"content\":\"工单类型为协助理赔，发起流...  \n4  [{\"code\":\"follow_log\",\"content\":\"工单类型为协助理赔，发起流...  \n\n[5 rows x 53 columns]",
      "text/html": "<div>\n<style scoped>\n    .dataframe tbody tr th:only-of-type {\n        vertical-align: middle;\n    }\n\n    .dataframe tbody tr th {\n        vertical-align: top;\n    }\n\n    .dataframe thead th {\n        text-align: right;\n    }\n</style>\n<table border=\"1\" class=\"dataframe\">\n  <thead>\n    <tr style=\"text-align: right;\">\n      <th></th>\n      <th>序号</th>\n      <th>工单编号</th>\n      <th>工单类型</th>\n      <th>工单来源</th>\n      <th>工单创建人</th>\n      <th>工单创建人组别</th>\n      <th>当前处理人</th>\n      <th>当前处理人组别</th>\n      <th>工单创建时间</th>\n      <th>工单完结时间</th>\n      <th>...</th>\n      <th>提交资料时间</th>\n      <th>提交资料方式</th>\n      <th>案件状态</th>\n      <th>赔付金额</th>\n      <th>结案时间</th>\n      <th>理赔时效</th>\n      <th>是否超时</th>\n      <th>超时原因</th>\n      <th>最新一次案件跟进进度</th>\n      <th>跟进日志</th>\n    </tr>\n  </thead>\n  <tbody>\n    <tr>\n      <th>0</th>\n      <td>1</td>\n      <td>345292</td>\n      <td>协助理赔</td>\n      <td>手动创建</td>\n      <td>肖楠</td>\n      <td>业务支持组</td>\n      <td>肖楠</td>\n      <td>业务支持组</td>\n      <td>2021-06-27 11:00:11</td>\n      <td>2021-06-27 11:01:05</td>\n      <td>...</td>\n      <td>NaN</td>\n      <td>NaN</td>\n      <td>NaN</td>\n      <td>NaN</td>\n      <td>NaN</td>\n      <td>NaN</td>\n      <td>--</td>\n      <td>NaN</td>\n      <td>2021-06-25结案，金额:192.48</td>\n      <td>[{\"code\":\"follow_log\",\"content\":\"报案号：192021321...</td>\n    </tr>\n    <tr>\n      <th>1</th>\n      <td>2</td>\n      <td>345448</td>\n      <td>协助理赔</td>\n      <td>手动创建</td>\n      <td>肖楠</td>\n      <td>业务支持组</td>\n      <td>黎露明</td>\n      <td>理赔组</td>\n      <td>2021-06-27 15:06:50</td>\n      <td>2021-07-09 11:41:29</td>\n      <td>...</td>\n      <td>NaN</td>\n      <td>NaN</td>\n      <td>NaN</td>\n      <td>NaN</td>\n      <td>NaN</td>\n      <td>NaN</td>\n      <td>--</td>\n      <td>NaN</td>\n      <td>根据客户提供的出院记录资料，诊断为：1、致密性骨炎；2、骶骼关节炎，没有达到重疾险的申请标准...</td>\n      <td>[{\"code\":\"follow_log\",\"content\":\"横琴人寿——无忧人生202...</td>\n    </tr>\n    <tr>\n      <th>2</th>\n      <td>3</td>\n      <td>345449</td>\n      <td>协助理赔</td>\n      <td>手动创建</td>\n      <td>肖楠</td>\n      <td>业务支持组</td>\n      <td>梁广裕</td>\n      <td>业务支持组</td>\n      <td>2021-06-27 15:10:16</td>\n      <td>2021-10-25 20:29:03</td>\n      <td>...</td>\n      <td>2021-06-28</td>\n      <td>在线上传（微信公众号自助上传）</td>\n      <td>已赔付</td>\n      <td>1000</td>\n      <td>2021-07-05 08:00:00</td>\n      <td>7.0</td>\n      <td>否</td>\n      <td>NaN</td>\n      <td>我们只是帮客户处理了上传资料的问题，具体的案件情况不清楚，赔付的时间和金额客户只告知了大致情况</td>\n      <td>[{\"code\":\"follow_log\",\"content\":\"客户自己联系保司报案，通过...</td>\n    </tr>\n    <tr>\n      <th>3</th>\n      <td>4</td>\n      <td>345522</td>\n      <td>协助理赔</td>\n      <td>手动创建</td>\n      <td>黄嘉丽</td>\n      <td>客户运营组</td>\n      <td>王晓倩</td>\n      <td>业务支持组</td>\n      <td>2021-06-27 16:22:16</td>\n      <td>2021-07-09 18:14:29</td>\n      <td>...</td>\n      <td>NaN</td>\n      <td>NaN</td>\n      <td>NaN</td>\n      <td>NaN</td>\n      <td>NaN</td>\n      <td>NaN</td>\n      <td>--</td>\n      <td>NaN</td>\n      <td>客户觉得没什么问题，不需要理赔了</td>\n      <td>[{\"code\":\"follow_log\",\"content\":\"工单类型为协助理赔，发起流...</td>\n    </tr>\n    <tr>\n      <th>4</th>\n      <td>5</td>\n      <td>346702</td>\n      <td>协助理赔</td>\n      <td>手动创建</td>\n      <td>韩玲玲</td>\n      <td>客户关系组</td>\n      <td>王晓倩</td>\n      <td>业务支持组</td>\n      <td>2021-06-28 14:25:23</td>\n      <td>2021-07-05 17:58:31</td>\n      <td>...</td>\n      <td>NaN</td>\n      <td>NaN</td>\n      <td>NaN</td>\n      <td>NaN</td>\n      <td>NaN</td>\n      <td>NaN</td>\n      <td>--</td>\n      <td>NaN</td>\n      <td>理赔计算书已上传附件，已经跟客户解释，本次理赔并无差错</td>\n      <td>[{\"code\":\"follow_log\",\"content\":\"工单类型为协助理赔，发起流...</td>\n    </tr>\n  </tbody>\n</table>\n<p>5 rows × 53 columns</p>\n</div>"
     },
     "execution_count": 28,
     "metadata": {},
     "output_type": "execute_result"
    },
    {
     "data": {
      "text/plain": "   total_bill   tip  sex smoker day    time  size\n0       16.99  1.01    女    NaN  周日  Dinner   2.0\n1       10.34  1.66    男     No  周日  Dinner   3.0\n2       21.01  3.50    男     No  周日  Dinner   3.0\n3       23.68  3.31  NaN    NaN  周日  Dinner   2.0\n4       24.59  3.61    女    NaN  周日  Dinner   4.0",
      "text/html": "<div>\n<style scoped>\n    .dataframe tbody tr th:only-of-type {\n        vertical-align: middle;\n    }\n\n    .dataframe tbody tr th {\n        vertical-align: top;\n    }\n\n    .dataframe thead th {\n        text-align: right;\n    }\n</style>\n<table border=\"1\" class=\"dataframe\">\n  <thead>\n    <tr style=\"text-align: right;\">\n      <th></th>\n      <th>total_bill</th>\n      <th>tip</th>\n      <th>sex</th>\n      <th>smoker</th>\n      <th>day</th>\n      <th>time</th>\n      <th>size</th>\n    </tr>\n  </thead>\n  <tbody>\n    <tr>\n      <th>0</th>\n      <td>16.99</td>\n      <td>1.01</td>\n      <td>女</td>\n      <td>NaN</td>\n      <td>周日</td>\n      <td>Dinner</td>\n      <td>2.0</td>\n    </tr>\n    <tr>\n      <th>1</th>\n      <td>10.34</td>\n      <td>1.66</td>\n      <td>男</td>\n      <td>No</td>\n      <td>周日</td>\n      <td>Dinner</td>\n      <td>3.0</td>\n    </tr>\n    <tr>\n      <th>2</th>\n      <td>21.01</td>\n      <td>3.50</td>\n      <td>男</td>\n      <td>No</td>\n      <td>周日</td>\n      <td>Dinner</td>\n      <td>3.0</td>\n    </tr>\n    <tr>\n      <th>3</th>\n      <td>23.68</td>\n      <td>3.31</td>\n      <td>NaN</td>\n      <td>NaN</td>\n      <td>周日</td>\n      <td>Dinner</td>\n      <td>2.0</td>\n    </tr>\n    <tr>\n      <th>4</th>\n      <td>24.59</td>\n      <td>3.61</td>\n      <td>女</td>\n      <td>NaN</td>\n      <td>周日</td>\n      <td>Dinner</td>\n      <td>4.0</td>\n    </tr>\n  </tbody>\n</table>\n</div>"
     },
     "execution_count": 28,
     "metadata": {},
     "output_type": "execute_result"
    }
   ],
   "source": [
    "import numpy as np\n",
    "import pandas as pd\n",
    "df4 = pd.read_excel(r\"C:\\Users\\fzh00\\Desktop\\文件\\1、Python数据清洗基础\\理赔工单.xlsx\",sheet_name='协助理赔-保单号')\n",
    "df5 = df4[['工单编号','供应商','承保公司','险种','产品名称','赔付金额','理赔时效']]\n",
    "df5.shape\n",
    "\n",
    "type(df4)\n",
    "df4.head()\n",
    "df2 = pd.read_csv(r\"C:\\Users\\fzh00\\Desktop\\文件\\1、Python数据清洗基础\\data\\tips_na.csv\")\n",
    "df2.head()"
   ],
   "metadata": {
    "collapsed": false
   }
  },
  {
   "cell_type": "code",
   "execution_count": 19,
   "outputs": [
    {
     "name": "stdout",
     "output_type": "stream",
     "text": [
      "<class 'pandas.core.frame.DataFrame'>\n",
      "RangeIndex: 4 entries, 0 to 3\n",
      "Data columns (total 4 columns):\n",
      " #   Column  Non-Null Count  Dtype \n",
      "---  ------  --------------  ----- \n",
      " 0   用户id    4 non-null      object\n",
      " 1   姓名      4 non-null      object\n",
      " 2   性别      3 non-null      object\n",
      " 3   学历      4 non-null      object\n",
      "dtypes: object(4)\n",
      "memory usage: 256.0+ bytes\n"
     ]
    },
    {
     "data": {
      "text/plain": "    用户id  姓名   性别  学历\n0  xxx01  张三    女  初中\n1  xxx02  李四    男  高中\n2  xxx03  王五  NaN  初中\n3  xxx04  赵六    女  大学",
      "text/html": "<div>\n<style scoped>\n    .dataframe tbody tr th:only-of-type {\n        vertical-align: middle;\n    }\n\n    .dataframe tbody tr th {\n        vertical-align: top;\n    }\n\n    .dataframe thead th {\n        text-align: right;\n    }\n</style>\n<table border=\"1\" class=\"dataframe\">\n  <thead>\n    <tr style=\"text-align: right;\">\n      <th></th>\n      <th>用户id</th>\n      <th>姓名</th>\n      <th>性别</th>\n      <th>学历</th>\n    </tr>\n  </thead>\n  <tbody>\n    <tr>\n      <th>0</th>\n      <td>xxx01</td>\n      <td>张三</td>\n      <td>女</td>\n      <td>初中</td>\n    </tr>\n    <tr>\n      <th>1</th>\n      <td>xxx02</td>\n      <td>李四</td>\n      <td>男</td>\n      <td>高中</td>\n    </tr>\n    <tr>\n      <th>2</th>\n      <td>xxx03</td>\n      <td>王五</td>\n      <td>NaN</td>\n      <td>初中</td>\n    </tr>\n    <tr>\n      <th>3</th>\n      <td>xxx04</td>\n      <td>赵六</td>\n      <td>女</td>\n      <td>大学</td>\n    </tr>\n  </tbody>\n</table>\n</div>"
     },
     "execution_count": 19,
     "metadata": {},
     "output_type": "execute_result"
    },
    {
     "data": {
      "text/plain": "   total_bill   tip  sex smoker day    time  size\n0       16.99  1.01    女    NaN  周日  Dinner   2.0\n1       10.34  1.66    男     No  周日  Dinner   3.0\n2       21.01  3.50    男     No  周日  Dinner   3.0\n3       23.68  3.31  NaN    NaN  周日  Dinner   2.0\n4       24.59  3.61    女    NaN  周日  Dinner   4.0",
      "text/html": "<div>\n<style scoped>\n    .dataframe tbody tr th:only-of-type {\n        vertical-align: middle;\n    }\n\n    .dataframe tbody tr th {\n        vertical-align: top;\n    }\n\n    .dataframe thead th {\n        text-align: right;\n    }\n</style>\n<table border=\"1\" class=\"dataframe\">\n  <thead>\n    <tr style=\"text-align: right;\">\n      <th></th>\n      <th>total_bill</th>\n      <th>tip</th>\n      <th>sex</th>\n      <th>smoker</th>\n      <th>day</th>\n      <th>time</th>\n      <th>size</th>\n    </tr>\n  </thead>\n  <tbody>\n    <tr>\n      <th>0</th>\n      <td>16.99</td>\n      <td>1.01</td>\n      <td>女</td>\n      <td>NaN</td>\n      <td>周日</td>\n      <td>Dinner</td>\n      <td>2.0</td>\n    </tr>\n    <tr>\n      <th>1</th>\n      <td>10.34</td>\n      <td>1.66</td>\n      <td>男</td>\n      <td>No</td>\n      <td>周日</td>\n      <td>Dinner</td>\n      <td>3.0</td>\n    </tr>\n    <tr>\n      <th>2</th>\n      <td>21.01</td>\n      <td>3.50</td>\n      <td>男</td>\n      <td>No</td>\n      <td>周日</td>\n      <td>Dinner</td>\n      <td>3.0</td>\n    </tr>\n    <tr>\n      <th>3</th>\n      <td>23.68</td>\n      <td>3.31</td>\n      <td>NaN</td>\n      <td>NaN</td>\n      <td>周日</td>\n      <td>Dinner</td>\n      <td>2.0</td>\n    </tr>\n    <tr>\n      <th>4</th>\n      <td>24.59</td>\n      <td>3.61</td>\n      <td>女</td>\n      <td>NaN</td>\n      <td>周日</td>\n      <td>Dinner</td>\n      <td>4.0</td>\n    </tr>\n  </tbody>\n</table>\n</div>"
     },
     "execution_count": 19,
     "metadata": {},
     "output_type": "execute_result"
    },
    {
     "data": {
      "text/plain": "       CATE  bedrooms  halls    AREA   floor  subway  school  price  \\\n0  chaoyang         1      0   46.06  middle       1       0  48850   \n1  chaoyang         1      1   59.09  middle       1       0  46540   \n2   haidian         5      2  278.95    high       1       1  71662   \n3   haidian         3      2  207.00    high       1       1  57972   \n4   fengtai         2      1   53.32     low       1       1  71268   \n\n         LONG        LAT     NAME DISTRICT  \n0  116.459653  39.928347  10AM新坐标       方庄  \n1  116.459653  39.928347  10AM新坐标       方庄  \n2  116.303556  39.954807    10号名邸      紫竹桥  \n3  116.303556  39.954807    10号名邸      紫竹桥  \n4  116.418826  39.943813    17号旁门      蒲黄榆  ",
      "text/html": "<div>\n<style scoped>\n    .dataframe tbody tr th:only-of-type {\n        vertical-align: middle;\n    }\n\n    .dataframe tbody tr th {\n        vertical-align: top;\n    }\n\n    .dataframe thead th {\n        text-align: right;\n    }\n</style>\n<table border=\"1\" class=\"dataframe\">\n  <thead>\n    <tr style=\"text-align: right;\">\n      <th></th>\n      <th>CATE</th>\n      <th>bedrooms</th>\n      <th>halls</th>\n      <th>AREA</th>\n      <th>floor</th>\n      <th>subway</th>\n      <th>school</th>\n      <th>price</th>\n      <th>LONG</th>\n      <th>LAT</th>\n      <th>NAME</th>\n      <th>DISTRICT</th>\n    </tr>\n  </thead>\n  <tbody>\n    <tr>\n      <th>0</th>\n      <td>chaoyang</td>\n      <td>1</td>\n      <td>0</td>\n      <td>46.06</td>\n      <td>middle</td>\n      <td>1</td>\n      <td>0</td>\n      <td>48850</td>\n      <td>116.459653</td>\n      <td>39.928347</td>\n      <td>10AM新坐标</td>\n      <td>方庄</td>\n    </tr>\n    <tr>\n      <th>1</th>\n      <td>chaoyang</td>\n      <td>1</td>\n      <td>1</td>\n      <td>59.09</td>\n      <td>middle</td>\n      <td>1</td>\n      <td>0</td>\n      <td>46540</td>\n      <td>116.459653</td>\n      <td>39.928347</td>\n      <td>10AM新坐标</td>\n      <td>方庄</td>\n    </tr>\n    <tr>\n      <th>2</th>\n      <td>haidian</td>\n      <td>5</td>\n      <td>2</td>\n      <td>278.95</td>\n      <td>high</td>\n      <td>1</td>\n      <td>1</td>\n      <td>71662</td>\n      <td>116.303556</td>\n      <td>39.954807</td>\n      <td>10号名邸</td>\n      <td>紫竹桥</td>\n    </tr>\n    <tr>\n      <th>3</th>\n      <td>haidian</td>\n      <td>3</td>\n      <td>2</td>\n      <td>207.00</td>\n      <td>high</td>\n      <td>1</td>\n      <td>1</td>\n      <td>57972</td>\n      <td>116.303556</td>\n      <td>39.954807</td>\n      <td>10号名邸</td>\n      <td>紫竹桥</td>\n    </tr>\n    <tr>\n      <th>4</th>\n      <td>fengtai</td>\n      <td>2</td>\n      <td>1</td>\n      <td>53.32</td>\n      <td>low</td>\n      <td>1</td>\n      <td>1</td>\n      <td>71268</td>\n      <td>116.418826</td>\n      <td>39.943813</td>\n      <td>17号旁门</td>\n      <td>蒲黄榆</td>\n    </tr>\n  </tbody>\n</table>\n</div>"
     },
     "execution_count": 19,
     "metadata": {},
     "output_type": "execute_result"
    },
    {
     "data": {
      "text/plain": "           bedrooms         halls          AREA        subway        school  \\\ncount  16795.000000  16795.000000  16795.000000  16795.000000  16795.000000   \nmean       2.187020      1.220542     95.806617      0.828759      0.301042   \nstd        0.884532      0.557470    157.560024      0.376731      0.458725   \nmin        0.000000      0.000000      7.800000      0.000000      0.000000   \n25%        2.000000      1.000000     59.935000      1.000000      0.000000   \n50%        2.000000      1.000000     78.700000      1.000000      0.000000   \n75%        3.000000      2.000000    112.085000      1.000000      1.000000   \nmax        9.000000      9.000000  18779.500000      1.000000      1.000000   \n\n               price          LONG           LAT  \ncount   16795.000000  16795.000000  16795.000000  \nmean    61265.607800    116.378637     39.886839  \nstd     22811.203558      0.254347      0.766734  \nmin      5496.000000    106.028271     22.341579  \n25%     42700.500000    116.326049     39.890630  \n50%     57523.000000    116.383332     39.921088  \n75%     76336.000000    116.438325     39.959553  \nmax    206667.000000    123.863660     41.839533  ",
      "text/html": "<div>\n<style scoped>\n    .dataframe tbody tr th:only-of-type {\n        vertical-align: middle;\n    }\n\n    .dataframe tbody tr th {\n        vertical-align: top;\n    }\n\n    .dataframe thead th {\n        text-align: right;\n    }\n</style>\n<table border=\"1\" class=\"dataframe\">\n  <thead>\n    <tr style=\"text-align: right;\">\n      <th></th>\n      <th>bedrooms</th>\n      <th>halls</th>\n      <th>AREA</th>\n      <th>subway</th>\n      <th>school</th>\n      <th>price</th>\n      <th>LONG</th>\n      <th>LAT</th>\n    </tr>\n  </thead>\n  <tbody>\n    <tr>\n      <th>count</th>\n      <td>16795.000000</td>\n      <td>16795.000000</td>\n      <td>16795.000000</td>\n      <td>16795.000000</td>\n      <td>16795.000000</td>\n      <td>16795.000000</td>\n      <td>16795.000000</td>\n      <td>16795.000000</td>\n    </tr>\n    <tr>\n      <th>mean</th>\n      <td>2.187020</td>\n      <td>1.220542</td>\n      <td>95.806617</td>\n      <td>0.828759</td>\n      <td>0.301042</td>\n      <td>61265.607800</td>\n      <td>116.378637</td>\n      <td>39.886839</td>\n    </tr>\n    <tr>\n      <th>std</th>\n      <td>0.884532</td>\n      <td>0.557470</td>\n      <td>157.560024</td>\n      <td>0.376731</td>\n      <td>0.458725</td>\n      <td>22811.203558</td>\n      <td>0.254347</td>\n      <td>0.766734</td>\n    </tr>\n    <tr>\n      <th>min</th>\n      <td>0.000000</td>\n      <td>0.000000</td>\n      <td>7.800000</td>\n      <td>0.000000</td>\n      <td>0.000000</td>\n      <td>5496.000000</td>\n      <td>106.028271</td>\n      <td>22.341579</td>\n    </tr>\n    <tr>\n      <th>25%</th>\n      <td>2.000000</td>\n      <td>1.000000</td>\n      <td>59.935000</td>\n      <td>1.000000</td>\n      <td>0.000000</td>\n      <td>42700.500000</td>\n      <td>116.326049</td>\n      <td>39.890630</td>\n    </tr>\n    <tr>\n      <th>50%</th>\n      <td>2.000000</td>\n      <td>1.000000</td>\n      <td>78.700000</td>\n      <td>1.000000</td>\n      <td>0.000000</td>\n      <td>57523.000000</td>\n      <td>116.383332</td>\n      <td>39.921088</td>\n    </tr>\n    <tr>\n      <th>75%</th>\n      <td>3.000000</td>\n      <td>2.000000</td>\n      <td>112.085000</td>\n      <td>1.000000</td>\n      <td>1.000000</td>\n      <td>76336.000000</td>\n      <td>116.438325</td>\n      <td>39.959553</td>\n    </tr>\n    <tr>\n      <th>max</th>\n      <td>9.000000</td>\n      <td>9.000000</td>\n      <td>18779.500000</td>\n      <td>1.000000</td>\n      <td>1.000000</td>\n      <td>206667.000000</td>\n      <td>123.863660</td>\n      <td>41.839533</td>\n    </tr>\n  </tbody>\n</table>\n</div>"
     },
     "execution_count": 19,
     "metadata": {},
     "output_type": "execute_result"
    },
    {
     "name": "stdout",
     "output_type": "stream",
     "text": [
      "<class 'pandas.core.frame.DataFrame'>\n",
      "RangeIndex: 16795 entries, 0 to 16794\n",
      "Data columns (total 12 columns):\n",
      " #   Column    Non-Null Count  Dtype  \n",
      "---  ------    --------------  -----  \n",
      " 0   CATE      16795 non-null  object \n",
      " 1   bedrooms  16795 non-null  int64  \n",
      " 2   halls     16795 non-null  int64  \n",
      " 3   AREA      16795 non-null  float64\n",
      " 4   floor     16795 non-null  object \n",
      " 5   subway    16795 non-null  int64  \n",
      " 6   school    16795 non-null  int64  \n",
      " 7   price     16795 non-null  int64  \n",
      " 8   LONG      16795 non-null  float64\n",
      " 9   LAT       16795 non-null  float64\n",
      " 10  NAME      16795 non-null  object \n",
      " 11  DISTRICT  16795 non-null  object \n",
      "dtypes: float64(3), int64(5), object(4)\n",
      "memory usage: 1.5+ MB\n"
     ]
    },
    {
     "data": {
      "text/plain": "           CATE  bedrooms  halls   AREA   floor  subway  school  price  \\\n16790  chaoyang         3      1  76.33  middle       1       0  52405   \n16791  chaoyang         3      1  76.42  middle       1       0  52343   \n16792  chaoyang         2      1  61.79    high       1       0  50170   \n16793  chaoyang         1      1  42.89    high       1       0  52693   \n16794   fengtai         2      1  89.90  middle       1       0  46719   \n\n             LONG        LAT   NAME DISTRICT  \n16790  116.449436  39.963374  左家庄北里       国展  \n16791  116.449436  39.963374  左家庄北里       国展  \n16792  116.449436  39.963374  左家庄北里       国展  \n16793  116.453057  39.961273  左家庄东里       国展  \n16794  116.459653  39.928347    左右坊      马家堡  ",
      "text/html": "<div>\n<style scoped>\n    .dataframe tbody tr th:only-of-type {\n        vertical-align: middle;\n    }\n\n    .dataframe tbody tr th {\n        vertical-align: top;\n    }\n\n    .dataframe thead th {\n        text-align: right;\n    }\n</style>\n<table border=\"1\" class=\"dataframe\">\n  <thead>\n    <tr style=\"text-align: right;\">\n      <th></th>\n      <th>CATE</th>\n      <th>bedrooms</th>\n      <th>halls</th>\n      <th>AREA</th>\n      <th>floor</th>\n      <th>subway</th>\n      <th>school</th>\n      <th>price</th>\n      <th>LONG</th>\n      <th>LAT</th>\n      <th>NAME</th>\n      <th>DISTRICT</th>\n    </tr>\n  </thead>\n  <tbody>\n    <tr>\n      <th>16790</th>\n      <td>chaoyang</td>\n      <td>3</td>\n      <td>1</td>\n      <td>76.33</td>\n      <td>middle</td>\n      <td>1</td>\n      <td>0</td>\n      <td>52405</td>\n      <td>116.449436</td>\n      <td>39.963374</td>\n      <td>左家庄北里</td>\n      <td>国展</td>\n    </tr>\n    <tr>\n      <th>16791</th>\n      <td>chaoyang</td>\n      <td>3</td>\n      <td>1</td>\n      <td>76.42</td>\n      <td>middle</td>\n      <td>1</td>\n      <td>0</td>\n      <td>52343</td>\n      <td>116.449436</td>\n      <td>39.963374</td>\n      <td>左家庄北里</td>\n      <td>国展</td>\n    </tr>\n    <tr>\n      <th>16792</th>\n      <td>chaoyang</td>\n      <td>2</td>\n      <td>1</td>\n      <td>61.79</td>\n      <td>high</td>\n      <td>1</td>\n      <td>0</td>\n      <td>50170</td>\n      <td>116.449436</td>\n      <td>39.963374</td>\n      <td>左家庄北里</td>\n      <td>国展</td>\n    </tr>\n    <tr>\n      <th>16793</th>\n      <td>chaoyang</td>\n      <td>1</td>\n      <td>1</td>\n      <td>42.89</td>\n      <td>high</td>\n      <td>1</td>\n      <td>0</td>\n      <td>52693</td>\n      <td>116.453057</td>\n      <td>39.961273</td>\n      <td>左家庄东里</td>\n      <td>国展</td>\n    </tr>\n    <tr>\n      <th>16794</th>\n      <td>fengtai</td>\n      <td>2</td>\n      <td>1</td>\n      <td>89.90</td>\n      <td>middle</td>\n      <td>1</td>\n      <td>0</td>\n      <td>46719</td>\n      <td>116.459653</td>\n      <td>39.928347</td>\n      <td>左右坊</td>\n      <td>马家堡</td>\n    </tr>\n  </tbody>\n</table>\n</div>"
     },
     "execution_count": 19,
     "metadata": {},
     "output_type": "execute_result"
    },
    {
     "data": {
      "text/plain": "       CATE  bedrooms  halls    AREA   floor  subway  school  price  \\\n0  chaoyang         1      0   46.06  middle       1       0  48850   \n1  chaoyang         1      1   59.09  middle       1       0  46540   \n2   haidian         5      2  278.95    high       1       1  71662   \n3   haidian         3      2  207.00    high       1       1  57972   \n4   fengtai         2      1   53.32     low       1       1  71268   \n\n         LONG        LAT     NAME DISTRICT  \n0  116.459653  39.928347  10AM新坐标       方庄  \n1  116.459653  39.928347  10AM新坐标       方庄  \n2  116.303556  39.954807    10号名邸      紫竹桥  \n3  116.303556  39.954807    10号名邸      紫竹桥  \n4  116.418826  39.943813    17号旁门      蒲黄榆  ",
      "text/html": "<div>\n<style scoped>\n    .dataframe tbody tr th:only-of-type {\n        vertical-align: middle;\n    }\n\n    .dataframe tbody tr th {\n        vertical-align: top;\n    }\n\n    .dataframe thead th {\n        text-align: right;\n    }\n</style>\n<table border=\"1\" class=\"dataframe\">\n  <thead>\n    <tr style=\"text-align: right;\">\n      <th></th>\n      <th>CATE</th>\n      <th>bedrooms</th>\n      <th>halls</th>\n      <th>AREA</th>\n      <th>floor</th>\n      <th>subway</th>\n      <th>school</th>\n      <th>price</th>\n      <th>LONG</th>\n      <th>LAT</th>\n      <th>NAME</th>\n      <th>DISTRICT</th>\n    </tr>\n  </thead>\n  <tbody>\n    <tr>\n      <th>0</th>\n      <td>chaoyang</td>\n      <td>1</td>\n      <td>0</td>\n      <td>46.06</td>\n      <td>middle</td>\n      <td>1</td>\n      <td>0</td>\n      <td>48850</td>\n      <td>116.459653</td>\n      <td>39.928347</td>\n      <td>10AM新坐标</td>\n      <td>方庄</td>\n    </tr>\n    <tr>\n      <th>1</th>\n      <td>chaoyang</td>\n      <td>1</td>\n      <td>1</td>\n      <td>59.09</td>\n      <td>middle</td>\n      <td>1</td>\n      <td>0</td>\n      <td>46540</td>\n      <td>116.459653</td>\n      <td>39.928347</td>\n      <td>10AM新坐标</td>\n      <td>方庄</td>\n    </tr>\n    <tr>\n      <th>2</th>\n      <td>haidian</td>\n      <td>5</td>\n      <td>2</td>\n      <td>278.95</td>\n      <td>high</td>\n      <td>1</td>\n      <td>1</td>\n      <td>71662</td>\n      <td>116.303556</td>\n      <td>39.954807</td>\n      <td>10号名邸</td>\n      <td>紫竹桥</td>\n    </tr>\n    <tr>\n      <th>3</th>\n      <td>haidian</td>\n      <td>3</td>\n      <td>2</td>\n      <td>207.00</td>\n      <td>high</td>\n      <td>1</td>\n      <td>1</td>\n      <td>57972</td>\n      <td>116.303556</td>\n      <td>39.954807</td>\n      <td>10号名邸</td>\n      <td>紫竹桥</td>\n    </tr>\n    <tr>\n      <th>4</th>\n      <td>fengtai</td>\n      <td>2</td>\n      <td>1</td>\n      <td>53.32</td>\n      <td>low</td>\n      <td>1</td>\n      <td>1</td>\n      <td>71268</td>\n      <td>116.418826</td>\n      <td>39.943813</td>\n      <td>17号旁门</td>\n      <td>蒲黄榆</td>\n    </tr>\n  </tbody>\n</table>\n</div>"
     },
     "execution_count": 19,
     "metadata": {},
     "output_type": "execute_result"
    }
   ],
   "source": [
    "import numpy as np\n",
    "import pandas as pd\n",
    "\n",
    "\n",
    "df3 = pd.read_excel(r\"C:\\Users\\fzh00\\Desktop\\文件\\1、Python数据清洗基础\\data\\test_data.xlsx\",'用户信息表')\n",
    "df3.info()\n",
    "df3.head()\n",
    "df = pd.read_csv('C:\\\\Users\\\\fzh00\\Desktop\\\\文件\\\\1、Python数据清洗基础\\\\data\\\\ershoufang2.csv', sep=',')\n",
    "df2 = pd.read_csv(r\"C:\\Users\\fzh00\\Desktop\\文件\\1、Python数据清洗基础\\data\\tips_na.csv\")\n",
    "df2.head()\n",
    "df.head()\n",
    "df.describe()\n",
    "df.info()\n",
    "df.tail()\n",
    "df.head()"
   ],
   "metadata": {
    "collapsed": false
   }
  },
  {
   "cell_type": "code",
   "execution_count": 2,
   "outputs": [
    {
     "data": {
      "text/plain": "'C:\\\\ProgramData\\\\Anaconda3\\\\envs\\\\pythonProject_anaconda\\\\lib\\\\os.py'"
     },
     "execution_count": 2,
     "metadata": {},
     "output_type": "execute_result"
    }
   ],
   "source": [
    "import os\n",
    "os.__file__"
   ],
   "metadata": {
    "collapsed": false
   }
  },
  {
   "cell_type": "code",
   "execution_count": 1,
   "outputs": [],
   "source": [
    "from IPython.core.interactiveshell import InteractiveShell\n",
    "InteractiveShell.ast_node_interactivity = \"all\""
   ],
   "metadata": {
    "collapsed": false
   }
  },
  {
   "cell_type": "code",
   "execution_count": 89,
   "outputs": [
    {
     "data": {
      "text/plain": "  员工姓名   销售业绩   提成收入\na   赵一  30000   6000\nb   钱明  20000   4000\nc   周元  50000  10000",
      "text/html": "<div>\n<style scoped>\n    .dataframe tbody tr th:only-of-type {\n        vertical-align: middle;\n    }\n\n    .dataframe tbody tr th {\n        vertical-align: top;\n    }\n\n    .dataframe thead th {\n        text-align: right;\n    }\n</style>\n<table border=\"1\" class=\"dataframe\">\n  <thead>\n    <tr style=\"text-align: right;\">\n      <th></th>\n      <th>员工姓名</th>\n      <th>销售业绩</th>\n      <th>提成收入</th>\n    </tr>\n  </thead>\n  <tbody>\n    <tr>\n      <th>a</th>\n      <td>赵一</td>\n      <td>30000</td>\n      <td>6000</td>\n    </tr>\n    <tr>\n      <th>b</th>\n      <td>钱明</td>\n      <td>20000</td>\n      <td>4000</td>\n    </tr>\n    <tr>\n      <th>c</th>\n      <td>周元</td>\n      <td>50000</td>\n      <td>10000</td>\n    </tr>\n  </tbody>\n</table>\n</div>"
     },
     "execution_count": 89,
     "metadata": {},
     "output_type": "execute_result"
    },
    {
     "data": {
      "text/plain": "a    赵一\nb    钱明\nc    周元\nName: 员工姓名, dtype: object"
     },
     "execution_count": 89,
     "metadata": {},
     "output_type": "execute_result"
    },
    {
     "data": {
      "text/plain": "pandas.core.series.Series"
     },
     "execution_count": 89,
     "metadata": {},
     "output_type": "execute_result"
    },
    {
     "name": "stdout",
     "output_type": "stream",
     "text": [
      "a    赵一\n",
      "b    钱明\n",
      "c    周元\n",
      "Name: 员工姓名, dtype: object\n"
     ]
    },
    {
     "data": {
      "text/plain": "  员工姓名\na   赵一\nb   钱明\nc   周元",
      "text/html": "<div>\n<style scoped>\n    .dataframe tbody tr th:only-of-type {\n        vertical-align: middle;\n    }\n\n    .dataframe tbody tr th {\n        vertical-align: top;\n    }\n\n    .dataframe thead th {\n        text-align: right;\n    }\n</style>\n<table border=\"1\" class=\"dataframe\">\n  <thead>\n    <tr style=\"text-align: right;\">\n      <th></th>\n      <th>员工姓名</th>\n    </tr>\n  </thead>\n  <tbody>\n    <tr>\n      <th>a</th>\n      <td>赵一</td>\n    </tr>\n    <tr>\n      <th>b</th>\n      <td>钱明</td>\n    </tr>\n    <tr>\n      <th>c</th>\n      <td>周元</td>\n    </tr>\n  </tbody>\n</table>\n</div>"
     },
     "execution_count": 89,
     "metadata": {},
     "output_type": "execute_result"
    },
    {
     "data": {
      "text/plain": "  员工姓名   销售业绩  提成收入\na   赵一  30000  6000",
      "text/html": "<div>\n<style scoped>\n    .dataframe tbody tr th:only-of-type {\n        vertical-align: middle;\n    }\n\n    .dataframe tbody tr th {\n        vertical-align: top;\n    }\n\n    .dataframe thead th {\n        text-align: right;\n    }\n</style>\n<table border=\"1\" class=\"dataframe\">\n  <thead>\n    <tr style=\"text-align: right;\">\n      <th></th>\n      <th>员工姓名</th>\n      <th>销售业绩</th>\n      <th>提成收入</th>\n    </tr>\n  </thead>\n  <tbody>\n    <tr>\n      <th>a</th>\n      <td>赵一</td>\n      <td>30000</td>\n      <td>6000</td>\n    </tr>\n  </tbody>\n</table>\n</div>"
     },
     "execution_count": 89,
     "metadata": {},
     "output_type": "execute_result"
    }
   ],
   "source": [
    "import numpy as np\n",
    "import pandas as pd\n",
    "dict1 = {\"员工姓名\":[\"赵一\",\"钱明\",\"周元\"],\n",
    "         \"销售业绩\":[30000,20000,50000],\n",
    "         \"提成收入\":[6000,4000,10000]}\n",
    "dt = pd.DataFrame(dict1,index=list('abc'))\n",
    "dt\n",
    "dt.loc[:,\"员工姓名\"]\n",
    "type(dt.loc[:,'员工姓名'])\n",
    "print(dt.loc[:,'员工姓名'])\n",
    "dt.loc[:,['员工姓名']]\n",
    "dt.iloc[:1,]"
   ],
   "metadata": {
    "collapsed": false
   }
  },
  {
   "cell_type": "code",
   "execution_count": 82,
   "outputs": [
    {
     "data": {
      "text/plain": "Index(['员工姓名', '销售业绩', '提成收入'], dtype='object')"
     },
     "execution_count": 82,
     "metadata": {},
     "output_type": "execute_result"
    },
    {
     "data": {
      "text/plain": "   提成收入\nb  4000",
      "text/html": "<div>\n<style scoped>\n    .dataframe tbody tr th:only-of-type {\n        vertical-align: middle;\n    }\n\n    .dataframe tbody tr th {\n        vertical-align: top;\n    }\n\n    .dataframe thead th {\n        text-align: right;\n    }\n</style>\n<table border=\"1\" class=\"dataframe\">\n  <thead>\n    <tr style=\"text-align: right;\">\n      <th></th>\n      <th>提成收入</th>\n    </tr>\n  </thead>\n  <tbody>\n    <tr>\n      <th>b</th>\n      <td>4000</td>\n    </tr>\n  </tbody>\n</table>\n</div>"
     },
     "execution_count": 82,
     "metadata": {},
     "output_type": "execute_result"
    }
   ],
   "source": [
    "import numpy as np\n",
    "import pandas as pd\n",
    "dict1 = {\"员工姓名\":[\"赵一\",\"钱明\",\"周元\"],\n",
    "         \"销售业绩\":[30000,20000,50000],\n",
    "         \"提成收入\":[6000,4000,10000]}\n",
    "dt = pd.DataFrame(dict1,index=list('abc'))\n",
    "dt.columns\n",
    "dt.iloc[1:2,-1:]"
   ],
   "metadata": {
    "collapsed": false
   }
  },
  {
   "cell_type": "code",
   "execution_count": 73,
   "outputs": [
    {
     "data": {
      "text/plain": "0    b\n1    a\ndtype: object"
     },
     "execution_count": 73,
     "metadata": {},
     "output_type": "execute_result"
    },
    {
     "data": {
      "text/plain": "0    0\n1    1\n2    2\n3    3\n4    4\n5    5\n6    6\n7    7\n8    8\n9    9\ndtype: int64"
     },
     "execution_count": 73,
     "metadata": {},
     "output_type": "execute_result"
    },
    {
     "data": {
      "text/plain": "0    b'0'\n1    b'1'\n2    b'2'\n3    b'3'\n4    b'4'\n5    b'5'\n6    b'6'\n7    b'7'\n8    b'8'\n9    b'9'\ndtype: bytes168"
     },
     "execution_count": 73,
     "metadata": {},
     "output_type": "execute_result"
    },
    {
     "data": {
      "text/plain": "0    0\n1    1\n2    2\n3    3\n4    4\n5    5\n6    6\n7    7\n8    8\n9    9\ndtype: int64"
     },
     "execution_count": 73,
     "metadata": {},
     "output_type": "execute_result"
    },
    {
     "data": {
      "text/plain": "0     0.0\n1     2.0\n2     4.0\n3     6.0\n4     8.0\n5    10.0\n6    12.0\n7    14.0\n8    16.0\n9     9.0\ndtype: float64"
     },
     "execution_count": 73,
     "metadata": {},
     "output_type": "execute_result"
    }
   ],
   "source": [
    "import numpy as np\n",
    "import pandas as pd\n",
    "s3 = pd.Series(['b','a'])\n",
    "s3\n",
    "s1 = pd.Series([i for i in range(10)])\n",
    "s2 = pd.Series([i for i in range(9)])\n",
    "s1\n",
    "s1.astype('S')\n",
    "s1\n",
    "s1.add(s2,fill_value=0)"
   ],
   "metadata": {
    "collapsed": false
   }
  },
  {
   "cell_type": "code",
   "execution_count": 66,
   "outputs": [
    {
     "name": "stdout",
     "output_type": "stream",
     "text": [
      "idx的值是： ['A_8', 'A_7', 'A_6', 'A_5', 'A_4', 'A_3', 'A_2', 'A_1', 'C_1', 'C_2', 'C_3', 'C_4', 'C_5', 'C_6', 'C_7', 'C_8']\n"
     ]
    },
    {
     "data": {
      "text/plain": "A_8    1102800\nA_7     601758\nA_6     806490\nA_5     591632\nA_4     568868\nA_3     467734\nA_2    1084752\nA_1     507844\nC_1     466402\nC_2     905022\nC_3     487190\nC_4     471082\nC_5    1065694\nC_6     988350\nC_7     806312\nC_8     744312\ndtype: int32"
     },
     "execution_count": 66,
     "metadata": {},
     "output_type": "execute_result"
    }
   ],
   "source": [
    "# 初始化数据\n",
    "import numpy as np\n",
    "import pandas as pd\n",
    "idx_A=[\"A_{}\".format(i) for i in range(8,0,-1)]\n",
    "idx_C=[\"C_{}\".format(i) for i in range(1,9)]\n",
    "idx=idx_A+idx_C\n",
    "print(\"idx的值是：\",idx)\n",
    "np.random.seed(2)\n",
    "S_2 = pd.Series(np.random.randint(2e5,6e5,16),index=idx)\n",
    "S_2+S_2"
   ],
   "metadata": {
    "collapsed": false
   }
  },
  {
   "cell_type": "code",
   "execution_count": 64,
   "outputs": [
    {
     "data": {
      "text/plain": "5050"
     },
     "execution_count": 64,
     "metadata": {},
     "output_type": "execute_result"
    },
    {
     "ename": "AttributeError",
     "evalue": "module 'math' has no attribute 'mean'",
     "output_type": "error",
     "traceback": [
      "\u001B[1;31m---------------------------------------------------------------------------\u001B[0m",
      "\u001B[1;31mAttributeError\u001B[0m                            Traceback (most recent call last)",
      "Cell \u001B[1;32mIn[64], line 6\u001B[0m\n\u001B[0;32m      4\u001B[0m s2 \u001B[38;5;241m=\u001B[39m pd\u001B[38;5;241m.\u001B[39mSeries([i \u001B[38;5;28;01mfor\u001B[39;00m i \u001B[38;5;129;01min\u001B[39;00m \u001B[38;5;28mrange\u001B[39m(\u001B[38;5;241m101\u001B[39m)])\n\u001B[0;32m      5\u001B[0m \u001B[38;5;28msum\u001B[39m(s2)\n\u001B[1;32m----> 6\u001B[0m \u001B[43mmath\u001B[49m\u001B[38;5;241;43m.\u001B[39;49m\u001B[43mmean\u001B[49m(s2)\n\u001B[0;32m      7\u001B[0m s2[\u001B[38;5;241m~\u001B[39m(s2\u001B[38;5;241m>\u001B[39m\u001B[38;5;241m90\u001B[39m)]\n\u001B[0;32m      8\u001B[0m s2[(s2\u001B[38;5;241m<\u001B[39m\u001B[38;5;241m50\u001B[39m)\u001B[38;5;241m|\u001B[39m(s2\u001B[38;5;241m>\u001B[39m\u001B[38;5;241m89\u001B[39m)]\n",
      "\u001B[1;31mAttributeError\u001B[0m: module 'math' has no attribute 'mean'"
     ]
    }
   ],
   "source": [
    "import numpy as np\n",
    "import pandas as pd\n",
    "import math\n",
    "s2 = pd.Series([i for i in range(101)])\n",
    "sum(s2)\n",
    "math.mean(s2)\n",
    "s2[~(s2>90)]\n",
    "s2[(s2<50)|(s2>89)]\n",
    "s2[(s2>30)&(s2<40)]"
   ],
   "metadata": {
    "collapsed": false
   }
  },
  {
   "cell_type": "code",
   "execution_count": 48,
   "outputs": [
    {
     "data": {
      "text/plain": "A_1    109\ndtype: int32"
     },
     "execution_count": 48,
     "metadata": {},
     "output_type": "execute_result"
    },
    {
     "data": {
      "text/plain": "numpy.ndarray"
     },
     "execution_count": 48,
     "metadata": {},
     "output_type": "execute_result"
    },
    {
     "data": {
      "text/plain": "A_1    False\nA_2    False\nA_3     True\nA_4    False\nA_5    False\nA_6     True\nA_7     True\nA_8     True\nC_1    False\nC_2    False\nC_3     True\nC_4     True\nC_5    False\nC_6     True\nC_7    False\nC_8     True\ndtype: bool"
     },
     "execution_count": 48,
     "metadata": {},
     "output_type": "execute_result"
    },
    {
     "data": {
      "text/plain": "A_3    316\nA_6    580\nA_7    326\nA_8    942\nC_3    816\nC_4    400\nC_6    694\nC_8    258\ndtype: int32"
     },
     "execution_count": 48,
     "metadata": {},
     "output_type": "execute_result"
    },
    {
     "data": {
      "text/plain": "[True,\n False,\n True,\n False,\n True,\n False,\n True,\n False,\n True,\n False,\n True,\n False,\n True,\n False,\n True,\n False]"
     },
     "execution_count": 48,
     "metadata": {},
     "output_type": "execute_result"
    },
    {
     "data": {
      "text/plain": "A_1    109\nA_3    316\nA_5    773\nA_7    326\nC_1    231\nC_3    816\nC_5    673\nC_7    327\ndtype: int32"
     },
     "execution_count": 48,
     "metadata": {},
     "output_type": "execute_result"
    }
   ],
   "source": [
    "import numpy as np\n",
    "import pandas as pd\n",
    "idx_A=[\"A_{}\".format(i) for i in range(1,9)]\n",
    "idx_C=[\"C_{}\".format(i) for i in range(1,9)]\n",
    "idx=idx_A+idx_C\n",
    "\n",
    "s1 = pd.Series(np.random.randint(100,1000,16),index=idx)\n",
    "arr = np.array([ i*2==0 for i in range(16)])\n",
    "s1[arr]\n",
    "type(arr)\n",
    "s1 % 2 == 0\n",
    "s1[s1 % 2 == 0]\n",
    "x = [i % 2 == 0  for i in range(16)]\n",
    "x\n",
    "s1[x]"
   ],
   "metadata": {
    "collapsed": false
   }
  },
  {
   "cell_type": "code",
   "execution_count": 47,
   "outputs": [
    {
     "data": {
      "text/plain": "['A_1',\n 'A_2',\n 'A_3',\n 'A_4',\n 'A_5',\n 'A_6',\n 'A_7',\n 'A_8',\n 'C_1',\n 'C_2',\n 'C_3',\n 'C_4',\n 'C_5',\n 'C_6',\n 'C_7',\n 'C_8']"
     },
     "execution_count": 47,
     "metadata": {},
     "output_type": "execute_result"
    },
    {
     "data": {
      "text/plain": "pandas.core.series.Series"
     },
     "execution_count": 47,
     "metadata": {},
     "output_type": "execute_result"
    },
    {
     "data": {
      "text/plain": "16"
     },
     "execution_count": 47,
     "metadata": {},
     "output_type": "execute_result"
    },
    {
     "data": {
      "text/plain": "array([377, 808, 326, 150, 328, 655, 717, 744, 767, 100, 392, 572, 699,\n       339, 426, 258])"
     },
     "execution_count": 47,
     "metadata": {},
     "output_type": "execute_result"
    },
    {
     "data": {
      "text/plain": "Index(['A_1', 'A_2', 'A_3', 'A_4', 'A_5', 'A_6', 'A_7', 'A_8', 'C_1', 'C_2',\n       'C_3', 'C_4', 'C_5', 'C_6', 'C_7', 'C_8'],\n      dtype='object')"
     },
     "execution_count": 47,
     "metadata": {},
     "output_type": "execute_result"
    }
   ],
   "source": [
    "import pandas as pd\n",
    "import numpy as np\n",
    "import numpy as np\n",
    "import pandas as pd\n",
    "idx_A=[\"A_{}\".format(i) for i in range(1,9)]\n",
    "idx_C=[\"C_{}\".format(i) for i in range(1,9)]\n",
    "idx=idx_A+idx_C\n",
    "idx\n",
    "s1 = pd.Series(np.random.randint(100,1000,16),index=idx)\n",
    "type(s1)\n",
    "s1.size\n",
    "s1.values\n",
    "s1.index"
   ],
   "metadata": {
    "collapsed": false
   }
  },
  {
   "cell_type": "code",
   "execution_count": 38,
   "outputs": [
    {
     "data": {
      "text/plain": "array([ 6, 15, 66, 55])"
     },
     "execution_count": 38,
     "metadata": {},
     "output_type": "execute_result"
    },
    {
     "data": {
      "text/plain": "0     6\n1    15\n2    66\n3    55\ndtype: int32"
     },
     "execution_count": 38,
     "metadata": {},
     "output_type": "execute_result"
    },
    {
     "data": {
      "text/plain": "0     6\n1    15\n2    66\n3    55\ndtype: int32"
     },
     "execution_count": 38,
     "metadata": {},
     "output_type": "execute_result"
    },
    {
     "data": {
      "text/plain": "0    44\n1    15\n2    66\n3    55\ndtype: int32"
     },
     "execution_count": 38,
     "metadata": {},
     "output_type": "execute_result"
    },
    {
     "data": {
      "text/plain": "0     6\n1    15\n2    66\n3    55\ndtype: int32"
     },
     "execution_count": 38,
     "metadata": {},
     "output_type": "execute_result"
    },
    {
     "data": {
      "text/plain": "  员工姓名   销售业绩   提成收入\n0   赵一  30000   6000\n1   钱明  20000   4000\n2   周元  50000  10000",
      "text/html": "<div>\n<style scoped>\n    .dataframe tbody tr th:only-of-type {\n        vertical-align: middle;\n    }\n\n    .dataframe tbody tr th {\n        vertical-align: top;\n    }\n\n    .dataframe thead th {\n        text-align: right;\n    }\n</style>\n<table border=\"1\" class=\"dataframe\">\n  <thead>\n    <tr style=\"text-align: right;\">\n      <th></th>\n      <th>员工姓名</th>\n      <th>销售业绩</th>\n      <th>提成收入</th>\n    </tr>\n  </thead>\n  <tbody>\n    <tr>\n      <th>0</th>\n      <td>赵一</td>\n      <td>30000</td>\n      <td>6000</td>\n    </tr>\n    <tr>\n      <th>1</th>\n      <td>钱明</td>\n      <td>20000</td>\n      <td>4000</td>\n    </tr>\n    <tr>\n      <th>2</th>\n      <td>周元</td>\n      <td>50000</td>\n      <td>10000</td>\n    </tr>\n  </tbody>\n</table>\n</div>"
     },
     "execution_count": 38,
     "metadata": {},
     "output_type": "execute_result"
    }
   ],
   "source": [
    "import pandas as pd\n",
    "import numpy as np\n",
    "arr = np.random.randint(0,100,4)\n",
    "arr\n",
    "\n",
    "s2 = pd.Series(arr,copy=False)\n",
    "s2\n",
    "s3 = pd.Series(arr,copy=True)\n",
    "s3\n",
    "arr[0]=44\n",
    "s2\n",
    "s3\n",
    "\n",
    "dict1 = {\"员工姓名\":[\"赵一\",\"钱明\",\"周元\"],\n",
    "         \"销售业绩\":[30000,20000,50000],\n",
    "         \"提成收入\":[6000,4000,10000]}\n",
    "pd.DataFrame(dict1)"
   ],
   "metadata": {
    "collapsed": false
   }
  },
  {
   "cell_type": "code",
   "execution_count": 31,
   "outputs": [
    {
     "data": {
      "text/plain": "array([0, 1, 2, 3, 4, 5, 6, 7, 8, 9])"
     },
     "execution_count": 31,
     "metadata": {},
     "output_type": "execute_result"
    },
    {
     "data": {
      "text/plain": "array([[0, 1, 2, 3, 4],\n       [5, 6, 7, 8, 9]])"
     },
     "execution_count": 31,
     "metadata": {},
     "output_type": "execute_result"
    },
    {
     "data": {
      "text/plain": "array([[0, 1],\n       [2, 3],\n       [4, 5],\n       [6, 7],\n       [8, 9]])"
     },
     "execution_count": 31,
     "metadata": {},
     "output_type": "execute_result"
    }
   ],
   "source": [
    "import numpy as np\n",
    "arr = np.arange(10)\n",
    "arr\n",
    "arr.reshape(2,5)\n",
    "arr.reshape(5,2)"
   ],
   "metadata": {
    "collapsed": false
   }
  },
  {
   "cell_type": "code",
   "execution_count": 24,
   "outputs": [
    {
     "data": {
      "text/plain": "array([1, 2, 3, 4])"
     },
     "execution_count": 24,
     "metadata": {},
     "output_type": "execute_result"
    },
    {
     "data": {
      "text/plain": "numpy.ndarray"
     },
     "execution_count": 24,
     "metadata": {},
     "output_type": "execute_result"
    },
    {
     "data": {
      "text/plain": "array([0, 1, 2, 3, 4, 5, 6, 7, 8, 9])"
     },
     "execution_count": 24,
     "metadata": {},
     "output_type": "execute_result"
    },
    {
     "data": {
      "text/plain": "numpy.ndarray"
     },
     "execution_count": 24,
     "metadata": {},
     "output_type": "execute_result"
    }
   ],
   "source": [
    "\n",
    "import numpy as np\n",
    "np.array([1,2,3,4])\n",
    "type(np.array([1,2,3,4]))\n",
    "np.arange(10)\n",
    "type(np.arange(10))"
   ],
   "metadata": {
    "collapsed": false
   }
  },
  {
   "cell_type": "code",
   "execution_count": 20,
   "outputs": [],
   "source": [
    "from IPython.core.interactiveshell import InteractiveShell\n",
    "InteractiveShell.ast_node_interactivity = \"all\""
   ],
   "metadata": {
    "collapsed": false
   }
  },
  {
   "cell_type": "code",
   "execution_count": 21,
   "outputs": [
    {
     "name": "stdout",
     "output_type": "stream",
     "text": [
      "CPU times: total: 0 ns\n",
      "Wall time: 0 ns\n"
     ]
    },
    {
     "data": {
      "text/plain": "numpy.ndarray"
     },
     "execution_count": 21,
     "metadata": {},
     "output_type": "execute_result"
    }
   ],
   "source": [
    "%%time\n",
    "from IPython.core.interactiveshell import InteractiveShell\n",
    "InteractiveShell.ast_node_interactivity = \"all\"\n",
    "import numpy as np\n",
    "np.array([1,2,3,4])\n",
    "type(np.array([1,2,3,4]))\n",
    "np.arange(10)\n",
    "type(np.arange(10))"
   ],
   "metadata": {
    "collapsed": false
   }
  },
  {
   "cell_type": "code",
   "execution_count": 15,
   "outputs": [
    {
     "data": {
      "text/plain": "array([14, 57, 54, 39, 46, 85, 94, 41,  7, 61])"
     },
     "execution_count": 15,
     "metadata": {},
     "output_type": "execute_result"
    },
    {
     "data": {
      "text/plain": "array([9, 4])"
     },
     "execution_count": 15,
     "metadata": {},
     "output_type": "execute_result"
    }
   ],
   "source": [
    "import numpy as np\n",
    "np.random.randint(0,100,10)\n",
    "np.random.randint(1,22,2)\n",
    "from IPython.core.interactiveshell import InteractiveShell\n",
    "InteractiveShell.ast_node_interactivity = \"all\""
   ],
   "metadata": {
    "collapsed": false
   }
  },
  {
   "cell_type": "code",
   "execution_count": 17,
   "outputs": [],
   "source": [
    "from IPython.core.interactiveshell import InteractiveShell\n",
    "InteractiveShell.ast_node_interactivity = \"all\""
   ],
   "metadata": {
    "collapsed": false
   }
  },
  {
   "cell_type": "code",
   "execution_count": 9,
   "outputs": [
    {
     "name": "stderr",
     "output_type": "stream",
     "text": [
      "C:\\Users\\fzh00\\AppData\\Local\\Temp\\ipykernel_12068\\665954130.py:2: VisibleDeprecationWarning: Creating an ndarray from ragged nested sequences (which is a list-or-tuple of lists-or-tuples-or ndarrays with different lengths or shapes) is deprecated. If you meant to do this, you must specify 'dtype=object' when creating the ndarray.\n",
      "  arr3 = np.array([[1,2,3],[2,4,4,5,5]])\n"
     ]
    },
    {
     "data": {
      "text/plain": "numpy.ndarray"
     },
     "execution_count": 9,
     "metadata": {},
     "output_type": "execute_result"
    },
    {
     "data": {
      "text/plain": "'C:\\\\ProgramData\\\\Anaconda3\\\\envs\\\\pythonProject_anaconda\\\\lib\\\\os.py'"
     },
     "execution_count": 9,
     "metadata": {},
     "output_type": "execute_result"
    }
   ],
   "source": [
    "import numpy as np\n",
    "arr3 = np.array([[1,2,3],[2,4,4,5,5]])\n",
    "type(arr3)\n",
    "import os\n",
    "os.__file__"
   ],
   "metadata": {
    "collapsed": false
   }
  },
  {
   "cell_type": "code",
   "execution_count": null,
   "outputs": [],
   "source": [
    "from IPython.core.interactiveshell import InteractiveShell\n",
    "InteractiveShell.ast_node_interactivity = \"all\""
   ],
   "metadata": {
    "collapsed": false
   }
  },
  {
   "cell_type": "code",
   "execution_count": 5,
   "outputs": [
    {
     "data": {
      "text/plain": "numpy.ndarray"
     },
     "execution_count": 5,
     "metadata": {},
     "output_type": "execute_result"
    },
    {
     "data": {
      "text/plain": "array([ 0,  1,  2,  3,  4,  5,  6,  7,  8,  9, 10])"
     },
     "execution_count": 5,
     "metadata": {},
     "output_type": "execute_result"
    }
   ],
   "source": [
    "import numpy as np\n",
    "type(np.array([i for i in range(22)]))\n",
    "np.array([i for i in range(11)])"
   ],
   "metadata": {
    "collapsed": false
   }
  },
  {
   "cell_type": "code",
   "execution_count": 2,
   "outputs": [
    {
     "data": {
      "text/plain": "'https://sz.lianjia.com/zufang/nanshanqu/rt200600000001l1/'"
     },
     "execution_count": 2,
     "metadata": {},
     "output_type": "execute_result"
    }
   ],
   "source": [
    "from  requests_html import HTMLSession\n",
    "url = 'https://sz.lianjia.com/zufang/nanshanqu/rt200600000001l1/'\n",
    "session = HTMLSession()\n",
    "r = session.get(url)\n",
    "r.url"
   ],
   "metadata": {
    "collapsed": false
   }
  },
  {
   "cell_type": "code",
   "execution_count": null,
   "outputs": [],
   "source": [
    "from IPython.core.interactiveshell import InteractiveShell\n",
    "InteractiveShell.ast_node_interactivity = \"all\""
   ],
   "metadata": {
    "collapsed": false
   }
  },
  {
   "cell_type": "code",
   "execution_count": 23,
   "outputs": [
    {
     "data": {
      "text/plain": "(<re.Match object; span=(0, 13), match='some cats are'>,\n <re.Match object; span=(0, 35), match='some cats are smarter than dogs are'>)"
     },
     "execution_count": 23,
     "metadata": {},
     "output_type": "execute_result"
    }
   ],
   "source": [
    "import re\n",
    "\n",
    "line = \"some cats are smarter than dogs are true\"\n",
    "mat1 = re.match(r\".* are\", line)\n",
    "mat2 = re.match(r\".*? are\", line)\n",
    "mat2,mat1"
   ],
   "metadata": {
    "collapsed": false
   }
  },
  {
   "cell_type": "code",
   "execution_count": null,
   "outputs": [],
   "source": [
    "from IPython.core.interactiveshell import InteractiveShell\n",
    "InteractiveShell.ast_node_interactivity = \"all\""
   ],
   "metadata": {
    "collapsed": false,
    "pycharm": {
     "is_executing": true
    }
   }
  },
  {
   "cell_type": "code",
   "execution_count": 19,
   "outputs": [
    {
     "name": "stdout",
     "output_type": "stream",
     "text": [
      "11 <class 'str'>\n"
     ]
    }
   ],
   "source": [
    "age = input()\n",
    "print(age,type(age))"
   ],
   "metadata": {
    "collapsed": false
   }
  },
  {
   "cell_type": "code",
   "execution_count": 18,
   "outputs": [
    {
     "name": "stdout",
     "output_type": "stream",
     "text": [
      "24\n"
     ]
    }
   ],
   "source": [
    "from functools import partial\n",
    "def fun_3(a,b,c,d,e):\n",
    "    return a+b+c+d+e\n",
    "partial_fun = partial(fun_3,b=3,c=4,d=3,e=4)\n",
    "result = partial_fun(10)\n",
    "print(result)"
   ],
   "metadata": {
    "collapsed": false
   }
  },
  {
   "cell_type": "code",
   "execution_count": 17,
   "outputs": [
    {
     "name": "stdout",
     "output_type": "stream",
     "text": [
      "消耗时间：5\n"
     ]
    }
   ],
   "source": [
    "import time\n",
    "import datetime\n",
    "count = 5\n",
    "def loop():\n",
    "    time_1 = datetime.datetime.now()\n",
    "    for i in range(5):\n",
    "        time.sleep(1)\n",
    "    time_2 = datetime.datetime.now()\n",
    "    print('消耗时间：%d'%(time_2-time_1).seconds)\n",
    "loop()"
   ],
   "metadata": {
    "collapsed": false
   }
  },
  {
   "cell_type": "code",
   "execution_count": 12,
   "outputs": [
    {
     "data": {
      "text/plain": "15050"
     },
     "execution_count": 12,
     "metadata": {},
     "output_type": "execute_result"
    },
    {
     "data": {
      "text/plain": "<filter at 0x1f3f68f5e10>"
     },
     "execution_count": 12,
     "metadata": {},
     "output_type": "execute_result"
    },
    {
     "data": {
      "text/plain": "[1, 3, 5, 7, 9, 11, 13, 15, 17, 19]"
     },
     "execution_count": 12,
     "metadata": {},
     "output_type": "execute_result"
    }
   ],
   "source": [
    "from functools import reduce\n",
    "def fun_1(a,b):\n",
    "    return a+b\n",
    "reduce(fun_1,[i for i in range(1,101)],10000)\n",
    "filter(lambda x:x%2,[i for i in range(20)])\n",
    "list(filter(lambda x:x%2,[i for i in range(20)]))"
   ],
   "metadata": {
    "collapsed": false
   }
  },
  {
   "cell_type": "code",
   "execution_count": 8,
   "outputs": [],
   "source": [
    "from IPython.core.interactiveshell import InteractiveShell\n",
    "InteractiveShell.ast_node_interactivity = \"all\""
   ],
   "metadata": {
    "collapsed": false
   }
  },
  {
   "cell_type": "code",
   "execution_count": 56,
   "outputs": [
    {
     "data": {
      "text/plain": "{'a', 'b'}"
     },
     "execution_count": 56,
     "metadata": {},
     "output_type": "execute_result"
    },
    {
     "data": {
      "text/plain": "{'a': 1, 'b': 2}"
     },
     "execution_count": 56,
     "metadata": {},
     "output_type": "execute_result"
    },
    {
     "data": {
      "text/plain": "dict_items([('a', 1), ('b', 2)])"
     },
     "execution_count": 56,
     "metadata": {},
     "output_type": "execute_result"
    },
    {
     "data": {
      "text/plain": "dict_items([('a', 1), ('b', 2)])"
     },
     "execution_count": 56,
     "metadata": {},
     "output_type": "execute_result"
    },
    {
     "data": {
      "text/plain": "{'a': 1, 'b': 2}"
     },
     "execution_count": 56,
     "metadata": {},
     "output_type": "execute_result"
    },
    {
     "data": {
      "text/plain": "{1: 'a', 2: 'b'}"
     },
     "execution_count": 56,
     "metadata": {},
     "output_type": "execute_result"
    }
   ],
   "source": [
    "dic = {'a':1,'b':2}\n",
    "{ i for i in dic}\n",
    "{key:dic[key] for key in dic}\n",
    "dict.items(dic)\n",
    "dic.items()\n",
    "{i:j for i,j in dic.items()}\n",
    "{j:i for i ,j in dic.items()}\n"
   ],
   "metadata": {
    "collapsed": false
   }
  },
  {
   "cell_type": "code",
   "execution_count": 48,
   "outputs": [
    {
     "data": {
      "text/plain": "[0, 1, 2, 3, 4, 5, 6, 7, 8, 9]"
     },
     "execution_count": 48,
     "metadata": {},
     "output_type": "execute_result"
    },
    {
     "data": {
      "text/plain": "[0, 1, 2, 3, 4, 5, 6, 7, 8, 9]"
     },
     "execution_count": 48,
     "metadata": {},
     "output_type": "execute_result"
    },
    {
     "data": {
      "text/plain": "(2890856966144, 2890857256768, 2890856966144)"
     },
     "execution_count": 48,
     "metadata": {},
     "output_type": "execute_result"
    }
   ],
   "source": [
    "li = [i for i in range(10)]\n",
    "li2= li[:]\n",
    "li\n",
    "li2\n",
    "li3 = li\n",
    "id(li),id(li2),id(li3)"
   ],
   "metadata": {
    "collapsed": false
   }
  },
  {
   "cell_type": "code",
   "execution_count": 46,
   "outputs": [
    {
     "name": "stdout",
     "output_type": "stream",
     "text": [
      "1 2 3\n"
     ]
    }
   ],
   "source": [
    "a,b,c = input('请输入3个数字：').split()\n",
    "a ,b,c = int(a),int(b),int(c)\n",
    "if a > b:\n",
    "    a,b = b,a\n",
    "if b > c:\n",
    "    b ,c = c,b\n",
    "if a>c:\n",
    "    a,c = c,a\n",
    "if a >b:\n",
    "    a,b= b,a\n",
    "print(a,b,c)\n"
   ],
   "metadata": {
    "collapsed": false
   }
  },
  {
   "cell_type": "code",
   "execution_count": 34,
   "outputs": [
    {
     "name": "stdout",
     "output_type": "stream",
     "text": [
      "1 1 1\n",
      "1 1 2\n",
      "1 1 3\n",
      "1 1 4\n",
      "1 2 1\n",
      "1 2 2\n",
      "1 2 3\n",
      "1 2 4\n",
      "1 3 1\n",
      "1 3 2\n",
      "1 3 3\n",
      "1 3 4\n",
      "1 4 1\n",
      "1 4 2\n",
      "1 4 3\n",
      "1 4 4\n",
      "2 1 1\n",
      "2 1 2\n",
      "2 1 3\n",
      "2 1 4\n",
      "2 2 1\n",
      "2 2 2\n",
      "2 2 3\n",
      "2 2 4\n",
      "2 3 1\n",
      "2 3 2\n",
      "2 3 3\n",
      "2 3 4\n",
      "2 4 1\n",
      "2 4 2\n",
      "2 4 3\n",
      "2 4 4\n",
      "3 1 1\n",
      "3 1 2\n",
      "3 1 3\n",
      "3 1 4\n",
      "3 2 1\n",
      "3 2 2\n",
      "3 2 3\n",
      "3 2 4\n",
      "3 3 1\n",
      "3 3 2\n",
      "3 3 3\n",
      "3 3 4\n",
      "3 4 1\n",
      "3 4 2\n",
      "3 4 3\n",
      "3 4 4\n",
      "4 1 1\n",
      "4 1 2\n",
      "4 1 3\n",
      "4 1 4\n",
      "4 2 1\n",
      "4 2 2\n",
      "4 2 3\n",
      "4 2 4\n",
      "4 3 1\n",
      "4 3 2\n",
      "4 3 3\n",
      "4 3 4\n",
      "4 4 1\n",
      "4 4 2\n",
      "4 4 3\n",
      "4 4 4\n"
     ]
    }
   ],
   "source": [
    "for i in range(1,5):\n",
    "    for j in range(1,5):\n",
    "        for k in range(1,5):\n",
    "            print(i,j,k)"
   ],
   "metadata": {
    "collapsed": false
   }
  },
  {
   "cell_type": "code",
   "execution_count": 33,
   "outputs": [
    {
     "data": {
      "text/plain": "'C:\\\\Users\\\\fzh00\\\\PycharmProjects\\\\pythonProject1'"
     },
     "execution_count": 33,
     "metadata": {},
     "output_type": "execute_result"
    },
    {
     "ename": "AttributeError",
     "evalue": "module 'os' has no attribute '_file_'",
     "output_type": "error",
     "traceback": [
      "\u001B[1;31m---------------------------------------------------------------------------\u001B[0m",
      "\u001B[1;31mAttributeError\u001B[0m                            Traceback (most recent call last)",
      "Cell \u001B[1;32mIn[33], line 3\u001B[0m\n\u001B[0;32m      1\u001B[0m \u001B[38;5;28;01mimport\u001B[39;00m \u001B[38;5;21;01mos\u001B[39;00m\n\u001B[0;32m      2\u001B[0m os\u001B[38;5;241m.\u001B[39mgetcwd()\n\u001B[1;32m----> 3\u001B[0m \u001B[43mos\u001B[49m\u001B[38;5;241;43m.\u001B[39;49m\u001B[43m_file_\u001B[49m\n",
      "\u001B[1;31mAttributeError\u001B[0m: module 'os' has no attribute '_file_'"
     ]
    }
   ],
   "source": [
    "import os\n",
    "os.getcwd()\n",
    "os._file_"
   ],
   "metadata": {
    "collapsed": false
   }
  },
  {
   "cell_type": "code",
   "execution_count": 32,
   "outputs": [
    {
     "data": {
      "text/plain": "'Wed Jan 25 21:59:54 2023'"
     },
     "execution_count": 32,
     "metadata": {},
     "output_type": "execute_result"
    },
    {
     "data": {
      "text/plain": "time.struct_time(tm_year=2023, tm_mon=1, tm_mday=25, tm_hour=21, tm_min=59, tm_sec=54, tm_wday=2, tm_yday=25, tm_isdst=0)"
     },
     "execution_count": 32,
     "metadata": {},
     "output_type": "execute_result"
    },
    {
     "data": {
      "text/plain": "1674655194230394900"
     },
     "execution_count": 32,
     "metadata": {},
     "output_type": "execute_result"
    },
    {
     "data": {
      "text/plain": "1674655194.2303948"
     },
     "execution_count": 32,
     "metadata": {},
     "output_type": "execute_result"
    }
   ],
   "source": [
    "import time\n",
    "time.asctime(time.localtime(time.time()))\n",
    "localtime = time.localtime(time.time())\n",
    "localtime\n",
    "time.time_ns()\n",
    "time.time()"
   ],
   "metadata": {
    "collapsed": false
   }
  },
  {
   "cell_type": "code",
   "execution_count": 27,
   "outputs": [
    {
     "data": {
      "text/plain": "array([0, 1, 2, 3, 4, 5, 6, 7, 8, 9])"
     },
     "execution_count": 27,
     "metadata": {},
     "output_type": "execute_result"
    },
    {
     "data": {
      "text/plain": "range(0, 10)"
     },
     "execution_count": 27,
     "metadata": {},
     "output_type": "execute_result"
    },
    {
     "data": {
      "text/plain": "range"
     },
     "execution_count": 27,
     "metadata": {},
     "output_type": "execute_result"
    }
   ],
   "source": [
    "import numpy as np\n",
    "np.arange(10)\n",
    "range(10)\n",
    "type(range(10))\n"
   ],
   "metadata": {
    "collapsed": false
   }
  },
  {
   "cell_type": "code",
   "execution_count": 23,
   "outputs": [
    {
     "name": "stdout",
     "output_type": "stream",
     "text": [
      "<class 'list'>\n"
     ]
    }
   ],
   "source": [
    "import json\n",
    "with open('test25.txt','r')as fp:\n",
    "    print(type(json.load(fp)))"
   ],
   "metadata": {
    "collapsed": false
   }
  },
  {
   "cell_type": "code",
   "execution_count": 22,
   "outputs": [
    {
     "name": "stdout",
     "output_type": "stream",
     "text": [
      "<class 'list'>\n"
     ]
    }
   ],
   "source": [
    "#反序列化，将json字符串变成一个python对象\n",
    "import json\n",
    "with open('test25.txt','r')as fp:\n",
    "    reslut=json.loads(fp.read())\n",
    "    print(type(reslut))\n",
    "\n",
    "\n"
   ],
   "metadata": {
    "collapsed": false
   }
  },
  {
   "cell_type": "code",
   "execution_count": 12,
   "outputs": [],
   "source": [
    "import json\n",
    "#使用scrapy框架时返回一个对象，使用dumps将对象变成一个json字符串\n",
    "#dump,将对象转换为字符串的同时，指定一个文件的对象，然后把转换后的字符串写入这个文件\n",
    "\n",
    "with open('test25.txt','a') as fp:\n",
    "    json.dump([i for i in range(100)],fp)\n",
    "\n"
   ],
   "metadata": {
    "collapsed": false
   }
  },
  {
   "cell_type": "code",
   "execution_count": 24,
   "outputs": [
    {
     "data": {
      "text/plain": "(1, 2, 3, 11, 22, 44)"
     },
     "execution_count": 24,
     "metadata": {},
     "output_type": "execute_result"
    }
   ],
   "source": [
    "(1,2,3)+(11,22,44)"
   ],
   "metadata": {
    "collapsed": false
   }
  },
  {
   "cell_type": "code",
   "execution_count": 10,
   "outputs": [
    {
     "data": {
      "text/plain": "390"
     },
     "execution_count": 10,
     "metadata": {},
     "output_type": "execute_result"
    }
   ],
   "source": [
    "#序列化的两种方式，dumps,dump\n",
    "#导入json模块到该文件中\n",
    "import json\n",
    "fp = open('test25.txt','a')\n",
    "name_list = [i for i in range(100)]\n",
    "names = json.dumps(name_list) #将python对象变为json字符序列\n",
    "fp.write(names)\n",
    "fp.close()"
   ],
   "metadata": {
    "collapsed": false
   }
  },
  {
   "cell_type": "code",
   "execution_count": 8,
   "outputs": [
    {
     "ename": "TypeError",
     "evalue": "write() argument must be str, not list",
     "output_type": "error",
     "traceback": [
      "\u001B[1;31m---------------------------------------------------------------------------\u001B[0m",
      "\u001B[1;31mTypeError\u001B[0m                                 Traceback (most recent call last)",
      "Cell \u001B[1;32mIn[8], line 3\u001B[0m\n\u001B[0;32m      1\u001B[0m \u001B[38;5;28;01mimport\u001B[39;00m \u001B[38;5;21;01mjson\u001B[39;00m\n\u001B[0;32m      2\u001B[0m fp \u001B[38;5;241m=\u001B[39m \u001B[38;5;28mopen\u001B[39m(\u001B[38;5;124m'\u001B[39m\u001B[38;5;124mtest25.txt\u001B[39m\u001B[38;5;124m'\u001B[39m,\u001B[38;5;124m'\u001B[39m\u001B[38;5;124ma\u001B[39m\u001B[38;5;124m'\u001B[39m)\n\u001B[1;32m----> 3\u001B[0m \u001B[43mfp\u001B[49m\u001B[38;5;241;43m.\u001B[39;49m\u001B[43mwrite\u001B[49m\u001B[43m(\u001B[49m\u001B[43m[\u001B[49m\u001B[43mi\u001B[49m\u001B[43m \u001B[49m\u001B[38;5;28;43;01mfor\u001B[39;49;00m\u001B[43m \u001B[49m\u001B[43mi\u001B[49m\u001B[43m \u001B[49m\u001B[38;5;129;43;01min\u001B[39;49;00m\u001B[43m \u001B[49m\u001B[38;5;28;43mrange\u001B[39;49m\u001B[43m(\u001B[49m\u001B[38;5;241;43m20\u001B[39;49m\u001B[43m)\u001B[49m\u001B[43m]\u001B[49m\u001B[43m)\u001B[49m\n\u001B[0;32m      4\u001B[0m fp\u001B[38;5;241m.\u001B[39mclose()\n",
      "\u001B[1;31mTypeError\u001B[0m: write() argument must be str, not list"
     ]
    }
   ],
   "source": [
    "import json\n",
    "fp = open('test25.txt','a')\n",
    "fp.write([i for i in range(20)])\n",
    "fp.close()"
   ],
   "metadata": {
    "collapsed": false
   }
  },
  {
   "cell_type": "code",
   "execution_count": 15,
   "outputs": [],
   "source": [
    "from IPython.core.interactiveshell import InteractiveShell\n",
    "InteractiveShell.ast_node_interactivity = \"all\""
   ],
   "metadata": {
    "collapsed": false
   }
  },
  {
   "cell_type": "code",
   "execution_count": 5,
   "outputs": [
    {
     "name": "stdout",
     "output_type": "stream",
     "text": [
      "1*1=1 \n",
      "1*2=2 2*2=4 \n",
      "1*3=3 2*3=6 3*3=9 \n",
      "1*4=4 2*4=8 3*4=12 4*4=16 \n",
      "1*5=5 2*5=10 3*5=15 4*5=20 5*5=25 \n",
      "1*6=6 2*6=12 3*6=18 4*6=24 5*6=30 6*6=36 \n",
      "1*7=7 2*7=14 3*7=21 4*7=28 5*7=35 6*7=42 7*7=49 \n",
      "1*8=8 2*8=16 3*8=24 4*8=32 5*8=40 6*8=48 7*8=56 8*8=64 \n",
      "1*9=9 2*9=18 3*9=27 4*9=36 5*9=45 6*9=54 7*9=63 8*9=72 9*9=81 \n"
     ]
    }
   ],
   "source": [
    "for i in range(1,10):\n",
    "    for j in range(1,i+1):\n",
    "        print('%d*%d=%d '%(j,i,i*j),end='')\n",
    "    print()"
   ],
   "metadata": {
    "collapsed": false
   }
  },
  {
   "cell_type": "code",
   "execution_count": 4,
   "outputs": [
    {
     "name": "stdout",
     "output_type": "stream",
     "text": [
      "hi, Hello World\n"
     ]
    }
   ],
   "source": [
    "print(\"{1}, {0} {world}\".format(\"Hello\",\"hi\", world=\"World\"))"
   ],
   "metadata": {
    "collapsed": false
   }
  },
  {
   "cell_type": "code",
   "execution_count": 24,
   "outputs": [
    {
     "data": {
      "text/plain": "['1*1=1',\n '2*1=2',\n '2*2=4',\n '3*1=3',\n '3*2=6',\n '3*3=9',\n '4*1=4',\n '4*2=8',\n '4*3=12',\n '4*4=16',\n '5*1=5',\n '5*2=10',\n '5*3=15',\n '5*4=20',\n '5*5=25',\n '6*1=6',\n '6*2=12',\n '6*3=18',\n '6*4=24',\n '6*5=30',\n '6*6=36',\n '7*1=7',\n '7*2=14',\n '7*3=21',\n '7*4=28',\n '7*5=35',\n '7*6=42',\n '7*7=49',\n '8*1=8',\n '8*2=16',\n '8*3=24',\n '8*4=32',\n '8*5=40',\n '8*6=48',\n '8*7=56',\n '8*8=64',\n '9*1=9',\n '9*2=18',\n '9*3=27',\n '9*4=36',\n '9*5=45',\n '9*6=54',\n '9*7=63',\n '9*8=72',\n '9*9=81']"
     },
     "execution_count": 24,
     "metadata": {},
     "output_type": "execute_result"
    }
   ],
   "source": [
    "['{}*{}={}'.format(i,j,i*j) for i in range(1,10) for j in range(1,i+1)]"
   ],
   "metadata": {
    "collapsed": false
   }
  },
  {
   "cell_type": "code",
   "execution_count": null,
   "outputs": [],
   "source": [],
   "metadata": {
    "collapsed": false
   }
  },
  {
   "cell_type": "code",
   "execution_count": 23,
   "outputs": [
    {
     "data": {
      "text/plain": "11"
     },
     "execution_count": 23,
     "metadata": {},
     "output_type": "execute_result"
    },
    {
     "data": {
      "text/plain": "22"
     },
     "execution_count": 23,
     "metadata": {},
     "output_type": "execute_result"
    },
    {
     "data": {
      "text/plain": "(1, 2, 3)"
     },
     "execution_count": 23,
     "metadata": {},
     "output_type": "execute_result"
    },
    {
     "data": {
      "text/plain": "(11, 22, (1, 2, 3))"
     },
     "execution_count": 23,
     "metadata": {},
     "output_type": "execute_result"
    }
   ],
   "source": [
    "a,b,c = 11,22,(1,2,3)\n",
    "a\n",
    "b\n",
    "c\n",
    "a,b,c"
   ],
   "metadata": {
    "collapsed": false
   }
  },
  {
   "cell_type": "code",
   "execution_count": 17,
   "outputs": [
    {
     "data": {
      "text/plain": "('a', 'b', 'c')"
     },
     "execution_count": 17,
     "metadata": {},
     "output_type": "execute_result"
    }
   ],
   "source": [
    "x,y,z = dict(a=1,b=2,c=3)\n",
    "x,y,z"
   ],
   "metadata": {
    "collapsed": false
   }
  },
  {
   "cell_type": "code",
   "execution_count": 12,
   "outputs": [
    {
     "ename": "SyntaxError",
     "evalue": "invalid syntax (3835430441.py, line 4)",
     "output_type": "error",
     "traceback": [
      "\u001B[1;36m  Cell \u001B[1;32mIn[12], line 4\u001B[1;36m\u001B[0m\n\u001B[1;33m    {i for i in lambda **x:x}\u001B[0m\n\u001B[1;37m                ^\u001B[0m\n\u001B[1;31mSyntaxError\u001B[0m\u001B[1;31m:\u001B[0m invalid syntax\n"
     ]
    }
   ],
   "source": [
    "g = lambda **x:x\n",
    "g(a=1,b=2,c=3,b2=22)\n",
    "g(x = 11)\n"
   ],
   "metadata": {
    "collapsed": false
   }
  },
  {
   "cell_type": "code",
   "execution_count": 14,
   "outputs": [
    {
     "data": {
      "text/plain": "{'x': 1, 'y': 2, 'z': 3}"
     },
     "execution_count": 14,
     "metadata": {},
     "output_type": "execute_result"
    }
   ],
   "source": [
    "def fun(**b):\n",
    "    return b\n",
    "fun(x=1,y=2,z=3)"
   ],
   "metadata": {
    "collapsed": false
   }
  },
  {
   "cell_type": "code",
   "execution_count": 15,
   "outputs": [
    {
     "data": {
      "text/plain": "{'a': 1, 'b': 2, 'c': 3}"
     },
     "execution_count": 15,
     "metadata": {},
     "output_type": "execute_result"
    }
   ],
   "source": [
    "fun(a=1,b=2,c=3)"
   ],
   "metadata": {
    "collapsed": false
   }
  },
  {
   "cell_type": "code",
   "execution_count": 1,
   "outputs": [
    {
     "data": {
      "text/plain": "'https://sz.lianjia.com/zufang/luofuqu/rt200600000001l1/'"
     },
     "execution_count": 1,
     "metadata": {},
     "output_type": "execute_result"
    }
   ],
   "source": [
    "url = 'https://sz.lianjia.com/zufang/luofuqu/rt200600000001l1/'\n",
    "from requests_html import HTMLSession\n",
    "session = HTMLSession()\n",
    "r = session.get(url)\n",
    "r.html.url\n"
   ],
   "metadata": {
    "collapsed": false
   }
  },
  {
   "cell_type": "code",
   "execution_count": 11,
   "outputs": [
    {
     "data": {
      "text/plain": "[6300,\n 9000,\n 5600,\n 9000,\n 4000,\n 4150,\n 7000,\n 9800,\n 8600,\n 1100,\n 6400,\n 4980,\n 5500,\n 3580,\n 7300,\n 6500,\n 6800,\n 1200,\n 8000,\n 5600,\n 7400,\n 6300,\n 8500,\n 6500,\n 1000,\n 4580,\n 6000,\n 4080,\n 5000,\n 1200]"
     },
     "execution_count": 11,
     "metadata": {},
     "output_type": "execute_result"
    }
   ],
   "source": [
    "[int(i.text[:4]) for i in r.html.find('em')[:-1]]"
   ],
   "metadata": {
    "collapsed": false
   }
  },
  {
   "cell_type": "code",
   "execution_count": 10,
   "outputs": [
    {
     "data": {
      "text/plain": "['6300',\n '9000',\n '5600',\n '9000',\n '4000',\n '4150',\n '7000',\n '9800',\n '8600',\n '11000-12500',\n '6400',\n '4980',\n '5500',\n '3580',\n '7300',\n '6500',\n '6800',\n '12000',\n '8000',\n '5600',\n '7400',\n '6300',\n '8500',\n '6500',\n '10000',\n '4580',\n '6000',\n '4080',\n '5000',\n '12000',\n '链家微信小程序']"
     },
     "execution_count": 10,
     "metadata": {},
     "output_type": "execute_result"
    }
   ],
   "source": [
    "r.html.xpath('//em/text()')"
   ],
   "metadata": {
    "collapsed": false
   }
  },
  {
   "cell_type": "code",
   "execution_count": 42,
   "outputs": [
    {
     "data": {
      "text/plain": "(3, 1)"
     },
     "execution_count": 42,
     "metadata": {},
     "output_type": "execute_result"
    }
   ],
   "source": [
    "divmod(10,3)\n"
   ],
   "metadata": {
    "collapsed": false
   }
  },
  {
   "cell_type": "code",
   "execution_count": 20,
   "outputs": [
    {
     "data": {
      "text/plain": "'0b11110'"
     },
     "execution_count": 20,
     "metadata": {},
     "output_type": "execute_result"
    },
    {
     "data": {
      "text/plain": "'0b11110'"
     },
     "execution_count": 20,
     "metadata": {},
     "output_type": "execute_result"
    },
    {
     "data": {
      "text/plain": "'0b11110'"
     },
     "execution_count": 20,
     "metadata": {},
     "output_type": "execute_result"
    },
    {
     "data": {
      "text/plain": "'0b1111'"
     },
     "execution_count": 20,
     "metadata": {},
     "output_type": "execute_result"
    },
    {
     "data": {
      "text/plain": "'0b111100'"
     },
     "execution_count": 20,
     "metadata": {},
     "output_type": "execute_result"
    }
   ],
   "source": [
    "bin(30)\n",
    "bin(30&30)\n",
    "bin(30|30)\n",
    "bin(30>>1)\n",
    "bin(30<<1)"
   ],
   "metadata": {
    "collapsed": false
   }
  },
  {
   "cell_type": "code",
   "execution_count": 16,
   "outputs": [],
   "source": [
    "from IPython.core.interactiveshell import InteractiveShell\n",
    "InteractiveShell.ast_node_interactivity = \"all\""
   ],
   "metadata": {
    "collapsed": false
   }
  },
  {
   "cell_type": "code",
   "execution_count": 23,
   "outputs": [
    {
     "data": {
      "text/plain": "0"
     },
     "execution_count": 23,
     "metadata": {},
     "output_type": "execute_result"
    }
   ],
   "source": [
    "2&20"
   ],
   "metadata": {
    "collapsed": false
   }
  },
  {
   "cell_type": "code",
   "execution_count": 28,
   "outputs": [
    {
     "data": {
      "text/plain": "'0b11110'"
     },
     "execution_count": 28,
     "metadata": {},
     "output_type": "execute_result"
    },
    {
     "ename": "TypeError",
     "evalue": "bad operand type for unary ~: 'str'",
     "output_type": "error",
     "traceback": [
      "\u001B[1;31m---------------------------------------------------------------------------\u001B[0m",
      "\u001B[1;31mTypeError\u001B[0m                                 Traceback (most recent call last)",
      "Cell \u001B[1;32mIn[28], line 3\u001B[0m\n\u001B[0;32m      1\u001B[0m \u001B[38;5;28mbin\u001B[39m(\u001B[38;5;241m30\u001B[39m)\n\u001B[1;32m----> 3\u001B[0m \u001B[38;5;241;43m~\u001B[39;49m\u001B[38;5;28;43mbin\u001B[39;49m\u001B[43m(\u001B[49m\u001B[38;5;241;43m-\u001B[39;49m\u001B[38;5;241;43m30\u001B[39;49m\u001B[43m)\u001B[49m\n",
      "\u001B[1;31mTypeError\u001B[0m: bad operand type for unary ~: 'str'"
     ]
    }
   ],
   "source": [
    "bin(30)\n",
    "\n",
    "bin(-30)"
   ],
   "metadata": {
    "collapsed": false
   }
  },
  {
   "cell_type": "code",
   "execution_count": 32,
   "outputs": [
    {
     "ename": "TypeError",
     "evalue": "'NoneType' object is not iterable",
     "output_type": "error",
     "traceback": [
      "\u001B[1;31m---------------------------------------------------------------------------\u001B[0m",
      "\u001B[1;31mTypeError\u001B[0m                                 Traceback (most recent call last)",
      "Cell \u001B[1;32mIn[32], line 3\u001B[0m\n\u001B[0;32m      1\u001B[0m \u001B[38;5;28;01mdef\u001B[39;00m \u001B[38;5;21margs\u001B[39m(\u001B[38;5;241m*\u001B[39mx):\n\u001B[0;32m      2\u001B[0m     \u001B[38;5;28;01mpass\u001B[39;00m\n\u001B[1;32m----> 3\u001B[0m \u001B[38;5;28;01mfor\u001B[39;00m i \u001B[38;5;129;01min\u001B[39;00m args(\u001B[38;5;241m1\u001B[39m,\u001B[38;5;241m3\u001B[39m,\u001B[38;5;241m3\u001B[39m):\n\u001B[0;32m      4\u001B[0m     \u001B[38;5;28mprint\u001B[39m((i,))\n",
      "\u001B[1;31mTypeError\u001B[0m: 'NoneType' object is not iterable"
     ]
    }
   ],
   "source": [
    "def args(*x):\n",
    "    pass\n",
    "for i in args(1,3,3):\n",
    "    print((i,))\n"
   ],
   "metadata": {
    "collapsed": false
   }
  },
  {
   "cell_type": "code",
   "execution_count": 2,
   "outputs": [
    {
     "data": {
      "text/plain": "       CATE  bedrooms  halls    AREA   floor  subway  school  price  \\\n0  chaoyang         1      0   46.06  middle       1       0  48850   \n1  chaoyang         1      1   59.09  middle       1       0  46540   \n2   haidian         5      2  278.95    high       1       1  71662   \n3   haidian         3      2  207.00    high       1       1  57972   \n4   fengtai         2      1   53.32     low       1       1  71268   \n\n         LONG        LAT     NAME DISTRICT  \n0  116.459653  39.928347  10AM新坐标       方庄  \n1  116.459653  39.928347  10AM新坐标       方庄  \n2  116.303556  39.954807    10号名邸      紫竹桥  \n3  116.303556  39.954807    10号名邸      紫竹桥  \n4  116.418826  39.943813    17号旁门      蒲黄榆  ",
      "text/html": "<div>\n<style scoped>\n    .dataframe tbody tr th:only-of-type {\n        vertical-align: middle;\n    }\n\n    .dataframe tbody tr th {\n        vertical-align: top;\n    }\n\n    .dataframe thead th {\n        text-align: right;\n    }\n</style>\n<table border=\"1\" class=\"dataframe\">\n  <thead>\n    <tr style=\"text-align: right;\">\n      <th></th>\n      <th>CATE</th>\n      <th>bedrooms</th>\n      <th>halls</th>\n      <th>AREA</th>\n      <th>floor</th>\n      <th>subway</th>\n      <th>school</th>\n      <th>price</th>\n      <th>LONG</th>\n      <th>LAT</th>\n      <th>NAME</th>\n      <th>DISTRICT</th>\n    </tr>\n  </thead>\n  <tbody>\n    <tr>\n      <th>0</th>\n      <td>chaoyang</td>\n      <td>1</td>\n      <td>0</td>\n      <td>46.06</td>\n      <td>middle</td>\n      <td>1</td>\n      <td>0</td>\n      <td>48850</td>\n      <td>116.459653</td>\n      <td>39.928347</td>\n      <td>10AM新坐标</td>\n      <td>方庄</td>\n    </tr>\n    <tr>\n      <th>1</th>\n      <td>chaoyang</td>\n      <td>1</td>\n      <td>1</td>\n      <td>59.09</td>\n      <td>middle</td>\n      <td>1</td>\n      <td>0</td>\n      <td>46540</td>\n      <td>116.459653</td>\n      <td>39.928347</td>\n      <td>10AM新坐标</td>\n      <td>方庄</td>\n    </tr>\n    <tr>\n      <th>2</th>\n      <td>haidian</td>\n      <td>5</td>\n      <td>2</td>\n      <td>278.95</td>\n      <td>high</td>\n      <td>1</td>\n      <td>1</td>\n      <td>71662</td>\n      <td>116.303556</td>\n      <td>39.954807</td>\n      <td>10号名邸</td>\n      <td>紫竹桥</td>\n    </tr>\n    <tr>\n      <th>3</th>\n      <td>haidian</td>\n      <td>3</td>\n      <td>2</td>\n      <td>207.00</td>\n      <td>high</td>\n      <td>1</td>\n      <td>1</td>\n      <td>57972</td>\n      <td>116.303556</td>\n      <td>39.954807</td>\n      <td>10号名邸</td>\n      <td>紫竹桥</td>\n    </tr>\n    <tr>\n      <th>4</th>\n      <td>fengtai</td>\n      <td>2</td>\n      <td>1</td>\n      <td>53.32</td>\n      <td>low</td>\n      <td>1</td>\n      <td>1</td>\n      <td>71268</td>\n      <td>116.418826</td>\n      <td>39.943813</td>\n      <td>17号旁门</td>\n      <td>蒲黄榆</td>\n    </tr>\n  </tbody>\n</table>\n</div>"
     },
     "execution_count": 2,
     "metadata": {},
     "output_type": "execute_result"
    }
   ],
   "source": [
    "import pandas as pd\n",
    "df = pd.read_csv(r\"C:\\Users\\fzh00\\Desktop\\文件\\1、Python数据清洗基础\\data\\ershoufang.csv\",\n",
    "                encoding='ANSI')\n",
    "df.head()"
   ],
   "metadata": {
    "collapsed": false
   }
  },
  {
   "cell_type": "code",
   "execution_count": 41,
   "outputs": [
    {
     "name": "stdout",
     "output_type": "stream",
     "text": [
      "8\n",
      "[(1, '财务部', '加州'), (10, 'accounting', 'new york'), (20, 'research', 'dallas'), (30, '产品部', '上海'), (33, '内控', '武汉'), (40, '核保', '深圳'), (50, '理赔部', '北京'), (54, '综合部', '成都')]\n"
     ]
    },
    {
     "data": {
      "text/plain": "16"
     },
     "execution_count": 41,
     "metadata": {},
     "output_type": "execute_result"
    },
    {
     "name": "stdout",
     "output_type": "stream",
     "text": [
      "(1001, 'a', '佳佳', 7369, datetime.date(2021, 2, 1), Decimal('8000'), Decimal('600'), 40)\n",
      "(1003, 'd', 'acountant', None, None, Decimal('0'), None, 40)\n",
      "(7369, 'smith', 'clerk', 7902, datetime.date(1980, 12, 17), Decimal('800'), None, 20)\n",
      "(7499, 'allen', 'salesman', 7698, datetime.date(1981, 2, 20), Decimal('1600'), Decimal('300'), 30)\n",
      "(7521, 'ward', 'salesman', 7698, datetime.date(1981, 2, 22), Decimal('1250'), Decimal('500'), 30)\n",
      "(7566, 'jones', 'manager', 7839, datetime.date(1981, 4, 2), Decimal('2975'), None, 20)\n",
      "(7654, 'martin', 'salesman', 7698, datetime.date(1981, 9, 28), Decimal('1250'), Decimal('1400'), 30)\n",
      "(7698, 'blake', 'manager', 7839, datetime.date(1981, 5, 1), Decimal('2850'), None, 30)\n",
      "(7782, 'clark', 'manager', 7839, datetime.date(1981, 6, 9), Decimal('2450'), None, 10)\n",
      "(7788, 'scott', 'analyst', 7566, datetime.date(1987, 4, 19), Decimal('3000'), None, 20)\n",
      "(7839, 'king', 'persident', None, datetime.date(1981, 11, 17), Decimal('5000'), None, 10)\n",
      "(7844, 'turner', 'salesman', 7698, datetime.date(1981, 9, 8), Decimal('1500'), Decimal('0'), 30)\n",
      "(7876, 'adams', 'clerk', 7788, datetime.date(1987, 5, 23), Decimal('1100'), None, 20)\n",
      "(7900, 'james', 'clerk', 7698, datetime.date(1981, 12, 3), Decimal('950'), None, 30)\n",
      "(7902, 'ford', 'analyst', 7566, datetime.date(1981, 12, 3), Decimal('3000'), None, 20)\n",
      "(7934, 'miller', 'clerk', 7782, datetime.date(1982, 1, 23), Decimal('1300'), None, 10)\n"
     ]
    }
   ],
   "source": [
    "import pymysql\n",
    "\n",
    "con = pymysql.connect(host='127.0.0.1',user='root',password='1qaz@WSX',database='cda')\n",
    "cur = con.cursor()\n",
    "sql = 'select * from dept'\n",
    "result = cur.execute(sql)\n",
    "print(result)\n",
    "# print(cur.fetchall())\n",
    "print([i for i in cur.fetchall()])\n",
    "sql2 = 'select * from emp'\n",
    "cur.execute(sql2)\n",
    "for i in cur.fetchall():\n",
    "    print(i)\n",
    "con.close()"
   ],
   "metadata": {
    "collapsed": false
   }
  },
  {
   "cell_type": "code",
   "execution_count": 1,
   "outputs": [],
   "source": [
    "from IPython.core.interactiveshell import InteractiveShell\n",
    "InteractiveShell.ast_node_interactivity = \"all\""
   ],
   "metadata": {
    "collapsed": false
   }
  },
  {
   "cell_type": "code",
   "execution_count": 18,
   "outputs": [
    {
     "name": "stderr",
     "output_type": "stream",
     "text": [
      "C:\\Users\\fzh00\\AppData\\Local\\Temp\\ipykernel_9728\\3596547989.py:2: MatplotlibDeprecationWarning: The seaborn styles shipped by Matplotlib are deprecated since 3.6, as they no longer correspond to the styles shipped by seaborn. However, they will remain available as 'seaborn-v0_8-<style>'. Alternatively, directly use the seaborn API instead.\n",
      "  plt.style.use('seaborn')\n"
     ]
    }
   ],
   "source": [
    "#设置绘图风格\n",
    "plt.style.use('seaborn')\n",
    "#设置字体为黑色\n",
    "plt.rcParams['font.family']='SimHei'\n",
    "#显示符号\n",
    "plt.rcParams['axes.unicode_minus']= False"
   ],
   "metadata": {
    "collapsed": false
   }
  },
  {
   "cell_type": "code",
   "execution_count": 16,
   "outputs": [],
   "source": [
    "from IPython.core.interactiveshell import InteractiveShell\n",
    "InteractiveShell.ast_node_interactivity = \"all\""
   ],
   "metadata": {
    "collapsed": false
   }
  },
  {
   "cell_type": "code",
   "execution_count": 17,
   "outputs": [],
   "source": [
    "import matplotlib.pyplot as plt\n",
    "import numpy as np\n",
    "import pandas as pd\n"
   ],
   "metadata": {
    "collapsed": false
   }
  }
 ],
 "metadata": {
  "kernelspec": {
   "display_name": "Python 3",
   "language": "python",
   "name": "python3"
  },
  "language_info": {
   "codemirror_mode": {
    "name": "ipython",
    "version": 2
   },
   "file_extension": ".py",
   "mimetype": "text/x-python",
   "name": "python",
   "nbconvert_exporter": "python",
   "pygments_lexer": "ipython2",
   "version": "2.7.6"
  }
 },
 "nbformat": 4,
 "nbformat_minor": 0
}
