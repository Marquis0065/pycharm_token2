{
 "cells": [
  {
   "cell_type": "code",
   "execution_count": 1,
   "metadata": {
    "collapsed": true
   },
   "outputs": [],
   "source": [
    "# 邮件的标题,需要引入email库中header模块中的Header()函数。\n",
    "# 邮件的内容,需要引入email库中mime模块下text模块中的MIMEText()函数。\n",
    "# 邮件的发送者、接收者、服务器地址、端口号、账号、密码等，需要引入smtplib，使用SMTP_SSL()函数。\n",
    "from email.header import Header\n",
    "from email.mime.text import MIMEText\n",
    "import smtplib #SMTP协议客户端"
   ]
  },
  {
   "cell_type": "code",
   "execution_count": 12,
   "outputs": [],
   "source": [
    "import smtplib\n",
    "from email.header import Header\n",
    "from email.mime.text import MIMEText\n",
    "\n",
    "# 1. 配置邮箱信息\n",
    "sender = '1071255432@qq.com'  # 发件人\n",
    "receiver = '78330316@qq.com'  # 收件人\n",
    "pass_code = 'ebskndibyzbrbbfb'\n",
    "# 2. 邮箱服务连接\n",
    "conn = smtplib.SMTP_SSL('smtp.qq.com', 465)  # qq邮箱的smtp服务地址：smtp.qq.com，默认端口：25\n",
    "# 3. 邮件内容的定义\n",
    "text = '这是一封普通的文本test邮件'  # 邮件正文，信\n",
    "content = MIMEText(text, 'plain', 'utf-8')  # 实现邮件发送的内容定义，信封\n",
    "\n",
    "# 4. 定义收件人与发件人，邮件主题等相关信息\n",
    "content['From'] = sender  # 发件人\n",
    "content['To'] = receiver  # 收件人\n",
    "# 添加邮件的主题\n",
    "email_theme = '第三封测试信件'\n",
    "content['Subject'] = Header(email_theme, 'utf-8')  # 实现邮件主题的添加。\n",
    "\n",
    "# 5. 发送邮件\n",
    "conn.login(sender, pass_code)  # 登录smtp服务，是用账号与授权码，而不是账号与密码。\n",
    "conn.sendmail(sender, receiver, content.as_string())  # 邮件发送\n",
    "# 6.关闭smtp服务\n",
    "conn.close()"
   ],
   "metadata": {
    "collapsed": false
   }
  },
  {
   "cell_type": "code",
   "execution_count": 10,
   "outputs": [
    {
     "data": {
      "text/plain": "{}"
     },
     "execution_count": 10,
     "metadata": {},
     "output_type": "execute_result"
    }
   ],
   "source": [
    "# 1定义邮箱服务器地址、端口、发件人账号、密码、收件人账号和邮件标题及邮件内容\n",
    "host = 'smtp.qq.com'\n",
    "port = 465\n",
    "#port = 587\n",
    "user = '1071255432@qq.com'\n",
    "password = 'ebskndibyzbrbbfb'\n",
    "receiver = ['fzh006591@hotmail.com','fzh006591@sohu.com','fzh006591@gmail.com']\n",
    "title = '发送邮件测试2023-7-9于JAZZ'\n",
    "text = '这是今天的第二封测试邮件，'\n",
    "# 2发送邮件，需要指定邮件正文，通过MIMEtext函数\n",
    "message = MIMEText(text,'plain','utf-8')\n",
    "#加入标题，及收件人\n",
    "message['Subject'] = Header(title,'utf-8')\n",
    "message['From'] = user\n",
    "message['To'] = ';'.join(receiver)\n",
    "#发送邮件\n",
    "smtp = smtplib.SMTP_SSL(host)\n",
    "smtp.connect(host,port)\n",
    "smtp.login(user,password)\n",
    "#发送，指定发件人账号，收件人账号，内容\n",
    "smtp.sendmail(user,receiver,message.as_string())"
   ],
   "metadata": {
    "collapsed": false
   }
  },
  {
   "cell_type": "code",
   "execution_count": 20,
   "outputs": [],
   "source": [
    "#  发送HTML格式的邮件\n",
    "import smtplib\n",
    "from email.header import Header\n",
    "from email.mime.text import MIMEText\n",
    "\n",
    "# 1. 配置邮箱信息\n",
    "sender = '1071255432@qq.com'  # 发件人\n",
    "receiver = '78330316@qq.com'  # 收件人\n",
    "pass_code = 'ebskndibyzbrbbfb'  # 授权码：是发件人的授权码，也就是你之前开启SMTP服务时返回的字符串\n",
    "\n",
    "# 2. 邮箱服务连接\n",
    "conn = smtplib.SMTP_SSL('smtp.qq.com', 465)  # qq邮箱的smtp服务地址：smtp.qq.com，默认端口：25\n",
    "\n",
    "# 3. 邮件内容的定义\n",
    "# 邮件正文，html内容\n",
    "html = '''\n",
    "    <p>这是hzp的html邮件内容</p>\n",
    "    <p><a href=\"http://www.baidu.com\">百度地址</a></p>\n",
    "\n",
    "\n",
    "'''\n",
    "content = MIMEText(html, 'html', 'utf-8')  # 实现邮件发送的内容定义，信封，因为是html内容，所以将plain改为html\n",
    "\n",
    "# 4. 定义收件人与发件人，邮件主题等相关信息\n",
    "content['From'] = sender  # 发件人\n",
    "content['To'] = receiver  # 收件人\n",
    "# 添加邮件的主题\n",
    "email_theme = '这是HTML格式的邮件'\n",
    "content['Subject'] = Header(email_theme, 'utf-8')  # 实现邮件主题的添加。\n",
    "\n",
    "# 5. 发送邮件\n",
    "conn.login(sender, pass_code)  # 登录smtp服务，是用账号与授权码，而不是账号与密码。\n",
    "conn.sendmail(sender, receiver, content.as_string())  # 邮件发送\n",
    "\n",
    "# 6.关闭smtp服务\n",
    "conn.close()"
   ],
   "metadata": {
    "collapsed": false
   }
  },
  {
   "cell_type": "code",
   "execution_count": 13,
   "outputs": [],
   "source": [
    "#  发送HTML格式的邮件\n",
    "import smtplib\n",
    "from email.header import Header\n",
    "from email.mime.text import MIMEText\n",
    "\n",
    "# 1. 配置邮箱信息\n",
    "sender = '1071255432@qq.com'  # 发件人\n",
    "receiver = '78330316@qq.com'  # 收件人\n",
    "pass_code = 'ebskndibyzbrbbfb'  # 授权码：是发件人的授权码，也就是你之前开启SMTP服务时返回的字符串\n",
    "\n",
    "# 2. 邮箱服务连接\n",
    "conn = smtplib.SMTP_SSL('smtp.qq.com', 465)  # qq邮箱的smtp服务地址：smtp.qq.com，默认端口：25\n",
    "\n",
    "# 3. 邮件内容的定义\n",
    "# 邮件正文，html内容\n",
    "html = '''\n",
    "    <h1>大标题</h1>\n",
    "    <p>这是hzp的html邮件内容</p>\n",
    "    <p><a href=\"http://www.baidu.com\">百度地址</a></p>\n",
    "'''\n",
    "content = MIMEText(html, 'html', 'utf-8')  # 实现邮件发送的内容定义，信封，因为是html内容，所以将plain改为html\n",
    "\n",
    "# 4. 定义收件人与发件人，邮件主题等相关信息\n",
    "content['From'] = sender  # 发件人\n",
    "content['To'] = receiver  # 收件人\n",
    "# 添加邮件的主题\n",
    "email_theme = '这是HTML格式的邮件'\n",
    "content['Subject'] = Header(email_theme, 'utf-8')  # 实现邮件主题的添加。\n",
    "\n",
    "# 5. 发送邮件\n",
    "conn.login(sender, pass_code)  # 登录smtp服务，是用账号与授权码，而不是账号与密码。\n",
    "conn.sendmail(sender, receiver, content.as_string())  # 邮件发送\n",
    "\n",
    "# 6.关闭smtp服务\n",
    "conn.close()"
   ],
   "metadata": {
    "collapsed": false
   }
  },
  {
   "cell_type": "code",
   "execution_count": 18,
   "outputs": [],
   "source": [
    "# 发送附件格式的邮件\n",
    "import smtplib\n",
    "from email.header import Header\n",
    "from email.mime.multipart import MIMEMultipart\n",
    "from email.mime.text import MIMEText\n",
    "\n",
    "# 1. 配置邮箱信息\n",
    "sender = '1071255432@qq.com'  # 发件人\n",
    "receiver = '78330316@qq.com'  # 收件人\n",
    "pass_code = 'ebskndibyzbrbbfb'  # 授权码：是发件人的授权码，也就是你之前开启SMTP服务时返回的字符串\n",
    "\n",
    "# 2. 邮箱服务连接\n",
    "conn = smtplib.SMTP_SSL('smtp.qq.com', 465)  # qq邮箱的smtp服务地址：smtp.qq.com，默认端口：465\n",
    "\n",
    "# 3. 邮件内容的定义\n",
    "# 创建一个带有附件的邮件对象：相当于快递箱子\n",
    "email = MIMEMultipart()\n",
    "# 邮件正文\n",
    "html = '请查收 附件，谢谢~'\n",
    "content = MIMEText(html, 'plain', 'utf-8')  # 实现邮件发送的内容定义，信封\n",
    "# 将邮件正文添加到邮件中\n",
    "email.attach(content)\n",
    "\n",
    "# 附件的定义：通过附件对象来设置，如果附件对象的设置不完整，会出现文件内容乱码以及文件名称乱码的情况。filename指的是在邮件中，附件的名字。\n",
    "att = MIMEText(open(r'C:\\Users\\fzh00\\PycharmProjects\\pythonProject1\\pic.jpg', 'rb').read(), 'base64', 'utf-8')\n",
    "att.add_header('Content-Type', 'octet-stream')\n",
    "att.add_header('Content-Disposition', 'attachment', filename='picture.jpg')\n",
    "# 将附件添加到邮件中\n",
    "email.attach(att)\n",
    "\n",
    "# 4. 定义收件人与发件人，邮件主题等相关信息\n",
    "email['From'] = sender  # 发件人\n",
    "email['To'] = receiver  # 收件人\n",
    "# 添加邮件的主题\n",
    "email_theme = '这是这份信的主题'\n",
    "email['Subject'] = Header(email_theme, 'utf-8')  # 实现邮件主题的添加。\n",
    "\n",
    "# 5. 发送邮件\n",
    "conn.login(sender, pass_code)  # 登录smtp服务，是用账号与授权码，而不是账号与密码。\n",
    "conn.sendmail(sender, receiver, email.as_string())  # 邮件发送：发的是快递，和上面不同\n",
    "\n",
    "# 6.关闭smtp服务\n",
    "conn.close()"
   ],
   "metadata": {
    "collapsed": false
   }
  },
  {
   "cell_type": "code",
   "execution_count": 25,
   "outputs": [],
   "source": [
    "# 发送附件简化版\n",
    "import smtplib\n",
    "from email.header import Header\n",
    "from email.mime.multipart import MIMEMultipart\n",
    "from email.mime.text import MIMEText\n",
    "\n",
    "user_ = '1071255432@qq.com'  # 发件人账号\n",
    "password_ = 'ebskndibyzbrbbfb'  # 发件账号密码（授权码）\n",
    "receivers_ = ['fzh006591@hotmail.com','fzh006591@sohu.com','78330316@qq.com']  # 收件人账号列表\n",
    "# 2发送邮件，需要指定邮件正文，通过MIMEMultipart函数\n",
    "message = MIMEMultipart()  # 生成带有附件的邮件正文对象\n",
    "message[\"Subject\"] = Header('来自pycharm的主题', charset=\"utf-8\")  # 添加邮件的主题到邮件正文对象中\n",
    "message[\"From\"] = user_  # 添加发件邮箱到邮件对象\n",
    "message[\"To\"] = \";\".join(receivers_)  # #添加收件邮箱到邮件对象\n",
    "message.attach(MIMEText('修改后的pycharm内容', _subtype='plain', _charset=\"utf-8\"))  # 带有带附件的正文内容\n",
    "\n",
    "# 3构造附件\n",
    "att = MIMEText(open(r\"C:\\Users\\fzh00\\PycharmProjects\\pythonProject1\\物品分类显示.xlsx\", 'rb').read(), \"base64\", 'utf-8')  # rb表示以二进制的形式读取数据\n",
    "# att[\"Content-Type\"] = 'application/octet-stream'  # 八位组流协议\n",
    "# att[\"Content-Disposition\"] = \"attachment;filename=利润表_附件.xlsx\"  # 附件\n",
    "att.add_header('Content-Type', 'octet-stream')\n",
    "att.add_header('Content-Disposition', 'attachment', filename='物品分类.xlsx')\n",
    "message.attach(att)\n",
    "# 4. 邮箱服务连接\n",
    "conn = smtplib.SMTP_SSL('smtp.qq.com', 465)\n",
    "# 5. 发送邮件\n",
    "conn.login(user_, password_)  # 登录smtp服务，是用账号与授权码，而不是账号与密码。\n",
    "conn.sendmail(user_, receivers_, message.as_string())  # 邮件发送\n",
    "# 6.关闭smtp服务\n",
    "conn.close()"
   ],
   "metadata": {
    "collapsed": false
   }
  },
  {
   "cell_type": "code",
   "execution_count": 24,
   "outputs": [
    {
     "data": {
      "text/plain": "'C:\\\\ProgramData\\\\Anaconda3\\\\envs\\\\cda_python\\\\lib\\\\os.py'"
     },
     "execution_count": 24,
     "metadata": {},
     "output_type": "execute_result"
    }
   ],
   "source": [
    "import os\n",
    "os.__file__"
   ],
   "metadata": {
    "collapsed": false
   }
  }
 ],
 "metadata": {
  "kernelspec": {
   "display_name": "Python 3",
   "language": "python",
   "name": "python3"
  },
  "language_info": {
   "codemirror_mode": {
    "name": "ipython",
    "version": 2
   },
   "file_extension": ".py",
   "mimetype": "text/x-python",
   "name": "python",
   "nbconvert_exporter": "python",
   "pygments_lexer": "ipython2",
   "version": "2.7.6"
  }
 },
 "nbformat": 4,
 "nbformat_minor": 0
}
