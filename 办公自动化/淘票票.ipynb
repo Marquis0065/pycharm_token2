{
 "cells": [
  {
   "cell_type": "code",
   "execution_count": 4,
   "metadata": {
    "collapsed": true
   },
   "outputs": [
    {
     "data": {
      "text/plain": "['阿坝',\n '阿克苏',\n '阿拉善',\n '阿勒泰',\n '安康',\n '安庆',\n '鞍山',\n '安顺',\n '安阳',\n '白城',\n '百色',\n '白沙',\n '白山',\n '白银',\n '保定',\n '宝鸡',\n '保山',\n '包头',\n '巴彦淖尔',\n '巴中',\n '北海',\n '北京',\n '蚌埠',\n '本溪',\n '毕节',\n '滨州',\n '亳州',\n '巴音郭楞',\n '沧州',\n '长春',\n '常德',\n '昌吉',\n '昌江',\n '长沙',\n '长治',\n '常州',\n '朝阳',\n '潮州',\n '承德',\n '成都',\n '澄迈县',\n '郴州',\n '赤峰',\n '池州',\n '重庆',\n '崇左',\n '楚雄',\n '滁州',\n '大理',\n '大连',\n '儋州',\n '丹东',\n '大庆',\n '大同',\n '大兴安岭',\n '达州',\n '屯昌',\n '德宏',\n '德阳',\n '德州',\n '定安',\n '定西',\n '迪庆',\n '东方',\n '东莞',\n '东营',\n '鄂尔多斯',\n '恩施',\n '鄂州',\n '防城港',\n '佛山',\n '抚顺',\n '阜新',\n '阜阳',\n '抚州',\n '福州',\n '甘南',\n '赣州',\n '甘孜',\n '巩义市',\n '广安',\n '广元',\n '广州',\n '贵港',\n '桂林',\n '贵阳',\n '固原',\n '哈尔滨',\n '海北',\n '海东',\n '海口',\n '海南州',\n '海西',\n '哈密',\n '邯郸',\n '杭州',\n '汉中',\n '鹤壁',\n '河池',\n '合肥',\n '鹤岗',\n '黑河',\n '衡水',\n '衡阳',\n '和田',\n '河源',\n '菏泽',\n '贺州',\n '红河',\n '淮安',\n '淮北',\n '怀化',\n '淮南',\n '黄冈',\n '黄南',\n '黄山',\n '黄石',\n '呼和浩特',\n '惠州',\n '葫芦岛',\n '呼伦贝尔',\n '湖州',\n '佳木斯',\n '吉安',\n '江门',\n '焦作',\n '嘉兴',\n '嘉峪关',\n '揭阳',\n '吉林',\n '济南',\n '金昌',\n '晋城',\n '景德镇',\n '荆门',\n '荆州',\n '金华',\n '济宁',\n '晋中',\n '锦州',\n '九江',\n '酒泉',\n '鸡西',\n '济源',\n '开封',\n '喀什',\n '克拉玛依',\n '克孜勒苏柯尔克孜',\n '昆明',\n '来宾',\n '廊坊',\n '兰州',\n '拉萨',\n '乐东',\n '乐山',\n '凉山',\n '连云港',\n '聊城',\n '辽阳',\n '辽源',\n '丽江',\n '临沧',\n '临汾',\n '临高',\n '临夏',\n '临沂',\n '林芝',\n '丽水',\n '六安',\n '六盘水',\n '柳州',\n '陇南',\n '龙岩',\n '娄底',\n '陵水',\n '吕梁',\n '漯河',\n '洛阳',\n '泸州',\n '马鞍山',\n '茂名',\n '眉山',\n '梅州',\n '绵阳',\n '牡丹江',\n '南昌',\n '南充',\n '南京',\n '南宁',\n '南平',\n '南通',\n '南阳',\n '内江',\n '宁波',\n '宁德',\n '怒江',\n '盘锦',\n '攀枝花',\n '平顶山',\n '平凉',\n '萍乡',\n '普洱',\n '莆田',\n '濮阳',\n '黔东南',\n '潜江',\n '黔南',\n '黔西南',\n '青岛',\n '庆阳',\n '清远',\n '秦皇岛',\n '钦州',\n '琼海',\n '琼中',\n '齐齐哈尔',\n '七台河',\n '泉州',\n '曲靖',\n '衢州',\n '日喀则',\n '日照',\n '三门峡',\n '三明',\n '三亚',\n '上海',\n '商洛',\n '商丘',\n '上饶',\n '山南',\n '汕头',\n '汕尾',\n '韶关',\n '绍兴',\n '邵阳',\n '神农架林区',\n '沈阳',\n '深圳',\n '石河子',\n '石家庄',\n '十堰',\n '石嘴山',\n '双鸭山',\n '朔州',\n '四平',\n '松原',\n '绥化',\n '遂宁',\n '随州',\n '宿迁',\n '宿州',\n '苏州',\n '塔城',\n '泰安',\n '太原',\n '台州',\n '泰州',\n '唐山',\n '天津',\n '天门',\n '天水',\n '铁岭',\n '铜川',\n '通化',\n '通辽',\n '铜陵',\n '铜仁',\n '图木舒克市',\n '万宁',\n '潍坊',\n '威海',\n '渭南',\n '文昌',\n '文山',\n '温州',\n '乌海',\n '武汉',\n '芜湖',\n '五家渠',\n '乌兰察布',\n '乌鲁木齐',\n '武威',\n '无锡',\n '吴忠',\n '梧州',\n '厦门',\n '西安',\n '湘潭',\n '湘西',\n '襄阳',\n '咸宁',\n '仙桃',\n '咸阳',\n '孝感',\n '锡林郭勒',\n '兴安盟',\n '邢台',\n '兴义市',\n '西宁',\n '新乡',\n '信阳',\n '新余',\n '忻州',\n '西双版纳',\n '宣城',\n '许昌',\n '徐州',\n '雅安',\n '延安',\n '延边',\n '盐城',\n '阳江',\n '洋浦',\n '阳泉',\n '扬州',\n '烟台',\n '宜宾',\n '宜昌',\n '伊春',\n '宜春',\n '伊犁',\n '银川',\n '营口',\n '鹰潭',\n '宜兴市',\n '益阳',\n '永州',\n '岳阳',\n '玉林',\n '榆林',\n '运城',\n '云浮',\n '玉树',\n '玉溪',\n '枣庄',\n '张家界',\n '张家口',\n '张掖',\n '漳州',\n '湛江',\n '肇庆',\n '昭通',\n '郑州',\n '镇江',\n '中山',\n '中卫',\n '周口',\n '舟山',\n '珠海',\n '驻马店',\n '株洲',\n '淄博',\n '自贡',\n '资阳',\n '遵义']"
     },
     "execution_count": 4,
     "metadata": {},
     "output_type": "execute_result"
    }
   ],
   "source": [
    "import json\n",
    "import jsonpath\n",
    "obj = json.load(open('淘票票.json','r',encoding='utf-8'))\n",
    "jsonpath.jsonpath(obj,'$..regionName')"
   ]
  },
  {
   "cell_type": "code",
   "execution_count": 2,
   "outputs": [],
   "source": [
    "import urllib.request\n",
    "\n",
    "url = 'https://dianying.taobao.com/cityAction.json?activityId&_ksTS=1689658624671_108&jsoncallback=jsonp109&action=cityAction&n_s=new&event_submit_doGetAllRegion=true'\n",
    "header = {\n",
    "    # ':Authority': 'dianying.taobao.com',\n",
    "    # ':Method': 'GET',\n",
    "    # ':Path': '/cityAction.json?activityId&_ksTS=1689658624671_108&jsoncallback=jsonp109&action=cityAction&n_s=new&event_submit_doGetAllRegion=true',\n",
    "    # ':Scheme': 'https',\n",
    "    'Accept': 'text/javascript, application/javascript, application/ecmascript, application/x-ecmascript, */*; q=0.01',\n",
    "    # 'Accept-Encoding': 'gzip, deflate, br',\n",
    "    'Accept-Language': 'zh-CN,zh;q=0.9',\n",
    "    'Bx-V': '2.5.1',\n",
    "    'Cookie': 'enc=%2B44HN1FCfofjCPg2ojvgmTRT4ywsZ07armhR3xYxEgYb5jZ8%2BOaCIJa%2Biq2f5xtsZnI%2F29RdgshDQteCxxndgw%3D%3D; thw=cn; useNativeIM=false; wwUserTip=false; cna=GPYVHC4qIFwCAbcNvQ3foLI5; lgc=fzh006591; tracknick=fzh006591; hng=PH%7Czh-CN%7CPHL%7C608; _m_h5_tk=eb5751c96c24c738e261bd808c041e23_1689516683719; _m_h5_tk_enc=96f1709386ede59599b77b4075ee73d5; _uetvid=d7ed1270d6b311eda12ef10a9303903f; _ga=GA1.1.116930169.1681043636; t=8c99ed6c778f79466ffdf27a9130ee9d; xlly_s=1; sgcookie=E100%2FrkJV7V3%2FUUjRNW761sFzmJANKz%2BCX%2FZKopO9KqqNVSH%2F66dqK7nIH03cSbv3Dt632Xi%2Fk9jhV0nGqPF0aOtELWQl3J3NMD%2BfUlYdtCP4ATe8yOn1xR0k8ACiJcp7XjT; uc3=nk2=BcpGEWvCWe8R&lg2=WqG3DMC9VAQiUQ%3D%3D&vt3=F8dCsGGsaPyg8WAX1NA%3D&id2=UoYXKpACTubCqw%3D%3D; uc4=id4=0%40UO6eyxLgj6dXQAOLXxMeZbt7IZAC&nk4=0%40B0ZrTucqfFsgOn7wBWGSoCyvB%2BY%3D; _cc_=UtASsssmfA%3D%3D; mt=ci=95_1; _ga_YFVFB9JLVB=GS1.1.1689506244.18.1.1689507999.0.0.0; _ga_JBTWV3NHSY=GS1.1.1689506245.1.1.1689507999.60.0.0; cookie2=21e9012ad8b578f8c5b4e3e735c3f764; v=0; _tb_token_=ebbe336f9ed5d; tfstk=cMHPBbD40LpyEQipW-2E049QOgFRZMP3_trLZEPvuHt5_8Vli3bLmyy80lIV-7f..; l=fBrI_UB7TwN-ZLF6BO5Bhurza77TVIOb81PzaNbMiIEGa1PVtFiQlNC1ztfBSdtjgTfjdetrip0J_dekywUd0giMW_N-1NKDsY96-bpU-L5..; isg=BCsr_Y08y8SMhBBebWYl4pceuk8VQD_Cx4gg352pLGrBPEqeJRRnEpPalnxSG5e6',\n",
    "    'Referer':'https://dianying.taobao.com/',\n",
    "    'Sec-Ch-Ua': '\"Not.A/Brand\";v=\"8\", \"Chromium\";v=\"114\", \"Google Chrome\";v=\"114\"',\n",
    "    'Sec-Ch-Ua-Mobile': '?0',\n",
    "    'Sec-Ch-Ua-Platform': 'Windows',\n",
    "    'Sec-Fetch-Dest': 'empty',\n",
    "    'Sec-Fetch-Mode': 'cors',\n",
    "    'Sec-Fetch-Site': 'same-origin',\n",
    "    'User-Agent': 'Mozilla/5.0 (Windows NT 10.0; Win64; x64) AppleWebKit/537.36 (KHTML, like Gecko) Chrome/114.0.0.0 Safari/537.36',\n",
    "    'X-Requested-With': 'XMLHttpRequest'\n",
    "}\n",
    "request = urllib.request.Request(url=url,headers=header)\n",
    "response = urllib.request.urlopen(request)\n",
    "content = response.read().decode('utf-8')\n",
    "content=content.split('(')[1].split(')')[0]\n",
    "with open('淘票票.json','w',encoding='utf-8')as f:\n",
    "    f.write(content)"
   ],
   "metadata": {
    "collapsed": false
   }
  }
 ],
 "metadata": {
  "kernelspec": {
   "name": "pythonproject1",
   "language": "python",
   "display_name": "pythonProject1"
  },
  "language_info": {
   "codemirror_mode": {
    "name": "ipython",
    "version": 2
   },
   "file_extension": ".py",
   "mimetype": "text/x-python",
   "name": "python",
   "nbconvert_exporter": "python",
   "pygments_lexer": "ipython2",
   "version": "2.7.6"
  }
 },
 "nbformat": 4,
 "nbformat_minor": 0
}
