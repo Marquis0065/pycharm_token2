{
 "cells": [
  {
   "cell_type": "code",
   "execution_count": null,
   "outputs": [],
   "source": [],
   "metadata": {
    "collapsed": false
   }
  },
  {
   "cell_type": "code",
   "execution_count": 8,
   "outputs": [
    {
     "data": {
      "text/plain": "Person(name=b'\\xe9\\x9b\\xaa\\xe6\\xa2\\x85', desc=b'Hellon', age=28, upgrade=False, score=99.5)"
     },
     "execution_count": 8,
     "metadata": {},
     "output_type": "execute_result"
    },
    {
     "data": {
      "text/plain": "'雪梅'"
     },
     "execution_count": 8,
     "metadata": {},
     "output_type": "execute_result"
    },
    {
     "data": {
      "text/plain": "'Hellon'"
     },
     "execution_count": 8,
     "metadata": {},
     "output_type": "execute_result"
    },
    {
     "data": {
      "text/plain": "28"
     },
     "execution_count": 8,
     "metadata": {},
     "output_type": "execute_result"
    },
    {
     "data": {
      "text/plain": "99.5"
     },
     "execution_count": 8,
     "metadata": {},
     "output_type": "execute_result"
    }
   ],
   "source": [
    "# 解包\n",
    "unpack_data = my_struct.unpack(data)\n",
    "person = Person._make(unpack_data)\n",
    "person\n",
    "str(person.name,encoding='utf8')\n",
    "str(person.desc,encoding='utf8')\n",
    "person.age\n",
    "person.score"
   ],
   "metadata": {
    "collapsed": false
   }
  },
  {
   "cell_type": "code",
   "execution_count": 7,
   "outputs": [],
   "source": [
    "from IPython.core.interactiveshell import InteractiveShell\n",
    "InteractiveShell.ast_node_interactivity = \"all\""
   ],
   "metadata": {
    "collapsed": false
   }
  },
  {
   "cell_type": "code",
   "execution_count": 6,
   "outputs": [
    {
     "data": {
      "text/plain": "b'\\xe9\\x9b\\xaa\\xe6\\xa2\\x85Hellon\\x1c\\x00\\x00\\x00\\x00\\x00\\x00\\x00\\x00\\x00\\xc7B'"
     },
     "execution_count": 6,
     "metadata": {},
     "output_type": "execute_result"
    }
   ],
   "source": [
    "my_struct = Struct(f'{len(person.name)}s{len(person.desc)}si?f')\n",
    "data = my_struct.pack(*person) # 需要解包\n",
    "data  #二进制流"
   ],
   "metadata": {
    "collapsed": false
   }
  },
  {
   "cell_type": "code",
   "execution_count": 4,
   "outputs": [
    {
     "data": {
      "text/plain": "Person(name=b'\\xe9\\x9b\\xaa\\xe6\\xa2\\x85', desc=b'Hellon', age=28, upgrade=False, score=99.5)"
     },
     "execution_count": 4,
     "metadata": {},
     "output_type": "execute_result"
    }
   ],
   "source": [
    "from collections import namedtuple\n",
    "Person  =namedtuple('Person','name,desc,age,upgrade,score')\n",
    "person = Person(\n",
    "    bytes('雪梅',encoding='utf-8'), # C无字符串的概念\n",
    "    bytes('Hellon',encoding='utf-8'),\n",
    "    28,\n",
    "    False,99.5\n",
    ")\n",
    "person"
   ],
   "metadata": {
    "collapsed": false
   }
  },
  {
   "cell_type": "code",
   "execution_count": 3,
   "outputs": [
    {
     "data": {
      "text/plain": "(102, False, 15.199999809265137)"
     },
     "execution_count": 3,
     "metadata": {},
     "output_type": "execute_result"
    }
   ],
   "source": [
    "#解包\n",
    "unpack_data = my_struct.unpack(data)\n",
    "unpack_data"
   ],
   "metadata": {
    "collapsed": false
   }
  },
  {
   "cell_type": "code",
   "execution_count": 1,
   "outputs": [
    {
     "data": {
      "text/plain": "b'f\\x00\\x00\\x00\\x00\\x00\\x00\\x0033sA'"
     },
     "execution_count": 1,
     "metadata": {},
     "output_type": "execute_result"
    }
   ],
   "source": [
    "# 使用Struct序列化C结构体\n",
    "from struct import Struct\n",
    "my_struct = Struct('i?f')\n",
    "data = my_struct.pack(102,False,15.2)\n",
    "data"
   ],
   "metadata": {
    "collapsed": false
   }
  },
  {
   "cell_type": "code",
   "execution_count": 21,
   "outputs": [
    {
     "data": {
      "text/plain": "[2, 3, 4, 5, 6, 7, 8, 9]"
     },
     "execution_count": 21,
     "metadata": {},
     "output_type": "execute_result"
    }
   ],
   "source": [
    "c"
   ],
   "metadata": {
    "collapsed": false
   }
  },
  {
   "cell_type": "code",
   "execution_count": 20,
   "outputs": [
    {
     "data": {
      "text/plain": "0"
     },
     "execution_count": 20,
     "metadata": {},
     "output_type": "execute_result"
    }
   ],
   "source": [
    "arr = [i for i in range(10)]\n",
    "a,b,*c=arr\n",
    "a"
   ],
   "metadata": {
    "collapsed": false
   }
  },
  {
   "cell_type": "code",
   "execution_count": null,
   "outputs": [],
   "source": [
    "import sqlite3\n"
   ],
   "metadata": {
    "collapsed": false
   }
  },
  {
   "cell_type": "code",
   "execution_count": null,
   "outputs": [],
   "source": [
    "%%sql\n",
    "create table employee(\n",
    "    name varchar(),\n",
    "    age int,\n",
    "    title,var(),\n",
    "    department var()\n",
    "    )"
   ],
   "metadata": {
    "collapsed": false
   }
  },
  {
   "cell_type": "code",
   "execution_count": null,
   "outputs": [],
   "source": [
    "%load_ext sql\n",
    "%sql sqlie:////tmp/employee.sql"
   ],
   "metadata": {
    "collapsed": false
   }
  },
  {
   "cell_type": "code",
   "execution_count": null,
   "outputs": [],
   "source": [
    "!pip install ipython-sql\n"
   ],
   "metadata": {
    "collapsed": false
   }
  },
  {
   "cell_type": "code",
   "execution_count": 12,
   "outputs": [
    {
     "data": {
      "text/plain": "'32000'"
     },
     "execution_count": 12,
     "metadata": {},
     "output_type": "execute_result"
    }
   ],
   "source": [
    "car[1]"
   ],
   "metadata": {
    "collapsed": false
   }
  },
  {
   "cell_type": "code",
   "execution_count": null,
   "outputs": [],
   "source": [
    "%%bash\n",
    "cat <<EOF>/tmp/employee.csv\n",
    "name,age,title,department\n",
    "stella,22,保险,广东\n",
    "sunny,25,理赔,宜春\n",
    "fairy,21,HR,钦州\n",
    "EOF"
   ],
   "metadata": {
    "collapsed": false
   }
  },
  {
   "cell_type": "code",
   "execution_count": 19,
   "outputs": [
    {
     "name": "stdout",
     "output_type": "stream",
     "text": [
      "prod_name category_id cost_price\n",
      "牛皮纸笔记本 1 2.3\n",
      "树叶日记本 2 9.7\n",
      "手工相册小 3 6.5\n",
      "韩国斯塔油漆笔 4 18\n",
      "复古信纸套装 5 1.2\n",
      "信封 6 2\n"
     ]
    }
   ],
   "source": [
    "import csv\n",
    "Employee = namedtuple(\n",
    "    'Employee',\n",
    "    'prod_id,prod_name,category_id,cost_price'\n",
    ")\n",
    "for employe in map(Employee._make,\n",
    "                   csv.reader(open(r\"C:\\Users\\fzh00\\Desktop\\文件\\excel\\3.7 prod_detail.csv\",'r'))):\n",
    "    print(employe.prod_name,employe.category_id,employe.cost_price)"
   ],
   "metadata": {
    "collapsed": false
   }
  },
  {
   "cell_type": "code",
   "execution_count": 11,
   "outputs": [
    {
     "data": {
      "text/plain": "'32000'"
     },
     "execution_count": 11,
     "metadata": {},
     "output_type": "execute_result"
    }
   ],
   "source": [
    "car.mileage"
   ],
   "metadata": {
    "collapsed": false
   }
  },
  {
   "cell_type": "code",
   "execution_count": 10,
   "outputs": [
    {
     "data": {
      "text/plain": "'hondor'"
     },
     "execution_count": 10,
     "metadata": {},
     "output_type": "execute_result"
    }
   ],
   "source": [
    "# 命名元组\n",
    "from collections import namedtuple\n",
    "Car = namedtuple('Car','color mileage')\n",
    "car = Car('hondor','32000')\n",
    "car.color"
   ],
   "metadata": {
    "collapsed": false
   }
  },
  {
   "cell_type": "code",
   "execution_count": null,
   "outputs": [],
   "source": [
    "from dataclasses import dataclass\n",
    "from dis import dis\n",
    "# 全是False 相当于没有封装\n",
    "@dataclass(init=False,repr=False,eq=False) # 这种情况只能使用无参构造\n",
    "class Person:\n",
    "    name:str\n",
    "    aga:int\n",
    "person = Person('steven',22)\n",
    "person\n",
    "dis(Person)"
   ],
   "metadata": {
    "collapsed": false
   }
  },
  {
   "cell_type": "code",
   "execution_count": null,
   "outputs": [],
   "source": [
    "# 声明式编程"
   ],
   "metadata": {
    "collapsed": false
   }
  },
  {
   "cell_type": "code",
   "execution_count": 8,
   "outputs": [
    {
     "name": "stdout",
     "output_type": "stream",
     "text": [
      "Disassembly of __eq__:\n",
      "  3           0 LOAD_FAST                1 (other)\n",
      "              2 LOAD_ATTR                0 (__class__)\n",
      "              4 LOAD_FAST                0 (self)\n",
      "              6 LOAD_ATTR                0 (__class__)\n",
      "              8 IS_OP                    0\n",
      "             10 POP_JUMP_IF_FALSE       18 (to 36)\n",
      "\n",
      "  4          12 LOAD_FAST                0 (self)\n",
      "             14 LOAD_ATTR                1 (name)\n",
      "             16 LOAD_FAST                0 (self)\n",
      "             18 LOAD_ATTR                2 (age)\n",
      "             20 BUILD_TUPLE              2\n",
      "             22 LOAD_FAST                1 (other)\n",
      "             24 LOAD_ATTR                1 (name)\n",
      "             26 LOAD_FAST                1 (other)\n",
      "             28 LOAD_ATTR                2 (age)\n",
      "             30 BUILD_TUPLE              2\n",
      "             32 COMPARE_OP               2 (==)\n",
      "             34 RETURN_VALUE\n",
      "\n",
      "  5     >>   36 LOAD_GLOBAL              3 (NotImplemented)\n",
      "             38 RETURN_VALUE\n",
      "\n",
      "Disassembly of __init__:\n",
      "  3           0 LOAD_FAST                1 (name)\n",
      "              2 LOAD_FAST                0 (self)\n",
      "              4 STORE_ATTR               0 (name)\n",
      "\n",
      "  4           6 LOAD_FAST                2 (age)\n",
      "              8 LOAD_FAST                0 (self)\n",
      "             10 STORE_ATTR               1 (age)\n",
      "             12 LOAD_CONST               0 (None)\n",
      "             14 RETURN_VALUE\n",
      "\n",
      "Disassembly of __repr__:\n",
      "400           0 LOAD_GLOBAL              0 (id)\n",
      "              2 LOAD_FAST                0 (self)\n",
      "              4 CALL_FUNCTION            1\n",
      "              6 LOAD_GLOBAL              1 (_thread)\n",
      "              8 LOAD_METHOD              2 (get_ident)\n",
      "             10 CALL_METHOD              0\n",
      "             12 BUILD_TUPLE              2\n",
      "             14 STORE_FAST               1 (key)\n",
      "\n",
      "401          16 LOAD_FAST                1 (key)\n",
      "             18 LOAD_DEREF               0 (repr_running)\n",
      "             20 CONTAINS_OP              0\n",
      "             22 POP_JUMP_IF_FALSE       14 (to 28)\n",
      "\n",
      "402          24 LOAD_CONST               1 ('...')\n",
      "             26 RETURN_VALUE\n",
      "\n",
      "403     >>   28 LOAD_DEREF               0 (repr_running)\n",
      "             30 LOAD_METHOD              3 (add)\n",
      "             32 LOAD_FAST                1 (key)\n",
      "             34 CALL_METHOD              1\n",
      "             36 POP_TOP\n",
      "\n",
      "404          38 SETUP_FINALLY           12 (to 64)\n",
      "\n",
      "405          40 LOAD_DEREF               1 (user_function)\n",
      "             42 LOAD_FAST                0 (self)\n",
      "             44 CALL_FUNCTION            1\n",
      "             46 STORE_FAST               2 (result)\n",
      "             48 POP_BLOCK\n",
      "\n",
      "407          50 LOAD_DEREF               0 (repr_running)\n",
      "             52 LOAD_METHOD              4 (discard)\n",
      "             54 LOAD_FAST                1 (key)\n",
      "             56 CALL_METHOD              1\n",
      "             58 POP_TOP\n",
      "\n",
      "408          60 LOAD_FAST                2 (result)\n",
      "             62 RETURN_VALUE\n",
      "\n",
      "407     >>   64 LOAD_DEREF               0 (repr_running)\n",
      "             66 LOAD_METHOD              4 (discard)\n",
      "             68 LOAD_FAST                1 (key)\n",
      "             70 CALL_METHOD              1\n",
      "             72 POP_TOP\n",
      "             74 RERAISE                  0\n",
      "\n"
     ]
    }
   ],
   "source": [
    "team2 = Team('美国',23)\n",
    "team2==team1\n",
    "dis(Team)"
   ],
   "metadata": {
    "collapsed": false
   }
  },
  {
   "cell_type": "code",
   "execution_count": 6,
   "outputs": [],
   "source": [
    "from dataclasses import dataclass,field\n",
    "# frozen 不可变的类\n",
    "@dataclass(order=True,frozen=True)\n",
    "class Team:\n",
    "    name: str = field(compare=False) # 名字就不比较了\n",
    "    age:int\n",
    "    j:int=None\n",
    "team1 = Team('中国队',22)"
   ],
   "metadata": {
    "collapsed": false
   }
  },
  {
   "cell_type": "code",
   "execution_count": 5,
   "outputs": [
    {
     "ename": "TypeError",
     "evalue": "don't know how to disassemble bool objects",
     "output_type": "error",
     "traceback": [
      "\u001B[1;31m---------------------------------------------------------------------------\u001B[0m",
      "\u001B[1;31mTypeError\u001B[0m                                 Traceback (most recent call last)",
      "Cell \u001B[1;32mIn[5], line 3\u001B[0m\n\u001B[0;32m      1\u001B[0m \u001B[38;5;28;01mfrom\u001B[39;00m \u001B[38;5;21;01mdis\u001B[39;00m \u001B[38;5;28;01mimport\u001B[39;00m dis\n\u001B[0;32m      2\u001B[0m aa \u001B[38;5;241m=\u001B[39m \u001B[38;5;241m100\u001B[39m; bb \u001B[38;5;241m=\u001B[39m \u001B[38;5;241m100\u001B[39m\n\u001B[1;32m----> 3\u001B[0m \u001B[43mdis\u001B[49m\u001B[43m(\u001B[49m\u001B[43maa\u001B[49m\u001B[38;5;241;43m==\u001B[39;49m\u001B[43mbb\u001B[49m\u001B[43m)\u001B[49m\n",
      "File \u001B[1;32mC:\\ProgramData\\Anaconda3\\envs\\pythonProject_anaconda\\lib\\dis.py:85\u001B[0m, in \u001B[0;36mdis\u001B[1;34m(x, file, depth)\u001B[0m\n\u001B[0;32m     83\u001B[0m     _disassemble_str(x, file\u001B[38;5;241m=\u001B[39mfile, depth\u001B[38;5;241m=\u001B[39mdepth)\n\u001B[0;32m     84\u001B[0m \u001B[38;5;28;01melse\u001B[39;00m:\n\u001B[1;32m---> 85\u001B[0m     \u001B[38;5;28;01mraise\u001B[39;00m \u001B[38;5;167;01mTypeError\u001B[39;00m(\u001B[38;5;124m\"\u001B[39m\u001B[38;5;124mdon\u001B[39m\u001B[38;5;124m'\u001B[39m\u001B[38;5;124mt know how to disassemble \u001B[39m\u001B[38;5;132;01m%s\u001B[39;00m\u001B[38;5;124m objects\u001B[39m\u001B[38;5;124m\"\u001B[39m \u001B[38;5;241m%\u001B[39m\n\u001B[0;32m     86\u001B[0m                     \u001B[38;5;28mtype\u001B[39m(x)\u001B[38;5;241m.\u001B[39m\u001B[38;5;18m__name__\u001B[39m)\n",
      "\u001B[1;31mTypeError\u001B[0m: don't know how to disassemble bool objects"
     ]
    }
   ],
   "source": [
    "from dis import dis\n",
    "aa = 100; bb = 100\n",
    "dis()"
   ],
   "metadata": {
    "collapsed": false
   }
  },
  {
   "cell_type": "code",
   "execution_count": 3,
   "outputs": [
    {
     "data": {
      "text/plain": "'a'"
     },
     "execution_count": 3,
     "metadata": {},
     "output_type": "execute_result"
    }
   ],
   "source": [
    "chr(97)"
   ],
   "metadata": {
    "collapsed": false
   }
  },
  {
   "cell_type": "code",
   "execution_count": 2,
   "outputs": [
    {
     "data": {
      "text/plain": "97"
     },
     "execution_count": 2,
     "metadata": {},
     "output_type": "execute_result"
    }
   ],
   "source": [
    "ord('a')"
   ],
   "metadata": {
    "collapsed": false
   }
  },
  {
   "cell_type": "code",
   "execution_count": 22,
   "outputs": [
    {
     "data": {
      "text/plain": "<function Counter.values>"
     },
     "execution_count": 22,
     "metadata": {},
     "output_type": "execute_result"
    }
   ],
   "source": [
    "c.values"
   ],
   "metadata": {
    "collapsed": false
   }
  },
  {
   "cell_type": "code",
   "execution_count": 21,
   "outputs": [],
   "source": [
    "from collections import Counter\n",
    "# Counter类，这是字典的一个引申类\n",
    "c =Counter('如果我们想保持集合实体的唯一性，但同时又想处理集合中任何元素的多个实例，该怎么办？这可以通过标准库的 collections.Counter 类实现，该类实现称为多multiset或bags的数据结构。如果您想要跟踪集合中元素出现少次以及它在集合中的存在性，Counter就很有用。')\n",
    "c"
   ],
   "metadata": {
    "collapsed": false
   }
  },
  {
   "cell_type": "code",
   "execution_count": 19,
   "outputs": [
    {
     "data": {
      "text/plain": "bytearray(b'\\x01\\xff\\x02')"
     },
     "execution_count": 19,
     "metadata": {},
     "output_type": "execute_result"
    }
   ],
   "source": [
    "my_bytearray= bytearray([1,2,2])\n",
    "my_bytearray[1]=255\n",
    "my_bytearray"
   ],
   "metadata": {
    "collapsed": false
   }
  },
  {
   "cell_type": "code",
   "execution_count": null,
   "outputs": [],
   "source": [
    "# bytearray单字节可变字符序列\n",
    "mybytes = bytes([1,2,2]) # 不可变"
   ],
   "metadata": {
    "collapsed": false
   }
  },
  {
   "cell_type": "code",
   "execution_count": 16,
   "outputs": [
    {
     "data": {
      "text/plain": "array('f', [12.0, 1.0, 3.0, 3.0, 3.0, 4.0, 3.440000057220459])"
     },
     "execution_count": 16,
     "metadata": {},
     "output_type": "execute_result"
    }
   ],
   "source": [
    "import array\n",
    "arr = array.array('f',(12.0,1,3,3,3,4,3.44))\n",
    "arr"
   ],
   "metadata": {
    "collapsed": false
   }
  },
  {
   "cell_type": "code",
   "execution_count": 14,
   "outputs": [
    {
     "data": {
      "text/plain": "['a', 1, True]"
     },
     "execution_count": 14,
     "metadata": {},
     "output_type": "execute_result"
    }
   ],
   "source": [
    "arr = ['a',1,True]\n",
    "arr"
   ],
   "metadata": {
    "collapsed": false
   }
  },
  {
   "cell_type": "code",
   "execution_count": 7,
   "outputs": [
    {
     "name": "stdout",
     "output_type": "stream",
     "text": [
      "The Zen of Python, by Tim Peters\n",
      "\n",
      "Beautiful is better than ugly.\n",
      "Explicit is better than implicit.\n",
      "Simple is better than complex.\n",
      "Complex is better than complicated.\n",
      "Flat is better than nested.\n",
      "Sparse is better than dense.\n",
      "Readability counts.\n",
      "Special cases aren't special enough to break the rules.\n",
      "Although practicality beats purity.\n",
      "Errors should never pass silently.\n",
      "Unless explicitly silenced.\n",
      "In the face of ambiguity, refuse the temptation to guess.\n",
      "There should be one-- and preferably only one --obvious way to do it.\n",
      "Although that way may not be obvious at first unless you're Dutch.\n",
      "Now is better than never.\n",
      "Although never is often better than *right* now.\n",
      "If the implementation is hard to explain, it's a bad idea.\n",
      "If the implementation is easy to explain, it may be a good idea.\n",
      "Namespaces are one honking great idea -- let's do more of those!\n"
     ]
    }
   ],
   "source": [
    "import this # python之禅"
   ],
   "metadata": {
    "collapsed": false
   }
  },
  {
   "cell_type": "code",
   "execution_count": 5,
   "outputs": [],
   "source": [
    "def add(a=1,b=10):\n",
    "    return a+b"
   ],
   "metadata": {
    "collapsed": false
   }
  },
  {
   "cell_type": "code",
   "execution_count": 2,
   "outputs": [
    {
     "ename": "NameError",
     "evalue": "name 'api_idin' is not defined",
     "output_type": "error",
     "traceback": [
      "\u001B[1;31m---------------------------------------------------------------------------\u001B[0m",
      "\u001B[1;31mNameError\u001B[0m                                 Traceback (most recent call last)",
      "Cell \u001B[1;32mIn[2], line 1\u001B[0m\n\u001B[1;32m----> 1\u001B[0m \u001B[38;5;28;01mimport\u001B[39;00m \u001B[38;5;21;01mtelebot\u001B[39;00m\n\u001B[0;32m      3\u001B[0m file_data \u001B[38;5;241m=\u001B[39m \u001B[38;5;28mopen\u001B[39m(\u001B[38;5;124mr\u001B[39m\u001B[38;5;124m\"\u001B[39m\u001B[38;5;124mC:\u001B[39m\u001B[38;5;124m\\\u001B[39m\u001B[38;5;124mUsers\u001B[39m\u001B[38;5;124m\\\u001B[39m\u001B[38;5;124mfzh00\u001B[39m\u001B[38;5;124m\\\u001B[39m\u001B[38;5;124mDesktop\u001B[39m\u001B[38;5;124m\\\u001B[39m\u001B[38;5;124m文件\u001B[39m\u001B[38;5;124m\\\u001B[39m\u001B[38;5;124mexcel\u001B[39m\u001B[38;5;124m\\\u001B[39m\u001B[38;5;124m1. Excel基础操作\u001B[39m\u001B[38;5;124m\\\u001B[39m\u001B[38;5;124mExcel数据分析 (杨洁老师)\u001B[39m\u001B[38;5;124m\\\u001B[39m\u001B[38;5;124m4.1 波士顿矩阵-参考.xlsx\u001B[39m\u001B[38;5;124m\"\u001B[39m, \u001B[38;5;124m'\u001B[39m\u001B[38;5;124mrb\u001B[39m\u001B[38;5;124m'\u001B[39m)\n\u001B[0;32m      4\u001B[0m tb \u001B[38;5;241m=\u001B[39m telebot\u001B[38;5;241m.\u001B[39mTeleBot(\u001B[38;5;124m'\u001B[39m\u001B[38;5;124m6377312623:AAGz3ZSMVswWq0QVlihRPklw8b7skSBP16Y\u001B[39m\u001B[38;5;124m'\u001B[39m)\n",
      "File \u001B[1;32m~\\PycharmProjects\\pythonProject1\\办公自动化\\telebot.py:19\u001B[0m\n\u001B[0;32m     16\u001B[0m phone \u001B[38;5;241m=\u001B[39m \u001B[38;5;124m'\u001B[39m\u001B[38;5;124mYOUR PHONE NUMBER WTH COUNTRY CODE\u001B[39m\u001B[38;5;124m'\u001B[39m\n\u001B[0;32m     17\u001B[0m \u001B[38;5;66;03m# establishing a telegraph session and\u001B[39;00m\n\u001B[0;32m     18\u001B[0m \u001B[38;5;66;03m# allocating it to a movable client\u001B[39;00m\n\u001B[1;32m---> 19\u001B[0m client \u001B[38;5;241m=\u001B[39m TelegramClient(\u001B[38;5;124m'\u001B[39m\u001B[38;5;124msession\u001B[39m\u001B[38;5;124m'\u001B[39m, \u001B[43mapi_idin\u001B[49m, api_hashing)\n\u001B[0;32m     20\u001B[0m \u001B[38;5;66;03m# creating the connection and the session\u001B[39;00m\n\u001B[0;32m     21\u001B[0m client\u001B[38;5;241m.\u001B[39mconnect()\n",
      "\u001B[1;31mNameError\u001B[0m: name 'api_idin' is not defined"
     ]
    }
   ],
   "source": [
    "import telebot\n",
    "\n",
    "file_data = open(r\"C:\\Users\\fzh00\\Desktop\\文件\\excel\\1. Excel基础操作\\Excel数据分析 (杨洁老师)\\4.1 波士顿矩阵-参考.xlsx\", 'rb')\n",
    "tb = telebot.TeleBot('6377312623:AAGz3ZSMVswWq0QVlihRPklw8b7skSBP16Y')\n",
    "tb.getMe()"
   ],
   "metadata": {
    "collapsed": false
   }
  },
  {
   "cell_type": "code",
   "execution_count": 1,
   "outputs": [
    {
     "ename": "ModuleNotFoundError",
     "evalue": "No module named 'telegram.ext'",
     "output_type": "error",
     "traceback": [
      "\u001B[1;31m---------------------------------------------------------------------------\u001B[0m",
      "\u001B[1;31mModuleNotFoundError\u001B[0m                       Traceback (most recent call last)",
      "Cell \u001B[1;32mIn[1], line 1\u001B[0m\n\u001B[1;32m----> 1\u001B[0m \u001B[38;5;28;01mfrom\u001B[39;00m \u001B[38;5;21;01mtelegram\u001B[39;00m\u001B[38;5;21;01m.\u001B[39;00m\u001B[38;5;21;01mext\u001B[39;00m \u001B[38;5;28;01mimport\u001B[39;00m Updater \u001B[38;5;66;03m# 更新管家\u001B[39;00m\n\u001B[0;32m      2\u001B[0m \u001B[38;5;28;01mfrom\u001B[39;00m \u001B[38;5;21;01mtelegram\u001B[39;00m \u001B[38;5;28;01mimport\u001B[39;00m InputMediaAudio, InputMediaDocument, InputMediaPhoto, InputMediaVideo \u001B[38;5;66;03m# 媒體發送\u001B[39;00m\n\u001B[0;32m      3\u001B[0m \u001B[38;5;28;01mimport\u001B[39;00m \u001B[38;5;21;01mtelegram\u001B[39;00m\n",
      "\u001B[1;31mModuleNotFoundError\u001B[0m: No module named 'telegram.ext'"
     ]
    }
   ],
   "source": [
    "from telegram.ext import Updater # 更新管家\n",
    "from telegram import InputMediaAudio, InputMediaDocument, InputMediaPhoto, InputMediaVideo # 媒體發送\n",
    "import telegram\n",
    "import os\n",
    "import pandas, numpy\n",
    "import datetime\n",
    "\n",
    "# 定義型態字典\n",
    "media_type = {'A': InputMediaAudio,    # 聲音\n",
    "         'D': InputMediaDocument, # 壓縮文件\n",
    "         'P': InputMediaPhoto,    # 圖片\n",
    "         'V': InputMediaVideo     # 影片\n",
    "         }"
   ],
   "metadata": {
    "collapsed": false
   }
  }
 ],
 "metadata": {
  "kernelspec": {
   "name": "pythonproject_anaconda",
   "language": "python",
   "display_name": "pythonProject_anaconda"
  },
  "language_info": {
   "codemirror_mode": {
    "name": "ipython",
    "version": 2
   },
   "file_extension": ".py",
   "mimetype": "text/x-python",
   "name": "python",
   "nbconvert_exporter": "python",
   "pygments_lexer": "ipython2",
   "version": "2.7.6"
  }
 },
 "nbformat": 4,
 "nbformat_minor": 0
}
