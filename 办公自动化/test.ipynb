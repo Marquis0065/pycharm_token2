{
 "cells": [
  {
   "cell_type": "code",
   "execution_count": 2,
   "outputs": [
    {
     "ename": "NameError",
     "evalue": "name 'api_idin' is not defined",
     "output_type": "error",
     "traceback": [
      "\u001B[1;31m---------------------------------------------------------------------------\u001B[0m",
      "\u001B[1;31mNameError\u001B[0m                                 Traceback (most recent call last)",
      "Cell \u001B[1;32mIn[2], line 1\u001B[0m\n\u001B[1;32m----> 1\u001B[0m \u001B[38;5;28;01mimport\u001B[39;00m \u001B[38;5;21;01mtelebot\u001B[39;00m\n\u001B[0;32m      3\u001B[0m file_data \u001B[38;5;241m=\u001B[39m \u001B[38;5;28mopen\u001B[39m(\u001B[38;5;124mr\u001B[39m\u001B[38;5;124m\"\u001B[39m\u001B[38;5;124mC:\u001B[39m\u001B[38;5;124m\\\u001B[39m\u001B[38;5;124mUsers\u001B[39m\u001B[38;5;124m\\\u001B[39m\u001B[38;5;124mfzh00\u001B[39m\u001B[38;5;124m\\\u001B[39m\u001B[38;5;124mDesktop\u001B[39m\u001B[38;5;124m\\\u001B[39m\u001B[38;5;124m文件\u001B[39m\u001B[38;5;124m\\\u001B[39m\u001B[38;5;124mexcel\u001B[39m\u001B[38;5;124m\\\u001B[39m\u001B[38;5;124m1. Excel基础操作\u001B[39m\u001B[38;5;124m\\\u001B[39m\u001B[38;5;124mExcel数据分析 (杨洁老师)\u001B[39m\u001B[38;5;124m\\\u001B[39m\u001B[38;5;124m4.1 波士顿矩阵-参考.xlsx\u001B[39m\u001B[38;5;124m\"\u001B[39m, \u001B[38;5;124m'\u001B[39m\u001B[38;5;124mrb\u001B[39m\u001B[38;5;124m'\u001B[39m)\n\u001B[0;32m      4\u001B[0m tb \u001B[38;5;241m=\u001B[39m telebot\u001B[38;5;241m.\u001B[39mTeleBot(\u001B[38;5;124m'\u001B[39m\u001B[38;5;124m6377312623:AAGz3ZSMVswWq0QVlihRPklw8b7skSBP16Y\u001B[39m\u001B[38;5;124m'\u001B[39m)\n",
      "File \u001B[1;32m~\\PycharmProjects\\pythonProject1\\办公自动化\\telebot.py:19\u001B[0m\n\u001B[0;32m     16\u001B[0m phone \u001B[38;5;241m=\u001B[39m \u001B[38;5;124m'\u001B[39m\u001B[38;5;124mYOUR PHONE NUMBER WTH COUNTRY CODE\u001B[39m\u001B[38;5;124m'\u001B[39m\n\u001B[0;32m     17\u001B[0m \u001B[38;5;66;03m# establishing a telegraph session and\u001B[39;00m\n\u001B[0;32m     18\u001B[0m \u001B[38;5;66;03m# allocating it to a movable client\u001B[39;00m\n\u001B[1;32m---> 19\u001B[0m client \u001B[38;5;241m=\u001B[39m TelegramClient(\u001B[38;5;124m'\u001B[39m\u001B[38;5;124msession\u001B[39m\u001B[38;5;124m'\u001B[39m, \u001B[43mapi_idin\u001B[49m, api_hashing)\n\u001B[0;32m     20\u001B[0m \u001B[38;5;66;03m# creating the connection and the session\u001B[39;00m\n\u001B[0;32m     21\u001B[0m client\u001B[38;5;241m.\u001B[39mconnect()\n",
      "\u001B[1;31mNameError\u001B[0m: name 'api_idin' is not defined"
     ]
    }
   ],
   "source": [
    "import telebot\n",
    "\n",
    "file_data = open(r\"C:\\Users\\fzh00\\Desktop\\文件\\excel\\1. Excel基础操作\\Excel数据分析 (杨洁老师)\\4.1 波士顿矩阵-参考.xlsx\", 'rb')\n",
    "tb = telebot.TeleBot('6377312623:AAGz3ZSMVswWq0QVlihRPklw8b7skSBP16Y')\n",
    "tb.getMe()"
   ],
   "metadata": {
    "collapsed": false
   }
  },
  {
   "cell_type": "code",
   "execution_count": 1,
   "outputs": [
    {
     "ename": "ModuleNotFoundError",
     "evalue": "No module named 'telegram.ext'",
     "output_type": "error",
     "traceback": [
      "\u001B[1;31m---------------------------------------------------------------------------\u001B[0m",
      "\u001B[1;31mModuleNotFoundError\u001B[0m                       Traceback (most recent call last)",
      "Cell \u001B[1;32mIn[1], line 1\u001B[0m\n\u001B[1;32m----> 1\u001B[0m \u001B[38;5;28;01mfrom\u001B[39;00m \u001B[38;5;21;01mtelegram\u001B[39;00m\u001B[38;5;21;01m.\u001B[39;00m\u001B[38;5;21;01mext\u001B[39;00m \u001B[38;5;28;01mimport\u001B[39;00m Updater \u001B[38;5;66;03m# 更新管家\u001B[39;00m\n\u001B[0;32m      2\u001B[0m \u001B[38;5;28;01mfrom\u001B[39;00m \u001B[38;5;21;01mtelegram\u001B[39;00m \u001B[38;5;28;01mimport\u001B[39;00m InputMediaAudio, InputMediaDocument, InputMediaPhoto, InputMediaVideo \u001B[38;5;66;03m# 媒體發送\u001B[39;00m\n\u001B[0;32m      3\u001B[0m \u001B[38;5;28;01mimport\u001B[39;00m \u001B[38;5;21;01mtelegram\u001B[39;00m\n",
      "\u001B[1;31mModuleNotFoundError\u001B[0m: No module named 'telegram.ext'"
     ]
    }
   ],
   "source": [
    "from telegram.ext import Updater # 更新管家\n",
    "from telegram import InputMediaAudio, InputMediaDocument, InputMediaPhoto, InputMediaVideo # 媒體發送\n",
    "import telegram\n",
    "import os\n",
    "import pandas, numpy\n",
    "import datetime\n",
    "\n",
    "# 定義型態字典\n",
    "media_type = {'A': InputMediaAudio,    # 聲音\n",
    "         'D': InputMediaDocument, # 壓縮文件\n",
    "         'P': InputMediaPhoto,    # 圖片\n",
    "         'V': InputMediaVideo     # 影片\n",
    "         }"
   ],
   "metadata": {
    "collapsed": false
   }
  }
 ],
 "metadata": {
  "kernelspec": {
   "name": "pythonproject_anaconda",
   "language": "python",
   "display_name": "pythonProject_anaconda"
  },
  "language_info": {
   "codemirror_mode": {
    "name": "ipython",
    "version": 2
   },
   "file_extension": ".py",
   "mimetype": "text/x-python",
   "name": "python",
   "nbconvert_exporter": "python",
   "pygments_lexer": "ipython2",
   "version": "2.7.6"
  }
 },
 "nbformat": 4,
 "nbformat_minor": 0
}
