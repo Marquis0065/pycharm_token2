{
 "cells": [
  {
   "cell_type": "code",
   "execution_count": null,
   "metadata": {
    "collapsed": true
   },
   "outputs": [],
   "source": [
    "from bs4 import BeautifulSoup\n",
    "soup = BeautifulSoup(open('文件',encoding='utf-8'),'lxml')\n",
    "soup.a # 每一个a\n",
    "soup.a.attrs # 标签的属性\n",
    "soup.find('a') # 第一个a\n",
    "soup.find('a',title='属性值')\n",
    "#因为class是关键字,应用class_\n",
    "soup.find('a',class_='')\n",
    "soup.find_all('a') # 返回一个列表，所有的a标签\n",
    "soup.find_all(['a','b']) # 多个标签用列表格式\n",
    "soup.find_all('li',limit=2) # 筛选前几个\n",
    "# select 选择器\n",
    "# 通过标签\n",
    "soup.select('a')\n",
    "# 类选择器 标签前加.\n",
    "soup.select('.cl2')\n",
    "# id选择器\n",
    "soup.select('#id3')  # id='id3'\n",
    "# 属性选择器\n",
    "soup.select('li[id]') # li中有Id的\n",
    "soup.select('li[id=\"cc\"]') # id = 'cc'的标签\n",
    "# 层级选择器\n",
    "# 后代选择器\n",
    "soup.select('div li')\n",
    "# 子代选择器\n",
    "soup.select('div>ul>li') # 注意，空格如果不加，可能有问题\n",
    "#\n",
    "soup.select('a,li')\n",
    "\n",
    "# 节点信息,select 返回列表\n",
    "# 如果标签中只有内容，string,get_text()一样，如果有其它标签，仅能用get_text()\n",
    "soup.select('#id1')[0].get_text()\n",
    "# 节点属性\n",
    "soup.select('#id2')[0].name  # 返回标签名称\n",
    "soup.select('#id2')[0].attrs # 属性值 作为一个字典返回\n",
    "soup.select('#id2')[0].attrs.get('class')  # 获取类的值\n",
    "soup.select('#id2')[0].get('class') # 不推荐\n",
    "soup.select('#id2')[0]['class']\n"
   ]
  },
  {
   "cell_type": "code",
   "execution_count": null,
   "outputs": [],
   "source": [
    "from IPython.core.interactiveshell import InteractiveShell\n",
    "InteractiveShell.ast_node_interactivity = \"all\"\n",
    "import json\n",
    "import jsonpath\n",
    "from bs4 import BeautifulSoup"
   ],
   "metadata": {
    "collapsed": false
   }
  }
 ],
 "metadata": {
  "kernelspec": {
   "name": "pythonproject1",
   "language": "python",
   "display_name": "pythonProject1"
  },
  "language_info": {
   "codemirror_mode": {
    "name": "ipython",
    "version": 2
   },
   "file_extension": ".py",
   "mimetype": "text/x-python",
   "name": "python",
   "nbconvert_exporter": "python",
   "pygments_lexer": "ipython2",
   "version": "2.7.6"
  }
 },
 "nbformat": 4,
 "nbformat_minor": 0
}
