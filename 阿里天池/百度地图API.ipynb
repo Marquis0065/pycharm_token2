{
 "cells": [
  {
   "cell_type": "code",
   "execution_count": 5,
   "outputs": [
    {
     "name": "stdout",
     "output_type": "stream",
     "text": [
      "{'status': 0, 'result': {'location': {'country': '中国', 'province': '江西省', 'city': '九江市', 'name': '都昌', 'id': '360428'}, 'now': {'text': '阴', 'temp': 24, 'feels_like': 24, 'rh': 72, 'wind_class': '3级', 'wind_dir': '东南风', 'uptime': '20230516101500'}, 'forecasts': [{'text_day': '雷阵雨', 'text_night': '暴雨', 'high': 24, 'low': 20, 'wc_day': '4~5级', 'wd_day': '南风', 'wc_night': '4~5级', 'wd_night': '南风', 'date': '2023-05-16', 'week': '星期二'}, {'text_day': '小雨', 'text_night': '小雨', 'high': 28, 'low': 22, 'wc_day': '3~4级', 'wd_day': '北风', 'wc_night': '<3级', 'wd_night': '北风', 'date': '2023-05-17', 'week': '星期三'}, {'text_day': '晴', 'text_night': '多云', 'high': 29, 'low': 20, 'wc_day': '4~5级', 'wd_day': '北风', 'wc_night': '3~4级', 'wd_night': '北风', 'date': '2023-05-18', 'week': '星期四'}, {'text_day': '多云', 'text_night': '阴', 'high': 29, 'low': 21, 'wc_day': '<3级', 'wd_day': '北风', 'wc_night': '<3级', 'wd_night': '北风', 'date': '2023-05-19', 'week': '星期五'}, {'text_day': '小雨', 'text_night': '小雨', 'high': 29, 'low': 23, 'wc_day': '3~4级', 'wd_day': '南风', 'wc_night': '3~4级', 'wd_night': '南风', 'date': '2023-05-20', 'week': '星期六'}]}, 'message': 'success'}\n"
     ]
    }
   ],
   "source": [
    "# encoding:utf-8\n",
    "import requests\n",
    "\n",
    "# 接口地址\n",
    "url = \"https://api.map.baidu.com/weather/v1/\"\n",
    "\n",
    "# 此处填写你在控制台-应用管理-创建应用后获取的AK\n",
    "ak = \"您的AK\"\n",
    "\n",
    "params = {\n",
    "    \"district_id\":    \"360428\",\n",
    "    \"data_type\":    \"all\",\n",
    "    \"ak\": 'KLWlIOmkhGUc58vieyfQyvfeVtdmMKU2',\n",
    "\n",
    "}\n",
    "\n",
    "response = requests.get(url=url, params=params)\n",
    "if response:\n",
    "    print(response.json())"
   ],
   "metadata": {
    "collapsed": false
   }
  },
  {
   "cell_type": "code",
   "execution_count": 4,
   "outputs": [],
   "source": [
    "import requests\n",
    "import json\n",
    "def getjson(loc,page_num=0):\n",
    "    header = {\n",
    "    'User-Agent': 'Mozilla/5.0 (Windows NT 10.0; Win64; x64) AppleWebKit/537.36 (KHTML, like Gecko) Chrome/108.0.0.0 Safari/537.36'\n",
    "        }\n",
    "    pa = {\n",
    "        'query':'公园',\n",
    "        'region':loc,\n",
    "        'scope':'1',\n",
    "        'output':'json',\n",
    "        'page_size':20,\n",
    "        'page_num':page_num,\n",
    "        'ak':'KLWlIOmkhGUc58vieyfQyvfeVtdmMKU2'\n",
    "    }\n",
    "    url = 'https://api.map.baidu.com/place/v2/search'\n",
    "    r = requests.get(url = url,params=pa,headers=header)\n",
    "    decodejson = json.loads(r.text)\n",
    "    return decodejson"
   ],
   "metadata": {
    "collapsed": false
   }
  },
  {
   "cell_type": "code",
   "execution_count": 6,
   "outputs": [
    {
     "data": {
      "text/plain": "[{'name': '清湖文化公园',\n  'location': {'lat': 22.674822, 'lng': 114.057292},\n  'address': '清华东路12-10号附近',\n  'province': '广东省',\n  'city': '深圳市',\n  'area': '龙华区',\n  'street_id': '',\n  'detail': 1,\n  'uid': '6b76ac2338c3d6548f55eca0'},\n {'name': '世界之窗',\n  'location': {'lat': 22.540746, 'lng': 113.979399},\n  'address': '广东省深圳市南山区深南大道9037号',\n  'province': '广东省',\n  'city': '深圳市',\n  'area': '南山区',\n  'street_id': '',\n  'telephone': '(0755)26608000',\n  'detail': 1,\n  'uid': 'e41eb1fb40abb0b82fb96db2'},\n {'name': '龙潭公园',\n  'location': {'lat': 22.729943, 'lng': 114.249268},\n  'address': '深圳市龙岗区龙城街道长兴南路31号',\n  'province': '广东省',\n  'city': '深圳市',\n  'area': '龙岗区',\n  'street_id': 'd5464cf8b7f49b57fda7782a',\n  'detail': 1,\n  'uid': 'd5464cf8b7f49b57fda7782a'},\n {'name': '宝安西湾红树林公园',\n  'location': {'lat': 22.593597, 'lng': 113.843305},\n  'address': '广东省深圳市宝安区金湾大道与西海堤交汇处',\n  'province': '广东省',\n  'city': '深圳市',\n  'area': '宝安区',\n  'street_id': '',\n  'detail': 1,\n  'uid': '0e02000069f7f455a104640b'},\n {'name': '阳台山森林公园',\n  'location': {'lat': 22.657618, 'lng': 113.97127},\n  'address': '广东省深圳市龙华区大浪街道布龙路',\n  'province': '广东省',\n  'city': '深圳市',\n  'area': '龙华区',\n  'street_id': 'b5358df66d81462fa8175a1b',\n  'telephone': '(0755)27522408',\n  'detail': 1,\n  'uid': 'b5358df66d81462fa8175a1b'},\n {'name': '洪湖公园',\n  'location': {'lat': 22.572204, 'lng': 114.12688},\n  'address': '广东省深圳市罗湖区笋岗街道洪湖社区文锦北路2023号',\n  'province': '广东省',\n  'city': '深圳市',\n  'area': '罗湖区',\n  'street_id': '3be122e12c73be521ef74d6c',\n  'telephone': '(0755)25628811',\n  'detail': 1,\n  'uid': '3be122e12c73be521ef74d6c'},\n {'name': '莲花山公园',\n  'location': {'lat': 22.559257, 'lng': 114.065193},\n  'address': '广东省深圳市福田区莲花街道红荔路6030号',\n  'province': '广东省',\n  'city': '深圳市',\n  'area': '福田区',\n  'street_id': '',\n  'telephone': '(0755)83067950',\n  'detail': 1,\n  'uid': '171d9b8d15dc68ea9222e09f'},\n {'name': '求水山公园',\n  'location': {'lat': 22.604436, 'lng': 114.150121},\n  'address': '深圳市龙岗区南湾街道南岭村社区龙山路(近南岭花园)',\n  'province': '广东省',\n  'city': '深圳市',\n  'area': '龙岗区',\n  'street_id': '',\n  'telephone': '(0755)28727888',\n  'detail': 1,\n  'uid': '8b395ea76993f0e5d6b74ebe'},\n {'name': '凤凰山',\n  'location': {'lat': 22.680906, 'lng': 113.857286},\n  'address': '广东省深圳市宝安区福永街道凤凰村',\n  'province': '广东省',\n  'city': '深圳市',\n  'area': '宝安区',\n  'street_id': '',\n  'telephone': '(0755)29915042',\n  'detail': 1,\n  'uid': 'c7eca12be5f37834e115f92f'},\n {'name': '龙华公园',\n  'location': {'lat': 22.663733, 'lng': 114.023117},\n  'address': '深圳市龙华区公园路与景龙中环路交叉路口往西北约50米(龙华荔园新村西北侧约100米)',\n  'province': '广东省',\n  'city': '深圳市',\n  'area': '龙华区',\n  'street_id': '0ed20a15f4f927ea56bfff8b',\n  'detail': 1,\n  'uid': '0ed20a15f4f927ea56bfff8b'},\n {'name': '香蜜公园',\n  'location': {'lat': 22.55278, 'lng': 114.028539},\n  'address': '深圳市福田区农园路30号',\n  'province': '广东省',\n  'city': '深圳市',\n  'area': '福田区',\n  'street_id': '',\n  'telephone': '(0755)83310537',\n  'detail': 1,\n  'uid': '0870c5626f761e8ff4231014'},\n {'name': '荔枝公园',\n  'location': {'lat': 22.551843, 'lng': 114.108658},\n  'address': '深圳市福田区红岭中路1001号',\n  'province': '广东省',\n  'city': '深圳市',\n  'area': '福田区',\n  'street_id': '',\n  'telephone': '(0755)82095655',\n  'detail': 1,\n  'uid': 'e458d7f6f221f64d8f1a8958'},\n {'name': '马峦山郊野公园',\n  'location': {'lat': 22.650439, 'lng': 114.332247},\n  'address': '广东省深圳市坪山区马峦街道马峦社区坪马线公路',\n  'province': '广东省',\n  'city': '深圳市',\n  'area': '坪山区',\n  'street_id': '8cfac607d16443fc3a13fdaa',\n  'telephone': '(0755)89785020',\n  'detail': 1,\n  'uid': '8cfac607d16443fc3a13fdaa'},\n {'name': '西乡公园',\n  'location': {'lat': 22.583565, 'lng': 113.887549},\n  'address': '深圳市宝安区富成路160号',\n  'province': '广东省',\n  'city': '深圳市',\n  'area': '宝安区',\n  'street_id': '0058610833f101a546e274c0',\n  'detail': 1,\n  'uid': '0058610833f101a546e274c0'},\n {'name': '龙城公园',\n  'location': {'lat': 22.718913, 'lng': 114.232846},\n  'address': '广东省深圳市龙岗区清林路与爱心路交界处',\n  'province': '广东省',\n  'city': '深圳市',\n  'area': '龙岗区',\n  'street_id': '5e19b631f765dc9854bfff71',\n  'telephone': '(0755)89562203',\n  'detail': 1,\n  'uid': '5e19b631f765dc9854bfff71'},\n {'name': '荔香公园',\n  'location': {'lat': 22.542578, 'lng': 113.936142},\n  'address': '南光路与南头街交界处',\n  'province': '广东省',\n  'city': '深圳市',\n  'area': '南山区',\n  'street_id': '',\n  'detail': 1,\n  'uid': '81d6a5095fa3db406e20b948'},\n {'name': '铁仔山公园',\n  'location': {'lat': 22.600843, 'lng': 113.866715},\n  'address': '广东省深圳市宝安区西乡大道和广深公路交叉口',\n  'province': '广东省',\n  'city': '深圳市',\n  'area': '宝安区',\n  'street_id': '',\n  'detail': 1,\n  'uid': 'fd13a3f2918e7987b1077d7f'},\n {'name': '深圳湾公园',\n  'location': {'lat': 22.52837, 'lng': 114.003481},\n  'address': '深圳市福田区滨海大道',\n  'province': '广东省',\n  'city': '深圳市',\n  'area': '福田区',\n  'street_id': 'df2fbad8ddee98cfe9f85366',\n  'telephone': '(0755)83706489',\n  'detail': 1,\n  'uid': 'df2fbad8ddee98cfe9f85366'},\n {'name': '深圳德逸公园',\n  'location': {'lat': 22.638688, 'lng': 114.034985},\n  'address': '深圳市龙华区梅陇路307号附近',\n  'province': '广东省',\n  'city': '深圳市',\n  'area': '龙华区',\n  'street_id': '',\n  'detail': 1,\n  'uid': '56b658a24899a9fb2b11d156'},\n {'name': '碧海湾公园',\n  'location': {'lat': 22.590213, 'lng': 113.859334},\n  'address': '深圳市宝安区新湾路317号',\n  'province': '广东省',\n  'city': '深圳市',\n  'area': '宝安区',\n  'street_id': '992f1ebc6ec32bf8f503b8ff',\n  'detail': 1,\n  'uid': '992f1ebc6ec32bf8f503b8ff'}]"
     },
     "execution_count": 6,
     "metadata": {},
     "output_type": "execute_result"
    }
   ],
   "source": [
    "sz_park = getjson('深圳')\n",
    "sz_park.get('results')"
   ],
   "metadata": {
    "collapsed": false
   }
  },
  {
   "cell_type": "code",
   "execution_count": 7,
   "outputs": [
    {
     "name": "stdout",
     "output_type": "stream",
     "text": [
      "清湖文化公园\n",
      "世界之窗\n",
      "龙潭公园\n",
      "宝安西湾红树林公园\n",
      "阳台山森林公园\n",
      "洪湖公园\n",
      "莲花山公园\n",
      "求水山公园\n",
      "凤凰山\n",
      "龙华公园\n",
      "香蜜公园\n",
      "荔枝公园\n",
      "马峦山郊野公园\n",
      "西乡公园\n",
      "龙城公园\n",
      "荔香公园\n",
      "铁仔山公园\n",
      "深圳湾公园\n",
      "深圳德逸公园\n",
      "碧海湾公园\n"
     ]
    }
   ],
   "source": [
    "for i in sz_park.get('results'):\n",
    "    print(i.get('name'))"
   ],
   "metadata": {
    "collapsed": false
   }
  }
 ],
 "metadata": {
  "kernelspec": {
   "display_name": "Python 3",
   "language": "python",
   "name": "python3"
  },
  "language_info": {
   "codemirror_mode": {
    "name": "ipython",
    "version": 2
   },
   "file_extension": ".py",
   "mimetype": "text/x-python",
   "name": "python",
   "nbconvert_exporter": "python",
   "pygments_lexer": "ipython2",
   "version": "2.7.6"
  }
 },
 "nbformat": 4,
 "nbformat_minor": 0
}
