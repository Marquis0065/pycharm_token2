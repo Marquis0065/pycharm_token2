{
 "cells": [
  {
   "cell_type": "code",
   "execution_count": 2,
   "outputs": [],
   "source": [
    "from IPython.core.interactiveshell import InteractiveShell\n",
    "InteractiveShell.ast_node_interactivity=\"all\""
   ],
   "metadata": {
    "collapsed": false
   }
  },
  {
   "cell_type": "code",
   "execution_count": 3,
   "outputs": [],
   "source": [
    "import pandas as pd\n",
    "import numpy as np\n",
    "import matplotlib.pyplot as plt"
   ],
   "metadata": {
    "collapsed": false
   }
  },
  {
   "cell_type": "code",
   "execution_count": 4,
   "outputs": [
    {
     "data": {
      "text/plain": "0    1.0\n1    3.0\n2    5.0\n3    NaN\n4    6.0\n5    9.0\ndtype: float64"
     },
     "execution_count": 4,
     "metadata": {},
     "output_type": "execute_result"
    }
   ],
   "source": [
    "s = pd.Series([1,3,5,np.nan,6,9])\n",
    "s"
   ],
   "metadata": {
    "collapsed": false
   }
  },
  {
   "cell_type": "code",
   "execution_count": 6,
   "outputs": [
    {
     "data": {
      "text/plain": "dtype('float64')"
     },
     "execution_count": 6,
     "metadata": {},
     "output_type": "execute_result"
    },
    {
     "data": {
      "text/plain": "dtype('float64')"
     },
     "execution_count": 6,
     "metadata": {},
     "output_type": "execute_result"
    }
   ],
   "source": [
    "s.dtype\n",
    "s.dtypes"
   ],
   "metadata": {
    "collapsed": false
   }
  },
  {
   "cell_type": "code",
   "execution_count": 8,
   "outputs": [
    {
     "data": {
      "text/plain": "DatetimeIndex(['2023-01-01', '2023-01-02', '2023-01-03', '2023-01-04',\n               '2023-01-05', '2023-01-06'],\n              dtype='datetime64[ns]', freq='D')"
     },
     "execution_count": 8,
     "metadata": {},
     "output_type": "execute_result"
    }
   ],
   "source": [
    "dates = pd.date_range('20230101',periods=6)\n",
    "dates"
   ],
   "metadata": {
    "collapsed": false
   }
  },
  {
   "cell_type": "code",
   "execution_count": 10,
   "outputs": [
    {
     "data": {
      "text/plain": "pandas.core.indexes.datetimes.DatetimeIndex"
     },
     "execution_count": 10,
     "metadata": {},
     "output_type": "execute_result"
    },
    {
     "data": {
      "text/plain": "pandas.core.series.Series"
     },
     "execution_count": 10,
     "metadata": {},
     "output_type": "execute_result"
    }
   ],
   "source": [
    "type(dates)\n",
    "type(s)"
   ],
   "metadata": {
    "collapsed": false
   }
  },
  {
   "cell_type": "code",
   "execution_count": 11,
   "outputs": [],
   "source": [
    "df = pd.DataFrame(np.random.randn(6,4),index=dates,columns=list('ABCD'))"
   ],
   "metadata": {
    "collapsed": false
   }
  },
  {
   "cell_type": "code",
   "execution_count": 12,
   "outputs": [
    {
     "data": {
      "text/plain": "                   A         B         C         D\n2023-01-01 -0.111874  0.877763 -3.284433 -1.159260\n2023-01-02  0.841433  0.076219  0.461902 -1.311436\n2023-01-03  0.502094  0.179865 -1.174281 -0.202441\n2023-01-04  0.654074  0.330935  1.313095  0.602093\n2023-01-05  0.126607  1.734405 -0.458116 -0.437503\n2023-01-06  0.320465 -0.930536 -0.324344  1.634312",
      "text/html": "<div>\n<style scoped>\n    .dataframe tbody tr th:only-of-type {\n        vertical-align: middle;\n    }\n\n    .dataframe tbody tr th {\n        vertical-align: top;\n    }\n\n    .dataframe thead th {\n        text-align: right;\n    }\n</style>\n<table border=\"1\" class=\"dataframe\">\n  <thead>\n    <tr style=\"text-align: right;\">\n      <th></th>\n      <th>A</th>\n      <th>B</th>\n      <th>C</th>\n      <th>D</th>\n    </tr>\n  </thead>\n  <tbody>\n    <tr>\n      <th>2023-01-01</th>\n      <td>-0.111874</td>\n      <td>0.877763</td>\n      <td>-3.284433</td>\n      <td>-1.159260</td>\n    </tr>\n    <tr>\n      <th>2023-01-02</th>\n      <td>0.841433</td>\n      <td>0.076219</td>\n      <td>0.461902</td>\n      <td>-1.311436</td>\n    </tr>\n    <tr>\n      <th>2023-01-03</th>\n      <td>0.502094</td>\n      <td>0.179865</td>\n      <td>-1.174281</td>\n      <td>-0.202441</td>\n    </tr>\n    <tr>\n      <th>2023-01-04</th>\n      <td>0.654074</td>\n      <td>0.330935</td>\n      <td>1.313095</td>\n      <td>0.602093</td>\n    </tr>\n    <tr>\n      <th>2023-01-05</th>\n      <td>0.126607</td>\n      <td>1.734405</td>\n      <td>-0.458116</td>\n      <td>-0.437503</td>\n    </tr>\n    <tr>\n      <th>2023-01-06</th>\n      <td>0.320465</td>\n      <td>-0.930536</td>\n      <td>-0.324344</td>\n      <td>1.634312</td>\n    </tr>\n  </tbody>\n</table>\n</div>"
     },
     "execution_count": 12,
     "metadata": {},
     "output_type": "execute_result"
    }
   ],
   "source": [
    "df"
   ],
   "metadata": {
    "collapsed": false
   }
  },
  {
   "cell_type": "code",
   "execution_count": 101,
   "outputs": [
    {
     "data": {
      "text/plain": "{'A': 1,\n 'B': Timestamp('2023-01-01 00:00:00'),\n 'C': 0    1.0\n 1    1.0\n 2    1.0\n 3    1.0\n dtype: float32,\n 'D': array([3, 3, 3, 3]),\n 'E': ['test', 'train', 'test', 'da']\n Categories (3, object): ['da', 'test', 'train'],\n 'F': 'foo'}"
     },
     "execution_count": 101,
     "metadata": {},
     "output_type": "execute_result"
    }
   ],
   "source": [
    "dic = {'A':1,\n",
    "       'B':pd.Timestamp('20230101'),\n",
    "       'C':pd.Series(1,index=list(range(4)),dtype='float32'),\n",
    "       'D':np.array([3]*4,dtype='int32'),\n",
    "       'E':pd.Categorical(['test','train','test','da']),\n",
    "       'F':'foo'}\n",
    "dic"
   ],
   "metadata": {
    "collapsed": false
   }
  },
  {
   "cell_type": "code",
   "execution_count": 102,
   "outputs": [
    {
     "data": {
      "text/plain": "   A          B    C  D      E    F\n0  1 2023-01-01  1.0  3   test  foo\n1  1 2023-01-01  1.0  3  train  foo\n2  1 2023-01-01  1.0  3   test  foo\n3  1 2023-01-01  1.0  3     da  foo",
      "text/html": "<div>\n<style scoped>\n    .dataframe tbody tr th:only-of-type {\n        vertical-align: middle;\n    }\n\n    .dataframe tbody tr th {\n        vertical-align: top;\n    }\n\n    .dataframe thead th {\n        text-align: right;\n    }\n</style>\n<table border=\"1\" class=\"dataframe\">\n  <thead>\n    <tr style=\"text-align: right;\">\n      <th></th>\n      <th>A</th>\n      <th>B</th>\n      <th>C</th>\n      <th>D</th>\n      <th>E</th>\n      <th>F</th>\n    </tr>\n  </thead>\n  <tbody>\n    <tr>\n      <th>0</th>\n      <td>1</td>\n      <td>2023-01-01</td>\n      <td>1.0</td>\n      <td>3</td>\n      <td>test</td>\n      <td>foo</td>\n    </tr>\n    <tr>\n      <th>1</th>\n      <td>1</td>\n      <td>2023-01-01</td>\n      <td>1.0</td>\n      <td>3</td>\n      <td>train</td>\n      <td>foo</td>\n    </tr>\n    <tr>\n      <th>2</th>\n      <td>1</td>\n      <td>2023-01-01</td>\n      <td>1.0</td>\n      <td>3</td>\n      <td>test</td>\n      <td>foo</td>\n    </tr>\n    <tr>\n      <th>3</th>\n      <td>1</td>\n      <td>2023-01-01</td>\n      <td>1.0</td>\n      <td>3</td>\n      <td>da</td>\n      <td>foo</td>\n    </tr>\n  </tbody>\n</table>\n</div>"
     },
     "execution_count": 102,
     "metadata": {},
     "output_type": "execute_result"
    }
   ],
   "source": [
    "df2 = pd.DataFrame(dic)\n",
    "df2"
   ],
   "metadata": {
    "collapsed": false
   }
  },
  {
   "cell_type": "code",
   "execution_count": 15,
   "outputs": [
    {
     "name": "stdout",
     "output_type": "stream",
     "text": [
      "<class 'pandas.core.frame.DataFrame'>\n",
      "Int64Index: 4 entries, 0 to 3\n",
      "Data columns (total 6 columns):\n",
      " #   Column  Non-Null Count  Dtype         \n",
      "---  ------  --------------  -----         \n",
      " 0   A       4 non-null      int64         \n",
      " 1   B       4 non-null      datetime64[ns]\n",
      " 2   C       4 non-null      float32       \n",
      " 3   D       4 non-null      int32         \n",
      " 4   E       4 non-null      category      \n",
      " 5   F       4 non-null      object        \n",
      "dtypes: category(1), datetime64[ns](1), float32(1), int32(1), int64(1), object(1)\n",
      "memory usage: 296.0+ bytes\n"
     ]
    }
   ],
   "source": [
    "df2.info()"
   ],
   "metadata": {
    "collapsed": false
   }
  },
  {
   "cell_type": "code",
   "execution_count": 18,
   "outputs": [
    {
     "data": {
      "text/plain": "DatetimeIndex(['2023-01-01', '2023-01-02', '2023-01-03', '2023-01-04',\n               '2023-01-05', '2023-01-06'],\n              dtype='datetime64[ns]', freq='D')"
     },
     "execution_count": 18,
     "metadata": {},
     "output_type": "execute_result"
    }
   ],
   "source": [
    "df.index"
   ],
   "metadata": {
    "collapsed": false
   }
  },
  {
   "cell_type": "code",
   "execution_count": 19,
   "outputs": [
    {
     "data": {
      "text/plain": "Index(['A', 'B', 'C', 'D'], dtype='object')"
     },
     "execution_count": 19,
     "metadata": {},
     "output_type": "execute_result"
    }
   ],
   "source": [
    "df.columns"
   ],
   "metadata": {
    "collapsed": false
   }
  },
  {
   "cell_type": "code",
   "execution_count": 20,
   "outputs": [
    {
     "data": {
      "text/plain": "array([[-0.11187385,  0.87776348, -3.28443348, -1.15926046],\n       [ 0.84143276,  0.07621906,  0.46190155, -1.31143629],\n       [ 0.50209447,  0.17986524, -1.17428067, -0.20244098],\n       [ 0.65407414,  0.33093457,  1.3130949 ,  0.60209343],\n       [ 0.12660663,  1.73440528, -0.45811637, -0.43750283],\n       [ 0.3204645 , -0.93053566, -0.32434433,  1.63431221]])"
     },
     "execution_count": 20,
     "metadata": {},
     "output_type": "execute_result"
    }
   ],
   "source": [
    "df.values"
   ],
   "metadata": {
    "collapsed": false
   }
  },
  {
   "cell_type": "code",
   "execution_count": 21,
   "outputs": [
    {
     "data": {
      "text/plain": "              A         B         C         D\ncount  6.000000  6.000000  6.000000  6.000000\nmean   0.388800  0.378109 -0.577696 -0.145706\nstd    0.349906  0.887064  1.575860  1.113755\nmin   -0.111874 -0.930536 -3.284433 -1.311436\n25%    0.175071  0.102131 -0.995240 -0.978821\n50%    0.411279  0.255400 -0.391230 -0.319972\n75%    0.616079  0.741056  0.265340  0.400960\nmax    0.841433  1.734405  1.313095  1.634312",
      "text/html": "<div>\n<style scoped>\n    .dataframe tbody tr th:only-of-type {\n        vertical-align: middle;\n    }\n\n    .dataframe tbody tr th {\n        vertical-align: top;\n    }\n\n    .dataframe thead th {\n        text-align: right;\n    }\n</style>\n<table border=\"1\" class=\"dataframe\">\n  <thead>\n    <tr style=\"text-align: right;\">\n      <th></th>\n      <th>A</th>\n      <th>B</th>\n      <th>C</th>\n      <th>D</th>\n    </tr>\n  </thead>\n  <tbody>\n    <tr>\n      <th>count</th>\n      <td>6.000000</td>\n      <td>6.000000</td>\n      <td>6.000000</td>\n      <td>6.000000</td>\n    </tr>\n    <tr>\n      <th>mean</th>\n      <td>0.388800</td>\n      <td>0.378109</td>\n      <td>-0.577696</td>\n      <td>-0.145706</td>\n    </tr>\n    <tr>\n      <th>std</th>\n      <td>0.349906</td>\n      <td>0.887064</td>\n      <td>1.575860</td>\n      <td>1.113755</td>\n    </tr>\n    <tr>\n      <th>min</th>\n      <td>-0.111874</td>\n      <td>-0.930536</td>\n      <td>-3.284433</td>\n      <td>-1.311436</td>\n    </tr>\n    <tr>\n      <th>25%</th>\n      <td>0.175071</td>\n      <td>0.102131</td>\n      <td>-0.995240</td>\n      <td>-0.978821</td>\n    </tr>\n    <tr>\n      <th>50%</th>\n      <td>0.411279</td>\n      <td>0.255400</td>\n      <td>-0.391230</td>\n      <td>-0.319972</td>\n    </tr>\n    <tr>\n      <th>75%</th>\n      <td>0.616079</td>\n      <td>0.741056</td>\n      <td>0.265340</td>\n      <td>0.400960</td>\n    </tr>\n    <tr>\n      <th>max</th>\n      <td>0.841433</td>\n      <td>1.734405</td>\n      <td>1.313095</td>\n      <td>1.634312</td>\n    </tr>\n  </tbody>\n</table>\n</div>"
     },
     "execution_count": 21,
     "metadata": {},
     "output_type": "execute_result"
    }
   ],
   "source": [
    "df.describe()"
   ],
   "metadata": {
    "collapsed": false
   }
  },
  {
   "cell_type": "code",
   "execution_count": 22,
   "outputs": [
    {
     "data": {
      "text/plain": "   2023-01-01  2023-01-02  2023-01-03  2023-01-04  2023-01-05  2023-01-06\nA   -0.111874    0.841433    0.502094    0.654074    0.126607    0.320465\nB    0.877763    0.076219    0.179865    0.330935    1.734405   -0.930536\nC   -3.284433    0.461902   -1.174281    1.313095   -0.458116   -0.324344\nD   -1.159260   -1.311436   -0.202441    0.602093   -0.437503    1.634312",
      "text/html": "<div>\n<style scoped>\n    .dataframe tbody tr th:only-of-type {\n        vertical-align: middle;\n    }\n\n    .dataframe tbody tr th {\n        vertical-align: top;\n    }\n\n    .dataframe thead th {\n        text-align: right;\n    }\n</style>\n<table border=\"1\" class=\"dataframe\">\n  <thead>\n    <tr style=\"text-align: right;\">\n      <th></th>\n      <th>2023-01-01</th>\n      <th>2023-01-02</th>\n      <th>2023-01-03</th>\n      <th>2023-01-04</th>\n      <th>2023-01-05</th>\n      <th>2023-01-06</th>\n    </tr>\n  </thead>\n  <tbody>\n    <tr>\n      <th>A</th>\n      <td>-0.111874</td>\n      <td>0.841433</td>\n      <td>0.502094</td>\n      <td>0.654074</td>\n      <td>0.126607</td>\n      <td>0.320465</td>\n    </tr>\n    <tr>\n      <th>B</th>\n      <td>0.877763</td>\n      <td>0.076219</td>\n      <td>0.179865</td>\n      <td>0.330935</td>\n      <td>1.734405</td>\n      <td>-0.930536</td>\n    </tr>\n    <tr>\n      <th>C</th>\n      <td>-3.284433</td>\n      <td>0.461902</td>\n      <td>-1.174281</td>\n      <td>1.313095</td>\n      <td>-0.458116</td>\n      <td>-0.324344</td>\n    </tr>\n    <tr>\n      <th>D</th>\n      <td>-1.159260</td>\n      <td>-1.311436</td>\n      <td>-0.202441</td>\n      <td>0.602093</td>\n      <td>-0.437503</td>\n      <td>1.634312</td>\n    </tr>\n  </tbody>\n</table>\n</div>"
     },
     "execution_count": 22,
     "metadata": {},
     "output_type": "execute_result"
    }
   ],
   "source": [
    "df.T"
   ],
   "metadata": {
    "collapsed": false
   }
  },
  {
   "cell_type": "code",
   "execution_count": 25,
   "outputs": [
    {
     "data": {
      "text/plain": "                   D         C         B         A\n2023-01-01 -1.159260 -3.284433  0.877763 -0.111874\n2023-01-02 -1.311436  0.461902  0.076219  0.841433\n2023-01-03 -0.202441 -1.174281  0.179865  0.502094\n2023-01-04  0.602093  1.313095  0.330935  0.654074\n2023-01-05 -0.437503 -0.458116  1.734405  0.126607\n2023-01-06  1.634312 -0.324344 -0.930536  0.320465",
      "text/html": "<div>\n<style scoped>\n    .dataframe tbody tr th:only-of-type {\n        vertical-align: middle;\n    }\n\n    .dataframe tbody tr th {\n        vertical-align: top;\n    }\n\n    .dataframe thead th {\n        text-align: right;\n    }\n</style>\n<table border=\"1\" class=\"dataframe\">\n  <thead>\n    <tr style=\"text-align: right;\">\n      <th></th>\n      <th>D</th>\n      <th>C</th>\n      <th>B</th>\n      <th>A</th>\n    </tr>\n  </thead>\n  <tbody>\n    <tr>\n      <th>2023-01-01</th>\n      <td>-1.159260</td>\n      <td>-3.284433</td>\n      <td>0.877763</td>\n      <td>-0.111874</td>\n    </tr>\n    <tr>\n      <th>2023-01-02</th>\n      <td>-1.311436</td>\n      <td>0.461902</td>\n      <td>0.076219</td>\n      <td>0.841433</td>\n    </tr>\n    <tr>\n      <th>2023-01-03</th>\n      <td>-0.202441</td>\n      <td>-1.174281</td>\n      <td>0.179865</td>\n      <td>0.502094</td>\n    </tr>\n    <tr>\n      <th>2023-01-04</th>\n      <td>0.602093</td>\n      <td>1.313095</td>\n      <td>0.330935</td>\n      <td>0.654074</td>\n    </tr>\n    <tr>\n      <th>2023-01-05</th>\n      <td>-0.437503</td>\n      <td>-0.458116</td>\n      <td>1.734405</td>\n      <td>0.126607</td>\n    </tr>\n    <tr>\n      <th>2023-01-06</th>\n      <td>1.634312</td>\n      <td>-0.324344</td>\n      <td>-0.930536</td>\n      <td>0.320465</td>\n    </tr>\n  </tbody>\n</table>\n</div>"
     },
     "execution_count": 25,
     "metadata": {},
     "output_type": "execute_result"
    }
   ],
   "source": [
    "df.sort_index(axis=1,ascending=False)"
   ],
   "metadata": {
    "collapsed": false
   }
  },
  {
   "cell_type": "code",
   "execution_count": 26,
   "outputs": [
    {
     "data": {
      "text/plain": "                   A         B         C         D\n2023-01-06  0.320465 -0.930536 -0.324344  1.634312\n2023-01-02  0.841433  0.076219  0.461902 -1.311436\n2023-01-03  0.502094  0.179865 -1.174281 -0.202441\n2023-01-04  0.654074  0.330935  1.313095  0.602093\n2023-01-01 -0.111874  0.877763 -3.284433 -1.159260\n2023-01-05  0.126607  1.734405 -0.458116 -0.437503",
      "text/html": "<div>\n<style scoped>\n    .dataframe tbody tr th:only-of-type {\n        vertical-align: middle;\n    }\n\n    .dataframe tbody tr th {\n        vertical-align: top;\n    }\n\n    .dataframe thead th {\n        text-align: right;\n    }\n</style>\n<table border=\"1\" class=\"dataframe\">\n  <thead>\n    <tr style=\"text-align: right;\">\n      <th></th>\n      <th>A</th>\n      <th>B</th>\n      <th>C</th>\n      <th>D</th>\n    </tr>\n  </thead>\n  <tbody>\n    <tr>\n      <th>2023-01-06</th>\n      <td>0.320465</td>\n      <td>-0.930536</td>\n      <td>-0.324344</td>\n      <td>1.634312</td>\n    </tr>\n    <tr>\n      <th>2023-01-02</th>\n      <td>0.841433</td>\n      <td>0.076219</td>\n      <td>0.461902</td>\n      <td>-1.311436</td>\n    </tr>\n    <tr>\n      <th>2023-01-03</th>\n      <td>0.502094</td>\n      <td>0.179865</td>\n      <td>-1.174281</td>\n      <td>-0.202441</td>\n    </tr>\n    <tr>\n      <th>2023-01-04</th>\n      <td>0.654074</td>\n      <td>0.330935</td>\n      <td>1.313095</td>\n      <td>0.602093</td>\n    </tr>\n    <tr>\n      <th>2023-01-01</th>\n      <td>-0.111874</td>\n      <td>0.877763</td>\n      <td>-3.284433</td>\n      <td>-1.159260</td>\n    </tr>\n    <tr>\n      <th>2023-01-05</th>\n      <td>0.126607</td>\n      <td>1.734405</td>\n      <td>-0.458116</td>\n      <td>-0.437503</td>\n    </tr>\n  </tbody>\n</table>\n</div>"
     },
     "execution_count": 26,
     "metadata": {},
     "output_type": "execute_result"
    }
   ],
   "source": [
    "df.sort_values('B')"
   ],
   "metadata": {
    "collapsed": false
   }
  },
  {
   "cell_type": "code",
   "execution_count": 28,
   "outputs": [
    {
     "data": {
      "text/plain": "2023-01-01    True\n2023-01-02    True\n2023-01-03    True\n2023-01-04    True\n2023-01-05    True\n2023-01-06    True\nFreq: D, Name: A, dtype: bool"
     },
     "execution_count": 28,
     "metadata": {},
     "output_type": "execute_result"
    }
   ],
   "source": [
    "df.A\n",
    "df['A']"
   ],
   "metadata": {
    "collapsed": false
   }
  },
  {
   "cell_type": "code",
   "execution_count": 29,
   "outputs": [
    {
     "data": {
      "text/plain": "                   A         B         C         D\n2023-01-01 -0.111874  0.877763 -3.284433 -1.159260\n2023-01-02  0.841433  0.076219  0.461902 -1.311436\n2023-01-03  0.502094  0.179865 -1.174281 -0.202441",
      "text/html": "<div>\n<style scoped>\n    .dataframe tbody tr th:only-of-type {\n        vertical-align: middle;\n    }\n\n    .dataframe tbody tr th {\n        vertical-align: top;\n    }\n\n    .dataframe thead th {\n        text-align: right;\n    }\n</style>\n<table border=\"1\" class=\"dataframe\">\n  <thead>\n    <tr style=\"text-align: right;\">\n      <th></th>\n      <th>A</th>\n      <th>B</th>\n      <th>C</th>\n      <th>D</th>\n    </tr>\n  </thead>\n  <tbody>\n    <tr>\n      <th>2023-01-01</th>\n      <td>-0.111874</td>\n      <td>0.877763</td>\n      <td>-3.284433</td>\n      <td>-1.159260</td>\n    </tr>\n    <tr>\n      <th>2023-01-02</th>\n      <td>0.841433</td>\n      <td>0.076219</td>\n      <td>0.461902</td>\n      <td>-1.311436</td>\n    </tr>\n    <tr>\n      <th>2023-01-03</th>\n      <td>0.502094</td>\n      <td>0.179865</td>\n      <td>-1.174281</td>\n      <td>-0.202441</td>\n    </tr>\n  </tbody>\n</table>\n</div>"
     },
     "execution_count": 29,
     "metadata": {},
     "output_type": "execute_result"
    }
   ],
   "source": [
    "df[:3] # 行切片"
   ],
   "metadata": {
    "collapsed": false
   }
  },
  {
   "cell_type": "code",
   "execution_count": 30,
   "outputs": [
    {
     "data": {
      "text/plain": "                   A         C\n2023-01-01 -0.111874 -3.284433\n2023-01-02  0.841433  0.461902\n2023-01-03  0.502094 -1.174281\n2023-01-04  0.654074  1.313095\n2023-01-05  0.126607 -0.458116\n2023-01-06  0.320465 -0.324344",
      "text/html": "<div>\n<style scoped>\n    .dataframe tbody tr th:only-of-type {\n        vertical-align: middle;\n    }\n\n    .dataframe tbody tr th {\n        vertical-align: top;\n    }\n\n    .dataframe thead th {\n        text-align: right;\n    }\n</style>\n<table border=\"1\" class=\"dataframe\">\n  <thead>\n    <tr style=\"text-align: right;\">\n      <th></th>\n      <th>A</th>\n      <th>C</th>\n    </tr>\n  </thead>\n  <tbody>\n    <tr>\n      <th>2023-01-01</th>\n      <td>-0.111874</td>\n      <td>-3.284433</td>\n    </tr>\n    <tr>\n      <th>2023-01-02</th>\n      <td>0.841433</td>\n      <td>0.461902</td>\n    </tr>\n    <tr>\n      <th>2023-01-03</th>\n      <td>0.502094</td>\n      <td>-1.174281</td>\n    </tr>\n    <tr>\n      <th>2023-01-04</th>\n      <td>0.654074</td>\n      <td>1.313095</td>\n    </tr>\n    <tr>\n      <th>2023-01-05</th>\n      <td>0.126607</td>\n      <td>-0.458116</td>\n    </tr>\n    <tr>\n      <th>2023-01-06</th>\n      <td>0.320465</td>\n      <td>-0.324344</td>\n    </tr>\n  </tbody>\n</table>\n</div>"
     },
     "execution_count": 30,
     "metadata": {},
     "output_type": "execute_result"
    }
   ],
   "source": [
    "df.loc[:,['A','C']]"
   ],
   "metadata": {
    "collapsed": false
   }
  },
  {
   "cell_type": "code",
   "execution_count": 32,
   "outputs": [
    {
     "data": {
      "text/plain": "pandas.core.series.Series"
     },
     "execution_count": 32,
     "metadata": {},
     "output_type": "execute_result"
    }
   ],
   "source": [
    "type(df.iloc[1,[1,2]])"
   ],
   "metadata": {
    "collapsed": false
   }
  },
  {
   "cell_type": "code",
   "execution_count": 33,
   "outputs": [
    {
     "data": {
      "text/plain": "-0.1118738451519533"
     },
     "execution_count": 33,
     "metadata": {},
     "output_type": "execute_result"
    }
   ],
   "source": [
    "df.loc[dates[0],'A']"
   ],
   "metadata": {
    "collapsed": false
   }
  },
  {
   "cell_type": "code",
   "execution_count": 34,
   "outputs": [
    {
     "data": {
      "text/plain": "-0.1118738451519533"
     },
     "execution_count": 34,
     "metadata": {},
     "output_type": "execute_result"
    }
   ],
   "source": [
    "df.at[dates[0],'A'] # 同上"
   ],
   "metadata": {
    "collapsed": false
   }
  },
  {
   "cell_type": "code",
   "execution_count": 35,
   "outputs": [
    {
     "data": {
      "text/plain": "0.07621905792502404"
     },
     "execution_count": 35,
     "metadata": {},
     "output_type": "execute_result"
    }
   ],
   "source": [
    "df.iloc[1,1]"
   ],
   "metadata": {
    "collapsed": false
   }
  },
  {
   "cell_type": "code",
   "execution_count": 36,
   "outputs": [
    {
     "data": {
      "text/plain": "0.07621905792502404"
     },
     "execution_count": 36,
     "metadata": {},
     "output_type": "execute_result"
    }
   ],
   "source": [
    "df.iat[1,1]"
   ],
   "metadata": {
    "collapsed": false
   }
  },
  {
   "cell_type": "code",
   "execution_count": 38,
   "outputs": [
    {
     "data": {
      "text/plain": "                   A         B         C         D\n2023-01-02  0.841433  0.076219  0.461902 -1.311436\n2023-01-03  0.502094  0.179865 -1.174281 -0.202441\n2023-01-04  0.654074  0.330935  1.313095  0.602093\n2023-01-05  0.126607  1.734405 -0.458116 -0.437503\n2023-01-06  0.320465 -0.930536 -0.324344  1.634312",
      "text/html": "<div>\n<style scoped>\n    .dataframe tbody tr th:only-of-type {\n        vertical-align: middle;\n    }\n\n    .dataframe tbody tr th {\n        vertical-align: top;\n    }\n\n    .dataframe thead th {\n        text-align: right;\n    }\n</style>\n<table border=\"1\" class=\"dataframe\">\n  <thead>\n    <tr style=\"text-align: right;\">\n      <th></th>\n      <th>A</th>\n      <th>B</th>\n      <th>C</th>\n      <th>D</th>\n    </tr>\n  </thead>\n  <tbody>\n    <tr>\n      <th>2023-01-02</th>\n      <td>0.841433</td>\n      <td>0.076219</td>\n      <td>0.461902</td>\n      <td>-1.311436</td>\n    </tr>\n    <tr>\n      <th>2023-01-03</th>\n      <td>0.502094</td>\n      <td>0.179865</td>\n      <td>-1.174281</td>\n      <td>-0.202441</td>\n    </tr>\n    <tr>\n      <th>2023-01-04</th>\n      <td>0.654074</td>\n      <td>0.330935</td>\n      <td>1.313095</td>\n      <td>0.602093</td>\n    </tr>\n    <tr>\n      <th>2023-01-05</th>\n      <td>0.126607</td>\n      <td>1.734405</td>\n      <td>-0.458116</td>\n      <td>-0.437503</td>\n    </tr>\n    <tr>\n      <th>2023-01-06</th>\n      <td>0.320465</td>\n      <td>-0.930536</td>\n      <td>-0.324344</td>\n      <td>1.634312</td>\n    </tr>\n  </tbody>\n</table>\n</div>"
     },
     "execution_count": 38,
     "metadata": {},
     "output_type": "execute_result"
    }
   ],
   "source": [
    "df[df.A>0]"
   ],
   "metadata": {
    "collapsed": false
   }
  },
  {
   "cell_type": "code",
   "execution_count": 42,
   "outputs": [
    {
     "data": {
      "text/plain": "                   A         B         C         D\n2023-01-01       NaN  0.877763       NaN       NaN\n2023-01-02  0.841433  0.076219  0.461902       NaN\n2023-01-03  0.502094  0.179865       NaN       NaN\n2023-01-04  0.654074  0.330935  1.313095  0.602093\n2023-01-05  0.126607  1.734405       NaN       NaN\n2023-01-06  0.320465       NaN       NaN  1.634312",
      "text/html": "<div>\n<style scoped>\n    .dataframe tbody tr th:only-of-type {\n        vertical-align: middle;\n    }\n\n    .dataframe tbody tr th {\n        vertical-align: top;\n    }\n\n    .dataframe thead th {\n        text-align: right;\n    }\n</style>\n<table border=\"1\" class=\"dataframe\">\n  <thead>\n    <tr style=\"text-align: right;\">\n      <th></th>\n      <th>A</th>\n      <th>B</th>\n      <th>C</th>\n      <th>D</th>\n    </tr>\n  </thead>\n  <tbody>\n    <tr>\n      <th>2023-01-01</th>\n      <td>NaN</td>\n      <td>0.877763</td>\n      <td>NaN</td>\n      <td>NaN</td>\n    </tr>\n    <tr>\n      <th>2023-01-02</th>\n      <td>0.841433</td>\n      <td>0.076219</td>\n      <td>0.461902</td>\n      <td>NaN</td>\n    </tr>\n    <tr>\n      <th>2023-01-03</th>\n      <td>0.502094</td>\n      <td>0.179865</td>\n      <td>NaN</td>\n      <td>NaN</td>\n    </tr>\n    <tr>\n      <th>2023-01-04</th>\n      <td>0.654074</td>\n      <td>0.330935</td>\n      <td>1.313095</td>\n      <td>0.602093</td>\n    </tr>\n    <tr>\n      <th>2023-01-05</th>\n      <td>0.126607</td>\n      <td>1.734405</td>\n      <td>NaN</td>\n      <td>NaN</td>\n    </tr>\n    <tr>\n      <th>2023-01-06</th>\n      <td>0.320465</td>\n      <td>NaN</td>\n      <td>NaN</td>\n      <td>1.634312</td>\n    </tr>\n  </tbody>\n</table>\n</div>"
     },
     "execution_count": 42,
     "metadata": {},
     "output_type": "execute_result"
    }
   ],
   "source": [
    "df[df>0]"
   ],
   "metadata": {
    "collapsed": false
   }
  },
  {
   "cell_type": "code",
   "execution_count": 46,
   "outputs": [
    {
     "data": {
      "text/plain": "(4, 6)"
     },
     "execution_count": 46,
     "metadata": {},
     "output_type": "execute_result"
    }
   ],
   "source": [
    "df2.shape"
   ],
   "metadata": {
    "collapsed": false
   }
  },
  {
   "cell_type": "code",
   "execution_count": 47,
   "outputs": [
    {
     "data": {
      "text/plain": "                   A         B         C         D      E\n2023-01-01 -0.111874  0.877763 -3.284433 -1.159260    one\n2023-01-02  0.841433  0.076219  0.461902 -1.311436    one\n2023-01-03  0.502094  0.179865 -1.174281 -0.202441    two\n2023-01-04  0.654074  0.330935  1.313095  0.602093  three\n2023-01-05  0.126607  1.734405 -0.458116 -0.437503   four\n2023-01-06  0.320465 -0.930536 -0.324344  1.634312  three",
      "text/html": "<div>\n<style scoped>\n    .dataframe tbody tr th:only-of-type {\n        vertical-align: middle;\n    }\n\n    .dataframe tbody tr th {\n        vertical-align: top;\n    }\n\n    .dataframe thead th {\n        text-align: right;\n    }\n</style>\n<table border=\"1\" class=\"dataframe\">\n  <thead>\n    <tr style=\"text-align: right;\">\n      <th></th>\n      <th>A</th>\n      <th>B</th>\n      <th>C</th>\n      <th>D</th>\n      <th>E</th>\n    </tr>\n  </thead>\n  <tbody>\n    <tr>\n      <th>2023-01-01</th>\n      <td>-0.111874</td>\n      <td>0.877763</td>\n      <td>-3.284433</td>\n      <td>-1.159260</td>\n      <td>one</td>\n    </tr>\n    <tr>\n      <th>2023-01-02</th>\n      <td>0.841433</td>\n      <td>0.076219</td>\n      <td>0.461902</td>\n      <td>-1.311436</td>\n      <td>one</td>\n    </tr>\n    <tr>\n      <th>2023-01-03</th>\n      <td>0.502094</td>\n      <td>0.179865</td>\n      <td>-1.174281</td>\n      <td>-0.202441</td>\n      <td>two</td>\n    </tr>\n    <tr>\n      <th>2023-01-04</th>\n      <td>0.654074</td>\n      <td>0.330935</td>\n      <td>1.313095</td>\n      <td>0.602093</td>\n      <td>three</td>\n    </tr>\n    <tr>\n      <th>2023-01-05</th>\n      <td>0.126607</td>\n      <td>1.734405</td>\n      <td>-0.458116</td>\n      <td>-0.437503</td>\n      <td>four</td>\n    </tr>\n    <tr>\n      <th>2023-01-06</th>\n      <td>0.320465</td>\n      <td>-0.930536</td>\n      <td>-0.324344</td>\n      <td>1.634312</td>\n      <td>three</td>\n    </tr>\n  </tbody>\n</table>\n</div>"
     },
     "execution_count": 47,
     "metadata": {},
     "output_type": "execute_result"
    }
   ],
   "source": [
    "df['E']=['one','one','two','three','four','three']\n",
    "df"
   ],
   "metadata": {
    "collapsed": false
   }
  },
  {
   "cell_type": "code",
   "execution_count": 49,
   "outputs": [
    {
     "data": {
      "text/plain": "                   A         B         C         D     E\n2023-01-03  0.502094  0.179865 -1.174281 -0.202441   two\n2023-01-05  0.126607  1.734405 -0.458116 -0.437503  four",
      "text/html": "<div>\n<style scoped>\n    .dataframe tbody tr th:only-of-type {\n        vertical-align: middle;\n    }\n\n    .dataframe tbody tr th {\n        vertical-align: top;\n    }\n\n    .dataframe thead th {\n        text-align: right;\n    }\n</style>\n<table border=\"1\" class=\"dataframe\">\n  <thead>\n    <tr style=\"text-align: right;\">\n      <th></th>\n      <th>A</th>\n      <th>B</th>\n      <th>C</th>\n      <th>D</th>\n      <th>E</th>\n    </tr>\n  </thead>\n  <tbody>\n    <tr>\n      <th>2023-01-03</th>\n      <td>0.502094</td>\n      <td>0.179865</td>\n      <td>-1.174281</td>\n      <td>-0.202441</td>\n      <td>two</td>\n    </tr>\n    <tr>\n      <th>2023-01-05</th>\n      <td>0.126607</td>\n      <td>1.734405</td>\n      <td>-0.458116</td>\n      <td>-0.437503</td>\n      <td>four</td>\n    </tr>\n  </tbody>\n</table>\n</div>"
     },
     "execution_count": 49,
     "metadata": {},
     "output_type": "execute_result"
    }
   ],
   "source": [
    "df[df['E'].isin(['two','four'])]"
   ],
   "metadata": {
    "collapsed": false
   }
  },
  {
   "cell_type": "code",
   "execution_count": 55,
   "outputs": [
    {
     "data": {
      "text/plain": "                   A         B         C         D      E  G\n2023-01-01 -0.111874  0.877763 -3.284433 -1.159260    one  0\n2023-01-02  0.841433  0.076219  0.461902 -1.311436    one  1\n2023-01-03  0.502094  0.179865 -1.174281 -0.202441    two  2\n2023-01-04  0.654074  0.330935  1.313095  0.602093  three  3\n2023-01-05  0.126607  1.734405 -0.458116 -0.437503   four  4\n2023-01-06  0.320465 -0.930536 -0.324344  1.634312  three  5",
      "text/html": "<div>\n<style scoped>\n    .dataframe tbody tr th:only-of-type {\n        vertical-align: middle;\n    }\n\n    .dataframe tbody tr th {\n        vertical-align: top;\n    }\n\n    .dataframe thead th {\n        text-align: right;\n    }\n</style>\n<table border=\"1\" class=\"dataframe\">\n  <thead>\n    <tr style=\"text-align: right;\">\n      <th></th>\n      <th>A</th>\n      <th>B</th>\n      <th>C</th>\n      <th>D</th>\n      <th>E</th>\n      <th>G</th>\n    </tr>\n  </thead>\n  <tbody>\n    <tr>\n      <th>2023-01-01</th>\n      <td>-0.111874</td>\n      <td>0.877763</td>\n      <td>-3.284433</td>\n      <td>-1.159260</td>\n      <td>one</td>\n      <td>0</td>\n    </tr>\n    <tr>\n      <th>2023-01-02</th>\n      <td>0.841433</td>\n      <td>0.076219</td>\n      <td>0.461902</td>\n      <td>-1.311436</td>\n      <td>one</td>\n      <td>1</td>\n    </tr>\n    <tr>\n      <th>2023-01-03</th>\n      <td>0.502094</td>\n      <td>0.179865</td>\n      <td>-1.174281</td>\n      <td>-0.202441</td>\n      <td>two</td>\n      <td>2</td>\n    </tr>\n    <tr>\n      <th>2023-01-04</th>\n      <td>0.654074</td>\n      <td>0.330935</td>\n      <td>1.313095</td>\n      <td>0.602093</td>\n      <td>three</td>\n      <td>3</td>\n    </tr>\n    <tr>\n      <th>2023-01-05</th>\n      <td>0.126607</td>\n      <td>1.734405</td>\n      <td>-0.458116</td>\n      <td>-0.437503</td>\n      <td>four</td>\n      <td>4</td>\n    </tr>\n    <tr>\n      <th>2023-01-06</th>\n      <td>0.320465</td>\n      <td>-0.930536</td>\n      <td>-0.324344</td>\n      <td>1.634312</td>\n      <td>three</td>\n      <td>5</td>\n    </tr>\n  </tbody>\n</table>\n</div>"
     },
     "execution_count": 55,
     "metadata": {},
     "output_type": "execute_result"
    }
   ],
   "source": [
    "df['G'] = [i for i in range(6)]\n",
    "df"
   ],
   "metadata": {
    "collapsed": false
   }
  },
  {
   "cell_type": "code",
   "execution_count": 58,
   "outputs": [
    {
     "data": {
      "text/plain": "                   A         B         C         D      E  G  H\n2023-01-01 -0.111874  0.877763 -3.284433 -1.159260    one  0  1\n2023-01-02  0.841433  0.076219  0.461902 -1.311436    one  1  3\n2023-01-03  0.502094  0.179865 -1.174281 -0.202441    two  2  2\n2023-01-04  0.654074  0.330935  1.313095  0.602093  three  3  4\n2023-01-05  0.126607  1.734405 -0.458116 -0.437503   four  4  6\n2023-01-06  0.320465 -0.930536 -0.324344  1.634312  three  5  5",
      "text/html": "<div>\n<style scoped>\n    .dataframe tbody tr th:only-of-type {\n        vertical-align: middle;\n    }\n\n    .dataframe tbody tr th {\n        vertical-align: top;\n    }\n\n    .dataframe thead th {\n        text-align: right;\n    }\n</style>\n<table border=\"1\" class=\"dataframe\">\n  <thead>\n    <tr style=\"text-align: right;\">\n      <th></th>\n      <th>A</th>\n      <th>B</th>\n      <th>C</th>\n      <th>D</th>\n      <th>E</th>\n      <th>G</th>\n      <th>H</th>\n    </tr>\n  </thead>\n  <tbody>\n    <tr>\n      <th>2023-01-01</th>\n      <td>-0.111874</td>\n      <td>0.877763</td>\n      <td>-3.284433</td>\n      <td>-1.159260</td>\n      <td>one</td>\n      <td>0</td>\n      <td>1</td>\n    </tr>\n    <tr>\n      <th>2023-01-02</th>\n      <td>0.841433</td>\n      <td>0.076219</td>\n      <td>0.461902</td>\n      <td>-1.311436</td>\n      <td>one</td>\n      <td>1</td>\n      <td>3</td>\n    </tr>\n    <tr>\n      <th>2023-01-03</th>\n      <td>0.502094</td>\n      <td>0.179865</td>\n      <td>-1.174281</td>\n      <td>-0.202441</td>\n      <td>two</td>\n      <td>2</td>\n      <td>2</td>\n    </tr>\n    <tr>\n      <th>2023-01-04</th>\n      <td>0.654074</td>\n      <td>0.330935</td>\n      <td>1.313095</td>\n      <td>0.602093</td>\n      <td>three</td>\n      <td>3</td>\n      <td>4</td>\n    </tr>\n    <tr>\n      <th>2023-01-05</th>\n      <td>0.126607</td>\n      <td>1.734405</td>\n      <td>-0.458116</td>\n      <td>-0.437503</td>\n      <td>four</td>\n      <td>4</td>\n      <td>6</td>\n    </tr>\n    <tr>\n      <th>2023-01-06</th>\n      <td>0.320465</td>\n      <td>-0.930536</td>\n      <td>-0.324344</td>\n      <td>1.634312</td>\n      <td>three</td>\n      <td>5</td>\n      <td>5</td>\n    </tr>\n  </tbody>\n</table>\n</div>"
     },
     "execution_count": 58,
     "metadata": {},
     "output_type": "execute_result"
    }
   ],
   "source": [
    "s2\t=pd.Series([1,3,2,4,6,5],index=pd.date_range('20230101',\tperiods=6))\n",
    "df['H']=s2\n",
    "df"
   ],
   "metadata": {
    "collapsed": false
   }
  },
  {
   "cell_type": "code",
   "execution_count": 60,
   "outputs": [
    {
     "data": {
      "text/plain": "numpy.ndarray"
     },
     "execution_count": 60,
     "metadata": {},
     "output_type": "execute_result"
    }
   ],
   "source": [
    "type(np.array(5))"
   ],
   "metadata": {
    "collapsed": false
   }
  },
  {
   "cell_type": "code",
   "execution_count": 61,
   "outputs": [
    {
     "data": {
      "text/plain": "array(5)"
     },
     "execution_count": 61,
     "metadata": {},
     "output_type": "execute_result"
    }
   ],
   "source": [
    "np.array(5)"
   ],
   "metadata": {
    "collapsed": false
   }
  },
  {
   "cell_type": "code",
   "execution_count": 63,
   "outputs": [
    {
     "data": {
      "text/plain": "numpy.ndarray"
     },
     "execution_count": 63,
     "metadata": {},
     "output_type": "execute_result"
    }
   ],
   "source": [
    "type(np.array([5]))"
   ],
   "metadata": {
    "collapsed": false
   }
  },
  {
   "cell_type": "code",
   "execution_count": 64,
   "outputs": [
    {
     "data": {
      "text/plain": "                A      B      C      D      E      G      H\n2023-01-01  False  False  False  False  False  False  False\n2023-01-02  False  False  False  False  False  False  False\n2023-01-03  False  False  False  False  False  False  False\n2023-01-04  False  False  False  False  False  False  False\n2023-01-05  False  False  False  False  False  False  False\n2023-01-06  False  False  False  False  False  False  False",
      "text/html": "<div>\n<style scoped>\n    .dataframe tbody tr th:only-of-type {\n        vertical-align: middle;\n    }\n\n    .dataframe tbody tr th {\n        vertical-align: top;\n    }\n\n    .dataframe thead th {\n        text-align: right;\n    }\n</style>\n<table border=\"1\" class=\"dataframe\">\n  <thead>\n    <tr style=\"text-align: right;\">\n      <th></th>\n      <th>A</th>\n      <th>B</th>\n      <th>C</th>\n      <th>D</th>\n      <th>E</th>\n      <th>G</th>\n      <th>H</th>\n    </tr>\n  </thead>\n  <tbody>\n    <tr>\n      <th>2023-01-01</th>\n      <td>False</td>\n      <td>False</td>\n      <td>False</td>\n      <td>False</td>\n      <td>False</td>\n      <td>False</td>\n      <td>False</td>\n    </tr>\n    <tr>\n      <th>2023-01-02</th>\n      <td>False</td>\n      <td>False</td>\n      <td>False</td>\n      <td>False</td>\n      <td>False</td>\n      <td>False</td>\n      <td>False</td>\n    </tr>\n    <tr>\n      <th>2023-01-03</th>\n      <td>False</td>\n      <td>False</td>\n      <td>False</td>\n      <td>False</td>\n      <td>False</td>\n      <td>False</td>\n      <td>False</td>\n    </tr>\n    <tr>\n      <th>2023-01-04</th>\n      <td>False</td>\n      <td>False</td>\n      <td>False</td>\n      <td>False</td>\n      <td>False</td>\n      <td>False</td>\n      <td>False</td>\n    </tr>\n    <tr>\n      <th>2023-01-05</th>\n      <td>False</td>\n      <td>False</td>\n      <td>False</td>\n      <td>False</td>\n      <td>False</td>\n      <td>False</td>\n      <td>False</td>\n    </tr>\n    <tr>\n      <th>2023-01-06</th>\n      <td>False</td>\n      <td>False</td>\n      <td>False</td>\n      <td>False</td>\n      <td>False</td>\n      <td>False</td>\n      <td>False</td>\n    </tr>\n  </tbody>\n</table>\n</div>"
     },
     "execution_count": 64,
     "metadata": {},
     "output_type": "execute_result"
    }
   ],
   "source": [
    "df.isnull()"
   ],
   "metadata": {
    "collapsed": false
   }
  },
  {
   "cell_type": "code",
   "execution_count": 65,
   "outputs": [
    {
     "name": "stderr",
     "output_type": "stream",
     "text": [
      "C:\\Users\\fzh00\\AppData\\Local\\Temp\\ipykernel_28756\\3698961737.py:1: FutureWarning: The default value of numeric_only in DataFrame.mean is deprecated. In a future version, it will default to False. In addition, specifying 'numeric_only=None' is deprecated. Select only valid columns or specify the value of numeric_only to silence this warning.\n",
      "  df.mean()\n"
     ]
    },
    {
     "data": {
      "text/plain": "A    0.388800\nB    0.378109\nC   -0.577696\nD   -0.145706\nG    2.500000\nH    3.500000\ndtype: float64"
     },
     "execution_count": 65,
     "metadata": {},
     "output_type": "execute_result"
    }
   ],
   "source": [
    "df.mean()"
   ],
   "metadata": {
    "collapsed": false
   }
  },
  {
   "cell_type": "code",
   "execution_count": 66,
   "outputs": [
    {
     "name": "stderr",
     "output_type": "stream",
     "text": [
      "C:\\Users\\fzh00\\AppData\\Local\\Temp\\ipykernel_28756\\3808537418.py:1: FutureWarning: Dropping of nuisance columns in DataFrame reductions (with 'numeric_only=None') is deprecated; in a future version this will raise TypeError.  Select only valid columns before calling the reduction.\n",
      "  df.mean(1)\n"
     ]
    },
    {
     "data": {
      "text/plain": "2023-01-01   -0.446301\n2023-01-02    0.678020\n2023-01-03    0.550873\n2023-01-04    1.650033\n2023-01-05    1.827565\n2023-01-06    1.783316\nFreq: D, dtype: float64"
     },
     "execution_count": 66,
     "metadata": {},
     "output_type": "execute_result"
    }
   ],
   "source": [
    "df.mean(1)"
   ],
   "metadata": {
    "collapsed": false
   }
  },
  {
   "cell_type": "code",
   "execution_count": 69,
   "outputs": [
    {
     "data": {
      "text/plain": "0    0\n1    1\n2    2\n3    3\n4    4\n5    5\n6    6\n7    7\n8    8\n9    9\ndtype: int64"
     },
     "execution_count": 69,
     "metadata": {},
     "output_type": "execute_result"
    }
   ],
   "source": [
    "s3 = pd.Series([i for i in range(10)])\n",
    "s3"
   ],
   "metadata": {
    "collapsed": false
   }
  },
  {
   "cell_type": "code",
   "execution_count": 71,
   "outputs": [
    {
     "data": {
      "text/plain": "2023-01-01    NaN\n2023-01-02    1.0\n2023-01-03    3.0\n2023-01-04    5.0\n2023-01-05    NaN\n2023-01-06    6.0\nFreq: D, dtype: float64"
     },
     "execution_count": 71,
     "metadata": {},
     "output_type": "execute_result"
    }
   ],
   "source": [
    "s = pd.Series([1,3,5,np.nan,6,8],index=dates).shift(1)\n",
    "s"
   ],
   "metadata": {
    "collapsed": false
   }
  },
  {
   "cell_type": "code",
   "execution_count": 75,
   "outputs": [
    {
     "data": {
      "text/plain": "                   A         B         C         D\n2023-01-01       NaN       NaN       NaN       NaN\n2023-01-02 -0.158567 -0.923781 -0.538098 -2.311436\n2023-01-03 -2.497906 -2.820135 -4.174281 -3.202441\n2023-01-04 -4.345926 -4.669065 -3.686905 -4.397907\n2023-01-05       NaN       NaN       NaN       NaN\n2023-01-06 -5.679535 -6.930536 -6.324344 -4.365688",
      "text/html": "<div>\n<style scoped>\n    .dataframe tbody tr th:only-of-type {\n        vertical-align: middle;\n    }\n\n    .dataframe tbody tr th {\n        vertical-align: top;\n    }\n\n    .dataframe thead th {\n        text-align: right;\n    }\n</style>\n<table border=\"1\" class=\"dataframe\">\n  <thead>\n    <tr style=\"text-align: right;\">\n      <th></th>\n      <th>A</th>\n      <th>B</th>\n      <th>C</th>\n      <th>D</th>\n    </tr>\n  </thead>\n  <tbody>\n    <tr>\n      <th>2023-01-01</th>\n      <td>NaN</td>\n      <td>NaN</td>\n      <td>NaN</td>\n      <td>NaN</td>\n    </tr>\n    <tr>\n      <th>2023-01-02</th>\n      <td>-0.158567</td>\n      <td>-0.923781</td>\n      <td>-0.538098</td>\n      <td>-2.311436</td>\n    </tr>\n    <tr>\n      <th>2023-01-03</th>\n      <td>-2.497906</td>\n      <td>-2.820135</td>\n      <td>-4.174281</td>\n      <td>-3.202441</td>\n    </tr>\n    <tr>\n      <th>2023-01-04</th>\n      <td>-4.345926</td>\n      <td>-4.669065</td>\n      <td>-3.686905</td>\n      <td>-4.397907</td>\n    </tr>\n    <tr>\n      <th>2023-01-05</th>\n      <td>NaN</td>\n      <td>NaN</td>\n      <td>NaN</td>\n      <td>NaN</td>\n    </tr>\n    <tr>\n      <th>2023-01-06</th>\n      <td>-5.679535</td>\n      <td>-6.930536</td>\n      <td>-6.324344</td>\n      <td>-4.365688</td>\n    </tr>\n  </tbody>\n</table>\n</div>"
     },
     "execution_count": 75,
     "metadata": {},
     "output_type": "execute_result"
    }
   ],
   "source": [
    "df.iloc[:,:-3].sub(s,axis='index')"
   ],
   "metadata": {
    "collapsed": false
   }
  },
  {
   "cell_type": "code",
   "execution_count": 77,
   "outputs": [
    {
     "data": {
      "text/plain": "                   A         B         C         D                        E  \\\n2023-01-01 -0.111874  0.877763 -3.284433 -1.159260                      one   \n2023-01-02  0.729559  0.953983 -2.822532 -2.470697                   oneone   \n2023-01-03  1.231653  1.133848 -3.996813 -2.673138                oneonetwo   \n2023-01-04  1.885728  1.464782 -2.683718 -2.071044           oneonetwothree   \n2023-01-05  2.012334  3.199188 -3.141834 -2.508547       oneonetwothreefour   \n2023-01-06  2.332799  2.268652 -3.466178 -0.874235  oneonetwothreefourthree   \n\n             G   H  \n2023-01-01   0   1  \n2023-01-02   1   4  \n2023-01-03   3   6  \n2023-01-04   6  10  \n2023-01-05  10  16  \n2023-01-06  15  21  ",
      "text/html": "<div>\n<style scoped>\n    .dataframe tbody tr th:only-of-type {\n        vertical-align: middle;\n    }\n\n    .dataframe tbody tr th {\n        vertical-align: top;\n    }\n\n    .dataframe thead th {\n        text-align: right;\n    }\n</style>\n<table border=\"1\" class=\"dataframe\">\n  <thead>\n    <tr style=\"text-align: right;\">\n      <th></th>\n      <th>A</th>\n      <th>B</th>\n      <th>C</th>\n      <th>D</th>\n      <th>E</th>\n      <th>G</th>\n      <th>H</th>\n    </tr>\n  </thead>\n  <tbody>\n    <tr>\n      <th>2023-01-01</th>\n      <td>-0.111874</td>\n      <td>0.877763</td>\n      <td>-3.284433</td>\n      <td>-1.159260</td>\n      <td>one</td>\n      <td>0</td>\n      <td>1</td>\n    </tr>\n    <tr>\n      <th>2023-01-02</th>\n      <td>0.729559</td>\n      <td>0.953983</td>\n      <td>-2.822532</td>\n      <td>-2.470697</td>\n      <td>oneone</td>\n      <td>1</td>\n      <td>4</td>\n    </tr>\n    <tr>\n      <th>2023-01-03</th>\n      <td>1.231653</td>\n      <td>1.133848</td>\n      <td>-3.996813</td>\n      <td>-2.673138</td>\n      <td>oneonetwo</td>\n      <td>3</td>\n      <td>6</td>\n    </tr>\n    <tr>\n      <th>2023-01-04</th>\n      <td>1.885728</td>\n      <td>1.464782</td>\n      <td>-2.683718</td>\n      <td>-2.071044</td>\n      <td>oneonetwothree</td>\n      <td>6</td>\n      <td>10</td>\n    </tr>\n    <tr>\n      <th>2023-01-05</th>\n      <td>2.012334</td>\n      <td>3.199188</td>\n      <td>-3.141834</td>\n      <td>-2.508547</td>\n      <td>oneonetwothreefour</td>\n      <td>10</td>\n      <td>16</td>\n    </tr>\n    <tr>\n      <th>2023-01-06</th>\n      <td>2.332799</td>\n      <td>2.268652</td>\n      <td>-3.466178</td>\n      <td>-0.874235</td>\n      <td>oneonetwothreefourthree</td>\n      <td>15</td>\n      <td>21</td>\n    </tr>\n  </tbody>\n</table>\n</div>"
     },
     "execution_count": 77,
     "metadata": {},
     "output_type": "execute_result"
    }
   ],
   "source": [
    "df.apply(np.cumsum)"
   ],
   "metadata": {
    "collapsed": false
   }
  },
  {
   "cell_type": "code",
   "execution_count": 79,
   "outputs": [
    {
     "data": {
      "text/plain": "A    0.953307\nB    2.664941\nC    4.597528\nD    2.945749\ndtype: float64"
     },
     "execution_count": 79,
     "metadata": {},
     "output_type": "execute_result"
    }
   ],
   "source": [
    "df.iloc[:,:-3].apply(lambda x:x.max()-x.min())"
   ],
   "metadata": {
    "collapsed": false
   }
  },
  {
   "cell_type": "code",
   "execution_count": 81,
   "outputs": [
    {
     "data": {
      "text/plain": "          class           order  max_speed\nfalcon     bird   Falconiformes      389.0\nparrot     bird  Psittaciformes       24.0\nlion     mammal        Primates        NaN\nmonkey   mammal       Carnivora       80.2\nleopard  mammal       Carnivora       58.0",
      "text/html": "<div>\n<style scoped>\n    .dataframe tbody tr th:only-of-type {\n        vertical-align: middle;\n    }\n\n    .dataframe tbody tr th {\n        vertical-align: top;\n    }\n\n    .dataframe thead th {\n        text-align: right;\n    }\n</style>\n<table border=\"1\" class=\"dataframe\">\n  <thead>\n    <tr style=\"text-align: right;\">\n      <th></th>\n      <th>class</th>\n      <th>order</th>\n      <th>max_speed</th>\n    </tr>\n  </thead>\n  <tbody>\n    <tr>\n      <th>falcon</th>\n      <td>bird</td>\n      <td>Falconiformes</td>\n      <td>389.0</td>\n    </tr>\n    <tr>\n      <th>parrot</th>\n      <td>bird</td>\n      <td>Psittaciformes</td>\n      <td>24.0</td>\n    </tr>\n    <tr>\n      <th>lion</th>\n      <td>mammal</td>\n      <td>Primates</td>\n      <td>NaN</td>\n    </tr>\n    <tr>\n      <th>monkey</th>\n      <td>mammal</td>\n      <td>Carnivora</td>\n      <td>80.2</td>\n    </tr>\n    <tr>\n      <th>leopard</th>\n      <td>mammal</td>\n      <td>Carnivora</td>\n      <td>58.0</td>\n    </tr>\n  </tbody>\n</table>\n</div>"
     },
     "execution_count": 81,
     "metadata": {},
     "output_type": "execute_result"
    }
   ],
   "source": [
    "speeds = pd.DataFrame([\n",
    "         (\"bird\", \"Falconiformes\", 389.0),\n",
    "        (\"bird\", \"Psittaciformes\", 24.0),\n",
    "       (\"mammal\", \"Primates\", np.nan),\n",
    "        (\"mammal\", \"Carnivora\", 80.2),\n",
    "        (\"mammal\", \"Carnivora\", 58),\n",
    "    ],\n",
    "   index=[\"falcon\", \"parrot\", \"lion\", \"monkey\", \"leopard\"],\n",
    "    columns=(\"class\", \"order\", \"max_speed\"),\n",
    ")\n",
    "speeds"
   ],
   "metadata": {
    "collapsed": false
   }
  },
  {
   "cell_type": "code",
   "execution_count": 83,
   "outputs": [
    {
     "name": "stderr",
     "output_type": "stream",
     "text": [
      "C:\\Users\\fzh00\\AppData\\Local\\Temp\\ipykernel_28756\\2378020497.py:1: FutureWarning: The default value of numeric_only in DataFrameGroupBy.sum is deprecated. In a future version, numeric_only will default to False. Either specify numeric_only or select only columns which should be valid for the function.\n",
      "  speeds.groupby(('class')).sum()\n"
     ]
    },
    {
     "data": {
      "text/plain": "        max_speed\nclass            \nbird        413.0\nmammal      138.2",
      "text/html": "<div>\n<style scoped>\n    .dataframe tbody tr th:only-of-type {\n        vertical-align: middle;\n    }\n\n    .dataframe tbody tr th {\n        vertical-align: top;\n    }\n\n    .dataframe thead th {\n        text-align: right;\n    }\n</style>\n<table border=\"1\" class=\"dataframe\">\n  <thead>\n    <tr style=\"text-align: right;\">\n      <th></th>\n      <th>max_speed</th>\n    </tr>\n    <tr>\n      <th>class</th>\n      <th></th>\n    </tr>\n  </thead>\n  <tbody>\n    <tr>\n      <th>bird</th>\n      <td>413.0</td>\n    </tr>\n    <tr>\n      <th>mammal</th>\n      <td>138.2</td>\n    </tr>\n  </tbody>\n</table>\n</div>"
     },
     "execution_count": 83,
     "metadata": {},
     "output_type": "execute_result"
    }
   ],
   "source": [
    "speeds.groupby(('class')).sum()"
   ],
   "metadata": {
    "collapsed": false
   }
  },
  {
   "cell_type": "code",
   "execution_count": 84,
   "outputs": [
    {
     "data": {
      "text/plain": "        max_speed\nclass            \nbird        413.0\nmammal      138.2",
      "text/html": "<div>\n<style scoped>\n    .dataframe tbody tr th:only-of-type {\n        vertical-align: middle;\n    }\n\n    .dataframe tbody tr th {\n        vertical-align: top;\n    }\n\n    .dataframe thead th {\n        text-align: right;\n    }\n</style>\n<table border=\"1\" class=\"dataframe\">\n  <thead>\n    <tr style=\"text-align: right;\">\n      <th></th>\n      <th>max_speed</th>\n    </tr>\n    <tr>\n      <th>class</th>\n      <th></th>\n    </tr>\n  </thead>\n  <tbody>\n    <tr>\n      <th>bird</th>\n      <td>413.0</td>\n    </tr>\n    <tr>\n      <th>mammal</th>\n      <td>138.2</td>\n    </tr>\n  </tbody>\n</table>\n</div>"
     },
     "execution_count": 84,
     "metadata": {},
     "output_type": "execute_result"
    }
   ],
   "source": [
    "speeds.groupby(('class')).agg({'max_speed':sum})"
   ],
   "metadata": {
    "collapsed": false
   }
  },
  {
   "cell_type": "code",
   "execution_count": 90,
   "outputs": [
    {
     "data": {
      "text/plain": "   X  Y\n0  B  1\n1  B  2\n2  A  3\n3  A  4",
      "text/html": "<div>\n<style scoped>\n    .dataframe tbody tr th:only-of-type {\n        vertical-align: middle;\n    }\n\n    .dataframe tbody tr th {\n        vertical-align: top;\n    }\n\n    .dataframe thead th {\n        text-align: right;\n    }\n</style>\n<table border=\"1\" class=\"dataframe\">\n  <thead>\n    <tr style=\"text-align: right;\">\n      <th></th>\n      <th>X</th>\n      <th>Y</th>\n    </tr>\n  </thead>\n  <tbody>\n    <tr>\n      <th>0</th>\n      <td>B</td>\n      <td>1</td>\n    </tr>\n    <tr>\n      <th>1</th>\n      <td>B</td>\n      <td>2</td>\n    </tr>\n    <tr>\n      <th>2</th>\n      <td>A</td>\n      <td>3</td>\n    </tr>\n    <tr>\n      <th>3</th>\n      <td>A</td>\n      <td>4</td>\n    </tr>\n  </tbody>\n</table>\n</div>"
     },
     "execution_count": 90,
     "metadata": {},
     "output_type": "execute_result"
    }
   ],
   "source": [
    "df =pd.DataFrame({\"X\": [\"B\", \"B\", \"A\", \"A\"], \"Y\": [1, 2, 3, 4]})\n",
    "df"
   ],
   "metadata": {
    "collapsed": false
   }
  },
  {
   "cell_type": "code",
   "execution_count": 92,
   "outputs": [
    {
     "data": {
      "text/plain": "   Y\nX   \nB  3\nA  7",
      "text/html": "<div>\n<style scoped>\n    .dataframe tbody tr th:only-of-type {\n        vertical-align: middle;\n    }\n\n    .dataframe tbody tr th {\n        vertical-align: top;\n    }\n\n    .dataframe thead th {\n        text-align: right;\n    }\n</style>\n<table border=\"1\" class=\"dataframe\">\n  <thead>\n    <tr style=\"text-align: right;\">\n      <th></th>\n      <th>Y</th>\n    </tr>\n    <tr>\n      <th>X</th>\n      <th></th>\n    </tr>\n  </thead>\n  <tbody>\n    <tr>\n      <th>B</th>\n      <td>3</td>\n    </tr>\n    <tr>\n      <th>A</th>\n      <td>7</td>\n    </tr>\n  </tbody>\n</table>\n</div>"
     },
     "execution_count": 92,
     "metadata": {},
     "output_type": "execute_result"
    }
   ],
   "source": [
    "df.groupby('X',sort=False).sum()"
   ],
   "metadata": {
    "collapsed": false
   }
  },
  {
   "cell_type": "code",
   "execution_count": 94,
   "outputs": [
    {
     "data": {
      "text/plain": "   a    b  c\n0  1  2.0  3\n1  1  NaN  4\n2  2  1.0  3\n3  1  2.0  2",
      "text/html": "<div>\n<style scoped>\n    .dataframe tbody tr th:only-of-type {\n        vertical-align: middle;\n    }\n\n    .dataframe tbody tr th {\n        vertical-align: top;\n    }\n\n    .dataframe thead th {\n        text-align: right;\n    }\n</style>\n<table border=\"1\" class=\"dataframe\">\n  <thead>\n    <tr style=\"text-align: right;\">\n      <th></th>\n      <th>a</th>\n      <th>b</th>\n      <th>c</th>\n    </tr>\n  </thead>\n  <tbody>\n    <tr>\n      <th>0</th>\n      <td>1</td>\n      <td>2.0</td>\n      <td>3</td>\n    </tr>\n    <tr>\n      <th>1</th>\n      <td>1</td>\n      <td>NaN</td>\n      <td>4</td>\n    </tr>\n    <tr>\n      <th>2</th>\n      <td>2</td>\n      <td>1.0</td>\n      <td>3</td>\n    </tr>\n    <tr>\n      <th>3</th>\n      <td>1</td>\n      <td>2.0</td>\n      <td>2</td>\n    </tr>\n  </tbody>\n</table>\n</div>"
     },
     "execution_count": 94,
     "metadata": {},
     "output_type": "execute_result"
    }
   ],
   "source": [
    "df_list = [[1, 2, 3], [1, None, 4], [2, 1, 3], [1, 2, 2]]\n",
    "df=pd.DataFrame(df_list, columns=[\"a\", \"b\", \"c\"])\n",
    "df"
   ],
   "metadata": {
    "collapsed": false
   }
  },
  {
   "cell_type": "code",
   "execution_count": 95,
   "outputs": [
    {
     "data": {
      "text/plain": "     a  c\nb        \n1.0  2  3\n2.0  2  5",
      "text/html": "<div>\n<style scoped>\n    .dataframe tbody tr th:only-of-type {\n        vertical-align: middle;\n    }\n\n    .dataframe tbody tr th {\n        vertical-align: top;\n    }\n\n    .dataframe thead th {\n        text-align: right;\n    }\n</style>\n<table border=\"1\" class=\"dataframe\">\n  <thead>\n    <tr style=\"text-align: right;\">\n      <th></th>\n      <th>a</th>\n      <th>c</th>\n    </tr>\n    <tr>\n      <th>b</th>\n      <th></th>\n      <th></th>\n    </tr>\n  </thead>\n  <tbody>\n    <tr>\n      <th>1.0</th>\n      <td>2</td>\n      <td>3</td>\n    </tr>\n    <tr>\n      <th>2.0</th>\n      <td>2</td>\n      <td>5</td>\n    </tr>\n  </tbody>\n</table>\n</div>"
     },
     "execution_count": 95,
     "metadata": {},
     "output_type": "execute_result"
    }
   ],
   "source": [
    "df.groupby('b').sum()"
   ],
   "metadata": {
    "collapsed": false
   }
  },
  {
   "cell_type": "code",
   "execution_count": 96,
   "outputs": [
    {
     "data": {
      "text/plain": "     a  c\nb        \n1.0  2  3\n2.0  2  5\nNaN  1  4",
      "text/html": "<div>\n<style scoped>\n    .dataframe tbody tr th:only-of-type {\n        vertical-align: middle;\n    }\n\n    .dataframe tbody tr th {\n        vertical-align: top;\n    }\n\n    .dataframe thead th {\n        text-align: right;\n    }\n</style>\n<table border=\"1\" class=\"dataframe\">\n  <thead>\n    <tr style=\"text-align: right;\">\n      <th></th>\n      <th>a</th>\n      <th>c</th>\n    </tr>\n    <tr>\n      <th>b</th>\n      <th></th>\n      <th></th>\n    </tr>\n  </thead>\n  <tbody>\n    <tr>\n      <th>1.0</th>\n      <td>2</td>\n      <td>3</td>\n    </tr>\n    <tr>\n      <th>2.0</th>\n      <td>2</td>\n      <td>5</td>\n    </tr>\n    <tr>\n      <th>NaN</th>\n      <td>1</td>\n      <td>4</td>\n    </tr>\n  </tbody>\n</table>\n</div>"
     },
     "execution_count": 96,
     "metadata": {},
     "output_type": "execute_result"
    }
   ],
   "source": [
    "df.groupby('b',dropna=False).sum()"
   ],
   "metadata": {
    "collapsed": false
   }
  },
  {
   "cell_type": "code",
   "execution_count": 99,
   "outputs": [
    {
     "data": {
      "text/plain": "{1.0: [2], 2.0: [0, 3]}"
     },
     "execution_count": 99,
     "metadata": {},
     "output_type": "execute_result"
    }
   ],
   "source": [
    "df.groupby('b').groups"
   ],
   "metadata": {
    "collapsed": false
   }
  },
  {
   "cell_type": "code",
   "execution_count": 105,
   "outputs": [
    {
     "data": {
      "text/plain": "     A      B         C         D\n0  foo    one  0.732543  0.763835\n1  bar    one -1.305126 -0.411221\n2  foo    two -0.947297 -0.327187\n3  bar  three  0.063897  0.174010\n4  foo    two -1.229077  0.340292\n5  bar    two  2.569570 -0.560165\n6  foo    one  0.325505 -0.271825\n7  foo  three -0.787381 -0.214801",
      "text/html": "<div>\n<style scoped>\n    .dataframe tbody tr th:only-of-type {\n        vertical-align: middle;\n    }\n\n    .dataframe tbody tr th {\n        vertical-align: top;\n    }\n\n    .dataframe thead th {\n        text-align: right;\n    }\n</style>\n<table border=\"1\" class=\"dataframe\">\n  <thead>\n    <tr style=\"text-align: right;\">\n      <th></th>\n      <th>A</th>\n      <th>B</th>\n      <th>C</th>\n      <th>D</th>\n    </tr>\n  </thead>\n  <tbody>\n    <tr>\n      <th>0</th>\n      <td>foo</td>\n      <td>one</td>\n      <td>0.732543</td>\n      <td>0.763835</td>\n    </tr>\n    <tr>\n      <th>1</th>\n      <td>bar</td>\n      <td>one</td>\n      <td>-1.305126</td>\n      <td>-0.411221</td>\n    </tr>\n    <tr>\n      <th>2</th>\n      <td>foo</td>\n      <td>two</td>\n      <td>-0.947297</td>\n      <td>-0.327187</td>\n    </tr>\n    <tr>\n      <th>3</th>\n      <td>bar</td>\n      <td>three</td>\n      <td>0.063897</td>\n      <td>0.174010</td>\n    </tr>\n    <tr>\n      <th>4</th>\n      <td>foo</td>\n      <td>two</td>\n      <td>-1.229077</td>\n      <td>0.340292</td>\n    </tr>\n    <tr>\n      <th>5</th>\n      <td>bar</td>\n      <td>two</td>\n      <td>2.569570</td>\n      <td>-0.560165</td>\n    </tr>\n    <tr>\n      <th>6</th>\n      <td>foo</td>\n      <td>one</td>\n      <td>0.325505</td>\n      <td>-0.271825</td>\n    </tr>\n    <tr>\n      <th>7</th>\n      <td>foo</td>\n      <td>three</td>\n      <td>-0.787381</td>\n      <td>-0.214801</td>\n    </tr>\n  </tbody>\n</table>\n</div>"
     },
     "execution_count": 105,
     "metadata": {},
     "output_type": "execute_result"
    }
   ],
   "source": [
    "df = pd.DataFrame(\n",
    "    {\n",
    "        \"A\": [\"foo\", \"bar\", \"foo\", \"bar\", \"foo\", \"bar\", \"foo\", \"foo\"],\n",
    "        \"B\": [\"one\", \"one\", \"two\", \"three\", \"two\", \"two\", \"one\", \"three\"],\n",
    "        \"C\": np.random.randn(8),\n",
    "        \"D\": np.random.randn(8),\n",
    "    })\n",
    "df"
   ],
   "metadata": {
    "collapsed": false
   }
  },
  {
   "cell_type": "code",
   "execution_count": 106,
   "outputs": [
    {
     "ename": "NameError",
     "evalue": "name 'get_letter_type' is not defined",
     "output_type": "error",
     "traceback": [
      "\u001B[1;31m---------------------------------------------------------------------------\u001B[0m",
      "\u001B[1;31mNameError\u001B[0m                                 Traceback (most recent call last)",
      "Cell \u001B[1;32mIn[106], line 1\u001B[0m\n\u001B[1;32m----> 1\u001B[0m df\u001B[38;5;241m.\u001B[39mgroupby(\u001B[43mget_letter_type\u001B[49m, axis\u001B[38;5;241m=\u001B[39m\u001B[38;5;241m1\u001B[39m)\u001B[38;5;241m.\u001B[39mgroups\n",
      "\u001B[1;31mNameError\u001B[0m: name 'get_letter_type' is not defined"
     ]
    }
   ],
   "source": [
    "df.groupby(get_letter_type, axis=1).groups"
   ],
   "metadata": {
    "collapsed": false
   }
  },
  {
   "cell_type": "code",
   "execution_count": 154,
   "outputs": [
    {
     "data": {
      "text/plain": "DatetimeIndex(['2013-01-01', '2013-01-02', '2013-01-03', '2013-01-04',\n               '2013-01-05', '2013-01-06'],\n              dtype='datetime64[ns]', freq='D')"
     },
     "execution_count": 154,
     "metadata": {},
     "output_type": "execute_result"
    }
   ],
   "source": [
    "date1"
   ],
   "metadata": {
    "collapsed": false
   }
  },
  {
   "cell_type": "code",
   "execution_count": 108,
   "outputs": [
    {
     "data": {
      "text/plain": "{('bar', 'one'): [1], ('bar', 'three'): [3], ('bar', 'two'): [5], ('foo', 'one'): [0, 6], ('foo', 'three'): [7], ('foo', 'two'): [2, 4]}"
     },
     "execution_count": 108,
     "metadata": {},
     "output_type": "execute_result"
    }
   ],
   "source": [
    "df.groupby(['A','B']).groups"
   ],
   "metadata": {
    "collapsed": false
   }
  },
  {
   "cell_type": "code",
   "execution_count": 109,
   "outputs": [
    {
     "data": {
      "text/plain": "first  second\nbar    one       1.497944\n       two       0.249082\nbaz    one       0.875311\n       two      -1.301371\nfoo    one       1.790177\n       two      -0.654244\nqux    one       0.703235\n       two       0.953916\ndtype: float64"
     },
     "execution_count": 109,
     "metadata": {},
     "output_type": "execute_result"
    }
   ],
   "source": [
    "arrays = [\n",
    "    [\"bar\", \"bar\", \"baz\", \"baz\", \"foo\", \"foo\", \"qux\", \"qux\"],\n",
    "    [\"one\", \"two\", \"one\", \"two\", \"one\", \"two\", \"one\", \"two\"],\n",
    "]\n",
    "index = pd.MultiIndex.from_arrays(arrays, names=[\"first\", \"second\"])\n",
    "s = pd.Series(np.random.randn(8), index=index)\n",
    "s"
   ],
   "metadata": {
    "collapsed": false
   }
  },
  {
   "cell_type": "code",
   "execution_count": 111,
   "outputs": [
    {
     "data": {
      "text/plain": "first\nbar    1.747026\nbaz   -0.426060\nfoo    1.135933\nqux    1.657151\ndtype: float64"
     },
     "execution_count": 111,
     "metadata": {},
     "output_type": "execute_result"
    }
   ],
   "source": [
    "s.groupby(level=0).sum()"
   ],
   "metadata": {
    "collapsed": false
   }
  },
  {
   "cell_type": "code",
   "execution_count": 112,
   "outputs": [
    {
     "data": {
      "text/plain": "second\none    4.866667\ntwo   -0.752616\ndtype: float64"
     },
     "execution_count": 112,
     "metadata": {},
     "output_type": "execute_result"
    }
   ],
   "source": [
    "s.groupby(level=\"second\").sum()"
   ],
   "metadata": {
    "collapsed": false
   }
  },
  {
   "cell_type": "code",
   "execution_count": null,
   "outputs": [],
   "source": [
    "df.groupby([pd.Grouper(level=1), \"A\"]).sum()"
   ],
   "metadata": {
    "collapsed": false
   }
  },
  {
   "cell_type": "code",
   "execution_count": 113,
   "outputs": [],
   "source": [
    "def get_letter_type(letter):\n",
    "    if letter.lower() in 'aeiou':\n",
    "        return 'vowel'\n",
    "    else:\n",
    "        return 'consonant'\n"
   ],
   "metadata": {
    "collapsed": false
   }
  },
  {
   "cell_type": "code",
   "execution_count": 123,
   "outputs": [
    {
     "data": {
      "text/plain": "     A      B         C         D\n0  foo    one  0.732543  0.763835\n1  bar    one -1.305126 -0.411221\n2  foo    two -0.947297 -0.327187\n3  bar  three  0.063897  0.174010\n4  foo    two -1.229077  0.340292\n5  bar    two  2.569570 -0.560165\n6  foo    one  0.325505 -0.271825\n7  foo  three -0.787381 -0.214801",
      "text/html": "<div>\n<style scoped>\n    .dataframe tbody tr th:only-of-type {\n        vertical-align: middle;\n    }\n\n    .dataframe tbody tr th {\n        vertical-align: top;\n    }\n\n    .dataframe thead th {\n        text-align: right;\n    }\n</style>\n<table border=\"1\" class=\"dataframe\">\n  <thead>\n    <tr style=\"text-align: right;\">\n      <th></th>\n      <th>A</th>\n      <th>B</th>\n      <th>C</th>\n      <th>D</th>\n    </tr>\n  </thead>\n  <tbody>\n    <tr>\n      <th>0</th>\n      <td>foo</td>\n      <td>one</td>\n      <td>0.732543</td>\n      <td>0.763835</td>\n    </tr>\n    <tr>\n      <th>1</th>\n      <td>bar</td>\n      <td>one</td>\n      <td>-1.305126</td>\n      <td>-0.411221</td>\n    </tr>\n    <tr>\n      <th>2</th>\n      <td>foo</td>\n      <td>two</td>\n      <td>-0.947297</td>\n      <td>-0.327187</td>\n    </tr>\n    <tr>\n      <th>3</th>\n      <td>bar</td>\n      <td>three</td>\n      <td>0.063897</td>\n      <td>0.174010</td>\n    </tr>\n    <tr>\n      <th>4</th>\n      <td>foo</td>\n      <td>two</td>\n      <td>-1.229077</td>\n      <td>0.340292</td>\n    </tr>\n    <tr>\n      <th>5</th>\n      <td>bar</td>\n      <td>two</td>\n      <td>2.569570</td>\n      <td>-0.560165</td>\n    </tr>\n    <tr>\n      <th>6</th>\n      <td>foo</td>\n      <td>one</td>\n      <td>0.325505</td>\n      <td>-0.271825</td>\n    </tr>\n    <tr>\n      <th>7</th>\n      <td>foo</td>\n      <td>three</td>\n      <td>-0.787381</td>\n      <td>-0.214801</td>\n    </tr>\n  </tbody>\n</table>\n</div>"
     },
     "execution_count": 123,
     "metadata": {},
     "output_type": "execute_result"
    }
   ],
   "source": [
    "df"
   ],
   "metadata": {
    "collapsed": false
   }
  },
  {
   "cell_type": "code",
   "execution_count": 119,
   "outputs": [
    {
     "data": {
      "text/plain": "{'consonant': ['B', 'C', 'D'], 'vowel': ['A']}"
     },
     "execution_count": 119,
     "metadata": {},
     "output_type": "execute_result"
    },
    {
     "name": "stderr",
     "output_type": "stream",
     "text": [
      "C:\\Users\\fzh00\\AppData\\Local\\Temp\\ipykernel_28756\\2833651387.py:2: FutureWarning: The default value of numeric_only in DataFrameGroupBy.sum is deprecated. In a future version, numeric_only will default to False. Either specify numeric_only or select only columns which should be valid for the function.\n",
      "  df.groupby(get_letter_type,axis=1).sum()\n"
     ]
    },
    {
     "data": {
      "text/plain": "Empty DataFrame\nColumns: [consonant, vowel]\nIndex: []",
      "text/html": "<div>\n<style scoped>\n    .dataframe tbody tr th:only-of-type {\n        vertical-align: middle;\n    }\n\n    .dataframe tbody tr th {\n        vertical-align: top;\n    }\n\n    .dataframe thead th {\n        text-align: right;\n    }\n</style>\n<table border=\"1\" class=\"dataframe\">\n  <thead>\n    <tr style=\"text-align: right;\">\n      <th></th>\n      <th>consonant</th>\n      <th>vowel</th>\n    </tr>\n  </thead>\n  <tbody>\n  </tbody>\n</table>\n</div>"
     },
     "execution_count": 119,
     "metadata": {},
     "output_type": "execute_result"
    }
   ],
   "source": [
    "df.groupby(get_letter_type,axis=1).groups\n",
    "df.groupby(get_letter_type,axis=1).sum()"
   ],
   "metadata": {
    "collapsed": false
   }
  },
  {
   "cell_type": "code",
   "execution_count": 125,
   "outputs": [
    {
     "data": {
      "text/plain": "<pandas.core.groupby.generic.DataFrameGroupBy object at 0x000001E65AAF97E0>"
     },
     "execution_count": 125,
     "metadata": {},
     "output_type": "execute_result"
    }
   ],
   "source": [
    "grouped = df.groupby([\"A\"])\n",
    "grouped"
   ],
   "metadata": {
    "collapsed": false
   }
  },
  {
   "cell_type": "code",
   "execution_count": 126,
   "outputs": [
    {
     "data": {
      "text/plain": "{'bar': [1, 3, 5], 'foo': [0, 2, 4, 6, 7]}"
     },
     "execution_count": 126,
     "metadata": {},
     "output_type": "execute_result"
    }
   ],
   "source": [
    "grouped.groups"
   ],
   "metadata": {
    "collapsed": false
   }
  },
  {
   "cell_type": "code",
   "execution_count": 129,
   "outputs": [
    {
     "data": {
      "text/plain": "A\nbar    1.328341\nfoo   -1.905708\nName: C, dtype: float64"
     },
     "execution_count": 129,
     "metadata": {},
     "output_type": "execute_result"
    }
   ],
   "source": [
    "grouped['C'].sum()"
   ],
   "metadata": {
    "collapsed": false
   }
  },
  {
   "cell_type": "code",
   "execution_count": 130,
   "outputs": [
    {
     "name": "stdout",
     "output_type": "stream",
     "text": [
      "bar      A      B         C         D\n",
      "1  bar    one -1.305126 -0.411221\n",
      "3  bar  three  0.063897  0.174010\n",
      "5  bar    two  2.569570 -0.560165\n",
      "foo      A      B         C         D\n",
      "0  foo    one  0.732543  0.763835\n",
      "2  foo    two -0.947297 -0.327187\n",
      "4  foo    two -1.229077  0.340292\n",
      "6  foo    one  0.325505 -0.271825\n",
      "7  foo  three -0.787381 -0.214801\n"
     ]
    },
    {
     "name": "stderr",
     "output_type": "stream",
     "text": [
      "C:\\Users\\fzh00\\AppData\\Local\\Temp\\ipykernel_28756\\2411745281.py:1: FutureWarning: In a future version of pandas, a length 1 tuple will be returned when iterating over a groupby with a grouper equal to a list of length 1. Don't supply a list with a single grouper to avoid this warning.\n",
      "  for name,group in grouped:\n"
     ]
    }
   ],
   "source": [
    "for name,group in grouped:\n",
    "       print(name,group)"
   ],
   "metadata": {
    "collapsed": false
   }
  },
  {
   "cell_type": "code",
   "execution_count": 131,
   "outputs": [
    {
     "data": {
      "text/plain": "     A      B         C         D\n1  bar    one -1.305126 -0.411221\n3  bar  three  0.063897  0.174010\n5  bar    two  2.569570 -0.560165",
      "text/html": "<div>\n<style scoped>\n    .dataframe tbody tr th:only-of-type {\n        vertical-align: middle;\n    }\n\n    .dataframe tbody tr th {\n        vertical-align: top;\n    }\n\n    .dataframe thead th {\n        text-align: right;\n    }\n</style>\n<table border=\"1\" class=\"dataframe\">\n  <thead>\n    <tr style=\"text-align: right;\">\n      <th></th>\n      <th>A</th>\n      <th>B</th>\n      <th>C</th>\n      <th>D</th>\n    </tr>\n  </thead>\n  <tbody>\n    <tr>\n      <th>1</th>\n      <td>bar</td>\n      <td>one</td>\n      <td>-1.305126</td>\n      <td>-0.411221</td>\n    </tr>\n    <tr>\n      <th>3</th>\n      <td>bar</td>\n      <td>three</td>\n      <td>0.063897</td>\n      <td>0.174010</td>\n    </tr>\n    <tr>\n      <th>5</th>\n      <td>bar</td>\n      <td>two</td>\n      <td>2.569570</td>\n      <td>-0.560165</td>\n    </tr>\n  </tbody>\n</table>\n</div>"
     },
     "execution_count": 131,
     "metadata": {},
     "output_type": "execute_result"
    }
   ],
   "source": [
    "grouped.get_group('bar')"
   ],
   "metadata": {
    "collapsed": false
   }
  },
  {
   "cell_type": "code",
   "execution_count": 132,
   "outputs": [
    {
     "data": {
      "text/plain": "  kind  height  weight\n0  cat     9.1     7.9\n1  dog     6.0     7.5\n2  cat     9.5     9.9\n3  dog    34.0   198.0",
      "text/html": "<div>\n<style scoped>\n    .dataframe tbody tr th:only-of-type {\n        vertical-align: middle;\n    }\n\n    .dataframe tbody tr th {\n        vertical-align: top;\n    }\n\n    .dataframe thead th {\n        text-align: right;\n    }\n</style>\n<table border=\"1\" class=\"dataframe\">\n  <thead>\n    <tr style=\"text-align: right;\">\n      <th></th>\n      <th>kind</th>\n      <th>height</th>\n      <th>weight</th>\n    </tr>\n  </thead>\n  <tbody>\n    <tr>\n      <th>0</th>\n      <td>cat</td>\n      <td>9.1</td>\n      <td>7.9</td>\n    </tr>\n    <tr>\n      <th>1</th>\n      <td>dog</td>\n      <td>6.0</td>\n      <td>7.5</td>\n    </tr>\n    <tr>\n      <th>2</th>\n      <td>cat</td>\n      <td>9.5</td>\n      <td>9.9</td>\n    </tr>\n    <tr>\n      <th>3</th>\n      <td>dog</td>\n      <td>34.0</td>\n      <td>198.0</td>\n    </tr>\n  </tbody>\n</table>\n</div>"
     },
     "execution_count": 132,
     "metadata": {},
     "output_type": "execute_result"
    }
   ],
   "source": [
    "animals = pd.DataFrame(\n",
    "    {\n",
    "        \"kind\": [\"cat\", \"dog\", \"cat\", \"dog\"],\n",
    "        \"height\": [9.1, 6.0, 9.5, 34.0],\n",
    "        \"weight\": [7.9, 7.5, 9.9, 198.0],\n",
    "    }\n",
    ")\n",
    "animals"
   ],
   "metadata": {
    "collapsed": false
   }
  },
  {
   "cell_type": "code",
   "execution_count": 134,
   "outputs": [
    {
     "data": {
      "text/plain": "      height  weight\nkind                \ncat     18.6    17.8\ndog     40.0   205.5",
      "text/html": "<div>\n<style scoped>\n    .dataframe tbody tr th:only-of-type {\n        vertical-align: middle;\n    }\n\n    .dataframe tbody tr th {\n        vertical-align: top;\n    }\n\n    .dataframe thead th {\n        text-align: right;\n    }\n</style>\n<table border=\"1\" class=\"dataframe\">\n  <thead>\n    <tr style=\"text-align: right;\">\n      <th></th>\n      <th>height</th>\n      <th>weight</th>\n    </tr>\n    <tr>\n      <th>kind</th>\n      <th></th>\n      <th></th>\n    </tr>\n  </thead>\n  <tbody>\n    <tr>\n      <th>cat</th>\n      <td>18.6</td>\n      <td>17.8</td>\n    </tr>\n    <tr>\n      <th>dog</th>\n      <td>40.0</td>\n      <td>205.5</td>\n    </tr>\n  </tbody>\n</table>\n</div>"
     },
     "execution_count": 134,
     "metadata": {},
     "output_type": "execute_result"
    },
    {
     "data": {
      "text/plain": "  kind  height  weight\n0  cat    18.6    17.8\n1  dog    40.0   205.5",
      "text/html": "<div>\n<style scoped>\n    .dataframe tbody tr th:only-of-type {\n        vertical-align: middle;\n    }\n\n    .dataframe tbody tr th {\n        vertical-align: top;\n    }\n\n    .dataframe thead th {\n        text-align: right;\n    }\n</style>\n<table border=\"1\" class=\"dataframe\">\n  <thead>\n    <tr style=\"text-align: right;\">\n      <th></th>\n      <th>kind</th>\n      <th>height</th>\n      <th>weight</th>\n    </tr>\n  </thead>\n  <tbody>\n    <tr>\n      <th>0</th>\n      <td>cat</td>\n      <td>18.6</td>\n      <td>17.8</td>\n    </tr>\n    <tr>\n      <th>1</th>\n      <td>dog</td>\n      <td>40.0</td>\n      <td>205.5</td>\n    </tr>\n  </tbody>\n</table>\n</div>"
     },
     "execution_count": 134,
     "metadata": {},
     "output_type": "execute_result"
    }
   ],
   "source": [
    "animals.groupby('kind').sum()\n",
    "animals.groupby(\"kind\", as_index=False).sum()"
   ],
   "metadata": {
    "collapsed": false
   }
  },
  {
   "cell_type": "code",
   "execution_count": 135,
   "outputs": [
    {
     "data": {
      "text/plain": "            C         D\nA                      \nbar  2.569570  0.174010\nfoo  0.732543  0.763835",
      "text/html": "<div>\n<style scoped>\n    .dataframe tbody tr th:only-of-type {\n        vertical-align: middle;\n    }\n\n    .dataframe tbody tr th {\n        vertical-align: top;\n    }\n\n    .dataframe thead th {\n        text-align: right;\n    }\n</style>\n<table border=\"1\" class=\"dataframe\">\n  <thead>\n    <tr style=\"text-align: right;\">\n      <th></th>\n      <th>C</th>\n      <th>D</th>\n    </tr>\n    <tr>\n      <th>A</th>\n      <th></th>\n      <th></th>\n    </tr>\n  </thead>\n  <tbody>\n    <tr>\n      <th>bar</th>\n      <td>2.569570</td>\n      <td>0.174010</td>\n    </tr>\n    <tr>\n      <th>foo</th>\n      <td>0.732543</td>\n      <td>0.763835</td>\n    </tr>\n  </tbody>\n</table>\n</div>"
     },
     "execution_count": 135,
     "metadata": {},
     "output_type": "execute_result"
    }
   ],
   "source": [
    "df.groupby(\"A\")[[\"C\", \"D\"]].max()"
   ],
   "metadata": {
    "collapsed": false
   }
  },
  {
   "cell_type": "code",
   "execution_count": 137,
   "outputs": [
    {
     "data": {
      "text/plain": "            C         D\nA                      \nbar  1.328341 -0.797375\nfoo -1.905708  0.290314",
      "text/html": "<div>\n<style scoped>\n    .dataframe tbody tr th:only-of-type {\n        vertical-align: middle;\n    }\n\n    .dataframe tbody tr th {\n        vertical-align: top;\n    }\n\n    .dataframe thead th {\n        text-align: right;\n    }\n</style>\n<table border=\"1\" class=\"dataframe\">\n  <thead>\n    <tr style=\"text-align: right;\">\n      <th></th>\n      <th>C</th>\n      <th>D</th>\n    </tr>\n    <tr>\n      <th>A</th>\n      <th></th>\n      <th></th>\n    </tr>\n  </thead>\n  <tbody>\n    <tr>\n      <th>bar</th>\n      <td>1.328341</td>\n      <td>-0.797375</td>\n    </tr>\n    <tr>\n      <th>foo</th>\n      <td>-1.905708</td>\n      <td>0.290314</td>\n    </tr>\n  </tbody>\n</table>\n</div>"
     },
     "execution_count": 137,
     "metadata": {},
     "output_type": "execute_result"
    }
   ],
   "source": [
    "grouped[[\"C\", \"D\"]].aggregate(\"sum\")"
   ],
   "metadata": {
    "collapsed": false
   }
  },
  {
   "cell_type": "code",
   "execution_count": 138,
   "outputs": [
    {
     "name": "stderr",
     "output_type": "stream",
     "text": [
      "C:\\Users\\fzh00\\AppData\\Local\\Temp\\ipykernel_28756\\3450300443.py:1: FutureWarning: The default value of numeric_only in DataFrameGroupBy.sum is deprecated. In a future version, numeric_only will default to False. Either specify numeric_only or select only columns which should be valid for the function.\n",
      "  grouped.agg(\"sum\")\n"
     ]
    },
    {
     "data": {
      "text/plain": "            C         D\nA                      \nbar  1.328341 -0.797375\nfoo -1.905708  0.290314",
      "text/html": "<div>\n<style scoped>\n    .dataframe tbody tr th:only-of-type {\n        vertical-align: middle;\n    }\n\n    .dataframe tbody tr th {\n        vertical-align: top;\n    }\n\n    .dataframe thead th {\n        text-align: right;\n    }\n</style>\n<table border=\"1\" class=\"dataframe\">\n  <thead>\n    <tr style=\"text-align: right;\">\n      <th></th>\n      <th>C</th>\n      <th>D</th>\n    </tr>\n    <tr>\n      <th>A</th>\n      <th></th>\n      <th></th>\n    </tr>\n  </thead>\n  <tbody>\n    <tr>\n      <th>bar</th>\n      <td>1.328341</td>\n      <td>-0.797375</td>\n    </tr>\n    <tr>\n      <th>foo</th>\n      <td>-1.905708</td>\n      <td>0.290314</td>\n    </tr>\n  </tbody>\n</table>\n</div>"
     },
     "execution_count": 138,
     "metadata": {},
     "output_type": "execute_result"
    }
   ],
   "source": [
    "grouped.agg(\"sum\")"
   ],
   "metadata": {
    "collapsed": false
   }
  },
  {
   "cell_type": "code",
   "execution_count": 139,
   "outputs": [
    {
     "data": {
      "text/plain": "          sum      mean       std\nA                                \nbar  1.328341  0.442780  1.964938\nfoo -1.905708 -0.381142  0.857933",
      "text/html": "<div>\n<style scoped>\n    .dataframe tbody tr th:only-of-type {\n        vertical-align: middle;\n    }\n\n    .dataframe tbody tr th {\n        vertical-align: top;\n    }\n\n    .dataframe thead th {\n        text-align: right;\n    }\n</style>\n<table border=\"1\" class=\"dataframe\">\n  <thead>\n    <tr style=\"text-align: right;\">\n      <th></th>\n      <th>sum</th>\n      <th>mean</th>\n      <th>std</th>\n    </tr>\n    <tr>\n      <th>A</th>\n      <th></th>\n      <th></th>\n      <th></th>\n    </tr>\n  </thead>\n  <tbody>\n    <tr>\n      <th>bar</th>\n      <td>1.328341</td>\n      <td>0.442780</td>\n      <td>1.964938</td>\n    </tr>\n    <tr>\n      <th>foo</th>\n      <td>-1.905708</td>\n      <td>-0.381142</td>\n      <td>0.857933</td>\n    </tr>\n  </tbody>\n</table>\n</div>"
     },
     "execution_count": 139,
     "metadata": {},
     "output_type": "execute_result"
    }
   ],
   "source": [
    "df.groupby(\"A\")[\"C\"].agg([\"sum\", \"mean\", \"std\"])"
   ],
   "metadata": {
    "collapsed": false
   }
  },
  {
   "cell_type": "code",
   "execution_count": 140,
   "outputs": [
    {
     "data": {
      "text/plain": "      min_height  max_height  average_weight\nkind                                        \ncat          9.1         9.5            8.90\ndog          6.0        34.0          102.75",
      "text/html": "<div>\n<style scoped>\n    .dataframe tbody tr th:only-of-type {\n        vertical-align: middle;\n    }\n\n    .dataframe tbody tr th {\n        vertical-align: top;\n    }\n\n    .dataframe thead th {\n        text-align: right;\n    }\n</style>\n<table border=\"1\" class=\"dataframe\">\n  <thead>\n    <tr style=\"text-align: right;\">\n      <th></th>\n      <th>min_height</th>\n      <th>max_height</th>\n      <th>average_weight</th>\n    </tr>\n    <tr>\n      <th>kind</th>\n      <th></th>\n      <th></th>\n      <th></th>\n    </tr>\n  </thead>\n  <tbody>\n    <tr>\n      <th>cat</th>\n      <td>9.1</td>\n      <td>9.5</td>\n      <td>8.90</td>\n    </tr>\n    <tr>\n      <th>dog</th>\n      <td>6.0</td>\n      <td>34.0</td>\n      <td>102.75</td>\n    </tr>\n  </tbody>\n</table>\n</div>"
     },
     "execution_count": 140,
     "metadata": {},
     "output_type": "execute_result"
    }
   ],
   "source": [
    "animals.groupby(\"kind\").agg(\n",
    "    min_height=pd.NamedAgg(column=\"height\", aggfunc=\"min\"),\n",
    "    max_height=pd.NamedAgg(column=\"height\", aggfunc=\"max\"),\n",
    "    average_weight=pd.NamedAgg(column=\"weight\", aggfunc=\"mean\"),\n",
    ")"
   ],
   "metadata": {
    "collapsed": false
   }
  },
  {
   "cell_type": "code",
   "execution_count": null,
   "outputs": [],
   "source": [
    "animals.groupby(\"kind\").agg(\n",
    "    min_height=(\"height\", \"min\"),\n",
    "    max_height=(\"height\", \"max\"),\n",
    "    average_weight=(\"weight\", \"mean\"),\n",
    ")"
   ],
   "metadata": {
    "collapsed": false,
    "pycharm": {
     "is_executing": true
    }
   }
  },
  {
   "cell_type": "code",
   "execution_count": 145,
   "outputs": [
    {
     "data": {
      "text/plain": "          class           order  max_speed\nfalcon     bird   Falconiformes      389.0\nparrot     bird  Psittaciformes       24.0\nlion     mammal        Primates        NaN\nmonkey   mammal       Carnivora       80.2\nleopard  mammal       Carnivora       58.0",
      "text/html": "<div>\n<style scoped>\n    .dataframe tbody tr th:only-of-type {\n        vertical-align: middle;\n    }\n\n    .dataframe tbody tr th {\n        vertical-align: top;\n    }\n\n    .dataframe thead th {\n        text-align: right;\n    }\n</style>\n<table border=\"1\" class=\"dataframe\">\n  <thead>\n    <tr style=\"text-align: right;\">\n      <th></th>\n      <th>class</th>\n      <th>order</th>\n      <th>max_speed</th>\n    </tr>\n  </thead>\n  <tbody>\n    <tr>\n      <th>falcon</th>\n      <td>bird</td>\n      <td>Falconiformes</td>\n      <td>389.0</td>\n    </tr>\n    <tr>\n      <th>parrot</th>\n      <td>bird</td>\n      <td>Psittaciformes</td>\n      <td>24.0</td>\n    </tr>\n    <tr>\n      <th>lion</th>\n      <td>mammal</td>\n      <td>Primates</td>\n      <td>NaN</td>\n    </tr>\n    <tr>\n      <th>monkey</th>\n      <td>mammal</td>\n      <td>Carnivora</td>\n      <td>80.2</td>\n    </tr>\n    <tr>\n      <th>leopard</th>\n      <td>mammal</td>\n      <td>Carnivora</td>\n      <td>58.0</td>\n    </tr>\n  </tbody>\n</table>\n</div>"
     },
     "execution_count": 145,
     "metadata": {},
     "output_type": "execute_result"
    }
   ],
   "source": [
    "speeds\n",
    "grouped = speeds.groupby(\"class\")[\"max_speed\"]"
   ],
   "metadata": {
    "collapsed": false
   }
  },
  {
   "cell_type": "code",
   "execution_count": 146,
   "outputs": [
    {
     "data": {
      "text/plain": "          class           order  max_speed  cumsum   diff\nfalcon     bird   Falconiformes      389.0   389.0    NaN\nparrot     bird  Psittaciformes       24.0   413.0 -365.0\nlion     mammal        Primates        NaN     NaN    NaN\nmonkey   mammal       Carnivora       80.2    80.2    NaN\nleopard  mammal       Carnivora       58.0   138.2  -22.2",
      "text/html": "<div>\n<style scoped>\n    .dataframe tbody tr th:only-of-type {\n        vertical-align: middle;\n    }\n\n    .dataframe tbody tr th {\n        vertical-align: top;\n    }\n\n    .dataframe thead th {\n        text-align: right;\n    }\n</style>\n<table border=\"1\" class=\"dataframe\">\n  <thead>\n    <tr style=\"text-align: right;\">\n      <th></th>\n      <th>class</th>\n      <th>order</th>\n      <th>max_speed</th>\n      <th>cumsum</th>\n      <th>diff</th>\n    </tr>\n  </thead>\n  <tbody>\n    <tr>\n      <th>falcon</th>\n      <td>bird</td>\n      <td>Falconiformes</td>\n      <td>389.0</td>\n      <td>389.0</td>\n      <td>NaN</td>\n    </tr>\n    <tr>\n      <th>parrot</th>\n      <td>bird</td>\n      <td>Psittaciformes</td>\n      <td>24.0</td>\n      <td>413.0</td>\n      <td>-365.0</td>\n    </tr>\n    <tr>\n      <th>lion</th>\n      <td>mammal</td>\n      <td>Primates</td>\n      <td>NaN</td>\n      <td>NaN</td>\n      <td>NaN</td>\n    </tr>\n    <tr>\n      <th>monkey</th>\n      <td>mammal</td>\n      <td>Carnivora</td>\n      <td>80.2</td>\n      <td>80.2</td>\n      <td>NaN</td>\n    </tr>\n    <tr>\n      <th>leopard</th>\n      <td>mammal</td>\n      <td>Carnivora</td>\n      <td>58.0</td>\n      <td>138.2</td>\n      <td>-22.2</td>\n    </tr>\n  </tbody>\n</table>\n</div>"
     },
     "execution_count": 146,
     "metadata": {},
     "output_type": "execute_result"
    }
   ],
   "source": [
    "result = speeds.copy()\n",
    "result[\"cumsum\"] = grouped.cumsum()\n",
    "result[\"diff\"] = grouped.diff()\n",
    "result"
   ],
   "metadata": {
    "collapsed": false
   }
  },
  {
   "cell_type": "code",
   "execution_count": 147,
   "outputs": [
    {
     "data": {
      "text/plain": "         max_speed\nfalcon       389.0\nparrot       413.0\nlion           NaN\nmonkey        80.2\nleopard      138.2",
      "text/html": "<div>\n<style scoped>\n    .dataframe tbody tr th:only-of-type {\n        vertical-align: middle;\n    }\n\n    .dataframe tbody tr th {\n        vertical-align: top;\n    }\n\n    .dataframe thead th {\n        text-align: right;\n    }\n</style>\n<table border=\"1\" class=\"dataframe\">\n  <thead>\n    <tr style=\"text-align: right;\">\n      <th></th>\n      <th>max_speed</th>\n    </tr>\n  </thead>\n  <tbody>\n    <tr>\n      <th>falcon</th>\n      <td>389.0</td>\n    </tr>\n    <tr>\n      <th>parrot</th>\n      <td>413.0</td>\n    </tr>\n    <tr>\n      <th>lion</th>\n      <td>NaN</td>\n    </tr>\n    <tr>\n      <th>monkey</th>\n      <td>80.2</td>\n    </tr>\n    <tr>\n      <th>leopard</th>\n      <td>138.2</td>\n    </tr>\n  </tbody>\n</table>\n</div>"
     },
     "execution_count": 147,
     "metadata": {},
     "output_type": "execute_result"
    }
   ],
   "source": [
    "grouped = speeds.groupby(\"class\")[[\"max_speed\"]]\n",
    "grouped.transform(\"cumsum\")"
   ],
   "metadata": {
    "collapsed": false
   }
  },
  {
   "cell_type": "code",
   "execution_count": 148,
   "outputs": [
    {
     "data": {
      "text/plain": "         max_speed\nfalcon       413.0\nparrot       413.0\nlion         138.2\nmonkey       138.2\nleopard      138.2",
      "text/html": "<div>\n<style scoped>\n    .dataframe tbody tr th:only-of-type {\n        vertical-align: middle;\n    }\n\n    .dataframe tbody tr th {\n        vertical-align: top;\n    }\n\n    .dataframe thead th {\n        text-align: right;\n    }\n</style>\n<table border=\"1\" class=\"dataframe\">\n  <thead>\n    <tr style=\"text-align: right;\">\n      <th></th>\n      <th>max_speed</th>\n    </tr>\n  </thead>\n  <tbody>\n    <tr>\n      <th>falcon</th>\n      <td>413.0</td>\n    </tr>\n    <tr>\n      <th>parrot</th>\n      <td>413.0</td>\n    </tr>\n    <tr>\n      <th>lion</th>\n      <td>138.2</td>\n    </tr>\n    <tr>\n      <th>monkey</th>\n      <td>138.2</td>\n    </tr>\n    <tr>\n      <th>leopard</th>\n      <td>138.2</td>\n    </tr>\n  </tbody>\n</table>\n</div>"
     },
     "execution_count": 148,
     "metadata": {},
     "output_type": "execute_result"
    }
   ],
   "source": [
    "grouped.transform(\"sum\")"
   ],
   "metadata": {
    "collapsed": false
   }
  },
  {
   "cell_type": "code",
   "execution_count": 149,
   "outputs": [
    {
     "data": {
      "text/plain": "2000-01-08    0.664578\n2000-01-09    0.647065\n2000-01-10    0.550686\n2000-01-11    0.572655\n2000-01-12    0.533534\nFreq: D, dtype: float64"
     },
     "execution_count": 149,
     "metadata": {},
     "output_type": "execute_result"
    }
   ],
   "source": [
    "index = pd.date_range(\"10/1/1999\", periods=1100)\n",
    "ts = pd.Series(np.random.normal(0.5, 2, 1100), index)\n",
    "ts = ts.rolling(window=100, min_periods=100).mean().dropna()\n",
    "ts.head()"
   ],
   "metadata": {
    "collapsed": false
   }
  },
  {
   "cell_type": "code",
   "execution_count": 150,
   "outputs": [
    {
     "data": {
      "text/plain": "(1001,)"
     },
     "execution_count": 150,
     "metadata": {},
     "output_type": "execute_result"
    }
   ],
   "source": [
    "ts.shape"
   ],
   "metadata": {
    "collapsed": false
   }
  },
  {
   "cell_type": "code",
   "execution_count": 151,
   "outputs": [
    {
     "data": {
      "text/plain": "DatetimeIndex(['1999-10-01', '1999-10-02', '1999-10-03', '1999-10-04',\n               '1999-10-05', '1999-10-06', '1999-10-07', '1999-10-08',\n               '1999-10-09', '1999-10-10',\n               ...\n               '2002-09-25', '2002-09-26', '2002-09-27', '2002-09-28',\n               '2002-09-29', '2002-09-30', '2002-10-01', '2002-10-02',\n               '2002-10-03', '2002-10-04'],\n              dtype='datetime64[ns]', length=1100, freq='D')"
     },
     "execution_count": 151,
     "metadata": {},
     "output_type": "execute_result"
    }
   ],
   "source": [
    "index"
   ],
   "metadata": {
    "collapsed": false
   }
  },
  {
   "cell_type": "code",
   "execution_count": 152,
   "outputs": [
    {
     "data": {
      "text/plain": "DatetimeIndex(['2013-01-01', '2013-01-02', '2013-01-03', '2013-01-04',\n               '2013-01-05', '2013-01-06'],\n              dtype='datetime64[ns]', freq='D')"
     },
     "execution_count": 152,
     "metadata": {},
     "output_type": "execute_result"
    },
    {
     "data": {
      "text/plain": "DatetimeIndex(['2023-01-01', '2023-01-02', '2023-01-03', '2023-01-04',\n               '2023-01-05', '2023-01-06'],\n              dtype='datetime64[ns]', freq='D')"
     },
     "execution_count": 152,
     "metadata": {},
     "output_type": "execute_result"
    }
   ],
   "source": [
    "date1 = pd.date_range(\"20130101\", periods=6)\n",
    "date2 = pd.date_range(\"1/1/2023\", periods=6)\n",
    "date1\n",
    "date2"
   ],
   "metadata": {
    "collapsed": false
   }
  },
  {
   "cell_type": "code",
   "execution_count": 156,
   "outputs": [
    {
     "data": {
      "text/plain": "array([-2.08474492,  0.33154891, -3.78956105,  0.42948368])"
     },
     "execution_count": 156,
     "metadata": {},
     "output_type": "execute_result"
    }
   ],
   "source": [
    "np.random.randn(4)"
   ],
   "metadata": {
    "collapsed": false
   }
  },
  {
   "cell_type": "code",
   "execution_count": null,
   "outputs": [],
   "source": [],
   "metadata": {
    "collapsed": false
   }
  },
  {
   "cell_type": "code",
   "execution_count": 157,
   "outputs": [
    {
     "data": {
      "text/plain": "     A    B\n0  1.0  NaN\n1  NaN  2.0\n2  3.0  3.0\n3  5.0  NaN\n4  NaN  6.0",
      "text/html": "<div>\n<style scoped>\n    .dataframe tbody tr th:only-of-type {\n        vertical-align: middle;\n    }\n\n    .dataframe tbody tr th {\n        vertical-align: top;\n    }\n\n    .dataframe thead th {\n        text-align: right;\n    }\n</style>\n<table border=\"1\" class=\"dataframe\">\n  <thead>\n    <tr style=\"text-align: right;\">\n      <th></th>\n      <th>A</th>\n      <th>B</th>\n    </tr>\n  </thead>\n  <tbody>\n    <tr>\n      <th>0</th>\n      <td>1.0</td>\n      <td>NaN</td>\n    </tr>\n    <tr>\n      <th>1</th>\n      <td>NaN</td>\n      <td>2.0</td>\n    </tr>\n    <tr>\n      <th>2</th>\n      <td>3.0</td>\n      <td>3.0</td>\n    </tr>\n    <tr>\n      <th>3</th>\n      <td>5.0</td>\n      <td>NaN</td>\n    </tr>\n    <tr>\n      <th>4</th>\n      <td>NaN</td>\n      <td>6.0</td>\n    </tr>\n  </tbody>\n</table>\n</div>"
     },
     "execution_count": 157,
     "metadata": {},
     "output_type": "execute_result"
    },
    {
     "data": {
      "text/plain": "     A    B\n0  5.0  NaN\n1  2.0  NaN\n2  4.0  3.0\n3  NaN  4.0\n4  3.0  6.0\n5  7.0  8.0",
      "text/html": "<div>\n<style scoped>\n    .dataframe tbody tr th:only-of-type {\n        vertical-align: middle;\n    }\n\n    .dataframe tbody tr th {\n        vertical-align: top;\n    }\n\n    .dataframe thead th {\n        text-align: right;\n    }\n</style>\n<table border=\"1\" class=\"dataframe\">\n  <thead>\n    <tr style=\"text-align: right;\">\n      <th></th>\n      <th>A</th>\n      <th>B</th>\n    </tr>\n  </thead>\n  <tbody>\n    <tr>\n      <th>0</th>\n      <td>5.0</td>\n      <td>NaN</td>\n    </tr>\n    <tr>\n      <th>1</th>\n      <td>2.0</td>\n      <td>NaN</td>\n    </tr>\n    <tr>\n      <th>2</th>\n      <td>4.0</td>\n      <td>3.0</td>\n    </tr>\n    <tr>\n      <th>3</th>\n      <td>NaN</td>\n      <td>4.0</td>\n    </tr>\n    <tr>\n      <th>4</th>\n      <td>3.0</td>\n      <td>6.0</td>\n    </tr>\n    <tr>\n      <th>5</th>\n      <td>7.0</td>\n      <td>8.0</td>\n    </tr>\n  </tbody>\n</table>\n</div>"
     },
     "execution_count": 157,
     "metadata": {},
     "output_type": "execute_result"
    }
   ],
   "source": [
    "df1 = pd.DataFrame(\n",
    "    {\"A\": [1.0, np.nan, 3.0, 5.0, np.nan], \"B\": [np.nan, 2.0, 3.0, np.nan, 6.0]}\n",
    ")\n",
    "df2 = pd.DataFrame(\n",
    "    {\n",
    "        \"A\": [5.0, 2.0, 4.0, np.nan, 3.0, 7.0],\n",
    "        \"B\": [np.nan, np.nan, 3.0, 4.0, 6.0, 8.0],\n",
    "    }\n",
    ")\n",
    "df1\n",
    "df2"
   ],
   "metadata": {
    "collapsed": false
   }
  },
  {
   "cell_type": "code",
   "execution_count": 159,
   "outputs": [
    {
     "data": {
      "text/plain": "     A    B\n0  1.0  NaN\n1  2.0  2.0\n2  3.0  3.0\n3  5.0  4.0\n4  3.0  6.0\n5  7.0  8.0",
      "text/html": "<div>\n<style scoped>\n    .dataframe tbody tr th:only-of-type {\n        vertical-align: middle;\n    }\n\n    .dataframe tbody tr th {\n        vertical-align: top;\n    }\n\n    .dataframe thead th {\n        text-align: right;\n    }\n</style>\n<table border=\"1\" class=\"dataframe\">\n  <thead>\n    <tr style=\"text-align: right;\">\n      <th></th>\n      <th>A</th>\n      <th>B</th>\n    </tr>\n  </thead>\n  <tbody>\n    <tr>\n      <th>0</th>\n      <td>1.0</td>\n      <td>NaN</td>\n    </tr>\n    <tr>\n      <th>1</th>\n      <td>2.0</td>\n      <td>2.0</td>\n    </tr>\n    <tr>\n      <th>2</th>\n      <td>3.0</td>\n      <td>3.0</td>\n    </tr>\n    <tr>\n      <th>3</th>\n      <td>5.0</td>\n      <td>4.0</td>\n    </tr>\n    <tr>\n      <th>4</th>\n      <td>3.0</td>\n      <td>6.0</td>\n    </tr>\n    <tr>\n      <th>5</th>\n      <td>7.0</td>\n      <td>8.0</td>\n    </tr>\n  </tbody>\n</table>\n</div>"
     },
     "execution_count": 159,
     "metadata": {},
     "output_type": "execute_result"
    }
   ],
   "source": [
    "df1.combine_first(df2)"
   ],
   "metadata": {
    "collapsed": false
   }
  },
  {
   "cell_type": "code",
   "execution_count": 160,
   "outputs": [
    {
     "data": {
      "text/plain": "     A    B\n0  1.0  NaN\n1  2.0  2.0\n2  3.0  3.0\n3  5.0  4.0\n4  3.0  6.0\n5  7.0  8.0",
      "text/html": "<div>\n<style scoped>\n    .dataframe tbody tr th:only-of-type {\n        vertical-align: middle;\n    }\n\n    .dataframe tbody tr th {\n        vertical-align: top;\n    }\n\n    .dataframe thead th {\n        text-align: right;\n    }\n</style>\n<table border=\"1\" class=\"dataframe\">\n  <thead>\n    <tr style=\"text-align: right;\">\n      <th></th>\n      <th>A</th>\n      <th>B</th>\n    </tr>\n  </thead>\n  <tbody>\n    <tr>\n      <th>0</th>\n      <td>1.0</td>\n      <td>NaN</td>\n    </tr>\n    <tr>\n      <th>1</th>\n      <td>2.0</td>\n      <td>2.0</td>\n    </tr>\n    <tr>\n      <th>2</th>\n      <td>3.0</td>\n      <td>3.0</td>\n    </tr>\n    <tr>\n      <th>3</th>\n      <td>5.0</td>\n      <td>4.0</td>\n    </tr>\n    <tr>\n      <th>4</th>\n      <td>3.0</td>\n      <td>6.0</td>\n    </tr>\n    <tr>\n      <th>5</th>\n      <td>7.0</td>\n      <td>8.0</td>\n    </tr>\n  </tbody>\n</table>\n</div>"
     },
     "execution_count": 160,
     "metadata": {},
     "output_type": "execute_result"
    }
   ],
   "source": [
    "def combiner(x, y):\n",
    "    return np.where(pd.isna(x), y, x)\n",
    "df1.combine(df2, combiner)"
   ],
   "metadata": {
    "collapsed": false
   }
  },
  {
   "cell_type": "code",
   "execution_count": 167,
   "outputs": [
    {
     "data": {
      "text/plain": "2"
     },
     "execution_count": 167,
     "metadata": {},
     "output_type": "execute_result"
    }
   ],
   "source": [
    "df.A.nunique()"
   ],
   "metadata": {
    "collapsed": false
   }
  },
  {
   "cell_type": "code",
   "execution_count": 171,
   "outputs": [
    {
     "data": {
      "text/plain": "     A    B\n0  1.0  NaN\n1  NaN  2.0\n2  3.0  3.0\n3  5.0  NaN\n4  NaN  6.0",
      "text/html": "<div>\n<style scoped>\n    .dataframe tbody tr th:only-of-type {\n        vertical-align: middle;\n    }\n\n    .dataframe tbody tr th {\n        vertical-align: top;\n    }\n\n    .dataframe thead th {\n        text-align: right;\n    }\n</style>\n<table border=\"1\" class=\"dataframe\">\n  <thead>\n    <tr style=\"text-align: right;\">\n      <th></th>\n      <th>A</th>\n      <th>B</th>\n    </tr>\n  </thead>\n  <tbody>\n    <tr>\n      <th>0</th>\n      <td>1.0</td>\n      <td>NaN</td>\n    </tr>\n    <tr>\n      <th>1</th>\n      <td>NaN</td>\n      <td>2.0</td>\n    </tr>\n    <tr>\n      <th>2</th>\n      <td>3.0</td>\n      <td>3.0</td>\n    </tr>\n    <tr>\n      <th>3</th>\n      <td>5.0</td>\n      <td>NaN</td>\n    </tr>\n    <tr>\n      <th>4</th>\n      <td>NaN</td>\n      <td>6.0</td>\n    </tr>\n  </tbody>\n</table>\n</div>"
     },
     "execution_count": 171,
     "metadata": {},
     "output_type": "execute_result"
    }
   ],
   "source": [
    "df1"
   ],
   "metadata": {
    "collapsed": false
   }
  },
  {
   "cell_type": "code",
   "execution_count": 174,
   "outputs": [
    {
     "data": {
      "text/plain": "A    0\nB    1\ndtype: int64"
     },
     "execution_count": 174,
     "metadata": {},
     "output_type": "execute_result"
    },
    {
     "data": {
      "text/plain": "0    A\n1    B\n2    A\n3    A\n4    B\ndtype: object"
     },
     "execution_count": 174,
     "metadata": {},
     "output_type": "execute_result"
    }
   ],
   "source": [
    "df1.idxmin()\n",
    "df1.idxmin(axis=1)"
   ],
   "metadata": {
    "collapsed": false
   }
  }
 ],
 "metadata": {
  "kernelspec": {
   "display_name": "Python 3",
   "language": "python",
   "name": "python3"
  },
  "language_info": {
   "codemirror_mode": {
    "name": "ipython",
    "version": 2
   },
   "file_extension": ".py",
   "mimetype": "text/x-python",
   "name": "python",
   "nbconvert_exporter": "python",
   "pygments_lexer": "ipython2",
   "version": "2.7.6"
  }
 },
 "nbformat": 4,
 "nbformat_minor": 0
}
