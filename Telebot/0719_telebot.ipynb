{
 "cells": [
  {
   "cell_type": "code",
   "execution_count": 1,
   "metadata": {
    "collapsed": true
   },
   "outputs": [
    {
     "data": {
      "text/plain": "<telebot.types.User at 0x1ade8fe5e70>"
     },
     "execution_count": 1,
     "metadata": {},
     "output_type": "execute_result"
    }
   ],
   "source": [
    "import telebot\n",
    "bot_0719 = telebot.TeleBot(\"6377312623:AAGz3ZSMVswWq0QVlihRPklw8b7skSBP16Y\", parse_mode=None)\n",
    "bot_0719.get_me()"
   ]
  },
  {
   "cell_type": "code",
   "execution_count": 2,
   "outputs": [
    {
     "data": {
      "text/plain": "<telebot.types.Message at 0x1ad9c9cf610>"
     },
     "execution_count": 2,
     "metadata": {},
     "output_type": "execute_result"
    }
   ],
   "source": [
    "bot_0719.send_message(-677235937,'我是 bot_0719')"
   ],
   "metadata": {
    "collapsed": false
   }
  },
  {
   "cell_type": "code",
   "execution_count": 6,
   "outputs": [
    {
     "data": {
      "text/plain": "<telebot.types.Message at 0x1ada31fc7c0>"
     },
     "execution_count": 6,
     "metadata": {},
     "output_type": "execute_result"
    }
   ],
   "source": [
    "bot_0719.send_document(-677235937, open(r\"C:\\Data\\r_file\\R-project-1212\\iris1.r\", 'rb'), timeout=2000)"
   ],
   "metadata": {
    "collapsed": false
   }
  },
  {
   "cell_type": "code",
   "execution_count": 7,
   "outputs": [
    {
     "data": {
      "text/plain": "<telebot.types.Message at 0x1ada34331c0>"
     },
     "execution_count": 7,
     "metadata": {},
     "output_type": "execute_result"
    }
   ],
   "source": [
    "bot_0719.send_photo(-677235937,open(r\"C:\\Data\\r_file\\R-project-1212\\pic.jpg\",'rb'),timeout=1000)"
   ],
   "metadata": {
    "collapsed": false
   }
  },
  {
   "cell_type": "code",
   "execution_count": 8,
   "outputs": [
    {
     "data": {
      "text/plain": "<telebot.types.Message at 0x1ada34a42b0>"
     },
     "execution_count": 8,
     "metadata": {},
     "output_type": "execute_result"
    }
   ],
   "source": [
    "bot_0719.send_video(-677235937,open(r\"C:\\Users\\fzh00\\Desktop\\测试视频.mp4\",'rb'),timeout=1000)"
   ],
   "metadata": {
    "collapsed": false
   }
  },
  {
   "cell_type": "code",
   "execution_count": 10,
   "outputs": [
    {
     "name": "stdout",
     "output_type": "stream",
     "text": [
      "{\"ok\":false,\"error_code\":400,\"description\":\"Bad Request: invalid file HTTP URL specified: Wrong port number specified in the URL\"}\n"
     ]
    },
    {
     "name": "stderr",
     "output_type": "stream",
     "text": [
      "* IDN support not present, can't parse Unicode domains\n",
      "  % Total    % Received % Xferd  Average Speed   Time    Time     Time  Current\n",
      "                                 Dload  Upload   Total   Spent    Left  Speed\n",
      "\n",
      "  0     0    0     0    0     0      0      0 --:--:-- --:--:-- --:--:--     0* Could not resolve host: Excel基础操作\\1.4\n",
      "* Closing connection 0\n",
      "curl: (6) Could not resolve host: Excel基础操作\\1.4\n",
      "* IDN support not present, can't parse Unicode domains\n",
      "  % Total    % Received % Xferd  Average Speed   Time    Time     Time  Current\n",
      "                                 Dload  Upload   Total   Spent    Left  Speed\n",
      "\n",
      "  0     0    0     0    0     0      0      0 --:--:-- --:--:-- --:--:--     0* Could not resolve host: 图表.xlsx\n",
      "* Closing connection 1\n",
      "curl: (6) Could not resolve host: 图表.xlsx\n",
      "  % Total    % Received % Xferd  Average Speed   Time    Time     Time  Current\n",
      "                                 Dload  Upload   Total   Spent    Left  Speed\n",
      "\n",
      "  0     0    0     0    0     0      0      0 --:--:-- --:--:-- --:--:--     0*   Trying 149.154.167.220:443...\n",
      "\n",
      "  0     0    0     0    0     0      0      0 --:--:-- --:--:-- --:--:--     0\n",
      "  0     0    0     0    0     0      0      0 --:--:--  0:00:01 --:--:--     0\n",
      "  0     0    0     0    0     0      0      0 --:--:--  0:00:02 --:--:--     0\n",
      "  0     0    0     0    0     0      0      0 --:--:--  0:00:03 --:--:--     0* Connected to api.telegram.org (149.154.167.220) port 443 (#2)\n",
      "* schannel: disabled automatic use of client certificate\n",
      "* schannel: ALPN, offering http/1.1\n",
      "\n",
      "  0     0    0     0    0     0      0      0 --:--:--  0:00:04 --:--:--     0\n",
      "  0     0    0     0    0     0      0      0 --:--:--  0:00:05 --:--:--     0\n",
      "  0     0    0     0    0     0      0      0 --:--:--  0:00:06 --:--:--     0* schannel: ALPN, server accepted to use http/1.1\n",
      "> POST /bot6377312623:AAGz3ZSMVswWq0QVlihRPklw8b7skSBP16Y/sendDocument HTTP/1.1\n",
      "\n",
      "> Host: api.telegram.org\n",
      "\n",
      "> User-Agent: curl/7.78.0\n",
      "\n",
      "> Accept: */*\n",
      "\n",
      "> Content-Length: 285\n",
      "\n",
      "> Content-Type: multipart/form-data; boundary=------------------------483ddc4bdfc17de1\n",
      "\n",
      "> \n",
      "\n",
      "} [285 bytes data]\n",
      "* We are completely uploaded and fine\n",
      "* Mark bundle as not supporting multiuse\n",
      "< HTTP/1.1 400 Bad Request\n",
      "\n",
      "< Server: nginx/1.18.0\n",
      "\n",
      "< Date: Wed, 19 Jul 2023 06:39:15 GMT\n",
      "\n",
      "< Content-Type: application/json\n",
      "\n",
      "< Content-Length: 130\n",
      "\n",
      "< Connection: keep-alive\n",
      "\n",
      "< Strict-Transport-Security: max-age=31536000; includeSubDomains; preload\n",
      "\n",
      "< Access-Control-Allow-Origin: *\n",
      "\n",
      "< Access-Control-Expose-Headers: Content-Length,Content-Type,Date,Server,Connection\n",
      "\n",
      "< \n",
      "\n",
      "{ [130 bytes data]\n",
      "\n",
      "100   415  100   130  100   285     16     36  0:00:08  0:00:07  0:00:01    75\n",
      "100   415  100   130  100   285     16     36  0:00:08  0:00:07  0:00:01    92\n",
      "* Connection #2 to host api.telegram.org left intact\n"
     ]
    }
   ],
   "source": [
    "!curl -v -F \"chat_id=-677235937\" -F document=C:\\Users\\fzh00\\Desktop\\文件\\excel\\1. Excel基础操作\\1.4 图表.xlsx https://api.telegram.org/bot6377312623:AAGz3ZSMVswWq0QVlihRPklw8b7skSBP16Y/sendDocument"
   ],
   "metadata": {
    "collapsed": false
   }
  },
  {
   "cell_type": "code",
   "execution_count": null,
   "outputs": [],
   "source": [
    "# curl -s -X POST https://api.telegram.org/bot6377312623:AAGz3ZSMVswWq0QVlihRPklw8b7skSBP16Y/sendMessage -d chat_id=$-677235937 -d text=\"命令行方式发送\"\n",
    "# success"
   ],
   "metadata": {
    "collapsed": false
   }
  },
  {
   "cell_type": "code",
   "execution_count": 9,
   "outputs": [
    {
     "name": "stdout",
     "output_type": "stream",
     "text": [
      "{\"ok\":false,\"error_code\":400,\"description\":\"Bad Request: chat not found\"}\n"
     ]
    }
   ],
   "source": [
    "!curl -s -X POST https://api.telegram.org/bot6377312623:AAGz3ZSMVswWq0QVlihRPklw8b7skSBP16Y/sendDocument -d chat_id=$-677235937 -d document=C:\\Data\\r_file\\R-project-1212\\diamond.csv"
   ],
   "metadata": {
    "collapsed": false
   }
  },
  {
   "cell_type": "code",
   "execution_count": 3,
   "outputs": [
    {
     "data": {
      "text/plain": "<telebot.types.User at 0x1e8e1798700>"
     },
     "execution_count": 3,
     "metadata": {},
     "output_type": "execute_result"
    }
   ],
   "source": [
    "import telebot\n",
    "bot=telebot.TeleBot(\"6377312623:AAGz3ZSMVswWq0QVlihRPklw8b7skSBP16Y\", parse_mode=None)\n",
    "bot.get_me()"
   ],
   "metadata": {
    "collapsed": false
   }
  },
  {
   "cell_type": "code",
   "execution_count": 4,
   "outputs": [
    {
     "data": {
      "text/plain": "<telebot.types.Message at 0x1e8e1b74a90>"
     },
     "execution_count": 4,
     "metadata": {},
     "output_type": "execute_result"
    }
   ],
   "source": [
    "bot.send_photo(-677235937,open(r\"C:\\Users\\fzh00\\Desktop\\IMG_0498(20230516-171552).JPG\",'rb'),timeout=1000)"
   ],
   "metadata": {
    "collapsed": false
   }
  }
 ],
 "metadata": {
  "kernelspec": {
   "name": "cda_python",
   "language": "python",
   "display_name": "cda_python"
  },
  "language_info": {
   "codemirror_mode": {
    "name": "ipython",
    "version": 2
   },
   "file_extension": ".py",
   "mimetype": "text/x-python",
   "name": "python",
   "nbconvert_exporter": "python",
   "pygments_lexer": "ipython2",
   "version": "2.7.6"
  }
 },
 "nbformat": 4,
 "nbformat_minor": 0
}
