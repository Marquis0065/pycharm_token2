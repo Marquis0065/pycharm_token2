{
 "cells": [
  {
   "cell_type": "code",
   "execution_count": 1,
   "metadata": {
    "collapsed": true
   },
   "outputs": [
    {
     "name": "stderr",
     "output_type": "stream",
     "text": [
      "C:\\Users\\fzh00\\AppData\\Local\\Temp\\ipykernel_15252\\588655672.py:14: RuntimeWarning: coroutine 'TelegramBaseClient.connect' was never awaited\n",
      "  client.connect()\n",
      "RuntimeWarning: Enable tracemalloc to get the object allocation traceback\n",
      "C:\\Users\\fzh00\\AppData\\Local\\Temp\\ipykernel_15252\\588655672.py:17: RuntimeWarning: coroutine 'UserMethods.is_user_authorized' was never awaited\n",
      "  if not client.is_user_authorized():\n",
      "RuntimeWarning: Enable tracemalloc to get the object allocation traceback\n",
      "C:\\Users\\fzh00\\AppData\\Local\\Temp\\ipykernel_15252\\588655672.py:27: RuntimeWarning: coroutine 'MessageMethods.send_message' was never awaited\n",
      "  client.send_message(-677235937, '发了一个订单表，请查收', parse_mode='html')\n",
      "RuntimeWarning: Enable tracemalloc to get the object allocation traceback\n",
      "C:\\Users\\fzh00\\AppData\\Local\\Temp\\ipykernel_15252\\588655672.py:28: RuntimeWarning: coroutine 'UploadMethods.send_file' was never awaited\n",
      "  client.send_file(-677235937,open(r\"C:\\Users\\fzh00\\Desktop\\文件\\Mysql\\data\\orders.csv\",'rb'))\n",
      "RuntimeWarning: Enable tracemalloc to get the object allocation traceback\n"
     ]
    },
    {
     "data": {
      "text/plain": "<Future pending cb=[shield.<locals>._outer_done_callback() at C:\\ProgramData\\Anaconda3\\envs\\pythonProject1\\lib\\asyncio\\tasks.py:864]>"
     },
     "execution_count": 1,
     "metadata": {},
     "output_type": "execute_result"
    }
   ],
   "source": [
    "from telethon.tl.types import InputPeerUser, InputPeerChannel\n",
    "from telethon import TelegramClient, sync, events\n",
    "# as said previously, obtain your API ID, API Hash, and Token from Telegram.\n",
    "api_id = '29778012'\n",
    "api_hash = '0014bdcb9a38a91365966a9956f61e6b'\n",
    "token = '6377312623:AAGz3ZSMVswWq0QVlihRPklw8b7skSBP16Y'\n",
    "message = \"api 方法测试\"\n",
    "# phone number\n",
    "phone = '+639272771573'\n",
    "# establishing a telegraph session and\n",
    "# allocating it to a movable client\n",
    "client = TelegramClient('session', api_id, api_hash)\n",
    "# creating the connection and the session\n",
    "client.connect()\n",
    "# If the script is run for the first time, it will prompt you to enter a token, an #OTPSentTo\n",
    "# number, your Telegram ID, or both.\n",
    "if not client.is_user_authorized():\n",
    "    client.send_code_request(phone)\n",
    "    # signing of the client\n",
    "    client.sign_in(phone, input('Enter the code: '))\n",
    "try:\n",
    "    # Use\n",
    "# my user id and access hash as a reference when\n",
    "#using the receiver user-id and access-hash.\n",
    "    receiver = InputPeerUser('user_id', 'user_hash')\n",
    "    # using the Telegram client to send a message\n",
    "    client.send_message(-677235937, '发了一个订单表，请查收', parse_mode='html')\n",
    "    client.send_file(-677235937,open(r\"C:\\Users\\fzh00\\Desktop\\文件\\Mysql\\data\\orders.csv\",'rb'))\n",
    "except Exception as e:\n",
    "    # There may be numerous errors, such as peer\n",
    "    # error, incorrect access hash, flood error, etc.\n",
    "    print(e)\n",
    "# cutting off the Telegram conversation\n",
    "client.disconnect()"
   ]
  }
 ],
 "metadata": {
  "kernelspec": {
   "display_name": "Python 3",
   "language": "python",
   "name": "python3"
  },
  "language_info": {
   "codemirror_mode": {
    "name": "ipython",
    "version": 2
   },
   "file_extension": ".py",
   "mimetype": "text/x-python",
   "name": "python",
   "nbconvert_exporter": "python",
   "pygments_lexer": "ipython2",
   "version": "2.7.6"
  }
 },
 "nbformat": 4,
 "nbformat_minor": 0
}
