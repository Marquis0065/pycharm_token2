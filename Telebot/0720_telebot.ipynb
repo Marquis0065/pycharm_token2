{
 "cells": [
  {
   "cell_type": "code",
   "execution_count": 1,
   "metadata": {
    "collapsed": true
   },
   "outputs": [
    {
     "data": {
      "text/plain": "<telebot.types.Message at 0x1cd636a6410>"
     },
     "execution_count": 1,
     "metadata": {},
     "output_type": "execute_result"
    }
   ],
   "source": [
    "import telebot\n",
    "bot_0720 = telebot.TeleBot(\"6377312623:AAGz3ZSMVswWq0QVlihRPklw8b7skSBP16Y\", parse_mode=None)\n",
    "bot_0720.get_me()\n",
    "bot_0720.send_message(-677235937,'我是 bot_0720')"
   ]
  },
  {
   "cell_type": "code",
   "execution_count": 2,
   "outputs": [
    {
     "data": {
      "text/plain": "<telebot.types.Message at 0x265c41aa250>"
     },
     "execution_count": 2,
     "metadata": {},
     "output_type": "execute_result"
    }
   ],
   "source": [
    "import telebot\n",
    "bot_0720 = telebot.TeleBot(\"6377312623:AAGz3ZSMVswWq0QVlihRPklw8b7skSBP16Y\", parse_mode=None)\n",
    "bot_0720.send_photo(-677235937,open(r\"C:\\Users\\fzh00\\Desktop\\玉龙雪山.PNG\",'rb'),timeout=1000)"
   ],
   "metadata": {
    "collapsed": false
   }
  },
  {
   "cell_type": "code",
   "execution_count": 3,
   "outputs": [
    {
     "data": {
      "text/plain": "<telebot.types.Message at 0x265c54c3c50>"
     },
     "execution_count": 3,
     "metadata": {},
     "output_type": "execute_result"
    }
   ],
   "source": [
    "#  https://x0.ifengimg.com/res/2020/281DB7E8F3D98525C564AE5A44A0EC39064EFF2F_size53_w640_h961.jpeg\n",
    "bot_0720.send_photo(-677235937,'https://x0.ifengimg.com/res/2020/281DB7E8F3D98525C564AE5A44A0EC39064EFF2F_size53_w640_h961.jpeg',timeout=1000)"
   ],
   "metadata": {
    "collapsed": false
   }
  },
  {
   "cell_type": "code",
   "execution_count": 10,
   "outputs": [
    {
     "ename": "AttributeError",
     "evalue": "'int' object has no attribute 'chat'",
     "output_type": "error",
     "traceback": [
      "\u001B[1;31m---------------------------------------------------------------------------\u001B[0m",
      "\u001B[1;31mAttributeError\u001B[0m                            Traceback (most recent call last)",
      "Cell \u001B[1;32mIn[10], line 6\u001B[0m\n\u001B[0;32m      3\u001B[0m \u001B[38;5;129m@bot\u001B[39m\u001B[38;5;241m.\u001B[39mmessage_handler(commands\u001B[38;5;241m=\u001B[39m[\u001B[38;5;124m'\u001B[39m\u001B[38;5;124mstart\u001B[39m\u001B[38;5;124m'\u001B[39m, \u001B[38;5;124m'\u001B[39m\u001B[38;5;124mhelp\u001B[39m\u001B[38;5;124m'\u001B[39m])\n\u001B[0;32m      4\u001B[0m \u001B[38;5;28;01mdef\u001B[39;00m \u001B[38;5;21msend_welcome\u001B[39m(message):\n\u001B[0;32m      5\u001B[0m \tbot\u001B[38;5;241m.\u001B[39mreply_to(message, \u001B[38;5;124m\"\u001B[39m\u001B[38;5;124mHowdy, how are you doing?\u001B[39m\u001B[38;5;124m\"\u001B[39m)\n\u001B[1;32m----> 6\u001B[0m send_welcome(\u001B[38;5;241m-\u001B[39m\u001B[38;5;241m677235937\u001B[39m)\n",
      "Cell \u001B[1;32mIn[10], line 5\u001B[0m, in \u001B[0;36msend_welcome\u001B[1;34m(message)\u001B[0m\n\u001B[0;32m      3\u001B[0m \u001B[38;5;129m@bot\u001B[39m\u001B[38;5;241m.\u001B[39mmessage_handler(commands\u001B[38;5;241m=\u001B[39m[\u001B[38;5;124m'\u001B[39m\u001B[38;5;124mstart\u001B[39m\u001B[38;5;124m'\u001B[39m, \u001B[38;5;124m'\u001B[39m\u001B[38;5;124mhelp\u001B[39m\u001B[38;5;124m'\u001B[39m])\n\u001B[0;32m      4\u001B[0m \u001B[38;5;28;01mdef\u001B[39;00m \u001B[38;5;21msend_welcome\u001B[39m(message):\n\u001B[1;32m----> 5\u001B[0m \tbot\u001B[38;5;241m.\u001B[39mreply_to(message, \u001B[38;5;124m\"\u001B[39m\u001B[38;5;124mHowdy, how are you doing?\u001B[39m\u001B[38;5;124m\"\u001B[39m)\n",
      "File \u001B[1;32mC:\\ProgramData\\Anaconda3\\envs\\telegram\\Lib\\site-packages\\telebot\\__init__.py:4515\u001B[0m, in \u001B[0;36mTeleBot.reply_to\u001B[1;34m(self, message, text, **kwargs)\u001B[0m\n\u001B[0;32m   4500\u001B[0m \u001B[38;5;28;01mdef\u001B[39;00m \u001B[38;5;21mreply_to\u001B[39m(\u001B[38;5;28mself\u001B[39m, message: types\u001B[38;5;241m.\u001B[39mMessage, text: \u001B[38;5;28mstr\u001B[39m, \u001B[38;5;241m*\u001B[39m\u001B[38;5;241m*\u001B[39mkwargs) \u001B[38;5;241m-\u001B[39m\u001B[38;5;241m>\u001B[39m types\u001B[38;5;241m.\u001B[39mMessage:\n\u001B[0;32m   4501\u001B[0m \u001B[38;5;250m    \u001B[39m\u001B[38;5;124;03m\"\"\"\u001B[39;00m\n\u001B[0;32m   4502\u001B[0m \u001B[38;5;124;03m    Convenience function for `send_message(message.chat.id, text, reply_to_message_id=message.message_id, **kwargs)`\u001B[39;00m\n\u001B[0;32m   4503\u001B[0m \u001B[38;5;124;03m    \u001B[39;00m\n\u001B[1;32m   (...)\u001B[0m\n\u001B[0;32m   4513\u001B[0m \u001B[38;5;124;03m    :rtype: :class:`telebot.types.Message`\u001B[39;00m\n\u001B[0;32m   4514\u001B[0m \u001B[38;5;124;03m    \"\"\"\u001B[39;00m\n\u001B[1;32m-> 4515\u001B[0m     \u001B[38;5;28;01mreturn\u001B[39;00m \u001B[38;5;28mself\u001B[39m\u001B[38;5;241m.\u001B[39msend_message(message\u001B[38;5;241m.\u001B[39mchat\u001B[38;5;241m.\u001B[39mid, text, reply_to_message_id\u001B[38;5;241m=\u001B[39mmessage\u001B[38;5;241m.\u001B[39mmessage_id, \u001B[38;5;241m*\u001B[39m\u001B[38;5;241m*\u001B[39mkwargs)\n",
      "\u001B[1;31mAttributeError\u001B[0m: 'int' object has no attribute 'chat'"
     ]
    }
   ],
   "source": [
    "import telebot\n",
    "bot = telebot.TeleBot(\"6377312623:AAGz3ZSMVswWq0QVlihRPklw8b7skSBP16Y\")\n",
    "@bot.message_handler(commands=['start', 'help'])\n",
    "def send_welcome(message):\n",
    "\tbot.reply_to(message, \"Howdy, how are you doing?\")\n",
    "send_welcome()"
   ],
   "metadata": {
    "collapsed": false
   }
  },
  {
   "cell_type": "code",
   "execution_count": 4,
   "outputs": [
    {
     "name": "stderr",
     "output_type": "stream",
     "text": [
      "2023-07-20 16:27:21,017 (__init__.py:966 MainThread) ERROR - TeleBot: \"Infinity polling: polling exited\"\n",
      "2023-07-20 16:27:21,017 (__init__.py:968 MainThread) ERROR - TeleBot: \"Break infinity polling\"\n"
     ]
    }
   ],
   "source": [
    "import telebot\n",
    "from telebot import custom_filters\n",
    "bot = telebot.TeleBot(\"6377312623:AAGz3ZSMVswWq0QVlihRPklw8b7skSBP16Y\")\n",
    "\n",
    "# Handler\n",
    "@bot.message_handler(chat_types=['supergroup'], is_chat_admin=True)\n",
    "def answer_for_admin(message):\n",
    "    bot.send_message(message.chat.id,\"hello my admin\")\n",
    "\n",
    "# Register filter\n",
    "bot.add_custom_filter(custom_filters.IsAdminFilter(bot))\n",
    "bot.infinity_polling()"
   ],
   "metadata": {
    "collapsed": false
   }
  }
 ],
 "metadata": {
  "kernelspec": {
   "name": "telegram",
   "language": "python",
   "display_name": "telegram"
  },
  "language_info": {
   "codemirror_mode": {
    "name": "ipython",
    "version": 2
   },
   "file_extension": ".py",
   "mimetype": "text/x-python",
   "name": "python",
   "nbconvert_exporter": "python",
   "pygments_lexer": "ipython2",
   "version": "2.7.6"
  }
 },
 "nbformat": 4,
 "nbformat_minor": 0
}
