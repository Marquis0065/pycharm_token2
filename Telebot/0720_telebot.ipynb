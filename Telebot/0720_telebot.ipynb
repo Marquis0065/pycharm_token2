{
 "cells": [
  {
   "cell_type": "code",
   "execution_count": 1,
   "metadata": {
    "collapsed": true
   },
   "outputs": [
    {
     "data": {
      "text/plain": "<telebot.types.Message at 0x1cd636a6410>"
     },
     "execution_count": 1,
     "metadata": {},
     "output_type": "execute_result"
    }
   ],
   "source": [
    "import telebot\n",
    "bot_0720 = telebot.TeleBot(\"6377312623:AAGz3ZSMVswWq0QVlihRPklw8b7skSBP16Y\", parse_mode=None)\n",
    "bot_0720.get_me()\n",
    "bot_0720.send_message(-677235937,'我是 bot_0720')"
   ]
  },
  {
   "cell_type": "code",
   "execution_count": 2,
   "outputs": [
    {
     "name": "stdout",
     "output_type": "stream",
     "text": [
      "DataFrame\t MultiIndex\t bot_0720\t pydev_jupyter_vars\t remove_imported_pydev_package\t sys\t telebot\t \n"
     ]
    }
   ],
   "source": [],
   "metadata": {
    "collapsed": false
   }
  }
 ],
 "metadata": {
  "kernelspec": {
   "display_name": "Python 3",
   "language": "python",
   "name": "python3"
  },
  "language_info": {
   "codemirror_mode": {
    "name": "ipython",
    "version": 2
   },
   "file_extension": ".py",
   "mimetype": "text/x-python",
   "name": "python",
   "nbconvert_exporter": "python",
   "pygments_lexer": "ipython2",
   "version": "2.7.6"
  }
 },
 "nbformat": 4,
 "nbformat_minor": 0
}
